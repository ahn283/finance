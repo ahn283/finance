{
 "cells": [
  {
   "cell_type": "markdown",
   "metadata": {},
   "source": [
    "This chapter introduces the [Oanda](https://www.oanda.com/)trading platform for algorithmic trading."
   ]
  },
  {
   "cell_type": "markdown",
   "metadata": {},
   "source": [
    "# Oanda Account\n",
    "\n",
    "The code in this chapter relies on the Python wrapper package `tqqoa`.\n",
    "\n",
    "```\n",
    "pip install --upgrade git+https://github.com/yhilpisch/tpqoa.git\n",
    "```"
   ]
  },
  {
   "cell_type": "code",
   "execution_count": null,
   "metadata": {},
   "outputs": [],
   "source": []
  }
 ],
 "metadata": {
  "language_info": {
   "name": "python"
  }
 },
 "nbformat": 4,
 "nbformat_minor": 2
}
