{
  "cells": [
    {
      "cell_type": "markdown",
      "metadata": {
        "id": "yN2oV3Ji04VX"
      },
      "source": [
        "# Uncertainty and Risk"
      ]
    },
    {
      "cell_type": "markdown",
      "metadata": {
        "id": "pb1Eap851GzX"
      },
      "source": [
        "## Definitions"
      ]
    },
    {
      "cell_type": "markdown",
      "metadata": {
        "id": "Wg1InzUL2PU-"
      },
      "source": [
        "Together the three element $\\{Ω, \\mathcal{F}, \\mathbf{P}\\}$, form a probability space. A probability space is the formal representation for uncetainty in the model economy.\n",
        "\n",
        "- $Ω$ is the state space\n",
        "\n",
        "- $\\mathcal{F}$ is a family set with $\\Omega \\in \\mathcal{F}$\n",
        "\n",
        "- $\\mathbf{P}$ is a probability\n",
        "\n",
        "$\\mathbf{P}$ is fixed, the economy is said to be under risk. If it is known to all agents in the economy, the economy is said to have symmetric information.\n",
        "\n",
        "In general, it is assumed that a financial economy is perfect - no transaction costs, available assets have fixed prices and are available in infinite quantities, everything happens at the speed of light, and agents have complete, symmetric information."
      ]
    },
    {
      "cell_type": "markdown",
      "metadata": {
        "id": "vAJPcYLp5hGN"
      },
      "source": [
        "## Numerical Example"
      ]
    },
    {
      "cell_type": "markdown",
      "metadata": {
        "id": "h_O4G5cg5mNp"
      },
      "source": [
        "Assume now a simple static economy under risk $\\{Ω, \\mathcal{F}, \\mathbf{P}\\}$:\n",
        "\n",
        "- $\\Omega\\equiv \\{u, d\\}$\n",
        "- $\\mathcal{F} ≡ 𝝑(Ω)$\n",
        "- $\\mathbf{P}≡\\{P(\\{u\\})=\\frac{1}{2}, P(\\{d\\})=\\frac{1}{2}\\}$"
      ]
    },
    {
      "cell_type": "markdown",
      "metadata": {
        "id": "RZ8sXwjn7x1m"
      },
      "source": [
        "### Traded assets\n",
        "\n",
        "The first is a risky asset, the stock, with a certain price today at $S_0=10$ and an uncertain payoff tomorrow in the form of the random variable:\n",
        "\n",
        "$$ S_1=\\begin{cases}S_1^u=20 & \\text{if } \\omega=u \\\\\n",
        "S_1^d = 5 & \\text{if } \\omega = d\n",
        "\\end{cases}$$\n",
        "\n",
        "The second is a risk-free asset, the bond, with a certain price today of $B_0=10$ and a certain payoff tomorrow of the following:\n",
        "\n",
        "$$ B_1=\\begin{cases}\n",
        "B_1^u=11 & \\text{if } ω = u \\\\\n",
        "B_1^d=11 & \\text{if } ω = d\n",
        "\\end{cases}$$"
      ]
    },
    {
      "cell_type": "markdown",
      "metadata": {
        "id": "eFFTMRv7IIlk"
      },
      "source": [
        "The model economy can then be written as $\\mathcal{M}^2=(\\{Ω, \\mathcal{F}, \\mathbf{P}\\}, \\mathbb{A})$, where $\\mathbb{A}$ represents the tradable assets in the form of the price vector $M_0=(S_0,B_0)^T$ today and the market payoff matrix tomorrow of the following:\n",
        "\n",
        "$$M_1=\\begin{pmatrix}S_i^u & B_1^u\\\\\n",
        "S_1d & B_1^d\\end{pmatrix}$$"
      ]
    },
    {
      "cell_type": "markdown",
      "metadata": {
        "id": "qJAe0UhDJgnw"
      },
      "source": [
        "### Arbitrrage pricing\n",
        "\n",
        "One can address the problem of deriving the fair value of a European call option on the stock with a strike price of $K=14.5$. The arbitrage-free value of the European call option $C_0$ is derived by replicating the option's payoff $C_1$ through a portfolio $ϕ$ of the stock and the bond."
      ]
    },
    {
      "cell_type": "code",
      "execution_count": 1,
      "metadata": {
        "id": "kCcGBu9Sy9Fw"
      },
      "outputs": [],
      "source": [
        "import numpy as np"
      ]
    },
    {
      "cell_type": "code",
      "execution_count": 2,
      "metadata": {
        "id": "x5xes4AHK0cc"
      },
      "outputs": [],
      "source": [
        "# the price of stock and bond today\n",
        "S0 = 10\n",
        "B0 = 10"
      ]
    },
    {
      "cell_type": "code",
      "execution_count": 3,
      "metadata": {
        "id": "-c1Fwu18K7GQ"
      },
      "outputs": [],
      "source": [
        "# the uncertain payoff of the stock and bond tomorrow\n",
        "S1 = np.array((20, 5))\n",
        "B1 = np.array((11, 11))"
      ]
    },
    {
      "cell_type": "code",
      "execution_count": 4,
      "metadata": {
        "colab": {
          "base_uri": "https://localhost:8080/"
        },
        "id": "dTVe8zbMLKuS",
        "outputId": "5869c6e8-3b77-4ce7-e8b8-0e8852a137d6"
      },
      "outputs": [
        {
          "data": {
            "text/plain": [
              "array([10, 10])"
            ]
          },
          "execution_count": 4,
          "metadata": {},
          "output_type": "execute_result"
        }
      ],
      "source": [
        "# the market price vector\n",
        "M0 = np.array((S0, B0))\n",
        "M0"
      ]
    },
    {
      "cell_type": "code",
      "execution_count": 5,
      "metadata": {
        "colab": {
          "base_uri": "https://localhost:8080/"
        },
        "id": "bEgeWiIyLN4J",
        "outputId": "46d18be1-4385-4017-98aa-c8aa5dfdb731"
      },
      "outputs": [
        {
          "data": {
            "text/plain": [
              "array([[20, 11],\n",
              "       [ 5, 11]])"
            ]
          },
          "execution_count": 5,
          "metadata": {},
          "output_type": "execute_result"
        }
      ],
      "source": [
        "# the market payoff matrix\n",
        "M1 = np.array((S1, B1)).T\n",
        "M1"
      ]
    },
    {
      "cell_type": "code",
      "execution_count": 6,
      "metadata": {
        "id": "paShhBWLLStJ"
      },
      "outputs": [],
      "source": [
        "# the strike price of the option\n",
        "K = 14.5"
      ]
    },
    {
      "cell_type": "code",
      "execution_count": 7,
      "metadata": {
        "colab": {
          "base_uri": "https://localhost:8080/"
        },
        "id": "gCBQ3KaaXLhR",
        "outputId": "4d5cbd31-0793-42a8-eef3-17f6300f3d4b"
      },
      "outputs": [
        {
          "data": {
            "text/plain": [
              "array([5.5, 0. ])"
            ]
          },
          "execution_count": 7,
          "metadata": {},
          "output_type": "execute_result"
        }
      ],
      "source": [
        "# The uncertain payoff the option\n",
        "C1 = np.maximum(S1 - K, 0)\n",
        "C1"
      ]
    },
    {
      "cell_type": "code",
      "execution_count": 8,
      "metadata": {
        "colab": {
          "base_uri": "https://localhost:8080/"
        },
        "id": "6hCRkTU0XPIw",
        "outputId": "07bf55e9-cbeb-4058-d742-505b30bb3e5e"
      },
      "outputs": [
        {
          "data": {
            "text/plain": [
              "array([ 0.36666667, -0.16666667])"
            ]
          },
          "execution_count": 8,
          "metadata": {},
          "output_type": "execute_result"
        }
      ],
      "source": [
        "# the replication portfolio phi\n",
        "phi = np.linalg.solve(M1, C1)\n",
        "phi"
      ]
    },
    {
      "cell_type": "code",
      "execution_count": 9,
      "metadata": {
        "colab": {
          "base_uri": "https://localhost:8080/"
        },
        "id": "x-kXylauXfcp",
        "outputId": "30a898d3-e3ff-4660-b4d3-4e253b74373f"
      },
      "outputs": [
        {
          "data": {
            "text/plain": [
              "True"
            ]
          },
          "execution_count": 9,
          "metadata": {},
          "output_type": "execute_result"
        }
      ],
      "source": [
        "# a check whether its payoff is the same as the option's payoff\n",
        "np.allclose(C1, np.dot(M1, phi))"
      ]
    },
    {
      "cell_type": "code",
      "execution_count": 10,
      "metadata": {
        "colab": {
          "base_uri": "https://localhost:8080/"
        },
        "id": "kpG8yIosX-Oi",
        "outputId": "7539ff69-bfc5-4389-91c5-4f726666b603"
      },
      "outputs": [
        {
          "data": {
            "text/plain": [
              "2.0"
            ]
          },
          "execution_count": 10,
          "metadata": {},
          "output_type": "execute_result"
        }
      ],
      "source": [
        "# the price of the replication portfolio is the arbtrage-free price of the option\n",
        "C0 = np.dot(M0, phi)\n",
        "C0"
      ]
    },
    {
      "cell_type": "markdown",
      "metadata": {
        "id": "ManckeMfYuj4"
      },
      "source": [
        "# Expected Utility Theory"
      ]
    },
    {
      "cell_type": "markdown",
      "metadata": {
        "id": "2wxAy0VaY5DH"
      },
      "source": [
        "## Assumption and Results\n",
        "\n",
        "EUT is an axiomatic theory, dating back to the seminal work of von Neumann and Morgestern."
      ]
    },
    {
      "cell_type": "markdown",
      "metadata": {
        "id": "LfnVZZujZQgr"
      },
      "source": [
        "### Axioms and normative theory\n",
        "\n",
        "\"An axiom is a proposition regarded as self-evidently true without proof\"\n",
        "\n"
      ]
    },
    {
      "cell_type": "markdown",
      "metadata": {
        "id": "Q8j54eYtZ4ZL"
      },
      "source": [
        "### Preference of an agent\n",
        "\n",
        "Completeness\n",
        "\n",
        "- The agent can rank all payoffs relative to one another. One of the following must hold true: $A ≻ B$, $A \\prec B$, $A∼ B$.\n",
        "\n",
        "Transitivity\n",
        "\n",
        "- If there is a third porfolio $\\phi_C$ with future payoff $C=\\phi_C ⋅ M_1$, it follows from $A \\succ B$ and $B \\succ C$ that $A \\succ C$.\n",
        "\n",
        "Continuity\n",
        "\n",
        "- If $ A≻B≻C$, then there exists a number $\\alpha \\in [0, 1]$ such that $B∼ αA + (1-α)C$\n",
        "\n",
        "Independence\n",
        "\n",
        "- From $A∼B$ it follows that $αA+(1-α)C∼αB+(1-α)C$.  Similarly, from $A≻B$ it followa that $αA + (1-α)C ≻ αB + (1-α)C$.\n",
        "\n",
        "Dominance\n",
        "\n",
        "- If $C_1=α_1A+(1-α_1)C$ and $C_2=α_2A+(1-α_2)C$. it follows from $A≻C$ and $C_1\\succ C_2$ that $α_1 > α_2$."
      ]
    },
    {
      "cell_type": "markdown",
      "metadata": {
        "id": "ejmHair6lPGu"
      },
      "source": [
        "### Utility functions\n",
        "\n",
        "$$U:\\mathbb{X} → \\mathbb{R}_{+}, x ↦ U(x)$$"
      ]
    },
    {
      "cell_type": "markdown",
      "metadata": {
        "id": "cFbQ-_ZRnP-E"
      },
      "source": [
        "### Expected utility functions\n",
        "\n",
        "Von Neumann and Morgenstern show that if the preference of an agent satisfy the precdeing five axioms, then there exists an expeted utility function of the form:\n",
        "\n",
        "$$U: \\mathbb{X} → \\mathbb{R}_{+}, x \\mapsto E^P(u(x))=\\sum_{ω}^{Ω}P(ω)u(x(ω))$$\n",
        "\n",
        "$u:\\mathbb{R}→\\mathbb{R}, x↦u(x)$ is monotonically increasing, state-independent function, often called Bernoulli utility, such as $u(x)=\\ln(x), u(x)=x$, or $u(x)=x^2$."
      ]
    },
    {
      "cell_type": "markdown",
      "metadata": {
        "id": "pbVJtOlOuaAs"
      },
      "source": [
        "### Risk aversion\n",
        "\n",
        "Arrow-Pratt measure ARA (absolute risk aversion) is defined by the following:\n",
        "$$ARA(x)=-\\frac{u''(x)}{u'(x)}, x≥0$$\n",
        "$$ARA(x)=-\\frac{u''(x)}{u'(x)}\\begin{cases}\n",
        ">0 & \\text{risk-averse}\\\\\n",
        "=0 & \\text{risk-neutral}\\\\\n",
        "<0 & \\text{risk-loving}\n",
        "\\end{cases}\n",
        "$$\n",
        "\n",
        "- Risk-averse : $u(x)=\\ln x$\n",
        "- Risk-neutral: $u(x)=x$\n",
        "- Risk-loving: $u(x)=x^2$"
      ]
    },
    {
      "cell_type": "markdown",
      "metadata": {
        "id": "4PZQZ9ahwDDt"
      },
      "source": [
        "## Numerical Example"
      ]
    },
    {
      "cell_type": "code",
      "execution_count": 11,
      "metadata": {
        "id": "lLZWtkVLYUoa"
      },
      "outputs": [],
      "source": [
        "# the risk-averse Bernoulli utility function\n",
        "def u(x):\n",
        "    return np.sqrt(x)"
      ]
    },
    {
      "cell_type": "code",
      "execution_count": 12,
      "metadata": {
        "id": "OlG13YX3wQ43"
      },
      "outputs": [],
      "source": [
        "# two portfolios with different weights\n",
        "\n",
        "phi_A = np.array((0.75, 0.25))\n",
        "phi_D = np.array((0.25, 0.75))"
      ]
    },
    {
      "cell_type": "code",
      "execution_count": 13,
      "metadata": {
        "colab": {
          "base_uri": "https://localhost:8080/"
        },
        "id": "E4PiOeEFwZ0g",
        "outputId": "b056ec71-f130-4f47-fcaf-311469d90da5"
      },
      "outputs": [
        {
          "data": {
            "text/plain": [
              "True"
            ]
          },
          "execution_count": 13,
          "metadata": {},
          "output_type": "execute_result"
        }
      ],
      "source": [
        "# shows the cost to set up each portfolio is the same\n",
        "np.dot(M0, phi_A) == np.dot(M0, phi_D)"
      ]
    },
    {
      "cell_type": "code",
      "execution_count": 14,
      "metadata": {
        "colab": {
          "base_uri": "https://localhost:8080/"
        },
        "id": "irQO8HEJwjTu",
        "outputId": "32317bbf-8b56-4148-ed18-c9f47b950c76"
      },
      "outputs": [
        {
          "data": {
            "text/plain": [
              "array([17.75,  6.5 ])"
            ]
          },
          "execution_count": 14,
          "metadata": {},
          "output_type": "execute_result"
        }
      ],
      "source": [
        "# the uncertain payoff of portfolio A\n",
        "A1 = np.dot(M1, phi_A)\n",
        "A1"
      ]
    },
    {
      "cell_type": "code",
      "execution_count": 15,
      "metadata": {
        "colab": {
          "base_uri": "https://localhost:8080/"
        },
        "id": "YMH8XtGbwq0s",
        "outputId": "487927f0-24f6-423f-ed2e-8d3da407f837"
      },
      "outputs": [
        {
          "data": {
            "text/plain": [
              "array([13.25,  9.5 ])"
            ]
          },
          "execution_count": 15,
          "metadata": {},
          "output_type": "execute_result"
        }
      ],
      "source": [
        "# the uncertain payoff of portfolio D\n",
        "D1 = np.dot(M1, phi_D)\n",
        "D1"
      ]
    },
    {
      "cell_type": "code",
      "execution_count": 16,
      "metadata": {
        "id": "5OcGwBwCwwxF"
      },
      "outputs": [],
      "source": [
        "# the probability measure\n",
        "P = np.array((0.5, 0.5))"
      ]
    },
    {
      "cell_type": "code",
      "execution_count": 17,
      "metadata": {
        "id": "g9SEztdsw2rl"
      },
      "outputs": [],
      "source": [
        "# the expected utility function\n",
        "def EUT(x):\n",
        "    return np.dot(P, u(x))"
      ]
    },
    {
      "cell_type": "code",
      "execution_count": 18,
      "metadata": {
        "colab": {
          "base_uri": "https://localhost:8080/"
        },
        "id": "3KZyB1DNwhge",
        "outputId": "95080852-026b-42db-d748-613435c82173"
      },
      "outputs": [
        {
          "data": {
            "text/plain": [
              "3.381292321692286"
            ]
          },
          "execution_count": 18,
          "metadata": {},
          "output_type": "execute_result"
        }
      ],
      "source": [
        "# the utility values for the two uncertrain payoffs\n",
        "EUT(A1)"
      ]
    },
    {
      "cell_type": "code",
      "execution_count": 19,
      "metadata": {
        "colab": {
          "base_uri": "https://localhost:8080/"
        },
        "id": "d_9Dxud_xHRk",
        "outputId": "28c39da2-853c-49ec-f432-cfe2ad03810a"
      },
      "outputs": [
        {
          "data": {
            "text/plain": [
              "3.3611309730623735"
            ]
          },
          "execution_count": 19,
          "metadata": {},
          "output_type": "execute_result"
        }
      ],
      "source": [
        "EUT(D1)"
      ]
    },
    {
      "cell_type": "code",
      "execution_count": 20,
      "metadata": {
        "id": "FtRHiSaBxTfA"
      },
      "outputs": [],
      "source": [
        "# Optimal portfolio\n",
        "\n",
        "from scipy.optimize import minimize"
      ]
    },
    {
      "cell_type": "code",
      "execution_count": 21,
      "metadata": {
        "id": "xkYQAMDwxhLP"
      },
      "outputs": [],
      "source": [
        "# the fixed budge of the agent\n",
        "w = 10"
      ]
    },
    {
      "cell_type": "code",
      "execution_count": 22,
      "metadata": {
        "id": "S_fPasr2xleK"
      },
      "outputs": [],
      "source": [
        "# the budget constraint of use with minimize\n",
        "cons = {'type': 'eq', 'fun': lambda phi: np.dot(M0, phi) - w}"
      ]
    },
    {
      "cell_type": "code",
      "execution_count": 23,
      "metadata": {
        "id": "fADZM7oSxvqq"
      },
      "outputs": [],
      "source": [
        "def EUT_(phi):\n",
        "    # the expected utility function defined over portfolios\n",
        "    x = np.dot(M1, phi)\n",
        "    return EUT(x)"
      ]
    },
    {
      "cell_type": "code",
      "execution_count": 24,
      "metadata": {
        "colab": {
          "base_uri": "https://localhost:8080/"
        },
        "id": "6OwbqV1wx8xC",
        "outputId": "2a5fcf96-0039-455f-d2f1-63a5a7791ac9"
      },
      "outputs": [
        {
          "data": {
            "text/plain": [
              " message: Optimization terminated successfully\n",
              " success: True\n",
              "  status: 0\n",
              "     fun: -3.3850159994933975\n",
              "       x: [ 6.112e-01  3.888e-01]\n",
              "     nit: 4\n",
              "     jac: [-1.692e+00 -1.693e+00]\n",
              "    nfev: 12\n",
              "    njev: 4"
            ]
          },
          "execution_count": 24,
          "metadata": {},
          "output_type": "execute_result"
        }
      ],
      "source": [
        "opt = minimize(\n",
        "    # miniming -EUT_(phi) maximizes EUT_(phi)\n",
        "    lambda phi: -EUT_(phi),\n",
        "    # the initial guess for the optimization\n",
        "    x0=phi_A,\n",
        "    # the budget contraint applied\n",
        "    constraints=cons\n",
        ")\n",
        "\n",
        "opt"
      ]
    },
    {
      "cell_type": "code",
      "execution_count": 25,
      "metadata": {
        "colab": {
          "base_uri": "https://localhost:8080/"
        },
        "id": "Gx1Toph1yXgp",
        "outputId": "7800f014-0876-425f-d797-c43ed7644c2d"
      },
      "outputs": [
        {
          "data": {
            "text/plain": [
              "3.3850159994933975"
            ]
          },
          "execution_count": 25,
          "metadata": {},
          "output_type": "execute_result"
        }
      ],
      "source": [
        "EUT_(opt['x'])"
      ]
    },
    {
      "cell_type": "markdown",
      "metadata": {
        "id": "yAnbTQwCzQ11"
      },
      "source": [
        "# Mean-Varince Portfolio Theory\n",
        "\n"
      ]
    },
    {
      "cell_type": "markdown",
      "metadata": {
        "id": "ozuwskiAzyQZ"
      },
      "source": [
        "## Assumptions and Results\n",
        "\n",
        "The central assumption of MVP is that investors only care about expected returns and the variance of these returns."
      ]
    },
    {
      "cell_type": "markdown",
      "metadata": {
        "id": "vwEhawf60KUG"
      },
      "source": [
        "### Portfolio statistics\n",
        "\n",
        "$$\\mathbb{M}^N=(\\{Ω, \\mathcal{F}, \\mathbf{P}\\}, \\mathbb{A})$$\n",
        "\n",
        "- $\\mathbb{A}$ consists of $N$ risky assets, $A^1, A^2, ..., A^N$.\n",
        "- With $A_0^n$ being the fixed price of asset $n$ today and $A_1^n$ being its payoff in one year.\n",
        "- The net return $r^n$ of asset $n$ is defined as $r^n=\\frac{A_1^n}{A_0^n}-1$\n",
        "\n",
        "For all future states having the same probability to unfold, the expected return of asset $n$ is given by:\n",
        "\n",
        "$$ \\mu^n=\\frac{1}{|Ω|\\sum_{\\omega}^Ω r^n(\\omega)}$$\n",
        "\n",
        "The vector of expected returns is given by the following:\n",
        "\n",
        "$$\\mu=\\begin{bmatrix}\n",
        "\\mu^1\\\\\n",
        "\\mu^2\\\\\n",
        "\\mu^3\\\\\n",
        "\\vdots\n",
        "\\mu^N\n",
        "\\end{bmatrix}$$\n",
        "\n",
        "A portfolio vector $\\phi=(\\phi^1, \\phi^2, \\phi^3, ..., \\phi^N)^T$, with $\\phi_n\\ge0$ and $\\sum_n^N\\phi^n=1$.\n",
        "\n",
        "The expected return of the porfolio is given by:\n",
        "\n",
        "$$\\mu^{phi}=\\phi ⋅ \\mu$$\n",
        "\n",
        "Define the covariance between assets $n$ and $m$ by the following:\n",
        "\n",
        "$$\n",
        "\\sigma_{mn} = \\sum_{ω}^{Ω}(r^m-\\mu^m)(r^n(ω)-\\mu^n)\n",
        "$$\n",
        "\n",
        "The covariance matrix then is given by:\n",
        "\n",
        "$$\n",
        "Σ =\\begin{bmatrix}\n",
        "\\sigma_{11} & \\sigma_{12} & \\cdots & σ_{1n}\\\\\n",
        "\\sigma_{21} & \\sigma_{22} & \\cdots & σ_{2n}\\\\\n",
        "\\vdots & \\vdots & \\ddots & \\vdots\\\\\n",
        "\\sigma_{n1} & \\sigma_{n2} & \\cdots & σ_{nn}\\\\\n",
        "\\end{bmatrix}\n",
        "$$\n",
        "\n",
        "The expected variance of the portfolio is then given by the double dot prodcut:\n",
        "\n",
        "$$ φ^{phi} = \\phi^T⋅Σ⋅ϕ $$\n",
        "\n",
        "The expected volatility of the portfolio is the following:\n",
        "\n",
        "$$σ^{phi}=\\sqrt{φ^{phi}}$$"
      ]
    },
    {
      "cell_type": "markdown",
      "metadata": {
        "id": "Jd8hlgTz4b61"
      },
      "source": [
        "### Sharpe ratio\n",
        "\n",
        "$$ π^{phi}=\\frac{\\mu^{phi}}{\\sigma^{phi}} $$\n",
        "\n",
        "If $r$ represents the risk-less short rate, the risk premium or excess return of a portfolio $phi$ over a risk-free alternative is defined by $\\mu^{phi}-r$. This risk premium is the numerator.\n",
        "\n",
        "$$\\pi^{phi}=\\frac{\\mu^{phi}-r}{\\sigma^{phi}}$$"
      ]
    },
    {
      "cell_type": "markdown",
      "metadata": {
        "id": "XiLeLNk25P8h"
      },
      "source": [
        "## Numerical Example"
      ]
    },
    {
      "cell_type": "markdown",
      "metadata": {
        "id": "Kq7X1Wk45TW1"
      },
      "source": [
        "### Portfolio statistics"
      ]
    },
    {
      "cell_type": "code",
      "execution_count": 26,
      "metadata": {
        "colab": {
          "base_uri": "https://localhost:8080/"
        },
        "id": "m7WwpanN5OnD",
        "outputId": "4290271e-b40e-4589-c74f-ff70b9432739"
      },
      "outputs": [
        {
          "data": {
            "text/plain": [
              "array([ 1. , -0.5])"
            ]
          },
          "execution_count": 26,
          "metadata": {},
          "output_type": "execute_result"
        }
      ],
      "source": [
        "# return vector of the risky asset\n",
        "rS = S1 / S0 - 1\n",
        "rS"
      ]
    },
    {
      "cell_type": "code",
      "execution_count": 27,
      "metadata": {
        "colab": {
          "base_uri": "https://localhost:8080/"
        },
        "id": "5ef9buTp5bWc",
        "outputId": "edaad471-78b4-4744-b403-5cd2e3d128f0"
      },
      "outputs": [
        {
          "data": {
            "text/plain": [
              "array([0.1, 0.1])"
            ]
          },
          "execution_count": 27,
          "metadata": {},
          "output_type": "execute_result"
        }
      ],
      "source": [
        "# return vector of the risk-less aseet\n",
        "rB = B1 / B0 - 1\n",
        "rB"
      ]
    },
    {
      "cell_type": "code",
      "execution_count": 28,
      "metadata": {
        "id": "W3jQwnWC5h76"
      },
      "outputs": [],
      "source": [
        "# expected return function\n",
        "def mu(rX):\n",
        "    return np.dot(P, rX)"
      ]
    },
    {
      "cell_type": "code",
      "execution_count": 29,
      "metadata": {
        "colab": {
          "base_uri": "https://localhost:8080/"
        },
        "id": "9XbSlca75obr",
        "outputId": "47757bf2-4a4c-4e2e-ecdc-a5508cb180a9"
      },
      "outputs": [
        {
          "data": {
            "text/plain": [
              "0.25"
            ]
          },
          "execution_count": 29,
          "metadata": {},
          "output_type": "execute_result"
        }
      ],
      "source": [
        "# expected returns of the traded assets\n",
        "mu(rS)"
      ]
    },
    {
      "cell_type": "code",
      "execution_count": 30,
      "metadata": {
        "colab": {
          "base_uri": "https://localhost:8080/"
        },
        "id": "qEWxn2iP5u4M",
        "outputId": "09031fde-a6ce-4f6c-943f-0c82c7f62551"
      },
      "outputs": [
        {
          "data": {
            "text/plain": [
              "0.10000000000000009"
            ]
          },
          "execution_count": 30,
          "metadata": {},
          "output_type": "execute_result"
        }
      ],
      "source": [
        "mu(rB)"
      ]
    },
    {
      "cell_type": "code",
      "execution_count": 31,
      "metadata": {
        "colab": {
          "base_uri": "https://localhost:8080/"
        },
        "id": "zqfNNPIB5wrh",
        "outputId": "59ad6e34-4834-4a51-ab35-6ecb9e68546e"
      },
      "outputs": [
        {
          "data": {
            "text/plain": [
              "array([[ 1. ,  0.1],\n",
              "       [-0.5,  0.1]])"
            ]
          },
          "execution_count": 31,
          "metadata": {},
          "output_type": "execute_result"
        }
      ],
      "source": [
        "# return matrix for the traded assets\n",
        "rM = M1 / M0 - 1\n",
        "rM"
      ]
    },
    {
      "cell_type": "code",
      "execution_count": 32,
      "metadata": {
        "colab": {
          "base_uri": "https://localhost:8080/"
        },
        "id": "mE6wxq3O55Eg",
        "outputId": "0300c5b7-73eb-4c1f-8ba1-ab4ffe418b86"
      },
      "outputs": [
        {
          "data": {
            "text/plain": [
              "array([0.25, 0.1 ])"
            ]
          },
          "execution_count": 32,
          "metadata": {},
          "output_type": "execute_result"
        }
      ],
      "source": [
        "# expected return vector\n",
        "mu(rM)"
      ]
    },
    {
      "cell_type": "code",
      "execution_count": 33,
      "metadata": {
        "colab": {
          "base_uri": "https://localhost:8080/"
        },
        "id": "jqSR2g4e5_sB",
        "outputId": "eab894b3-2ac7-48d7-e741-dd1b50d4de53"
      },
      "outputs": [
        {
          "data": {
            "text/plain": [
              "0.5625"
            ]
          },
          "execution_count": 33,
          "metadata": {},
          "output_type": "execute_result"
        }
      ],
      "source": [
        "# the variance and volatility\n",
        "\n",
        "def var(rX):\n",
        "    # the variance function\n",
        "    return ((rX - mu(rX)) ** 2).mean()\n",
        "\n",
        "var(rS)"
      ]
    },
    {
      "cell_type": "code",
      "execution_count": 34,
      "metadata": {
        "colab": {
          "base_uri": "https://localhost:8080/"
        },
        "id": "QTPxIqhf6RUV",
        "outputId": "6907f066-2cc6-470f-952a-63e6cede8600"
      },
      "outputs": [
        {
          "data": {
            "text/plain": [
              "0.0"
            ]
          },
          "execution_count": 34,
          "metadata": {},
          "output_type": "execute_result"
        }
      ],
      "source": [
        "var(rB)"
      ]
    },
    {
      "cell_type": "code",
      "execution_count": 35,
      "metadata": {
        "id": "PTm9hgjV6X01"
      },
      "outputs": [],
      "source": [
        "def sigma(rX):\n",
        "    return np.sqrt(var(rX))"
      ]
    },
    {
      "cell_type": "code",
      "execution_count": 36,
      "metadata": {
        "colab": {
          "base_uri": "https://localhost:8080/"
        },
        "id": "p3ddyFDX6eGs",
        "outputId": "6e2aceec-3a9a-4c25-f3a0-a641bbf09c2a"
      },
      "outputs": [
        {
          "data": {
            "text/plain": [
              "0.75"
            ]
          },
          "execution_count": 36,
          "metadata": {},
          "output_type": "execute_result"
        }
      ],
      "source": [
        "sigma(rS)"
      ]
    },
    {
      "cell_type": "code",
      "execution_count": 37,
      "metadata": {
        "colab": {
          "base_uri": "https://localhost:8080/"
        },
        "id": "YSMKOah56OoB",
        "outputId": "a078e691-c65a-4c61-dfaf-2e8b6a780471"
      },
      "outputs": [
        {
          "data": {
            "text/plain": [
              "0.0"
            ]
          },
          "execution_count": 37,
          "metadata": {},
          "output_type": "execute_result"
        }
      ],
      "source": [
        "sigma(rB)"
      ]
    },
    {
      "cell_type": "code",
      "execution_count": 38,
      "metadata": {
        "colab": {
          "base_uri": "https://localhost:8080/"
        },
        "id": "trValDbx6i--",
        "outputId": "93efd835-3961-4584-d5d7-0a1ccff12d55"
      },
      "outputs": [
        {
          "data": {
            "text/plain": [
              "array([[0.5625, 0.    ],\n",
              "       [0.    , 0.    ]])"
            ]
          },
          "execution_count": 38,
          "metadata": {},
          "output_type": "execute_result"
        }
      ],
      "source": [
        "# the covariance matrix\n",
        "\n",
        "np.cov(rM.T, aweights=P, ddof=0)"
      ]
    },
    {
      "cell_type": "code",
      "execution_count": 39,
      "metadata": {
        "colab": {
          "base_uri": "https://localhost:8080/"
        },
        "id": "I2GvkzuS6oW1",
        "outputId": "dd369451-3de1-4137-9757-223200332858"
      },
      "outputs": [
        {
          "data": {
            "text/plain": [
              "0.17500000000000004"
            ]
          },
          "execution_count": 39,
          "metadata": {},
          "output_type": "execute_result"
        }
      ],
      "source": [
        "# the porfolio expected return, porfolio expected variance\n",
        "\n",
        "phi = np.array((0.5, 0.5))\n",
        "\n",
        "# the porfolio expected return\n",
        "def mu_phi(phi):\n",
        "    return np.dot(phi, mu(rM))\n",
        "\n",
        "mu_phi(phi)"
      ]
    },
    {
      "cell_type": "code",
      "execution_count": 40,
      "metadata": {
        "colab": {
          "base_uri": "https://localhost:8080/"
        },
        "id": "uJ8PReAm67PE",
        "outputId": "8c5f93ea-d8a4-4df0-b0cc-81bd1724b6c6"
      },
      "outputs": [
        {
          "data": {
            "text/plain": [
              "0.140625"
            ]
          },
          "execution_count": 40,
          "metadata": {},
          "output_type": "execute_result"
        }
      ],
      "source": [
        "def var_phi(phi):\n",
        "    cv = np.cov(rM.T, aweights=P, ddof=0)\n",
        "    return np.dot(phi, np.dot(cv, phi))\n",
        "\n",
        "var_phi(phi)"
      ]
    },
    {
      "cell_type": "code",
      "execution_count": 41,
      "metadata": {
        "colab": {
          "base_uri": "https://localhost:8080/"
        },
        "id": "fdp8TL_87N_j",
        "outputId": "f69ba56a-9cc7-497b-ee5d-a5a01b4ecaf3"
      },
      "outputs": [
        {
          "data": {
            "text/plain": [
              "0.375"
            ]
          },
          "execution_count": 41,
          "metadata": {},
          "output_type": "execute_result"
        }
      ],
      "source": [
        "def sigma_phi(phi):\n",
        "    return var_phi(phi) ** 0.5\n",
        "\n",
        "sigma_phi(phi)"
      ]
    },
    {
      "cell_type": "markdown",
      "metadata": {
        "id": "_wAAI_TZ7WsB"
      },
      "source": [
        "### Investment opportynity set"
      ]
    },
    {
      "cell_type": "code",
      "execution_count": 42,
      "metadata": {
        "id": "ag9qZFjP7U7e"
      },
      "outputs": [],
      "source": [
        "# monte carlo simulation for the portfolio weights phi\n",
        "\n",
        "from pylab import plt, mpl"
      ]
    },
    {
      "cell_type": "code",
      "execution_count": 43,
      "metadata": {
        "id": "7-3SsEff7f1d"
      },
      "outputs": [],
      "source": [
        "# random portfolio compositions, normalized to 1\n",
        "phi_mcs = np.random.random((2, 200))"
      ]
    },
    {
      "cell_type": "code",
      "execution_count": 44,
      "metadata": {
        "id": "Ga_lfSFh70E3"
      },
      "outputs": [],
      "source": [
        "phi_mcs = (phi_mcs / phi_mcs.sum(axis=0)).T"
      ]
    },
    {
      "cell_type": "code",
      "execution_count": 45,
      "metadata": {
        "id": "q_r2b7v475vP"
      },
      "outputs": [],
      "source": [
        "mcs = np.array([(sigma_phi(phi), mu_phi(phi)) for phi in phi_mcs])"
      ]
    },
    {
      "cell_type": "code",
      "execution_count": 46,
      "metadata": {
        "colab": {
          "base_uri": "https://localhost:8080/",
          "height": 559
        },
        "id": "p6QAf7538BvX",
        "outputId": "6174a153-157d-47d4-ef68-8e49e1150f81"
      },
      "outputs": [
        {
          "data": {
            "text/plain": [
              "Text(0, 0.5, 'expected return')"
            ]
          },
          "execution_count": 46,
          "metadata": {},
          "output_type": "execute_result"
        },
        {
          "data": {
            "image/png": "[encoded data removed]",
            "text/plain": [
              "<Figure size 1000x600 with 1 Axes>"
            ]
          },
          "metadata": {},
          "output_type": "display_data"
        }
      ],
      "source": [
        "plt.figure(figsize=(10, 6))\n",
        "plt.plot(mcs[:, 0], mcs[:, 1], 'ro')\n",
        "plt.xlabel('expected volatility')\n",
        "plt.ylabel('expected return')"
      ]
    },
    {
      "cell_type": "markdown",
      "metadata": {
        "id": "6Afub4SY8OPT"
      },
      "source": [
        "Consider the case of a static three-state economy $\\mathcal{M}^3$ for which $\\Omega=\\{u, m, d\\}$ holds. The three states are equally like $P=\\{\\frac{1}{3}, \\frac{1}{3}, \\frac{1}{3}\\}$. The set of tradable assets consist of two risky asset $S$ and $T$ with a fixed price of price of $S_0=T_0=10$ and uncertain payoffs of the following:\n",
        "\n",
        "$$S_1=\\begin{bmatrix}20\\\\10\\\\5\\end{bmatrix}$$\n",
        "\n",
        "and\n",
        "\n",
        "$$T_1=\\begin{bmatrix}1\\\\12\\\\13\\end{bmatrix}$$"
      ]
    },
    {
      "cell_type": "code",
      "execution_count": 47,
      "metadata": {
        "colab": {
          "base_uri": "https://localhost:8080/"
        },
        "id": "apKVBHaU8K7q",
        "outputId": "d5b40895-deb3-46f7-9b1b-764b2038871e"
      },
      "outputs": [
        {
          "data": {
            "text/plain": [
              "array([0.33333333, 0.33333333, 0.33333333])"
            ]
          },
          "execution_count": 47,
          "metadata": {},
          "output_type": "execute_result"
        }
      ],
      "source": [
        "# New probability measure for three states\n",
        "P = np.ones(3) / 3\n",
        "P"
      ]
    },
    {
      "cell_type": "code",
      "execution_count": 48,
      "metadata": {
        "id": "bS_jpbj59kgo"
      },
      "outputs": [],
      "source": [
        "S1 = np.array((20, 10, 5))"
      ]
    },
    {
      "cell_type": "code",
      "execution_count": 49,
      "metadata": {
        "id": "UsYi-VZ69nJX"
      },
      "outputs": [],
      "source": [
        "T0 = 10\n",
        "T1 = np.array((1, 12, 13))"
      ]
    },
    {
      "cell_type": "code",
      "execution_count": 50,
      "metadata": {
        "colab": {
          "base_uri": "https://localhost:8080/"
        },
        "id": "p4B6rZp19qia",
        "outputId": "1170ca34-976a-44f3-ee40-ead51988f65a"
      },
      "outputs": [
        {
          "data": {
            "text/plain": [
              "array([10, 10])"
            ]
          },
          "execution_count": 50,
          "metadata": {},
          "output_type": "execute_result"
        }
      ],
      "source": [
        "M0 = np.array((S0, T0))\n",
        "M0"
      ]
    },
    {
      "cell_type": "code",
      "execution_count": 51,
      "metadata": {
        "colab": {
          "base_uri": "https://localhost:8080/"
        },
        "id": "0IQjOp1u9tto",
        "outputId": "26de3d67-e2f5-4d6d-e0e0-d1fb85be0a14"
      },
      "outputs": [
        {
          "data": {
            "text/plain": [
              "array([[20,  1],\n",
              "       [10, 12],\n",
              "       [ 5, 13]])"
            ]
          },
          "execution_count": 51,
          "metadata": {},
          "output_type": "execute_result"
        }
      ],
      "source": [
        "M1 = np.array((S1, T1)).T\n",
        "M1"
      ]
    },
    {
      "cell_type": "code",
      "execution_count": 52,
      "metadata": {
        "colab": {
          "base_uri": "https://localhost:8080/"
        },
        "id": "YxjK8z9c9xyC",
        "outputId": "e8563946-f556-455a-f11d-229dc656b16f"
      },
      "outputs": [
        {
          "data": {
            "text/plain": [
              "array([[ 1. , -0.9],\n",
              "       [ 0. ,  0.2],\n",
              "       [-0.5,  0.3]])"
            ]
          },
          "execution_count": 52,
          "metadata": {},
          "output_type": "execute_result"
        }
      ],
      "source": [
        "rM = M1 / M0 - 1\n",
        "rM"
      ]
    },
    {
      "cell_type": "code",
      "execution_count": 53,
      "metadata": {
        "id": "Mswuvi8q92OG"
      },
      "outputs": [],
      "source": [
        "mcs = np.array([(sigma_phi(phi), mu_phi(phi)) for phi in phi_mcs])"
      ]
    },
    {
      "cell_type": "code",
      "execution_count": 54,
      "metadata": {
        "colab": {
          "base_uri": "https://localhost:8080/",
          "height": 559
        },
        "id": "X-sFEnfD99jV",
        "outputId": "4421bcb8-05ce-4ba8-9aa8-8afca9fb1963"
      },
      "outputs": [
        {
          "data": {
            "text/plain": [
              "Text(0, 0.5, 'expected return')"
            ]
          },
          "execution_count": 54,
          "metadata": {},
          "output_type": "execute_result"
        },
        {
          "data": {
            "image/png": "[encoded data removed]",
            "text/plain": [
              "<Figure size 1000x600 with 1 Axes>"
            ]
          },
          "metadata": {},
          "output_type": "display_data"
        }
      ],
      "source": [
        "plt.figure(figsize=(10, 6))\n",
        "plt.plot(mcs[:, 0], mcs[:, 1], 'ro')\n",
        "plt.xlabel('exptexted volatility')\n",
        "plt.ylabel('expected return')"
      ]
    },
    {
      "cell_type": "markdown",
      "metadata": {
        "id": "6EeKm_Pf-J1X"
      },
      "source": [
        "### Mimum volatility and maximum Sharpe ratio"
      ]
    },
    {
      "cell_type": "code",
      "execution_count": 55,
      "metadata": {
        "id": "Kl8Ppu6t-OTa"
      },
      "outputs": [],
      "source": [
        "cons = {'type': 'eq', 'fun': lambda phi: np.sum(phi) - 1}\n",
        "\n",
        "bnds = ((0, 1), (0, 1))\n",
        "\n",
        "min_var = minimize(sigma_phi, (0.5, 0.5),\n",
        "                   constraints=cons,\n",
        "                   bounds=bnds)"
      ]
    },
    {
      "cell_type": "code",
      "execution_count": 56,
      "metadata": {
        "colab": {
          "base_uri": "https://localhost:8080/"
        },
        "id": "f9W2l1P1-h--",
        "outputId": "3dcf81a9-6deb-40f6-c54f-792817607c8a"
      },
      "outputs": [
        {
          "data": {
            "text/plain": [
              " message: Optimization terminated successfully\n",
              " success: True\n",
              "  status: 0\n",
              "     fun: 0.07481322946935583\n",
              "       x: [ 4.651e-01  5.349e-01]\n",
              "     nit: 4\n",
              "     jac: [ 7.427e-02  7.529e-02]\n",
              "    nfev: 13\n",
              "    njev: 4"
            ]
          },
          "execution_count": 56,
          "metadata": {},
          "output_type": "execute_result"
        }
      ],
      "source": [
        "min_var"
      ]
    },
    {
      "cell_type": "code",
      "execution_count": 57,
      "metadata": {
        "id": "n3jnGY_I-jWJ"
      },
      "outputs": [],
      "source": [
        "def sharpe(phi):\n",
        "    return mu_phi(phi) / sigma_phi(phi)"
      ]
    },
    {
      "cell_type": "code",
      "execution_count": 58,
      "metadata": {
        "colab": {
          "base_uri": "https://localhost:8080/"
        },
        "id": "E24wEHry-ric",
        "outputId": "77e3ce7c-d249-4e9a-ad36-29eb4964f3df"
      },
      "outputs": [
        {
          "data": {
            "text/plain": [
              " message: Optimization terminated successfully\n",
              " success: True\n",
              "  status: 0\n",
              "     fun: -0.27216540990401067\n",
              "       x: [ 6.673e-01  3.327e-01]\n",
              "     nit: 9\n",
              "     jac: [ 1.205e-04 -2.417e-04]\n",
              "    nfev: 29\n",
              "    njev: 9"
            ]
          },
          "execution_count": 58,
          "metadata": {},
          "output_type": "execute_result"
        }
      ],
      "source": [
        "max_sharpe = minimize(lambda phi: -sharpe(phi), (0.5, 0.5),\n",
        "                      constraints=cons,\n",
        "                      bounds=bnds)\n",
        "\n",
        "max_sharpe"
      ]
    },
    {
      "cell_type": "code",
      "execution_count": 59,
      "metadata": {
        "colab": {
          "base_uri": "https://localhost:8080/",
          "height": 559
        },
        "id": "gGMPGoaH-2bv",
        "outputId": "fc39a3e8-b1e2-47e0-ae8a-f90169de3fe3"
      },
      "outputs": [
        {
          "data": {
            "text/plain": [
              "<matplotlib.legend.Legend at 0x147f416d0>"
            ]
          },
          "execution_count": 59,
          "metadata": {},
          "output_type": "execute_result"
        },
        {
          "data": {
            "image/png": "[encoded data removed]",
            "text/plain": [
              "<Figure size 1000x600 with 1 Axes>"
            ]
          },
          "metadata": {},
          "output_type": "display_data"
        }
      ],
      "source": [
        "plt.figure(figsize=(10, 6))\n",
        "plt.plot(mcs[:, 0], mcs[:, 1], 'ro', ms=5)\n",
        "plt.plot(sigma_phi(min_var['x']), mu_phi(min_var['x']), '^', ms=12.5, label='minimum volatility')\n",
        "plt.plot(sigma_phi(max_sharpe['x']), mu_phi(max_sharpe['x']), 'v', ms=12.5, label='maximum Sharpe ratio')\n",
        "plt.xlabel('expected volatility')\n",
        "plt.ylabel('expected return')\n",
        "plt.legend()"
      ]
    },
    {
      "cell_type": "markdown",
      "metadata": {
        "id": "KVKWPmqmwQVs"
      },
      "source": [
        "### Efficient frontier\n",
        "\n",
        "An efficient frontier is one that has a maximum expected return givrn its expected risk."
      ]
    },
    {
      "cell_type": "code",
      "execution_count": 60,
      "metadata": {
        "id": "HwfmGO1e-IYk"
      },
      "outputs": [],
      "source": [
        "# the new constraint fixes a target level for the expected return\n",
        "cons = [{'type': 'eq', 'fun': lambda phi: np.sum(phi) - 1},\n",
        "        {'type': 'eq', 'fun': lambda phi: mu_phi(phi) - target}]"
      ]
    },
    {
      "cell_type": "code",
      "execution_count": 61,
      "metadata": {
        "id": "pLzqC4EDxOXH"
      },
      "outputs": [],
      "source": [
        "bnds = ((0, 1), (0, 1))"
      ]
    },
    {
      "cell_type": "code",
      "execution_count": 62,
      "metadata": {
        "id": "D5cNzegPxRc3"
      },
      "outputs": [],
      "source": [
        "# generates the set of the target expected returns\n",
        "targets = np.linspace(mu_phi(min_var['x']), 0.16)"
      ]
    },
    {
      "cell_type": "code",
      "execution_count": 63,
      "metadata": {
        "id": "0RKbOdKTxhp4"
      },
      "outputs": [],
      "source": [
        "frontier = []\n",
        "for target in targets:\n",
        "    phi_eff = minimize(sigma_phi, (0.5, 0.5),\n",
        "                       constraints=cons, bounds=bnds)['x']\n",
        "    frontier.append((sigma_phi(phi_eff), mu_phi(phi_eff)))\n",
        "frontier = np.array(frontier)"
      ]
    },
    {
      "cell_type": "code",
      "execution_count": 64,
      "metadata": {
        "colab": {
          "base_uri": "https://localhost:8080/",
          "height": 559
        },
        "id": "7-qybrASznoJ",
        "outputId": "8228bff2-720f-453c-fdc9-3234c7b07de2"
      },
      "outputs": [
        {
          "data": {
            "text/plain": [
              "<matplotlib.legend.Legend at 0x147f5f310>"
            ]
          },
          "execution_count": 64,
          "metadata": {},
          "output_type": "execute_result"
        },
        {
          "data": {
            "image/png": "[encoded data removed]",
            "text/plain": [
              "<Figure size 1000x600 with 1 Axes>"
            ]
          },
          "metadata": {},
          "output_type": "display_data"
        }
      ],
      "source": [
        "plt.figure(figsize=(10, 6))\n",
        "plt.plot(frontier[:, 0], frontier[:, 1], 'mo', ms=5, label='efficient frontier')\n",
        "plt.plot(sigma_phi(min_var['x']), mu_phi(min_var['x']), '^', ms=12.5, label='minimum volatility')\n",
        "plt.plot(sigma_phi(max_sharpe['x']), mu_phi(max_sharpe['x']), 'v', ms=12.5, label='maximum Sharpe ratio')\n",
        "plt.xlabel('expected volatility')\n",
        "plt.ylabel('expected return')\n",
        "plt.legend()"
      ]
    },
    {
      "cell_type": "markdown",
      "metadata": {
        "id": "fgRmzEoR0cyN"
      },
      "source": [
        "# Capital Asset Pricing Model\n",
        "\n",
        "The CAPM is attractive as an equilibrium model because of its simplicity and its implications."
      ]
    },
    {
      "cell_type": "markdown",
      "metadata": {
        "id": "ygB8D4zM1qmM"
      },
      "source": [
        "## Assumptions and Results\n",
        "\n",
        "The static model economy from the previous section $\\mathcal{M}^N=(\\{Ω, \\mathcal{F}, \\mathbf{P}\\}, \\mathbb{A})$ with $N$ traded assets and all simplifying assumptions.\n",
        "\n",
        "Agents are assumed to invest according to MVP, caring only about the risk and return statistics of risky assets over one period.\n",
        "\n",
        "In a capital market equillibrium, all available assets are held by all agents and the market clear.\n",
        "\n",
        "Since agents are assumed to be identical in that they use MVP to form their efficient portfolios, this implies that all agents must hold the same efficient portfolio.\n",
        "\n",
        "The CAPM assumes the existence of (at least) one risk-free asset in which every agent can invest any amount and which earns the risk-free rate of $\\bar{r}$.\n",
        "\n",
        "The set of all portfolios is called the capital market line (CML)."
      ]
    },
    {
      "cell_type": "code",
      "execution_count": 65,
      "metadata": {
        "colab": {
          "base_uri": "https://localhost:8080/",
          "height": 559
        },
        "id": "C6T4diwz0V0a",
        "outputId": "40a5f901-005a-4204-84e1-ab3400da9338"
      },
      "outputs": [
        {
          "data": {
            "text/plain": [
              "<matplotlib.legend.Legend at 0x15007b970>"
            ]
          },
          "execution_count": 65,
          "metadata": {},
          "output_type": "execute_result"
        },
        {
          "data": {
            "image/png": "[encoded data removed]",
            "text/plain": [
              "<Figure size 1000x600 with 1 Axes>"
            ]
          },
          "metadata": {},
          "output_type": "display_data"
        }
      ],
      "source": [
        "# Capital Market Line\n",
        "\n",
        "plt.figure(figsize=(10, 6))\n",
        "plt.plot((0, 0.3), (0.01, 0.22), label='capital market line')\n",
        "plt.plot(0, 0.01, 'o', ms=9, label='risk-less asset')\n",
        "plt.plot(0.2, 0.15, '^', ms=9, label='market-portfolio')\n",
        "plt.annotate('$(0, \\\\bar{r})$', (0, 0.01), (-0.01, 0.02))\n",
        "plt.annotate('$(\\sigma_M, \\mu_M)$', (0.2, 0.15), (0.19, 0.16))\n",
        "plt.xlabel('expected volatility')\n",
        "plt.ylabel('expected return')\n",
        "plt.legend()"
      ]
    },
    {
      "cell_type": "markdown",
      "metadata": {
        "id": "e-Oc6we1BegQ"
      },
      "source": [
        "If $\\sigma_M$, $\\mu_M$ are the expected volatility and return of the market portfolio, the capital market line is defined by the following:\n",
        "\n",
        "$$μ=\\bar{r}+\\frac{\\mu_M-\\bar{r}}{\\sigma_M}σ$$\n",
        "\n",
        "$\\frac{μ_M-\\bar{r}}{σ_M}$ is called the market price of risk.\n",
        "\n",
        "The CAPM relates the expected return of any tradable risky asset $n=1,2,..., N$ to the expected return of the market portfolio as follows:\n",
        "\n",
        "$$μ^n=\\bar{r}+\\beta_n(\\mu_M-\\bar{r})$$\n",
        "\n",
        "$\\beta_n$ is defined by the covaraiance of the market portfolio with the risky asset $n$ divided by the variacne of the market portfolio itself:\n",
        "\n",
        "$$\\beta_n=\\frac{σ_{M,n}}{σ_M^2}$$\n",
        "\n",
        "When $\\beta_n=0$, the expected return is the risk-free rate. The higher $\\beta_n$ is, the higher the expected return for the risky asset will be."
      ]
    },
    {
      "cell_type": "markdown",
      "metadata": {
        "id": "LNS4K2dODbob"
      },
      "source": [
        "## Numerical Example\n",
        "\n",
        "Assume the static model economy with three possible future states $\\mathcal{M}^3=(\\{Ω, \\mathcal{F}, \\mathbf{P}\\}, \\mathbb{A})$ with the opportunity to borrow and lend a risk-free rate of $\\bar{r}=0.0025$. The two risky assets $S,T$ are available in quantities of 0.8 and 0.2"
      ]
    },
    {
      "cell_type": "markdown",
      "metadata": {
        "id": "MAWhRwJ_EEf2"
      },
      "source": [
        "### Capital market line"
      ]
    },
    {
      "cell_type": "code",
      "execution_count": 66,
      "metadata": {
        "id": "jt-iILyEED1T"
      },
      "outputs": [],
      "source": [
        "phi_M = np.array((0.8, 0.2))"
      ]
    },
    {
      "cell_type": "code",
      "execution_count": 67,
      "metadata": {
        "colab": {
          "base_uri": "https://localhost:8080/"
        },
        "id": "cs1ruCD6ELbT",
        "outputId": "2aed176e-1dcb-43e1-a55a-ea3ca0a4e6be"
      },
      "outputs": [
        {
          "data": {
            "text/plain": [
              "0.10666666666666666"
            ]
          },
          "execution_count": 67,
          "metadata": {},
          "output_type": "execute_result"
        }
      ],
      "source": [
        "mu_M = mu_phi(phi_M)\n",
        "mu_M"
      ]
    },
    {
      "cell_type": "code",
      "execution_count": 68,
      "metadata": {
        "colab": {
          "base_uri": "https://localhost:8080/"
        },
        "id": "ClGcXzp-EOVa",
        "outputId": "3db8c66a-17af-4125-fbaf-020fcb426ca5"
      },
      "outputs": [
        {
          "data": {
            "text/plain": [
              "0.39474323581566567"
            ]
          },
          "execution_count": 68,
          "metadata": {},
          "output_type": "execute_result"
        }
      ],
      "source": [
        "sigma_M = sigma_phi(phi_M)\n",
        "sigma_M"
      ]
    },
    {
      "cell_type": "code",
      "execution_count": 69,
      "metadata": {
        "id": "Vsb32X9jET8a"
      },
      "outputs": [],
      "source": [
        "r = 0.0025"
      ]
    },
    {
      "cell_type": "code",
      "execution_count": 70,
      "metadata": {
        "colab": {
          "base_uri": "https://localhost:8080/",
          "height": 559
        },
        "id": "ZjZREUkSEWfY",
        "outputId": "27ca3600-32fa-41d9-81b8-efe55eefc3f7"
      },
      "outputs": [
        {
          "data": {
            "text/plain": [
              "<matplotlib.legend.Legend at 0x150200a60>"
            ]
          },
          "execution_count": 70,
          "metadata": {},
          "output_type": "execute_result"
        },
        {
          "data": {
            "image/png": "[encoded data removed]",
            "text/plain": [
              "<Figure size 1000x600 with 1 Axes>"
            ]
          },
          "metadata": {},
          "output_type": "display_data"
        }
      ],
      "source": [
        "plt.figure(figsize=(10, 6))\n",
        "plt.plot(frontier[:, 0], frontier[:, 1], 'm.', ms=5, label='efficient frontier')\n",
        "plt.plot(sigma_M, mu_M, '^', ms=9, label='market porfolio')\n",
        "plt.plot((0, 0.6), (r, r + ((mu_M - r) / sigma_M) * 0.6), 'r', label='capital market line', lw=2.0)\n",
        "plt.annotate('$(0, \\\\bar{r}$)', (0, r), (-0.015, r + 0.01))\n",
        "plt.annotate('$(\\sigma_M, \\mu_M$)', (sigma_M, mu_M), (sigma_M - 0.025, mu_M + 0.01))\n",
        "plt.xlabel('expected volatility')\n",
        "plt.ylabel('expected return')\n",
        "plt.legend()"
      ]
    },
    {
      "cell_type": "markdown",
      "metadata": {
        "id": "6i_uzhsbGww4"
      },
      "source": [
        "### Optimal portfolio\n",
        "\n",
        "Assume an agen with an expected utility function defined over future payoffs as follows:\n",
        "\n",
        "$$U:\\mathbb{X}→, x↦E^P(u(x))=E^P(x-\\frac{b}{2}x^2)$$\n",
        "\n",
        "The expected utility function can be expressed over risk-return combinations:\n",
        "\n",
        "$$U:\\mathbb{R}_+×\\mathbb{R}_+→\\mathbb{R}(\\sigma, \\mu)↦\\mu-\\frac{b}{2}(\\sigma^2+\\mu^2)$$"
      ]
    },
    {
      "cell_type": "code",
      "execution_count": 71,
      "metadata": {
        "id": "zs7tH4BzGY7B"
      },
      "outputs": [],
      "source": [
        "# utility maximization\n",
        "# fixing b = 1\n",
        "\n",
        "def U(p):\n",
        "    mu, sigma = p\n",
        "    # the utility function in risk-return space\n",
        "    return mu - 1 / 2 * (sigma ** 2 + mu ** 2)"
      ]
    },
    {
      "cell_type": "code",
      "execution_count": 72,
      "metadata": {
        "colab": {
          "base_uri": "https://localhost:8080/"
        },
        "id": "-BclPx9uH94I",
        "outputId": "18153bbb-edfb-492c-f3b9-3b9fc20cb430"
      },
      "outputs": [
        {
          "data": {
            "text/plain": [
              " message: Optimization terminated successfully\n",
              " success: True\n",
              "  status: 0\n",
              "     fun: -0.03488518682673941\n",
              "       x: [ 6.744e-02  2.461e-01]\n",
              "     nit: 2\n",
              "     jac: [-9.326e-01  2.461e-01]\n",
              "    nfev: 6\n",
              "    njev: 2"
            ]
          },
          "execution_count": 72,
          "metadata": {},
          "output_type": "execute_result"
        }
      ],
      "source": [
        "# the condition that the portfolio be on the CML\n",
        "cons = {'type': 'eq', 'fun': lambda p: p[0] - (r + (mu_M - r) / sigma_M * p[1])}\n",
        "\n",
        "opt = minimize(lambda p: -U(p), (0.1, 0.3), constraints=cons)\n",
        "opt"
      ]
    },
    {
      "cell_type": "markdown",
      "metadata": {
        "id": "JhkLUqNSIYZE"
      },
      "source": [
        "### Indifference curves\n",
        "\n",
        "An optimal portfolio is found when an indifference curve is tangent to the CML."
      ]
    },
    {
      "cell_type": "code",
      "execution_count": 73,
      "metadata": {
        "id": "pXO0_VXGIV91"
      },
      "outputs": [],
      "source": [
        "from sympy import *"
      ]
    },
    {
      "cell_type": "code",
      "execution_count": 74,
      "metadata": {
        "id": "e7kpJRMJIstd"
      },
      "outputs": [],
      "source": [
        "# defines `SymPy` symbols\n",
        "mu, sigma, b, v = symbols('mu sigma b v')"
      ]
    },
    {
      "cell_type": "code",
      "execution_count": 75,
      "metadata": {
        "colab": {
          "base_uri": "https://localhost:8080/"
        },
        "id": "3K2QYh1YI6Yq",
        "outputId": "66c1f926-877b-45d6-a5dc-ef65495c3caf"
      },
      "outputs": [
        {
          "data": {
            "text/plain": [
              "[(1 - sqrt(-b**2*sigma**2 - 2*b*v + 1))/b,\n",
              " (sqrt(-b**2*sigma**2 - 2*b*v + 1) + 1)/b]"
            ]
          },
          "execution_count": 75,
          "metadata": {},
          "output_type": "execute_result"
        }
      ],
      "source": [
        "# solves the utiltity function for \\mu\n",
        "sol = solve('mu - b / 2 * (sigma ** 2 + mu ** 2) - v', mu)\n",
        "\n",
        "sol"
      ]
    },
    {
      "cell_type": "code",
      "execution_count": 76,
      "metadata": {
        "colab": {
          "base_uri": "https://localhost:8080/",
          "height": 40
        },
        "id": "KQ1pg-ghJMxG",
        "outputId": "c31c5821-26ae-47f2-d126-316e7b2ba270"
      },
      "outputs": [
        {
          "data": {
            "text/latex": [
              "$\\displaystyle 1 - \\sqrt{0.8 - \\sigma^{2}}$"
            ],
            "text/plain": [
              "1 - sqrt(0.8 - sigma**2)"
            ]
          },
          "execution_count": 76,
          "metadata": {},
          "output_type": "execute_result"
        }
      ],
      "source": [
        "# substitues numerical values for b, v\n",
        "u1 = sol[0].subs({'b': 1, 'v': 0.1})\n",
        "u1"
      ]
    },
    {
      "cell_type": "code",
      "execution_count": 77,
      "metadata": {
        "colab": {
          "base_uri": "https://localhost:8080/",
          "height": 40
        },
        "id": "EQUbtXLoJeh0",
        "outputId": "86c65363-f802-4df1-d9a9-0e06ed6d4161"
      },
      "outputs": [
        {
          "data": {
            "text/latex": [
              "$\\displaystyle 1 - \\sqrt{0.75 - \\sigma^{2}}$"
            ],
            "text/plain": [
              "1 - sqrt(0.75 - sigma**2)"
            ]
          },
          "execution_count": 77,
          "metadata": {},
          "output_type": "execute_result"
        }
      ],
      "source": [
        "u2 = sol[0].subs({'b': 1, 'v': 0.125})\n",
        "u2"
      ]
    },
    {
      "cell_type": "code",
      "execution_count": 78,
      "metadata": {
        "id": "-ilsmIowJmVC"
      },
      "outputs": [],
      "source": [
        "# generate callable functions from the resulting eqautions\n",
        "f1 = lambdify(sigma, u1)\n",
        "f2 = lambdify(sigma, u2)"
      ]
    },
    {
      "cell_type": "code",
      "execution_count": 79,
      "metadata": {
        "id": "6Zf199_tJyCm"
      },
      "outputs": [],
      "source": [
        "# specifies values for \\sigma over which to evaluate the functions\n",
        "sigma_ = np.linspace(0.0, 0.5)\n",
        "u1_ = f1(sigma_)\n",
        "u2_ = f2(sigma_)"
      ]
    },
    {
      "cell_type": "code",
      "execution_count": 80,
      "metadata": {
        "colab": {
          "base_uri": "https://localhost:8080/",
          "height": 559
        },
        "id": "mXDP7nUuKDoe",
        "outputId": "c84945d9-68f2-439d-dea2-6a375cfafc85"
      },
      "outputs": [
        {
          "data": {
            "text/plain": [
              "<matplotlib.legend.Legend at 0x1571cb8b0>"
            ]
          },
          "execution_count": 80,
          "metadata": {},
          "output_type": "execute_result"
        },
        {
          "data": {
            "image/png": "[encoded data removed]",
            "text/plain": [
              "<Figure size 1000x600 with 1 Axes>"
            ]
          },
          "metadata": {},
          "output_type": "display_data"
        }
      ],
      "source": [
        "plt.figure(figsize=(10, 6))\n",
        "plt.plot(sigma_, u1_, label='$v=0.1$')\n",
        "plt.plot(sigma_, u2_, label='$v=0.125$')\n",
        "plt.xlabel('expected volatility')\n",
        "plt.ylabel('expexted return')\n",
        "plt.legend()"
      ]
    },
    {
      "cell_type": "code",
      "execution_count": 81,
      "metadata": {
        "colab": {
          "base_uri": "https://localhost:8080/",
          "height": 40
        },
        "id": "kqSjn0WZKXW6",
        "outputId": "7b6c6368-70a8-4ab1-c1d0-3de3481f846d"
      },
      "outputs": [
        {
          "data": {
            "text/latex": [
              "$\\displaystyle 1 - \\sqrt{0.930229626346521 - \\sigma^{2}}$"
            ],
            "text/plain": [
              "1 - sqrt(0.930229626346521 - sigma**2)"
            ]
          },
          "execution_count": 81,
          "metadata": {},
          "output_type": "execute_result"
        }
      ],
      "source": [
        "# defines the indifference curve for the optimal utility level\n",
        "u = sol[0].subs({'b':1, 'v': -opt['fun']})\n",
        "u"
      ]
    },
    {
      "cell_type": "code",
      "execution_count": 82,
      "metadata": {
        "id": "YBArZyAqKoCt"
      },
      "outputs": [],
      "source": [
        "f = lambdify(sigma, u)"
      ]
    },
    {
      "cell_type": "code",
      "execution_count": 83,
      "metadata": {
        "id": "88gRqixYKsgL"
      },
      "outputs": [],
      "source": [
        "# derives numerical values to plot the indifference curve\n",
        "u_ = f(sigma_)"
      ]
    },
    {
      "cell_type": "code",
      "execution_count": 84,
      "metadata": {
        "colab": {
          "base_uri": "https://localhost:8080/",
          "height": 559
        },
        "id": "lSc1y1pgKyyk",
        "outputId": "790ddbfe-a3e1-45ac-bebc-2be134ddedd5"
      },
      "outputs": [
        {
          "data": {
            "text/plain": [
              "<matplotlib.legend.Legend at 0x130ff3ac0>"
            ]
          },
          "execution_count": 84,
          "metadata": {},
          "output_type": "execute_result"
        },
        {
          "data": {
            "image/png": "[encoded data removed]",
            "text/plain": [
              "<Figure size 1000x600 with 1 Axes>"
            ]
          },
          "metadata": {},
          "output_type": "display_data"
        }
      ],
      "source": [
        "plt.figure(figsize=(10, 6))\n",
        "plt.plot(0, r, 'o', ms=9, label='risk-less asset')\n",
        "plt.plot(sigma_M, mu_M, '^', ms=9, label='market portfolio')\n",
        "plt.plot(opt['x'][1], opt['x'][0], 'v', ms=9, label='optimal portfolio')\n",
        "plt.plot((0, 0.5), (r, r + (mu_M - r) / sigma_M * 0.5), label='capital market line', lw=2.0)\n",
        "plt.plot(sigma_, u_, '--', label='$v={}$'.format(-round(opt['fun'], 3)))\n",
        "plt.xlabel('expected volatility')\n",
        "plt.ylabel('expexted return')\n",
        "plt.legend()"
      ]
    },
    {
      "cell_type": "markdown",
      "metadata": {
        "id": "uOJoRVnbLmk8"
      },
      "source": [
        "# Arbitrage Pricing Theory\n",
        "\n",
        "The arbitrage model was proposed as an alternative to the mean variance capital asset pricing model, and has become the major analytic tool for explaining phenomena observed in capitl markets for risky assets."
      ]
    },
    {
      "cell_type": "markdown",
      "metadata": {
        "id": "XWmSfyj6MA9_"
      },
      "source": [
        "## Assumptions and Results"
      ]
    },
    {
      "cell_type": "markdown",
      "metadata": {
        "id": "q-EVmHwrOO-v"
      },
      "source": [
        "APT assumes that there are multiple types of risk that together are assued to drive the performance of a stock, such as size, volatility, value, and momentum.\n",
        "\n",
        "$$y_t=a+Bf_t+ϵ_t$$\n",
        "\n",
        "$y_t$ is the vector of $M$ observed variables, the expected returns of $M$ different stocks.\n",
        "\n",
        "$$y_t=\\begin{bmatrix}\n",
        "y_t^1\\\\y_t^2\\\\\\vdots\\\\y_t^M\n",
        "\\end{bmatrix}$$\n",
        "\n",
        "$a$ is the vector of $M$ constant terms:\n",
        "\n",
        "$$a=\\begin{bmatrix}\n",
        "a^1\\\\a^2\\\\\\vdots\\\\a^M\n",
        "\\end{bmatrix}$$\n",
        "\n",
        "$f_t$ is the vector of $F$ factors at tiem $t$.\n",
        "\n",
        "$$f_t=\\begin{bmatrix}\n",
        "f_t^1\\\\f_t^2\\\\\\vdots\\\\f_t^M\n",
        "\\end{bmatrix}$$\n",
        "\n",
        "$B$ is the $M×F$ matrix.\n",
        "\n",
        "$$\n",
        "B=\\begin{bmatrix}\n",
        "b_{11} & b_{12} & ⋯ & b_{1F}\\\\\n",
        "b_{21} & b_{22} & ⋯ & b_{2F}\\\\\n",
        "\\vdots & \\vdots & \\ddots & \\vdots\\\\\n",
        "b_{M1} & b_{M2} & ⋯ & b_{MF}\\\\\n",
        "\\end{bmatrix}\n",
        "$$\n",
        "\n",
        "$ϵ_t$ is the vector of $M$ sufficiently independent residual term\n",
        "\n",
        "$$\\epsilon_t=\\begin{bmatrix}\n",
        "\\epsilon_t^1\\\\\\epsilon_t^2\\\\\\vdots\\\\\\epsilon_t^M\n",
        "\\end{bmatrix}$$\n",
        "\n",
        "\n",
        "From an econometric point of view, CAPM and APT are implemented based on linear ordinary least-squares (OLS) regression. While the CAPM can be implemented based on univariate linear OLS regression, the APT requires multivariate OLS regression."
      ]
    },
    {
      "cell_type": "markdown",
      "metadata": {
        "id": "7zTIgQi4Q9P4"
      },
      "source": [
        "## Numerical Example\n",
        "\n",
        "Assume the static model economy with three possible states $\\mathcal{M}^3=(\\{Ω, \\mathcal{F}, \\mathbf{P}\\}, \\mathbb{A})$. The two risky assets are now the relevant risk factors in the economy and introduce a third asset V with the following future payoff:\n",
        "\n",
        "$$V_1=\\begin{bmatrix}12\\\\15\\\\7\\end{bmatrix}$$\n",
        "\n"
      ]
    },
    {
      "cell_type": "code",
      "execution_count": 85,
      "metadata": {
        "colab": {
          "base_uri": "https://localhost:8080/"
        },
        "id": "0rXN1wJmMAck",
        "outputId": "0514832d-e806-4a28-bd15-36a1e4fb9a4d"
      },
      "outputs": [
        {
          "data": {
            "text/plain": [
              "array([[20,  1],\n",
              "       [10, 12],\n",
              "       [ 5, 13]])"
            ]
          },
          "execution_count": 85,
          "metadata": {},
          "output_type": "execute_result"
        }
      ],
      "source": [
        "M1"
      ]
    },
    {
      "cell_type": "code",
      "execution_count": 86,
      "metadata": {
        "colab": {
          "base_uri": "https://localhost:8080/"
        },
        "id": "7OmBpcJOKnFx",
        "outputId": "cc088971-af1c-41b3-cc1e-d6852e245687"
      },
      "outputs": [
        {
          "data": {
            "text/plain": [
              "array([10, 10])"
            ]
          },
          "execution_count": 86,
          "metadata": {},
          "output_type": "execute_result"
        }
      ],
      "source": [
        "M0"
      ]
    },
    {
      "cell_type": "code",
      "execution_count": 87,
      "metadata": {
        "id": "4VkqeLohq46Q"
      },
      "outputs": [],
      "source": [
        "V1 = np.array((12, 15, 7))"
      ]
    },
    {
      "cell_type": "code",
      "execution_count": 88,
      "metadata": {
        "colab": {
          "base_uri": "https://localhost:8080/"
        },
        "id": "_PeLEk5Fq7gK",
        "outputId": "af560839-d6be-4728-e1df-ec8429986df2"
      },
      "outputs": [
        {
          "data": {
            "text/plain": [
              "array([0.6141665 , 0.50030531])"
            ]
          },
          "execution_count": 88,
          "metadata": {},
          "output_type": "execute_result"
        }
      ],
      "source": [
        "# the optimal regression parameter can be interpreted as factor loadings.\n",
        "reg = np.linalg.lstsq(M1, V1, rcond=-1)[0]\n",
        "reg"
      ]
    },
    {
      "cell_type": "code",
      "execution_count": 89,
      "metadata": {
        "colab": {
          "base_uri": "https://localhost:8080/"
        },
        "id": "2veUEH4QrIJr",
        "outputId": "43050bd9-3bec-4cd1-d166-8100e7351e37"
      },
      "outputs": [
        {
          "data": {
            "text/plain": [
              "array([12.78363525, 12.14532872,  9.57480155])"
            ]
          },
          "execution_count": 89,
          "metadata": {},
          "output_type": "execute_result"
        }
      ],
      "source": [
        "np.dot(M1, reg)"
      ]
    },
    {
      "cell_type": "code",
      "execution_count": 90,
      "metadata": {
        "colab": {
          "base_uri": "https://localhost:8080/"
        },
        "id": "nYh0sV6trK2Z",
        "outputId": "e4eb3bcc-3b55-4e32-a960-9728ef0fb61e"
      },
      "outputs": [
        {
          "data": {
            "text/plain": [
              "array([ 0.78363525, -2.85467128,  2.57480155])"
            ]
          },
          "execution_count": 90,
          "metadata": {},
          "output_type": "execute_result"
        }
      ],
      "source": [
        "# The two factors are not enough to explatin the payoff V_1\n",
        "np.dot(M1, reg) - V1"
      ]
    },
    {
      "cell_type": "code",
      "execution_count": 91,
      "metadata": {
        "colab": {
          "base_uri": "https://localhost:8080/"
        },
        "id": "eOE_V-uMruS_",
        "outputId": "ffec413a-9244-48cc-8203-eaf34ef7bddb"
      },
      "outputs": [
        {
          "data": {
            "text/plain": [
              "11.144718094850402"
            ]
          },
          "execution_count": 91,
          "metadata": {},
          "output_type": "execute_result"
        }
      ],
      "source": [
        "# the factor loadings can be used to estimate an arbitrage-free price V_0 for the riskly asset V\n",
        "V0 = np.dot(M0, reg)\n",
        "V0"
      ]
    },
    {
      "cell_type": "markdown",
      "metadata": {
        "id": "leN_Bq0bsISO"
      },
      "source": [
        "The two factors are not enough to fully explain the payoff $V_1$. What about adding a third risk factor $U$ to the model economy? Assume that the third risk factor $U$ is defined by $U_0=10$:\n",
        "\n",
        "$$U_1=\\begin{bmatrix}12\\\\5\\\\11\\end{bmatrix}$$"
      ]
    },
    {
      "cell_type": "code",
      "execution_count": 92,
      "metadata": {
        "id": "-u_6g4I4swIp"
      },
      "outputs": [],
      "source": [
        "U0 = 10\n",
        "U1 = np.array((12, 5, 11))"
      ]
    },
    {
      "cell_type": "code",
      "execution_count": 93,
      "metadata": {
        "id": "gnn_hLJcs0IE"
      },
      "outputs": [],
      "source": [
        "# augmented market price vector\n",
        "M0_ = np.array((S0, T0, U0))"
      ]
    },
    {
      "cell_type": "code",
      "execution_count": 94,
      "metadata": {
        "colab": {
          "base_uri": "https://localhost:8080/"
        },
        "id": "yUzw5lCjtCLO",
        "outputId": "c118fc8f-c143-4887-d7da-6b4986c3924b"
      },
      "outputs": [
        {
          "data": {
            "text/plain": [
              "array([[20,  1, 12],\n",
              "       [10, 12,  5],\n",
              "       [ 5, 13, 11]])"
            ]
          },
          "execution_count": 94,
          "metadata": {},
          "output_type": "execute_result"
        }
      ],
      "source": [
        "#augmented market payoff matrix with full rank\n",
        "M1_ = np.concatenate((M1.T, np.array([U1,]))).T\n",
        "M1_"
      ]
    },
    {
      "cell_type": "code",
      "execution_count": 95,
      "metadata": {
        "colab": {
          "base_uri": "https://localhost:8080/"
        },
        "id": "3RIvBRzvtppO",
        "outputId": "eea7bea2-9d84-41d6-8774-ddb848a7d1dc"
      },
      "outputs": [
        {
          "data": {
            "text/plain": [
              "3"
            ]
          },
          "execution_count": 95,
          "metadata": {},
          "output_type": "execute_result"
        }
      ],
      "source": [
        "np.linalg.matrix_rank(M1_)"
      ]
    },
    {
      "cell_type": "code",
      "execution_count": 96,
      "metadata": {
        "colab": {
          "base_uri": "https://localhost:8080/"
        },
        "id": "wW3lrOTmtswV",
        "outputId": "ca1833a5-cfa1-484a-fadf-9f6d3a59685b"
      },
      "outputs": [
        {
          "data": {
            "text/plain": [
              "array([ 0.9575179 ,  0.72553699, -0.65632458])"
            ]
          },
          "execution_count": 96,
          "metadata": {},
          "output_type": "execute_result"
        }
      ],
      "source": [
        "reg = np.linalg.lstsq(M1_, V1, rcond=-1)[0]\n",
        "reg"
      ]
    },
    {
      "cell_type": "code",
      "execution_count": 97,
      "metadata": {
        "colab": {
          "base_uri": "https://localhost:8080/"
        },
        "id": "U7aOPYyYtzkx",
        "outputId": "6d73ff47-f1c1-460e-f24c-d3df4c5c00a4"
      },
      "outputs": [
        {
          "data": {
            "text/plain": [
              "True"
            ]
          },
          "execution_count": 97,
          "metadata": {},
          "output_type": "execute_result"
        }
      ],
      "source": [
        "# exact replication of V_1. Residual values are zero\n",
        "np.allclose(np.dot(M1_, reg), V1)"
      ]
    },
    {
      "cell_type": "code",
      "execution_count": 98,
      "metadata": {
        "colab": {
          "base_uri": "https://localhost:8080/"
        },
        "id": "rD9jcAKDt7xy",
        "outputId": "98dc7c71-66f3-49db-8bdd-602bd4a796f8"
      },
      "outputs": [
        {
          "data": {
            "text/plain": [
              "10.267303102625304"
            ]
          },
          "execution_count": 98,
          "metadata": {},
          "output_type": "execute_result"
        }
      ],
      "source": [
        "# unique arbitrage-free price for the risky asset V\n",
        "V0_ = np.dot(M0_, reg)\n",
        "V0_"
      ]
    }
  ],
  "metadata": {
    "colab": {
      "provenance": []
    },
    "kernelspec": {
      "display_name": "Python 3",
      "name": "python3"
    },
    "language_info": {
      "codemirror_mode": {
        "name": "ipython",
        "version": 3
      },
      "file_extension": ".py",
      "mimetype": "text/x-python",
      "name": "python",
      "nbconvert_exporter": "python",
      "pygments_lexer": "ipython3",
      "version": "3.9.18"
    }
  },
  "nbformat": 4,
  "nbformat_minor": 0
}
