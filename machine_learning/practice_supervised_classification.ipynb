{
 "cells": [
  {
   "attachments": {},
   "cell_type": "markdown",
   "metadata": {},
   "source": [
    "## Import Library : 분석에 사용할 모듈 설치 "
   ]
  },
  {
   "cell_type": "code",
   "execution_count": 1,
   "metadata": {},
   "outputs": [],
   "source": [
    "# !pip install --upgrade pip\n",
    "# !python -m pip install --user --upgrade pip\n",
    "# !pip install xgboost --user --upgrade\n",
    "# !pip install lightgbm --user --upgrade\n",
    "# !pip install catboost --user --upgrade\n",
    "# !pip install mlxtend --user --upgrade"
   ]
  },
  {
   "cell_type": "code",
   "execution_count": 2,
   "metadata": {},
   "outputs": [],
   "source": [
    "# Ignore the warnings\n",
    "import warnings\n",
    "warnings.filterwarnings('ignore')\n",
    "\n",
    "# System related and data input controls\n",
    "import os\n",
    "\n",
    "# data manipulation and visualization\n",
    "import pandas as pd\n",
    "pd.options.display.float_format = '{:,.2f}'.format\n",
    "pd.options.display.max_rows = 20\n",
    "pd.options.display.max_columns = 20\n",
    "import numpy as np\n",
    "import matplotlib.pyplot as plt\n",
    "import seaborn as sns\n",
    "from sklearn import preprocessing\n",
    "\n",
    "# modeling algorithms\n",
    "# general\n",
    "import statsmodels.api as sm \n",
    "from scipy import stats\n",
    "\n",
    "# classification\n",
    "from sklearn.linear_model import LogisticRegression\n",
    "from sklearn.gaussian_process import GaussianProcessClassifier\n",
    "from sklearn.neighbors import KNeighborsClassifier\n",
    "from sklearn.svm import LinearSVC, SVC\n",
    "from sklearn.tree import DecisionTreeClassifier\n",
    "from sklearn.tree import plot_tree, export_text, export_graphviz\n",
    "from sklearn.naive_bayes import GaussianNB, BernoulliNB, MultinomialNB\n",
    "from sklearn.ensemble import VotingClassifier, BaggingClassifier, RandomForestClassifier, AdaBoostClassifier, GradientBoostingClassifier, StackingClassifier\n",
    "from xgboost import XGBClassifier\n",
    "# from lightgbm import LGBMClassifier\n",
    "from xgboost import plot_importance as plot_importance_xgb\n",
    "# from lightgbm import plor_importance as plot_importance_lgbm\n",
    "from catboost import Pool, CatBoostClassifier\n",
    "from mlxtend.classifier import StackingClassifier, StackingCVClassifier\n",
    "from mlxtend.plotting import plot_decision_regions\n",
    "\n",
    "# Model selection\n",
    "from sklearn.model_selection import train_test_split, GridSearchCV\n",
    "\n",
    "# Evaluation metrics\n",
    "from sklearn import metrics\n",
    "\n",
    "# for classification\n",
    "from sklearn.metrics import confusion_matrix, classification_report\n",
    "from sklearn.metrics import accuracy_score, f1_score, roc_auc_score\n",
    "from sklearn.metrics import roc_curve, auc, precision_recall_curve\n",
    "\n"
   ]
  },
  {
   "attachments": {},
   "cell_type": "markdown",
   "metadata": {},
   "source": [
    "## 사용자 정의 함수"
   ]
  },
  {
   "cell_type": "code",
   "execution_count": 3,
   "metadata": {},
   "outputs": [],
   "source": [
    "from module_classification import *"
   ]
  },
  {
   "attachments": {},
   "cell_type": "markdown",
   "metadata": {},
   "source": [
    "## Base Algorithm : Logistic Regression"
   ]
  },
  {
   "cell_type": "code",
   "execution_count": 4,
   "metadata": {},
   "outputs": [
    {
     "name": "stdout",
     "output_type": "stream",
     "text": [
      "(712, 11) (712, 1)\n",
      "(179, 11) (179, 1)\n"
     ]
    }
   ],
   "source": [
    "# 데이터 로딩\n",
    "location = os.path.join('.', 'data', 'Titanic.csv')\n",
    "df = pd.read_csv(location)\n",
    "\n",
    "# 데이터 전처리\n",
    "df = fillnull(df)\n",
    "df = prep(df)\n",
    "\n",
    "Y_colname = ['Survived']\n",
    "X_train, X_test, Y_train, Y_test = datasplit(df, Y_colname)\n",
    "\n",
    "label_colname = ['Sex', 'Cabin', 'Ticket']\n",
    "encoder = preprocessing.LabelEncoder()\n",
    "X_train_fe, X_test_fe = label_encoding(X_train, X_test, label_colname, encoder)\n",
    "\n",
    "onehot_colname = ['Name', 'Embarked']\n",
    "X_train_fe = onehot_encoding(X_train_fe, onehot_colname)\n",
    "X_test_fe = onehot_encoding(X_test_fe, onehot_colname)\n",
    "X_train_fe, X_test_fe = col_mapping(X_train_fe, X_test_fe)  \n",
    "\n",
    "scaler = preprocessing.MinMaxScaler()\n",
    "X_train_fes, X_test_fes = scale(scaler, X_train_fe, X_test_fe)"
   ]
  },
  {
   "cell_type": "code",
   "execution_count": null,
   "metadata": {},
   "outputs": [],
   "source": []
  },
  {
   "cell_type": "code",
   "execution_count": null,
   "metadata": {},
   "outputs": [],
   "source": []
  }
 ],
 "metadata": {
  "kernelspec": {
   "display_name": "tf",
   "language": "python",
   "name": "python3"
  },
  "language_info": {
   "codemirror_mode": {
    "name": "ipython",
    "version": 3
   },
   "file_extension": ".py",
   "mimetype": "text/x-python",
   "name": "python",
   "nbconvert_exporter": "python",
   "pygments_lexer": "ipython3",
   "version": "3.10.6"
  },
  "orig_nbformat": 4
 },
 "nbformat": 4,
 "nbformat_minor": 2
}
