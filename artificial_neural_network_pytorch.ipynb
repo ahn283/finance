{
  "nbformat": 4,
  "nbformat_minor": 0,
  "metadata": {
    "colab": {
      "provenance": [],
      "authorship_tag": "ABX9TyPW7AmXUncKnqRO1v8yB9+U",
      "include_colab_link": true
    },
    "kernelspec": {
      "name": "python3",
      "display_name": "Python 3"
    },
    "language_info": {
      "name": "python"
    }
  },
  "cells": [
    {
      "cell_type": "markdown",
      "metadata": {
        "id": "view-in-github",
        "colab_type": "text"
      },
      "source": [
        "<a href=\"https://colab.research.google.com/github/ahn283/finance/blob/main/artificial_neural_network_pytorch.ipynb\" target=\"_parent\"><img src=\"https://colab.research.google.com/assets/colab-badge.svg\" alt=\"Open In Colab\"/></a>"
      ]
    },
    {
      "cell_type": "markdown",
      "source": [
        "# 인공신경망 구성하기"
      ],
      "metadata": {
        "id": "tObIUA3rR2pr"
      }
    },
    {
      "cell_type": "markdown",
      "source": [
        "## 실습 목표\n",
        "----\n",
        "- pytorch의 주요 기능을 이해한다.\n",
        "- 주어진 데이터 셋을 활용하여 인공신경망을 설계한다. \n",
        "- 인공신경망 학습 과정을 코드로 작성하고, 학습이 완료된 모델을 생성한다"
      ],
      "metadata": {
        "id": "7JiMupZhR3gl"
      }
    },
    {
      "cell_type": "markdown",
      "source": [
        "## 문제 정의\n",
        "----\n",
        "\n",
        "multiclass classifier"
      ],
      "metadata": {
        "id": "8Er6Kt6-R45u"
      }
    },
    {
      "cell_type": "markdown",
      "source": [
        "## 주요 코드"
      ],
      "metadata": {
        "id": "RX0FPwTQR6KN"
      }
    },
    {
      "cell_type": "markdown",
      "source": [
        "\n",
        "### 1. TensorDataset과 DataLoader\n",
        "\n",
        "- 입력 데이터를 쉽게 처리하고, 배치 단위로 잘러서 학습할 수 있게 도와주는 모듈\n",
        "- **Dataset** : 학습시 사용하는 feature와 target의 pair로 이루어짐. \n",
        "    - 아래에서 코드에서는 TensorDataset을 사용하여 Dataset 인스턴스를 생성했지만, 이미지의 사례와 같이 Dataset 클래스를 상속받아서 커스텀 인스턴스를 생성하는 형태로 많이 사용\n",
        "\n",
        "- **DataLoader**: 학습 시 각 인스턴스에 쉽게 접근할 수 있도록 순회 가능한 객체(iterable)를 생성\n",
        "\n",
        "![data loader](https://sebastianraschka.com/images/blog/2022/datapipes/loader-flow.png)\n",
        "\n",
        "\n",
        "- **Sample code**\n",
        "```\n",
        "from torch.utils.data import  TensorDataset, DataLoader\n",
        "```\n",
        "```\n",
        "# X,y로 분할한 데이터를 tensor로 변환\n",
        "X_train = torch.tensor(X_train, dtype=torch.float32)\n",
        "X_test = torch.tensor(X_test, dtype=torch.float32)\n",
        "y_train = torch.tensor(y_train, dtype=torch.int64)\n",
        "y_test = torch.tensor(y_test, dtype=torch.int64)\n",
        "```\n",
        "```\n",
        "# tensor를 TensorDataset으로 생성 - X와 y가 짝으로 이루어짐\n",
        "train_dataset = TensorDataset(X_train, y_train)\n",
        "test_dataset = TensorDataset(X_test, y_test)\n",
        "```\n",
        "```\n",
        "# DataLoader 형태로 생성\n",
        "train_dataloader = DataLoader(train_dataset, batch_size=10, shuffle=True)\n",
        "test_dataloader = DataLoader(test_dataset, batch_size=10, shuffle=True)\n",
        "```\n",
        "\n",
        "- **DataLoader가 하는 역할**\n",
        "    - shuffling\n",
        "    - batch ...\n",
        "    \n",
        "![data loader](https://sebastianraschka.com/images/blog/2022/datapipes/dataflow-good.png)\n"
      ],
      "metadata": {
        "id": "dQAhwoRER7pH"
      }
    },
    {
      "cell_type": "markdown",
      "source": [
        "\n",
        "### 2. Device 설정\n",
        "- 일반적으로 인공신경망의 학습은 (가능하다면) GPU를 사용하는 것이 바람직함\n",
        "    - Colab Runtime 설정 변경\n",
        "- GPU를 사용하여 학습을 진행하도록 명시적으로 작성 필요\n",
        "- 연산 유형에 따라 GPU에서 수행이 불가능한 경우도 존재하는데, 그럴 경우도 마찬가지로 명시적으로 어떤 프로세서에서 연산을 수행해야하는지 코드로 작성해야함 \n",
        "\n",
        "```\n",
        "device = 'cuda' if torch.cuda.is_available() else 'cpu'\n",
        "model = NeuralNetwork().to(device)\n",
        "```\n"
      ],
      "metadata": {
        "id": "jrbUgAEgR9q9"
      }
    },
    {
      "cell_type": "markdown",
      "source": [
        "### 3. 신경망 생성\n",
        "\n",
        "- **torch.nn 패키지**는 신경망 생성 및 학습 시 설정해야하는 다양한 기능을 제공\n",
        "\n",
        "```\n",
        "import torch.nn as nn\n",
        "```\n",
        "- 신경망을 **nn.Module**을 상속받아 정의\n",
        "    - __ __init__ __(): 신경망에서 사용할 layer를 초기화하는 부분\n",
        "    - __forward()__: feed foward 연산 수행 시, 각 layer의 입출력이 어떻게 연결되는지를 지정\n",
        "\n",
        "```\n",
        "class NeuralNetwork(nn.Module):\n",
        "    def __init__(self):\n",
        "        super(NeuralNetwork, self).__init__()\n",
        "        self.input_layer    = nn.Linear(4, 16)\n",
        "        self.hidden_layer1  = nn.Linear(16, 32)\n",
        "        self.output_layer   = nn.Linear(32, 3)\n",
        "        self.relu = nn.ReLU()\n",
        "    \n",
        "    def forward(self, x):\n",
        "        out =  self.relu(self.input_layer(x))\n",
        "        out =  self.relu(self.hidden_layer1(out))\n",
        "        out =  self.output_layer(out)\n",
        "        return out\n",
        "\n",
        "```\n"
      ],
      "metadata": {
        "id": "8zhBYHoESUBB"
      }
    },
    {
      "cell_type": "markdown",
      "source": [
        "### 4. Model compile\n",
        "\n",
        "- 학습 시 필요한 정보들(loss function, optimizer)을 선언\n",
        "- 일반적으로 loss와 optimizer는 아래와 같이 변수로 선언하고, 변수를 train/test 시 참고할 수 있도록 매개변수로 지정해줌 \n",
        "\n",
        "```\n",
        "learning_rate = 0.01\n",
        "loss = nn.CrossEntropyLoss()\n",
        "optimizer = torch.optim.Adam(model.parameters(),lr=learning_rate)\n",
        "```\n"
      ],
      "metadata": {
        "id": "SkSCiAoLSV7k"
      }
    },
    {
      "cell_type": "markdown",
      "source": [
        "### 5. Train\n",
        "- **신경망의 학습과정**을 별도의 함수로 구성하는 것이 일반적\n",
        "    - feed forward -> loss -> error back propagation -> (log) -> (반복)\n",
        "\n",
        "```\n",
        "def train_loop(train_loader, model, loss_fn, optimizer):\n",
        "    for batch, (X, y) in enumerate(train_loader):\n",
        "        X, y = X.to(device), y.to(device)\n",
        "        pred = model(X)\n",
        "        loss = loss_fn(pred, y)\n",
        "        optimizer.zero_grad()\n",
        "        loss.backward()\n",
        "        optimizer.step()\n",
        "```"
      ],
      "metadata": {
        "id": "JYja1RdPSdK3"
      }
    },
    {
      "cell_type": "markdown",
      "source": [
        "### 6. Test\n",
        "\n",
        "- 학습과정과 비슷하나 error back propagate하는 부분이 없음\n",
        "    - feed forward -> loss ->  (log) -> (반복)\n",
        "\n",
        "```\n",
        "def test_loop(test_loader, model, loss_fn):\n",
        "    size = len(test_loader.dataset)\n",
        "    num_batches = len(test_loader)\n",
        "    test_loss, correct = 0, 0\n",
        "\n",
        "    with torch.no_grad():\n",
        "        for X, y in test_loader:\n",
        "            X, y = X.to(device), y.to(device)\n",
        "            pred = model(X)\n",
        "            test_loss += loss_fn(pred, y).item()\n",
        "            correct += (pred.argmax(1) == y).type(torch.float).sum().item()\n",
        "\n",
        "    test_loss /= num_batches\n",
        "    correct /= size\n",
        "    print(f\"Test Error: \\n Accuracy: {(100*correct):>0.1f}%, Avg loss: {test_loss:8f}\\n\")\n"
      ],
      "metadata": {
        "id": "g9Jjdrf-Sgiz"
      }
    },
    {
      "cell_type": "markdown",
      "source": [
        "### 7. Iteration\n",
        "- 신경망 학습은 여러 epochs을 반복해서 수행하면서 모델을 구성하는 최적의 파라미터를 찾음\n",
        "- 지정한 epochs 수만큼 **학습**과정과 **평가**과정을 반복하면서, 모델의 성능(loss, accuracy 등)을 체크함\n",
        "\n",
        "```\n",
        "epochs = 10\n",
        "for i in range(epochs) :\n",
        "    print(f\"Epoch {i+1} \\n------------------------\")\n",
        "    train_loop(train_dataloader, model, loss, optimizer)\n",
        "    test_loop(test_dataloader, model, loss)\n",
        "print(\"Done!\")\n",
        "```"
      ],
      "metadata": {
        "id": "m6aBCcZSSu1x"
      }
    },
    {
      "cell_type": "markdown",
      "source": [
        "## Basic Neural Network\n",
        "\n",
        "iris 데이터셋을 사용하여 꽃의 품종을 구분하는 분류기를 신경망을 사용하여 구현해봅니다."
      ],
      "metadata": {
        "id": "vobFHpYCS3j8"
      }
    },
    {
      "cell_type": "markdown",
      "source": [
        "#### [Step1] Load libraries & Datasets"
      ],
      "metadata": {
        "id": "rLiEkmF6S5Du"
      }
    },
    {
      "cell_type": "code",
      "execution_count": 7,
      "metadata": {
        "id": "MJURDmBiRwwa"
      },
      "outputs": [],
      "source": [
        "import numpy as np\n",
        "import pandas as pd\n",
        "import matplotlib.pyplot as plt\n",
        "import seaborn as sns\n",
        "from sklearn.datasets import load_iris\n",
        "from sklearn.model_selection import train_test_split\n",
        "import torch\n",
        "import torch.nn as nn\n",
        "from torch.utils.data import TensorDataset, DataLoader\n",
        "\n",
        "# Load data\n",
        "iris = load_iris()\n",
        "df = pd.DataFrame(data=iris.data, columns=iris.feature_names)\n",
        "df['label'] = iris.target\n",
        "\n",
        "# Split data\n",
        "y = df['label']\n",
        "X = df.drop(['label'], axis=1)\n",
        "\n",
        "X_train, X_test, y_train, y_test = train_test_split(X.values, y.values, random_state=42, stratify=y)"
      ]
    },
    {
      "cell_type": "markdown",
      "source": [
        "#### [Step2] Create DataLoader"
      ],
      "metadata": {
        "id": "_26L-ptpZ8L8"
      }
    },
    {
      "cell_type": "code",
      "source": [
        "X_train = torch.tensor(X_train, dtype=torch.float32)\n",
        "X_test = torch.tensor(X_test, dtype=torch.float32)\n",
        "y_train = torch.tensor(y_train, dtype=torch.int64)\n",
        "y_test = torch.tensor(y_test, dtype=torch.int64)\n",
        "\n",
        "train_dataset = TensorDataset(X_train, y_train)\n",
        "test_dataset = TensorDataset(X_test, y_test)\n",
        "\n",
        "train_dataloader = DataLoader(train_dataset, batch_size=10, shuffle=True)\n",
        "test_dataloader = DataLoader(test_dataset, batch_size=10, shuffle=True)"
      ],
      "metadata": {
        "id": "m_mFTcZ6ZvGc"
      },
      "execution_count": 8,
      "outputs": []
    },
    {
      "cell_type": "markdown",
      "source": [
        "#### [Step3] Set Network Structure"
      ],
      "metadata": {
        "id": "-z5AoqUGasNm"
      }
    },
    {
      "cell_type": "code",
      "source": [
        "class NeuralNetwork(nn.Module):\n",
        "    def __init__(self):\n",
        "        super(NeuralNetwork, self).__init__()\n",
        "        self.input_layer = nn.Linear(4, 16)\n",
        "        self.hidden_layer1 = nn.Linear(16, 32)\n",
        "        self.output_layer = nn.Linear(32, 3)\n",
        "        self.relu = nn.ReLU()\n",
        "\n",
        "    def forward(self, x):\n",
        "        out = self.relu(self.input_layer(x))\n",
        "        out = self.relu(self.hidden_layer1(out))\n",
        "        out = self.output_layer(out)\n",
        "        return out"
      ],
      "metadata": {
        "id": "ZkF-jeWmamVF"
      },
      "execution_count": 9,
      "outputs": []
    },
    {
      "cell_type": "markdown",
      "source": [
        "#### [Step4] Create Model instance"
      ],
      "metadata": {
        "id": "-X_FAq0XbWRc"
      }
    },
    {
      "cell_type": "code",
      "source": [
        "device = 'cuda' if torch.cuda.is_available() else 'cpu'\n",
        "print(f'device = {device}')\n",
        "\n",
        "model = NeuralNetwork().to(device)"
      ],
      "metadata": {
        "colab": {
          "base_uri": "https://localhost:8080/"
        },
        "id": "vc69duwkbVC1",
        "outputId": "4b2ceb1c-6141-4f1f-e76f-39ed0969274b"
      },
      "execution_count": 11,
      "outputs": [
        {
          "output_type": "stream",
          "name": "stdout",
          "text": [
            "device = cpu\n"
          ]
        }
      ]
    },
    {
      "cell_type": "markdown",
      "source": [
        "#### [Step5] Model compile"
      ],
      "metadata": {
        "id": "ZH-dIRGObpdM"
      }
    },
    {
      "cell_type": "code",
      "source": [
        "# compile model\n",
        "learning_rate = 0.001\n",
        "loss = nn.CrossEntropyLoss()\n",
        "optimizer = torch.optim.Adam(model.parameters(), lr=learning_rate)"
      ],
      "metadata": {
        "id": "Oxg33B4pbmbJ"
      },
      "execution_count": 12,
      "outputs": []
    },
    {
      "cell_type": "markdown",
      "source": [
        "#### [Step6] Set train loop"
      ],
      "metadata": {
        "id": "NiB07ag4b3Iu"
      }
    },
    {
      "cell_type": "code",
      "source": [
        "def train_loop(train_loader, model, loss_fn, optimizer):\n",
        "    size = len(train_loader.dataset)\n",
        "\n",
        "    for batch, (X, y) in enumerate(train_loader):\n",
        "        X, y = X.to(device), y.to(device)\n",
        "        pred = model(X)\n",
        "\n",
        "        # calcalate loss\n",
        "        loss = loss_fn(pred, y)\n",
        "\n",
        "        # backpropagation\n",
        "        optimizer.zero_grad()\n",
        "        loss.backward()\n",
        "        optimizer.step()\n",
        "\n",
        "        loss, current = loss.item(), batch * len(X)\n",
        "        print(f'loss: {loss:>7f} [{current:>5d}]/{size:5d}')"
      ],
      "metadata": {
        "id": "JFWHVusHb1iq"
      },
      "execution_count": 13,
      "outputs": []
    },
    {
      "cell_type": "markdown",
      "source": [
        "#### [Step7] Set test loop"
      ],
      "metadata": {
        "id": "KGhCCuHVcndF"
      }
    },
    {
      "cell_type": "code",
      "source": [
        "def test_loop(test_loader, model, loss_fn):\n",
        "    size = len(test_loader.dataset)\n",
        "    num_batches = len(test_loader)\n",
        "    test_loss, correct = 0, 0\n",
        "\n",
        "    with torch.no_grad():\n",
        "        for X, y in test_loader:\n",
        "            X, y = X.to(device), y.to(device)\n",
        "            pred = model(X)\n",
        "            test_loss += loss_fn(pred, y).item()\n",
        "            correct += (pred.argmax(1) == y).type(torch.float).sum().item()\n",
        "\n",
        "    test_loss /= num_batches\n",
        "    correct /= size\n",
        "    print(f'Test Error: \\n Accuracy: {(100*correct):>0.1f}%, Avg loss: {test_loss:8f}\\n')"
      ],
      "metadata": {
        "id": "3unLbR3UcmFi"
      },
      "execution_count": 16,
      "outputs": []
    },
    {
      "cell_type": "markdown",
      "source": [
        "#### [Step8] Run model"
      ],
      "metadata": {
        "id": "KVTg443QdfhT"
      }
    },
    {
      "cell_type": "code",
      "source": [
        "# fit model\n",
        "epochs = 10\n",
        "\n",
        "for i in range(epochs):\n",
        "    print(f'Epoch {i+1} \\n--------------------')\n",
        "    train_loop(train_dataloader, model, loss, optimizer)\n",
        "    test_loop(test_dataloader, model, loss)\n",
        "\n",
        "print('Done!')"
      ],
      "metadata": {
        "colab": {
          "base_uri": "https://localhost:8080/"
        },
        "id": "6llV0GBMdezl",
        "outputId": "9fe84e94-4986-4973-98d6-c5e555263def"
      },
      "execution_count": 17,
      "outputs": [
        {
          "output_type": "stream",
          "name": "stdout",
          "text": [
            "Epoch 1 \n",
            "--------------------\n",
            "loss: 1.116849 [    0]/  112\n",
            "loss: 1.099165 [   10]/  112\n",
            "loss: 1.190338 [   20]/  112\n",
            "loss: 1.112680 [   30]/  112\n",
            "loss: 1.038705 [   40]/  112\n",
            "loss: 1.076521 [   50]/  112\n",
            "loss: 1.050376 [   60]/  112\n",
            "loss: 1.048837 [   70]/  112\n",
            "loss: 1.126226 [   80]/  112\n",
            "loss: 1.044189 [   90]/  112\n",
            "loss: 1.066165 [  100]/  112\n",
            "loss: 1.072655 [   22]/  112\n",
            "Test Error: \n",
            " Accuracy: 36.8%, Avg loss: 1.067783\n",
            "\n",
            "Epoch 2 \n",
            "--------------------\n",
            "loss: 1.096405 [    0]/  112\n",
            "loss: 0.998883 [   10]/  112\n",
            "loss: 1.057093 [   20]/  112\n",
            "loss: 1.059935 [   30]/  112\n",
            "loss: 1.058938 [   40]/  112\n",
            "loss: 1.044064 [   50]/  112\n",
            "loss: 1.086360 [   60]/  112\n",
            "loss: 1.070032 [   70]/  112\n",
            "loss: 1.059194 [   80]/  112\n",
            "loss: 1.142213 [   90]/  112\n",
            "loss: 1.008208 [  100]/  112\n",
            "loss: 0.991565 [   22]/  112\n",
            "Test Error: \n",
            " Accuracy: 36.8%, Avg loss: 1.044361\n",
            "\n",
            "Epoch 3 \n",
            "--------------------\n",
            "loss: 1.015871 [    0]/  112\n",
            "loss: 1.130488 [   10]/  112\n",
            "loss: 1.054952 [   20]/  112\n",
            "loss: 0.996730 [   30]/  112\n",
            "loss: 1.036422 [   40]/  112\n",
            "loss: 1.076433 [   50]/  112\n",
            "loss: 1.072949 [   60]/  112\n",
            "loss: 0.990152 [   70]/  112\n",
            "loss: 1.045190 [   80]/  112\n",
            "loss: 0.952993 [   90]/  112\n",
            "loss: 1.058428 [  100]/  112\n",
            "loss: 0.957981 [   22]/  112\n",
            "Test Error: \n",
            " Accuracy: 36.8%, Avg loss: 1.021627\n",
            "\n",
            "Epoch 4 \n",
            "--------------------\n",
            "loss: 0.978432 [    0]/  112\n",
            "loss: 1.061205 [   10]/  112\n",
            "loss: 1.032038 [   20]/  112\n",
            "loss: 1.039788 [   30]/  112\n",
            "loss: 0.949197 [   40]/  112\n",
            "loss: 1.022699 [   50]/  112\n",
            "loss: 0.977819 [   60]/  112\n",
            "loss: 1.068343 [   70]/  112\n",
            "loss: 1.038357 [   80]/  112\n",
            "loss: 1.053936 [   90]/  112\n",
            "loss: 0.984237 [  100]/  112\n",
            "loss: 0.962225 [   22]/  112\n",
            "Test Error: \n",
            " Accuracy: 63.2%, Avg loss: 1.001406\n",
            "\n",
            "Epoch 5 \n",
            "--------------------\n",
            "loss: 0.998648 [    0]/  112\n",
            "loss: 0.913943 [   10]/  112\n",
            "loss: 1.015270 [   20]/  112\n",
            "loss: 0.917394 [   30]/  112\n",
            "loss: 1.057175 [   40]/  112\n",
            "loss: 1.028495 [   50]/  112\n",
            "loss: 1.015082 [   60]/  112\n",
            "loss: 0.964396 [   70]/  112\n",
            "loss: 0.975388 [   80]/  112\n",
            "loss: 0.921884 [   90]/  112\n",
            "loss: 1.075966 [  100]/  112\n",
            "loss: 0.922541 [   22]/  112\n",
            "Test Error: \n",
            " Accuracy: 65.8%, Avg loss: 0.976398\n",
            "\n",
            "Epoch 6 \n",
            "--------------------\n",
            "loss: 0.918563 [    0]/  112\n",
            "loss: 0.949212 [   10]/  112\n",
            "loss: 0.974441 [   20]/  112\n",
            "loss: 0.992172 [   30]/  112\n",
            "loss: 0.998442 [   40]/  112\n",
            "loss: 0.994082 [   50]/  112\n",
            "loss: 0.910661 [   60]/  112\n",
            "loss: 0.972169 [   70]/  112\n",
            "loss: 0.947227 [   80]/  112\n",
            "loss: 0.884825 [   90]/  112\n",
            "loss: 1.036967 [  100]/  112\n",
            "loss: 0.925069 [   22]/  112\n",
            "Test Error: \n",
            " Accuracy: 65.8%, Avg loss: 0.949473\n",
            "\n",
            "Epoch 7 \n",
            "--------------------\n",
            "loss: 0.966351 [    0]/  112\n",
            "loss: 0.932790 [   10]/  112\n",
            "loss: 0.955962 [   20]/  112\n",
            "loss: 0.961792 [   30]/  112\n",
            "loss: 0.913109 [   40]/  112\n",
            "loss: 0.982845 [   50]/  112\n",
            "loss: 0.914772 [   60]/  112\n",
            "loss: 0.885076 [   70]/  112\n",
            "loss: 0.980932 [   80]/  112\n",
            "loss: 0.898492 [   90]/  112\n",
            "loss: 0.873909 [  100]/  112\n",
            "loss: 0.915842 [   22]/  112\n",
            "Test Error: \n",
            " Accuracy: 65.8%, Avg loss: 0.917386\n",
            "\n",
            "Epoch 8 \n",
            "--------------------\n",
            "loss: 0.843116 [    0]/  112\n",
            "loss: 0.872311 [   10]/  112\n",
            "loss: 0.935769 [   20]/  112\n",
            "loss: 0.955881 [   30]/  112\n",
            "loss: 0.968705 [   40]/  112\n",
            "loss: 0.887240 [   50]/  112\n",
            "loss: 0.937913 [   60]/  112\n",
            "loss: 0.818913 [   70]/  112\n",
            "loss: 0.920092 [   80]/  112\n",
            "loss: 0.918110 [   90]/  112\n",
            "loss: 0.880327 [  100]/  112\n",
            "loss: 0.780015 [   22]/  112\n",
            "Test Error: \n",
            " Accuracy: 65.8%, Avg loss: 0.887662\n",
            "\n",
            "Epoch 9 \n",
            "--------------------\n",
            "loss: 0.875975 [    0]/  112\n",
            "loss: 0.898938 [   10]/  112\n",
            "loss: 0.846355 [   20]/  112\n",
            "loss: 0.941263 [   30]/  112\n",
            "loss: 0.819024 [   40]/  112\n",
            "loss: 0.838174 [   50]/  112\n",
            "loss: 0.860848 [   60]/  112\n",
            "loss: 0.813987 [   70]/  112\n",
            "loss: 0.944030 [   80]/  112\n",
            "loss: 0.814676 [   90]/  112\n",
            "loss: 0.856144 [  100]/  112\n",
            "loss: 0.962127 [   22]/  112\n",
            "Test Error: \n",
            " Accuracy: 65.8%, Avg loss: 0.856528\n",
            "\n",
            "Epoch 10 \n",
            "--------------------\n",
            "loss: 0.865452 [    0]/  112\n",
            "loss: 0.807219 [   10]/  112\n",
            "loss: 0.834779 [   20]/  112\n",
            "loss: 0.849488 [   30]/  112\n",
            "loss: 0.809543 [   40]/  112\n",
            "loss: 0.853240 [   50]/  112\n",
            "loss: 0.814266 [   60]/  112\n",
            "loss: 0.793770 [   70]/  112\n",
            "loss: 0.900362 [   80]/  112\n",
            "loss: 0.824033 [   90]/  112\n",
            "loss: 0.799758 [  100]/  112\n",
            "loss: 0.777955 [   22]/  112\n",
            "Test Error: \n",
            " Accuracy: 65.8%, Avg loss: 0.818977\n",
            "\n",
            "Done!\n"
          ]
        }
      ]
    }
  ]
}