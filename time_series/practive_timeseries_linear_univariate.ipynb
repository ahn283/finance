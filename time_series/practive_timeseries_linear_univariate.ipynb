{
 "cells": [
  {
   "attachments": {},
   "cell_type": "markdown",
   "metadata": {},
   "source": [
    "# Import Library : 분석에 사용할 모듈 설치\n",
    "\n",
    "\"통계추론, 기계학습 및 딥러닝의 흐름에 시간패턴을 반영하려 진화\"\n",
    "\n",
    "\"지도학습(예측 분류), 비지도학습 문제에 모두 활용되는 필수 알고리즘\"\n",
    "\n",
    "\"미래 예측을 포함한 추천 서비스와 같은 비즈니스에 활용중\"\n",
    "\n",
    "<img src='./img/TS_Evolution.png'>"
   ]
  },
  {
   "cell_type": "code",
   "execution_count": 1,
   "metadata": {},
   "outputs": [],
   "source": [
    "# !pip install --upgrade pip\n",
    "# !python -m pip install --user --upgrade pip\n",
    "# !pip install pandas-datareader\n",
    "# !pip install tqdm\n",
    "# !pip install xgboost\n",
    "# !pip install lightgbm\n",
    "# !pip install --user pmdarima"
   ]
  },
  {
   "cell_type": "code",
   "execution_count": 3,
   "metadata": {},
   "outputs": [],
   "source": [
    "# Auto reload and user defined functions\n",
    "%reload_ext autoreload\n",
    "%autoreload 2\n",
    "from module_regression import *\n",
    "from module_classification import *\n",
    "from module_timeseries import *\n",
    "\n",
    "# Data manipulation and useful functions\n",
    "import requests\n",
    "from io import BytesIO\n",
    "import random\n",
    "from itertools import product\n",
    "import scipy as sp\n",
    "\n",
    "# Time series algorithms\n",
    "from statsmodels.tsa.arima_process import arma_generate_sample\n",
    "from statsmodels.tsa.arima.model import ARIMA\n",
    "from statsmodels.tsa.statespace.sarimax import SARIMAX\n",
    "from pmdarima import AutoARIMA\n",
    "from statsmodels.graphics.tsaplots import plot_acf, plot_pacf, plot_predict"
   ]
  },
  {
   "cell_type": "markdown",
   "metadata": {},
   "source": []
  },
  {
   "cell_type": "code",
   "execution_count": null,
   "metadata": {},
   "outputs": [],
   "source": []
  },
  {
   "cell_type": "code",
   "execution_count": null,
   "metadata": {},
   "outputs": [],
   "source": []
  }
 ],
 "metadata": {
  "kernelspec": {
   "display_name": "tf",
   "language": "python",
   "name": "python3"
  },
  "language_info": {
   "codemirror_mode": {
    "name": "ipython",
    "version": 3
   },
   "file_extension": ".py",
   "mimetype": "text/x-python",
   "name": "python",
   "nbconvert_exporter": "python",
   "pygments_lexer": "ipython3",
   "version": "3.10.6"
  },
  "orig_nbformat": 4
 },
 "nbformat": 4,
 "nbformat_minor": 2
}
