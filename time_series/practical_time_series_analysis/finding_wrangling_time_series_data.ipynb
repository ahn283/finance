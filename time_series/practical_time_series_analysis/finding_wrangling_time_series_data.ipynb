{
 "cells": [
  {
   "attachments": {},
   "cell_type": "markdown",
   "metadata": {},
   "source": [
    "# Finding and Wrangling Time Series Data"
   ]
  },
  {
   "attachments": {},
   "cell_type": "markdown",
   "metadata": {},
   "source": [
    "## Where to Find Time Series Data\n",
    "\n",
    "If you are interested in whrer to find time series data and how to clean it, the best resource for you depends on which of these is your main goal.\n",
    "\n",
    "- Finding an appropriate data set for learning or experimentation purposes\n",
    "\n",
    "- Creating a time series data set out of existing data that is not stored in an explicitly time-oriented form"
   ]
  },
  {
   "attachments": {},
   "cell_type": "markdown",
   "metadata": {},
   "source": [
    "### The UCI Machine Learning Repository\n",
    "\n",
    "[The UCI Machine Learning Repository](https://archive.ics.uci.edu/ml/index.php) contains around 80 times series data sets, ranging from hourly air quality samples in an Italian city to Amazon file access logs to diabetes patients' records of activity, fodd, and blood glucore information\n",
    "\n",
    "[UEA and UCR Time Series Classification Repository](https://www.timeseriesclassification.com/) is a newer effort providing a common set of time series data available for experimentation and research in time series classification tasks. \n",
    "\n",
    "Also consider the [wine data set](https://www.timeseriesclassification.com/description.php?Dataset=Wine), in which wines were classified by region according to the shapes of their spectra. A spectrum is a plot of light wavelength versus intensity. Here we see a time series classification task where there is no passage of time at all. Time series analysis applies because there is a unique and meaningful ordering of x-axis, which a concrete meaning of distance along that axis. Time series analysis distinguishes itself from cross-sectional analysis by using the additional information provided by ordering on the x-axis, whether it is time or wavelength, or something else."
   ]
  },
  {
   "attachments": {},
   "cell_type": "markdown",
   "metadata": {},
   "source": [
    "### Gorvernment time series data sets\n",
    "\n",
    "The [NOAA National Centers for Environmental Information](https://www.ncei.noaa.gov/) publishes a variety of time series data relating to temperatures and precipitation at granularities as fine as every 15 mimutes for all weather stations across the country. The [Bureau of Labor Statistics](https://www.bls.gov/) publishes a monthly index of the national unemployment rate. The [Federal Reserve Bank of St.Louis](https://www.stlouisfed.org/) offers a particularly generous and helpful set of economic time series data."
   ]
  },
  {
   "attachments": {},
   "cell_type": "markdown",
   "metadata": {},
   "source": [
    "## Retrofitting a Time Series Data Collection form a Collection of Tables\n",
    "\n",
    "In many cases, organizations don't plan for time series analysis when they are designing their database schema. In such examples, we need to collect and assemble time series from disparate tables and sources"
   ]
  },
  {
   "attachments": {},
   "cell_type": "markdown",
   "metadata": {},
   "source": [
    "### A Worked Example : Assembling a Time Series Data Collection\n"
   ]
  },
  {
   "attachments": {},
   "cell_type": "markdown",
   "metadata": {},
   "source": [
    "## Timestamping Troubles"
   ]
  },
  {
   "attachments": {},
   "cell_type": "markdown",
   "metadata": {},
   "source": [
    "## Cleaning Your Data"
   ]
  },
  {
   "attachments": {},
   "cell_type": "markdown",
   "metadata": {},
   "source": [
    "## Seasonal Data"
   ]
  },
  {
   "attachments": {},
   "cell_type": "markdown",
   "metadata": {},
   "source": [
    "## Time Zones"
   ]
  },
  {
   "attachments": {},
   "cell_type": "markdown",
   "metadata": {},
   "source": [
    "## Preventing Lookahead"
   ]
  },
  {
   "attachments": {},
   "cell_type": "markdown",
   "metadata": {},
   "source": [
    "## More Resources"
   ]
  },
  {
   "cell_type": "code",
   "execution_count": null,
   "metadata": {},
   "outputs": [],
   "source": []
  }
 ],
 "metadata": {
  "language_info": {
   "name": "python"
  },
  "orig_nbformat": 4
 },
 "nbformat": 4,
 "nbformat_minor": 2
}
