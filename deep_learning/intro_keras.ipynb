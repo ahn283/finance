{
 "cells": [
  {
   "attachments": {},
   "cell_type": "markdown",
   "metadata": {},
   "source": [
    "# **딥러닝 분석용 라이브러리**\n",
    "\n",
    "- 머신러닝 및 딥러닝 플랫폼 : `Scikit-learn`, `Theano`, `Tenserflow`, `PyTorch`, `MXNet`, `NLTK`, `Keras` 등\n",
    "\n",
    "<img src='./img/DL_Platforms.png' width='1000'>\n",
    "\n",
    "\n",
    "<img src='./img/DL_Platforms_Comparing.png' width='1000'>"
   ]
  },
  {
   "attachments": {},
   "cell_type": "markdown",
   "metadata": {},
   "source": [
    "## [`tensorflow`(텐서플로우)](https://www.tensorflow.org/?hl=ko)\n",
    "\n",
    "- **`구글의 인공지능 개발부서`에서 개발하여 내부적으로 사용하다 `2015년 오픈소스로 공개`**\n",
    "\n",
    "- **`파이썬의 문법과 다른 방식`으로 동작하기에 텐서플로우 이해가 쉽진 않음**\n",
    "\n",
    "- **프로그래밍 언어들 중 파이썬은 `느린 언어`라 파이썬으로 딥러닝 구현 어려움**\n",
    "\n",
    "- **`우수한 기능과 서비스`로 가장 많은 사용자 확보**\n",
    "\n",
    "- **`병렬처리`를 지원하며 `고급 신경망 구현` 용이**\n",
    "\n",
    "- **`웹, 모바일, 임베디드 시스템` 등에서 머신러닝 적용 라이브러리 제공**\n",
    "\n",
    "(1) `데이터 플로우` 그래프를 활용하여 풍부하게 표현 가능\n",
    "\n",
    "(2) 단순 `아이디어 테스트` 부터 실제 `현업 서비스` 단계까지 두루 사용\n",
    "\n",
    "(3) 목표와 계산/연산 방식만 설정하면 `자동으로 미분과 최적화`를 포함한 처리 완료\n",
    "\n",
    "(4) `파이썬` 뿐만 아니라 `C++, Go, Java, R` 등 다양한 언어 지원\n",
    "\n",
    "<img src='./img/Tensorflow_Structure.jpg' width='600'>\n",
    "\n",
    "```python\n",
    "# 설치\n",
    "!pip install tensorflow\n",
    "!conda install tensorflow\n",
    "!pip install --upgrade --user tensorflow\n",
    "!pip install -U tensorflow-addons\n",
    "\n",
    "\n",
    "# 불러오기\n",
    "import tensorflow as tf\n",
    "\n",
    "```"
   ]
  },
  {
   "attachments": {},
   "cell_type": "markdown",
   "metadata": {},
   "source": [
    "## [`keras`(케라스)](https://keras.io/)\n",
    "\n",
    "**\"파이썬으로 작성된 `오픈소스(Open Source) 인공신경망 라이브러리`\"**\n",
    "\n",
    "- **`Tensorflow, MXNet, Deeplearning4j 등`을 뒤에서 작동시켜 `대부분의 신경망 프로그래밍 또는 모델링`을 `최소한의 방식으로 빠르고 간편하게` 만들고 학습시킬 수 있는 프레임워크**\n",
    "\n",
    "- **일반적인 사례들을 간단하게 분석할 수 있는 `인터페이스 제공`하여 사용자의 `오류를 명확하게 피드백`하는 편**\n",
    "\n",
    "- **백엔드로 `텐서플로우`를 사용하지만 저수준 연산기반이 아닌 `고수준 구성요소 연산` 제공**\n",
    "\n",
    "- **`모듈 구조`로 구성되어 있지만 여러가지 새로운 아이디어를 반영하기 위해 쉽게 `Customize 가능`하여 `현존하지 않는 신규 알고리즘을 개발하거나 기존 기능이나 엔진들과 연동이 쉬움`**\n",
    "\n",
    "(1) `다양한 딥러닝 네트워크` 구조를 쉽게 생성 가능\n",
    "\n",
    "(2) 동일한 코드로 `CPU`와 `GPU` 모두에서 동일하게 실행 가능\n",
    "\n",
    "(3) 사용하기 쉬운 API로 딥러닝 모델의 프로토타입을 쉽게 구현 가능하고 자유롭게 조합도 가능\n",
    "\n",
    "<img src='./img/Keras_Structure.png' width='600'>\n",
    "\n",
    "```python\n",
    "# 설치\n",
    "!pip install tensorflow\n",
    "!conda install tensorflow\n",
    "!pip install --upgrade --user tensorflow\n",
    "!pip install -U tensorflow-addons\n",
    "!pip install keras\n",
    "!conda install keras\n",
    "!pip install keras-tqdm\n",
    "\n",
    "# 불러오기\n",
    "import tensorflow as tf\n",
    "import keras\n",
    "```"
   ]
  },
  {
   "attachments": {},
   "cell_type": "markdown",
   "metadata": {},
   "source": [
    "## [`pytorch`(파이토치)](https://pytorch.org/tutorials/)\n",
    "\n",
    "- **파이썬 언어로 사용하며, 진화된 `토치 C/CUDA 백엔드`를 사용**\n",
    "\n",
    "- **`강력한 GPU 가속`이 적용되는 파이썬으로 된 `텐서와 동적 신경망`**\n",
    "\n",
    "- **`동적 신경망(Dynamic Neural Network)`은 반복할 때마다 변경이 가능한 신경망**\n",
    "\n",
    "- **각 반복 단계에서 `즉석으로 그래프를 재생성`하며, 텐서플로우는 `단일 데이터 흐름 그래프`**\n",
    "\n",
    "- **속도를 극대화하기 위해 `인텔 MKL`, `엔비디아 cuDNN`, `NCCL`과 같은 가속 라이브러리를 통합**\n",
    "\n",
    "```python\n",
    "# 설치\n",
    "```\n",
    "<img src='./img/PyTorch_Install.png' width='700'>\n",
    "\n",
    "```python\n",
    "# 불러오기\n",
    "import torch\n",
    "torch.__version__\n",
    "torch.cuda.is_available()\n",
    "```"
   ]
  },
  {
   "attachments": {},
   "cell_type": "markdown",
   "metadata": {},
   "source": [
    "# **다층퍼셉트론 데이터분석 프로세스**"
   ]
  },
  {
   "attachments": {},
   "cell_type": "markdown",
   "metadata": {},
   "source": [
    "## Keras 불러오기"
   ]
  },
  {
   "attachments": {},
   "cell_type": "markdown",
   "metadata": {},
   "source": [
    "#### 1) 목표\n",
    "\n",
    "**(1)** `텐서플로우`를 사용하여 `머신러닝과 딥러닝 알고리즘을 구현`할 수 있음\n",
    "\n",
    "**(2)** 지도학습의 대표적 문제인 `회귀문제 및 분류문제`를 텐서플로우로 구현\n",
    "\n",
    "**(3)** `다층퍼셉트론`으로 `데이터를 학습시키는 방법`을 익힘"
   ]
  },
  {
   "cell_type": "code",
   "execution_count": 7,
   "metadata": {},
   "outputs": [],
   "source": [
    "# # Tensorflow 및 Keras 설치하기\n",
    "# !pip install tensorflow==2.9.*\n",
    "# # !pip install --upgrade --user tensorflow\n",
    "# !pip install -U tensorflow-addons\n",
    "# !pip install keras\n",
    "# # !pip install --upgrade --user keras\n",
    "# !pip install keras-tqdm"
   ]
  },
  {
   "cell_type": "code",
   "execution_count": 8,
   "metadata": {},
   "outputs": [],
   "source": [
    "import tensorflow as tf\n",
    "import pydot\n",
    "import graphviz\n",
    "import tensorflow_addons as tfa\n",
    "from tensorflow.keras.models import Sequential, Model, load_model\n",
    "from tensorflow.keras.utils import plot_model"
   ]
  },
  {
   "cell_type": "code",
   "execution_count": 9,
   "metadata": {},
   "outputs": [
    {
     "data": {
      "text/plain": [
       "'2.12.0'"
      ]
     },
     "execution_count": 9,
     "metadata": {},
     "output_type": "execute_result"
    }
   ],
   "source": [
    "tf.__version__"
   ]
  },
  {
   "attachments": {},
   "cell_type": "markdown",
   "metadata": {},
   "source": [
    "## 예제 데이터 생성"
   ]
  },
  {
   "cell_type": "code",
   "execution_count": 10,
   "metadata": {},
   "outputs": [],
   "source": [
    "# 입력과 출력이 같은 데이터를 구성하여 최적의 가중치는 1\n",
    "import numpy as np\n",
    "\n",
    "X_train = np.array([1, 2, 3, 4, 5, 6, 7, 8, 9, 10])\n",
    "X_test = np.array([3, 7, 9])\n",
    "Y_train = np.array([1, 2, 3, 4, 5, 6, 7, 8, 9, 10])\n",
    "Y_test = np.array([3, 7, 9])"
   ]
  },
  {
   "attachments": {},
   "cell_type": "markdown",
   "metadata": {},
   "source": [
    "## 딥러닝 모델생성\n"
   ]
  },
  {
   "attachments": {},
   "cell_type": "markdown",
   "metadata": {},
   "source": [
    "#### 0) 목적\n",
    "\n",
    "- 입력과 출력 데이터를 사용하여 `최적의 가중치(Weight)를 추정`하는 것\n",
    "\n",
    "- 알고리즘이 이해할 수 있는 `전처리가 끝난 X, Y를 입력`\n",
    "\n",
    "- `Layer들을 구성하여 모델을 생성`\n",
    "\n",
    "- `적절한 평가함수 세팅`을 통해 Keras 라이브러리는 최적의 가중치 추정"
   ]
  },
  {
   "attachments": {},
   "cell_type": "markdown",
   "metadata": {},
   "source": [
    "#### 1) 모델링 방식 종류\n",
    "\n",
    "**\"Keras는 `Sequential API, Functional API, Subclassing API`라는 3가지 방식으로 모델링 가능\"**\n",
    "\n",
    "<img src='./img/Keras_Sequencial_Functional.png' width='1000'>\n",
    "\n",
    "| **생성 방식** | **장점** | **단점** |\n",
    "|-----|-----|-----|\n",
    "| **Sequential API** | `단순하게 딥러닝의 층을 쌓는 방식`으로 쉽고 간단 | 다수의 입출력이나 층의 다양한 연결과 연산이 불가하기에 `복합한 모델링 한계` |\n",
    "| **Functional API** | 딥러닝의 층을 `함수형태로 정의`<br>Sequential API가 불가한 `대부분의 복잡한 딥러닝 모델링` 가능 | `직접적으로 연결되지 않는 딥러닝 층의 구현 불가` |\n",
    "| **Subclassing API** | `클래스의 구조`로 딥러닝 활용<br>Functional API가 불가한 `새로운 수준의 딥러닝 아키텍처` 모델링 가능 | `객체 지향 프로그래밍에 익숙`해야 해서 코드 사용이 까다로움 |\n"
   ]
  },
  {
   "attachments": {},
   "cell_type": "markdown",
   "metadata": {},
   "source": [
    "#### 2) Sequential vs Functional\n",
    "\n",
    "```python\n",
    "from tensorflow.keras.models import Sequential, Model\n",
    "from tensorflow.keras.layers import Dense, Input\n",
    "from tensorflow.keras.utils import plot_model\n",
    "\n",
    "# Sequential 방식\n",
    "model = Sequential()    # 모델 구성 선언\n",
    "model.add(Dense(5, input_dim=1, activation='relu'))    # 은닉층1: X를 입력하는 layer 추가\n",
    "model.add(Dense(3, activation='relu'))    # 은닉층2: layer 추가\n",
    "model.add(Dense(1, activation='linear'))    # 출력층: Y를 출력하는 layer 추가\n",
    "model.summary()    # 네트워크 구조 출력\n",
    "plot_model(model)    # 네트워크 구조 시각화\n",
    "```\n",
    "\n",
    "<br>\n",
    "\n",
    "```python\n",
    "# Functional 방식\n",
    "inputs = Input(shape=(1,))    # Input 함수를 사용하여 입력층 생성\n",
    "hidden1 = Dense(5, activation='relu')(inputs)    # 은닉층1: 입력층을 입력받는 layer 추가\n",
    "hidden2 = Dense(3, activation='relu')(hidden1)    # 은닉층2: 은닉층1을 입력받는 layer 추가\n",
    "output = Dense(1, activation='linear')(hidden2)    # 출력층: 은닉층2를 입력받아 Y를 출력하는 layer 추가\n",
    "model = Model(inputs, output)    # 입력층과 출력층을 구성하며 최종 모델 완성\n",
    "model.summary()    # 네트워크 구조 출력\n",
    "plot_model(model)    # 네트워크 구조 시각화\n",
    "```\n",
    "\n",
    "| **문제 유형** | **출력층 Activation Function** |\n",
    "|-----|-----|\n",
    "| 임의 값 Regression | 없음 / Linear |\n",
    "| 0과 1사이 값 Regression | Sigmoid |\n",
    "| Binary Classification | Sigmoid |\n",
    "| Multi Classification (단일 Label) | Softmax |\n",
    "| Multi Classification (다중 Label) | Sigmoid |"
   ]
  },
  {
   "cell_type": "code",
   "execution_count": 15,
   "metadata": {},
   "outputs": [],
   "source": [
    "from tensorflow.keras.models import Sequential, Model\n",
    "from tensorflow.keras.layers import Dense, Input\n",
    "from tensorflow.keras.utils import plot_model"
   ]
  },
  {
   "cell_type": "code",
   "execution_count": 13,
   "metadata": {},
   "outputs": [
    {
     "name": "stdout",
     "output_type": "stream",
     "text": [
      "Model: \"sequential_2\"\n",
      "_________________________________________________________________\n",
      " Layer (type)                Output Shape              Param #   \n",
      "=================================================================\n",
      " dense_6 (Dense)             (None, 5)                 10        \n",
      "                                                                 \n",
      " dense_7 (Dense)             (None, 1)                 6         \n",
      "                                                                 \n",
      " dense_8 (Dense)             (None, 1)                 2         \n",
      "                                                                 \n",
      "=================================================================\n",
      "Total params: 18\n",
      "Trainable params: 18\n",
      "Non-trainable params: 0\n",
      "_________________________________________________________________\n"
     ]
    },
    {
     "data": {
      "image/png": "[encoded data removed]",
      "text/plain": [
       "<IPython.core.display.Image object>"
      ]
     },
     "execution_count": 13,
     "metadata": {},
     "output_type": "execute_result"
    }
   ],
   "source": [
    "# Sequential 방식\n",
    "model = Sequential()    # 모델 구성 선언\n",
    "model.add(Dense(5, input_dim=1, activation='relu'))    # 은닉층1: X를 입력하는 layer 추가\n",
    "model.add(Dense(1, activation='relu'))    # 은닉층2: layer 추가\n",
    "model.add(Dense(1, activation='linear'))    # 출력층: Y를 출력하는 layer 추가\n",
    "model.summary()    # 네트워크 구조 출력\n",
    "plot_model(model)   # 네트워크 구조 시각화"
   ]
  },
  {
   "cell_type": "code",
   "execution_count": 17,
   "metadata": {},
   "outputs": [
    {
     "name": "stdout",
     "output_type": "stream",
     "text": [
      "Model: \"model\"\n",
      "_________________________________________________________________\n",
      " Layer (type)                Output Shape              Param #   \n",
      "=================================================================\n",
      " input_1 (InputLayer)        [(None, 1)]               0         \n",
      "                                                                 \n",
      " dense_9 (Dense)             (None, 5)                 10        \n",
      "                                                                 \n",
      " dense_10 (Dense)            (None, 3)                 18        \n",
      "                                                                 \n",
      " dense_11 (Dense)            (None, 1)                 4         \n",
      "                                                                 \n",
      "=================================================================\n",
      "Total params: 32\n",
      "Trainable params: 32\n",
      "Non-trainable params: 0\n",
      "_________________________________________________________________\n"
     ]
    },
    {
     "data": {
      "image/png": "[encoded data removed]",
      "text/plain": [
       "<IPython.core.display.Image object>"
      ]
     },
     "execution_count": 17,
     "metadata": {},
     "output_type": "execute_result"
    }
   ],
   "source": [
    "# Functional 방식\n",
    "inputs = Input(shape=(1,))    # Input 함수를 사용하여 입력층 생성\n",
    "hidden1 = Dense(5, activation='relu')(inputs)    # 은닉층1: 입력층을 입력받는 layer 추가\n",
    "hidden2 = Dense(3, activation='relu')(hidden1)    # 은닉층2: 은닉층1을 입력받는 layer 추가\n",
    "output = Dense(1, activation='linear')(hidden2)    # 출력층: 은닉층2를 입력받아 Y를 출력하는 layer 추가\n",
    "model = Model(inputs, output)   # 입력층과 출력층을 구성하며 최종 모델 완성\n",
    "model.summary()    # 네트워크 구조 출력\n",
    "plot_model(model)   # 네트워크 구조 시각화"
   ]
  },
  {
   "attachments": {},
   "cell_type": "markdown",
   "metadata": {},
   "source": [
    "#### 3) Functional API\n",
    "\n",
    "```python\n",
    "# Functional 방식\n",
    "inputs = Input(shape=(1,))    # Input 함수를 사용하여 입력층 생성\n",
    "hidden1 = Dense(5, activation='relu')(inputs)    # 은닉층1: 입력층을 입력받는 layer 추가\n",
    "hidden2 = Dense(3, activation='relu')(hidden1)    # 은닉층2: 은닉층1을 입력받는 layer 추가\n",
    "output = Dense(1, activation='linear')(hidden2)    # 출력층: 은닉층2를 입력받아 Y를 출력하는 layer 추가\n",
    "model = Model(inputs, output)    # 입력층과 출력층을 구성하며 최종 모델 완성\n",
    "model.summary()    # 네트워크 구조 출력\n",
    "plot_model(model)    # 네트워크 구조 시각화\n",
    "```\n",
    "\n",
    "- **Input:** `신경망의 입력층`으로 입력되는 `샘플 크기를 제외한 나머지 크기 입력 필요`\n",
    "\n",
    "- **Dense Layer:** `신경망의 기본층`으로 시간흐름이 반영되는 경우 외 `대부분 사용 가능`\n",
    "\n",
    "    -  입력과 출력을 연결하는 `함수의 형태`로 구성되며 `추정해야 할 가중치를 내포`\n",
    "    \n",
    "    -  **첫번째인자(5):**  `출력(뉴런) 갯수`로 1개의 변수가 `5개의 변수로 전처리(Feature Engineering)`\n",
    "\n",
    "    - **두번째인자(activation='relu'):** 출력값을 목적에 맞게 변환하는 `활성화 함수`(linear / sigmoid / relu 등)\n",
    "\n",
    "```python\n",
    "_________________________________________________________________\n",
    " Layer (type)                Output Shape              Param #   \n",
    "=================================================================\n",
    " input_8 (InputLayer)        [(None, 1)]               0         \n",
    "                                                                 \n",
    " dense_45 (Dense)            (None, 5)                 10        \n",
    "                                                                 \n",
    " dense_46 (Dense)            (None, 3)                 18        \n",
    "                                                                 \n",
    " dense_47 (Dense)            (None, 1)                 4         \n",
    "                                                                 \n",
    "=================================================================\n",
    "Total params: 32\n",
    "Trainable params: 32\n",
    "Non-trainable params: 0\n",
    "_________________________________________________________________\n",
    "```\n",
    "\n",
    "- **파라미터 갯수:**\n",
    "\n",
    "    - **은닉층1:** 데이터가 `5개의 뉴런으로 입력`되고 `각 뉴런당 1개의 가중치와 1개의 편향 파라미터 추정`이 필요 $\\rightarrow$ `5 * 2 = 10`\n",
    "\n",
    "    - **은닉층2:** 5개의 뉴런이 `3개의 뉴런으로 입력`되고 `각 뉴런당 5개의 가중치와 1개의 편향 파라미터 추정`이 필요 $\\rightarrow$ `5 * 3 + 3 = 18`\n",
    "\n",
    "    - **출력층:** 3개의 뉴런이 `1개의 뉴런으로 입력`되고 `3개의 가중치와 1개의 편향 파라미터 추정`이 필요 $\\rightarrow$ `3 * 1 + 1 = 4`\n",
    "\n",
    "<img src='./img/MLP_Example_Parameters.PNG' width='600'>"
   ]
  },
  {
   "attachments": {},
   "cell_type": "markdown",
   "metadata": {},
   "source": [
    "## 데이터 학습하기\n",
    "\n",
    "| **문제 유형** | **출력층 Activation Function** | **비용함수** |\n",
    "|-----|-----|-----|\n",
    "| **임의 값 Regression** | 없음 / Linear | mse |\n",
    "| **0과 1사이 값 Regression** | Sigmoid | mse / binary_crossentropy |\n",
    "| **Binary Classification** | Sigmoid | binary_crossentropy |\n",
    "| **Multi Classification (단일 Label)** | Softmax | categorical_crossentropy |\n",
    "| **Multi Classification (다중 Label)** | Sigmoid | binary_crossentropy |"
   ]
  },
  {
   "attachments": {},
   "cell_type": "markdown",
   "metadata": {},
   "source": [
    "#### 1) 비용함수, 최적화 알고리즘, 평가함수 선택\n",
    "\n",
    "```python\n",
    "model.compile(loss='mse', optimizer='adam', metrics='mae')\n",
    "```\n",
    "\n",
    "- **loss:** 비용함수로 `출력값이 목표값과 얼마나 유사`한지 평가\n",
    "\n",
    "- **optimizer:** `비용함수를 최소가 되는 방향으로 신경망 가중치를 업데이트`하는 알고리즘\n",
    "\n",
    "- **metrics:** `문제 해결의 정도`를 평가하는 함수"
   ]
  },
  {
   "attachments": {},
   "cell_type": "markdown",
   "metadata": {},
   "source": [
    "#### 2) 데이터 학습\n",
    "\n",
    "```python\n",
    "model.fit(X, Y, epochs=100, batch_size=3, verbose=1)\n",
    "```\n",
    "\n",
    "- **epochs:** `전체데이터의 학습 횟수`로 100번을 학습한다는 예시\n",
    "\n",
    "- **batch_size:** 1 epoch에서 `학습과 평가를 진행할 최소 row 샘플의 갯수`로 3개씩 학습 및 평가함\n",
    "\n",
    "- **verbose:** `epoch마다 데이터를 학습과정 출력 여부`로 1은 출력 의미"
   ]
  },
  {
   "cell_type": "code",
   "execution_count": 22,
   "metadata": {},
   "outputs": [
    {
     "name": "stdout",
     "output_type": "stream",
     "text": [
      "Epoch 1/100\n",
      "4/4 [==============================] - 0s 1ms/step - loss: 0.7213 - mae: 0.7272\n",
      "Epoch 2/100\n",
      "4/4 [==============================] - 0s 1ms/step - loss: 0.6439 - mae: 0.6895\n",
      "Epoch 3/100\n",
      "4/4 [==============================] - 0s 1ms/step - loss: 0.5711 - mae: 0.6504\n",
      "Epoch 4/100\n",
      "4/4 [==============================] - 0s 892us/step - loss: 0.5307 - mae: 0.6340\n",
      "Epoch 5/100\n",
      "4/4 [==============================] - 0s 1ms/step - loss: 0.4953 - mae: 0.6108\n",
      "Epoch 6/100\n",
      "4/4 [==============================] - 0s 1ms/step - loss: 0.4590 - mae: 0.5908\n",
      "Epoch 7/100\n",
      "4/4 [==============================] - 0s 2ms/step - loss: 0.4349 - mae: 0.5726\n",
      "Epoch 8/100\n",
      "4/4 [==============================] - 0s 950us/step - loss: 0.4220 - mae: 0.5620\n",
      "Epoch 9/100\n",
      "4/4 [==============================] - 0s 1ms/step - loss: 0.4011 - mae: 0.5444\n",
      "Epoch 10/100\n",
      "4/4 [==============================] - 0s 1ms/step - loss: 0.3887 - mae: 0.5343\n",
      "Epoch 11/100\n",
      "4/4 [==============================] - 0s 2ms/step - loss: 0.3888 - mae: 0.5369\n",
      "Epoch 12/100\n",
      "4/4 [==============================] - 0s 1ms/step - loss: 0.3786 - mae: 0.5240\n",
      "Epoch 13/100\n",
      "4/4 [==============================] - 0s 817us/step - loss: 0.3720 - mae: 0.5187\n",
      "Epoch 14/100\n",
      "4/4 [==============================] - 0s 2ms/step - loss: 0.3669 - mae: 0.5137\n",
      "Epoch 15/100\n",
      "4/4 [==============================] - 0s 1ms/step - loss: 0.3623 - mae: 0.5105\n",
      "Epoch 16/100\n",
      "4/4 [==============================] - 0s 1ms/step - loss: 0.3571 - mae: 0.5063\n",
      "Epoch 17/100\n",
      "4/4 [==============================] - 0s 1ms/step - loss: 0.3524 - mae: 0.5031\n",
      "Epoch 18/100\n",
      "4/4 [==============================] - 0s 2ms/step - loss: 0.3458 - mae: 0.5005\n",
      "Epoch 19/100\n",
      "4/4 [==============================] - 0s 1ms/step - loss: 0.3418 - mae: 0.4981\n",
      "Epoch 20/100\n",
      "4/4 [==============================] - 0s 1ms/step - loss: 0.3367 - mae: 0.4952\n",
      "Epoch 21/100\n",
      "4/4 [==============================] - 0s 1ms/step - loss: 0.3315 - mae: 0.4895\n",
      "Epoch 22/100\n",
      "4/4 [==============================] - 0s 905us/step - loss: 0.3270 - mae: 0.4851\n",
      "Epoch 23/100\n",
      "4/4 [==============================] - 0s 1ms/step - loss: 0.3223 - mae: 0.4802\n",
      "Epoch 24/100\n",
      "4/4 [==============================] - 0s 1ms/step - loss: 0.3177 - mae: 0.4772\n",
      "Epoch 25/100\n",
      "4/4 [==============================] - 0s 838us/step - loss: 0.3123 - mae: 0.4734\n",
      "Epoch 26/100\n",
      "4/4 [==============================] - 0s 2ms/step - loss: 0.3075 - mae: 0.4712\n",
      "Epoch 27/100\n",
      "4/4 [==============================] - 0s 1ms/step - loss: 0.3032 - mae: 0.4687\n",
      "Epoch 28/100\n",
      "4/4 [==============================] - 0s 4ms/step - loss: 0.2982 - mae: 0.4652\n",
      "Epoch 29/100\n",
      "4/4 [==============================] - 0s 1ms/step - loss: 0.2938 - mae: 0.4600\n",
      "Epoch 30/100\n",
      "4/4 [==============================] - 0s 752us/step - loss: 0.2894 - mae: 0.4550\n",
      "Epoch 31/100\n",
      "4/4 [==============================] - 0s 865us/step - loss: 0.2857 - mae: 0.4506\n",
      "Epoch 32/100\n",
      "4/4 [==============================] - 0s 728us/step - loss: 0.2818 - mae: 0.4466\n",
      "Epoch 33/100\n",
      "4/4 [==============================] - 0s 1ms/step - loss: 0.2787 - mae: 0.4447\n",
      "Epoch 34/100\n",
      "4/4 [==============================] - 0s 789us/step - loss: 0.2744 - mae: 0.4414\n",
      "Epoch 35/100\n",
      "4/4 [==============================] - 0s 731us/step - loss: 0.2711 - mae: 0.4382\n",
      "Epoch 36/100\n",
      "4/4 [==============================] - 0s 782us/step - loss: 0.2666 - mae: 0.4337\n",
      "Epoch 37/100\n",
      "4/4 [==============================] - 0s 661us/step - loss: 0.2627 - mae: 0.4314\n",
      "Epoch 38/100\n",
      "4/4 [==============================] - 0s 714us/step - loss: 0.2591 - mae: 0.4292\n",
      "Epoch 39/100\n",
      "4/4 [==============================] - 0s 807us/step - loss: 0.2559 - mae: 0.4280\n",
      "Epoch 40/100\n",
      "4/4 [==============================] - 0s 752us/step - loss: 0.2528 - mae: 0.4255\n",
      "Epoch 41/100\n",
      "4/4 [==============================] - 0s 956us/step - loss: 0.2481 - mae: 0.4190\n",
      "Epoch 42/100\n",
      "4/4 [==============================] - 0s 994us/step - loss: 0.2438 - mae: 0.4164\n",
      "Epoch 43/100\n",
      "4/4 [==============================] - 0s 807us/step - loss: 0.2394 - mae: 0.4134\n",
      "Epoch 44/100\n",
      "4/4 [==============================] - 0s 727us/step - loss: 0.2386 - mae: 0.4161\n",
      "Epoch 45/100\n",
      "4/4 [==============================] - 0s 766us/step - loss: 0.2328 - mae: 0.4111\n",
      "Epoch 46/100\n",
      "4/4 [==============================] - 0s 677us/step - loss: 0.2280 - mae: 0.4064\n",
      "Epoch 47/100\n",
      "4/4 [==============================] - 0s 764us/step - loss: 0.2259 - mae: 0.4046\n",
      "Epoch 48/100\n",
      "4/4 [==============================] - 0s 698us/step - loss: 0.2214 - mae: 0.3967\n",
      "Epoch 49/100\n",
      "4/4 [==============================] - 0s 1ms/step - loss: 0.2182 - mae: 0.3937\n",
      "Epoch 50/100\n",
      "4/4 [==============================] - 0s 928us/step - loss: 0.2151 - mae: 0.3889\n",
      "Epoch 51/100\n",
      "4/4 [==============================] - 0s 798us/step - loss: 0.2117 - mae: 0.3848\n",
      "Epoch 52/100\n",
      "4/4 [==============================] - 0s 812us/step - loss: 0.2090 - mae: 0.3818\n",
      "Epoch 53/100\n",
      "4/4 [==============================] - 0s 996us/step - loss: 0.2062 - mae: 0.3781\n",
      "Epoch 54/100\n",
      "4/4 [==============================] - 0s 845us/step - loss: 0.2031 - mae: 0.3756\n",
      "Epoch 55/100\n",
      "4/4 [==============================] - 0s 675us/step - loss: 0.2004 - mae: 0.3733\n",
      "Epoch 56/100\n",
      "4/4 [==============================] - 0s 3ms/step - loss: 0.1977 - mae: 0.3706\n",
      "Epoch 57/100\n",
      "4/4 [==============================] - 0s 721us/step - loss: 0.1937 - mae: 0.3662\n",
      "Epoch 58/100\n",
      "4/4 [==============================] - 0s 769us/step - loss: 0.1902 - mae: 0.3643\n",
      "Epoch 59/100\n",
      "4/4 [==============================] - 0s 711us/step - loss: 0.1862 - mae: 0.3623\n",
      "Epoch 60/100\n",
      "4/4 [==============================] - 0s 796us/step - loss: 0.1842 - mae: 0.3603\n",
      "Epoch 61/100\n",
      "4/4 [==============================] - 0s 708us/step - loss: 0.1804 - mae: 0.3552\n",
      "Epoch 62/100\n",
      "4/4 [==============================] - 0s 652us/step - loss: 0.1800 - mae: 0.3531\n",
      "Epoch 63/100\n",
      "4/4 [==============================] - 0s 780us/step - loss: 0.1765 - mae: 0.3502\n",
      "Epoch 64/100\n",
      "4/4 [==============================] - 0s 695us/step - loss: 0.1737 - mae: 0.3489\n",
      "Epoch 65/100\n",
      "4/4 [==============================] - 0s 844us/step - loss: 0.1714 - mae: 0.3470\n",
      "Epoch 66/100\n",
      "4/4 [==============================] - 0s 1ms/step - loss: 0.1664 - mae: 0.3417\n",
      "Epoch 67/100\n",
      "4/4 [==============================] - 0s 1ms/step - loss: 0.1650 - mae: 0.3413\n",
      "Epoch 68/100\n",
      "4/4 [==============================] - 0s 774us/step - loss: 0.1604 - mae: 0.3367\n",
      "Epoch 69/100\n",
      "4/4 [==============================] - 0s 808us/step - loss: 0.1578 - mae: 0.3357\n",
      "Epoch 70/100\n",
      "4/4 [==============================] - 0s 707us/step - loss: 0.1551 - mae: 0.3332\n",
      "Epoch 71/100\n",
      "4/4 [==============================] - 0s 663us/step - loss: 0.1525 - mae: 0.3292\n",
      "Epoch 72/100\n",
      "4/4 [==============================] - 0s 744us/step - loss: 0.1503 - mae: 0.3269\n",
      "Epoch 73/100\n",
      "4/4 [==============================] - 0s 719us/step - loss: 0.1476 - mae: 0.3237\n",
      "Epoch 74/100\n",
      "4/4 [==============================] - 0s 787us/step - loss: 0.1442 - mae: 0.3196\n",
      "Epoch 75/100\n",
      "4/4 [==============================] - 0s 1ms/step - loss: 0.1420 - mae: 0.3190\n",
      "Epoch 76/100\n",
      "4/4 [==============================] - 0s 907us/step - loss: 0.1387 - mae: 0.3158\n",
      "Epoch 77/100\n",
      "4/4 [==============================] - 0s 792us/step - loss: 0.1364 - mae: 0.3138\n",
      "Epoch 78/100\n",
      "4/4 [==============================] - 0s 737us/step - loss: 0.1337 - mae: 0.3093\n",
      "Epoch 79/100\n",
      "4/4 [==============================] - 0s 699us/step - loss: 0.1316 - mae: 0.3057\n",
      "Epoch 80/100\n",
      "4/4 [==============================] - 0s 882us/step - loss: 0.1294 - mae: 0.3018\n",
      "Epoch 81/100\n",
      "4/4 [==============================] - 0s 649us/step - loss: 0.1273 - mae: 0.2979\n",
      "Epoch 82/100\n",
      "4/4 [==============================] - 0s 787us/step - loss: 0.1254 - mae: 0.2949\n",
      "Epoch 83/100\n",
      "4/4 [==============================] - 0s 837us/step - loss: 0.1227 - mae: 0.2937\n",
      "Epoch 84/100\n",
      "4/4 [==============================] - 0s 858us/step - loss: 0.1204 - mae: 0.2928\n",
      "Epoch 85/100\n",
      "4/4 [==============================] - 0s 891us/step - loss: 0.1179 - mae: 0.2896\n",
      "Epoch 86/100\n",
      "4/4 [==============================] - 0s 692us/step - loss: 0.1159 - mae: 0.2884\n",
      "Epoch 87/100\n",
      "4/4 [==============================] - 0s 804us/step - loss: 0.1138 - mae: 0.2862\n",
      "Epoch 88/100\n",
      "4/4 [==============================] - 0s 813us/step - loss: 0.1111 - mae: 0.2830\n",
      "Epoch 89/100\n",
      "4/4 [==============================] - 0s 760us/step - loss: 0.1090 - mae: 0.2804\n",
      "Epoch 90/100\n",
      "4/4 [==============================] - 0s 913us/step - loss: 0.1068 - mae: 0.2782\n",
      "Epoch 91/100\n",
      "4/4 [==============================] - 0s 846us/step - loss: 0.1051 - mae: 0.2758\n",
      "Epoch 92/100\n",
      "4/4 [==============================] - 0s 751us/step - loss: 0.1031 - mae: 0.2738\n",
      "Epoch 93/100\n",
      "4/4 [==============================] - 0s 800us/step - loss: 0.1009 - mae: 0.2721\n",
      "Epoch 94/100\n",
      "4/4 [==============================] - 0s 747us/step - loss: 0.0992 - mae: 0.2698\n",
      "Epoch 95/100\n",
      "4/4 [==============================] - 0s 3ms/step - loss: 0.0977 - mae: 0.2677\n",
      "Epoch 96/100\n",
      "4/4 [==============================] - 0s 884us/step - loss: 0.0959 - mae: 0.2657\n",
      "Epoch 97/100\n",
      "4/4 [==============================] - 0s 847us/step - loss: 0.0924 - mae: 0.2600\n",
      "Epoch 98/100\n",
      "4/4 [==============================] - 0s 727us/step - loss: 0.0903 - mae: 0.2569\n",
      "Epoch 99/100\n",
      "4/4 [==============================] - 0s 669us/step - loss: 0.0887 - mae: 0.2542\n",
      "Epoch 100/100\n",
      "4/4 [==============================] - 0s 844us/step - loss: 0.0869 - mae: 0.2518\n"
     ]
    }
   ],
   "source": [
    "# 데이터 학습하기\n",
    "model.compile(loss='mse', optimizer='adam', metrics=['mae'])    # 모델 학습방법 설정\n",
    "model_fit = model.fit(X_train, Y_train, epochs=100, batch_size=3, verbose=1)"
   ]
  },
  {
   "cell_type": "code",
   "execution_count": 21,
   "metadata": {},
   "outputs": [
    {
     "data": {
      "text/plain": [
       "{'loss': [32.59662628173828,\n",
       "  32.307071685791016,\n",
       "  31.9875545501709,\n",
       "  31.660614013671875,\n",
       "  31.311986923217773,\n",
       "  31.0194034576416,\n",
       "  30.660507202148438,\n",
       "  30.324392318725586,\n",
       "  29.978466033935547,\n",
       "  29.677921295166016,\n",
       "  29.31160545349121,\n",
       "  28.9698486328125,\n",
       "  28.608535766601562,\n",
       "  28.22641944885254,\n",
       "  27.922561645507812,\n",
       "  27.47715187072754,\n",
       "  27.134624481201172,\n",
       "  26.7479248046875,\n",
       "  26.3431339263916,\n",
       "  25.939685821533203,\n",
       "  25.5557861328125,\n",
       "  25.08069610595703,\n",
       "  24.65227508544922,\n",
       "  24.25057601928711,\n",
       "  23.84044075012207,\n",
       "  23.403566360473633,\n",
       "  22.98303985595703,\n",
       "  22.59218978881836,\n",
       "  22.097654342651367,\n",
       "  21.6658878326416,\n",
       "  21.21004867553711,\n",
       "  20.71176528930664,\n",
       "  20.22555923461914,\n",
       "  19.753101348876953,\n",
       "  19.224536895751953,\n",
       "  18.77206802368164,\n",
       "  18.362131118774414,\n",
       "  17.849058151245117,\n",
       "  17.38202476501465,\n",
       "  16.93442726135254,\n",
       "  16.37179183959961,\n",
       "  15.918497085571289,\n",
       "  15.442156791687012,\n",
       "  14.899385452270508,\n",
       "  14.4166259765625,\n",
       "  13.935254096984863,\n",
       "  13.530975341796875,\n",
       "  13.060832023620605,\n",
       "  12.56297492980957,\n",
       "  12.15798282623291,\n",
       "  11.710888862609863,\n",
       "  11.303971290588379,\n",
       "  10.876143455505371,\n",
       "  10.396427154541016,\n",
       "  9.966174125671387,\n",
       "  9.52338981628418,\n",
       "  9.131820678710938,\n",
       "  8.692031860351562,\n",
       "  8.325671195983887,\n",
       "  7.946093559265137,\n",
       "  7.526175498962402,\n",
       "  7.15338659286499,\n",
       "  6.821619987487793,\n",
       "  6.487818717956543,\n",
       "  6.1141252517700195,\n",
       "  5.74746036529541,\n",
       "  5.486980438232422,\n",
       "  5.141688346862793,\n",
       "  4.8463640213012695,\n",
       "  4.571558475494385,\n",
       "  4.330949783325195,\n",
       "  4.073866844177246,\n",
       "  3.862011432647705,\n",
       "  3.6171631813049316,\n",
       "  3.3886115550994873,\n",
       "  3.1993234157562256,\n",
       "  2.999943494796753,\n",
       "  2.8222312927246094,\n",
       "  2.634693145751953,\n",
       "  2.4883341789245605,\n",
       "  2.327052593231201,\n",
       "  2.190232753753662,\n",
       "  2.040193557739258,\n",
       "  1.9404337406158447,\n",
       "  1.8062530755996704,\n",
       "  1.6813576221466064,\n",
       "  1.5794928073883057,\n",
       "  1.4880062341690063,\n",
       "  1.3816994428634644,\n",
       "  1.292658805847168,\n",
       "  1.2163113355636597,\n",
       "  1.1543270349502563,\n",
       "  1.09169340133667,\n",
       "  1.047037124633789,\n",
       "  0.9754254221916199,\n",
       "  0.936475396156311,\n",
       "  0.8945211172103882,\n",
       "  0.8435332179069519,\n",
       "  0.803726851940155,\n",
       "  0.7686755061149597],\n",
       " 'mse': [32.59662628173828,\n",
       "  32.307071685791016,\n",
       "  31.9875545501709,\n",
       "  31.660614013671875,\n",
       "  31.311986923217773,\n",
       "  31.0194034576416,\n",
       "  30.660507202148438,\n",
       "  30.324392318725586,\n",
       "  29.978466033935547,\n",
       "  29.677921295166016,\n",
       "  29.31160545349121,\n",
       "  28.9698486328125,\n",
       "  28.608535766601562,\n",
       "  28.22641944885254,\n",
       "  27.922561645507812,\n",
       "  27.47715187072754,\n",
       "  27.134624481201172,\n",
       "  26.7479248046875,\n",
       "  26.3431339263916,\n",
       "  25.939685821533203,\n",
       "  25.5557861328125,\n",
       "  25.08069610595703,\n",
       "  24.65227508544922,\n",
       "  24.25057601928711,\n",
       "  23.84044075012207,\n",
       "  23.403566360473633,\n",
       "  22.98303985595703,\n",
       "  22.59218978881836,\n",
       "  22.097654342651367,\n",
       "  21.6658878326416,\n",
       "  21.210046768188477,\n",
       "  20.71176528930664,\n",
       "  20.22555923461914,\n",
       "  19.753101348876953,\n",
       "  19.224536895751953,\n",
       "  18.77206802368164,\n",
       "  18.362131118774414,\n",
       "  17.849058151245117,\n",
       "  17.38202476501465,\n",
       "  16.93442726135254,\n",
       "  16.37179183959961,\n",
       "  15.918497085571289,\n",
       "  15.442156791687012,\n",
       "  14.899385452270508,\n",
       "  14.4166259765625,\n",
       "  13.935254096984863,\n",
       "  13.530975341796875,\n",
       "  13.060832023620605,\n",
       "  12.56297492980957,\n",
       "  12.15798282623291,\n",
       "  11.710888862609863,\n",
       "  11.303971290588379,\n",
       "  10.876143455505371,\n",
       "  10.396427154541016,\n",
       "  9.966174125671387,\n",
       "  9.52338981628418,\n",
       "  9.131820678710938,\n",
       "  8.692031860351562,\n",
       "  8.325671195983887,\n",
       "  7.946093559265137,\n",
       "  7.526175498962402,\n",
       "  7.15338659286499,\n",
       "  6.821619987487793,\n",
       "  6.487818717956543,\n",
       "  6.1141252517700195,\n",
       "  5.74746036529541,\n",
       "  5.48698091506958,\n",
       "  5.141688346862793,\n",
       "  4.8463640213012695,\n",
       "  4.571558475494385,\n",
       "  4.330949783325195,\n",
       "  4.073866844177246,\n",
       "  3.862011432647705,\n",
       "  3.6171631813049316,\n",
       "  3.3886115550994873,\n",
       "  3.1993234157562256,\n",
       "  2.999943494796753,\n",
       "  2.8222312927246094,\n",
       "  2.634693145751953,\n",
       "  2.4883341789245605,\n",
       "  2.327052593231201,\n",
       "  2.190232753753662,\n",
       "  2.040193557739258,\n",
       "  1.9404337406158447,\n",
       "  1.8062528371810913,\n",
       "  1.6813576221466064,\n",
       "  1.5794928073883057,\n",
       "  1.4880062341690063,\n",
       "  1.3816994428634644,\n",
       "  1.292658805847168,\n",
       "  1.2163113355636597,\n",
       "  1.1543270349502563,\n",
       "  1.09169340133667,\n",
       "  1.047037124633789,\n",
       "  0.9754254221916199,\n",
       "  0.936475396156311,\n",
       "  0.8945211172103882,\n",
       "  0.8435332179069519,\n",
       "  0.803726851940155,\n",
       "  0.7686755061149597]}"
      ]
     },
     "execution_count": 21,
     "metadata": {},
     "output_type": "execute_result"
    }
   ],
   "source": [
    "model_fit.history"
   ]
  },
  {
   "cell_type": "code",
   "execution_count": 23,
   "metadata": {},
   "outputs": [
    {
     "data": {
      "image/png": "[encoded data removed]",
      "text/plain": [
       "<Figure size 640x480 with 1 Axes>"
      ]
     },
     "metadata": {},
     "output_type": "display_data"
    }
   ],
   "source": [
    "# 학습과정의 history 수치 출력 가능\n",
    "import pandas as pd\n",
    "import matplotlib.pyplot as plt\n",
    "\n",
    "pd.DataFrame(model_fit.history['mae'], columns=['MAE']).plot()\n",
    "plt.show()"
   ]
  },
  {
   "attachments": {},
   "cell_type": "markdown",
   "metadata": {},
   "source": [
    "## 데이터 예측 및 평가하기"
   ]
  },
  {
   "cell_type": "code",
   "execution_count": 24,
   "metadata": {},
   "outputs": [
    {
     "name": "stdout",
     "output_type": "stream",
     "text": [
      "1/1 [==============================] - 0s 38ms/step\n"
     ]
    },
    {
     "data": {
      "text/plain": [
       "array([[1.531144 ],\n",
       "       [2.4362166],\n",
       "       [3.3412888],\n",
       "       [4.246361 ],\n",
       "       [5.151433 ],\n",
       "       [6.056506 ],\n",
       "       [6.9615784],\n",
       "       [7.8666515],\n",
       "       [8.771724 ],\n",
       "       [9.676796 ]], dtype=float32)"
      ]
     },
     "execution_count": 24,
     "metadata": {},
     "output_type": "execute_result"
    }
   ],
   "source": [
    "# Train 데이터 예측하기\n",
    "Y_trpred = model.predict(X_train)\n",
    "Y_trpred"
   ]
  },
  {
   "cell_type": "code",
   "execution_count": 25,
   "metadata": {},
   "outputs": [
    {
     "name": "stdout",
     "output_type": "stream",
     "text": [
      "1/1 [==============================] - 0s 11ms/step\n"
     ]
    },
    {
     "data": {
      "text/plain": [
       "array([[3.3412888],\n",
       "       [6.9615784],\n",
       "       [8.771724 ]], dtype=float32)"
      ]
     },
     "execution_count": 25,
     "metadata": {},
     "output_type": "execute_result"
    }
   ],
   "source": [
    "# Test 데이터 예측하기\n",
    "Y_tepred = model.predict(X_test)\n",
    "Y_tepred"
   ]
  },
  {
   "cell_type": "code",
   "execution_count": 26,
   "metadata": {},
   "outputs": [
    {
     "name": "stdout",
     "output_type": "stream",
     "text": [
      "1/1 [==============================] - 0s 62ms/step - loss: 0.0852 - mae: 0.2486\n"
     ]
    },
    {
     "data": {
      "text/plain": [
       "[0.08515243977308273, 0.24861998856067657]"
      ]
     },
     "execution_count": 26,
     "metadata": {},
     "output_type": "execute_result"
    }
   ],
   "source": [
    "# Train 예측 성능 평가하기\n",
    "# 학습과정의 결과와 유사\n",
    "model.evaluate(X_train, Y_train)"
   ]
  },
  {
   "cell_type": "code",
   "execution_count": 27,
   "metadata": {},
   "outputs": [
    {
     "name": "stdout",
     "output_type": "stream",
     "text": [
      "1/1 [==============================] - 0s 13ms/step - loss: 0.0567 - mae: 0.2027\n"
     ]
    },
    {
     "data": {
      "text/plain": [
       "[0.0566881038248539, 0.20266222953796387]"
      ]
     },
     "execution_count": 27,
     "metadata": {},
     "output_type": "execute_result"
    }
   ],
   "source": [
    "# Test 예측 성능 평가하기\n",
    "model.evaluate(X_test, Y_test)"
   ]
  },
  {
   "cell_type": "code",
   "execution_count": null,
   "metadata": {},
   "outputs": [],
   "source": []
  }
 ],
 "metadata": {
  "kernelspec": {
   "display_name": "tf",
   "language": "python",
   "name": "python3"
  },
  "language_info": {
   "codemirror_mode": {
    "name": "ipython",
    "version": 3
   },
   "file_extension": ".py",
   "mimetype": "text/x-python",
   "name": "python",
   "nbconvert_exporter": "python",
   "pygments_lexer": "ipython3",
   "version": "3.10.6"
  },
  "orig_nbformat": 4
 },
 "nbformat": 4,
 "nbformat_minor": 2
}
