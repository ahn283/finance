{
 "cells": [
  {
   "cell_type": "markdown",
   "metadata": {},
   "source": [
    "# PyTorch on TPU"
   ]
  },
  {
   "cell_type": "code",
   "execution_count": null,
   "metadata": {},
   "outputs": [],
   "source": [
    "# # We will train the model on a GPU\n",
    "\n",
    "# import torch\n",
    "\n",
    "# device = torch.device('cuda' if torch.cuda.is_available() else 'cpu')\n",
    "# # on silicon mac\n",
    "# device = torch.device('mps' if torch.backends.mps.is_available() else 'cpu')\n",
    "\n",
    "# model.to(device)\n",
    "# for epoch in range(n_eprochs):\n",
    "#     for data in trainloader:\n",
    "#         input, labels = data\n",
    "#         inpit = input.to(device)\n",
    "#         labels = labels.to(device)\n",
    "#         optmizer.zero_grad()\n",
    "        \n",
    "#         output = model(input)\n",
    "#         loss = criterion(input, labels)\n",
    "#         loss.backward()\n",
    "#         optimizer.step()"
   ]
  },
  {
   "cell_type": "markdown",
   "metadata": {},
   "source": [
    "# PyTorch on Multiple GPUs"
   ]
  },
  {
   "cell_type": "markdown",
   "metadata": {},
   "source": [
    "## Data Parallel Processing"
   ]
  },
  {
   "cell_type": "markdown",
   "metadata": {},
   "source": [
    "### The multithreaded approach using `nn.DataParallel`"
   ]
  },
  {
   "cell_type": "code",
   "execution_count": 7,
   "metadata": {},
   "outputs": [
    {
     "data": {
      "text/plain": [
       "<functools._lru_cache_wrapper at 0x1153ad400>"
      ]
     },
     "execution_count": 7,
     "metadata": {},
     "output_type": "execute_result"
    }
   ],
   "source": [
    "# First, we check to make we have multiple GPUs\n",
    "\n",
    "import torch\n",
    "import torch.nn as nn\n",
    "\n",
    "# if torch.cuda.device_count()      # nvidia\n",
    "if torch.backends.mps.is_available():\n",
    "    print('This machine has', torch.backends.mps.is_built(), \"GPU available.\")\n",
    "    \n",
    "    model = nn.DataParallel(model)\n",
    "\n",
    "model.to('mps')\n"
   ]
  },
  {
   "cell_type": "markdown",
   "metadata": {},
   "source": [
    "### The multiprocess approach using DDP (preferred)"
   ]
  },
  {
   "cell_type": "code",
   "execution_count": 6,
   "metadata": {},
   "outputs": [
    {
     "data": {
      "text/plain": [
       "<functools._lru_cache_wrapper at 0x1153ad400>"
      ]
     },
     "execution_count": 6,
     "metadata": {},
     "output_type": "execute_result"
    }
   ],
   "source": []
  }
 ],
 "metadata": {
  "kernelspec": {
   "display_name": "pytorch",
   "language": "python",
   "name": "python3"
  },
  "language_info": {
   "codemirror_mode": {
    "name": "ipython",
    "version": 3
   },
   "file_extension": ".py",
   "mimetype": "text/x-python",
   "name": "python",
   "nbconvert_exporter": "python",
   "pygments_lexer": "ipython3",
   "version": "3.9.18"
  },
  "orig_nbformat": 4
 },
 "nbformat": 4,
 "nbformat_minor": 2
}
