{
 "cells": [
  {
   "cell_type": "markdown",
   "metadata": {},
   "source": [
    "# Reference Designs"
   ]
  },
  {
   "cell_type": "markdown",
   "metadata": {},
   "source": [
    "## Image Classification with Transfer Learning"
   ]
  },
  {
   "cell_type": "markdown",
   "metadata": {},
   "source": [
    "### Data Processing"
   ]
  },
  {
   "cell_type": "code",
   "execution_count": 1,
   "metadata": {},
   "outputs": [],
   "source": [
    "import torch\n",
    "import torch.nn as nn \n",
    "import torch.optim as optim\n",
    "import numpy as np\n",
    "import torchvision\n",
    "from torchvision import datasets, models\n",
    "from torchvision import transforms"
   ]
  },
  {
   "cell_type": "code",
   "execution_count": 2,
   "metadata": {},
   "outputs": [],
   "source": [
    "# download data\n",
    "from io import BytesIO\n",
    "from urllib.request import urlopen\n",
    "from zipfile import ZipFile\n",
    "\n",
    "zipurl = 'https://pytorch.tips/bee-zip'\n",
    "with urlopen(zipurl) as zippresp:\n",
    "    with ZipFile(BytesIO(zippresp.read())) as zfile:\n",
    "        zfile.extractall('./data/bee')"
   ]
  },
  {
   "cell_type": "code",
   "execution_count": 3,
   "metadata": {},
   "outputs": [],
   "source": [
    "# define transforms\n",
    "\n",
    "train_transforms = transforms.Compose([\n",
    "    transforms.RandomResizedCrop(224),\n",
    "    transforms.RandomHorizontalFlip(),\n",
    "    transforms.ToTensor(),\n",
    "    transforms.Normalize(\n",
    "        [0.485, 0.456, 0.406],\n",
    "        [0.229, 0.224, 0.225]\n",
    "    )\n",
    "])\n",
    "\n",
    "val_transforms = transforms.Compose([\n",
    "    transforms.Resize(256),\n",
    "    transforms.CenterCrop(224),\n",
    "    transforms.ToTensor(),\n",
    "    transforms.Normalize(\n",
    "        [0.485, 0.456, 0.406],\n",
    "        [0.229, 0.224, 0.225]\n",
    "    )\n",
    "])"
   ]
  },
  {
   "cell_type": "code",
   "execution_count": 4,
   "metadata": {},
   "outputs": [],
   "source": [
    "# define datasets\n",
    "train_dataset = datasets.ImageFolder(\n",
    "    root='./data/bee/hymenoptera_data/train/',\n",
    "    transform=train_transforms\n",
    ")\n",
    "\n",
    "val_dataset = datasets.ImageFolder(\n",
    "    root='./data/bee/hymenoptera_data/val/',\n",
    "    transform=val_transforms\n",
    ")"
   ]
  },
  {
   "cell_type": "code",
   "execution_count": 5,
   "metadata": {},
   "outputs": [],
   "source": [
    "# define our dataloaders for batch iteration\n",
    "train_loader = torch.utils.data.DataLoader(\n",
    "    train_dataset,\n",
    "    batch_size = 4,\n",
    "    shuffle = True,\n",
    "    num_workers = 4\n",
    ")\n",
    "\n",
    "val_loader = torch.utils.data.DataLoader(\n",
    "    val_dataset,\n",
    "    batch_size = 4,\n",
    "    shuffle = True,\n",
    "    num_workers = 4\n",
    ")"
   ]
  },
  {
   "cell_type": "markdown",
   "metadata": {},
   "source": [
    "### Model Design"
   ]
  },
  {
   "cell_type": "code",
   "execution_count": 6,
   "metadata": {},
   "outputs": [
    {
     "name": "stderr",
     "output_type": "stream",
     "text": [
      "/Users/woojin/anaconda3/envs/pytorch/lib/python3.9/site-packages/torchvision/models/_utils.py:208: UserWarning: The parameter 'pretrained' is deprecated since 0.13 and may be removed in the future, please use 'weights' instead.\n",
      "  warnings.warn(\n",
      "/Users/woojin/anaconda3/envs/pytorch/lib/python3.9/site-packages/torchvision/models/_utils.py:223: UserWarning: Arguments other than a weight enum or `None` for 'weights' are deprecated since 0.13 and may be removed in the future. The current behavior is equivalent to passing `weights=ResNet18_Weights.IMAGENET1K_V1`. You can also use `weights=ResNet18_Weights.DEFAULT` to get the most up-to-date weights.\n",
      "  warnings.warn(msg)\n"
     ]
    },
    {
     "name": "stdout",
     "output_type": "stream",
     "text": [
      "ResNet(\n",
      "  (conv1): Conv2d(3, 64, kernel_size=(7, 7), stride=(2, 2), padding=(3, 3), bias=False)\n",
      "  (bn1): BatchNorm2d(64, eps=1e-05, momentum=0.1, affine=True, track_running_stats=True)\n",
      "  (relu): ReLU(inplace=True)\n",
      "  (maxpool): MaxPool2d(kernel_size=3, stride=2, padding=1, dilation=1, ceil_mode=False)\n",
      "  (layer1): Sequential(\n",
      "    (0): BasicBlock(\n",
      "      (conv1): Conv2d(64, 64, kernel_size=(3, 3), stride=(1, 1), padding=(1, 1), bias=False)\n",
      "      (bn1): BatchNorm2d(64, eps=1e-05, momentum=0.1, affine=True, track_running_stats=True)\n",
      "      (relu): ReLU(inplace=True)\n",
      "      (conv2): Conv2d(64, 64, kernel_size=(3, 3), stride=(1, 1), padding=(1, 1), bias=False)\n",
      "      (bn2): BatchNorm2d(64, eps=1e-05, momentum=0.1, affine=True, track_running_stats=True)\n",
      "    )\n",
      "    (1): BasicBlock(\n",
      "      (conv1): Conv2d(64, 64, kernel_size=(3, 3), stride=(1, 1), padding=(1, 1), bias=False)\n",
      "      (bn1): BatchNorm2d(64, eps=1e-05, momentum=0.1, affine=True, track_running_stats=True)\n",
      "      (relu): ReLU(inplace=True)\n",
      "      (conv2): Conv2d(64, 64, kernel_size=(3, 3), stride=(1, 1), padding=(1, 1), bias=False)\n",
      "      (bn2): BatchNorm2d(64, eps=1e-05, momentum=0.1, affine=True, track_running_stats=True)\n",
      "    )\n",
      "  )\n",
      "  (layer2): Sequential(\n",
      "    (0): BasicBlock(\n",
      "      (conv1): Conv2d(64, 128, kernel_size=(3, 3), stride=(2, 2), padding=(1, 1), bias=False)\n",
      "      (bn1): BatchNorm2d(128, eps=1e-05, momentum=0.1, affine=True, track_running_stats=True)\n",
      "      (relu): ReLU(inplace=True)\n",
      "      (conv2): Conv2d(128, 128, kernel_size=(3, 3), stride=(1, 1), padding=(1, 1), bias=False)\n",
      "      (bn2): BatchNorm2d(128, eps=1e-05, momentum=0.1, affine=True, track_running_stats=True)\n",
      "      (downsample): Sequential(\n",
      "        (0): Conv2d(64, 128, kernel_size=(1, 1), stride=(2, 2), bias=False)\n",
      "        (1): BatchNorm2d(128, eps=1e-05, momentum=0.1, affine=True, track_running_stats=True)\n",
      "      )\n",
      "    )\n",
      "    (1): BasicBlock(\n",
      "      (conv1): Conv2d(128, 128, kernel_size=(3, 3), stride=(1, 1), padding=(1, 1), bias=False)\n",
      "      (bn1): BatchNorm2d(128, eps=1e-05, momentum=0.1, affine=True, track_running_stats=True)\n",
      "      (relu): ReLU(inplace=True)\n",
      "      (conv2): Conv2d(128, 128, kernel_size=(3, 3), stride=(1, 1), padding=(1, 1), bias=False)\n",
      "      (bn2): BatchNorm2d(128, eps=1e-05, momentum=0.1, affine=True, track_running_stats=True)\n",
      "    )\n",
      "  )\n",
      "  (layer3): Sequential(\n",
      "    (0): BasicBlock(\n",
      "      (conv1): Conv2d(128, 256, kernel_size=(3, 3), stride=(2, 2), padding=(1, 1), bias=False)\n",
      "      (bn1): BatchNorm2d(256, eps=1e-05, momentum=0.1, affine=True, track_running_stats=True)\n",
      "      (relu): ReLU(inplace=True)\n",
      "      (conv2): Conv2d(256, 256, kernel_size=(3, 3), stride=(1, 1), padding=(1, 1), bias=False)\n",
      "      (bn2): BatchNorm2d(256, eps=1e-05, momentum=0.1, affine=True, track_running_stats=True)\n",
      "      (downsample): Sequential(\n",
      "        (0): Conv2d(128, 256, kernel_size=(1, 1), stride=(2, 2), bias=False)\n",
      "        (1): BatchNorm2d(256, eps=1e-05, momentum=0.1, affine=True, track_running_stats=True)\n",
      "      )\n",
      "    )\n",
      "    (1): BasicBlock(\n",
      "      (conv1): Conv2d(256, 256, kernel_size=(3, 3), stride=(1, 1), padding=(1, 1), bias=False)\n",
      "      (bn1): BatchNorm2d(256, eps=1e-05, momentum=0.1, affine=True, track_running_stats=True)\n",
      "      (relu): ReLU(inplace=True)\n",
      "      (conv2): Conv2d(256, 256, kernel_size=(3, 3), stride=(1, 1), padding=(1, 1), bias=False)\n",
      "      (bn2): BatchNorm2d(256, eps=1e-05, momentum=0.1, affine=True, track_running_stats=True)\n",
      "    )\n",
      "  )\n",
      "  (layer4): Sequential(\n",
      "    (0): BasicBlock(\n",
      "      (conv1): Conv2d(256, 512, kernel_size=(3, 3), stride=(2, 2), padding=(1, 1), bias=False)\n",
      "      (bn1): BatchNorm2d(512, eps=1e-05, momentum=0.1, affine=True, track_running_stats=True)\n",
      "      (relu): ReLU(inplace=True)\n",
      "      (conv2): Conv2d(512, 512, kernel_size=(3, 3), stride=(1, 1), padding=(1, 1), bias=False)\n",
      "      (bn2): BatchNorm2d(512, eps=1e-05, momentum=0.1, affine=True, track_running_stats=True)\n",
      "      (downsample): Sequential(\n",
      "        (0): Conv2d(256, 512, kernel_size=(1, 1), stride=(2, 2), bias=False)\n",
      "        (1): BatchNorm2d(512, eps=1e-05, momentum=0.1, affine=True, track_running_stats=True)\n",
      "      )\n",
      "    )\n",
      "    (1): BasicBlock(\n",
      "      (conv1): Conv2d(512, 512, kernel_size=(3, 3), stride=(1, 1), padding=(1, 1), bias=False)\n",
      "      (bn1): BatchNorm2d(512, eps=1e-05, momentum=0.1, affine=True, track_running_stats=True)\n",
      "      (relu): ReLU(inplace=True)\n",
      "      (conv2): Conv2d(512, 512, kernel_size=(3, 3), stride=(1, 1), padding=(1, 1), bias=False)\n",
      "      (bn2): BatchNorm2d(512, eps=1e-05, momentum=0.1, affine=True, track_running_stats=True)\n",
      "    )\n",
      "  )\n",
      "  (avgpool): AdaptiveAvgPool2d(output_size=(1, 1))\n",
      "  (fc): Linear(in_features=512, out_features=1000, bias=True)\n",
      ")\n",
      "Linear(in_features=512, out_features=1000, bias=True)\n"
     ]
    }
   ],
   "source": [
    "model = models.resnet18(pretrained=True)\n",
    "\n",
    "# we read the number of features before the final layer\n",
    "print(model)\n",
    "print(model.fc)"
   ]
  },
  {
   "cell_type": "code",
   "execution_count": 7,
   "metadata": {},
   "outputs": [
    {
     "name": "stdout",
     "output_type": "stream",
     "text": [
      "Linear(in_features=512, out_features=2, bias=True)\n"
     ]
    }
   ],
   "source": [
    "# we change the final layer by directly setting `model.fc` to a fully connected layer with two outputs\n",
    "num_ftrs = model.fc.in_features\n",
    "model.fc = nn.Linear(num_ftrs, 2)\n",
    "print(model.fc)"
   ]
  },
  {
   "cell_type": "markdown",
   "metadata": {},
   "source": [
    "### Training and Validation"
   ]
  },
  {
   "cell_type": "code",
   "execution_count": 8,
   "metadata": {},
   "outputs": [],
   "source": [
    "from torch.optim.lr_scheduler import StepLR\n",
    "\n",
    "# device = torch.device(\n",
    "#     'mps' if torch.backends.mps.is_available()\n",
    "#     else 'cpu'\n",
    "# )\n",
    "\n",
    "device = torch.device('cpu')\n",
    "\n",
    "model = model.to(device)\n",
    "criterion = nn.CrossEntropyLoss()\n",
    "optimizer = optim.SGD(model.parameters(),\n",
    "                      lr=0.001,\n",
    "                      momentum=0.9)\n",
    "\n",
    "# we use a scheduler from PyTorch to adjust the learning rate of our SGD optimizer after several epochs\n",
    "exp_lr_scheduler = StepLR(optimizer,\n",
    "                          step_size=7,\n",
    "                          gamma=0.1)"
   ]
  },
  {
   "cell_type": "code",
   "execution_count": 9,
   "metadata": {},
   "outputs": [
    {
     "name": "stdout",
     "output_type": "stream",
     "text": [
      "Train - Loss: 0.1432 Acc: 0.6844Val - Loss: 0.0488 Acc: 0.9487\n",
      "Train - Loss: 0.1139 Acc: 0.7664Val - Loss: 0.0751 Acc: 0.8974\n",
      "Train - Loss: 0.1278 Acc: 0.8033Val - Loss: 0.0648 Acc: 0.9103\n",
      "Train - Loss: 0.0947 Acc: 0.8361Val - Loss: 0.0911 Acc: 0.8782\n",
      "Train - Loss: 0.1363 Acc: 0.7869Val - Loss: 0.0788 Acc: 0.8974\n",
      "Train - Loss: 0.1345 Acc: 0.8033Val - Loss: 0.0783 Acc: 0.8974\n",
      "Train - Loss: 0.0978 Acc: 0.8320Val - Loss: 0.0817 Acc: 0.8654\n",
      "Train - Loss: 0.0738 Acc: 0.8893Val - Loss: 0.0509 Acc: 0.9359\n",
      "Train - Loss: 0.0727 Acc: 0.8811Val - Loss: 0.0528 Acc: 0.9231\n",
      "Train - Loss: 0.0753 Acc: 0.8893Val - Loss: 0.0538 Acc: 0.9295\n",
      "Train - Loss: 0.0980 Acc: 0.8525Val - Loss: 0.0494 Acc: 0.9295\n",
      "Train - Loss: 0.0685 Acc: 0.8811Val - Loss: 0.0988 Acc: 0.9103\n",
      "Train - Loss: 0.0724 Acc: 0.8852Val - Loss: 0.0825 Acc: 0.9103\n",
      "Train - Loss: 0.0807 Acc: 0.8484Val - Loss: 0.0461 Acc: 0.9231\n",
      "Train - Loss: 0.0497 Acc: 0.9139Val - Loss: 0.0810 Acc: 0.9103\n",
      "Train - Loss: 0.0611 Acc: 0.8975Val - Loss: 0.0483 Acc: 0.9295\n",
      "Train - Loss: 0.0535 Acc: 0.9098Val - Loss: 0.0503 Acc: 0.9359\n",
      "Train - Loss: 0.0770 Acc: 0.8607Val - Loss: 0.0465 Acc: 0.9359\n",
      "Train - Loss: 0.0701 Acc: 0.8770Val - Loss: 0.0492 Acc: 0.9359\n",
      "Train - Loss: 0.0532 Acc: 0.9139Val - Loss: 0.0503 Acc: 0.9487\n",
      "Train - Loss: 0.0521 Acc: 0.9180Val - Loss: 0.0490 Acc: 0.9487\n",
      "Train - Loss: 0.0770 Acc: 0.8607Val - Loss: 0.0490 Acc: 0.9359\n",
      "Train - Loss: 0.0654 Acc: 0.8975Val - Loss: 0.0506 Acc: 0.9359\n",
      "Train - Loss: 0.0655 Acc: 0.8893Val - Loss: 0.0534 Acc: 0.9359\n",
      "Train - Loss: 0.0634 Acc: 0.8934Val - Loss: 0.0473 Acc: 0.9423\n"
     ]
    }
   ],
   "source": [
    "# trainning and validation loop\n",
    "num_epochs = 25\n",
    "\n",
    "for epoch in range(num_epochs):\n",
    "    \n",
    "    model.train()\n",
    "    running_loss = 0.0\n",
    "    running_corrects = 0\n",
    "    \n",
    "    for inputs, labels in train_loader:\n",
    "        inputs = inputs.to(device)\n",
    "        labels = labels.to(labels)\n",
    "        \n",
    "        optimizer.zero_grad()\n",
    "        outputs = model(inputs)\n",
    "        _, preds = torch.max(outputs, 1)\n",
    "        loss = criterion(outputs, labels)\n",
    "        \n",
    "        loss.backward()\n",
    "        optimizer.step()\n",
    "        \n",
    "        running_loss += loss.item() / inputs.size(0)\n",
    "        running_corrects += torch.sum(preds == labels.data) / inputs.size(0)\n",
    "    \n",
    "    # schedule the learinig rate for next epoch of training    \n",
    "    exp_lr_scheduler.step()\n",
    "    train_epoch_loss = running_loss / len(train_loader)\n",
    "    train_epoch_acc = running_corrects / len(train_loader)\n",
    "    \n",
    "    model.eval()\n",
    "    running_loss = 0.0\n",
    "    running_corrects = 0\n",
    "    \n",
    "    with torch.no_grad():\n",
    "        for inputs, labels in val_loader:\n",
    "            inputs = inputs.to(device)\n",
    "            labels = labels.to(device)\n",
    "            outputs = model(inputs)\n",
    "            _, preds = torch.max(outputs, 1)\n",
    "            loss = criterion(outputs, labels)\n",
    "            \n",
    "            running_loss += loss.item() / inputs.size(0)\n",
    "            running_corrects += torch.sum(preds == labels.data) / inputs.size(0)\n",
    "            \n",
    "    epoch_loss = running_loss / len(val_loader)\n",
    "    epoch_acc = running_corrects / len(val_loader)\n",
    "    \n",
    "    print(\"Train - Loss: {:.4f} Acc: {:.4f}\"\n",
    "          \"Val - Loss: {:.4f} Acc: {:.4f}\"\n",
    "          .format(train_epoch_loss, train_epoch_acc,\n",
    "                  epoch_loss, epoch_acc))"
   ]
  },
  {
   "cell_type": "markdown",
   "metadata": {},
   "source": [
    "### Testing and Deployment"
   ]
  },
  {
   "cell_type": "code",
   "execution_count": 10,
   "metadata": {},
   "outputs": [],
   "source": [
    "import matplotlib.pyplot as plt\n",
    "\n",
    "def imshow(inp, title=None):\n",
    "    # Switch from C x H x W to H x W x C image for mats plotting\n",
    "    inp = inp.numpy().transpose((1, 2, 0))\n",
    "    mean = np.array([0.485, 0.456, 0.406])\n",
    "    std = np.array([0.229, 0.224, 0.225])\n",
    "    # undo the normalization we do during transforms so we can properly view images\n",
    "    inp = std * inp + mean\n",
    "    plt.imshow(inp)\n",
    "    if title is not None:\n",
    "        plt.title(title)\n"
   ]
  },
  {
   "cell_type": "code",
   "execution_count": 11,
   "metadata": {},
   "outputs": [
    {
     "name": "stderr",
     "output_type": "stream",
     "text": [
      "Clipping input data to the valid range for imshow with RGB data ([0..1] for floats or [0..255] for integers).\n"
     ]
    },
    {
     "data": {
      "image/png": "[encoded data removed]",
      "text/plain": [
       "<Figure size 640x480 with 1 Axes>"
      ]
     },
     "metadata": {},
     "output_type": "display_data"
    }
   ],
   "source": [
    "inputs, classes = next(iter(val_loader))\n",
    "\n",
    "out = torchvision.utils.make_grid(inputs)\n",
    "class_names = val_dataset.classes\n",
    "\n",
    "outputs = model(inputs.to(device))\n",
    "_, preds = torch.max(outputs, 1)\n",
    "\n",
    "imshow(out, title=[class_names[x] for x in preds])"
   ]
  },
  {
   "cell_type": "markdown",
   "metadata": {},
   "source": [
    "# Sentiment Analysis with Torchtext"
   ]
  },
  {
   "cell_type": "markdown",
   "metadata": {},
   "source": [
    "## Data Processing"
   ]
  },
  {
   "cell_type": "code",
   "execution_count": 139,
   "metadata": {},
   "outputs": [],
   "source": [
    "# we will use bi-grams, which are pairs of words or tokens that appear in a sentence\n",
    "def generate_bigram(x):\n",
    "    # select two words \n",
    "    n_grams = set(zip(*[x[i:] for i in range(2)]))\n",
    "    # print(n_grams)\n",
    "    for n_gram in n_grams:\n",
    "        x.append(' '.join(n_gram))\n",
    "    \n",
    "    return x"
   ]
  },
  {
   "cell_type": "code",
   "execution_count": 140,
   "metadata": {},
   "outputs": [
    {
     "data": {
      "text/plain": [
       "['This', 'movie', 'is', 'awesome', 'movie is', 'is awesome', 'This movie']"
      ]
     },
     "execution_count": 140,
     "metadata": {},
     "output_type": "execute_result"
    }
   ],
   "source": [
    "generate_bigram(['This', 'movie', 'is', 'awesome'])"
   ]
  },
  {
   "cell_type": "code",
   "execution_count": 141,
   "metadata": {},
   "outputs": [],
   "source": [
    "from torchtext.datasets import IMDB\n",
    "from torch.utils.data.dataset import random_split\n",
    "from torchtext import data, datasets\n",
    "\n",
    "TEXT = data.Field(sequential=True, batch_first=True, lower=True)\n",
    "LABEL = data.Field(sequential=False, batch_first=True)\n",
    "\n",
    "# load data from IMDB dataset\n",
    "# train_iter, test_iter = IMDB(\n",
    "#     split=('train', 'test')\n",
    "# )\n",
    "train_iter, test_iter = IMDB.splits(\n",
    "    TEXT, LABEL\n",
    ")\n",
    "\n",
    "\n",
    "# redefine iterators as lists\n",
    "train_dataset = list(train_iter)\n",
    "test_data = list(test_iter)\n",
    "\n",
    "# split training data into two sets, 70% for training and 30% for validation\n",
    "num_train = int(len(train_dataset) * 0.70)\n",
    "train_data, valid_data = random_split(\n",
    "    train_dataset,\n",
    "    [num_train, len(train_dataset) - num_train]\n",
    ")"
   ]
  },
  {
   "cell_type": "code",
   "execution_count": 142,
   "metadata": {},
   "outputs": [
    {
     "name": "stdout",
     "output_type": "stream",
     "text": [
      "17500 7500 25000\n"
     ]
    }
   ],
   "source": [
    "print(len(train_data), len(valid_data), len(test_data))"
   ]
  },
  {
   "cell_type": "code",
   "execution_count": 143,
   "metadata": {},
   "outputs": [
    {
     "name": "stdout",
     "output_type": "stream",
     "text": [
      "{'text': <torchtext.data.field.Field object at 0x2fdd835e0>, 'label': <torchtext.data.field.Field object at 0x2fdd830d0>}\n"
     ]
    }
   ],
   "source": [
    "print(train_iter.fields)"
   ]
  },
  {
   "cell_type": "code",
   "execution_count": 144,
   "metadata": {},
   "outputs": [
    {
     "name": "stdout",
     "output_type": "stream",
     "text": [
      "neg\n"
     ]
    }
   ],
   "source": [
    "data_index = 21\n",
    "print(train_data[data_index].label)"
   ]
  },
  {
   "cell_type": "code",
   "execution_count": 145,
   "metadata": {},
   "outputs": [
    {
     "name": "stdout",
     "output_type": "stream",
     "text": [
      "['this', 'movie', 'goes', 'beyond', 'just', 'being', 'bad,', 'it', 'is', 'definitively', 'the', 'worst', 'movie', 'i', 'have', 'ever', 'seen', 'in', 'my', 'entire', 'life.', 'unless', 'you', 'yourself', 'have', 'a', 'problem', 'with', 'necrophilia', 'than', 'you', 'will', 'not', 'enjoy', 'will', 'not', 'enjoy', 'the', 'scenes', 'depicting', 'it', 'in', 'this', 'film,', '(if', 'you', 'can', 'call', 'it', 'that).']\n"
     ]
    }
   ],
   "source": [
    "print(train_data[data_index].text)"
   ]
  },
  {
   "cell_type": "code",
   "execution_count": 146,
   "metadata": {},
   "outputs": [
    {
     "name": "stdout",
     "output_type": "stream",
     "text": [
      "\u001b[38;5;3m⚠ As of spaCy v3.0, shortcuts like 'en' are deprecated. Please use the\n",
      "full pipeline package name 'en_core_web_sm' instead.\u001b[0m\n",
      "Collecting en-core-web-sm==3.5.0\n",
      "  Downloading https://github.com/explosion/spacy-models/releases/download/en_core_web_sm-3.5.0/en_core_web_sm-3.5.0-py3-none-any.whl (12.8 MB)\n",
      "\u001b[2K     \u001b[90m━━━━━━━━━━━━━━━━━━━━━━━━━━━━━━━━━━━━━━━━\u001b[0m \u001b[32m12.8/12.8 MB\u001b[0m \u001b[31m35.8 MB/s\u001b[0m eta \u001b[36m0:00:00\u001b[0m00:01\u001b[0m00:01\u001b[0m\n",
      "\u001b[?25hRequirement already satisfied: spacy<3.6.0,>=3.5.0 in /Users/woojin/anaconda3/envs/pytorch/lib/python3.9/site-packages (from en-core-web-sm==3.5.0) (3.5.3)\n",
      "Requirement already satisfied: spacy-legacy<3.1.0,>=3.0.11 in /Users/woojin/anaconda3/envs/pytorch/lib/python3.9/site-packages (from spacy<3.6.0,>=3.5.0->en-core-web-sm==3.5.0) (3.0.12)\n",
      "Requirement already satisfied: spacy-loggers<2.0.0,>=1.0.0 in /Users/woojin/anaconda3/envs/pytorch/lib/python3.9/site-packages (from spacy<3.6.0,>=3.5.0->en-core-web-sm==3.5.0) (1.0.4)\n",
      "Requirement already satisfied: murmurhash<1.1.0,>=0.28.0 in /Users/woojin/anaconda3/envs/pytorch/lib/python3.9/site-packages (from spacy<3.6.0,>=3.5.0->en-core-web-sm==3.5.0) (1.0.7)\n",
      "Requirement already satisfied: cymem<2.1.0,>=2.0.2 in /Users/woojin/anaconda3/envs/pytorch/lib/python3.9/site-packages (from spacy<3.6.0,>=3.5.0->en-core-web-sm==3.5.0) (2.0.6)\n",
      "Requirement already satisfied: preshed<3.1.0,>=3.0.2 in /Users/woojin/anaconda3/envs/pytorch/lib/python3.9/site-packages (from spacy<3.6.0,>=3.5.0->en-core-web-sm==3.5.0) (3.0.6)\n",
      "Requirement already satisfied: thinc<8.2.0,>=8.1.8 in /Users/woojin/anaconda3/envs/pytorch/lib/python3.9/site-packages (from spacy<3.6.0,>=3.5.0->en-core-web-sm==3.5.0) (8.1.10)\n",
      "Requirement already satisfied: wasabi<1.2.0,>=0.9.1 in /Users/woojin/anaconda3/envs/pytorch/lib/python3.9/site-packages (from spacy<3.6.0,>=3.5.0->en-core-web-sm==3.5.0) (0.9.1)\n",
      "Requirement already satisfied: srsly<3.0.0,>=2.4.3 in /Users/woojin/anaconda3/envs/pytorch/lib/python3.9/site-packages (from spacy<3.6.0,>=3.5.0->en-core-web-sm==3.5.0) (2.4.6)\n",
      "Requirement already satisfied: catalogue<2.1.0,>=2.0.6 in /Users/woojin/anaconda3/envs/pytorch/lib/python3.9/site-packages (from spacy<3.6.0,>=3.5.0->en-core-web-sm==3.5.0) (2.0.7)\n",
      "Requirement already satisfied: typer<0.8.0,>=0.3.0 in /Users/woojin/anaconda3/envs/pytorch/lib/python3.9/site-packages (from spacy<3.6.0,>=3.5.0->en-core-web-sm==3.5.0) (0.4.1)\n",
      "Requirement already satisfied: pathy>=0.10.0 in /Users/woojin/anaconda3/envs/pytorch/lib/python3.9/site-packages (from spacy<3.6.0,>=3.5.0->en-core-web-sm==3.5.0) (0.10.1)\n",
      "Requirement already satisfied: smart-open<7.0.0,>=5.2.1 in /Users/woojin/anaconda3/envs/pytorch/lib/python3.9/site-packages (from spacy<3.6.0,>=3.5.0->en-core-web-sm==3.5.0) (5.2.1)\n",
      "Requirement already satisfied: tqdm<5.0.0,>=4.38.0 in /Users/woojin/anaconda3/envs/pytorch/lib/python3.9/site-packages (from spacy<3.6.0,>=3.5.0->en-core-web-sm==3.5.0) (4.66.1)\n",
      "Requirement already satisfied: numpy>=1.15.0 in /Users/woojin/anaconda3/envs/pytorch/lib/python3.9/site-packages (from spacy<3.6.0,>=3.5.0->en-core-web-sm==3.5.0) (1.25.2)\n",
      "Requirement already satisfied: requests<3.0.0,>=2.13.0 in /Users/woojin/anaconda3/envs/pytorch/lib/python3.9/site-packages (from spacy<3.6.0,>=3.5.0->en-core-web-sm==3.5.0) (2.31.0)\n",
      "Requirement already satisfied: pydantic!=1.8,!=1.8.1,<1.11.0,>=1.7.4 in /Users/woojin/anaconda3/envs/pytorch/lib/python3.9/site-packages (from spacy<3.6.0,>=3.5.0->en-core-web-sm==3.5.0) (1.10.8)\n",
      "Requirement already satisfied: jinja2 in /Users/woojin/anaconda3/envs/pytorch/lib/python3.9/site-packages (from spacy<3.6.0,>=3.5.0->en-core-web-sm==3.5.0) (3.1.2)\n",
      "Requirement already satisfied: setuptools in /Users/woojin/anaconda3/envs/pytorch/lib/python3.9/site-packages (from spacy<3.6.0,>=3.5.0->en-core-web-sm==3.5.0) (68.2.2)\n",
      "Requirement already satisfied: packaging>=20.0 in /Users/woojin/anaconda3/envs/pytorch/lib/python3.9/site-packages (from spacy<3.6.0,>=3.5.0->en-core-web-sm==3.5.0) (23.1)\n",
      "Requirement already satisfied: langcodes<4.0.0,>=3.2.0 in /Users/woojin/anaconda3/envs/pytorch/lib/python3.9/site-packages (from spacy<3.6.0,>=3.5.0->en-core-web-sm==3.5.0) (3.3.0)\n",
      "Requirement already satisfied: typing-extensions>=4.2.0 in /Users/woojin/anaconda3/envs/pytorch/lib/python3.9/site-packages (from pydantic!=1.8,!=1.8.1,<1.11.0,>=1.7.4->spacy<3.6.0,>=3.5.0->en-core-web-sm==3.5.0) (4.7.1)\n",
      "Requirement already satisfied: charset-normalizer<4,>=2 in /Users/woojin/anaconda3/envs/pytorch/lib/python3.9/site-packages (from requests<3.0.0,>=2.13.0->spacy<3.6.0,>=3.5.0->en-core-web-sm==3.5.0) (3.1.0)\n",
      "Requirement already satisfied: idna<4,>=2.5 in /Users/woojin/anaconda3/envs/pytorch/lib/python3.9/site-packages (from requests<3.0.0,>=2.13.0->spacy<3.6.0,>=3.5.0->en-core-web-sm==3.5.0) (3.4)\n",
      "Requirement already satisfied: urllib3<3,>=1.21.1 in /Users/woojin/anaconda3/envs/pytorch/lib/python3.9/site-packages (from requests<3.0.0,>=2.13.0->spacy<3.6.0,>=3.5.0->en-core-web-sm==3.5.0) (1.26.16)\n",
      "Requirement already satisfied: certifi>=2017.4.17 in /Users/woojin/anaconda3/envs/pytorch/lib/python3.9/site-packages (from requests<3.0.0,>=2.13.0->spacy<3.6.0,>=3.5.0->en-core-web-sm==3.5.0) (2023.7.22)\n",
      "Requirement already satisfied: blis<0.8.0,>=0.7.8 in /Users/woojin/anaconda3/envs/pytorch/lib/python3.9/site-packages (from thinc<8.2.0,>=8.1.8->spacy<3.6.0,>=3.5.0->en-core-web-sm==3.5.0) (0.7.9)\n",
      "Requirement already satisfied: confection<1.0.0,>=0.0.1 in /Users/woojin/anaconda3/envs/pytorch/lib/python3.9/site-packages (from thinc<8.2.0,>=8.1.8->spacy<3.6.0,>=3.5.0->en-core-web-sm==3.5.0) (0.0.4)\n",
      "Requirement already satisfied: click<9.0.0,>=7.1.1 in /Users/woojin/anaconda3/envs/pytorch/lib/python3.9/site-packages (from typer<0.8.0,>=0.3.0->spacy<3.6.0,>=3.5.0->en-core-web-sm==3.5.0) (8.1.7)\n",
      "Requirement already satisfied: MarkupSafe>=2.0 in /Users/woojin/anaconda3/envs/pytorch/lib/python3.9/site-packages (from jinja2->spacy<3.6.0,>=3.5.0->en-core-web-sm==3.5.0) (2.1.3)\n",
      "\u001b[38;5;2m✔ Download and installation successful\u001b[0m\n",
      "You can now load the package via spacy.load('en_core_web_sm')\n"
     ]
    }
   ],
   "source": [
    "# for fixing error\n",
    "# OSError: [E941] Can't find model 'en'. It looks like you're trying to load a model from a shortcut, which is obsolete as of spaCy v3.0. To load the model, use its full name instead:\n",
    "!python -m spacy download en"
   ]
  },
  {
   "cell_type": "code",
   "execution_count": 147,
   "metadata": {},
   "outputs": [],
   "source": [
    "import spacy\n",
    "nlp= spacy.load('en_core_web_sm')"
   ]
  },
  {
   "cell_type": "code",
   "execution_count": 148,
   "metadata": {},
   "outputs": [
    {
     "data": {
      "text/plain": [
       "<torch.utils.data.dataset.Subset at 0x2fdd83fd0>"
      ]
     },
     "execution_count": 148,
     "metadata": {},
     "output_type": "execute_result"
    }
   ],
   "source": [
    "train_data"
   ]
  },
  {
   "cell_type": "code",
   "execution_count": 149,
   "metadata": {},
   "outputs": [
    {
     "data": {
      "text/plain": [
       "'it\\'s pretty clear that the director and production crew set out to paint a less than flattering picture of the palestinian girl and her family. the film and it\\'s website tries to imply that ayat has a secret reason for blowing herself and rachel up- a boyfriend problem- perhaps pregnancy. neatly glossed over is the fact that ayat had herself just witnessed the death of a close friend at the hands of the israelis\\'-just outside her home. gosh,so why on earth would a young, pretty, intelligent girl with plans for college go and do such a thing? could it be that the hormonal, emotional teenager was traumatized by seeing seeing someone she loved die before her very eyes? this detail merits all of 5 seconds in the movie. another neatly sidestepped detail is that avigail levy, rachels\\' mother, could have prevented the destruction of the building the akhras family lived in(along with 22 other families). one distinctly gets the impression that she\\'s offering this as a \"concession\" - should mrs. akhras agree to speak with her.\"why should i?\" she says.(since the movie was made the home has been destroyed- apparently the interview didn\\'t result in what she wanted- so bring on the bulldozers)mrs levy claimed that she \"wanted the movie to be cathartic as well as a symbol of hope, a chance to transcend entrenched hatreds\"- instead she uses it as an excuse to harangue ayats mother, while dangling the house as a carrot.moreover although the two women live only 4 miles apart, she is so out of touch with the realities of the occupation for her palestinian neighbors, that she really thinks that mrs. akhras can just drop over for a cup of coffee?please.and she forgoes the one chance she had to meet mrs. akhras in person and see what kind of life she lives.(the akras family originally came from jaffa, but now live crammed into a refugee camp only 4 miles from where the levys live in comparative luxury.any sympathy i would have had for the obviously well to do mrs. levy is dissolved by her air of self-righteous bitchiness.by contrast, ayats mother comes off as kind,forthright and loving- in spite of the best efforts by the post production crew to paint her and her family as monsters. heck even the music and sound design was one sided- i guess the muezzin sings all day every day 4 miles from the levy family home, always in a sharply contrasting key from the sappy new-age music that scores this drab excuse for a documentary.also there is the small matter of translations - mrs. levy directly addresses the camera in english when she has something worked out to say ahead of time, hebrew when she doesn\\'t. mrs.akhras spoke only arabic which received sometimes a translation, sometimes transliteration, always awkward, and very suspect for a supposedly objective movie.they also \"sweated\" her under the lights, while mrs. levy sat in (air conditioned) comfort.rotten editing for mrs. akhras\\' segments too. i gave it a 2 because i liked ayats mother and father, who seemed like good decent people. shame on hbo, producers and director, for releasing such a stink-bomb.'"
      ]
     },
     "execution_count": 149,
     "metadata": {},
     "output_type": "execute_result"
    }
   ],
   "source": [
    "# train_data Exple attribute 1) label : 0 or 1 int, 2) text : string list ['bizarre', 'tobe', ...]\n",
    "# list ot string `join` fucntion\n",
    "' '.join(train_data[1].text)"
   ]
  },
  {
   "cell_type": "code",
   "execution_count": 150,
   "metadata": {},
   "outputs": [],
   "source": [
    "# The data pipeline will use our `generate_bigrams()` function, a tokenizer, and a vocabulry\n",
    "from torchtext.data.utils import get_tokenizer\n",
    "from collections import Counter\n",
    "from torchtext.vocab import Vocab\n",
    "import torch\n",
    "\n",
    "# We specify `spaCy` as the tokenizer\n",
    "# spaCy is a popular Python package for NLP and induces its own tokenizer\n",
    "tokenizer = get_tokenizer('spacy')\n",
    "counter = Counter()\n",
    "\n",
    "for _, line in enumerate(train_data):\n",
    "    # make a list of all tokens used in the training data and count how many times each occurs\n",
    "    counter.update(generate_bigram(tokenizer(' '.join(line.text))))\n",
    "\n",
    "# A vocabulary is just a set of words that we can use\n",
    "# if we find a word in the movie review that is not contrined in the vocabulary, we set the word to a special word called \"unknown\"\n",
    "# we limit our dictionary to 25,000 words, much smaller than the full set of words in the English language\n",
    "# we specify our vocabulary vectors called GloVe(Gloabal Vector for Word Representation) with 100 dimensions\n",
    "# An embedding is a method to map a word or series of words to a numeric vector\n",
    "vocab = Vocab(counter,\n",
    "              max_size=25000,\n",
    "              vectors= \"glove.6B.100d\",\n",
    "              unk_init=torch.Tensor.normal_)"
   ]
  },
  {
   "cell_type": "code",
   "execution_count": 151,
   "metadata": {},
   "outputs": [],
   "source": [
    "# we build out data pipeline for the review and label text data\n",
    "\n",
    "text_pipeline = lambda x : [vocab[token] for token in generate_bigram(tokenizer(x))]\n",
    "label_pipeline = lambda x : 1 if x=='pos' else 0"
   ]
  },
  {
   "cell_type": "code",
   "execution_count": 152,
   "metadata": {},
   "outputs": [
    {
     "name": "stdout",
     "output_type": "stream",
     "text": [
      "[2, 23, 19, 816, 12885, 545, 143]\n"
     ]
    }
   ],
   "source": [
    "print(text_pipeline('the movie was horrible'))"
   ]
  },
  {
   "cell_type": "code",
   "execution_count": 153,
   "metadata": {},
   "outputs": [
    {
     "name": "stdout",
     "output_type": "stream",
     "text": [
      "0\n"
     ]
    }
   ],
   "source": [
    "print(label_pipeline('neg'))"
   ]
  },
  {
   "cell_type": "code",
   "execution_count": 154,
   "metadata": {},
   "outputs": [],
   "source": [
    "# we define out datasets and preprocessing, creating dataloaders\n",
    "\n",
    "from torch.utils.data import DataLoader\n",
    "from torch.nn.utils.rnn import pad_sequence\n",
    "\n",
    "device = 'cpu'\n",
    "# device = torch.device('mps' if torch.backends.mps.is_available() else 'cpu')\n",
    "\n",
    "def collate_batch(batch):\n",
    "    label_list, text_list = [], []\n",
    "    for data in batch:\n",
    "        label_list.append(label_pipeline(data.label))\n",
    "        processed_text = torch.tensor(text_pipeline(' '.join(data.text)))\n",
    "        text_list.append(processed_text)\n",
    "    \n",
    "    return (\n",
    "        torch.tensor(label_list, dtype=torch.float64).to(device), \n",
    "        pad_sequence(text_list, padding_value=1.0).to(device)\n",
    "        )\n",
    "\n",
    "# batch_size = 64\n",
    "# def batch_sampler():\n",
    "#     indices = [(i, len(tokenizer(' '.join(s.text)))) for i, s in enumerate(train_dataset)]\n",
    "\n",
    "BATCH_SIZE = 64\n",
    "\n",
    "train_dataloder = DataLoader(\n",
    "    train_data,\n",
    "    collate_fn=collate_batch,\n",
    "    batch_size=BATCH_SIZE,\n",
    "    shuffle=True\n",
    ")\n",
    "\n",
    "valid_dataloader = DataLoader(\n",
    "    valid_data,\n",
    "    batch_size=BATCH_SIZE,\n",
    "    shuffle=True,\n",
    "    collate_fn=collate_batch\n",
    ")\n",
    "\n",
    "test_dataloader = DataLoader(\n",
    "    test_data,\n",
    "    batch_size=BATCH_SIZE,\n",
    "    shuffle=True,\n",
    "    collate_fn=collate_batch\n",
    ")"
   ]
  },
  {
   "cell_type": "markdown",
   "metadata": {},
   "source": [
    "## Model Design"
   ]
  },
  {
   "cell_type": "code",
   "execution_count": 155,
   "metadata": {},
   "outputs": [],
   "source": [
    "# We will use a model called FastText\n",
    "\n",
    "import torch.nn as nn \n",
    "import torch.nn.functional as F \n",
    "\n",
    "class FastText(nn.Module):\n",
    "    def __init__(self, vocab_size, embedding_dim, output_dim, pad_idx):\n",
    "        super().__init__()\n",
    "        self.embedding = nn.Embedding(\n",
    "            vocab_size,\n",
    "            embedding_dim,\n",
    "            padding_idx=pad_idx\n",
    "        )\n",
    "        self.fc = nn.Linear(embedding_dim, output_dim)\n",
    "        \n",
    "    def forward(self, text):\n",
    "        # embedding for each word using the `nn.Embedded` layer\n",
    "        embedded = self.embedding(text)\n",
    "        embedded = embedded.permute(1, 0, 2)\n",
    "        # it calculates the average of all the word embeddings with `avg_pool2d()` function\n",
    "        pooled = F.avg_pool2d(\n",
    "            embedded,\n",
    "            (embedded.shape[1], 1)\n",
    "        ).squeeze(1)\n",
    "        # it feeds the average through a linear layer. \n",
    "        return self.fc(pooled)"
   ]
  },
  {
   "cell_type": "code",
   "execution_count": 156,
   "metadata": {},
   "outputs": [],
   "source": [
    "model = FastText(\n",
    "    vocab_size= len(vocab),\n",
    "    embedding_dim= 100,\n",
    "    output_dim= 1,\n",
    "    pad_idx= vocab['<PAD>']\n",
    ")"
   ]
  },
  {
   "cell_type": "code",
   "execution_count": 157,
   "metadata": {},
   "outputs": [],
   "source": [
    "# we initialize the layer's weights with pretrained embeddings\n",
    "\n",
    "# load the pretrained embedding from our vocabulary\n",
    "pretrained_embeddings = vocab.vectors\n",
    "# initialize the embedding layer's weights\n",
    "model.embedding.weight.data.copy_(pretrained_embeddings)\n",
    "\n",
    "EMBEDDING_DIM = 100\n",
    "\n",
    "# Initialize the embedding weights of an unknown token to zero\n",
    "unk_idx = vocab['<UNK>']\n",
    "\n",
    "# Initialize the embedding weights of a pad token to zero\n",
    "pad_idx = vocab['<PAD>']\n",
    "\n",
    "model.embedding.weight.data[unk_idx] = torch.zeros(EMBEDDING_DIM)\n",
    "model.embedding.weight.data[pad_idx] = torch.zeros(EMBEDDING_DIM) "
   ]
  },
  {
   "cell_type": "markdown",
   "metadata": {},
   "source": [
    "## Training and Validation"
   ]
  },
  {
   "cell_type": "code",
   "execution_count": 158,
   "metadata": {},
   "outputs": [],
   "source": [
    "import torch.optim as optim\n",
    "\n",
    "optimizer = optim.Adam(model.parameters())\n",
    "criterion = nn.BCEWithLogitsLoss()      # commonly used for binary classification"
   ]
  },
  {
   "cell_type": "code",
   "execution_count": 159,
   "metadata": {},
   "outputs": [
    {
     "name": "stdout",
     "output_type": "stream",
     "text": [
      "Epoch 0 Train - Loss: 0.6923 Acc: 0.5156\n",
      "Epoch 0 Valid - Loss: 0.6887 Acc: 0.5306\n",
      "Epoch 1 Train - Loss: 0.6840 Acc: 0.5697\n",
      "Epoch 1 Valid - Loss: 0.6773 Acc: 0.5964\n",
      "Epoch 2 Train - Loss: 0.6651 Acc: 0.6941\n",
      "Epoch 2 Valid - Loss: 0.6542 Acc: 0.6597\n",
      "Epoch 3 Train - Loss: 0.6324 Acc: 0.7549\n",
      "Epoch 3 Valid - Loss: 0.6185 Acc: 0.7795\n",
      "Epoch 4 Train - Loss: 0.5920 Acc: 0.7816\n",
      "Epoch 4 Valid - Loss: 0.5798 Acc: 0.7916\n"
     ]
    }
   ],
   "source": [
    "for epoch in range(5):\n",
    "    epoch_loss = 0\n",
    "    epoch_acc = 0\n",
    "    \n",
    "    model.train()\n",
    "    \n",
    "    for label, text in train_dataloder:\n",
    "        optimizer.zero_grad()\n",
    "        predictions = model(text).squeeze(1)\n",
    "        loss = criterion(predictions, label)\n",
    "        \n",
    "        rounded_pred = torch.round(\n",
    "            torch.sigmoid(predictions)\n",
    "        )\n",
    "        \n",
    "        correct = (rounded_pred == label).float()\n",
    "        acc = correct.sum() / len(correct)\n",
    "        \n",
    "        loss.backward()\n",
    "        optimizer.step()\n",
    "        epoch_loss += loss.item()\n",
    "        epoch_acc += acc.item()\n",
    "        \n",
    "    print(\"Epoch %d Train - Loss: %.4f Acc: %.4f\" % (epoch, epoch_loss/len(train_dataloder), epoch_acc/len(train_dataloder)))\n",
    "    \n",
    "    epoch_loss = 0\n",
    "    epoch_acc = 0\n",
    "    \n",
    "    model.eval()\n",
    "    with torch.no_grad():\n",
    "        for label, text in valid_dataloader:\n",
    "            predictions = model(text).squeeze(1)\n",
    "            loss = criterion(predictions, label)\n",
    "            rounded_pred = torch.round(\n",
    "                torch.sigmoid(predictions)\n",
    "            )\n",
    "            correct = (rounded_pred == label).float()\n",
    "            acc = correct.sum() / len(correct)\n",
    "            \n",
    "            epoch_loss += loss.item()\n",
    "            epoch_acc += acc.item()\n",
    "            \n",
    "    print(\"Epoch %d Valid - Loss: %.4f Acc: %.4f\" % (epoch, epoch_loss/len(valid_dataloader), epoch_acc/len(valid_dataloader)))"
   ]
  },
  {
   "cell_type": "markdown",
   "metadata": {},
   "source": [
    "## Testing and Deployment"
   ]
  },
  {
   "cell_type": "code",
   "execution_count": 162,
   "metadata": {},
   "outputs": [
    {
     "name": "stdout",
     "output_type": "stream",
     "text": [
      "Test - Loss: 0.5801 Acc: 0.7925\n"
     ]
    }
   ],
   "source": [
    "test_loss = 0\n",
    "test_acc = 0\n",
    "model.eval()\n",
    "\n",
    "with torch.no_grad():\n",
    "    for label, text in test_dataloader:\n",
    "        predictions = model(text).squeeze(1)\n",
    "        loss = criterion(predictions, label)\n",
    "        \n",
    "        rounded_pred = torch.round(\n",
    "            torch.sigmoid(predictions)\n",
    "        )\n",
    "        \n",
    "        correct = (rounded_pred == label).float()\n",
    "        acc = correct.sum() / len(correct)\n",
    "        \n",
    "        test_loss += loss.item()\n",
    "        test_acc += acc.item()\n",
    "        \n",
    "print(\"Test - Loss: %.4f Acc: %.4f\" % (test_loss/len(test_dataloader), test_acc/len(test_dataloader)))"
   ]
  },
  {
   "cell_type": "code",
   "execution_count": 164,
   "metadata": {},
   "outputs": [],
   "source": [
    "# We will predict the sentiment of our own reviews\n",
    "\n",
    "import spacy\n",
    "nlp = spacy.load('en_core_web_sm')\n",
    "\n",
    "def predict_sentiment(model, sentence):\n",
    "    model.eval()\n",
    "    with torch.no_grad():\n",
    "        text = torch.tensor(text_pipeline(sentence)).unsqueeze(1).to(device)\n",
    "        prediction = torch.sigmoid(model(text))\n",
    "        return prediction.item()"
   ]
  },
  {
   "cell_type": "code",
   "execution_count": 174,
   "metadata": {},
   "outputs": [
    {
     "name": "stdout",
     "output_type": "stream",
     "text": [
      "9.079296425795746e-09\n"
     ]
    }
   ],
   "source": [
    "import numpy as np\n",
    "sentiment_1 = predict_sentiment(model, \"Don't waste your time\")\n",
    "print(sentiment_1)"
   ]
  },
  {
   "cell_type": "code",
   "execution_count": 178,
   "metadata": {},
   "outputs": [
    {
     "name": "stdout",
     "output_type": "stream",
     "text": [
      "0.0\n"
     ]
    }
   ],
   "source": [
    "sentiment_2 = predict_sentiment(model, \"You gotta see this movie!\")\n",
    "print(sentiment_2)"
   ]
  },
  {
   "cell_type": "code",
   "execution_count": 179,
   "metadata": {},
   "outputs": [],
   "source": [
    "torch.save(model.state_dict(), './models/fasttext_model.pt')"
   ]
  },
  {
   "cell_type": "markdown",
   "metadata": {},
   "source": [
    "# Generative Learning - Generating Fashion-MNIST Images with DCGAN"
   ]
  }
 ],
 "metadata": {
  "kernelspec": {
   "display_name": "pytorch",
   "language": "python",
   "name": "python3"
  },
  "language_info": {
   "codemirror_mode": {
    "name": "ipython",
    "version": 3
   },
   "file_extension": ".py",
   "mimetype": "text/x-python",
   "name": "python",
   "nbconvert_exporter": "python",
   "pygments_lexer": "ipython3",
   "version": "3.9.18"
  },
  "orig_nbformat": 4
 },
 "nbformat": 4,
 "nbformat_minor": 2
}
