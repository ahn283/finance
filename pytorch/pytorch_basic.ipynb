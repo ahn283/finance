{
 "cells": [
  {
   "attachments": {},
   "cell_type": "markdown",
   "metadata": {},
   "source": [
    "# 인공신경망 구성하기"
   ]
  },
  {
   "attachments": {},
   "cell_type": "markdown",
   "metadata": {},
   "source": [
    "## 실습 목표\n",
    "\n",
    "- PyTorch의 주요 기능을 이해한다.\n",
    "\n",
    "- 주어진 데이터셋을 활용하여 인공신경망을 설계한다.\n",
    "\n",
    "- 인공신경망 학습 과정을 코드로 작성하고, 학습이 완료된 모델을 생성한다."
   ]
  },
  {
   "attachments": {},
   "cell_type": "markdown",
   "metadata": {},
   "source": [
    "## 문제 정의\n",
    "\n",
    "- multiclass classifier"
   ]
  },
  {
   "attachments": {},
   "cell_type": "markdown",
   "metadata": {},
   "source": [
    "## 주요 코드"
   ]
  },
  {
   "attachments": {},
   "cell_type": "markdown",
   "metadata": {},
   "source": [
    "### 1. TensorDataset과 DataLoader\n",
    "\n",
    "- 입력 데이터를 쉽게 처리하고, 배치 단위로 잘러서 학습할 수 있게 도와주는 모듈\n",
    "- **Dataset** : 학습시 사용하는 feature와 target의 pair로 이루어짐. \n",
    "    - 아래에서 코드에서는 TensorDataset을 사용하여 Dataset 인스턴스를 생성했지만, 이미지의 사례와 같이 Dataset 클래스를 상속받아서 커스텀 인스턴스를 생성하는 형태로 많이 사용\n",
    "\n",
    "- **DataLoader**: 학습 시 각 인스턴스에 쉽게 접근할 수 있도록 순회 가능한 객체(iterable)를 생성\n",
    "\n",
    "![data loader](https://sebastianraschka.com/images/blog/2022/datapipes/loader-flow.png)\n",
    "\n",
    "- **Sample codle**\n",
    "\n",
    "```\n",
    "from torch.utils.data import TensorDataset, DataLoader\n",
    "```\n",
    "```\n",
    "# X, y로 분할한 데이터를 tensor로 변환\n",
    "X_train = torch.tensor(X_train, dtype=torch.float32)\n",
    "X_test = torch.tensor(X_test, dtype=torch.float32)\n",
    "y_train = torch.tensor(y_train, dtype=torch.int64)\n",
    "y_test = torch.tensor(y_test, dtype=torch.int64)\n",
    "```\n",
    "```\n",
    "# tensor를 TensorDataset으로 생성 -x와 y가 짝으로 이루어짐\n",
    "train_dataset = TensorDataset(X_train, y_train)\n",
    "test_dataset = TensorDataset(X_test, y_test)\n",
    "```\n",
    "```\n",
    "# DataLoader 형태로 생성\n",
    "train_dataloader = DataLoader(train_dataset, batch_size=10, shuffle=True)\n",
    "test_dataloader = DataLoader(test_dataset, batch_size=10, shuffle=True)\n",
    "```\n",
    "\n",
    "- **DataLoader가 하는 역할**\n",
    "    - shuffle\n",
    "    - batch ...\n",
    "\n",
    "![data loader](https://sebastianraschka.com/images/blog/2022/datapipes/dataflow-good.png)"
   ]
  },
  {
   "attachments": {},
   "cell_type": "markdown",
   "metadata": {},
   "source": [
    "### 2. Device 설정\n",
    "- 일반적으로 인공신경망의 학습은 (가능하다면) GPU를 사용하는 것이 바람직함\n",
    "    - Colab Runtime 설정 변경\n",
    "- GPU를 사용하여 학습을 진행하도록 명시적으로 작성 필요\n",
    "- 연산 유형에 따라 GPU에서 수행이 불가능한 경우도 존재하는데, 그럴 경우도 마찬가지로 명시적으로 어떤 프로세서에서 연산을 수행해야하는지 코드로 작성해야함 \n",
    "\n",
    "```\n",
    "device = 'cuda' if torch.cuda.is_available() else 'cpu'\n",
    "model = NeuralNetwork().to(device)\n",
    "```"
   ]
  },
  {
   "attachments": {},
   "cell_type": "markdown",
   "metadata": {},
   "source": [
    "### 3. 신경망 생성\n",
    "\n",
    "- **torch.nn 패키지**는 신경망 생성 및 학습 시 설정헤야하는 다양한 기능을 제공\n",
    "\n",
    "```\n",
    "import torch.nn as nn\n",
    "```\n",
    "\n",
    "- 신경망을 **nn.Module**을 상속받아 정의\n",
    "    - `__init__()` : 신경망에서 사용할 layer를 초기화하는 부분\n",
    "    - `__forward()__` : feed forward 연산 수행 시, 각 layer의 입출력이 어떻게 연결되는지를 지정\n",
    "\n",
    "```\n",
    "class NueralNetwork(nn.Modue):\n",
    "    def __init__(self):\n",
    "        super(NeuralNetwork, self).__init__()\n",
    "        self.input_layer = nn.Linear(4, 16)\n",
    "        self.hidden_layer1 = nn.Linear(16, 32)\n",
    "        self.output_layer = nn.Linear(32, 3)\n",
    "        self.relu = nn.ReLU()\n",
    "\n",
    "    def forward(self, x):\n",
    "        out = self.relu(self.input_layer(x))\n",
    "        out = self.relu(self.hidden_layer1(out))\n",
    "        out = self.output_layer(out)\n",
    "        return out\n",
    "```"
   ]
  },
  {
   "attachments": {},
   "cell_type": "markdown",
   "metadata": {},
   "source": [
    "### 4. Model compile\n",
    "\n",
    "- 학습 시 필요한 정보들(loss function, optimizer)을 선언\n",
    "- 일반적으로 loss와 optimizer는 아래와 같이 변수로 선언하고, 변수를 train/test 시 참고할 수 있도록 매개변수로 지정해줌 \n",
    "\n",
    "```\n",
    "learning_rate = 0.01\n",
    "loss = nn.CrossEntropyLoss()\n",
    "optimizer = torch.optim.Adam(model.parameters(), lr=learning_rate)\n",
    "```"
   ]
  },
  {
   "attachments": {},
   "cell_type": "markdown",
   "metadata": {},
   "source": [
    "### 5. Train\n",
    "- **신경망의 학습과정**을 별도의 함수로 구성하는 것이 일반적\n",
    "    - feed forward -> loss -> error back propagation -> (log) -> (반복)\n",
    "\n",
    "```\n",
    "def train_loop(train_loader, model, loss_fn, optimizer):\n",
    "    for batch, (X, y) in enumerate(train_loader):\n",
    "        X, y = X.to(device), y.to(device)\n",
    "        pred = model(X)\n",
    "        loss = loss_fn(pred, y)\n",
    "        optimizer.zero_gra() # initializing grad\n",
    "        loss.backward()\n",
    "        optimizer.step()"
   ]
  },
  {
   "attachments": {},
   "cell_type": "markdown",
   "metadata": {},
   "source": [
    "### 6. Test\n",
    "- 학습과정과 비슷하나 error back propagate하는 부분이 없음\n",
    "    - feed forward -> loss ->  (log) -> (반복)\n",
    "\n",
    "```\n",
    "def test_loop(test_loader, model, loss_fn):\n",
    "    size = len(test_loader.dataset)\n",
    "    num_batches = len(test_loader)\n",
    "    test_loss, correct = 0, 0\n",
    "\n",
    "    with torch.no_grad():\n",
    "        for X, y in test_loader:\n",
    "            X, y = X.to(device), y.to(device)\n",
    "            pred = model(X)\n",
    "            test_loss += loss_fn(pred, y).item()\n",
    "            correct += (pred.argmax(1) == y).type(torch.float).sum().item()\n",
    "    \n",
    "    test_loss /= num_batches\n",
    "    correct /= size\n",
    "    print(f'Test Error: \\n Accuracy: {(100*correct):>0.1f}%, Avg loss: {test_loss:8f}\\n')\n",
    "```"
   ]
  },
  {
   "attachments": {},
   "cell_type": "markdown",
   "metadata": {},
   "source": [
    "### 7. Iteration\n",
    "- 신경망 학습은 여러 epochs을 반복해서 수행하면서 모델을 구성하는 최적의 파라미터를 찾음\n",
    "- 지정한 epochs 수만큼 **학습**과정과 **평가**과정을 반복하면서, 모델의 성능(loss, accuracy 등)을 체크함\n",
    "\n",
    "```\n",
    "epochs = 10\n",
    "for i in range(epochs):\n",
    "    print(f'Epoch {i+1} \\n-----------------------')\n",
    "    train_loop(train_dataloader, model, loss, optimizer)\n",
    "    test_loop(test_loader, model, loss)\n",
    "print('Done!')\n",
    "```"
   ]
  },
  {
   "attachments": {},
   "cell_type": "markdown",
   "metadata": {},
   "source": [
    "## Basic Neural Network\n",
    "\n",
    "- iris 데이터셋을 사용하여 꽃의 품종을 구분하는 분류기를 신경망을 사용하여 구현해봅니다."
   ]
  },
  {
   "attachments": {},
   "cell_type": "markdown",
   "metadata": {},
   "source": [
    "### [Step1] Load libraries & Datasets"
   ]
  },
  {
   "cell_type": "code",
   "execution_count": 36,
   "metadata": {},
   "outputs": [],
   "source": [
    "import numpy as np\n",
    "import pandas as pd\n",
    "import matplotlib.pyplot as plt\n",
    "import seaborn as sns\n",
    "from sklearn.datasets import load_iris\n",
    "from sklearn.model_selection import train_test_split\n",
    "import torch\n",
    "import torch.nn as nn\n",
    "from torch.utils.data import TensorDataset, DataLoader"
   ]
  },
  {
   "cell_type": "code",
   "execution_count": 37,
   "metadata": {},
   "outputs": [],
   "source": [
    "# load datasets\n",
    "iris = load_iris()\n",
    "df = pd.DataFrame(data=iris.data, columns=iris.feature_names)\n",
    "df['label'] = iris.target\n",
    "\n",
    "# split datasets\n",
    "y = df['label']\n",
    "X = df.drop(['label'], axis=1)\n",
    "\n",
    "X_train, X_test, y_train, y_test = train_test_split(X.values, y.values, random_state=42, stratify=y)"
   ]
  },
  {
   "attachments": {},
   "cell_type": "markdown",
   "metadata": {},
   "source": [
    "### [Step2] Create DataLoader"
   ]
  },
  {
   "cell_type": "code",
   "execution_count": 38,
   "metadata": {},
   "outputs": [],
   "source": [
    "X_train = torch.tensor(X_train, dtype=torch.float32)\n",
    "X_test = torch.tensor(X_test, dtype=torch.float32)\n",
    "y_train = torch.tensor(y_train, dtype=torch.int64)\n",
    "y_test = torch.tensor(y_test, dtype=torch.int64)\n",
    "\n",
    "train_dataset = TensorDataset(X_train, y_train)\n",
    "test_dataset = TensorDataset(X_test, y_test)\n",
    "\n",
    "train_dataloader = DataLoader(train_dataset, batch_size=10, shuffle=True)\n",
    "test_dataloader = DataLoader(test_dataset, batch_size=10, shuffle=True)"
   ]
  },
  {
   "attachments": {},
   "cell_type": "markdown",
   "metadata": {},
   "source": [
    "### [Step3] Set Network Structure"
   ]
  },
  {
   "cell_type": "code",
   "execution_count": 39,
   "metadata": {},
   "outputs": [],
   "source": [
    "class NeuralNetwork(nn.Module):\n",
    "    def __init__(self):\n",
    "        super(NeuralNetwork, self).__init__()\n",
    "        self.input_layer = nn.Linear(4, 16)\n",
    "        self.hidden_layer1 = nn.Linear(16, 32)\n",
    "        self.output_layer = nn.Linear(32, 3)\n",
    "        self.relu = nn.ReLU()\n",
    "    \n",
    "    def forward(self, x):\n",
    "        out = self.relu(self.input_layer(x))\n",
    "        out = self.relu(self.hidden_layer1(out))\n",
    "        out = self.output_layer(out)\n",
    "        return out"
   ]
  },
  {
   "attachments": {},
   "cell_type": "markdown",
   "metadata": {},
   "source": [
    "### [Step4] Create Model instance"
   ]
  },
  {
   "cell_type": "code",
   "execution_count": 40,
   "metadata": {},
   "outputs": [
    {
     "name": "stdout",
     "output_type": "stream",
     "text": [
      "device = cpu\n"
     ]
    }
   ],
   "source": [
    "device = 'cuda' if torch.cuda.is_available() else 'cpu'\n",
    "print(f'device = {device}')\n",
    "\n",
    "model = NeuralNetwork().to(device)"
   ]
  },
  {
   "attachments": {},
   "cell_type": "markdown",
   "metadata": {},
   "source": [
    "### [Step5] Model compile"
   ]
  },
  {
   "cell_type": "code",
   "execution_count": 41,
   "metadata": {},
   "outputs": [],
   "source": [
    "# model compile\n",
    "learning_rate = 0.001\n",
    "loss = nn.CrossEntropyLoss()\n",
    "optimizer = torch.optim.Adam(model.parameters(), lr=learning_rate)"
   ]
  },
  {
   "attachments": {},
   "cell_type": "markdown",
   "metadata": {},
   "source": [
    "### [Step6] Set train loop"
   ]
  },
  {
   "cell_type": "code",
   "execution_count": 42,
   "metadata": {},
   "outputs": [],
   "source": [
    "def train_loop(train_loader, model, loss_fn, optimizer):\n",
    "    size = len(train_loader.dataset)\n",
    "\n",
    "    for batch, (X, y) in enumerate(train_loader):\n",
    "        X, y = X.to(device), y.to(device)\n",
    "\n",
    "        # Compute prediction error\n",
    "        pred = model(X)\n",
    "        loss = loss_fn(pred, y)\n",
    "\n",
    "        # Backpropagation\n",
    "        optimizer.zero_grad()   # reset gradient\n",
    "        loss.backward()\n",
    "        optimizer.step()\n",
    "\n",
    "        loss, current = loss.item(), batch * len(X)\n",
    "        print(f'loss: {loss:>7f} [{current:>5d}/{size:5d}]')"
   ]
  },
  {
   "attachments": {},
   "cell_type": "markdown",
   "metadata": {},
   "source": [
    "### [Step7] Set test loop"
   ]
  },
  {
   "cell_type": "code",
   "execution_count": 43,
   "metadata": {},
   "outputs": [],
   "source": [
    "def test_loop(test_loader, model, loss_fn):\n",
    "    size = len(test_loader.dataset)\n",
    "    num_batches = len(test_loader)\n",
    "    test_loss, correct = 0, 0\n",
    "\n",
    "    with torch.no_grad():   # no gradient calculation\n",
    "        for X, y in test_loader:\n",
    "            X, y = X.to(device), y.to(device)\n",
    "            pred = model(X)\n",
    "            test_loss += loss_fn(pred, y).item()\n",
    "            correct += (pred.argmax(1) == y).type(torch.float).sum().item()\n",
    "    \n",
    "    test_loss /= num_batches\n",
    "    correct /= size\n",
    "    print(f'Test Error: \\n Accuracy: {(100*correct):>0.1f}%, Avg loss: {test_loss:8f} \\n')"
   ]
  },
  {
   "attachments": {},
   "cell_type": "markdown",
   "metadata": {},
   "source": [
    "### [Step8] Run model"
   ]
  },
  {
   "cell_type": "code",
   "execution_count": 44,
   "metadata": {},
   "outputs": [
    {
     "name": "stdout",
     "output_type": "stream",
     "text": [
      "Epoch 1\n",
      "-------------------------------\n",
      "loss: 1.037038 [    0/  112]\n",
      "loss: 1.228000 [   10/  112]\n",
      "loss: 1.039333 [   20/  112]\n",
      "loss: 1.034627 [   30/  112]\n",
      "loss: 1.067293 [   40/  112]\n",
      "loss: 1.159106 [   50/  112]\n",
      "loss: 0.960864 [   60/  112]\n",
      "loss: 0.980099 [   70/  112]\n",
      "loss: 1.079310 [   80/  112]\n",
      "loss: 0.991173 [   90/  112]\n",
      "loss: 0.925905 [  100/  112]\n",
      "loss: 0.982560 [   22/  112]\n",
      "Test Error: \n",
      " Accuracy: 34.2%, Avg loss: 1.013369 \n",
      "\n",
      "Epoch 2\n",
      "-------------------------------\n",
      "loss: 1.009550 [    0/  112]\n",
      "loss: 0.995596 [   10/  112]\n",
      "loss: 1.116628 [   20/  112]\n",
      "loss: 0.905715 [   30/  112]\n",
      "loss: 1.035583 [   40/  112]\n",
      "loss: 1.003030 [   50/  112]\n",
      "loss: 0.912302 [   60/  112]\n",
      "loss: 1.087644 [   70/  112]\n",
      "loss: 0.958364 [   80/  112]\n",
      "loss: 0.996810 [   90/  112]\n",
      "loss: 0.948020 [  100/  112]\n",
      "loss: 1.080154 [   22/  112]\n",
      "Test Error: \n",
      " Accuracy: 39.5%, Avg loss: 0.976813 \n",
      "\n",
      "Epoch 3\n",
      "-------------------------------\n",
      "loss: 0.909608 [    0/  112]\n",
      "loss: 0.940034 [   10/  112]\n",
      "loss: 0.979013 [   20/  112]\n",
      "loss: 0.962834 [   30/  112]\n",
      "loss: 0.927296 [   40/  112]\n",
      "loss: 1.039933 [   50/  112]\n",
      "loss: 0.955017 [   60/  112]\n",
      "loss: 0.953248 [   70/  112]\n",
      "loss: 0.899842 [   80/  112]\n",
      "loss: 0.935504 [   90/  112]\n",
      "loss: 0.956538 [  100/  112]\n",
      "loss: 1.048715 [   22/  112]\n",
      "Test Error: \n",
      " Accuracy: 57.9%, Avg loss: 0.927332 \n",
      "\n",
      "Epoch 4\n",
      "-------------------------------\n",
      "loss: 0.946236 [    0/  112]\n",
      "loss: 0.958603 [   10/  112]\n",
      "loss: 0.875378 [   20/  112]\n",
      "loss: 0.900713 [   30/  112]\n",
      "loss: 0.956146 [   40/  112]\n",
      "loss: 0.883053 [   50/  112]\n",
      "loss: 0.804871 [   60/  112]\n",
      "loss: 0.934406 [   70/  112]\n",
      "loss: 0.893294 [   80/  112]\n",
      "loss: 0.837901 [   90/  112]\n",
      "loss: 0.960411 [  100/  112]\n",
      "loss: 0.914565 [   22/  112]\n",
      "Test Error: \n",
      " Accuracy: 65.8%, Avg loss: 0.879170 \n",
      "\n",
      "Epoch 5\n",
      "-------------------------------\n",
      "loss: 0.883924 [    0/  112]\n",
      "loss: 0.865285 [   10/  112]\n",
      "loss: 0.827133 [   20/  112]\n",
      "loss: 0.889467 [   30/  112]\n",
      "loss: 0.854688 [   40/  112]\n",
      "loss: 0.760220 [   50/  112]\n",
      "loss: 0.892259 [   60/  112]\n",
      "loss: 0.889521 [   70/  112]\n",
      "loss: 0.786245 [   80/  112]\n",
      "loss: 0.875431 [   90/  112]\n",
      "loss: 0.789384 [  100/  112]\n",
      "loss: 0.988992 [   22/  112]\n",
      "Test Error: \n",
      " Accuracy: 65.8%, Avg loss: 0.824993 \n",
      "\n",
      "Epoch 6\n",
      "-------------------------------\n",
      "loss: 0.832323 [    0/  112]\n",
      "loss: 0.785806 [   10/  112]\n",
      "loss: 0.799646 [   20/  112]\n",
      "loss: 0.719576 [   30/  112]\n",
      "loss: 0.801555 [   40/  112]\n",
      "loss: 0.843814 [   50/  112]\n",
      "loss: 0.795486 [   60/  112]\n",
      "loss: 0.809067 [   70/  112]\n",
      "loss: 0.826202 [   80/  112]\n",
      "loss: 0.804920 [   90/  112]\n",
      "loss: 0.731027 [  100/  112]\n",
      "loss: 0.644315 [   22/  112]\n",
      "Test Error: \n",
      " Accuracy: 65.8%, Avg loss: 0.771135 \n",
      "\n",
      "Epoch 7\n",
      "-------------------------------\n",
      "loss: 0.759854 [    0/  112]\n",
      "loss: 0.729635 [   10/  112]\n",
      "loss: 0.763127 [   20/  112]\n",
      "loss: 0.747977 [   30/  112]\n",
      "loss: 0.765382 [   40/  112]\n",
      "loss: 0.736888 [   50/  112]\n",
      "loss: 0.736777 [   60/  112]\n",
      "loss: 0.718162 [   70/  112]\n",
      "loss: 0.687486 [   80/  112]\n",
      "loss: 0.764255 [   90/  112]\n",
      "loss: 0.741037 [  100/  112]\n",
      "loss: 0.593355 [   22/  112]\n",
      "Test Error: \n",
      " Accuracy: 65.8%, Avg loss: 0.716347 \n",
      "\n",
      "Epoch 8\n",
      "-------------------------------\n",
      "loss: 0.727702 [    0/  112]\n",
      "loss: 0.685533 [   10/  112]\n",
      "loss: 0.657526 [   20/  112]\n",
      "loss: 0.685117 [   30/  112]\n",
      "loss: 0.722967 [   40/  112]\n",
      "loss: 0.684352 [   50/  112]\n",
      "loss: 0.779970 [   60/  112]\n",
      "loss: 0.688935 [   70/  112]\n",
      "loss: 0.596491 [   80/  112]\n",
      "loss: 0.649073 [   90/  112]\n",
      "loss: 0.682073 [  100/  112]\n",
      "loss: 0.555255 [   22/  112]\n",
      "Test Error: \n",
      " Accuracy: 65.8%, Avg loss: 0.668613 \n",
      "\n",
      "Epoch 9\n",
      "-------------------------------\n",
      "loss: 0.713194 [    0/  112]\n",
      "loss: 0.566689 [   10/  112]\n",
      "loss: 0.557112 [   20/  112]\n",
      "loss: 0.662339 [   30/  112]\n",
      "loss: 0.715243 [   40/  112]\n",
      "loss: 0.590508 [   50/  112]\n",
      "loss: 0.606626 [   60/  112]\n",
      "loss: 0.681085 [   70/  112]\n",
      "loss: 0.624480 [   80/  112]\n",
      "loss: 0.647204 [   90/  112]\n",
      "loss: 0.621764 [  100/  112]\n",
      "loss: 0.508196 [   22/  112]\n",
      "Test Error: \n",
      " Accuracy: 65.8%, Avg loss: 0.618727 \n",
      "\n",
      "Epoch 10\n",
      "-------------------------------\n",
      "loss: 0.618977 [    0/  112]\n",
      "loss: 0.530410 [   10/  112]\n",
      "loss: 0.637218 [   20/  112]\n",
      "loss: 0.495106 [   30/  112]\n",
      "loss: 0.589253 [   40/  112]\n",
      "loss: 0.561254 [   50/  112]\n",
      "loss: 0.570686 [   60/  112]\n",
      "loss: 0.692714 [   70/  112]\n",
      "loss: 0.633291 [   80/  112]\n",
      "loss: 0.649968 [   90/  112]\n",
      "loss: 0.588443 [  100/  112]\n",
      "loss: 0.269673 [   22/  112]\n",
      "Test Error: \n",
      " Accuracy: 65.8%, Avg loss: 0.580327 \n",
      "\n",
      "Done!\n"
     ]
    }
   ],
   "source": [
    "# run model\n",
    "epochs = 10\n",
    "\n",
    "for i in range(epochs):\n",
    "    print(f'Epoch {i+1}\\n-------------------------------')\n",
    "    train_loop(train_dataloader, model, loss, optimizer)\n",
    "    test_loop(test_dataloader, model, loss)\n",
    "\n",
    "print('Done!')"
   ]
  }
 ],
 "metadata": {
  "kernelspec": {
   "display_name": "pytorch",
   "language": "python",
   "name": "python3"
  },
  "language_info": {
   "codemirror_mode": {
    "name": "ipython",
    "version": 3
   },
   "file_extension": ".py",
   "mimetype": "text/x-python",
   "name": "python",
   "nbconvert_exporter": "python",
   "pygments_lexer": "ipython3",
   "version": "3.11.3"
  },
  "orig_nbformat": 4
 },
 "nbformat": 4,
 "nbformat_minor": 2
}
