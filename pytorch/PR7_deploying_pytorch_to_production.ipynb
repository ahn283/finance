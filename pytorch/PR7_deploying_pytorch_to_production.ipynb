{
 "cells": [
  {
   "cell_type": "markdown",
   "metadata": {},
   "source": [
    "# PyTorch deployment tools and libraries"
   ]
  },
  {
   "cell_type": "markdown",
   "metadata": {},
   "source": [
    "## Common Example Model"
   ]
  },
  {
   "cell_type": "code",
   "execution_count": 1,
   "metadata": {},
   "outputs": [
    {
     "name": "stderr",
     "output_type": "stream",
     "text": [
      "/Users/woojin/anaconda3/envs/pytorch/lib/python3.9/site-packages/torchvision/models/_utils.py:208: UserWarning: The parameter 'pretrained' is deprecated since 0.13 and may be removed in the future, please use 'weights' instead.\n",
      "  warnings.warn(\n",
      "/Users/woojin/anaconda3/envs/pytorch/lib/python3.9/site-packages/torchvision/models/_utils.py:223: UserWarning: Arguments other than a weight enum or `None` for 'weights' are deprecated since 0.13 and may be removed in the future. The current behavior is equivalent to passing `weights=VGG16_Weights.IMAGENET1K_V1`. You can also use `weights=VGG16_Weights.DEFAULT` to get the most up-to-date weights.\n",
      "  warnings.warn(msg)\n"
     ]
    }
   ],
   "source": [
    "# The following code intantiates the model for use\n",
    "\n",
    "from torchvision.models import vgg16\n",
    "\n",
    "model = vgg16(pretrained=True)"
   ]
  },
  {
   "cell_type": "code",
   "execution_count": 2,
   "metadata": {},
   "outputs": [
    {
     "name": "stdout",
     "output_type": "stream",
     "text": [
      "138357544\n"
     ]
    }
   ],
   "source": [
    "# let's print out the number of trainable parameters.\n",
    "import numpy as np\n",
    "\n",
    "model_parameters = filter(lambda p: p.requires_grad, model.parameters())\n",
    "\n",
    "params = sum([np.prod(p.size()) for p in model_parameters])\n",
    "\n",
    "print(params)"
   ]
  },
  {
   "cell_type": "markdown",
   "metadata": {},
   "source": [
    "## Python API"
   ]
  },
  {
   "cell_type": "code",
   "execution_count": null,
   "metadata": {},
   "outputs": [],
   "source": [
    "import system \n",
    "import torch\n",
    "\n",
    "if __name__ == \"__main__\":\n",
    "    model = MyModel()\n",
    "    model.load_state_dict(torch.load(PATH))\n",
    "    model.eval()\n",
    "    outputs = model(inputs)\n",
    "    print(outputs)"
   ]
  },
  {
   "cell_type": "markdown",
   "metadata": {},
   "source": [
    "## TorchScript"
   ]
  },
  {
   "cell_type": "code",
   "execution_count": 3,
   "metadata": {},
   "outputs": [
    {
     "name": "stderr",
     "output_type": "stream",
     "text": [
      "/Users/woojin/anaconda3/envs/pytorch/lib/python3.9/site-packages/torchvision/models/_utils.py:208: UserWarning: The parameter 'pretrained' is deprecated since 0.13 and may be removed in the future, please use 'weights' instead.\n",
      "  warnings.warn(\n",
      "/Users/woojin/anaconda3/envs/pytorch/lib/python3.9/site-packages/torchvision/models/_utils.py:223: UserWarning: Arguments other than a weight enum or `None` for 'weights' are deprecated since 0.13 and may be removed in the future. The current behavior is equivalent to passing `weights=VGG16_Weights.IMAGENET1K_V1`. You can also use `weights=VGG16_Weights.DEFAULT` to get the most up-to-date weights.\n",
      "  warnings.warn(msg)\n",
      "/Users/woojin/anaconda3/envs/pytorch/lib/python3.9/site-packages/torch/jit/_trace.py:1084: TracerWarning: Output nr 1. of the traced function does not match the corresponding output of the Python function. Detailed error:\n",
      "Tensor-likes are not close!\n",
      "\n",
      "Mismatched elements: 1000 / 1000 (100.0%)\n",
      "Greatest absolute difference: 2.8599648475646973 at index (0, 929) (up to 1e-05 allowed)\n",
      "Greatest relative difference: 728.6784894597774 at index (0, 930) (up to 1e-05 allowed)\n",
      "  _check_trace(\n"
     ]
    }
   ],
   "source": [
    "# we can use tracing to convert your model to TorchScript\n",
    "\n",
    "import torch\n",
    "\n",
    "model = vgg16(pretrained=True)\n",
    "example_input = torch.rand(1, 3, 224, 224)\n",
    "torchscript_model = torch.jit.trace(model, example_input)\n",
    "torchscript_model.save('./models/traced_vgg16_model.pt')"
   ]
  },
  {
   "cell_type": "code",
   "execution_count": 5,
   "metadata": {},
   "outputs": [
    {
     "ename": "RuntimeError",
     "evalue": "\n\noutout is not defined in the false branch:\n  File \"/var/folders/zr/_c9pchvx7m9274g3530s1jcw0000gn/T/ipykernel_84714/4052292003.py\", line 11\n    def forward(self, input):\n        if input.sum() > 0:\n        ~~~~~~~~~~~~~~~~~~~\n            outout = input\n            ~~~~~~~~~~~~~~\n        else:\n        ~~~~~\n            output = -input\n            ~~~~~~~~~~~~~~~ <--- HERE\n        \n        return outout\nand was used here:\n  File \"/var/folders/zr/_c9pchvx7m9274g3530s1jcw0000gn/T/ipykernel_84714/4052292003.py\", line 16\n            output = -input\n        \n        return outout\n               ~~~~~~ <--- HERE\n",
     "output_type": "error",
     "traceback": [
      "\u001b[0;31m---------------------------------------------------------------------------\u001b[0m",
      "\u001b[0;31mRuntimeError\u001b[0m                              Traceback (most recent call last)",
      "\u001b[1;32m/Users/woojin/Documents/github/finance/pytorch/PR7_deploying_pytorch_to_production.ipynb Cell 9\u001b[0m line \u001b[0;36m1\n\u001b[1;32m     <a href='vscode-notebook-cell:/Users/woojin/Documents/github/finance/pytorch/PR7_deploying_pytorch_to_production.ipynb#X11sZmlsZQ%3D%3D?line=15'>16</a>\u001b[0m         \u001b[39mreturn\u001b[39;00m outout\n\u001b[1;32m     <a href='vscode-notebook-cell:/Users/woojin/Documents/github/finance/pytorch/PR7_deploying_pytorch_to_production.ipynb#X11sZmlsZQ%3D%3D?line=17'>18</a>\u001b[0m model \u001b[39m=\u001b[39m ControlFlowModel(\u001b[39m10\u001b[39m)\n\u001b[0;32m---> <a href='vscode-notebook-cell:/Users/woojin/Documents/github/finance/pytorch/PR7_deploying_pytorch_to_production.ipynb#X11sZmlsZQ%3D%3D?line=18'>19</a>\u001b[0m torchscript_model \u001b[39m=\u001b[39m torch\u001b[39m.\u001b[39;49mjit\u001b[39m.\u001b[39;49mscript(model)\n\u001b[1;32m     <a href='vscode-notebook-cell:/Users/woojin/Documents/github/finance/pytorch/PR7_deploying_pytorch_to_production.ipynb#X11sZmlsZQ%3D%3D?line=19'>20</a>\u001b[0m torchscript_model\u001b[39m.\u001b[39msave(\u001b[39m'\u001b[39m\u001b[39m./models/scripted_vgg16_model.pt\u001b[39m\u001b[39m'\u001b[39m)\n",
      "File \u001b[0;32m~/anaconda3/envs/pytorch/lib/python3.9/site-packages/torch/jit/_script.py:1284\u001b[0m, in \u001b[0;36mscript\u001b[0;34m(obj, optimize, _frames_up, _rcb, example_inputs)\u001b[0m\n\u001b[1;32m   1282\u001b[0m \u001b[39mif\u001b[39;00m \u001b[39misinstance\u001b[39m(obj, torch\u001b[39m.\u001b[39mnn\u001b[39m.\u001b[39mModule):\n\u001b[1;32m   1283\u001b[0m     obj \u001b[39m=\u001b[39m call_prepare_scriptable_func(obj)\n\u001b[0;32m-> 1284\u001b[0m     \u001b[39mreturn\u001b[39;00m torch\u001b[39m.\u001b[39;49mjit\u001b[39m.\u001b[39;49m_recursive\u001b[39m.\u001b[39;49mcreate_script_module(\n\u001b[1;32m   1285\u001b[0m         obj, torch\u001b[39m.\u001b[39;49mjit\u001b[39m.\u001b[39;49m_recursive\u001b[39m.\u001b[39;49minfer_methods_to_compile\n\u001b[1;32m   1286\u001b[0m     )\n\u001b[1;32m   1288\u001b[0m \u001b[39mif\u001b[39;00m \u001b[39misinstance\u001b[39m(obj, \u001b[39mdict\u001b[39m):\n\u001b[1;32m   1289\u001b[0m     \u001b[39mreturn\u001b[39;00m create_script_dict(obj)\n",
      "File \u001b[0;32m~/anaconda3/envs/pytorch/lib/python3.9/site-packages/torch/jit/_recursive.py:480\u001b[0m, in \u001b[0;36mcreate_script_module\u001b[0;34m(nn_module, stubs_fn, share_types, is_tracing)\u001b[0m\n\u001b[1;32m    478\u001b[0m \u001b[39mif\u001b[39;00m \u001b[39mnot\u001b[39;00m is_tracing:\n\u001b[1;32m    479\u001b[0m     AttributeTypeIsSupportedChecker()\u001b[39m.\u001b[39mcheck(nn_module)\n\u001b[0;32m--> 480\u001b[0m \u001b[39mreturn\u001b[39;00m create_script_module_impl(nn_module, concrete_type, stubs_fn)\n",
      "File \u001b[0;32m~/anaconda3/envs/pytorch/lib/python3.9/site-packages/torch/jit/_recursive.py:546\u001b[0m, in \u001b[0;36mcreate_script_module_impl\u001b[0;34m(nn_module, concrete_type, stubs_fn)\u001b[0m\n\u001b[1;32m    544\u001b[0m \u001b[39m# Compile methods if necessary\u001b[39;00m\n\u001b[1;32m    545\u001b[0m \u001b[39mif\u001b[39;00m concrete_type \u001b[39mnot\u001b[39;00m \u001b[39min\u001b[39;00m concrete_type_store\u001b[39m.\u001b[39mmethods_compiled:\n\u001b[0;32m--> 546\u001b[0m     create_methods_and_properties_from_stubs(concrete_type, method_stubs, property_stubs)\n\u001b[1;32m    547\u001b[0m     \u001b[39m# Create hooks after methods to ensure no name collisions between hooks and methods.\u001b[39;00m\n\u001b[1;32m    548\u001b[0m     \u001b[39m# If done before, hooks can overshadow methods that aren't exported.\u001b[39;00m\n\u001b[1;32m    549\u001b[0m     create_hooks_from_stubs(concrete_type, hook_stubs, pre_hook_stubs)\n",
      "File \u001b[0;32m~/anaconda3/envs/pytorch/lib/python3.9/site-packages/torch/jit/_recursive.py:397\u001b[0m, in \u001b[0;36mcreate_methods_and_properties_from_stubs\u001b[0;34m(concrete_type, method_stubs, property_stubs)\u001b[0m\n\u001b[1;32m    394\u001b[0m property_defs \u001b[39m=\u001b[39m [p\u001b[39m.\u001b[39mdef_ \u001b[39mfor\u001b[39;00m p \u001b[39min\u001b[39;00m property_stubs]\n\u001b[1;32m    395\u001b[0m property_rcbs \u001b[39m=\u001b[39m [p\u001b[39m.\u001b[39mresolution_callback \u001b[39mfor\u001b[39;00m p \u001b[39min\u001b[39;00m property_stubs]\n\u001b[0;32m--> 397\u001b[0m concrete_type\u001b[39m.\u001b[39;49m_create_methods_and_properties(property_defs, property_rcbs, method_defs, method_rcbs, method_defaults)\n",
      "\u001b[0;31mRuntimeError\u001b[0m: \n\noutout is not defined in the false branch:\n  File \"/var/folders/zr/_c9pchvx7m9274g3530s1jcw0000gn/T/ipykernel_84714/4052292003.py\", line 11\n    def forward(self, input):\n        if input.sum() > 0:\n        ~~~~~~~~~~~~~~~~~~~\n            outout = input\n            ~~~~~~~~~~~~~~\n        else:\n        ~~~~~\n            output = -input\n            ~~~~~~~~~~~~~~~ <--- HERE\n        \n        return outout\nand was used here:\n  File \"/var/folders/zr/_c9pchvx7m9274g3530s1jcw0000gn/T/ipykernel_84714/4052292003.py\", line 16\n            output = -input\n        \n        return outout\n               ~~~~~~ <--- HERE\n"
     ]
    }
   ],
   "source": [
    "# if our model used control flow, we would need to use the annotation method to convert it to TorchScript.\n",
    "\n",
    "import torch.nn as nn \n",
    "\n",
    "class ControlFlowModel(nn.Module):\n",
    "    def __init__(self, N):\n",
    "        super(ControlFlowModel, self).__init__()\n",
    "        self.fc = nn.Linear(N, 100)\n",
    "        \n",
    "    def forward(self, input):\n",
    "        if input.sum() > 0:\n",
    "            outout = input\n",
    "        else:\n",
    "            output = -input\n",
    "        \n",
    "        return outout\n",
    "\n",
    "model = ControlFlowModel(10)\n",
    "torchscript_model = torch.jit.script(model)\n",
    "torchscript_model.save('./models/scripted_vgg16_model.pt')"
   ]
  },
  {
   "cell_type": "markdown",
   "metadata": {},
   "source": [
    "# Deploying to a Flask App"
   ]
  },
  {
   "cell_type": "code",
   "execution_count": null,
   "metadata": {},
   "outputs": [],
   "source": []
  }
 ],
 "metadata": {
  "kernelspec": {
   "display_name": "pytorch",
   "language": "python",
   "name": "python3"
  },
  "language_info": {
   "codemirror_mode": {
    "name": "ipython",
    "version": 3
   },
   "file_extension": ".py",
   "mimetype": "text/x-python",
   "name": "python",
   "nbconvert_exporter": "python",
   "pygments_lexer": "ipython3",
   "version": "3.9.18"
  },
  "orig_nbformat": 4
 },
 "nbformat": 4,
 "nbformat_minor": 2
}
