{
 "cells": [
  {
   "attachments": {},
   "cell_type": "markdown",
   "metadata": {},
   "source": [
    "# Derivatives Valuation"
   ]
  },
  {
   "attachments": {},
   "cell_type": "markdown",
   "metadata": {},
   "source": [
    "## Generic Valuation Class\n",
    "\n",
    "As with the generic simulation class, one instantiates an object of the valuation class by providing only a few inputs:\n",
    "\n",
    "- `name` : A `str` object, as a name for the model simulation object\n",
    "\n",
    "- `underlying` : An instance of a simulation class representing the underlying\n",
    "\n",
    "- `mar_env` : An instance of the `dx.market_environment` class\n",
    "\n",
    "- `payoff_func` : A Pythond `str` object contatining the payoff function for the option/derivative\n",
    "\n",
    "The generic class has three mothods:\n",
    "\n",
    "- `update()` : Updates selected valuation parameters (attributes)\n",
    "\n",
    "- `delta()` : Calculatates a numerical value for the delta of an option/derivative\n",
    "\n",
    "- `vega()` : Calculates the vega of an option/derivative"
   ]
  },
  {
   "cell_type": "code",
   "execution_count": null,
   "metadata": {},
   "outputs": [],
   "source": [
    "# Derivatives Valuation"
   ]
  }
 ],
 "metadata": {
  "kernelspec": {
   "display_name": "tf",
   "language": "python",
   "name": "python3"
  },
  "language_info": {
   "name": "python",
   "version": "3.10.6"
  },
  "orig_nbformat": 4
 },
 "nbformat": 4,
 "nbformat_minor": 2
}
