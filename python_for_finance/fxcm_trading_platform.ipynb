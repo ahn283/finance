{
 "cells": [
  {
   "attachments": {},
   "cell_type": "markdown",
   "metadata": {},
   "source": [
    "# The FXCM Trading Platform\n",
    "\n",
    "\n",
    "\n"
   ]
  },
  {
   "attachments": {},
   "cell_type": "markdown",
   "metadata": {},
   "source": [
    "The trading platform from FXCM group provides its Restful and streaming appliction programming interface (API), as well as the Python wrapper package `fxcmpy`. The focus of the products lies on currency pairs as well as contracts for difference (CFDs) on major stock indices and commodities, etc. "
   ]
  },
  {
   "attachments": {},
   "cell_type": "markdown",
   "metadata": {},
   "source": [
    "## Getting Started\n",
    "\n",
    "Detailed documentation of the FXCM API is found at https://fxcm.github.io/rest-api-docs.\n",
    "\n",
    "`pip3 install fxcmpy`\n",
    "\n",
    "The documentation for the `fxcmpy` package is found at http://fxcmpy.tpq.io."
   ]
  },
  {
   "cell_type": "code",
   "execution_count": 1,
   "metadata": {},
   "outputs": [],
   "source": [
    "import fxcmpy\n",
    "\n",
    "# A connection to the API is then opened.\n",
    "# api = fxcmpy.fxcmpy(access_token='3ec4043ad0c4fb075b75b0d2e3cbdac5e4959451', log_level='error')"
   ]
  },
  {
   "cell_type": "code",
   "execution_count": 2,
   "metadata": {},
   "outputs": [],
   "source": [
    "# Alternatively, a configuration (fxcm.cfg) can be used to connect to the API\n",
    "api = fxcmpy.fxcmpy(config_file='./fxcm.cfg')\n",
    "\n",
    "# default : demo \n",
    "# api = fxcmpy.fxcmpy(config_file='./fxcm.cfg', server='real')\n",
    "# api =fxcmpy.fxcmpy(config_file='./fxcm.cfg', server='demo')"
   ]
  },
  {
   "attachments": {},
   "cell_type": "markdown",
   "metadata": {},
   "source": [
    "## Retrieving Data"
   ]
  },
  {
   "attachments": {},
   "cell_type": "markdown",
   "metadata": {},
   "source": [
    "### Retrieving Tick Data"
   ]
  },
  {
   "cell_type": "code",
   "execution_count": 3,
   "metadata": {},
   "outputs": [],
   "source": [
    "import time\n",
    "import numpy as np\n",
    "import pandas as pd\n",
    "import datetime as dt\n",
    "import seaborn as sns \n",
    "from pylab import mpl, plt"
   ]
  },
  {
   "cell_type": "code",
   "execution_count": 4,
   "metadata": {},
   "outputs": [],
   "source": [
    "sns.set()\n",
    "mpl.rcParams['font.family'] = 'serif'\n",
    "%config InlineBacked.figure_format = 'svg'"
   ]
  },
  {
   "cell_type": "code",
   "execution_count": 5,
   "metadata": {},
   "outputs": [],
   "source": [
    "from fxcmpy import fxcmpy_tick_data_reader as tdr"
   ]
  },
  {
   "cell_type": "code",
   "execution_count": 6,
   "metadata": {},
   "outputs": [
    {
     "name": "stdout",
     "output_type": "stream",
     "text": [
      "('AUDCAD', 'AUDCHF', 'AUDJPY', 'AUDNZD', 'CADCHF', 'EURAUD', 'EURCHF', 'EURGBP', 'EURJPY', 'EURUSD', 'GBPCHF', 'GBPJPY', 'GBPNZD', 'GBPUSD', 'GBPCHF', 'GBPJPY', 'GBPNZD', 'NZDCAD', 'NZDCHF', 'NZDJPY', 'NZDUSD', 'USDCAD', 'USDCHF', 'USDJPY')\n"
     ]
    }
   ],
   "source": [
    "print(tdr.get_available_symbols())"
   ]
  },
  {
   "cell_type": "code",
   "execution_count": 7,
   "metadata": {},
   "outputs": [],
   "source": [
    "# this retrieves the data fiel, unpacks it, and stores the raw data in a DataFrame object.\n",
    "start = dt.datetime(2018, 6, 25)\n",
    "stop = dt.datetime(2018, 6, 30)"
   ]
  },
  {
   "cell_type": "code",
   "execution_count": 9,
   "metadata": {},
   "outputs": [],
   "source": [
    "# td = tdr('EURUSD', start, stop)"
   ]
  },
  {
   "cell_type": "code",
   "execution_count": null,
   "metadata": {},
   "outputs": [],
   "source": []
  }
 ],
 "metadata": {
  "kernelspec": {
   "display_name": "finance",
   "language": "python",
   "name": "python3"
  },
  "language_info": {
   "codemirror_mode": {
    "name": "ipython",
    "version": 3
   },
   "file_extension": ".py",
   "mimetype": "text/x-python",
   "name": "python",
   "nbconvert_exporter": "python",
   "pygments_lexer": "ipython3",
   "version": "3.10.9"
  },
  "orig_nbformat": 4,
  "vscode": {
   "interpreter": {
    "hash": "c1c79ae5e603ea8fd64d7fa7103ba6d6dacba3e7755f62b35150c6ed2ddb0827"
   }
  }
 },
 "nbformat": 4,
 "nbformat_minor": 2
}
