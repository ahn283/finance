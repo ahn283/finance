{
 "cells": [
  {
   "attachments": {},
   "cell_type": "markdown",
   "metadata": {},
   "source": [
    "# The FXCM Trading Platform\n",
    "\n",
    "\n",
    "\n"
   ]
  },
  {
   "attachments": {},
   "cell_type": "markdown",
   "metadata": {},
   "source": [
    "The trading platform from FXCM group provides its Restful and streaming appliction programming interface (API), as well as the Python wrapper package `fxcmpy`. The focus of the products lies on currency pairs as well as contracts for difference (CFDs) on major stock indices and commodities, etc. "
   ]
  },
  {
   "attachments": {},
   "cell_type": "markdown",
   "metadata": {},
   "source": [
    "## Getting Started\n",
    "\n",
    "Detailed documentation of the FXCM API is found at https://fxcm.github.io/rest-api-docs.\n",
    "\n",
    "`pip3 install fxcmpy`\n",
    "\n",
    "The documentation for the `fxcmpy` package is found at http://fxcmpy.tpq.io."
   ]
  },
  {
   "cell_type": "code",
   "execution_count": null,
   "metadata": {},
   "outputs": [],
   "source": [
    "# "
   ]
  }
 ],
 "metadata": {
  "kernelspec": {
   "display_name": "Python 3",
   "language": "python",
   "name": "python3"
  },
  "language_info": {
   "name": "python",
   "version": "3.10.6"
  },
  "orig_nbformat": 4,
  "vscode": {
   "interpreter": {
    "hash": "55e72e60fe9b0ef549d68eb71417cfa6fac5c4d5d8ae9f64b775066e6b6fedeb"
   }
  }
 },
 "nbformat": 4,
 "nbformat_minor": 2
}
