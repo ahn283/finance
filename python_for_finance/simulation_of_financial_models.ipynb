{
 "cells": [
  {
   "attachments": {},
   "cell_type": "markdown",
   "metadata": {},
   "source": [
    "# Simulation of Financial Models"
   ]
  },
  {
   "attachments": {},
   "cell_type": "markdown",
   "metadata": {},
   "source": [
    "## Random Number Generation\n",
    "\n",
    "Random number generation is a central task of Monte Carlo simulation. Standard nornally distributed random numbers are the most important ones. That is why it pays off to have the convenient function `sn_random_number()`, defined here, available for generatinf this particular type of random numbers."
   ]
  },
  {
   "attachments": {},
   "cell_type": "markdown",
   "metadata": {},
   "source": [
    "The variance reduction techniques used in the function namely antithetic paths and moment mathing are illustrated in stocahstic.ipynb."
   ]
  },
  {
   "cell_type": "code",
   "execution_count": 1,
   "metadata": {},
   "outputs": [],
   "source": [
    "from dx.sn_random_number import * "
   ]
  },
  {
   "cell_type": "code",
   "execution_count": 2,
   "metadata": {},
   "outputs": [
    {
     "data": {
      "text/plain": [
       "array([[[-0.8044583 ,  0.32093155],\n",
       "        [-0.02548288,  0.64432383]],\n",
       "\n",
       "       [[-0.30079667,  0.38947455],\n",
       "        [-0.1074373 , -0.47998308]]])"
      ]
     },
     "execution_count": 2,
     "metadata": {},
     "output_type": "execute_result"
    }
   ],
   "source": [
    "snrn = sn_random_numbers((2, 2, 2), antithetic=False, moment_matching=False, fixed_seed=True)\n",
    "snrn"
   ]
  },
  {
   "cell_type": "code",
   "execution_count": 3,
   "metadata": {},
   "outputs": [
    {
     "data": {
      "text/plain": [
       "-0.045429"
      ]
     },
     "execution_count": 3,
     "metadata": {},
     "output_type": "execute_result"
    }
   ],
   "source": [
    "round(snrn.mean(), 6)"
   ]
  },
  {
   "cell_type": "code",
   "execution_count": 4,
   "metadata": {},
   "outputs": [
    {
     "data": {
      "text/plain": [
       "0.451876"
      ]
     },
     "execution_count": 4,
     "metadata": {},
     "output_type": "execute_result"
    }
   ],
   "source": [
    "round(snrn.std(), 6)"
   ]
  },
  {
   "cell_type": "code",
   "execution_count": 5,
   "metadata": {},
   "outputs": [],
   "source": [
    "snrn = sn_random_numbers((2, 2, 2), antithetic=False, moment_matching=True, fixed_seed=True)"
   ]
  },
  {
   "cell_type": "code",
   "execution_count": 6,
   "metadata": {},
   "outputs": [
    {
     "data": {
      "text/plain": [
       "array([[[-1.67972865,  0.81075283],\n",
       "        [ 0.04413963,  1.52641815]],\n",
       "\n",
       "       [[-0.56512826,  0.96243813],\n",
       "        [-0.13722505, -0.96166678]]])"
      ]
     },
     "execution_count": 6,
     "metadata": {},
     "output_type": "execute_result"
    }
   ],
   "source": [
    "snrn"
   ]
  },
  {
   "cell_type": "code",
   "execution_count": 8,
   "metadata": {},
   "outputs": [
    {
     "data": {
      "text/plain": [
       "-0.0"
      ]
     },
     "execution_count": 8,
     "metadata": {},
     "output_type": "execute_result"
    }
   ],
   "source": [
    "round(snrn.mean(), 6)"
   ]
  },
  {
   "cell_type": "code",
   "execution_count": 9,
   "metadata": {},
   "outputs": [
    {
     "data": {
      "text/plain": [
       "1.0"
      ]
     },
     "execution_count": 9,
     "metadata": {},
     "output_type": "execute_result"
    }
   ],
   "source": [
    "round(snrn.std(), 6)"
   ]
  },
  {
   "attachments": {},
   "cell_type": "markdown",
   "metadata": {},
   "source": [
    "## Generic Simulation Class\n",
    "\n",
    "One starts with a generic simulation class containing inheritance attributes and mothods that all other simulation classes share and can then focus with the other classes on specific elements of the stochastic process to be simulated.\n",
    "\n",
    "Instantiating an object of any simulation class happens by providing three attributes only:\n",
    "\n",
    "- `name` : A `str` object as a name for the model simulation object\n",
    "\n",
    "- `mar_env` : An instanc of the `dx.market_environment` class\n",
    "\n",
    "- `corr` : A flag indicating whether the objects is correlated or not\n",
    "\n",
    "This illustrates the role of a market environment: to provide in a single step all data and objects required for simulation and valuation. The mothods of the generic class are:\n",
    "\n",
    "- `generate_time_grid()` : This method generates the time grid of relevant dates used for the simulation; this task is the same for every simulation class.\n",
    "\n",
    "- `get_instrument_values()` : Every simulation class has to return the `ndarray` object with the simulated intrument values (e.g., simulated stock prices, commodities prices, volatilities)"
   ]
  },
  {
   "attachments": {},
   "cell_type": "markdown",
   "metadata": {},
   "source": [
    "Table below shows all components a `dx.market_environment` object must contain for the generic and therefore for all other simuation classes.\n",
    "\n",
    "<b>Elements of the market environment for all simulation classes</b>\n",
    "\n",
    "<table>\n",
    "    <tr>\n",
    "        <th>Element</th>\n",
    "        <th>Type</th>\n",
    "        <th>Mandatory</th>\n",
    "        <th>Description</th>\n",
    "    </tr>\n",
    "    <tr>\n",
    "        <td>`initial_value</td>\n",
    "        <td>Consant</td>\n",
    "        <td>Yes</td>\n",
    "        <td>Initial value of process at `pricing_fate'</td>\n",
    "    </tr>\n",
    "    <tr>\n",
    "        <td>`volatility`</td>\n",
    "        <td>Constant</td>\n",
    "        <td>Yes</td>\n",
    "        <td>Volatility coeffient pf process\n",
    "    </tr>\n",
    "    <tr>\n",
    "        <td>`final_date`</td>\n",
    "        <td>Constant</td>\n",
    "        <td>Yes</td>\n",
    "        <td>Simulation horizon</td>\n",
    "    </tr>\n",
    "    <tr>\n",
    "        <td>`currency`</td>\n",
    "        <td>Constant</td>\n",
    "        <td>Yes</td>\n",
    "        <td>Currency of the financial entity</td>\n",
    "    </tr>\n",
    "    <tr>\n",
    "        <td>`frequency`</td>\n",
    "        <td>Constant</td>\n",
    "        <td>Yes</td>\n",
    "        <td>Date frequency, as 'pandas' 'freq' parameter</td>\n",
    "    </tr>\n",
    "    <tr>\n",
    "        <td>`paths`</td>\n",
    "        <td>Constant</td>\n",
    "        <td>Yes</td>\n",
    "        <td>Number of paths to be simulated</td>\n",
    "    </tr>\n",
    "    <tr>\n",
    "        <td>`discount_curve`</td>\n",
    "        <td>Curve</td>\n",
    "        <td>Yes</td>\n",
    "        <td>Instance of `dx.count_short_rate.py`</td>\n",
    "    </tr>\n",
    "    <tr>\n",
    "        <td>`time_grid`</td>\n",
    "        <td>List</td>\n",
    "        <td>No</td>\n",
    "        <td>Time grid of relevant dates (in portfolio context</td>\n",
    "    </tr>\n",
    "    <tr>\n",
    "        <td>`random_numbers`</td>\n",
    "        <td>List</td>\n",
    "        <td>No</td>\n",
    "        <td>Ranom number `np.array` object (for correlated objects)</td>\n",
    "    </tr>\n",
    "    <tr>\n",
    "        <td>`cholesky_matrix`</td>\n",
    "        <td>List</td>\n",
    "        <td>No</td>\n",
    "        <td>Cholesky matrix (for correlated objects)</td>\n",
    "    </tr>\n",
    "    <tr>\n",
    "        <td>`rn_set`</td>\n",
    "        <td>List</td>\n",
    "        <td>No</td>\n",
    "        <td>`dict` object with pointer to relevant random number set</td>\n",
    "    </tr>\n",
    "</table>"
   ]
  },
  {
   "attachments": {},
   "cell_type": "markdown",
   "metadata": {},
   "source": [
    "## Geometric Brownian Motion"
   ]
  },
  {
   "cell_type": "code",
   "execution_count": null,
   "metadata": {},
   "outputs": [],
   "source": []
  },
  {
   "cell_type": "code",
   "execution_count": null,
   "metadata": {},
   "outputs": [],
   "source": []
  }
 ],
 "metadata": {
  "kernelspec": {
   "display_name": "Python 3",
   "language": "python",
   "name": "python3"
  },
  "language_info": {
   "codemirror_mode": {
    "name": "ipython",
    "version": 3
   },
   "file_extension": ".py",
   "mimetype": "text/x-python",
   "name": "python",
   "nbconvert_exporter": "python",
   "pygments_lexer": "ipython3",
   "version": "3.10.6"
  },
  "orig_nbformat": 4,
  "vscode": {
   "interpreter": {
    "hash": "55e72e60fe9b0ef549d68eb71417cfa6fac5c4d5d8ae9f64b775066e6b6fedeb"
   }
  }
 },
 "nbformat": 4,
 "nbformat_minor": 2
}
