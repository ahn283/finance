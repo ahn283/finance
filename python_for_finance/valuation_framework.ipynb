{
 "cells": [
  {
   "attachments": {},
   "cell_type": "markdown",
   "metadata": {},
   "source": [
    "# Valuation Framework\n"
   ]
  },
  {
   "attachments": {},
   "cell_type": "markdown",
   "metadata": {},
   "source": [
    "## Fundamental Theorem of Asset Pricing\n",
    "\n",
    "Then central notion underlying the theorem is the concept of a martingale measure; i.e., a probability measure that removes the drift from a discounted risk factor (stochastic process). Under a martingale measure, all risk factors drift with the risk-free short rate - and not with any other market rate involving some kind of risk premium over the risk-free short rate."
   ]
  },
  {
   "attachments": {},
   "cell_type": "markdown",
   "metadata": {},
   "source": [
    "### A Simple Exmple\n",
    "\n",
    "Condsider a simple economy at the dates today and tomorrow with a risky asset, a \"stock\" and a riskless asset, a \"bond\". The bond costs 10 USD today and pays off 10 USD tomorrow (zero interest rates). The stock costs 10 USD today and, with a probability of 60% and 40%, respectively, pays off 20 USD or 0 USD tomorrow. The riskless return of the bond is 0. The expected return of the stock is $\\frac{0.6\\times 20+0.4\\times 0}{10}-1=0.2$, or 20%.\n",
    "\n",
    "Consider now a call option with strike price of 15 USD. What is the fair value of such a contingent claim that pays 5 USD with 60% probability and 0 USD otherwise? Discounting the resulting value back yields a value of $0.6\\times 5 = 3$ USD.\n",
    "\n",
    "There is another approach that has been successfully applied to option pricing problems: replication of the option's payoff through a portfolio of traded securities. Buying 0.25 of the stock perfectly replicates the option's payoff (in the 60% case one has $0.25\\times 20=5$ USD). A quater of the stock only costs 2.5 USD amd not 3 USD. Taking expectations under the real-world probability measure overvalues the option.\n",
    "\n",
    "Why is this the case? The real-world measure implies a risk premium of 20 % for the stock since the risk involved in the stock is real in the sense that it cannot be diversified or hedged away.\n",
    "\n",
    "Can one save the approach of taking expectations to value the call option? One only has to change the probability in such a way that the risky asset, the stock, drifts with the riskless short rate of zero. A martingale measure giving equal mass of 50% to both scenarios accomplishes this. Now, taking expectations of ths option's payoff under the new martingale measure yields the correct (arbitrage free) fair value : $0.5 \\times 5 + 0.5\\times 5 = 2.5$ USD."
   ]
  },
  {
   "attachments": {},
   "cell_type": "markdown",
   "metadata": {},
   "source": [
    "### The General Results\n",
    "\n",
    "Consider a general market model in discrete time:\n",
    "\n",
    "A general maket model $\\mathcal{M}$ in discrete time is a collection of:\n",
    "\n",
    "- A finite state space $\\Omega$\n",
    "\n",
    "- A filtration $\\mathbb{F}$\n",
    "\n",
    "- A strictly positive probability measure $P$ defined on $\\varsigma(\\Omega)$\n",
    "\n",
    "- A terminal date $T\\in\\mathbb{N}$, $T<\\infty$\n",
    "\n",
    "- A set $\\mathbb{S}\\equiv \\{\\left(S_t^k\\right)_{t\\in\\{0,...,T\\}}: k\\in\\{0,...,K\\}\\}$ of $K+1$ strictly positive security price processes\n",
    "\n",
    "Together one has\n",
    "$$\\mathcal{M}=\\{(\\Omega, \\varsigma(\\Omega), \\mathbb{F}, P), T, \\mathbb{S}\\}$$\n",
    "\n",
    "Based on a general market model, one can formulate the Fundermental Theorem of Asset Pricing as follows:\n",
    "\n",
    "Consider the general market model $\\mathcal{M}$. Accoding to the Fundermental Theorem of Asset Pricing, the following three statements are equivalent:\n",
    "\n",
    "- There are no arbitrage opportunities in the market model $\\mathcal{M}$\n",
    "\n",
    "- The set $\\mathbb{Q}$ of $P$-equivalent martingale measures is nonempty.\n",
    "\n",
    "- These set $\\mathbb{P}$ of consistent linear price system is nonempty.\n",
    "\n",
    "When it comes to valuation and pricing of contingent claims (i.e., option, derivatives, futures, forwards, swaps, etc), the importance of the theorem is illustrated by the following corollary:\n",
    "\n",
    "\n",
    "If the market model $\\mathcal{M}$ is arbitrage-free, then there exists a unique price $V_0$ associated with any attainable(i.e., replicable) contingent claim (option, derivative, etc) $V_T$. It satisfies $\\forall Q\\in \\mathcal{Q}: V_0=\\mathbf{E}_0^Q(e^{-rT}V_T)$, where $e^{-rT}$ is the relevant risk-nuetral discount factor for a constant short rate $r$.\n",
    "\n",
    "Due to the role of the martingale measure, this approach to valuation is also often called the martingale approach, or - since under the martingale measure all risky asset drift with riskless short rate - the risk-nuetral valuation approach. The second term might, for our purposes, be the better one because in numerical applications, one 'simply' lets the risk factors (stochastic processes) drift by the risk-neutral short rate. One does not habe to deal with the probability measures directly for our applications - they are what theoretically justifies the central theoretical results applied and the technical approach implemented.\n",
    "\n",
    "Finally, consider market completeness in the general mareket model:\n",
    "\n",
    "The market model $\\mathbf{M}$ is complete if it is arbtrage-free and if every contingent claim is attainable.\n",
    "\n",
    "Suppose that the market model $\\mathbf{M}$ is arbitrage-free. The market model is complete if and only if $\\mathbf{M}$ is singleton; i.e., if there is a unique $P$-equivalent martingale measure."
   ]
  },
  {
   "attachments": {},
   "cell_type": "markdown",
   "metadata": {},
   "source": [
    "## Risk-Neutral Discounting\n",
    "\n",
    "This section develops a Python class for risk-neutral discounting. However, it pays to first have a closer look at the modeling and handling of relevant dates for a valuation."
   ]
  },
  {
   "attachments": {},
   "cell_type": "markdown",
   "metadata": {},
   "source": [
    "### Modeling and Handling Dates\n",
    "\n",
    "For valuation purposes, one typically divides the time intervals between today and the final dates of the general market model $T$ into discrete time intervals. These time intervals can be homogeneous (i.e., of equal length), or they can be heterogeneous (i.e., of varying length). A valuation library should be able to handle the more geenral case of hetero geneous time intervals, since the simpler case is then automatically included. The code works with lists of dates, assuming that the smallest relevant time interval is one day. This implies that intraday events are considered irrelevant, for which one would have to model time in addition to dates.\n",
    "\n",
    "To compile a list of relevant dates, one can take one of two approaches: cosntructing a list of concrete dates (e.r., as `datetime` object in Python) or of year fractions (as decimal numbers)."
   ]
  },
  {
   "cell_type": "code",
   "execution_count": 4,
   "metadata": {},
   "outputs": [],
   "source": [
    "import numpy as np\n",
    "import pandas as pd\n",
    "import datetime as dt"
   ]
  },
  {
   "cell_type": "code",
   "execution_count": 5,
   "metadata": {},
   "outputs": [],
   "source": [
    "from pylab import mpl, plt\n",
    "import seaborn as sns\n",
    "\n",
    "sns.set()\n",
    "mpl.rcParams['font.family'] = 'serif'\n",
    "%matplotlib inline"
   ]
  },
  {
   "cell_type": "code",
   "execution_count": 6,
   "metadata": {},
   "outputs": [],
   "source": [
    "import sys\n",
    "sys.path.append('./dx')"
   ]
  },
  {
   "cell_type": "code",
   "execution_count": 10,
   "metadata": {},
   "outputs": [
    {
     "data": {
      "text/plain": [
       "[datetime.datetime(2020, 1, 1, 0, 0),\n",
       " datetime.datetime(2020, 7, 1, 0, 0),\n",
       " datetime.datetime(2021, 1, 1, 0, 0)]"
      ]
     },
     "execution_count": 10,
     "metadata": {},
     "output_type": "execute_result"
    }
   ],
   "source": [
    "# the following two definitions of dates and fractions are roughly equivalent.\n",
    "\n",
    "dates = [dt.datetime(2020, 1, 1), dt.datetime(2020, 7, 1), dt.datetime(2021, 1, 1)]\n",
    "dates"
   ]
  },
  {
   "cell_type": "code",
   "execution_count": 8,
   "metadata": {},
   "outputs": [
    {
     "data": {
      "text/plain": [
       "0.4986301369863014"
      ]
     },
     "execution_count": 8,
     "metadata": {},
     "output_type": "execute_result"
    }
   ],
   "source": [
    "(dates[1] - dates[0]).days / 365."
   ]
  },
  {
   "cell_type": "code",
   "execution_count": 9,
   "metadata": {},
   "outputs": [
    {
     "data": {
      "text/plain": [
       "0.5041095890410959"
      ]
     },
     "execution_count": 9,
     "metadata": {},
     "output_type": "execute_result"
    }
   ],
   "source": [
    "(dates[2] - dates[1]).days / 365."
   ]
  },
  {
   "cell_type": "code",
   "execution_count": 11,
   "metadata": {},
   "outputs": [],
   "source": [
    "fractions = [0.0, 0.5, 1.0]"
   ]
  },
  {
   "cell_type": "code",
   "execution_count": 12,
   "metadata": {},
   "outputs": [],
   "source": [
    "# sometimes it is necessary to get year fractions out of a list of dates.\n",
    "# the function get_year_deltas() does the job\n",
    "\n",
    "\n",
    "# get_year_deltas.py\n",
    "\n",
    "# import numpy as np\n",
    "\n",
    "# def get_year_deltas(date_list, day_count=365):\n",
    "#     ''' Return vector of floats with day deltas in year fractions.\n",
    "#     Initial value normalized to zero.\n",
    "\n",
    "#     Parameters\n",
    "#     ==========\n",
    "#     date_list : list or array\n",
    "#         collection of datetime objects\n",
    "    \n",
    "#     day_count : float\n",
    "#         number of days for a year\n",
    "#         (to account for different conventions)\n",
    "\n",
    "#     Results\n",
    "#     =======\n",
    "#     delta_list: array\n",
    "#         year fractions\n",
    "#     '''\n",
    "\n",
    "\n",
    "#     start = date_list[0]\n",
    "#     delta_list = [(date - start).days / day_count\n",
    "#                 for date in date_list]\n",
    "\n",
    "#     return np.array(delta_list)"
   ]
  },
  {
   "cell_type": "code",
   "execution_count": 15,
   "metadata": {},
   "outputs": [],
   "source": [
    "from dx.get_year_deltas import get_year_deltas"
   ]
  },
  {
   "cell_type": "code",
   "execution_count": 16,
   "metadata": {},
   "outputs": [
    {
     "data": {
      "text/plain": [
       "array([0.        , 0.49863014, 1.00273973])"
      ]
     },
     "execution_count": 16,
     "metadata": {},
     "output_type": "execute_result"
    }
   ],
   "source": [
    "get_year_deltas(dates)"
   ]
  },
  {
   "attachments": {},
   "cell_type": "markdown",
   "metadata": {},
   "source": [
    "### Constant Short Rate\n",
    "\n",
    "The exposition focuses on the simplest case for discounting by the short rate; the case where the hort rate is constant through time. Many option pricing models, like the ones of Black-Scholes-Merton (1973), Merton (1976), or Cox-Ross-Rubinstein (1979), make this assumption. The general discount factor as of today, given a future date $t$ and a constant short rate of $r$, is given by $D_0(t)=e^{-rT}$.\n",
    "\n",
    "The discount factors can also be interpreted as the value of a unit zero-coupon (ZCB) as of today, maturing at $t$. Given two dates $t\\ge s \\ge 0$, the discount factor relevant for discounting from $t$ to $s$ is then given by the equiation\n",
    "$$D_s(t)=D_0(t)/D_0(s)=e^{-rt}/e^{-rs}=e^{-rt}\\cdot e^{rs}=e^{-r(t-s)}$$"
   ]
  },
  {
   "cell_type": "code",
   "execution_count": 17,
   "metadata": {},
   "outputs": [],
   "source": [
    "# dx.constant_short_rate is best illustrated by a simple, concrete exmaple.\n",
    "# the mian result is a two-dimensional ndarray object containing paris of a datetime object and the relevant discount factor.\n",
    "\n",
    "from dx.constant_short_rate import constant_short_rate"
   ]
  },
  {
   "cell_type": "code",
   "execution_count": 30,
   "metadata": {},
   "outputs": [],
   "source": [
    "csr = constant_short_rate('csr', 0.05)"
   ]
  },
  {
   "cell_type": "code",
   "execution_count": 19,
   "metadata": {},
   "outputs": [
    {
     "data": {
      "text/plain": [
       "array([[datetime.datetime(2020, 1, 1, 0, 0), 0.9510991280247174],\n",
       "       [datetime.datetime(2020, 7, 1, 0, 0), 0.9753767163648953],\n",
       "       [datetime.datetime(2021, 1, 1, 0, 0), 1.0]], dtype=object)"
      ]
     },
     "execution_count": 19,
     "metadata": {},
     "output_type": "execute_result"
    }
   ],
   "source": [
    "csr.get_discount_factors(dates)"
   ]
  },
  {
   "cell_type": "code",
   "execution_count": 21,
   "metadata": {},
   "outputs": [
    {
     "data": {
      "text/plain": [
       "array([0.        , 0.49863014, 1.00273973])"
      ]
     },
     "execution_count": 21,
     "metadata": {},
     "output_type": "execute_result"
    }
   ],
   "source": [
    "deltas = get_year_deltas(dates)\n",
    "deltas"
   ]
  },
  {
   "cell_type": "code",
   "execution_count": 22,
   "metadata": {},
   "outputs": [
    {
     "data": {
      "text/plain": [
       "array([[0.        , 0.95109913],\n",
       "       [0.49863014, 0.97537672],\n",
       "       [1.00273973, 1.        ]])"
      ]
     },
     "execution_count": 22,
     "metadata": {},
     "output_type": "execute_result"
    }
   ],
   "source": [
    "csr.get_discount_factors(deltas, dtobjects=False)"
   ]
  },
  {
   "attachments": {},
   "cell_type": "markdown",
   "metadata": {},
   "source": [
    "## Market Environments\n",
    "\n"
   ]
  },
  {
   "attachments": {},
   "cell_type": "markdown",
   "metadata": {},
   "source": [
    "A market environment mainly consits of three dictionaries to stroe the following types of data and Python objects:\n",
    "\n",
    "<b>Contants</b>\n",
    "\n",
    "These can be model parameters or option maturity dates.\n",
    "\n",
    "<b>Lists</b>\n",
    "\n",
    "These are collections of objects in general, like a list of objects modeling (risky) securities.\n",
    "\n",
    "<b>Curves</b>\n",
    "\n",
    "These are objects for discounting; e.g., an instance of the `dx.constant_short_rate` class."
   ]
  },
  {
   "cell_type": "code",
   "execution_count": 23,
   "metadata": {},
   "outputs": [],
   "source": [
    "from dx.market_environment import market_environment"
   ]
  },
  {
   "cell_type": "code",
   "execution_count": 24,
   "metadata": {},
   "outputs": [],
   "source": [
    "me = market_environment('me_gbm', dt.datetime(2020, 1, 1))"
   ]
  },
  {
   "cell_type": "code",
   "execution_count": 26,
   "metadata": {},
   "outputs": [],
   "source": [
    "me.add_constant('initial_value', 36.)\n",
    "me.add_constant('volatility', 0.2)\n",
    "me.add_constant('final_date', dt.datetime(2020, 12, 31))\n",
    "me.add_constant('currency', 'EUR')\n",
    "me.add_constant('frequency', 'M')\n",
    "me.add_constant('paths', 10000)\n",
    "me.add_curve('discount_curve', csr)"
   ]
  },
  {
   "cell_type": "code",
   "execution_count": 27,
   "metadata": {},
   "outputs": [
    {
     "data": {
      "text/plain": [
       "0.2"
      ]
     },
     "execution_count": 27,
     "metadata": {},
     "output_type": "execute_result"
    }
   ],
   "source": [
    "me.get_constant('volatility')"
   ]
  },
  {
   "cell_type": "code",
   "execution_count": 28,
   "metadata": {},
   "outputs": [
    {
     "data": {
      "text/plain": [
       "0.05"
      ]
     },
     "execution_count": 28,
     "metadata": {},
     "output_type": "execute_result"
    }
   ],
   "source": [
    "me.get_curve('discount_curve').short_rate"
   ]
  },
  {
   "attachments": {},
   "cell_type": "markdown",
   "metadata": {},
   "source": [
    "A major advantage of this object-oriented modeing appraoch is that instances of the `dx.constant_short_rate` class can line in multiple environments. Once the instance is updated - for example, when a new constant short rate is set - , all the instances of the `dx.market_environment` class containing that particular instances of the discounting class will be updated automatically."
   ]
  }
 ],
 "metadata": {
  "kernelspec": {
   "display_name": "Python 3",
   "language": "python",
   "name": "python3"
  },
  "language_info": {
   "codemirror_mode": {
    "name": "ipython",
    "version": 3
   },
   "file_extension": ".py",
   "mimetype": "text/x-python",
   "name": "python",
   "nbconvert_exporter": "python",
   "pygments_lexer": "ipython3",
   "version": "3.10.6"
  },
  "orig_nbformat": 4,
  "vscode": {
   "interpreter": {
    "hash": "55e72e60fe9b0ef549d68eb71417cfa6fac5c4d5d8ae9f64b775066e6b6fedeb"
   }
  }
 },
 "nbformat": 4,
 "nbformat_minor": 2
}
