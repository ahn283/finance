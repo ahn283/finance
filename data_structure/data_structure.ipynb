{
 "cells": [
  {
   "attachments": {},
   "cell_type": "markdown",
   "metadata": {},
   "source": [
    "#### <b>배열(Array)</b>\n",
    "\n",
    "* 파이썬(Python)에서 다음과 같이 배열을 초기화할 수 있다."
   ]
  },
  {
   "cell_type": "code",
   "execution_count": 1,
   "metadata": {},
   "outputs": [
    {
     "name": "stdout",
     "output_type": "stream",
     "text": [
      "[0, 0, 0, 0, 0]\n",
      "[0, 1, 2, 3, 4]\n"
     ]
    }
   ],
   "source": [
    "# [0, 0, 0, 0, 0]\n",
    "\n",
    "n = 5\n",
    "arr = [0] * n\n",
    "print(arr)\n",
    "\n",
    "# [0, 1, 2, 3, 4]\n",
    "n = 5\n",
    "arr = [i for i in range(n)]\n",
    "print(arr)"
   ]
  },
  {
   "cell_type": "code",
   "execution_count": 2,
   "metadata": {},
   "outputs": [
    {
     "name": "stdout",
     "output_type": "stream",
     "text": [
      "[[0, 0, 0, 0, 0], [0, 0, 0, 0, 0], [0, 0, 0, 0, 0]]\n"
     ]
    }
   ],
   "source": [
    "n = 3\n",
    "m = 5\n",
    "arr = [[0] * m for i in range(n)]\n",
    "print(arr)"
   ]
  },
  {
   "cell_type": "code",
   "execution_count": 3,
   "metadata": {},
   "outputs": [
    {
     "name": "stdout",
     "output_type": "stream",
     "text": [
      "[[0, 1, 2, 3, 4], [5, 6, 7, 8, 9], [10, 11, 12, 13, 14]]\n"
     ]
    }
   ],
   "source": [
    "n = 3 \n",
    "m = 5\n",
    "arr = [[i * m + j for j in range(m)] for i in range(n)]\n",
    "print(arr)"
   ]
  },
  {
   "cell_type": "code",
   "execution_count": 5,
   "metadata": {},
   "outputs": [
    {
     "name": "stdout",
     "output_type": "stream",
     "text": [
      "[[0, 0, 0, 7, 0], [0, 0, 0, 7, 0], [0, 0, 0, 7, 0]]\n",
      "[[0, 0, 0, 0, 0], [0, 0, 0, 7, 0], [0, 0, 0, 0, 0]]\n"
     ]
    }
   ],
   "source": [
    "n = 3\n",
    "m = 5\n",
    "arr1 = [[0] * m] * n\n",
    "arr2 = [[0] * m for i in range(n)]\n",
    "\n",
    "arr1[1][3] = 7\n",
    "arr2[1][3] = 7\n",
    "\n",
    "print(arr1)\n",
    "print(arr2)"
   ]
  },
  {
   "attachments": {},
   "cell_type": "markdown",
   "metadata": {},
   "source": [
    "#### <b>연결 리스트(Linked List)</b>"
   ]
  },
  {
   "cell_type": "code",
   "execution_count": 12,
   "metadata": {},
   "outputs": [
    {
     "name": "stdout",
     "output_type": "stream",
     "text": [
      "3 5 9 8 5 6 1 7 "
     ]
    }
   ],
   "source": [
    "class Node:\n",
    "    def __init__(self, data):\n",
    "        self.data = data\n",
    "        self.next = None\n",
    "\n",
    "class LinkedList:\n",
    "    def __init__(self):\n",
    "        self.head = None\n",
    "    \n",
    "    # insert node at the end\n",
    "    def append(self, data):\n",
    "        # head is empty\n",
    "        if self.head == None:\n",
    "            self.head = Node(data)\n",
    "            return\n",
    "        # insert node at the end\n",
    "        cur = self.head\n",
    "        while cur.next != None:\n",
    "            cur = cur.next\n",
    "        cur.next = Node(data)\n",
    "\n",
    "    # print out all nodes\n",
    "    def show(self):\n",
    "        cur = self.head\n",
    "        while cur != None:\n",
    "            print(cur.data, end=\" \")\n",
    "            cur = cur.next\n",
    "    \n",
    "    # search specific index node\n",
    "    def search(self, index):\n",
    "        node = self.head\n",
    "        for _ in range(index):\n",
    "            node = node.next\n",
    "        return node\n",
    "    \n",
    "    # insert node at specific index\n",
    "    def insert(self, index, data):\n",
    "        new = Node(data)\n",
    "        # insert at the head\n",
    "        if index == 0:\n",
    "            new.next = self.head\n",
    "            self.head = new\n",
    "            return\n",
    "        # insert at the middle\n",
    "        node = self.search(index - 1)\n",
    "        new.next = node.next\n",
    "        node.next = new\n",
    "        new.node = new\n",
    "    \n",
    "    # delete node at specific index\n",
    "    def remove(self, index):\n",
    "        # delete at the head\n",
    "        if index == 0:\n",
    "            self.head = self.head.next\n",
    "            return\n",
    "        # delete at the middle\n",
    "        node = self.search(index - 1)\n",
    "        node.next = node.next.next\n",
    "\n",
    "linked_list = LinkedList()\n",
    "data_list = [3, 5, 9, 8, 5, 6, 1, 7]\n",
    "\n",
    "for data in data_list:\n",
    "    linked_list.append(data)\n",
    "\n",
    "# print('all nodes : ', end=\" \")\n",
    "linked_list.show()\n"
   ]
  },
  {
   "cell_type": "code",
   "execution_count": 13,
   "metadata": {},
   "outputs": [
    {
     "name": "stdout",
     "output_type": "stream",
     "text": [
      "3 5 9 8 4 5 6 1 7 "
     ]
    }
   ],
   "source": [
    "linked_list.insert(4, 4)\n",
    "linked_list.show()"
   ]
  },
  {
   "cell_type": "code",
   "execution_count": 14,
   "metadata": {},
   "outputs": [
    {
     "name": "stdout",
     "output_type": "stream",
     "text": [
      "3 5 9 8 4 5 6 7 "
     ]
    }
   ],
   "source": [
    "linked_list.remove(7)\n",
    "linked_list.show()"
   ]
  },
  {
   "cell_type": "code",
   "execution_count": 15,
   "metadata": {},
   "outputs": [
    {
     "name": "stdout",
     "output_type": "stream",
     "text": [
      "3 5 9 8 4 5 6 2 7 "
     ]
    }
   ],
   "source": [
    "linked_list.insert(7, 2)\n",
    "linked_list.show()"
   ]
  },
  {
   "attachments": {},
   "cell_type": "markdown",
   "metadata": {},
   "source": [
    "#### <b>파이썬에서의 리스트(List)</b>"
   ]
  },
  {
   "cell_type": "code",
   "execution_count": 16,
   "metadata": {},
   "outputs": [
    {
     "name": "stdout",
     "output_type": "stream",
     "text": [
      "4\n"
     ]
    }
   ],
   "source": [
    "arr = [0, 1, 2, 3, 4, 5, 6, 7, 8, 9]\n",
    "print(arr[4])   # indexing"
   ]
  },
  {
   "cell_type": "code",
   "execution_count": 18,
   "metadata": {},
   "outputs": [
    {
     "data": {
      "text/plain": [
       "[0, 1, 2, 3, 4, 5, 6, 10, 8, 9]"
      ]
     },
     "execution_count": 18,
     "metadata": {},
     "output_type": "execute_result"
    }
   ],
   "source": [
    "# storing\n",
    "arr[7] = 10\n",
    "arr"
   ]
  },
  {
   "cell_type": "code",
   "execution_count": 19,
   "metadata": {},
   "outputs": [
    {
     "data": {
      "text/plain": [
       "[0, 1, 2, 3, 4, 5, 6, 10, 8, 9, 10]"
      ]
     },
     "execution_count": 19,
     "metadata": {},
     "output_type": "execute_result"
    }
   ],
   "source": [
    "# append\n",
    "arr.append(10)\n",
    "arr"
   ]
  },
  {
   "cell_type": "code",
   "execution_count": 20,
   "metadata": {},
   "outputs": [
    {
     "data": {
      "text/plain": [
       "[0, 1, 2, 3, 4, 5, 6, 10, 8, 9]"
      ]
     },
     "execution_count": 20,
     "metadata": {},
     "output_type": "execute_result"
    }
   ],
   "source": [
    "# pop\n",
    "arr.pop()\n",
    "arr"
   ]
  },
  {
   "cell_type": "code",
   "execution_count": 21,
   "metadata": {},
   "outputs": [
    {
     "name": "stdout",
     "output_type": "stream",
     "text": [
      "10\n"
     ]
    }
   ],
   "source": [
    "# length\n",
    "print(len(arr))"
   ]
  },
  {
   "cell_type": "code",
   "execution_count": 22,
   "metadata": {},
   "outputs": [
    {
     "name": "stdout",
     "output_type": "stream",
     "text": [
      "[]\n"
     ]
    }
   ],
   "source": [
    "# clear arrays\n",
    "arr.clear()\n",
    "print(arr)"
   ]
  },
  {
   "cell_type": "code",
   "execution_count": 23,
   "metadata": {},
   "outputs": [
    {
     "name": "stdout",
     "output_type": "stream",
     "text": [
      "[2, 3, 4, 5, 6]\n"
     ]
    }
   ],
   "source": [
    "arr = [0, 1, 2, 3, 4, 5, 6, 7, 8, 9]\n",
    "new_arr = arr[2:7]  # slicing\n",
    "print(new_arr)"
   ]
  },
  {
   "cell_type": "code",
   "execution_count": 24,
   "metadata": {},
   "outputs": [
    {
     "name": "stdout",
     "output_type": "stream",
     "text": [
      "[0, 1, 2, 3, 4, 5, 6, 7, 8, 9]\n",
      "[0, 1, 2, 7, 3, 4]\n",
      "[0, 1, 2, 3, 4]\n",
      "[8, 9, 7]\n"
     ]
    }
   ],
   "source": [
    "arr1 = [0, 1, 2, 3, 4]\n",
    "arr2 = [5, 6, 7, 8, 9]\n",
    "arr1.extend(arr2)   # 확장 (extend)\n",
    "print(arr1)\n",
    "\n",
    "arr = [0, 1, 2, 3, 4]\n",
    "arr.insert(3, 7)    # 삽입 (insert)\n",
    "print(arr)\n",
    "\n",
    "del arr[3]  # 삭제 (deletion)\n",
    "print(arr)\n",
    "\n",
    "data = {7, 8, 9}\n",
    "arr = list(data)    # 다른 자료구조로 리스트 만들기\n",
    "print(arr)"
   ]
  },
  {
   "cell_type": "code",
   "execution_count": 25,
   "metadata": {},
   "outputs": [
    {
     "name": "stdout",
     "output_type": "stream",
     "text": [
      "True\n",
      "True\n",
      "[0, 2, 3, 4]\n",
      "[0, 2, 4]\n",
      "[0, 2, 4]\n"
     ]
    }
   ],
   "source": [
    "arr = [0, 1, 2, 3, 4]\n",
    "\n",
    "print(3 in arr) # 존재 여부(in)\n",
    "print(7 not in arr) # 비존재 여부(not in)\n",
    "\n",
    "arr.pop(1) # 인덱스 1에 해당하는 원소 꺼내기(pop)\n",
    "print(arr)\n",
    "\n",
    "arr.remove(3) # 리스트의 특정 원소 삭제(remove)\n",
    "print(arr)\n",
    "\n",
    "new_arr = arr.copy() # 복제(copy)\n",
    "print(new_arr)"
   ]
  },
  {
   "cell_type": "code",
   "execution_count": 26,
   "metadata": {},
   "outputs": [
    {
     "name": "stdout",
     "output_type": "stream",
     "text": [
      "1\n",
      "5\n",
      "3 5 4 1 2 \n",
      "[3, 5, 4, 1, 2, 3, 5, 4, 1, 2]\n",
      "[1, 2, 3, 4, 5]\n"
     ]
    }
   ],
   "source": [
    "arr = [3, 5, 4, 1, 2]\n",
    "\n",
    "print(min(arr)) # 최소(min)\n",
    "print(max(arr)) # 최대(max)\n",
    "\n",
    "for x in arr: # 원소 순회(iteration)\n",
    "    print(x, end=\" \")\n",
    "print()\n",
    "\n",
    "print(arr * 2) # 리스트 반복하여 곱하기(multiply)\n",
    "\n",
    "arr.sort() # 정렬(sorting)\n",
    "print(arr)"
   ]
  },
  {
   "attachments": {},
   "cell_type": "markdown",
   "metadata": {},
   "source": [
    "#### <b>스택(Stack) - 리스트 자료형을 이용한 구현</b>\n",
    "\n",
    "* 가장 마지막에 들어온 원소가 가장 먼저 추출되는 자료구조다."
   ]
  },
  {
   "cell_type": "code",
   "execution_count": 30,
   "metadata": {},
   "outputs": [],
   "source": [
    "class Node:\n",
    "    def __init__(self, data):\n",
    "        self.data = data\n",
    "        self.next = None\n",
    "\n",
    "class Stack:\n",
    "    def __init__(self):\n",
    "        self.head = None\n",
    "\n",
    "    # insert element\n",
    "    def push(self, data):\n",
    "        node = Node(data)\n",
    "        node.next = self.head\n",
    "        self.head = node\n",
    "        \n",
    "    # pop element\n",
    "    def pop(self):\n",
    "        if self.is_empty():\n",
    "            return None\n",
    "        # pop the node from the head\n",
    "        data = self.head.data\n",
    "        self.head = self.head.next\n",
    "\n",
    "        return data\n",
    "        \n",
    "    # top element\n",
    "    def top(self):\n",
    "        if self.is_empty():\n",
    "            return None\n",
    "        return self.head.data\n",
    "        \n",
    "    # show elements accoring to order\n",
    "    def show(self):\n",
    "        cur = self.head\n",
    "        while cur != None:\n",
    "            print(cur.data, end=\" \")\n",
    "            cur = cur.next\n",
    "        print()\n",
    "        \n",
    "    # check if the stack is empty\n",
    "    def is_empty(self):\n",
    "        return self.head == None"
   ]
  },
  {
   "cell_type": "code",
   "execution_count": 31,
   "metadata": {},
   "outputs": [
    {
     "name": "stdout",
     "output_type": "stream",
     "text": [
      "2 4 6 5 2 7 9 \n"
     ]
    }
   ],
   "source": [
    "stack = Stack()\n",
    "arr = [9, 7, 2, 5, 6, 4, 2]\n",
    "for x in arr:\n",
    "    stack.push(x)\n",
    "stack.show()"
   ]
  },
  {
   "cell_type": "code",
   "execution_count": 32,
   "metadata": {},
   "outputs": [
    {
     "name": "stdout",
     "output_type": "stream",
     "text": [
      "2\n",
      "4\n",
      "6\n",
      "5\n",
      "2\n",
      "7\n",
      "9\n"
     ]
    }
   ],
   "source": [
    "while not stack.is_empty():\n",
    "    print(stack.pop())"
   ]
  },
  {
   "attachments": {},
   "cell_type": "markdown",
   "metadata": {},
   "source": [
    "#### <b>큐(Queue) - 연결 리스트를 이용한 구현</b>\n",
    "\n",
    "* 가장 먼저 삽입된 원소가 먼저 추출되는 자료구조다."
   ]
  },
  {
   "cell_type": "code",
   "execution_count": 36,
   "metadata": {},
   "outputs": [],
   "source": [
    "class Node:\n",
    "    def __init__(self, data):\n",
    "        self.data = data\n",
    "        self.next = None\n",
    "\n",
    "class Queue:\n",
    "    def __init__(self):\n",
    "        self.head = None\n",
    "        self.tail = None\n",
    "    \n",
    "    def enqueue(self, data):\n",
    "        node = Node(data)\n",
    "        if self.head == None:\n",
    "            self.head = node\n",
    "            self.tail = node\n",
    "        # insert new node at the tail\n",
    "        else:\n",
    "            self.tail.next = node\n",
    "            self.tail = self.tail.next\n",
    "    \n",
    "    def dequeue(self):\n",
    "        if self.head == None:\n",
    "            return None\n",
    "        # dequeue the node from the head\n",
    "        data = self.head.data\n",
    "        self.head = self.head.next\n",
    "\n",
    "        return data\n",
    "    \n",
    "    def show(self):\n",
    "        cur = self.head\n",
    "        while cur:\n",
    "            print(cur.data, end=\" \")\n",
    "            cur = cur.next"
   ]
  },
  {
   "cell_type": "code",
   "execution_count": 37,
   "metadata": {},
   "outputs": [
    {
     "name": "stdout",
     "output_type": "stream",
     "text": [
      "\n",
      "all nodes :  3 5 9 8 5 6 1 7 "
     ]
    }
   ],
   "source": [
    "queue = Queue()\n",
    "data_list = [3, 5, 9, 8, 5, 6, 1, 7]\n",
    "\n",
    "for data in data_list:\n",
    "    queue.enqueue(data)\n",
    "\n",
    "print('\\nall nodes : ', end=\" \")\n",
    "queue.show()"
   ]
  },
  {
   "cell_type": "code",
   "execution_count": 38,
   "metadata": {},
   "outputs": [
    {
     "name": "stdout",
     "output_type": "stream",
     "text": [
      "\n",
      "[Dequeue]\n",
      "3\n",
      "5\n",
      "9\n"
     ]
    }
   ],
   "source": [
    "print('\\n[Dequeue]')\n",
    "print(queue.dequeue())\n",
    "print(queue.dequeue())\n",
    "print(queue.dequeue())"
   ]
  },
  {
   "cell_type": "code",
   "execution_count": 39,
   "metadata": {},
   "outputs": [
    {
     "name": "stdout",
     "output_type": "stream",
     "text": [
      "[Enqueue]\n",
      "all nodes :  8 5 6 1 7 2 5 3 "
     ]
    }
   ],
   "source": [
    "print('[Enqueue]')\n",
    "queue.enqueue(2)\n",
    "queue.enqueue(5)\n",
    "queue.enqueue(3)\n",
    "\n",
    "print('all nodes : ', end=\" \")\n",
    "queue.show()"
   ]
  },
  {
   "attachments": {},
   "cell_type": "markdown",
   "metadata": {},
   "source": [
    "* 큐(queue)의 구현 방식에 따른 연산 속도를 비교할 수 있다."
   ]
  },
  {
   "cell_type": "code",
   "execution_count": 41,
   "metadata": {},
   "outputs": [
    {
     "name": "stdout",
     "output_type": "stream",
     "text": [
      "Elapsed time : 0.8019568920135498 seconds.\n",
      "Elapsed time : 0.11252093315124512 seconds.\n"
     ]
    }
   ],
   "source": [
    "import time\n",
    "\n",
    "data_list = [i for i in range(100000)]\n",
    "\n",
    "start_time = time.time()\n",
    "\n",
    "queue = []\n",
    "for data in data_list:\n",
    "    queue.append(data)\n",
    "while queue:\n",
    "    queue.pop(0)\n",
    "print(f'Elapsed time : {time.time() - start_time} seconds.')\n",
    "\n",
    "start_time = time.time()\n",
    "\n",
    "queue = Queue()\n",
    "for data in data_list:\n",
    "    queue.enqueue(data)\n",
    "while queue.head != None:\n",
    "    queue.dequeue()\n",
    "\n",
    "print(f'Elapsed time : {time.time() - start_time} seconds.')\n",
    "queue.show()"
   ]
  },
  {
   "attachments": {},
   "cell_type": "markdown",
   "metadata": {},
   "source": [
    "#### <b>덱(Deque) - 파이썬 라이브러리를 이용한 구현</b>\n",
    "\n",
    "* 왼쪽과 오른쪽 모두에서 삽입과 삭제할 수 있는 자료구조다."
   ]
  },
  {
   "cell_type": "code",
   "execution_count": 42,
   "metadata": {},
   "outputs": [
    {
     "name": "stdout",
     "output_type": "stream",
     "text": [
      "deque([1, 2, 3, 4, 5, 6, 7, 8])\n"
     ]
    }
   ],
   "source": [
    "## python deque library\n",
    "\n",
    "from collections import deque\n",
    "\n",
    "d = deque()\n",
    "arr = [5, 6, 7, 8]\n",
    "for x in arr:\n",
    "    d.append(x)\n",
    "arr = [4, 3, 2, 1]\n",
    "for x in arr:\n",
    "    d.appendleft(x)\n",
    "print(d)"
   ]
  },
  {
   "cell_type": "code",
   "execution_count": 43,
   "metadata": {},
   "outputs": [
    {
     "name": "stdout",
     "output_type": "stream",
     "text": [
      "1\n",
      "2\n",
      "3\n",
      "4\n",
      "5\n",
      "6\n",
      "7\n",
      "8\n"
     ]
    }
   ],
   "source": [
    "while d:\n",
    "    print(d.popleft())"
   ]
  },
  {
   "cell_type": "code",
   "execution_count": 44,
   "metadata": {},
   "outputs": [
    {
     "name": "stdout",
     "output_type": "stream",
     "text": [
      "deque([8, 7, 6, 5, 4, 3, 2, 1])\n"
     ]
    }
   ],
   "source": [
    "arr = [1, 2, 3, 4, 5, 6, 7, 8]\n",
    "for x in arr:\n",
    "    d.appendleft(x)\n",
    "print(d)"
   ]
  },
  {
   "cell_type": "code",
   "execution_count": 45,
   "metadata": {},
   "outputs": [
    {
     "name": "stdout",
     "output_type": "stream",
     "text": [
      "1\n",
      "8\n",
      "2\n",
      "7\n",
      "3\n",
      "6\n",
      "4\n",
      "5\n"
     ]
    }
   ],
   "source": [
    "while True:\n",
    "    print(d.pop())\n",
    "    if not d:\n",
    "        break\n",
    "    print(d.popleft())\n",
    "    if not d:\n",
    "        break"
   ]
  },
  {
   "cell_type": "code",
   "execution_count": 54,
   "metadata": {},
   "outputs": [],
   "source": [
    "# using linked list\n",
    "class Node:\n",
    "    def __init__(self, data):\n",
    "        self.data = data\n",
    "        self.prev = None\n",
    "        self.next = None\n",
    "        self.size = 0\n",
    "\n",
    "class Deque:\n",
    "    def __init__(self):\n",
    "        self.front = None\n",
    "        self.rear = None\n",
    "        self.size = 0\n",
    "    \n",
    "    def appendleft(self, data):\n",
    "        node = Node(data)\n",
    "        if self.front == None:\n",
    "            self.front = node\n",
    "            self.rear = node\n",
    "        \n",
    "        else:\n",
    "            node.next = self.front\n",
    "            self.front.prev = node\n",
    "            self.front = node\n",
    "        self.size += 1\n",
    "    \n",
    "    def append(self, data):\n",
    "        node = Node(data)\n",
    "        if self.rear == None:\n",
    "            self.front = node\n",
    "            self.rear = node\n",
    "        else:\n",
    "            node.prev = self.rear\n",
    "            self.rear.next = node\n",
    "            self.rear = node\n",
    "        self.size += 1\n",
    "    \n",
    "    def popleft(self):\n",
    "        if self.size == 0:\n",
    "            return None\n",
    "        # dequeue the node from the front\n",
    "        data = self.front.data\n",
    "        self.front = self.front.next\n",
    "        # if the queue is empty after dequeuing\n",
    "        if self.front == None:\n",
    "            self.rear = None\n",
    "        else:\n",
    "            self.front.prev = None\n",
    "        self.size -= 1\n",
    "        return data\n",
    "    \n",
    "    def pop(self):\n",
    "        if self.size == 0:\n",
    "            return None\n",
    "        # dequeue the node from the rear\n",
    "        data = self.rear.data\n",
    "        self.rear = self.rear.prev\n",
    "        # if the queue is empty after dequeuing\n",
    "        if self.rear == None:\n",
    "            self.front = None\n",
    "        else:\n",
    "            self.rear.next = None\n",
    "        self.size -= 1\n",
    "        return data\n",
    "    \n",
    "    def front(self):\n",
    "        if self.size == 0:\n",
    "            return None\n",
    "        return self.front.data\n",
    "    \n",
    "    def rear(self):\n",
    "        if self.size == 0:\n",
    "            return None\n",
    "        return self.rear.data\n",
    "    \n",
    "    # show elements from the front\n",
    "    def show(self):\n",
    "        cur = self.front\n",
    "        while cur:\n",
    "            print(cur.data, end=\" \")\n",
    "            cur = cur.next\n"
   ]
  },
  {
   "cell_type": "code",
   "execution_count": 57,
   "metadata": {},
   "outputs": [
    {
     "name": "stdout",
     "output_type": "stream",
     "text": [
      "1 2 3 4 5 6 7 8 "
     ]
    }
   ],
   "source": [
    "d = Deque()\n",
    "arr = [5, 6, 7, 8]\n",
    "for x in arr:\n",
    "    d.append(x)\n",
    "arr = [4, 3, 2, 1]\n",
    "for x in arr:\n",
    "    d.appendleft(x)\n",
    "\n",
    "d.show()"
   ]
  },
  {
   "cell_type": "code",
   "execution_count": 58,
   "metadata": {},
   "outputs": [
    {
     "name": "stdout",
     "output_type": "stream",
     "text": [
      "1\n",
      "2\n",
      "3\n",
      "4\n",
      "5\n",
      "6\n",
      "7\n",
      "8\n"
     ]
    }
   ],
   "source": [
    "while d.size != 0:\n",
    "    print(d.popleft())"
   ]
  },
  {
   "cell_type": "code",
   "execution_count": 59,
   "metadata": {},
   "outputs": [
    {
     "name": "stdout",
     "output_type": "stream",
     "text": [
      "8 7 6 5 4 3 2 1 "
     ]
    }
   ],
   "source": [
    "arr = [1, 2, 3, 4, 5, 6, 7, 8]\n",
    "for x in arr:\n",
    "    d.appendleft(x)\n",
    "d.show()"
   ]
  },
  {
   "cell_type": "code",
   "execution_count": 60,
   "metadata": {},
   "outputs": [
    {
     "name": "stdout",
     "output_type": "stream",
     "text": [
      "1\n",
      "8\n",
      "2\n",
      "7\n",
      "3\n",
      "6\n",
      "4\n",
      "5\n"
     ]
    }
   ],
   "source": [
    "while True:\n",
    "    print(d.pop())\n",
    "    if d.size == 0:\n",
    "        break\n",
    "    print(d.popleft())\n",
    "    if d.size == 0:\n",
    "        break"
   ]
  },
  {
   "attachments": {},
   "cell_type": "markdown",
   "metadata": {},
   "source": [
    "#### <b>이진 탐색 트리(Binary Search Tree)</b>"
   ]
  },
  {
   "cell_type": "code",
   "execution_count": 94,
   "metadata": {},
   "outputs": [],
   "source": [
    "## python deque library\n",
    "\n",
    "from collections import deque\n",
    "\n",
    "class Node:\n",
    "    def __init__(self, key):\n",
    "        self.key = key\n",
    "        self.left = None\n",
    "        self.right = None\n",
    "\n",
    "class BinarySearchTree:\n",
    "    def __init__(self):\n",
    "        self.root = None\n",
    "    \n",
    "    def search(self, node, key):\n",
    "        return self._search(self.root, key)\n",
    "    \n",
    "    def _search(self, node, key):\n",
    "        if node is None or node.key == key:\n",
    "            return node\n",
    "        \n",
    "        # if key is smaller than node's key\n",
    "        if node.key > key:\n",
    "            return self._search(node.left, key)\n",
    "        # if key is bigger than node's key\n",
    "        elif node.key < key:\n",
    "            return self._search(node.right, key)\n",
    "    def insert(self, key):\n",
    "        self.root = self._insert(self.root, key)\n",
    "    \n",
    "    def _insert(self, node, key):\n",
    "        if node is None:\n",
    "            return Node(key)\n",
    "        \n",
    "        # if key is smaller than node's key\n",
    "        if node.key > key:\n",
    "            node.left = self._insert(node.left, key)\n",
    "        # if key is bigger than node's key\n",
    "        elif node.key < key:\n",
    "            node.right = self._insert(node.right, key)\n",
    "        return node\n",
    "    \n",
    "    def delete(self, key):\n",
    "        self.root = self._delete(self.root, key)\n",
    "    \n",
    "    def _delete(self, node, key):\n",
    "        if node is None:\n",
    "            return None\n",
    "        \n",
    "        # if key is smaller than node's key\n",
    "        if node.key > key:\n",
    "            node.left = self._delete(node.left, key)\n",
    "        # if key is bigger than node's key\n",
    "        elif node.key < key:\n",
    "            node.right = self._delete(node.right, key)\n",
    "        # if the node to be deleted is identified\n",
    "        else:\n",
    "            # if the node has no child on the left\n",
    "            if node.left is None:\n",
    "                return node.right\n",
    "            # if the node has no child on the right\n",
    "            elif node.right is None:\n",
    "                return node.left\n",
    "            # if the node has both children\n",
    "            node.key = self._get_min(node.right)\n",
    "            node.right = self._delete(node.right, node.key)\n",
    "        \n",
    "        return node\n",
    "    \n",
    "    def _get_min(self, node):\n",
    "        key = node.key\n",
    "        while node.left:\n",
    "            key = node.left.key\n",
    "            node = node.left\n",
    "        return key\n",
    "    \n",
    "    def preorder(self):\n",
    "        self._preorder(self.root)\n",
    "    \n",
    "    def _preorder(self, node):\n",
    "        if node:\n",
    "            print(node.key, end=\" \")\n",
    "            self._preorder(node.left)\n",
    "            self._preorder(node.right)\n",
    "    \n",
    "    def inorder(self):\n",
    "        self._inorder(self.root)\n",
    "    \n",
    "    def _inorder(self, node):\n",
    "        if node:\n",
    "            self._inorder(node.left)\n",
    "            print(node.key, end=\" \")\n",
    "            self._inorder(node.right)\n",
    "    \n",
    "    def postorder(self):\n",
    "        self._postorder(self.root)\n",
    "    \n",
    "    def _postorder(self, node):\n",
    "        if node:\n",
    "            self._postorder(node.left)\n",
    "            self._postorder(node.right)\n",
    "            print(node.key, end=\" \")\n",
    "    \n",
    "    def levelorder(self):\n",
    "        return self._levelorder(self.root)\n",
    "    \n",
    "    def _levelorder(self, node):\n",
    "        if node is None:\n",
    "            return\n",
    "        \n",
    "        result = []\n",
    "\n",
    "        queue = deque()\n",
    "        queue.append((0, node)) # (level, node)\n",
    "\n",
    "        while queue:\n",
    "            level, node = queue.popleft()\n",
    "            if node:\n",
    "                result.append((level, node.key))\n",
    "                queue.append((level+1, node.left))\n",
    "                queue.append((level+1, node.right))\n",
    "        \n",
    "        for level, key in result:\n",
    "            print(f'level: {level}, key: {key}')\n",
    "    \n",
    "    def to_list(self):\n",
    "        return self._to_list(self.root)\n",
    "    \n",
    "    def _to_list(self, node):\n",
    "        if node is None:\n",
    "            return []\n",
    "        return self._to_list(node.self) + [node.key] + self._to_list(node.right)"
   ]
  },
  {
   "cell_type": "code",
   "execution_count": 74,
   "metadata": {},
   "outputs": [],
   "source": [
    "arr = [7, 4, 5, 9, 6, 3, 2, 8]\n",
    "bst = BinarySearchTree()\n",
    "for x in arr:\n",
    "    bst.insert(x)"
   ]
  },
  {
   "cell_type": "code",
   "execution_count": 75,
   "metadata": {},
   "outputs": [
    {
     "name": "stdout",
     "output_type": "stream",
     "text": [
      "전위 순회:  7 4 3 2 5 6 9 8 "
     ]
    }
   ],
   "source": [
    "print('전위 순회: ', end=' ')\n",
    "bst.preorder()"
   ]
  },
  {
   "cell_type": "code",
   "execution_count": 77,
   "metadata": {},
   "outputs": [
    {
     "name": "stdout",
     "output_type": "stream",
     "text": [
      "중위 순회:  2 3 4 5 6 7 8 9 "
     ]
    }
   ],
   "source": [
    "print('중위 순회: ', end=' ')  \n",
    "bst.inorder()"
   ]
  },
  {
   "cell_type": "code",
   "execution_count": 78,
   "metadata": {},
   "outputs": [
    {
     "name": "stdout",
     "output_type": "stream",
     "text": [
      "후위 순회:  2 3 6 5 4 8 9 7 "
     ]
    }
   ],
   "source": [
    "print('후위 순회: ', end=' ')\n",
    "bst.postorder()"
   ]
  },
  {
   "cell_type": "code",
   "execution_count": 79,
   "metadata": {},
   "outputs": [
    {
     "name": "stdout",
     "output_type": "stream",
     "text": [
      "레벨 순회:  level: 0, key: 7\n",
      "level: 1, key: 4\n",
      "level: 1, key: 9\n",
      "level: 2, key: 3\n",
      "level: 2, key: 5\n",
      "level: 2, key: 8\n",
      "level: 3, key: 2\n",
      "level: 3, key: 6\n"
     ]
    }
   ],
   "source": [
    "print('레벨 순회: ', end=' ')\n",
    "bst.levelorder()"
   ]
  },
  {
   "cell_type": "code",
   "execution_count": 80,
   "metadata": {},
   "outputs": [
    {
     "name": "stdout",
     "output_type": "stream",
     "text": [
      "\n",
      "전위 순회: 8 4 3 2 5 6 9 \n",
      "중위 순회: 2 3 4 5 6 8 9 \n",
      "후위 순회: 2 3 6 5 4 9 8 \n",
      "[레벨 순회]\n",
      "level: 0, key: 8\n",
      "level: 1, key: 4\n",
      "level: 1, key: 9\n",
      "level: 2, key: 3\n",
      "level: 2, key: 5\n",
      "level: 3, key: 2\n",
      "level: 3, key: 6\n"
     ]
    }
   ],
   "source": [
    "bst.delete(7)\n",
    "print('\\n전위 순회:', end=' ')\n",
    "bst.preorder()\n",
    "print('\\n중위 순회:', end=' ')\n",
    "bst.inorder()\n",
    "print('\\n후위 순회:', end=' ')\n",
    "bst.postorder()\n",
    "print('\\n[레벨 순회]')\n",
    "bst.levelorder()"
   ]
  },
  {
   "cell_type": "code",
   "execution_count": 81,
   "metadata": {},
   "outputs": [
    {
     "name": "stdout",
     "output_type": "stream",
     "text": [
      "\n",
      "전위 순회: 8 5 3 2 6 9 \n",
      "중위 순회: 2 3 5 6 8 9 \n",
      "후위 순회: 2 3 6 5 9 8 \n",
      "[레벨 순회]\n",
      "level: 0, key: 8\n",
      "level: 1, key: 5\n",
      "level: 1, key: 9\n",
      "level: 2, key: 3\n",
      "level: 2, key: 6\n",
      "level: 3, key: 2\n"
     ]
    }
   ],
   "source": [
    "bst.delete(4)\n",
    "print('\\n전위 순회:', end=' ')\n",
    "bst.preorder()\n",
    "print('\\n중위 순회:', end=' ')\n",
    "bst.inorder()\n",
    "print('\\n후위 순회:', end=' ')\n",
    "bst.postorder()\n",
    "print('\\n[레벨 순회]')\n",
    "bst.levelorder()"
   ]
  },
  {
   "cell_type": "code",
   "execution_count": 82,
   "metadata": {},
   "outputs": [
    {
     "name": "stdout",
     "output_type": "stream",
     "text": [
      "\n",
      "전위 순회: 8 5 2 6 9 \n",
      "중위 순회: 2 5 6 8 9 \n",
      "후위 순회: 2 6 5 9 8 \n",
      "[레벨 순회]\n",
      "level: 0, key: 8\n",
      "level: 1, key: 5\n",
      "level: 1, key: 9\n",
      "level: 2, key: 2\n",
      "level: 2, key: 6\n"
     ]
    }
   ],
   "source": [
    "bst.delete(3)\n",
    "print('\\n전위 순회:', end=' ')\n",
    "bst.preorder()\n",
    "print('\\n중위 순회:', end=' ')\n",
    "bst.inorder()\n",
    "print('\\n후위 순회:', end=' ')\n",
    "bst.postorder()\n",
    "print('\\n[레벨 순회]')\n",
    "bst.levelorder()"
   ]
  },
  {
   "cell_type": "code",
   "execution_count": 95,
   "metadata": {},
   "outputs": [
    {
     "ename": "AttributeError",
     "evalue": "'Node' object has no attribute 'self'",
     "output_type": "error",
     "traceback": [
      "\u001b[0;31m---------------------------------------------------------------------------\u001b[0m",
      "\u001b[0;31mAttributeError\u001b[0m                            Traceback (most recent call last)",
      "Cell \u001b[0;32mIn[95], line 1\u001b[0m\n\u001b[0;32m----> 1\u001b[0m \u001b[39mprint\u001b[39m(bst\u001b[39m.\u001b[39;49mto_list())\n",
      "Cell \u001b[0;32mIn[73], line 127\u001b[0m, in \u001b[0;36mBinarySearchTree.to_list\u001b[0;34m(self)\u001b[0m\n\u001b[1;32m    126\u001b[0m \u001b[39mdef\u001b[39;00m \u001b[39mto_list\u001b[39m(\u001b[39mself\u001b[39m):\n\u001b[0;32m--> 127\u001b[0m     \u001b[39mreturn\u001b[39;00m \u001b[39mself\u001b[39;49m\u001b[39m.\u001b[39;49m_to_list(\u001b[39mself\u001b[39;49m\u001b[39m.\u001b[39;49mroot)\n",
      "Cell \u001b[0;32mIn[73], line 133\u001b[0m, in \u001b[0;36mBinarySearchTree._to_list\u001b[0;34m(self, node)\u001b[0m\n\u001b[1;32m    130\u001b[0m \u001b[39mif\u001b[39;00m node \u001b[39mis\u001b[39;00m \u001b[39mNone\u001b[39;00m:\n\u001b[1;32m    131\u001b[0m     \u001b[39mreturn\u001b[39;00m []\n\u001b[0;32m--> 133\u001b[0m \u001b[39mreturn\u001b[39;00m \u001b[39mself\u001b[39m\u001b[39m.\u001b[39mto_list(node\u001b[39m.\u001b[39;49mself) \u001b[39m+\u001b[39m [node\u001b[39m.\u001b[39mkey] \u001b[39m+\u001b[39m \u001b[39mself\u001b[39m\u001b[39m.\u001b[39mto_list(node\u001b[39m.\u001b[39mright)\n",
      "\u001b[0;31mAttributeError\u001b[0m: 'Node' object has no attribute 'self'"
     ]
    }
   ],
   "source": [
    "# print(bst.to_list())"
   ]
  },
  {
   "attachments": {},
   "cell_type": "markdown",
   "metadata": {},
   "source": [
    "#### <b>힙(Heap)</b>\n",
    "\n",
    "* <b>우선순위 큐(priority queue)</b> 구현 목적으로 사용된다."
   ]
  },
  {
   "cell_type": "code",
   "execution_count": 98,
   "metadata": {},
   "outputs": [],
   "source": [
    "class Heap(object):\n",
    "    def __init__(self):\n",
    "        # 첫번째 원소는 사용하지 않음\n",
    "        self.arr = [None]\n",
    "\n",
    "    # 원소 삽입(push)\n",
    "    def push(self, x):\n",
    "        # 마지막 위치에 원소를 삽입\n",
    "        self.arr.append(x)\n",
    "        # 첫 원소인 경우 종료\n",
    "        if len(self.arr) == 2:\n",
    "            return\n",
    "        # 값의 크기를 비교하며 부모를 타고 올라감\n",
    "        i = len(self.arr) - 1\n",
    "        while True:\n",
    "            parent = i // 2\n",
    "            # 작은 값을 부모 쪽으로 계속 이동\n",
    "            if 1 <= parent and self.arr[parent] > self.arr[i]:\n",
    "                self.arr[parent], self.arr[i] = self.arr[i], self.arr[parent]\n",
    "                i = parent\n",
    "            else:\n",
    "                break\n",
    "\n",
    "    # 원소 추출(pop)\n",
    "    def pop(self):\n",
    "        # 마지막 원소\n",
    "        i = len(self.arr) - 1\n",
    "        # 남은 원소가 없다면 종료\n",
    "        if i < 1:\n",
    "            return None\n",
    "        # 루트 원소와 마지막 원소를 교체하여, 마지막 원소 추출\n",
    "        self.arr[1], self.arr[i] = self.arr[i], self.arr[1]\n",
    "        result = self.arr.pop()\n",
    "        # 루트(root)에서부터 원소 정렬\n",
    "        self.heapify()\n",
    "        return result\n",
    "\n",
    "    # 루트(root)에서부터 자식 방향으로 내려가며 재정렬\n",
    "    def heapify(self):\n",
    "        # 남은 원소가 1개 이하라면 종료\n",
    "        if len(self.arr) <= 2:\n",
    "            return\n",
    "        # 루트 원소\n",
    "        i = 1\n",
    "        while True:\n",
    "            # 왼쪽 자식\n",
    "            child = 2 * i\n",
    "            # 왼쪽 자식과 오른쪽 자식 중 더 작은 것을 선택\n",
    "            if child + 1 < len(self.arr):\n",
    "                if self.arr[child] > self.arr[child + 1]:\n",
    "                    child += 1\n",
    "            # 더 이상 자식이 없거나, 적절한 위치를 찾은 경우\n",
    "            if child >= len(self.arr) or self.arr[child] > self.arr[i]:\n",
    "                break\n",
    "            # 원소를 교체하며, 자식 방향으로 내려가기\n",
    "            self.arr[i], self.arr[child] = self.arr[child], self.arr[i]\n",
    "            i = child"
   ]
  },
  {
   "cell_type": "code",
   "execution_count": 99,
   "metadata": {},
   "outputs": [
    {
     "name": "stdout",
     "output_type": "stream",
     "text": [
      "1 3 4 5 7 8 9 "
     ]
    }
   ],
   "source": [
    "arr = [9, 1, 5, 4, 3, 8, 7]\n",
    "heap = Heap()\n",
    "\n",
    "for x in arr:\n",
    "    heap.push(x)\n",
    "\n",
    "while True:\n",
    "    x = heap.pop()\n",
    "    if x == None:\n",
    "        break\n",
    "    print(x, end=\" \")"
   ]
  },
  {
   "cell_type": "code",
   "execution_count": 100,
   "metadata": {},
   "outputs": [
    {
     "name": "stdout",
     "output_type": "stream",
     "text": [
      "Elapsed time: 0.5167639255523682 seconds.\n",
      "Sorted: True\n",
      "[35, 40, 42, 63, 77]\n",
      "[999973, 999982, 999982, 999987, 999998]\n"
     ]
    }
   ],
   "source": [
    "import random\n",
    "import time\n",
    "\n",
    "\n",
    "# N개의 무작위 데이터 생성\n",
    "arr = []\n",
    "n = 100000\n",
    "for _ in range(n):\n",
    "\tarr.append(random.randint(0, 1000000))\n",
    "\n",
    "# 시간 측정 시작\n",
    "start_time = time.time()\n",
    "\n",
    "# 힙에 모든 원소 삽입\n",
    "heap = Heap()\n",
    "for x in arr:\n",
    "\theap.push(x)\n",
    "\n",
    "# 힙에서 모든 원소 추출\n",
    "result = []\n",
    "while True:\n",
    "\tx = heap.pop()\n",
    "\tif x == None:\n",
    "\t\tbreak\n",
    "\tresult.append(x)\n",
    "\n",
    "# 시간 측정 종료\n",
    "print(f\"Elapsed time: {time.time() - start_time} seconds.\")\n",
    "\n",
    "# 오름차순 정렬 여부 확인\n",
    "ascending = True\n",
    "for i in range(n - 1):\n",
    "\tif result[i] > result[i + 1]:\n",
    "\t\tascending = False\n",
    "print(\"Sorted:\", ascending)\n",
    "\n",
    "# 가장 작은 5개 원소와 가장 큰 5개 원소 출력\n",
    "print(result[:5])\n",
    "print(result[-5:])"
   ]
  }
 ],
 "metadata": {
  "kernelspec": {
   "display_name": "tf",
   "language": "python",
   "name": "python3"
  },
  "language_info": {
   "codemirror_mode": {
    "name": "ipython",
    "version": 3
   },
   "file_extension": ".py",
   "mimetype": "text/x-python",
   "name": "python",
   "nbconvert_exporter": "python",
   "pygments_lexer": "ipython3",
   "version": "3.10.6"
  },
  "orig_nbformat": 4
 },
 "nbformat": 4,
 "nbformat_minor": 2
}
