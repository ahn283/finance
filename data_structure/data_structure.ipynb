{
 "cells": [
  {
   "attachments": {},
   "cell_type": "markdown",
   "metadata": {},
   "source": [
    "#### <b>배열(Array)</b>\n",
    "\n",
    "* 파이썬(Python)에서 다음과 같이 배열을 초기화할 수 있다."
   ]
  },
  {
   "cell_type": "code",
   "execution_count": 1,
   "metadata": {},
   "outputs": [
    {
     "name": "stdout",
     "output_type": "stream",
     "text": [
      "[0, 0, 0, 0, 0]\n",
      "[0, 1, 2, 3, 4]\n"
     ]
    }
   ],
   "source": [
    "# [0, 0, 0, 0, 0]\n",
    "\n",
    "n = 5\n",
    "arr = [0] * n\n",
    "print(arr)\n",
    "\n",
    "# [0, 1, 2, 3, 4]\n",
    "n = 5\n",
    "arr = [i for i in range(n)]\n",
    "print(arr)"
   ]
  },
  {
   "cell_type": "code",
   "execution_count": 2,
   "metadata": {},
   "outputs": [
    {
     "name": "stdout",
     "output_type": "stream",
     "text": [
      "[[0, 0, 0, 0, 0], [0, 0, 0, 0, 0], [0, 0, 0, 0, 0]]\n"
     ]
    }
   ],
   "source": [
    "n = 3\n",
    "m = 5\n",
    "arr = [[0] * m for i in range(n)]\n",
    "print(arr)"
   ]
  },
  {
   "cell_type": "code",
   "execution_count": 3,
   "metadata": {},
   "outputs": [
    {
     "name": "stdout",
     "output_type": "stream",
     "text": [
      "[[0, 1, 2, 3, 4], [5, 6, 7, 8, 9], [10, 11, 12, 13, 14]]\n"
     ]
    }
   ],
   "source": [
    "n = 3 \n",
    "m = 5\n",
    "arr = [[i * m + j for j in range(m)] for i in range(n)]\n",
    "print(arr)"
   ]
  },
  {
   "cell_type": "code",
   "execution_count": 5,
   "metadata": {},
   "outputs": [
    {
     "name": "stdout",
     "output_type": "stream",
     "text": [
      "[[0, 0, 0, 7, 0], [0, 0, 0, 7, 0], [0, 0, 0, 7, 0]]\n",
      "[[0, 0, 0, 0, 0], [0, 0, 0, 7, 0], [0, 0, 0, 0, 0]]\n"
     ]
    }
   ],
   "source": [
    "n = 3\n",
    "m = 5\n",
    "arr1 = [[0] * m] * n\n",
    "arr2 = [[0] * m for i in range(n)]\n",
    "\n",
    "arr1[1][3] = 7\n",
    "arr2[1][3] = 7\n",
    "\n",
    "print(arr1)\n",
    "print(arr2)"
   ]
  },
  {
   "attachments": {},
   "cell_type": "markdown",
   "metadata": {},
   "source": [
    "#### <b>연결 리스트(Linked List)</b>"
   ]
  },
  {
   "cell_type": "code",
   "execution_count": 12,
   "metadata": {},
   "outputs": [
    {
     "name": "stdout",
     "output_type": "stream",
     "text": [
      "3 5 9 8 5 6 1 7 "
     ]
    }
   ],
   "source": [
    "class Node:\n",
    "    def __init__(self, data):\n",
    "        self.data = data\n",
    "        self.next = None\n",
    "\n",
    "class LinkedList:\n",
    "    def __init__(self):\n",
    "        self.head = None\n",
    "    \n",
    "    # insert node at the end\n",
    "    def append(self, data):\n",
    "        # head is empty\n",
    "        if self.head == None:\n",
    "            self.head = Node(data)\n",
    "            return\n",
    "        # insert node at the end\n",
    "        cur = self.head\n",
    "        while cur.next != None:\n",
    "            cur = cur.next\n",
    "        cur.next = Node(data)\n",
    "\n",
    "    # print out all nodes\n",
    "    def show(self):\n",
    "        cur = self.head\n",
    "        while cur != None:\n",
    "            print(cur.data, end=\" \")\n",
    "            cur = cur.next\n",
    "    \n",
    "    # search specific index node\n",
    "    def search(self, index):\n",
    "        node = self.head\n",
    "        for _ in range(index):\n",
    "            node = node.next\n",
    "        return node\n",
    "    \n",
    "    # insert node at specific index\n",
    "    def insert(self, index, data):\n",
    "        new = Node(data)\n",
    "        # insert at the head\n",
    "        if index == 0:\n",
    "            new.next = self.head\n",
    "            self.head = new\n",
    "            return\n",
    "        # insert at the middle\n",
    "        node = self.search(index - 1)\n",
    "        new.next = node.next\n",
    "        node.next = new\n",
    "        new.node = new\n",
    "    \n",
    "    # delete node at specific index\n",
    "    def remove(self, index):\n",
    "        # delete at the head\n",
    "        if index == 0:\n",
    "            self.head = self.head.next\n",
    "            return\n",
    "        # delete at the middle\n",
    "        node = self.search(index - 1)\n",
    "        node.next = node.next.next\n",
    "\n",
    "linked_list = LinkedList()\n",
    "data_list = [3, 5, 9, 8, 5, 6, 1, 7]\n",
    "\n",
    "for data in data_list:\n",
    "    linked_list.append(data)\n",
    "\n",
    "# print('all nodes : ', end=\" \")\n",
    "linked_list.show()\n"
   ]
  },
  {
   "cell_type": "code",
   "execution_count": 13,
   "metadata": {},
   "outputs": [
    {
     "name": "stdout",
     "output_type": "stream",
     "text": [
      "3 5 9 8 4 5 6 1 7 "
     ]
    }
   ],
   "source": [
    "linked_list.insert(4, 4)\n",
    "linked_list.show()"
   ]
  },
  {
   "cell_type": "code",
   "execution_count": 14,
   "metadata": {},
   "outputs": [
    {
     "name": "stdout",
     "output_type": "stream",
     "text": [
      "3 5 9 8 4 5 6 7 "
     ]
    }
   ],
   "source": [
    "linked_list.remove(7)\n",
    "linked_list.show()"
   ]
  },
  {
   "cell_type": "code",
   "execution_count": 15,
   "metadata": {},
   "outputs": [
    {
     "name": "stdout",
     "output_type": "stream",
     "text": [
      "3 5 9 8 4 5 6 2 7 "
     ]
    }
   ],
   "source": [
    "linked_list.insert(7, 2)\n",
    "linked_list.show()"
   ]
  },
  {
   "attachments": {},
   "cell_type": "markdown",
   "metadata": {},
   "source": [
    "#### <b>파이썬에서의 리스트(List)</b>"
   ]
  },
  {
   "cell_type": "code",
   "execution_count": 16,
   "metadata": {},
   "outputs": [
    {
     "name": "stdout",
     "output_type": "stream",
     "text": [
      "4\n"
     ]
    }
   ],
   "source": [
    "arr = [0, 1, 2, 3, 4, 5, 6, 7, 8, 9]\n",
    "print(arr[4])   # indexing"
   ]
  },
  {
   "cell_type": "code",
   "execution_count": 18,
   "metadata": {},
   "outputs": [
    {
     "data": {
      "text/plain": [
       "[0, 1, 2, 3, 4, 5, 6, 10, 8, 9]"
      ]
     },
     "execution_count": 18,
     "metadata": {},
     "output_type": "execute_result"
    }
   ],
   "source": [
    "# storing\n",
    "arr[7] = 10\n",
    "arr"
   ]
  },
  {
   "cell_type": "code",
   "execution_count": 19,
   "metadata": {},
   "outputs": [
    {
     "data": {
      "text/plain": [
       "[0, 1, 2, 3, 4, 5, 6, 10, 8, 9, 10]"
      ]
     },
     "execution_count": 19,
     "metadata": {},
     "output_type": "execute_result"
    }
   ],
   "source": [
    "# append\n",
    "arr.append(10)\n",
    "arr"
   ]
  },
  {
   "cell_type": "code",
   "execution_count": 20,
   "metadata": {},
   "outputs": [
    {
     "data": {
      "text/plain": [
       "[0, 1, 2, 3, 4, 5, 6, 10, 8, 9]"
      ]
     },
     "execution_count": 20,
     "metadata": {},
     "output_type": "execute_result"
    }
   ],
   "source": [
    "# pop\n",
    "arr.pop()\n",
    "arr"
   ]
  },
  {
   "cell_type": "code",
   "execution_count": 21,
   "metadata": {},
   "outputs": [
    {
     "name": "stdout",
     "output_type": "stream",
     "text": [
      "10\n"
     ]
    }
   ],
   "source": [
    "# length\n",
    "print(len(arr))"
   ]
  },
  {
   "cell_type": "code",
   "execution_count": 22,
   "metadata": {},
   "outputs": [
    {
     "name": "stdout",
     "output_type": "stream",
     "text": [
      "[]\n"
     ]
    }
   ],
   "source": [
    "# clear arrays\n",
    "arr.clear()\n",
    "print(arr)"
   ]
  },
  {
   "cell_type": "code",
   "execution_count": 23,
   "metadata": {},
   "outputs": [
    {
     "name": "stdout",
     "output_type": "stream",
     "text": [
      "[2, 3, 4, 5, 6]\n"
     ]
    }
   ],
   "source": [
    "arr = [0, 1, 2, 3, 4, 5, 6, 7, 8, 9]\n",
    "new_arr = arr[2:7]  # slicing\n",
    "print(new_arr)"
   ]
  },
  {
   "cell_type": "code",
   "execution_count": 24,
   "metadata": {},
   "outputs": [
    {
     "name": "stdout",
     "output_type": "stream",
     "text": [
      "[0, 1, 2, 3, 4, 5, 6, 7, 8, 9]\n",
      "[0, 1, 2, 7, 3, 4]\n",
      "[0, 1, 2, 3, 4]\n",
      "[8, 9, 7]\n"
     ]
    }
   ],
   "source": [
    "arr1 = [0, 1, 2, 3, 4]\n",
    "arr2 = [5, 6, 7, 8, 9]\n",
    "arr1.extend(arr2)   # 확장 (extend)\n",
    "print(arr1)\n",
    "\n",
    "arr = [0, 1, 2, 3, 4]\n",
    "arr.insert(3, 7)    # 삽입 (insert)\n",
    "print(arr)\n",
    "\n",
    "del arr[3]  # 삭제 (deletion)\n",
    "print(arr)\n",
    "\n",
    "data = {7, 8, 9}\n",
    "arr = list(data)    # 다른 자료구조로 리스트 만들기\n",
    "print(arr)"
   ]
  },
  {
   "cell_type": "code",
   "execution_count": 25,
   "metadata": {},
   "outputs": [
    {
     "name": "stdout",
     "output_type": "stream",
     "text": [
      "True\n",
      "True\n",
      "[0, 2, 3, 4]\n",
      "[0, 2, 4]\n",
      "[0, 2, 4]\n"
     ]
    }
   ],
   "source": [
    "arr = [0, 1, 2, 3, 4]\n",
    "\n",
    "print(3 in arr) # 존재 여부(in)\n",
    "print(7 not in arr) # 비존재 여부(not in)\n",
    "\n",
    "arr.pop(1) # 인덱스 1에 해당하는 원소 꺼내기(pop)\n",
    "print(arr)\n",
    "\n",
    "arr.remove(3) # 리스트의 특정 원소 삭제(remove)\n",
    "print(arr)\n",
    "\n",
    "new_arr = arr.copy() # 복제(copy)\n",
    "print(new_arr)"
   ]
  },
  {
   "cell_type": "code",
   "execution_count": 26,
   "metadata": {},
   "outputs": [
    {
     "name": "stdout",
     "output_type": "stream",
     "text": [
      "1\n",
      "5\n",
      "3 5 4 1 2 \n",
      "[3, 5, 4, 1, 2, 3, 5, 4, 1, 2]\n",
      "[1, 2, 3, 4, 5]\n"
     ]
    }
   ],
   "source": [
    "arr = [3, 5, 4, 1, 2]\n",
    "\n",
    "print(min(arr)) # 최소(min)\n",
    "print(max(arr)) # 최대(max)\n",
    "\n",
    "for x in arr: # 원소 순회(iteration)\n",
    "    print(x, end=\" \")\n",
    "print()\n",
    "\n",
    "print(arr * 2) # 리스트 반복하여 곱하기(multiply)\n",
    "\n",
    "arr.sort() # 정렬(sorting)\n",
    "print(arr)"
   ]
  },
  {
   "attachments": {},
   "cell_type": "markdown",
   "metadata": {},
   "source": [
    "#### <b>스택(Stack) - 리스트 자료형을 이용한 구현</b>\n",
    "\n",
    "* 가장 마지막에 들어온 원소가 가장 먼저 추출되는 자료구조다."
   ]
  },
  {
   "cell_type": "code",
   "execution_count": null,
   "metadata": {},
   "outputs": [],
   "source": []
  }
 ],
 "metadata": {
  "kernelspec": {
   "display_name": "tf",
   "language": "python",
   "name": "python3"
  },
  "language_info": {
   "codemirror_mode": {
    "name": "ipython",
    "version": 3
   },
   "file_extension": ".py",
   "mimetype": "text/x-python",
   "name": "python",
   "nbconvert_exporter": "python",
   "pygments_lexer": "ipython3",
   "version": "3.10.6"
  },
  "orig_nbformat": 4
 },
 "nbformat": 4,
 "nbformat_minor": 2
}
