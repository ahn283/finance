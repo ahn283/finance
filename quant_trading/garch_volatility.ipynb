{
 "cells": [
  {
   "cell_type": "code",
   "execution_count": null,
   "metadata": {},
   "outputs": [],
   "source": [
    "# 패키지 임포트\n",
    "import math\n",
    "import numpy as np\n",
    "import pandas as pd\n",
    "import matplotlib.pyplot as plt\n",
    "from scipy.stats import norm\n",
    "from scipy.optimize import minimize, Bounds, LinearConstraint\n",
    "\n",
    "import yfinance as yf\n",
    "from arch import arch_model\n",
    "import scipy"
   ]
  },
  {
   "attachments": {},
   "cell_type": "markdown",
   "metadata": {},
   "source": [
    "### GARCH 모델 함수 구현"
   ]
  },
  {
   "cell_type": "code",
   "execution_count": null,
   "metadata": {},
   "outputs": [],
   "source": [
    "# GARCH(1, 1) 모델 클래스\n",
    "class garchOneOne:\n",
    "\n",
    "    # 초기화 함수\n",
    "    def __init__(self, rets):\n",
    "\n",
    "        # 수익률\n",
    "        self.rets = rets * 100\n",
    "\n",
    "\n",
    "    # GARCH 모델에 기반한 변동성 추정치 산출 함수\n",
    "    "
   ]
  }
 ],
 "metadata": {
  "kernelspec": {
   "display_name": "finance",
   "language": "python",
   "name": "python3"
  },
  "language_info": {
   "name": "python",
   "version": "3.10.9"
  },
  "orig_nbformat": 4,
  "vscode": {
   "interpreter": {
    "hash": "c1c79ae5e603ea8fd64d7fa7103ba6d6dacba3e7755f62b35150c6ed2ddb0827"
   }
  }
 },
 "nbformat": 4,
 "nbformat_minor": 2
}
