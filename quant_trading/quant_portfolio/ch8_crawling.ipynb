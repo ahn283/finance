{
 "cells": [
  {
   "cell_type": "markdown",
   "metadata": {},
   "source": [
    "# GET and POST"
   ]
  },
  {
   "cell_type": "markdown",
   "metadata": {},
   "source": [
    "### GET\n",
    "\n",
    "GET 방식은 인터넷 주소를 기준으로 이에 해당하는 데이터나 파일을 요청하는 것이다. 주로 클라이언트가 요청하는 쿼리를 앰퍼샌드(&) 또는 물음표(?) 형식으로 결합해 서버에 전달한다."
   ]
  },
  {
   "cell_type": "markdown",
   "metadata": {},
   "source": [
    "### POST\n",
    "\n",
    "POST 방식은 사용자가 필요한 값을 추가해서 요청하는 방법이다. GET 방식과 달리 클라이언트가 요청하는 쿼리를 body에 넣어서 전송하므로 요청 내용을 직접 볼 수 없다."
   ]
  },
  {
   "cell_type": "markdown",
   "metadata": {},
   "source": [
    "# Crawling Examples"
   ]
  },
  {
   "cell_type": "markdown",
   "metadata": {},
   "source": [
    "## 명언 크롤링하기\n",
    "\n",
    "[http://quotes.toscrape.com/](http://quotes.toscrape.com/)"
   ]
  },
  {
   "cell_type": "code",
   "execution_count": 2,
   "metadata": {},
   "outputs": [
    {
     "name": "stdout",
     "output_type": "stream",
     "text": [
      "<Response [200]>\n"
     ]
    }
   ],
   "source": [
    "import requests as rq \n",
    "\n",
    "url = 'http://quotes.toscrape.com/'\n",
    "quote = rq.get(url)\n",
    "\n",
    "# response 200 : 데이터 이상 없이 받음\n",
    "print(quote)"
   ]
  },
  {
   "cell_type": "code",
   "execution_count": 3,
   "metadata": {},
   "outputs": [
    {
     "data": {
      "text/plain": [
       "b'<!DOCTYPE html>\\n<html lang=\"en\">\\n<head>\\n\\t<meta charset=\"UTF-8\">\\n\\t<title>Quotes to Scrape</title>\\n    <link rel=\"stylesheet\" href=\"/static/bootstrap.min.css\">\\n    <link rel=\"stylesheet\" href=\"/static/main.css\">\\n</head>\\n<body>\\n    <div class=\"container\">\\n        <div class=\"row header-box\">\\n            <div class=\"col-md-8\">\\n                <h1>\\n                    <a href=\"/\" style=\"text-decoration: none\">Quotes to Scrape</a>\\n                </h1>\\n            </div>\\n            <div class=\"col-md-4\">\\n                <p>\\n                \\n                    <a href=\"/login\">Login</a>\\n                \\n                </p>\\n            </div>\\n        </div>\\n    \\n\\n<div class=\"row\">\\n    <div class=\"col-md-8\">\\n\\n    <div class=\"quote\" itemscope itemtype=\"http://schema.org/CreativeWork\">\\n        <span class=\"text\" itemprop=\"text\">\\xe2\\x80\\x9cThe world as we have created it is a process of our thinking. It cannot be changed without changing our thinking.\\xe2\\x80\\x9d</span>\\n        <span>by <small class=\"author\" it'"
      ]
     },
     "execution_count": 3,
     "metadata": {},
     "output_type": "execute_result"
    }
   ],
   "source": [
    "quote.content[:1000]"
   ]
  },
  {
   "cell_type": "code",
   "execution_count": 5,
   "metadata": {},
   "outputs": [
    {
     "data": {
      "text/plain": [
       "[<meta charset=\"utf-8\"/>,\n",
       " <title>Quotes to Scrape</title>,\n",
       " <link href=\"/static/bootstrap.min.css\" rel=\"stylesheet\"/>,\n",
       " <link href=\"/static/main.css\" rel=\"stylesheet\"/>]"
      ]
     },
     "execution_count": 5,
     "metadata": {},
     "output_type": "execute_result"
    }
   ],
   "source": [
    "# BeautifulSoup() 함수를 이용해 원하는 HTML 요소에 접근하기 쉬운 BeautifulSoup 객체로 변경할 수 있다.\n",
    "from bs4 import BeautifulSoup\n",
    "\n",
    "quote_html = BeautifulSoup(quote.content, 'html.parser')\n",
    "quote_html.head()"
   ]
  },
  {
   "cell_type": "markdown",
   "metadata": {},
   "source": [
    "### `find()` 함수를 이용한 크롤링"
   ]
  },
  {
   "cell_type": "code",
   "execution_count": 6,
   "metadata": {},
   "outputs": [
    {
     "data": {
      "text/plain": [
       "<div class=\"quote\" itemscope=\"\" itemtype=\"http://schema.org/CreativeWork\">\n",
       "<span class=\"text\" itemprop=\"text\">“The world as we have created it is a process of our thinking. It cannot be changed without changing our thinking.”</span>\n",
       "<span>by <small class=\"author\" itemprop=\"author\">Albert Einstein</small>\n",
       "<a href=\"/author/Albert-Einstein\">(about)</a>\n",
       "</span>\n",
       "<div class=\"tags\">\n",
       "            Tags:\n",
       "            <meta class=\"keywords\" content=\"change,deep-thoughts,thinking,world\" itemprop=\"keywords\"/>\n",
       "<a class=\"tag\" href=\"/tag/change/page/1/\">change</a>\n",
       "<a class=\"tag\" href=\"/tag/deep-thoughts/page/1/\">deep-thoughts</a>\n",
       "<a class=\"tag\" href=\"/tag/thinking/page/1/\">thinking</a>\n",
       "<a class=\"tag\" href=\"/tag/world/page/1/\">world</a>\n",
       "</div>\n",
       "</div>"
      ]
     },
     "execution_count": 6,
     "metadata": {},
     "output_type": "execute_result"
    }
   ],
   "source": [
    "# 명언에 해당하는 부분이 [class가 quote인 div 태그 > class가 text인 span 태그]에 위치\n",
    "quote_div = quote_html.find_all('div', class_='quote')\n",
    "quote_div[0]"
   ]
  },
  {
   "cell_type": "code",
   "execution_count": 8,
   "metadata": {},
   "outputs": [
    {
     "data": {
      "text/plain": [
       "[<span class=\"text\" itemprop=\"text\">“The world as we have created it is a process of our thinking. It cannot be changed without changing our thinking.”</span>]"
      ]
     },
     "execution_count": 8,
     "metadata": {},
     "output_type": "execute_result"
    }
   ],
   "source": [
    "# class가 text인 span 태그\n",
    "quote_span = quote_div[0].find_all('span', class_='text')\n",
    "\n",
    "quote_span"
   ]
  },
  {
   "cell_type": "code",
   "execution_count": 11,
   "metadata": {},
   "outputs": [
    {
     "data": {
      "text/plain": [
       "'“The world as we have created it is a process of our thinking. It cannot be changed without changing our thinking.”'"
      ]
     },
     "execution_count": 11,
     "metadata": {},
     "output_type": "execute_result"
    }
   ],
   "source": [
    "# .text를 입력하면 텍스트 데이터만을 출력할 수 있다.\n",
    "quote_span[0].text"
   ]
  },
  {
   "cell_type": "code",
   "execution_count": 12,
   "metadata": {},
   "outputs": [
    {
     "data": {
      "text/plain": [
       "[<div class=\"quote\" itemscope=\"\" itemtype=\"http://schema.org/CreativeWork\">\n",
       " <span class=\"text\" itemprop=\"text\">“The world as we have created it is a process of our thinking. It cannot be changed without changing our thinking.”</span>\n",
       " <span>by <small class=\"author\" itemprop=\"author\">Albert Einstein</small>\n",
       " <a href=\"/author/Albert-Einstein\">(about)</a>\n",
       " </span>\n",
       " <div class=\"tags\">\n",
       "             Tags:\n",
       "             <meta class=\"keywords\" content=\"change,deep-thoughts,thinking,world\" itemprop=\"keywords\"/>\n",
       " <a class=\"tag\" href=\"/tag/change/page/1/\">change</a>\n",
       " <a class=\"tag\" href=\"/tag/deep-thoughts/page/1/\">deep-thoughts</a>\n",
       " <a class=\"tag\" href=\"/tag/thinking/page/1/\">thinking</a>\n",
       " <a class=\"tag\" href=\"/tag/world/page/1/\">world</a>\n",
       " </div>\n",
       " </div>,\n",
       " <div class=\"quote\" itemscope=\"\" itemtype=\"http://schema.org/CreativeWork\">\n",
       " <span class=\"text\" itemprop=\"text\">“It is our choices, Harry, that show what we truly are, far more than our abilities.”</span>\n",
       " <span>by <small class=\"author\" itemprop=\"author\">J.K. Rowling</small>\n",
       " <a href=\"/author/J-K-Rowling\">(about)</a>\n",
       " </span>\n",
       " <div class=\"tags\">\n",
       "             Tags:\n",
       "             <meta class=\"keywords\" content=\"abilities,choices\" itemprop=\"keywords\"/>\n",
       " <a class=\"tag\" href=\"/tag/abilities/page/1/\">abilities</a>\n",
       " <a class=\"tag\" href=\"/tag/choices/page/1/\">choices</a>\n",
       " </div>\n",
       " </div>,\n",
       " <div class=\"quote\" itemscope=\"\" itemtype=\"http://schema.org/CreativeWork\">\n",
       " <span class=\"text\" itemprop=\"text\">“There are only two ways to live your life. One is as though nothing is a miracle. The other is as though everything is a miracle.”</span>\n",
       " <span>by <small class=\"author\" itemprop=\"author\">Albert Einstein</small>\n",
       " <a href=\"/author/Albert-Einstein\">(about)</a>\n",
       " </span>\n",
       " <div class=\"tags\">\n",
       "             Tags:\n",
       "             <meta class=\"keywords\" content=\"inspirational,life,live,miracle,miracles\" itemprop=\"keywords\"/>\n",
       " <a class=\"tag\" href=\"/tag/inspirational/page/1/\">inspirational</a>\n",
       " <a class=\"tag\" href=\"/tag/life/page/1/\">life</a>\n",
       " <a class=\"tag\" href=\"/tag/live/page/1/\">live</a>\n",
       " <a class=\"tag\" href=\"/tag/miracle/page/1/\">miracle</a>\n",
       " <a class=\"tag\" href=\"/tag/miracles/page/1/\">miracles</a>\n",
       " </div>\n",
       " </div>,\n",
       " <div class=\"quote\" itemscope=\"\" itemtype=\"http://schema.org/CreativeWork\">\n",
       " <span class=\"text\" itemprop=\"text\">“The person, be it gentleman or lady, who has not pleasure in a good novel, must be intolerably stupid.”</span>\n",
       " <span>by <small class=\"author\" itemprop=\"author\">Jane Austen</small>\n",
       " <a href=\"/author/Jane-Austen\">(about)</a>\n",
       " </span>\n",
       " <div class=\"tags\">\n",
       "             Tags:\n",
       "             <meta class=\"keywords\" content=\"aliteracy,books,classic,humor\" itemprop=\"keywords\"/>\n",
       " <a class=\"tag\" href=\"/tag/aliteracy/page/1/\">aliteracy</a>\n",
       " <a class=\"tag\" href=\"/tag/books/page/1/\">books</a>\n",
       " <a class=\"tag\" href=\"/tag/classic/page/1/\">classic</a>\n",
       " <a class=\"tag\" href=\"/tag/humor/page/1/\">humor</a>\n",
       " </div>\n",
       " </div>,\n",
       " <div class=\"quote\" itemscope=\"\" itemtype=\"http://schema.org/CreativeWork\">\n",
       " <span class=\"text\" itemprop=\"text\">“Imperfection is beauty, madness is genius and it's better to be absolutely ridiculous than absolutely boring.”</span>\n",
       " <span>by <small class=\"author\" itemprop=\"author\">Marilyn Monroe</small>\n",
       " <a href=\"/author/Marilyn-Monroe\">(about)</a>\n",
       " </span>\n",
       " <div class=\"tags\">\n",
       "             Tags:\n",
       "             <meta class=\"keywords\" content=\"be-yourself,inspirational\" itemprop=\"keywords\"/>\n",
       " <a class=\"tag\" href=\"/tag/be-yourself/page/1/\">be-yourself</a>\n",
       " <a class=\"tag\" href=\"/tag/inspirational/page/1/\">inspirational</a>\n",
       " </div>\n",
       " </div>,\n",
       " <div class=\"quote\" itemscope=\"\" itemtype=\"http://schema.org/CreativeWork\">\n",
       " <span class=\"text\" itemprop=\"text\">“Try not to become a man of success. Rather become a man of value.”</span>\n",
       " <span>by <small class=\"author\" itemprop=\"author\">Albert Einstein</small>\n",
       " <a href=\"/author/Albert-Einstein\">(about)</a>\n",
       " </span>\n",
       " <div class=\"tags\">\n",
       "             Tags:\n",
       "             <meta class=\"keywords\" content=\"adulthood,success,value\" itemprop=\"keywords\"/>\n",
       " <a class=\"tag\" href=\"/tag/adulthood/page/1/\">adulthood</a>\n",
       " <a class=\"tag\" href=\"/tag/success/page/1/\">success</a>\n",
       " <a class=\"tag\" href=\"/tag/value/page/1/\">value</a>\n",
       " </div>\n",
       " </div>,\n",
       " <div class=\"quote\" itemscope=\"\" itemtype=\"http://schema.org/CreativeWork\">\n",
       " <span class=\"text\" itemprop=\"text\">“It is better to be hated for what you are than to be loved for what you are not.”</span>\n",
       " <span>by <small class=\"author\" itemprop=\"author\">André Gide</small>\n",
       " <a href=\"/author/Andre-Gide\">(about)</a>\n",
       " </span>\n",
       " <div class=\"tags\">\n",
       "             Tags:\n",
       "             <meta class=\"keywords\" content=\"life,love\" itemprop=\"keywords\"/>\n",
       " <a class=\"tag\" href=\"/tag/life/page/1/\">life</a>\n",
       " <a class=\"tag\" href=\"/tag/love/page/1/\">love</a>\n",
       " </div>\n",
       " </div>,\n",
       " <div class=\"quote\" itemscope=\"\" itemtype=\"http://schema.org/CreativeWork\">\n",
       " <span class=\"text\" itemprop=\"text\">“I have not failed. I've just found 10,000 ways that won't work.”</span>\n",
       " <span>by <small class=\"author\" itemprop=\"author\">Thomas A. Edison</small>\n",
       " <a href=\"/author/Thomas-A-Edison\">(about)</a>\n",
       " </span>\n",
       " <div class=\"tags\">\n",
       "             Tags:\n",
       "             <meta class=\"keywords\" content=\"edison,failure,inspirational,paraphrased\" itemprop=\"keywords\"/>\n",
       " <a class=\"tag\" href=\"/tag/edison/page/1/\">edison</a>\n",
       " <a class=\"tag\" href=\"/tag/failure/page/1/\">failure</a>\n",
       " <a class=\"tag\" href=\"/tag/inspirational/page/1/\">inspirational</a>\n",
       " <a class=\"tag\" href=\"/tag/paraphrased/page/1/\">paraphrased</a>\n",
       " </div>\n",
       " </div>,\n",
       " <div class=\"quote\" itemscope=\"\" itemtype=\"http://schema.org/CreativeWork\">\n",
       " <span class=\"text\" itemprop=\"text\">“A woman is like a tea bag; you never know how strong it is until it's in hot water.”</span>\n",
       " <span>by <small class=\"author\" itemprop=\"author\">Eleanor Roosevelt</small>\n",
       " <a href=\"/author/Eleanor-Roosevelt\">(about)</a>\n",
       " </span>\n",
       " <div class=\"tags\">\n",
       "             Tags:\n",
       "             <meta class=\"keywords\" content=\"misattributed-eleanor-roosevelt\" itemprop=\"keywords\"/>\n",
       " <a class=\"tag\" href=\"/tag/misattributed-eleanor-roosevelt/page/1/\">misattributed-eleanor-roosevelt</a>\n",
       " </div>\n",
       " </div>,\n",
       " <div class=\"quote\" itemscope=\"\" itemtype=\"http://schema.org/CreativeWork\">\n",
       " <span class=\"text\" itemprop=\"text\">“A day without sunshine is like, you know, night.”</span>\n",
       " <span>by <small class=\"author\" itemprop=\"author\">Steve Martin</small>\n",
       " <a href=\"/author/Steve-Martin\">(about)</a>\n",
       " </span>\n",
       " <div class=\"tags\">\n",
       "             Tags:\n",
       "             <meta class=\"keywords\" content=\"humor,obvious,simile\" itemprop=\"keywords\"/>\n",
       " <a class=\"tag\" href=\"/tag/humor/page/1/\">humor</a>\n",
       " <a class=\"tag\" href=\"/tag/obvious/page/1/\">obvious</a>\n",
       " <a class=\"tag\" href=\"/tag/simile/page/1/\">simile</a>\n",
       " </div>\n",
       " </div>]"
      ]
     },
     "execution_count": 12,
     "metadata": {},
     "output_type": "execute_result"
    }
   ],
   "source": [
    "# for문 중에 리스트 내포 형태를 이용하면 명언에 해당하는 부분을 한번에 추출할 수 있음\n",
    "quote_div = quote_html.find_all('div', class_='quote')\n",
    "\n",
    "quote_div"
   ]
  },
  {
   "cell_type": "code",
   "execution_count": 13,
   "metadata": {},
   "outputs": [
    {
     "data": {
      "text/plain": [
       "['“The world as we have created it is a process of our thinking. It cannot be changed without changing our thinking.”',\n",
       " '“It is our choices, Harry, that show what we truly are, far more than our abilities.”',\n",
       " '“There are only two ways to live your life. One is as though nothing is a miracle. The other is as though everything is a miracle.”',\n",
       " '“The person, be it gentleman or lady, who has not pleasure in a good novel, must be intolerably stupid.”',\n",
       " \"“Imperfection is beauty, madness is genius and it's better to be absolutely ridiculous than absolutely boring.”\",\n",
       " '“Try not to become a man of success. Rather become a man of value.”',\n",
       " '“It is better to be hated for what you are than to be loved for what you are not.”',\n",
       " \"“I have not failed. I've just found 10,000 ways that won't work.”\",\n",
       " \"“A woman is like a tea bag; you never know how strong it is until it's in hot water.”\",\n",
       " '“A day without sunshine is like, you know, night.”']"
      ]
     },
     "execution_count": 13,
     "metadata": {},
     "output_type": "execute_result"
    }
   ],
   "source": [
    "[i.find_all('span', class_='text')[0].text for i in quote_div]"
   ]
  },
  {
   "cell_type": "markdown",
   "metadata": {},
   "source": [
    "### `select()` 함수를 이용한 크롤링"
   ]
  },
  {
   "cell_type": "code",
   "execution_count": 14,
   "metadata": {},
   "outputs": [
    {
     "data": {
      "text/plain": [
       "[<span class=\"text\" itemprop=\"text\">“The world as we have created it is a process of our thinking. It cannot be changed without changing our thinking.”</span>,\n",
       " <span class=\"text\" itemprop=\"text\">“It is our choices, Harry, that show what we truly are, far more than our abilities.”</span>,\n",
       " <span class=\"text\" itemprop=\"text\">“There are only two ways to live your life. One is as though nothing is a miracle. The other is as though everything is a miracle.”</span>,\n",
       " <span class=\"text\" itemprop=\"text\">“The person, be it gentleman or lady, who has not pleasure in a good novel, must be intolerably stupid.”</span>,\n",
       " <span class=\"text\" itemprop=\"text\">“Imperfection is beauty, madness is genius and it's better to be absolutely ridiculous than absolutely boring.”</span>,\n",
       " <span class=\"text\" itemprop=\"text\">“Try not to become a man of success. Rather become a man of value.”</span>,\n",
       " <span class=\"text\" itemprop=\"text\">“It is better to be hated for what you are than to be loved for what you are not.”</span>,\n",
       " <span class=\"text\" itemprop=\"text\">“I have not failed. I've just found 10,000 ways that won't work.”</span>,\n",
       " <span class=\"text\" itemprop=\"text\">“A woman is like a tea bag; you never know how strong it is until it's in hot water.”</span>,\n",
       " <span class=\"text\" itemprop=\"text\">“A day without sunshine is like, you know, night.”</span>]"
      ]
     },
     "execution_count": 14,
     "metadata": {},
     "output_type": "execute_result"
    }
   ],
   "source": [
    "quote_text = quote_html.select('div.quote > span.text')\n",
    "quote_text"
   ]
  },
  {
   "cell_type": "code",
   "execution_count": 15,
   "metadata": {},
   "outputs": [
    {
     "data": {
      "text/plain": [
       "['“The world as we have created it is a process of our thinking. It cannot be changed without changing our thinking.”',\n",
       " '“It is our choices, Harry, that show what we truly are, far more than our abilities.”',\n",
       " '“There are only two ways to live your life. One is as though nothing is a miracle. The other is as though everything is a miracle.”',\n",
       " '“The person, be it gentleman or lady, who has not pleasure in a good novel, must be intolerably stupid.”',\n",
       " \"“Imperfection is beauty, madness is genius and it's better to be absolutely ridiculous than absolutely boring.”\",\n",
       " '“Try not to become a man of success. Rather become a man of value.”',\n",
       " '“It is better to be hated for what you are than to be loved for what you are not.”',\n",
       " \"“I have not failed. I've just found 10,000 ways that won't work.”\",\n",
       " \"“A woman is like a tea bag; you never know how strong it is until it's in hot water.”\",\n",
       " '“A day without sunshine is like, you know, night.”']"
      ]
     },
     "execution_count": 15,
     "metadata": {},
     "output_type": "execute_result"
    }
   ],
   "source": [
    "quote_text_list = [i.text for i in quote_text]\n",
    "\n",
    "quote_text_list"
   ]
  },
  {
   "cell_type": "code",
   "execution_count": 16,
   "metadata": {},
   "outputs": [
    {
     "data": {
      "text/plain": [
       "['Albert Einstein',\n",
       " 'J.K. Rowling',\n",
       " 'Albert Einstein',\n",
       " 'Jane Austen',\n",
       " 'Marilyn Monroe',\n",
       " 'Albert Einstein',\n",
       " 'André Gide',\n",
       " 'Thomas A. Edison',\n",
       " 'Eleanor Roosevelt',\n",
       " 'Steve Martin']"
      ]
     },
     "execution_count": 16,
     "metadata": {},
     "output_type": "execute_result"
    }
   ],
   "source": [
    "# 명언을 말한 사람 크롤링\n",
    "quote_author = quote_html.select('div.quote > span > small.author')\n",
    "quote_author_list = [i.text for i in quote_author]\n",
    "\n",
    "quote_author_list"
   ]
  },
  {
   "cell_type": "code",
   "execution_count": 17,
   "metadata": {},
   "outputs": [
    {
     "data": {
      "text/plain": [
       "[<a href=\"/author/Albert-Einstein\">(about)</a>,\n",
       " <a href=\"/author/J-K-Rowling\">(about)</a>,\n",
       " <a href=\"/author/Albert-Einstein\">(about)</a>,\n",
       " <a href=\"/author/Jane-Austen\">(about)</a>,\n",
       " <a href=\"/author/Marilyn-Monroe\">(about)</a>,\n",
       " <a href=\"/author/Albert-Einstein\">(about)</a>,\n",
       " <a href=\"/author/Andre-Gide\">(about)</a>,\n",
       " <a href=\"/author/Thomas-A-Edison\">(about)</a>,\n",
       " <a href=\"/author/Eleanor-Roosevelt\">(about)</a>,\n",
       " <a href=\"/author/Steve-Martin\">(about)</a>]"
      ]
     },
     "execution_count": 17,
     "metadata": {},
     "output_type": "execute_result"
    }
   ],
   "source": [
    "# about 정보 크롤링\n",
    "quote_link = quote_html.select('div.quote > span > a')\n",
    "\n",
    "quote_link"
   ]
  },
  {
   "cell_type": "code",
   "execution_count": 18,
   "metadata": {},
   "outputs": [
    {
     "data": {
      "text/plain": [
       "'/author/Albert-Einstein'"
      ]
     },
     "execution_count": 18,
     "metadata": {},
     "output_type": "execute_result"
    }
   ],
   "source": [
    "# 이 중 우리는 속성값에 해당하는 정보만 필요\n",
    "quote_link[0]['href']"
   ]
  },
  {
   "cell_type": "code",
   "execution_count": 19,
   "metadata": {},
   "outputs": [
    {
     "data": {
      "text/plain": [
       "['http://quotes.toscrape.com/author/Albert-Einstein',\n",
       " 'http://quotes.toscrape.com/author/J-K-Rowling',\n",
       " 'http://quotes.toscrape.com/author/Albert-Einstein',\n",
       " 'http://quotes.toscrape.com/author/Jane-Austen',\n",
       " 'http://quotes.toscrape.com/author/Marilyn-Monroe',\n",
       " 'http://quotes.toscrape.com/author/Albert-Einstein',\n",
       " 'http://quotes.toscrape.com/author/Andre-Gide',\n",
       " 'http://quotes.toscrape.com/author/Thomas-A-Edison',\n",
       " 'http://quotes.toscrape.com/author/Eleanor-Roosevelt',\n",
       " 'http://quotes.toscrape.com/author/Steve-Martin']"
      ]
     },
     "execution_count": 19,
     "metadata": {},
     "output_type": "execute_result"
    }
   ],
   "source": [
    "# 모든 속성값을 한번에 추출한 후 URL을 만들기 위해 주소 부분도 결합\n",
    "['http://quotes.toscrape.com' + i['href'] for i in quote_link]"
   ]
  },
  {
   "cell_type": "markdown",
   "metadata": {},
   "source": [
    "### 모든 페이지 데이터 크롤링하기"
   ]
  },
  {
   "cell_type": "code",
   "execution_count": 30,
   "metadata": {},
   "outputs": [],
   "source": [
    "import requests as rq \n",
    "from bs4 import BeautifulSoup\n",
    "import time\n",
    "\n",
    "# 명언과 말한 사람, 링크가 들어간 빈 리스트(text_list, author_list, infor_list)\n",
    "text_list = []\n",
    "author_list = []\n",
    "infor_list = []\n",
    "\n",
    "# 1부터 100까지 적용하여 URL을 생성\n",
    "for i in range(1, 100):\n",
    "    \n",
    "    url = f'http://quotes.toscrape.com/page/{i}/'\n",
    "    quote = rq.get(url)\n",
    "    \n",
    "    # HTML 정보를 받아 온 후 BeautifulSoup() 함수를 통해 파싱\n",
    "    quote_html = BeautifulSoup(quote.content, 'html.parser')\n",
    "    \n",
    "    # 명언과 말한 사람, 링크에 해당하는 내용을 각각 추출\n",
    "    quote_text = quote_html.select('div.quote > span.text')\n",
    "    quote_author_list = [i.text for i in quote_text]\n",
    "    \n",
    "    quote_author = quote_html.select('div.quote > span > small.author')\n",
    "    quote_author_list = [i.text for i in quote_author]\n",
    "    \n",
    "    quote_link = quote_html.select('div.quote > span > a')\n",
    "    quote_link_list = ['http://quotes.toscrape.com' + i['href'] for i in quote_link]\n",
    "    \n",
    "    if len(quote_text_list) > 0:\n",
    "        \n",
    "        # print(quote_text_list)\n",
    "        text_list.extend(quote_text_list)\n",
    "        # print(quote_author_list)\n",
    "        author_list.extend(quote_author_list)\n",
    "        infor_list.extend(quote_link_list)\n",
    "        # 한 번 루프가 돌때마다 1초간 정지\n",
    "        time.sleep(1)\n",
    "    \n",
    "    else:\n",
    "        break\n",
    "    "
   ]
  },
  {
   "cell_type": "code",
   "execution_count": 31,
   "metadata": {},
   "outputs": [
    {
     "data": {
      "text/plain": [
       "(100, 100, 100)"
      ]
     },
     "execution_count": 31,
     "metadata": {},
     "output_type": "execute_result"
    }
   ],
   "source": [
    "len(text_list[:100]), len(author_list), len(infor_list)"
   ]
  },
  {
   "cell_type": "code",
   "execution_count": 33,
   "metadata": {},
   "outputs": [
    {
     "data": {
      "text/html": [
       "<div>\n",
       "<style scoped>\n",
       "    .dataframe tbody tr th:only-of-type {\n",
       "        vertical-align: middle;\n",
       "    }\n",
       "\n",
       "    .dataframe tbody tr th {\n",
       "        vertical-align: top;\n",
       "    }\n",
       "\n",
       "    .dataframe thead th {\n",
       "        text-align: right;\n",
       "    }\n",
       "</style>\n",
       "<table border=\"1\" class=\"dataframe\">\n",
       "  <thead>\n",
       "    <tr style=\"text-align: right;\">\n",
       "      <th></th>\n",
       "      <th>text</th>\n",
       "      <th>author</th>\n",
       "      <th>infor</th>\n",
       "    </tr>\n",
       "  </thead>\n",
       "  <tbody>\n",
       "    <tr>\n",
       "      <th>0</th>\n",
       "      <td>“The world as we have created it is a process ...</td>\n",
       "      <td>Albert Einstein</td>\n",
       "      <td>http://quotes.toscrape.com/author/Albert-Einstein</td>\n",
       "    </tr>\n",
       "    <tr>\n",
       "      <th>1</th>\n",
       "      <td>“It is our choices, Harry, that show what we t...</td>\n",
       "      <td>J.K. Rowling</td>\n",
       "      <td>http://quotes.toscrape.com/author/J-K-Rowling</td>\n",
       "    </tr>\n",
       "    <tr>\n",
       "      <th>2</th>\n",
       "      <td>“There are only two ways to live your life. On...</td>\n",
       "      <td>Albert Einstein</td>\n",
       "      <td>http://quotes.toscrape.com/author/Albert-Einstein</td>\n",
       "    </tr>\n",
       "    <tr>\n",
       "      <th>3</th>\n",
       "      <td>“The person, be it gentleman or lady, who has ...</td>\n",
       "      <td>Jane Austen</td>\n",
       "      <td>http://quotes.toscrape.com/author/Jane-Austen</td>\n",
       "    </tr>\n",
       "    <tr>\n",
       "      <th>4</th>\n",
       "      <td>“Imperfection is beauty, madness is genius and...</td>\n",
       "      <td>Marilyn Monroe</td>\n",
       "      <td>http://quotes.toscrape.com/author/Marilyn-Monroe</td>\n",
       "    </tr>\n",
       "    <tr>\n",
       "      <th>...</th>\n",
       "      <td>...</td>\n",
       "      <td>...</td>\n",
       "      <td>...</td>\n",
       "    </tr>\n",
       "    <tr>\n",
       "      <th>95</th>\n",
       "      <td>“Try not to become a man of success. Rather be...</td>\n",
       "      <td>Harper Lee</td>\n",
       "      <td>http://quotes.toscrape.com/author/Harper-Lee</td>\n",
       "    </tr>\n",
       "    <tr>\n",
       "      <th>96</th>\n",
       "      <td>“It is better to be hated for what you are tha...</td>\n",
       "      <td>Madeleine L'Engle</td>\n",
       "      <td>http://quotes.toscrape.com/author/Madeleine-LE...</td>\n",
       "    </tr>\n",
       "    <tr>\n",
       "      <th>97</th>\n",
       "      <td>“I have not failed. I've just found 10,000 way...</td>\n",
       "      <td>Mark Twain</td>\n",
       "      <td>http://quotes.toscrape.com/author/Mark-Twain</td>\n",
       "    </tr>\n",
       "    <tr>\n",
       "      <th>98</th>\n",
       "      <td>“A woman is like a tea bag; you never know how...</td>\n",
       "      <td>Dr. Seuss</td>\n",
       "      <td>http://quotes.toscrape.com/author/Dr-Seuss</td>\n",
       "    </tr>\n",
       "    <tr>\n",
       "      <th>99</th>\n",
       "      <td>“A day without sunshine is like, you know, nig...</td>\n",
       "      <td>George R.R. Martin</td>\n",
       "      <td>http://quotes.toscrape.com/author/George-R-R-M...</td>\n",
       "    </tr>\n",
       "  </tbody>\n",
       "</table>\n",
       "<p>100 rows × 3 columns</p>\n",
       "</div>"
      ],
      "text/plain": [
       "                                                 text              author  \\\n",
       "0   “The world as we have created it is a process ...     Albert Einstein   \n",
       "1   “It is our choices, Harry, that show what we t...        J.K. Rowling   \n",
       "2   “There are only two ways to live your life. On...     Albert Einstein   \n",
       "3   “The person, be it gentleman or lady, who has ...         Jane Austen   \n",
       "4   “Imperfection is beauty, madness is genius and...      Marilyn Monroe   \n",
       "..                                                ...                 ...   \n",
       "95  “Try not to become a man of success. Rather be...          Harper Lee   \n",
       "96  “It is better to be hated for what you are tha...   Madeleine L'Engle   \n",
       "97  “I have not failed. I've just found 10,000 way...          Mark Twain   \n",
       "98  “A woman is like a tea bag; you never know how...           Dr. Seuss   \n",
       "99  “A day without sunshine is like, you know, nig...  George R.R. Martin   \n",
       "\n",
       "                                                infor  \n",
       "0   http://quotes.toscrape.com/author/Albert-Einstein  \n",
       "1       http://quotes.toscrape.com/author/J-K-Rowling  \n",
       "2   http://quotes.toscrape.com/author/Albert-Einstein  \n",
       "3       http://quotes.toscrape.com/author/Jane-Austen  \n",
       "4    http://quotes.toscrape.com/author/Marilyn-Monroe  \n",
       "..                                                ...  \n",
       "95       http://quotes.toscrape.com/author/Harper-Lee  \n",
       "96  http://quotes.toscrape.com/author/Madeleine-LE...  \n",
       "97       http://quotes.toscrape.com/author/Mark-Twain  \n",
       "98         http://quotes.toscrape.com/author/Dr-Seuss  \n",
       "99  http://quotes.toscrape.com/author/George-R-R-M...  \n",
       "\n",
       "[100 rows x 3 columns]"
      ]
     },
     "execution_count": 33,
     "metadata": {},
     "output_type": "execute_result"
    }
   ],
   "source": [
    "import pandas as pd\n",
    "\n",
    "df = pd.DataFrame({\n",
    "    'text': text_list[:100],\n",
    "    'author': author_list,\n",
    "    'infor': infor_list\n",
    "})\n",
    "df"
   ]
  },
  {
   "cell_type": "markdown",
   "metadata": {},
   "source": [
    "## 금융 속보 크롤링\n",
    "\n",
    "[https://finance.naver.com/news/news_list.naver?mode=LSS2D&section_id=101&section_id2=258](https://finance.naver.com/news/news_list.naver?mode=LSS2D&section_id=101&section_id2=258)"
   ]
  },
  {
   "cell_type": "code",
   "execution_count": 1,
   "metadata": {},
   "outputs": [],
   "source": [
    "import requests as rq \n",
    "from bs4 import BeautifulSoup"
   ]
  },
  {
   "cell_type": "code",
   "execution_count": 2,
   "metadata": {},
   "outputs": [
    {
     "data": {
      "text/plain": [
       "[<a href=\"/news/news_read.naver?article_id=0004263960&amp;office_id=011&amp;mode=LSS2D&amp;type=0§ion_id=101§ion_id2=258§ion_id3=&amp;date=20231120&amp;page=1\" title=\"공매도 금지했는데…개미, 해외로 '머니 무브'\">공매도 금지했는데…개미, 해외로 '머니 무브'</a>,\n",
       " <a href=\"/news/news_read.naver?article_id=0000771235&amp;office_id=469&amp;mode=LSS2D&amp;type=0§ion_id=101§ion_id2=258§ion_id3=&amp;date=20231120&amp;page=1\" title=\"은행 연말까지 '상생 보따리' 풀어놓는다... 2조 수준일 듯\">은행 연말까지 '상생 보따리' 풀어놓는다... 2조 수준일 듯</a>,\n",
       " <a href=\"/news/news_read.naver?article_id=0001653465&amp;office_id=005&amp;mode=LSS2D&amp;type=0§ion_id=101§ion_id2=258§ion_id3=&amp;date=20231120&amp;page=1\" title=\"HJ중공업, 4년 치 일감 확보…수주 잔액만 7조4000억원\">HJ중공업, 4년 치 일감 확보…수주 잔액만 7조4000억원</a>]"
      ]
     },
     "execution_count": 2,
     "metadata": {},
     "output_type": "execute_result"
    }
   ],
   "source": [
    "url = 'https://finance.naver.com/news/news_list.naver?mode=LSS2D&section_id=101&section_id2=258'\n",
    "data = rq.get(url)\n",
    "html = BeautifulSoup(data.content, 'html.parser')\n",
    "html_select = html.select('dl > dd.articleSubject > a')\n",
    "\n",
    "html_select[0:3]"
   ]
  },
  {
   "cell_type": "code",
   "execution_count": 4,
   "metadata": {},
   "outputs": [
    {
     "data": {
      "text/plain": [
       "\"공매도 금지했는데…개미, 해외로 '머니 무브'\""
      ]
     },
     "execution_count": 4,
     "metadata": {},
     "output_type": "execute_result"
    }
   ],
   "source": [
    "html_select[0]['title']"
   ]
  },
  {
   "cell_type": "code",
   "execution_count": 5,
   "metadata": {},
   "outputs": [
    {
     "data": {
      "text/plain": [
       "[\"공매도 금지했는데…개미, 해외로 '머니 무브'\",\n",
       " \"은행 연말까지 '상생 보따리' 풀어놓는다... 2조 수준일 듯\",\n",
       " 'HJ중공업, 4년 치 일감 확보…수주 잔액만 7조4000억원',\n",
       " \"샘 알트먼 소식에 20% 급등락…'유명무실' 월드코인 널뛰기\",\n",
       " '제10회 금융투자협회장배 자선야구대회 폐막 [뉴스+현장]',\n",
       " '\"봤노라, 이겼노라, 올랐노라\" [마켓플러스]',\n",
       " \"'파두 사태' 해결 의지 있나…시한폭탄 더 있다 [이슈플러스]\",\n",
       " '\\'원-메리츠 1주년\\' 지주 중심 경영 발표...\"재무 유연성 극대화\"',\n",
       " \"은행권 연내 상생금융 발표…'횡재세 대체' 2조 육박할 듯(종합)\",\n",
       " '김장 물가 잡았다지만…식당들 기댈 곳은 여전히 ‘수입산 김치’',\n",
       " '[속보]메리츠증권·화재 신임 대표이사에 장원재·김중현',\n",
       " '[속보]메리츠금융지주, 부채·운용 부문 신설…김용범·최희문 부문장',\n",
       " '엔비디아 실적, 배드뉴스 변곡점 될까 [주간이슈캘린더]',\n",
       " '\"오픈AI 떠나는 올트먼, MS로 자리 옮긴다\"',\n",
       " \"IPO 첫 집단소송 '일파만파' …해외 사례 살펴보니\",\n",
       " '메리츠證, 14년만에 새 CEO…장원재 사장 선임',\n",
       " '메리츠證. \\'13년 장수 CEO\\' 최희문 교체...\"내부통제 강화\"']"
      ]
     },
     "execution_count": 5,
     "metadata": {},
     "output_type": "execute_result"
    }
   ],
   "source": [
    "# for 문으로 한번에 제목들 추출\n",
    "[i['title'] for i in html_select]"
   ]
  },
  {
   "cell_type": "markdown",
   "metadata": {},
   "source": [
    "## 표 크롤링하기"
   ]
  },
  {
   "cell_type": "markdown",
   "metadata": {},
   "source": [
    "[https://en.wikipedia.org/wiki/List_of_countries_by_stock_market_capitalization](https://en.wikipedia.org/wiki/List_of_countries_by_stock_market_capitalization)"
   ]
  },
  {
   "cell_type": "code",
   "execution_count": 6,
   "metadata": {},
   "outputs": [
    {
     "data": {
      "text/plain": [
       "[          Country Total market cap (in mil. US$)[2]  \\\n",
       " 0   United States                          44719661   \n",
       " 1           China                          13214311   \n",
       " 2           Japan                           6718220   \n",
       " 3       Hong Kong                           6130420   \n",
       " 4           India                      3,612,985[5]   \n",
       " ..            ...                               ...   \n",
       " 95        Algeria                               371   \n",
       " 96       Paraguay                               313   \n",
       " 97        Uruguay                               284   \n",
       " 98       Eswatini                               234   \n",
       " 99        Bermuda                               220   \n",
       " \n",
       "     Total market cap (% of GDP)[3] Number of domestic companies listed[4]  \\\n",
       " 0                            194.5                                   4266   \n",
       " 1                             83.0                                   4154   \n",
       " 2                            122.2                                   3754   \n",
       " 3                           1768.8                                   2353   \n",
       " 4                            103.0                                   5270   \n",
       " ..                             ...                                    ...   \n",
       " 95                             0.2                                    ...   \n",
       " 96                             3.5                                     55   \n",
       " 97                             1.4                                     17   \n",
       " 98                             6.8                                      6   \n",
       " 99                            39.6                                     13   \n",
       " \n",
       "     Year  \n",
       " 0   2020  \n",
       " 1   2020  \n",
       " 2   2020  \n",
       " 3   2020  \n",
       " 4   2023  \n",
       " ..   ...  \n",
       " 95  2018  \n",
       " 96  1999  \n",
       " 97  1996  \n",
       " 98  2007  \n",
       " 99  2020  \n",
       " \n",
       " [100 rows x 5 columns],\n",
       "     Year  World market cap (in mil. US$)  World market cap (% of GDP)  \\\n",
       " 0   1975                         1149245                         27.2   \n",
       " 1   1980                         2525736                         29.6   \n",
       " 2   1985                         4684978                         47.0   \n",
       " 3   1990                         9519107                         50.8   \n",
       " 4   1991                        11340785                         56.8   \n",
       " 5   1992                        10819256                         50.2   \n",
       " 6   1993                        13897390                         61.7   \n",
       " 7   1994                        14639924                         60.9   \n",
       " 8   1995                        17263728                         64.0   \n",
       " 9   1996                        19806691                         72.3   \n",
       " 10  1997                        22029761                         80.7   \n",
       " 11  1998                        24555201                         89.6   \n",
       " 12  1999                        33181159                        115.1   \n",
       " 13  2000                        30925434                        101.1   \n",
       " 14  2001                        26792162                         88.4   \n",
       " 15  2002                        22802792                         72.7   \n",
       " 16  2003                        31107425                         84.9   \n",
       " 17  2004                        36540980                         89.2   \n",
       " 18  2005                        40512446                         92.6   \n",
       " 19  2006                        50074966                        106.1   \n",
       " 20  2007                        60456082                        114.0   \n",
       " 21  2008                        32418516                         56.2   \n",
       " 22  2009                        47471293                         83.8   \n",
       " 23  2010                        54259518                         87.3   \n",
       " 24  2011                        47521341                         68.8   \n",
       " 25  2012                        54503237                         78.4   \n",
       " 26  2013                        64367842                         89.0   \n",
       " 27  2014                        67177254                         90.3   \n",
       " 28  2015                        62268184                         94.5   \n",
       " 29  2016                        65117714                         97.1   \n",
       " 30  2017                        79501948                        111.1   \n",
       " 31  2018                        68893044                         91.9   \n",
       " 32  2019                        78825583                        108.4   \n",
       " 33  2020                        93686226                        134.7   \n",
       " \n",
       "     Number of listed companies  \n",
       " 0                      14577.0  \n",
       " 1                      17273.0  \n",
       " 2                      20555.0  \n",
       " 3                      23732.0  \n",
       " 4                      24666.0  \n",
       " 5                      24947.0  \n",
       " 6                      28300.0  \n",
       " 7                      30290.0  \n",
       " 8                      33379.0  \n",
       " 9                      35617.0  \n",
       " 10                     36946.0  \n",
       " 11                     37928.0  \n",
       " 12                     38414.0  \n",
       " 13                     39892.0  \n",
       " 14                     40157.0  \n",
       " 15                     38894.0  \n",
       " 16                     41051.0  \n",
       " 17                     38724.0  \n",
       " 18                     39096.0  \n",
       " 19                     43104.0  \n",
       " 20                     44034.0  \n",
       " 21                     43949.0  \n",
       " 22                     42669.0  \n",
       " 23                     43427.0  \n",
       " 24                     44323.0  \n",
       " 25                     43772.0  \n",
       " 26                     44853.0  \n",
       " 27                     45743.0  \n",
       " 28                     43983.0  \n",
       " 29                     43806.0  \n",
       " 30                     43440.0  \n",
       " 31                     43554.0  \n",
       " 32                     43248.0  \n",
       " 33                         NaN  ,\n",
       "    .mw-parser-output .navbar{display:inline;font-size:88%;font-weight:normal}.mw-parser-output .navbar-collapse{float:left;text-align:left}.mw-parser-output .navbar-boxtext{word-spacing:0}.mw-parser-output .navbar ul{display:inline-block;white-space:nowrap;line-height:inherit}.mw-parser-output .navbar-brackets::before{margin-right:-0.125em;content:\"[ \"}.mw-parser-output .navbar-brackets::after{margin-left:-0.125em;content:\" ]\"}.mw-parser-output .navbar li{word-spacing:-0.125em}.mw-parser-output .navbar a>span,.mw-parser-output .navbar a>abbr{text-decoration:inherit}.mw-parser-output .navbar-mini abbr{font-variant:small-caps;border-bottom:none;text-decoration:none;cursor:inherit}.mw-parser-output .navbar-ct-full{font-size:114%;margin:0 7em}.mw-parser-output .navbar-ct-mini{font-size:114%;margin:0 4em}vteEconomic classification of countries  \\\n",
       " 0   Developed country Developing country Least dev...                                                                                                                                                                                                                                                                                                                                                                                                                                                                                                                                                                                                                                                                                                                                                                                                                                \n",
       " 1                                   Three-World Model                                                                                                                                                                                                                                                                                                                                                                                                                                                                                                                                                                                                                                                                                                                                                                                                                                \n",
       " 2                        Gross domestic product (GDP)                                                                                                                                                                                                                                                                                                                                                                                                                                                                                                                                                                                                                                                                                                                                                                                                                                \n",
       " 3                                             Nominal                                                                                                                                                                                                                                                                                                                                                                                                                                                                                                                                                                                                                                                                                                                                                                                                                                \n",
       " 4                       Purchasing power parity (PPP)                                                                                                                                                                                                                                                                                                                                                                                                                                                                                                                                                                                                                                                                                                                                                                                                                                \n",
       " 5                         Gross national income (GNI)                                                                                                                                                                                                                                                                                                                                                                                                                                                                                                                                                                                                                                                                                                                                                                                                                                \n",
       " 6                                               Wages                                                                                                                                                                                                                                                                                                                                                                                                                                                                                                                                                                                                                                                                                                                                                                                                                                \n",
       " 7                                              Wealth                                                                                                                                                                                                                                                                                                                                                                                                                                                                                                                                                                                                                                                                                                                                                                                                                                \n",
       " 8                             Other national accounts                                                                                                                                                                                                                                                                                                                                                                                                                                                                                                                                                                                                                                                                                                                                                                                                                                \n",
       " 9                                   Human development                                                                                                                                                                                                                                                                                                                                                                                                                                                                                                                                                                                                                                                                                                                                                                                                                                \n",
       " 10                                     Digital divide                                                                                                                                                                                                                                                                                                                                                                                                                                                                                                                                                                                                                                                                                                                                                                                                                                \n",
       " 11       Net international investment position (NIIP)                                                                                                                                                                                                                                                                                                                                                                                                                                                                                                                                                                                                                                                                                                                                                                                                                                \n",
       " 12                    Economics portal • World portal                                                                                                                                                                                                                                                                                                                                                                                                                                                                                                                                                                                                                                                                                                                                                                                                                                \n",
       " \n",
       "    .mw-parser-output .navbar{display:inline;font-size:88%;font-weight:normal}.mw-parser-output .navbar-collapse{float:left;text-align:left}.mw-parser-output .navbar-boxtext{word-spacing:0}.mw-parser-output .navbar ul{display:inline-block;white-space:nowrap;line-height:inherit}.mw-parser-output .navbar-brackets::before{margin-right:-0.125em;content:\"[ \"}.mw-parser-output .navbar-brackets::after{margin-left:-0.125em;content:\" ]\"}.mw-parser-output .navbar li{word-spacing:-0.125em}.mw-parser-output .navbar a>span,.mw-parser-output .navbar a>abbr{text-decoration:inherit}.mw-parser-output .navbar-mini abbr{font-variant:small-caps;border-bottom:none;text-decoration:none;cursor:inherit}.mw-parser-output .navbar-ct-full{font-size:114%;margin:0 7em}.mw-parser-output .navbar-ct-mini{font-size:114%;margin:0 4em}vteEconomic classification of countries.1  \n",
       " 0   Developed country Developing country Least dev...                                                                                                                                                                                                                                                                                                                                                                                                                                                                                                                                                                                                                                                                                                                                                                                                                                 \n",
       " 1   First World Second World Third World Fourth World                                                                                                                                                                                                                                                                                                                                                                                                                                                                                                                                                                                                                                                                                                                                                                                                                                 \n",
       " 2   Nominal By country past and projected per capi...                                                                                                                                                                                                                                                                                                                                                                                                                                                                                                                                                                                                                                                                                                                                                                                                                                 \n",
       " 3   By country past and projected per capita per c...                                                                                                                                                                                                                                                                                                                                                                                                                                                                                                                                                                                                                                                                                                                                                                                                                                 \n",
       " 4   By country future estimates per capita per cap...                                                                                                                                                                                                                                                                                                                                                                                                                                                                                                                                                                                                                                                                                                                                                                                                                                 \n",
       " 5   (Nominal, Atlas method) per capita (PPP) per c...                                                                                                                                                                                                                                                                                                                                                                                                                                                                                                                                                                                                                                                                                                                                                                                                                                 \n",
       " 6   Average wage Europe Employee compensation (per...                                                                                                                                                                                                                                                                                                                                                                                                                                                                                                                                                                                                                                                                                                                                                                                                                                 \n",
       " 7   Wealth per adult Europe Financial assets per c...                                                                                                                                                                                                                                                                                                                                                                                                                                                                                                                                                                                                                                                                                                                                                                                                                                 \n",
       " 8   Gross National Happiness Net material product ...                                                                                                                                                                                                                                                                                                                                                                                                                                                                                                                                                                                                                                                                                                                                                                                                                                 \n",
       " 9   Human Development Index by country inequality-...                                                                                                                                                                                                                                                                                                                                                                                                                                                                                                                                                                                                                                                                                                                                                                                                                                 \n",
       " 10  ICT Development Index Number of broadband Inte...                                                                                                                                                                                                                                                                                                                                                                                                                                                                                                                                                                                                                                                                                                                                                                                                                                 \n",
       " 11        Per capita (creditors) Per capita (debtors)                                                                                                                                                                                                                                                                                                                                                                                                                                                                                                                                                                                                                                                                                                                                                                                                                                 \n",
       " 12                    Economics portal • World portal                                                                                                                                                                                                                                                                                                                                                                                                                                                                                                                                                                                                                                                                                                                                                                                                                                 ,\n",
       "                                0  \\\n",
       " 0                        Nominal   \n",
       " 1  Purchasing power parity (PPP)   \n",
       " \n",
       "                                                    1  \n",
       " 0  By country past and projected per capita per c...  \n",
       " 1  By country future estimates per capita per cap...  ]"
      ]
     },
     "execution_count": 6,
     "metadata": {},
     "output_type": "execute_result"
    }
   ],
   "source": [
    "import pandas as pd\n",
    "\n",
    "url = 'https://en.wikipedia.org/wiki/List_of_countries_by_stock_market_capitalization'\n",
    "tbl = pd.read_html(url)\n",
    "\n",
    "tbl"
   ]
  },
  {
   "cell_type": "code",
   "execution_count": 7,
   "metadata": {},
   "outputs": [
    {
     "data": {
      "text/html": [
       "<div>\n",
       "<style scoped>\n",
       "    .dataframe tbody tr th:only-of-type {\n",
       "        vertical-align: middle;\n",
       "    }\n",
       "\n",
       "    .dataframe tbody tr th {\n",
       "        vertical-align: top;\n",
       "    }\n",
       "\n",
       "    .dataframe thead th {\n",
       "        text-align: right;\n",
       "    }\n",
       "</style>\n",
       "<table border=\"1\" class=\"dataframe\">\n",
       "  <thead>\n",
       "    <tr style=\"text-align: right;\">\n",
       "      <th></th>\n",
       "      <th>Country</th>\n",
       "      <th>Total market cap (in mil. US$)[2]</th>\n",
       "      <th>Total market cap (% of GDP)[3]</th>\n",
       "      <th>Number of domestic companies listed[4]</th>\n",
       "      <th>Year</th>\n",
       "    </tr>\n",
       "  </thead>\n",
       "  <tbody>\n",
       "    <tr>\n",
       "      <th>0</th>\n",
       "      <td>United States</td>\n",
       "      <td>44719661</td>\n",
       "      <td>194.5</td>\n",
       "      <td>4266</td>\n",
       "      <td>2020</td>\n",
       "    </tr>\n",
       "    <tr>\n",
       "      <th>1</th>\n",
       "      <td>China</td>\n",
       "      <td>13214311</td>\n",
       "      <td>83.0</td>\n",
       "      <td>4154</td>\n",
       "      <td>2020</td>\n",
       "    </tr>\n",
       "    <tr>\n",
       "      <th>2</th>\n",
       "      <td>Japan</td>\n",
       "      <td>6718220</td>\n",
       "      <td>122.2</td>\n",
       "      <td>3754</td>\n",
       "      <td>2020</td>\n",
       "    </tr>\n",
       "    <tr>\n",
       "      <th>3</th>\n",
       "      <td>Hong Kong</td>\n",
       "      <td>6130420</td>\n",
       "      <td>1768.8</td>\n",
       "      <td>2353</td>\n",
       "      <td>2020</td>\n",
       "    </tr>\n",
       "    <tr>\n",
       "      <th>4</th>\n",
       "      <td>India</td>\n",
       "      <td>3,612,985[5]</td>\n",
       "      <td>103.0</td>\n",
       "      <td>5270</td>\n",
       "      <td>2023</td>\n",
       "    </tr>\n",
       "  </tbody>\n",
       "</table>\n",
       "</div>"
      ],
      "text/plain": [
       "         Country Total market cap (in mil. US$)[2]  \\\n",
       "0  United States                          44719661   \n",
       "1          China                          13214311   \n",
       "2          Japan                           6718220   \n",
       "3      Hong Kong                           6130420   \n",
       "4          India                      3,612,985[5]   \n",
       "\n",
       "   Total market cap (% of GDP)[3] Number of domestic companies listed[4]  Year  \n",
       "0                           194.5                                   4266  2020  \n",
       "1                            83.0                                   4154  2020  \n",
       "2                           122.2                                   3754  2020  \n",
       "3                          1768.8                                   2353  2020  \n",
       "4                           103.0                                   5270  2023  "
      ]
     },
     "execution_count": 7,
     "metadata": {},
     "output_type": "execute_result"
    }
   ],
   "source": [
    "tbl[0].head()"
   ]
  },
  {
   "cell_type": "markdown",
   "metadata": {},
   "source": [
    "## 기업 공시 채널에서 오늘의 공시 불러오기\n",
    "\n"
   ]
  },
  {
   "cell_type": "code",
   "execution_count": 10,
   "metadata": {},
   "outputs": [
    {
     "name": "stdout",
     "output_type": "stream",
     "text": [
      "\n",
      "<section class=\"scrarea type-00\">\n",
      "<table class=\"list type-00 mt10\" summary=\"시간, 회사명, 공시제목, 제출인, 차트/주가\">\n",
      "<caption>목록</caption>\n",
      "<colgroup>\n",
      "<col width=\"9%\"/>\n",
      "<col width=\"22%\"/>\n",
      "<col width=\"*\"/>\n",
      "<col width=\"16%\"/>\n",
      "<col width=\"9%\"/>\n",
      "</colgroup>\n",
      "<thead>\n",
      "<tr class=\"first active\" id=\"title-contents\">\n",
      "</tr>\n",
      "</thead>\n",
      "<tbody>\n",
      "<tr class=\"first\" id=\"parkman\">\n",
      "<td class=\"first txc\">18:40</td>\n",
      "<td><img alt=\"코스닥\" class=\"vmiddle legend\" src=\"/images/common/icn_t_ko.gif\"/> <a href=\"#companysum\" id=\"companysum\" onclick=\"companysummary_open('07364'); return false;\" title=\"테라사이언스\"> 테라사이언스</a> <img alt=\"불성실공시\" class=\"vmiddle legend\" src=\"/images/common/icn_t_bul.gif\"> <img alt=\"투자주의환기종목\" class=\"vmiddle legend\" src=\"/images/common/icn_t_hwan.gif\"/> </img></td>\n",
      "<td><a href=\"#viewer\" onclick=\"openDisclsViewer('20231120000639','')\" title=\"추가상장(유상증자(제3자배정))\">추가상장(유상증자(제3자배정))</a></td>\n",
      "<td>코스닥시장본부</td>\n",
      "<td class=\"txc\">\n",
      "<a class=\"btn ico chart-00\" href=\"#\" onclick=\"openDisclsChart('07364');return false;\" title=\"공시차트\"><span>공시차트</span></a>\n",
      "<a class=\"btn ico chart-01\" href=\"#\" onclick=\"fnPopStockPrices('07364');return false;\" title=\"주가차트\"><span>주가차트</span></a>\n",
      "</td>\n",
      "</tr>\n",
      "<tr id=\"parkman\">\n",
      "<td class=\"first txc\">18:35</td>\n",
      "<td><img alt=\"코스닥\" class=\"vmiddle legend\" src=\"/images/common/icn_t_ko.gif\"/> <a href=\"#companysum\" id=\"companysum\" onclick=\"companysummary_open('05267'); return false;\" title=\"제일바이오\"> 제일바이오</a> <img alt=\"관리종목\" class=\"vmiddle legend\" src=\"/images/common/icn_t_kwan.gif\"> <img alt=\"투자주의환기종목\" class=\"vmiddle legend\" src=\"/images/common/icn_t_hwan.gif\"/> </img></td>\n",
      "<td><a href=\"#viewer\" onclick=\"openDisclsViewer('20231120000676','')\" title=\"주권매매거래정지기간변경(개선기간 부여)\">주권매매거래정지기간변경(개선기간 부여)</a></td>\n",
      "<td>코스닥시장본부</td>\n",
      "<td class=\"txc\">\n",
      "<a class=\"btn ico chart-00\" href=\"#\" onclick=\"openDisclsChart('05267');return false;\" title=\"공시차트\"><span>공시차트</span></a>\n",
      "<a class=\"btn ico chart-01\" href=\"#\" onclick=\"fnPopStockPrices('05267');return false;\" title=\"주가차트\"><span>주가차트</span></a>\n",
      "</td>\n",
      "</tr>\n",
      "<tr id=\"parkman\">\n",
      "<td class=\"first txc\">18:31</td>\n",
      "<td><img alt=\"코스닥\" class=\"vmiddle legend\" src=\"/images/common/icn_t_ko.gif\"/> <a href=\"#companysum\" id=\"companysum\" onclick=\"companysummary_open('05267'); return false;\" title=\"제일바이오\"> 제일바이오</a> <img alt=\"관리종목\" class=\"vmiddle legend\" src=\"/images/common/icn_t_kwan.gif\"> <img alt=\"투자주의환기종목\" class=\"vmiddle legend\" src=\"/images/common/icn_t_hwan.gif\"/> </img></td>\n",
      "<td><a href=\"#viewer\" onclick=\"openDisclsViewer('20231120000674','')\" title=\"기타시장안내(코스닥시장위원회 심의·의결 결과 및 개선기간 부여 안내)\">기타시장안내(코스닥시장위원회 심의·의결 결과 및 개선기간 부여 안내)</a></td>\n",
      "<td>코스닥시장본부</td>\n",
      "<td class=\"txc\">\n",
      "<a class=\"btn ico chart-00\" href=\"#\" onclick=\"openDisclsChart('05267');return false;\" title=\"공시차트\"><span>공시차트</span></a>\n",
      "<a class=\"btn ico chart-01\" href=\"#\" onclick=\"fnPopStockPrices('05267');return false;\" title=\"주가차트\"><span>주가차트</span></a>\n",
      "</td>\n",
      "</tr>\n",
      "<tr id=\"parkman\">\n",
      "<td class=\"first txc\">18:31</td>\n",
      "<td><img alt=\"코스닥\" class=\"vmiddle legend\" src=\"/images/common/icn_t_ko.gif\"/> <a href=\"#companysum\" id=\"companysum\" onclick=\"companysummary_open('18240'); return false;\" title=\"엔케이맥스\"> 엔케이맥스</a> <img alt=\"KOSDAQ150\" class=\"vmiddle legend\" src=\"/images/common/icn_t_q150.gif\"/> </td>\n",
      "<td><a href=\"#viewer\" onclick=\"openDisclsViewer('20231120000673','')\" title=\"추가상장(국내사모 CB전환)\">추가상장(국내사모 CB전환)</a></td>\n",
      "<td>코스닥시장본부</td>\n",
      "<td class=\"txc\">\n",
      "<a class=\"btn ico chart-00\" href=\"#\" onclick=\"openDisclsChart('18240');return false;\" title=\"공시차트\"><span>공시차트</span></a>\n",
      "<a class=\"btn ico chart-01\" href=\"#\" onclick=\"fnPopStockPrices('18240');return false;\" title=\"주가차트\"><span>주가차트</span></a>\n",
      "</td>\n",
      "</tr>\n",
      "<tr id=\"parkman\">\n",
      "<td class=\"first txc\">18:30</td>\n",
      "<td><img alt=\"코스닥\" class=\"vmiddle legend\" src=\"/images/common/icn_t_ko.gif\"/> <a href=\"#companysum\" id=\"companysum\" onclick=\"companysummary_open('06954'); return false;\" title=\"라이트론\"> 라이트론</a> </td>\n",
      "<td><a href=\"#viewer\" onclick=\"openDisclsViewer('20231120000665','')\" title=\"추가상장(국내사모 CB전환)\">추가상장(국내사모 CB전환)</a></td>\n",
      "<td>코스닥시장본부</td>\n",
      "<td class=\"txc\">\n",
      "<a class=\"btn ico chart-00\" href=\"#\" onclick=\"openDisclsChart('06954');return false;\" title=\"공시차트\"><span>공시차트</span></a>\n",
      "<a class=\"btn ico chart-01\" href=\"#\" onclick=\"fnPopStockPrices('06954');return false;\" title=\"주가차트\"><span>주가차트</span></a>\n",
      "</td>\n",
      "</tr>\n",
      "<tr id=\"parkman\">\n",
      "<td class=\"first txc\">18:29</td>\n",
      "<td><img alt=\"코스닥\" class=\"vmiddle legend\" src=\"/images/common/icn_t_ko.gif\"/> <a href=\"#companysum\" id=\"companysum\" onclick=\"companysummary_open('21748'); return false;\" title=\"에스디생명공학\"> 에스디생명공학</a> <img alt=\"관리종목\" class=\"vmiddle legend\" src=\"/images/common/icn_t_kwan.gif\"> <img alt=\"투자주의환기종목\" class=\"vmiddle legend\" src=\"/images/common/icn_t_hwan.gif\"/> </img></td>\n",
      "<td><a href=\"#viewer\" onclick=\"openDisclsViewer('20231120000672','')\" title=\"기타 경영사항(자율공시)(관계인집회 기일 결정)\"><font color=\"#FF8040\">[정정]</font>기타 경영사항(자율공시)(관계인집회 기일 결정)</a></td>\n",
      "<td>에스디생명공학</td>\n",
      "<td class=\"txc\">\n",
      "<a class=\"btn ico chart-00\" href=\"#\" onclick=\"openDisclsChart('21748');return false;\" title=\"공시차트\"><span>공시차트</span></a>\n",
      "<a class=\"btn ico chart-01\" href=\"#\" onclick=\"fnPopStockPrices('21748');return false;\" title=\"주가차트\"><span>주가차트</span></a>\n",
      "</td>\n",
      "</tr>\n",
      "<tr id=\"parkman\">\n",
      "<td class=\"first txc\">18:10</td>\n",
      "<td><img alt=\"유가증권\" class=\"vmiddle legend\" src=\"/images/common/icn_t_yu.gif\"/> <a href=\"#companysum\" id=\"companysum\" onclick=\"companysummary_open('00030'); return false;\" title=\"대유플러스\"> 대유플러스</a> <img alt=\"관리종목\" class=\"vmiddle legend\" src=\"/images/common/icn_t_kwan.gif\"> </img></td>\n",
      "<td><a href=\"#viewer\" onclick=\"openDisclsViewer('20231120000662','')\" title=\"부도발생(당사 김제지점 발행 만기어음 부도)\">부도발생(당사 김제지점 발행 만기어음 부도)</a></td>\n",
      "<td>대유플러스</td>\n",
      "<td class=\"txc\">\n",
      "<a class=\"btn ico chart-00\" href=\"#\" onclick=\"openDisclsChart('00030');return false;\" title=\"공시차트\"><span>공시차트</span></a>\n",
      "<a class=\"btn ico chart-01\" href=\"#\" onclick=\"fnPopStockPrices('00030');return false;\" title=\"주가차트\"><span>주가차트</span></a>\n",
      "</td>\n",
      "</tr>\n",
      "<tr id=\"parkman\">\n",
      "<td class=\"first txc\">18:09</td>\n",
      "<td></td>\n",
      "<td><a href=\"#viewer\" onclick=\"openDisclsViewer('20231120000664','')\" title=\"자기주식매매신청내역(코스닥시장)\">자기주식매매신청내역(코스닥시장)</a></td>\n",
      "<td>코스닥시장본부</td>\n",
      "<td class=\"txc\">\n",
      "</td>\n",
      "</tr>\n",
      "<tr id=\"parkman\">\n",
      "<td class=\"first txc\">18:09</td>\n",
      "<td></td>\n",
      "<td><a href=\"#viewer\" onclick=\"openDisclsViewer('20231120000657','')\" title=\"직전1개월 일평균대비 거래량 증가율 상위 10종목(코스닥시장)\">직전1개월 일평균대비 거래량 증가율 상위 10종목(코스닥시장)</a></td>\n",
      "<td>코스닥시장본부</td>\n",
      "<td class=\"txc\">\n",
      "</td>\n",
      "</tr>\n",
      "<tr id=\"parkman\">\n",
      "<td class=\"first txc\">18:09</td>\n",
      "<td></td>\n",
      "<td><a href=\"#viewer\" onclick=\"openDisclsViewer('20231120000655','')\" title=\"일중 변동성 상위 10종목(코스닥시장)\">일중 변동성 상위 10종목(코스닥시장)</a></td>\n",
      "<td>코스닥시장본부</td>\n",
      "<td class=\"txc\">\n",
      "</td>\n",
      "</tr>\n",
      "<tr id=\"parkman\">\n",
      "<td class=\"first txc\">18:09</td>\n",
      "<td></td>\n",
      "<td><a href=\"#viewer\" onclick=\"openDisclsViewer('20231120000658','')\" title=\"대량매매내역(코스닥시장)\">대량매매내역(코스닥시장)</a></td>\n",
      "<td>코스닥시장본부</td>\n",
      "<td class=\"txc\">\n",
      "</td>\n",
      "</tr>\n",
      "<tr id=\"parkman\">\n",
      "<td class=\"first txc\">18:09</td>\n",
      "<td></td>\n",
      "<td><a href=\"#viewer\" onclick=\"openDisclsViewer('20231120000654','')\" title=\"일일회전율상위20종목(코스닥시장)\">일일회전율상위20종목(코스닥시장)</a></td>\n",
      "<td>코스닥시장본부</td>\n",
      "<td class=\"txc\">\n",
      "</td>\n",
      "</tr>\n",
      "<tr id=\"parkman\">\n",
      "<td class=\"first txc\">18:08</td>\n",
      "<td></td>\n",
      "<td><a href=\"#viewer\" onclick=\"openDisclsViewer('20231120000656','')\" title=\"최근 20일중 최저(최고)가 대비 상승(하락)율 상위 10종목(코스닥시장)\">최근 20일중 최저(최고)가 대비 상승(하락)율 상위 10종목(코스닥시장)</a></td>\n",
      "<td>코스닥시장본부</td>\n",
      "<td class=\"txc\">\n",
      "</td>\n",
      "</tr>\n",
      "<tr id=\"parkman\">\n",
      "<td class=\"first txc\">18:08</td>\n",
      "<td></td>\n",
      "<td><a href=\"#viewer\" onclick=\"openDisclsViewer('20231120000652','')\" title=\"자기주식매매체결내역(코스닥시장)\">자기주식매매체결내역(코스닥시장)</a></td>\n",
      "<td>코스닥시장본부</td>\n",
      "<td class=\"txc\">\n",
      "</td>\n",
      "</tr>\n",
      "<tr id=\"parkman\">\n",
      "<td class=\"first txc\">18:08</td>\n",
      "<td><img alt=\"코스닥\" class=\"vmiddle legend\" src=\"/images/common/icn_t_ko.gif\"/> <a href=\"#companysum\" id=\"companysum\" onclick=\"companysummary_open('29457'); return false;\" title=\"쿠콘\"> 쿠콘</a> <img alt=\"KOSDAQ150\" class=\"vmiddle legend\" src=\"/images/common/icn_t_q150.gif\"/> </td>\n",
      "<td><a href=\"#viewer\" onclick=\"openDisclsViewer('20231120000637','')\" title=\"소송등의판결ㆍ결정(이사회 의사록 열람 및 등사 허가 신청)\">소송등의판결ㆍ결정(이사회 의사록 열람 및 등사 허가 신청)</a></td>\n",
      "<td>쿠콘</td>\n",
      "<td class=\"txc\">\n",
      "<a class=\"btn ico chart-00\" href=\"#\" onclick=\"openDisclsChart('29457');return false;\" title=\"공시차트\"><span>공시차트</span></a>\n",
      "<a class=\"btn ico chart-01\" href=\"#\" onclick=\"fnPopStockPrices('29457');return false;\" title=\"주가차트\"><span>주가차트</span></a>\n",
      "</td>\n",
      "</tr>\n",
      "</tbody>\n",
      "</table>\n",
      "</section>\n",
      "<!-- 페이징 START -->\n",
      "<section class=\"paging-group\">\n",
      "<div class=\"paging type-00\"><a class=\"pprev\" href=\"#prevPage10\" onclick=\"return false;\"><span>이전10개 페이지</span></a><a class=\"prev\" href=\"#prevPage\" onclick=\"return false;\"><span>이전 페이지</span></a>\n",
      "<a class=\"active\" href=\"#page_link_1\" onclick=\"return false;\">1</a><a href=\"#page_link_2\" onclick=\"fnPageGo('2');return false;\">2</a><a href=\"#page_link_3\" onclick=\"fnPageGo('3');return false;\">3</a><a href=\"#page_link_4\" onclick=\"fnPageGo('4');return false;\">4</a><a href=\"#page_link_5\" onclick=\"fnPageGo('5');return false;\">5</a><a href=\"#page_link_6\" onclick=\"fnPageGo('6');return false;\">6</a><a href=\"#page_link_7\" onclick=\"fnPageGo('7');return false;\">7</a><a href=\"#page_link_8\" onclick=\"fnPageGo('8');return false;\">8</a><a href=\"#page_link_9\" onclick=\"fnPageGo('9');return false;\">9</a><a href=\"#page_link_10\" onclick=\"fnPageGo('10');return false;\">10</a>\n",
      "<a class=\"next\" href=\"#nextPage\" onclick=\"fnPageGo('2');return false;\"><span>다음 페이지</span></a><a class=\"nnext\" href=\"#nextPage10\" onclick=\"fnPageGo('11');return false;\"><span>다음10개 페이지</span></a></div><div class=\"info type-00\">\n",
      "전체 <em>736</em>건 : <strong>1</strong>/50   \n",
      "<select id=\"currentPageSize\" name=\"currentPageSize\">\n",
      "<option selected=\"selected\" value=\"15\">15건</option>\n",
      "<option value=\"30\">30건</option>\n",
      "<option value=\"50\">50건</option>\n",
      "<option value=\"100\">100건</option>\n",
      "</select>  <a class=\"btn-sprite btn-go vmiddle\" href=\"#\" onclick=\"fnSearch1();return false;\" title=\"GO\"><span>GO</span></a>\n",
      "</div>\n",
      "</section>\n",
      "<!-- 페이징 END -->\n",
      "<script type=\"text/JavaScript\">\n",
      "$(document).ready(function(){\n",
      "\tvar svrGubun = \"real1\";\n",
      "\tif( svrGubun.indexOf(\"dr\") >= 0 ){\n",
      "\t\tfn_InitTitle(\"시간,회사명,공시제목,제출인\", \"true,true,true,true\");\n",
      "\t} else {\n",
      "\t\tfn_InitTitle(\"시간,회사명,공시제목,제출인,차트/주가\", \"true,true,true,true,false\");\n",
      "\t}\n",
      "\n",
      "\t$(\"input[name='segment']:radio\").change(function(){\n",
      "\t\tconsole.log(this.value);\n",
      "\t\t$(\"#searchForm > #kosdaqSegment\").val(this.value);\n",
      "\t\tfnSearch();\n",
      "\t});\n",
      "});\n",
      "</script>\n"
     ]
    }
   ],
   "source": [
    "# POST 방식으로 쿼리를 요청하는 방법\n",
    "\n",
    "import requests as rq\n",
    "from bs4 import BeautifulSoup\n",
    "import pandas as pd  \n",
    "\n",
    "url = 'https://kind.krx.co.kr/disclosure/todaydisclosure.do'\n",
    "# 쿼리는 딕셔너리 형태로 입력하며, Form Data와 동일하게 입력해 준다.\n",
    "payload = {\n",
    "    'method' : 'searchTodayDisclosureSub',\n",
    "    'currentPageSize' : '15',\n",
    "    'pageIndex' : '1',\n",
    "    'orderMode' : '0',\n",
    "    'orderStat' : 'D',\n",
    "    'forward' : 'todaydisclosure_sub',\n",
    "    'close' : 'S',\n",
    "    'todayFlag' : 'N',\n",
    "    'setDate' : '2022-07-27'\n",
    "}\n",
    "\n",
    "# post() 함수를 통해 해당 URL에 원하는 쿼리를 요청\n",
    "data = rq.post(url, data=payload)\n",
    "html = BeautifulSoup(data.content, 'html.parser')\n",
    "\n",
    "print(html)"
   ]
  },
  {
   "cell_type": "code",
   "execution_count": 11,
   "metadata": {},
   "outputs": [
    {
     "data": {
      "text/html": [
       "<div>\n",
       "<style scoped>\n",
       "    .dataframe tbody tr th:only-of-type {\n",
       "        vertical-align: middle;\n",
       "    }\n",
       "\n",
       "    .dataframe tbody tr th {\n",
       "        vertical-align: top;\n",
       "    }\n",
       "\n",
       "    .dataframe thead th {\n",
       "        text-align: right;\n",
       "    }\n",
       "</style>\n",
       "<table border=\"1\" class=\"dataframe\">\n",
       "  <thead>\n",
       "    <tr style=\"text-align: right;\">\n",
       "      <th></th>\n",
       "      <th>Unnamed: 0</th>\n",
       "      <th>Unnamed: 1</th>\n",
       "      <th>Unnamed: 2</th>\n",
       "      <th>Unnamed: 3</th>\n",
       "      <th>Unnamed: 4</th>\n",
       "    </tr>\n",
       "  </thead>\n",
       "  <tbody>\n",
       "    <tr>\n",
       "      <th>0</th>\n",
       "      <td>18:40</td>\n",
       "      <td>테라사이언스</td>\n",
       "      <td>추가상장(유상증자(제3자배정))</td>\n",
       "      <td>코스닥시장본부</td>\n",
       "      <td>공시차트  주가차트</td>\n",
       "    </tr>\n",
       "    <tr>\n",
       "      <th>1</th>\n",
       "      <td>18:35</td>\n",
       "      <td>제일바이오</td>\n",
       "      <td>주권매매거래정지기간변경(개선기간 부여)</td>\n",
       "      <td>코스닥시장본부</td>\n",
       "      <td>공시차트  주가차트</td>\n",
       "    </tr>\n",
       "    <tr>\n",
       "      <th>2</th>\n",
       "      <td>18:31</td>\n",
       "      <td>제일바이오</td>\n",
       "      <td>기타시장안내(코스닥시장위원회 심의·의결 결과 및 개선기간 부여 안내)</td>\n",
       "      <td>코스닥시장본부</td>\n",
       "      <td>공시차트  주가차트</td>\n",
       "    </tr>\n",
       "    <tr>\n",
       "      <th>3</th>\n",
       "      <td>18:31</td>\n",
       "      <td>엔케이맥스</td>\n",
       "      <td>추가상장(국내사모 CB전환)</td>\n",
       "      <td>코스닥시장본부</td>\n",
       "      <td>공시차트  주가차트</td>\n",
       "    </tr>\n",
       "    <tr>\n",
       "      <th>4</th>\n",
       "      <td>18:30</td>\n",
       "      <td>라이트론</td>\n",
       "      <td>추가상장(국내사모 CB전환)</td>\n",
       "      <td>코스닥시장본부</td>\n",
       "      <td>공시차트  주가차트</td>\n",
       "    </tr>\n",
       "  </tbody>\n",
       "</table>\n",
       "</div>"
      ],
      "text/plain": [
       "  Unnamed: 0 Unnamed: 1                              Unnamed: 2 Unnamed: 3  \\\n",
       "0      18:40     테라사이언스                       추가상장(유상증자(제3자배정))    코스닥시장본부   \n",
       "1      18:35      제일바이오                   주권매매거래정지기간변경(개선기간 부여)    코스닥시장본부   \n",
       "2      18:31      제일바이오  기타시장안내(코스닥시장위원회 심의·의결 결과 및 개선기간 부여 안내)    코스닥시장본부   \n",
       "3      18:31      엔케이맥스                         추가상장(국내사모 CB전환)    코스닥시장본부   \n",
       "4      18:30       라이트론                         추가상장(국내사모 CB전환)    코스닥시장본부   \n",
       "\n",
       "   Unnamed: 4  \n",
       "0  공시차트  주가차트  \n",
       "1  공시차트  주가차트  \n",
       "2  공시차트  주가차트  \n",
       "3  공시차트  주가차트  \n",
       "4  공시차트  주가차트  "
      ]
     },
     "execution_count": 11,
     "metadata": {},
     "output_type": "execute_result"
    }
   ],
   "source": [
    "# prettify() 함수를 이용해 BeautifulSoup에서 파싱한 파서 트리를 유니코드 형태로 돌려준다.\n",
    "html_unicode = html.prettify()\n",
    "\n",
    "# read_html() 함수를 통해 표를 읽어 온다.\n",
    "tbl = pd.read_html(html.prettify())\n",
    "tbl[0].head()"
   ]
  }
 ],
 "metadata": {
  "kernelspec": {
   "display_name": "finance",
   "language": "python",
   "name": "python3"
  },
  "language_info": {
   "codemirror_mode": {
    "name": "ipython",
    "version": 3
   },
   "file_extension": ".py",
   "mimetype": "text/x-python",
   "name": "python",
   "nbconvert_exporter": "python",
   "pygments_lexer": "ipython3",
   "version": "3.8.18"
  }
 },
 "nbformat": 4,
 "nbformat_minor": 2
}
