{
 "cells": [
  {
   "cell_type": "markdown",
   "metadata": {},
   "source": [
    "# 증권사 API 연결과 매매하기"
   ]
  },
  {
   "cell_type": "markdown",
   "metadata": {},
   "source": [
    "## 접근 토큰 및 해시키 발급하기"
   ]
  },
  {
   "cell_type": "markdown",
   "metadata": {},
   "source": [
    "### 접근 토큰 발급받기"
   ]
  },
  {
   "cell_type": "code",
   "execution_count": 4,
   "metadata": {},
   "outputs": [
    {
     "name": "stdout",
     "output_type": "stream",
     "text": [
      "https://openapivts.koreainvestment.com:29443/oauth2/tokenP\n"
     ]
    }
   ],
   "source": [
    "import requests\n",
    "import json\n",
    "import keyring\n",
    "\n",
    "# key\n",
    "app_key = keyring.get_password('koreainvest_mock_app_key', 'ahn283')\n",
    "app_secret = keyring.get_password('koreainvest_mock_app_secret', 'ahn283')\n",
    "\n",
    "# base url\n",
    "url_base = 'https://openapivts.koreainvestment.com:29443'        # 모의투자\n",
    "\n",
    "# information\n",
    "headers = {\"content-type\": \"application/json\"}\n",
    "path = \"oauth2/tokenP\"\n",
    "body = {\n",
    "    \"grant_type\": \"client_credentials\",\n",
    "    \"appkey\": app_key,\n",
    "    \"appsecret\": app_secret\n",
    "}\n",
    "url = f\"{url_base}/{path}\"\n",
    "print(url)\n",
    "\n"
   ]
  },
  {
   "cell_type": "code",
   "execution_count": 5,
   "metadata": {},
   "outputs": [],
   "source": [
    "# 위 url을 body에 전송하면 접근 토근을 받을 수 있다.\n",
    "# dumps() 함수를 통해 딕셔너리를 json 문자열로 변환하여 전송\n",
    "res = requests.post(url, headers=headers, data=json.dumps(body))\n",
    "access_token = res.json()['access_token']"
   ]
  },
  {
   "cell_type": "markdown",
   "metadata": {},
   "source": [
    "### 해시키 발급받기"
   ]
  },
  {
   "cell_type": "code",
   "execution_count": 6,
   "metadata": {},
   "outputs": [],
   "source": [
    "def hashkey(datas):\n",
    "    path = 'uapi/hashkey'\n",
    "    url = f'{url_base}/{path}'\n",
    "    headers = {\n",
    "        'content-type': 'application/json',\n",
    "        'appKey': app_key,\n",
    "        'appSecret': app_secret\n",
    "    }\n",
    "    res = requests.post(url, headers=headers, data=json.dumps(datas))\n",
    "    hashkey = res.json()['HASH']\n",
    "    \n",
    "    return hashkey"
   ]
  },
  {
   "cell_type": "markdown",
   "metadata": {},
   "source": [
    "## 주식 현재가 시세 조회하기"
   ]
  },
  {
   "cell_type": "code",
   "execution_count": 7,
   "metadata": {},
   "outputs": [
    {
     "data": {
      "text/plain": [
       "'72000'"
      ]
     },
     "execution_count": 7,
     "metadata": {},
     "output_type": "execute_result"
    }
   ],
   "source": [
    "# 삼성전자\n",
    "\n",
    "path = 'uapi/domestic-stock/v1/quotations/inquire-price'\n",
    "url = f'{url_base}/{path}'\n",
    "\n",
    "headers = {\n",
    "    'Content-type' : 'application/json',\n",
    "    'authorization' : f'Bearer {access_token}',\n",
    "    'appKey' : app_key,\n",
    "    'appSecret' : app_secret,\n",
    "    # tr_ud는 거래ID에 해당하는 부분으로써 주식현재가 시세에 해당하는 FHKST0101010을 입력한다.\n",
    "    'tr_id' : 'FHKST01010100'\n",
    "}\n",
    "# fid_cond_mrkt_div_code는 시장 분류코드며, 주식에 해당하는 J를 입력하고 fid_input_iscd에는 삼성전자 티커를 입력\n",
    "params = {'fid_cond_mrkt_div_code': 'J', 'fid_input_iscd': '005930'}\n",
    "\n",
    "res = requests.get(url, headers=headers, params=params)\n",
    "res.json()['output']['stck_prpr']"
   ]
  },
  {
   "cell_type": "markdown",
   "metadata": {},
   "source": [
    "## 주식 주문하기"
   ]
  },
  {
   "cell_type": "markdown",
   "metadata": {},
   "source": [
    "### 매수주문"
   ]
  },
  {
   "cell_type": "code",
   "execution_count": 10,
   "metadata": {},
   "outputs": [
    {
     "data": {
      "text/plain": [
       "{'rt_cd': '1', 'msg_cd': '40100000', 'msg1': '모의투자 영업일이 아닙니다.'}"
      ]
     },
     "execution_count": 10,
     "metadata": {},
     "output_type": "execute_result"
    }
   ],
   "source": [
    "path = '/uapi/domestic-stock/v1/trading/order-cash'\n",
    "url = f'{url_base}/{path}'\n",
    "\n",
    "data = {\n",
    "    'CANO': '50099655',     # 계좌번호 앞 8자리\n",
    "    'ACNT_PRDT_CD': '01',   # 계좌번호 뒤 2자리\n",
    "    'PDNO': '005930',       # 종목코드\n",
    "    'ORD_DVSN': \"01\",       # 주문 방법 : 01-시장가 주문\n",
    "    'ORD_QTY': \"10\",        # 주문   \n",
    "    'ORD_UNPR': \"0\"         # 주문 단가 (시장가의 경우 0)    \n",
    "}\n",
    "\n",
    "headers = {\n",
    "    \"Content-Type\": \"application/json\",\n",
    "    \"authorization\": f\"Bearer {access_token}\",\n",
    "    \"appKey\": app_key,\n",
    "    \"appSecret\": app_secret,\n",
    "    \"tr_id\": \"VTTC0802U\",               # 주식 현금 매수 주문 tr_id\n",
    "    \"custtype\": \"P\",\n",
    "    \"hashkey\": hashkey(data)            # 주문 보안을 위해 해시키를 발급받아 입력\n",
    "}\n",
    "\n",
    "res = requests.post(url, headers=headers, data=json.dumps(data))\n",
    "res.json()"
   ]
  }
 ],
 "metadata": {
  "kernelspec": {
   "display_name": "finance",
   "language": "python",
   "name": "python3"
  },
  "language_info": {
   "codemirror_mode": {
    "name": "ipython",
    "version": 3
   },
   "file_extension": ".py",
   "mimetype": "text/x-python",
   "name": "python",
   "nbconvert_exporter": "python",
   "pygments_lexer": "ipython3",
   "version": "3.8.18"
  }
 },
 "nbformat": 4,
 "nbformat_minor": 2
}
