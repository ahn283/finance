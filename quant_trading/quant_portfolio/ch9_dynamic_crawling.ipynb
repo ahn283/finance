{
 "cells": [
  {
   "cell_type": "code",
   "execution_count": 1,
   "metadata": {},
   "outputs": [],
   "source": [
    "from selenium import webdriver\n",
    "from selenium.webdriver.chrome.service import Service\n",
    "from webdriver_manager.chrome import ChromeDriverManager\n",
    "from selenium.webdriver.common.by import By\n",
    "from selenium.webdriver.common.keys import Keys\n",
    "import time\n",
    "from bs4 import BeautifulSoup"
   ]
  },
  {
   "cell_type": "code",
   "execution_count": 2,
   "metadata": {},
   "outputs": [
    {
     "name": "stdout",
     "output_type": "stream",
     "text": [
      "Name: selenium\n",
      "Version: 4.3.0\n",
      "Summary: \n",
      "Home-page: https://www.selenium.dev\n",
      "Author: \n",
      "Author-email: \n",
      "License: Apache 2.0\n",
      "Location: c:\\users\\woojin\\anaconda3\\envs\\finance\\lib\\site-packages\n",
      "Requires: trio, trio-websocket, urllib3\n",
      "Required-by: \n"
     ]
    }
   ],
   "source": [
    "!pip show selenium"
   ]
  },
  {
   "cell_type": "code",
   "execution_count": 3,
   "metadata": {},
   "outputs": [],
   "source": [
    "service = Service(ChromeDriverManager().install())\n",
    "driver = webdriver.Chrome(service=service)"
   ]
  },
  {
   "cell_type": "code",
   "execution_count": 12,
   "metadata": {},
   "outputs": [
    {
     "data": {
      "text/plain": [
       "'html lang=\"ko\" class=\"fzoom\" data-dark=\"false\"><head><script async=\"\" type=\"text/javascript\" src=\"https://ssl.pstatic.net/tveta/libs/ndpsdk/prod/ndp-core.js\"></script> <meta charset=\"utf-8\"> <meta name=\"Referrer\" content=\"origin\"> <meta http-equiv=\"X-UA-Compatible\" content=\"IE=edge\"> <meta name=\"viewport\" content=\"width=1190\"> <title>NAVER</title> <meta name=\"apple-mobile-web-app-title\" content=\"NAVER\"> <meta name=\"robots\" content=\"index,nofollow\"> <meta name=\"description\" content=\"네이버 메인에서 다양한 정보와 유용한 컨텐츠를 만나 보세요\"> <meta property=\"og:title\" content=\"네이버\"> <meta property=\"og:url\" content=\"https://www.naver.com/\"> <meta property=\"og:image\" content=\"https://s.pstatic.net/static/www/mobile/edit/2016/0705/mobile_212852414260.png\"> <meta property=\"og:description\" content=\"네이버 메인에서 다양한 정보와 유용한 컨텐츠를 만나 보세요\"> <meta name=\"twitter:card\" content=\"summary\"> <meta name=\"twitter:title\" content=\"\"> <meta name=\"twitter:url\" content=\"https://www.naver.com/\"> <meta name=\"twitter:image\" content=\"https:/'"
      ]
     },
     "execution_count": 12,
     "metadata": {},
     "output_type": "execute_result"
    }
   ],
   "source": [
    "url = 'https://www.naver.com/'\n",
    "driver.get(url)\n",
    "driver.page_source[1:1000]"
   ]
  },
  {
   "cell_type": "code",
   "execution_count": 9,
   "metadata": {},
   "outputs": [],
   "source": [
    "driver.find_element(By.LINK_TEXT, value='뉴스').click()"
   ]
  },
  {
   "cell_type": "code",
   "execution_count": 11,
   "metadata": {},
   "outputs": [],
   "source": [
    "# 뒤로가기\n",
    "driver.back()"
   ]
  },
  {
   "cell_type": "code",
   "execution_count": 15,
   "metadata": {},
   "outputs": [],
   "source": [
    "# 검색어 입력\n",
    "driver.find_element(By.CLASS_NAME, value=\"search_input\").send_keys('퀀트투자')"
   ]
  },
  {
   "cell_type": "code",
   "execution_count": 16,
   "metadata": {},
   "outputs": [],
   "source": [
    "# 검색 버튼 클릭\n",
    "driver.find_element(By.CLASS_NAME, value=\"btn_search\").send_keys(Keys.ENTER)"
   ]
  },
  {
   "cell_type": "code",
   "execution_count": 18,
   "metadata": {},
   "outputs": [],
   "source": [
    "# 다른 단어 검색을 위해 검색어 지우고 다른 단어 검색하기\n",
    "# 검색어 박스 텍스트 지우기\n",
    "driver.find_element(By.CLASS_NAME, value='box_window').clear()\n",
    "driver.find_element(By.CLASS_NAME, value='box_window').send_keys('quant')\n",
    "driver.find_element(By.CLASS_NAME, value='bt_search').click()\n"
   ]
  },
  {
   "cell_type": "code",
   "execution_count": 19,
   "metadata": {},
   "outputs": [],
   "source": [
    "# XPATH로 접근하기\n",
    "driver.find_element(By.XPATH, value='//*[@id=\"lnb\"]/div[1]/div/div[1]/div/div[1]/div[1]').click()"
   ]
  },
  {
   "cell_type": "code",
   "execution_count": 22,
   "metadata": {},
   "outputs": [],
   "source": [
    "# 옵션을 눌러 최신순으로 정렬\n",
    "# 옵션 버튼 : option_filter(클래스)\n",
    "driver.find_element(By.CLASS_NAME, value='option_filter').click()\n",
    "# 최신순 버튼 : //*[@id=\"snb\"]/div[2]/ul/li[2]/div/div/a[2]\n",
    "driver.find_element(By.XPATH, value='//*[@id=\"snb\"]/div[2]/ul/li[2]/div/div/a[2]').click()"
   ]
  },
  {
   "cell_type": "code",
   "execution_count": 23,
   "metadata": {},
   "outputs": [],
   "source": [
    "# 페이지 다운\n",
    "driver.execute_script('window.scrollTo(0, document.body.scrollHeight);')\n",
    "# driver.find_element(By.TAG_NAME, value='body').send_keys(Keys.PAGE_DOWN)"
   ]
  },
  {
   "cell_type": "code",
   "execution_count": 24,
   "metadata": {},
   "outputs": [],
   "source": [
    "# 모든 결과가 나올 때까지 스크롤 다운\n",
    "# 현재창의 높이를 저장\n",
    "prev_height = driver.execute_script('return document.body.scrollHeight')\n",
    "\n",
    "while True:\n",
    "    # scroll down\n",
    "    driver.execute_script('window.scrollTo(0, document.body.scrollHeight);')\n",
    "    # 2초간 정지\n",
    "    time.sleep(2)\n",
    "    \n",
    "    # 현재창의 높이를 저장\n",
    "    curr_height = driver.execute_script('return document.body.scrollHeight')\n",
    "    # 이전창과 현재창 높이가 같으면 중단\n",
    "    if curr_height == prev_height:\n",
    "        break\n",
    "    # 이전창 값에 현재창 값을 입력\n",
    "    prev_height = curr_height"
   ]
  },
  {
   "cell_type": "code",
   "execution_count": 26,
   "metadata": {},
   "outputs": [
    {
     "data": {
      "text/plain": [
       "[\"[십일사 퀀트전략] 강환국 작가님의 '23~'24시즌 1104 실전투자 전략 톺아보기\",\n",
       " '나만의 투자전략 KB증권 다이렉트인덱싱(ETF, 퀀트투자)',\n",
       " '[책] 평생~66세~, 주식으로 돈벌다./강환국 - 퀀트로 바로서는 투자',\n",
       " '[실전 퀀트투자] 한국 소형주 월밸런싱 4달차 후기',\n",
       " '\"단점 솔직히 없습니다\" 직장인이 퀀트 투자를 해야하는 3가지 이유',\n",
       " 'KB증권 다이렉트인덱싱 맞춤형 퀀트 투자 방법',\n",
       " '호주에서 퀀트킹이나 퀀터스같은 퀀트투자 프로그램이 있나요?',\n",
       " '시스템투자, 그 현장속 퀀트투자 [1편]',\n",
       " '퀀트투자 포워드테스팅에대하여(포워드테스팅의 필요성과 실제개발후기)',\n",
       " '미국증시ETF 자동매매-퀀트투자 플랫폼 파파코, ft. 실수익, ai인공지능주식투자']"
      ]
     },
     "execution_count": 26,
     "metadata": {},
     "output_type": "execute_result"
    }
   ],
   "source": [
    "# 검색 결과 제목 크롤링\n",
    "html = BeautifulSoup(driver.page_source, 'lxml')\n",
    "txt = html.find_all(class_ = 'title_link _cross_trigger')\n",
    "txt_list = [i.get_text() for i in txt]\n",
    "\n",
    "txt_list[0:10]"
   ]
  },
  {
   "cell_type": "markdown",
   "metadata": {},
   "source": [
    "# regex"
   ]
  },
  {
   "cell_type": "code",
   "execution_count": 28,
   "metadata": {},
   "outputs": [
    {
     "data": {
      "text/plain": [
       "['29.2%']"
      ]
     },
     "execution_count": 28,
     "metadata": {},
     "output_type": "execute_result"
    }
   ],
   "source": [
    "import re\n",
    "\n",
    "data = \"동 기업의 매출액은 전년 대비 29.2% 늘어났습니다.\"\n",
    "re.findall('\\d+.\\d+%', data)"
   ]
  },
  {
   "cell_type": "markdown",
   "metadata": {},
   "source": [
    "## match()"
   ]
  },
  {
   "cell_type": "code",
   "execution_count": 29,
   "metadata": {},
   "outputs": [
    {
     "data": {
      "text/plain": [
       "re.Pattern"
      ]
     },
     "execution_count": 29,
     "metadata": {},
     "output_type": "execute_result"
    }
   ],
   "source": [
    "import re\n",
    "\n",
    "# 알파벳 소문자가 1개 부터 여러 개까지를 의미하는 표현식\n",
    "p = re.compile('[a-z]+')\n",
    "type(p)"
   ]
  },
  {
   "cell_type": "code",
   "execution_count": 30,
   "metadata": {},
   "outputs": [
    {
     "data": {
      "text/plain": [
       "<re.Match object; span=(0, 6), match='python'>"
      ]
     },
     "execution_count": 30,
     "metadata": {},
     "output_type": "execute_result"
    }
   ],
   "source": [
    "# match 함수는 정규 표현식과 일치하는 객체를 반환\n",
    "m = p.match('python')\n",
    "m"
   ]
  },
  {
   "cell_type": "code",
   "execution_count": 32,
   "metadata": {},
   "outputs": [],
   "source": [
    "# 'Use python'은 맨 처음 문자가 대문자로, [a-z]+와 매치되지 않아 None을 반환\n",
    "m = p.match('Use python')\n",
    "m"
   ]
  },
  {
   "cell_type": "code",
   "execution_count": 33,
   "metadata": {},
   "outputs": [
    {
     "name": "stdout",
     "output_type": "stream",
     "text": [
      "<re.Match object; span=(0, 3), match='파이썬'>\n"
     ]
    }
   ],
   "source": [
    "# 모든 한글을 의미하는 regex\n",
    "p = re.compile('[가-힣]+')\n",
    "m = p.match('파이썬')\n",
    "print(m)"
   ]
  },
  {
   "cell_type": "markdown",
   "metadata": {},
   "source": [
    "### search()"
   ]
  },
  {
   "cell_type": "code",
   "execution_count": 34,
   "metadata": {},
   "outputs": [
    {
     "name": "stdout",
     "output_type": "stream",
     "text": [
      "<re.Match object; span=(0, 6), match='python'>\n"
     ]
    }
   ],
   "source": [
    "# 첫번째 일치하는 패턴 찾기\n",
    "p = re.compile('[a-z]+')\n",
    "m = p.search('python')\n",
    "print(m)"
   ]
  },
  {
   "cell_type": "code",
   "execution_count": 35,
   "metadata": {},
   "outputs": [
    {
     "name": "stdout",
     "output_type": "stream",
     "text": [
      "<re.Match object; span=(1, 3), match='se'>\n"
     ]
    }
   ],
   "source": [
    "m = p.search('Use python')\n",
    "print(m)"
   ]
  },
  {
   "cell_type": "markdown",
   "metadata": {},
   "source": [
    "### findall()"
   ]
  },
  {
   "cell_type": "code",
   "execution_count": 36,
   "metadata": {},
   "outputs": [
    {
     "name": "stdout",
     "output_type": "stream",
     "text": [
      "['Life', 'is', 'too', 'short', 'You', 'need', 'Python']\n"
     ]
    }
   ],
   "source": [
    "p = re.compile('[a-zA-Z]+')\n",
    "m = p.findall('Life is too short, You need Python')\n",
    "print(m)"
   ]
  },
  {
   "cell_type": "markdown",
   "metadata": {},
   "source": [
    "### finditer()"
   ]
  },
  {
   "cell_type": "code",
   "execution_count": 37,
   "metadata": {},
   "outputs": [
    {
     "name": "stdout",
     "output_type": "stream",
     "text": [
      "<callable_iterator object at 0x00000216040AF670>\n"
     ]
    }
   ],
   "source": [
    "p = re.compile('[a-zA-Z]+')\n",
    "m = p.finditer('Life is too short, YOu need Python.')\n",
    "print(m)"
   ]
  },
  {
   "cell_type": "code",
   "execution_count": 38,
   "metadata": {},
   "outputs": [
    {
     "name": "stdout",
     "output_type": "stream",
     "text": [
      "<re.Match object; span=(0, 4), match='Life'>\n",
      "<re.Match object; span=(5, 7), match='is'>\n",
      "<re.Match object; span=(8, 11), match='too'>\n",
      "<re.Match object; span=(12, 17), match='short'>\n",
      "<re.Match object; span=(19, 22), match='YOu'>\n",
      "<re.Match object; span=(23, 27), match='need'>\n",
      "<re.Match object; span=(28, 34), match='Python'>\n"
     ]
    }
   ],
   "source": [
    "for i in m:\n",
    "    print(i)"
   ]
  },
  {
   "cell_type": "markdown",
   "metadata": {},
   "source": [
    "## practice"
   ]
  },
  {
   "cell_type": "code",
   "execution_count": 39,
   "metadata": {},
   "outputs": [
    {
     "name": "stdout",
     "output_type": "stream",
     "text": [
      "['15', '23', '29', '34', '40', '44']\n"
     ]
    }
   ],
   "source": [
    "# 숫자만 추출하기\n",
    "num = \"\"\"r/n/t/t/t/t/t/t/t/n/t/t/t/t/t/t15/r/n/t/t/t/t/t/t23/r/n/t/t/t/t/t/t/t29/r/n/t/t/t/t/t/t/t/34/r/n/t/t/t/t/t/t/t/t/t/t/t/t40/r/n/t/t/t/t/t/t/t/t44/r/n/t/t/t/t/t/t/t/t/r/n/t/t/t/t\"\"\"\n",
    "\n",
    "import re\n",
    "p = re.compile('[0-9]+')\n",
    "m = p.findall(num)\n",
    "print(m)"
   ]
  },
  {
   "cell_type": "code",
   "execution_count": 40,
   "metadata": {},
   "outputs": [
    {
     "data": {
      "text/plain": [
       "['2022.12.31']"
      ]
     },
     "execution_count": 40,
     "metadata": {},
     "output_type": "execute_result"
    }
   ],
   "source": [
    "# 날짜 추출하기\n",
    "dt = '> 오늘의 날짜는 2022.12.31 입니다.'\n",
    "\n",
    "p = re.compile('[0-9]+.[0-9]+.[0-9]+')\n",
    "p.findall(dt)"
   ]
  },
  {
   "cell_type": "code",
   "execution_count": 41,
   "metadata": {},
   "outputs": [
    {
     "name": "stdout",
     "output_type": "stream",
     "text": [
      "['2022', '12', '31']\n"
     ]
    }
   ],
   "source": [
    "p = re.compile('[0-9]+')\n",
    "m = p.findall(dt)\n",
    "print(m)"
   ]
  },
  {
   "cell_type": "code",
   "execution_count": 42,
   "metadata": {},
   "outputs": [
    {
     "data": {
      "text/plain": [
       "'20221231'"
      ]
     },
     "execution_count": 42,
     "metadata": {},
     "output_type": "execute_result"
    }
   ],
   "source": [
    "''.join(m)"
   ]
  },
  {
   "cell_type": "code",
   "execution_count": null,
   "metadata": {},
   "outputs": [],
   "source": []
  }
 ],
 "metadata": {
  "kernelspec": {
   "display_name": "finance",
   "language": "python",
   "name": "python3"
  },
  "language_info": {
   "codemirror_mode": {
    "name": "ipython",
    "version": 3
   },
   "file_extension": ".py",
   "mimetype": "text/x-python",
   "name": "python",
   "nbconvert_exporter": "python",
   "pygments_lexer": "ipython3",
   "version": "3.8.18"
  }
 },
 "nbformat": 4,
 "nbformat_minor": 2
}
