{
 "cells": [
  {
   "cell_type": "markdown",
   "metadata": {},
   "source": [
    "# 퀀트 전략을 이용한 종목선정"
   ]
  },
  {
   "cell_type": "markdown",
   "metadata": {},
   "source": [
    "## 베타 이해하기"
   ]
  },
  {
   "cell_type": "markdown",
   "metadata": {},
   "source": [
    "### 베타 계산하기"
   ]
  },
  {
   "cell_type": "code",
   "execution_count": 2,
   "metadata": {},
   "outputs": [
    {
     "name": "stdout",
     "output_type": "stream",
     "text": [
      "[*********************100%%**********************]  1 of 1 completed"
     ]
    },
    {
     "name": "stdout",
     "output_type": "stream",
     "text": [
      "\n",
      "[*********************100%%**********************]  1 of 1 completed\n"
     ]
    }
   ],
   "source": [
    "import yfinance as yf\n",
    "import pandas as pd\n",
    "\n",
    "# KOSPI 코드와 전통적인 고베타주인 증권주(키움증권) 티커를 입력\n",
    "tickers = ['^KS11', '039490.KS']\n",
    "\n",
    "all_data = {}\n",
    "for ticker in tickers:\n",
    "    all_data[ticker] = yf.download(ticker,\n",
    "                                   start='2016-01-01',\n",
    "                                   end='2021-12-31')\n",
    "# close column 만 선택\n",
    "prices = pd.DataFrame({tic: data['Close'] for tic, data in all_data.items()})\n",
    "# 수익률 계산\n",
    "ret = prices.pct_change().dropna()\n"
   ]
  },
  {
   "cell_type": "code",
   "execution_count": 6,
   "metadata": {},
   "outputs": [],
   "source": [
    "import statsmodels.api as sm\n",
    "# 회귀분석\n",
    "# 알파를 계산하기 위해 intercept에 해당하는 열에 1을 입력\n",
    "ret['intercept'] = 1\n",
    "# 종속변수에는 증권주, 독립변수에는 KOSPI 지수 수익률 및 절편을 입력한다.\n",
    "reg = sm.OLS(ret[['039490.KS']], ret[['^KS11', 'intercept']]).fit()"
   ]
  },
  {
   "cell_type": "code",
   "execution_count": 7,
   "metadata": {},
   "outputs": [
    {
     "data": {
      "text/html": [
       "<table class=\"simpletable\">\n",
       "<caption>OLS Regression Results</caption>\n",
       "<tr>\n",
       "  <th>Dep. Variable:</th>        <td>039490.KS</td>    <th>  R-squared:         </th> <td>   0.369</td> \n",
       "</tr>\n",
       "<tr>\n",
       "  <th>Model:</th>                   <td>OLS</td>       <th>  Adj. R-squared:    </th> <td>   0.369</td> \n",
       "</tr>\n",
       "<tr>\n",
       "  <th>Method:</th>             <td>Least Squares</td>  <th>  F-statistic:       </th> <td>   860.1</td> \n",
       "</tr>\n",
       "<tr>\n",
       "  <th>Date:</th>             <td>Sun, 26 Nov 2023</td> <th>  Prob (F-statistic):</th> <td>3.07e-149</td>\n",
       "</tr>\n",
       "<tr>\n",
       "  <th>Time:</th>                 <td>02:59:18</td>     <th>  Log-Likelihood:    </th> <td>  3691.2</td> \n",
       "</tr>\n",
       "<tr>\n",
       "  <th>No. Observations:</th>      <td>  1472</td>      <th>  AIC:               </th> <td>  -7378.</td> \n",
       "</tr>\n",
       "<tr>\n",
       "  <th>Df Residuals:</th>          <td>  1470</td>      <th>  BIC:               </th> <td>  -7368.</td> \n",
       "</tr>\n",
       "<tr>\n",
       "  <th>Df Model:</th>              <td>     1</td>      <th>                     </th>     <td> </td>    \n",
       "</tr>\n",
       "<tr>\n",
       "  <th>Covariance Type:</th>      <td>nonrobust</td>    <th>                     </th>     <td> </td>    \n",
       "</tr>\n",
       "</table>\n",
       "<table class=\"simpletable\">\n",
       "<tr>\n",
       "      <td></td>         <th>coef</th>     <th>std err</th>      <th>t</th>      <th>P>|t|</th>  <th>[0.025</th>    <th>0.975]</th>  \n",
       "</tr>\n",
       "<tr>\n",
       "  <th>^KS11</th>     <td>    1.4333</td> <td>    0.049</td> <td>   29.328</td> <td> 0.000</td> <td>    1.337</td> <td>    1.529</td>\n",
       "</tr>\n",
       "<tr>\n",
       "  <th>intercept</th> <td>    0.0002</td> <td>    0.001</td> <td>    0.376</td> <td> 0.707</td> <td>   -0.001</td> <td>    0.001</td>\n",
       "</tr>\n",
       "</table>\n",
       "<table class=\"simpletable\">\n",
       "<tr>\n",
       "  <th>Omnibus:</th>       <td>223.609</td> <th>  Durbin-Watson:     </th> <td>   2.217</td> \n",
       "</tr>\n",
       "<tr>\n",
       "  <th>Prob(Omnibus):</th> <td> 0.000</td>  <th>  Jarque-Bera (JB):  </th> <td> 589.755</td> \n",
       "</tr>\n",
       "<tr>\n",
       "  <th>Skew:</th>          <td> 0.812</td>  <th>  Prob(JB):          </th> <td>8.64e-129</td>\n",
       "</tr>\n",
       "<tr>\n",
       "  <th>Kurtosis:</th>      <td> 5.642</td>  <th>  Cond. No.          </th> <td>    95.1</td> \n",
       "</tr>\n",
       "</table><br/><br/>Notes:<br/>[1] Standard Errors assume that the covariance matrix of the errors is correctly specified."
      ],
      "text/latex": [
       "\\begin{center}\n",
       "\\begin{tabular}{lclc}\n",
       "\\toprule\n",
       "\\textbf{Dep. Variable:}    &    039490.KS     & \\textbf{  R-squared:         } &     0.369   \\\\\n",
       "\\textbf{Model:}            &       OLS        & \\textbf{  Adj. R-squared:    } &     0.369   \\\\\n",
       "\\textbf{Method:}           &  Least Squares   & \\textbf{  F-statistic:       } &     860.1   \\\\\n",
       "\\textbf{Date:}             & Sun, 26 Nov 2023 & \\textbf{  Prob (F-statistic):} & 3.07e-149   \\\\\n",
       "\\textbf{Time:}             &     02:59:18     & \\textbf{  Log-Likelihood:    } &    3691.2   \\\\\n",
       "\\textbf{No. Observations:} &        1472      & \\textbf{  AIC:               } &    -7378.   \\\\\n",
       "\\textbf{Df Residuals:}     &        1470      & \\textbf{  BIC:               } &    -7368.   \\\\\n",
       "\\textbf{Df Model:}         &           1      & \\textbf{                     } &             \\\\\n",
       "\\textbf{Covariance Type:}  &    nonrobust     & \\textbf{                     } &             \\\\\n",
       "\\bottomrule\n",
       "\\end{tabular}\n",
       "\\begin{tabular}{lcccccc}\n",
       "                   & \\textbf{coef} & \\textbf{std err} & \\textbf{t} & \\textbf{P$> |$t$|$} & \\textbf{[0.025} & \\textbf{0.975]}  \\\\\n",
       "\\midrule\n",
       "\\textbf{^KS11}     &       1.4333  &        0.049     &    29.328  &         0.000        &        1.337    &        1.529     \\\\\n",
       "\\textbf{intercept} &       0.0002  &        0.001     &     0.376  &         0.707        &       -0.001    &        0.001     \\\\\n",
       "\\bottomrule\n",
       "\\end{tabular}\n",
       "\\begin{tabular}{lclc}\n",
       "\\textbf{Omnibus:}       & 223.609 & \\textbf{  Durbin-Watson:     } &     2.217  \\\\\n",
       "\\textbf{Prob(Omnibus):} &   0.000 & \\textbf{  Jarque-Bera (JB):  } &   589.755  \\\\\n",
       "\\textbf{Skew:}          &   0.812 & \\textbf{  Prob(JB):          } & 8.64e-129  \\\\\n",
       "\\textbf{Kurtosis:}      &   5.642 & \\textbf{  Cond. No.          } &      95.1  \\\\\n",
       "\\bottomrule\n",
       "\\end{tabular}\n",
       "%\\caption{OLS Regression Results}\n",
       "\\end{center}\n",
       "\n",
       "Notes: \\newline\n",
       " [1] Standard Errors assume that the covariance matrix of the errors is correctly specified."
      ],
      "text/plain": [
       "<class 'statsmodels.iolib.summary.Summary'>\n",
       "\"\"\"\n",
       "                            OLS Regression Results                            \n",
       "==============================================================================\n",
       "Dep. Variable:              039490.KS   R-squared:                       0.369\n",
       "Model:                            OLS   Adj. R-squared:                  0.369\n",
       "Method:                 Least Squares   F-statistic:                     860.1\n",
       "Date:                Sun, 26 Nov 2023   Prob (F-statistic):          3.07e-149\n",
       "Time:                        02:59:18   Log-Likelihood:                 3691.2\n",
       "No. Observations:                1472   AIC:                            -7378.\n",
       "Df Residuals:                    1470   BIC:                            -7368.\n",
       "Df Model:                           1                                         \n",
       "Covariance Type:            nonrobust                                         \n",
       "==============================================================================\n",
       "                 coef    std err          t      P>|t|      [0.025      0.975]\n",
       "------------------------------------------------------------------------------\n",
       "^KS11          1.4333      0.049     29.328      0.000       1.337       1.529\n",
       "intercept      0.0002      0.001      0.376      0.707      -0.001       0.001\n",
       "==============================================================================\n",
       "Omnibus:                      223.609   Durbin-Watson:                   2.217\n",
       "Prob(Omnibus):                  0.000   Jarque-Bera (JB):              589.755\n",
       "Skew:                           0.812   Prob(JB):                    8.64e-129\n",
       "Kurtosis:                       5.642   Cond. No.                         95.1\n",
       "==============================================================================\n",
       "\n",
       "Notes:\n",
       "[1] Standard Errors assume that the covariance matrix of the errors is correctly specified.\n",
       "\"\"\""
      ]
     },
     "execution_count": 7,
     "metadata": {},
     "output_type": "execute_result"
    }
   ],
   "source": [
    "reg.summary()"
   ]
  },
  {
   "cell_type": "code",
   "execution_count": 9,
   "metadata": {},
   "outputs": [
    {
     "name": "stdout",
     "output_type": "stream",
     "text": [
      "^KS11        1.433309\n",
      "intercept    0.000193\n",
      "dtype: float64\n"
     ]
    }
   ],
   "source": [
    "print(reg.params)"
   ]
  },
  {
   "cell_type": "markdown",
   "metadata": {},
   "source": [
    "## 밸류 전략"
   ]
  },
  {
   "cell_type": "code",
   "execution_count": null,
   "metadata": {},
   "outputs": [],
   "source": []
  }
 ],
 "metadata": {
  "kernelspec": {
   "display_name": "finance",
   "language": "python",
   "name": "python3"
  },
  "language_info": {
   "codemirror_mode": {
    "name": "ipython",
    "version": 3
   },
   "file_extension": ".py",
   "mimetype": "text/x-python",
   "name": "python",
   "nbconvert_exporter": "python",
   "pygments_lexer": "ipython3",
   "version": "3.8.18"
  }
 },
 "nbformat": 4,
 "nbformat_minor": 2
}
