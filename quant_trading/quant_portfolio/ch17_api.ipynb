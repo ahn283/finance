{
 "cells": [
  {
   "cell_type": "markdown",
   "metadata": {},
   "source": [
    "# 증권사 API 연결과 매매하기"
   ]
  },
  {
   "cell_type": "markdown",
   "metadata": {},
   "source": [
    "## 접근 토큰 및 해시키 발급하기"
   ]
  },
  {
   "cell_type": "code",
   "execution_count": 1,
   "metadata": {},
   "outputs": [
    {
     "name": "stdout",
     "output_type": "stream",
     "text": [
      "https://openapivts.koreainvestment.com:29443/oauth2/tokenP\n"
     ]
    }
   ],
   "source": [
    "import requests\n",
    "import json\n",
    "import keyring\n",
    "\n",
    "# key\n",
    "app_key = keyring.get_password('koreainvest_mock_app_key', 'ahn283')\n",
    "app_secret = keyring.get_password('koreainvest_mock_app_secret', 'ahn283')\n",
    "\n",
    "# base url\n",
    "url_base = 'https://openapivts.koreainvestment.com:29443'        # 모의투자\n",
    "\n",
    "# information\n",
    "headers = {\"content-type\": \"application/json\"}\n",
    "path = \"oauth2/tokenP\"\n",
    "body = {\n",
    "    \"grant_type\": \"client_credentials\",\n",
    "    \"appkey\": app_key,\n",
    "    \"appsecret\": app_secret\n",
    "}\n",
    "url = f\"{url_base}/{path}\"\n",
    "print(url)"
   ]
  },
  {
   "cell_type": "code",
   "execution_count": 2,
   "metadata": {},
   "outputs": [],
   "source": [
    "# 위 url을 body에 전송하면 접근 토근을 받을 수 있다.\n",
    "# dumps() 함수를 통해 딕셔너리를 json 문자열로 변환하여 전송\n",
    "res = requests.post(url, headers=headers, data=json.dumps(body))\n",
    "access_token = res.json()['access_token']"
   ]
  },
  {
   "cell_type": "markdown",
   "metadata": {},
   "source": [
    "### 해시키 발급받기"
   ]
  },
  {
   "cell_type": "code",
   "execution_count": 3,
   "metadata": {},
   "outputs": [],
   "source": [
    "def hashkey(datas):\n",
    "    path = 'uapi/hashkey'\n",
    "    url = f'{url_base}/{path}'\n",
    "    headers = {\n",
    "        'content-type': 'application/json',\n",
    "        'appKey': app_key,\n",
    "        'appSecret': app_secret\n",
    "    }\n",
    "    res = requests.post(url, headers=headers, data=json.dumps(datas))\n",
    "    hashkey = res.json()['HASH']\n",
    "    \n",
    "    return hashkey"
   ]
  },
  {
   "cell_type": "markdown",
   "metadata": {},
   "source": [
    "## 주식 현재가 시세 조회하기"
   ]
  },
  {
   "cell_type": "code",
   "execution_count": 4,
   "metadata": {},
   "outputs": [
    {
     "data": {
      "text/plain": [
       "'72600'"
      ]
     },
     "execution_count": 4,
     "metadata": {},
     "output_type": "execute_result"
    }
   ],
   "source": [
    "# 삼성전자\n",
    "\n",
    "path = 'uapi/domestic-stock/v1/quotations/inquire-price'\n",
    "url = f'{url_base}/{path}'\n",
    "\n",
    "headers = {\n",
    "    'Content-type' : 'application/json',\n",
    "    'authorization' : f'Bearer {access_token}',\n",
    "    'appKey' : app_key,\n",
    "    'appSecret' : app_secret,\n",
    "    # tr_ud는 거래ID에 해당하는 부분으로써 주식현재가 시세에 해당하는 FHKST0101010을 입력한다.\n",
    "    'tr_id' : 'FHKST01010100'\n",
    "}\n",
    "# fid_cond_mrkt_div_code는 시장 분류코드며, 주식에 해당하는 J를 입력하고 fid_input_iscd에는 삼성전자 티커를 입력\n",
    "params = {'fid_cond_mrkt_div_code': 'J', 'fid_input_iscd': '005930'}\n",
    "\n",
    "res = requests.get(url, headers=headers, params=params)\n",
    "res.json()['output']['stck_prpr']"
   ]
  },
  {
   "cell_type": "markdown",
   "metadata": {},
   "source": [
    "## 주식 주문하기"
   ]
  },
  {
   "cell_type": "markdown",
   "metadata": {},
   "source": [
    "### 매수주문"
   ]
  },
  {
   "cell_type": "code",
   "execution_count": 5,
   "metadata": {},
   "outputs": [
    {
     "data": {
      "text/plain": [
       "{'rt_cd': '1', 'msg_cd': '40580000', 'msg1': '모의투자 장종료 입니다.'}"
      ]
     },
     "execution_count": 5,
     "metadata": {},
     "output_type": "execute_result"
    }
   ],
   "source": [
    "path = '/uapi/domestic-stock/v1/trading/order-cash'\n",
    "url = f'{url_base}/{path}'\n",
    "\n",
    "data = {\n",
    "    'CANO': '50099655',     # 계좌번호 앞 8자리\n",
    "    'ACNT_PRDT_CD': '01',   # 계좌번호 뒤 2자리\n",
    "    'PDNO': '005930',       # 종목코드\n",
    "    'ORD_DVSN': \"01\",       # 주문 방법 : 01-시장가 주문\n",
    "    'ORD_QTY': \"10\",        # 주문   \n",
    "    'ORD_UNPR': \"0\"         # 주문 단가 (시장가의 경우 0)    \n",
    "}\n",
    "\n",
    "headers = {\n",
    "    \"Content-Type\": \"application/json\",\n",
    "    \"authorization\": f\"Bearer {access_token}\",\n",
    "    \"appKey\": app_key,\n",
    "    \"appSecret\": app_secret,\n",
    "    \"tr_id\": \"VTTC0802U\",               # 주식 현금 매수 주문 tr_id\n",
    "    \"custtype\": \"P\",\n",
    "    \"hashkey\": hashkey(data)            # 주문 보안을 위해 해시키를 발급받아 입력\n",
    "}\n",
    "\n",
    "# post() 함수를 통해 요청\n",
    "res = requests.post(url, headers=headers, data=json.dumps(data))\n",
    "res.json()"
   ]
  },
  {
   "cell_type": "markdown",
   "metadata": {},
   "source": [
    "### 정정 주문"
   ]
  },
  {
   "cell_type": "code",
   "execution_count": 6,
   "metadata": {},
   "outputs": [
    {
     "data": {
      "text/plain": [
       "{'rt_cd': '1', 'msg_cd': '40580000', 'msg1': '모의투자 장종료 입니다.'}"
      ]
     },
     "execution_count": 6,
     "metadata": {},
     "output_type": "execute_result"
    }
   ],
   "source": [
    "path = '/uapi/domestic-stock/v1/trading/order-cash'\n",
    "url = f'{url_base}/{path}'\n",
    "\n",
    "data = {\n",
    "    'CANO': '50099655',     # 계좌번호 앞 8자리\n",
    "    'ACNT_PRDT_CD': '01',   # 계좌번호 뒤 2자리\n",
    "    'PDNO': '005930',       # 종목코드\n",
    "    'ORD_DVSN': \"00\",       # 주문 방법\n",
    "    'ORD_QTY': \"10\",        # 주문 수량\n",
    "    'ORD_UNPR': \"50000\",    # 주문 단가 (시장가의 경우 0)\n",
    "}\n",
    "\n",
    "headers = {\n",
    "    'Content-Tye': 'application/json',\n",
    "    'authorization': f'Bearer {access_token}',\n",
    "    'appKey': app_key,\n",
    "    'appSecret': app_secret,\n",
    "    'tr_id': 'VTTC0802U',\n",
    "    'custtype': 'P',\n",
    "    'hashkey': hashkey(data)\n",
    "}\n",
    "\n",
    "res = requests.post(url, headers=headers, data=json.dumps(data))\n",
    "res.json()"
   ]
  },
  {
   "cell_type": "code",
   "execution_count": 8,
   "metadata": {},
   "outputs": [],
   "source": [
    "# 한국거래소전송주문 조직번호과 주문번호\n",
    "# res에서 구할 수 있음\n",
    "KRX_FWDG_ORGNO = res.json()['output']['KRX_FWDG_ORD_ORGNO']     # 한국거래소전송주문조직번호\n",
    "ODNO = res.json()['output']['ODNO']         # 주문번호"
   ]
  },
  {
   "cell_type": "code",
   "execution_count": null,
   "metadata": {},
   "outputs": [],
   "source": [
    "# 미체결된 주문을 최유리 지정가로 변경 정정 주문\n",
    "path = 'uapi/domestic-stock/v1/trading/order-rvsecncl'\n",
    "url = f'{url_base}/{path}'\n",
    "\n",
    "data = {\n",
    "    'CANO': '50099655',     # 계좌번호 앞 8자리\n",
    "    'ACNT_PRDT_CD': '01',   # 계좌번호 뒤 2자리\n",
    "    'KRX_FWDG_ORD_ORGNO': KRX_FWDG_ORGNO,   # 한국거래소전송주문 조직번호\n",
    "    'ORGN_ODNO': ODNO,      # 주문번호\n",
    "    'ORD_DVSN': '03',       # 주문 방법\n",
    "    'RVSE_CNCL_DVSN_CD': '01',  # 정정 (취소는 02)\n",
    "    'ORD_QTY': '10',        # 주문 수량\n",
    "    'ORD_UNPR': '0',        # 주문 단가 (시장가의 경우 0)\n",
    "    'QTY_ALL_ORD_YN': 'Y'   # 잔량 전부 (잔량 일부는 N)    \n",
    "}\n",
    "\n",
    "headers = {\n",
    "    'Content-Type': 'application/json',\n",
    "    'authorization': f'Bearer {access_token}',\n",
    "    'appKey': app_key,\n",
    "    'appSecret': app_secret,\n",
    "    'tr_id': 'VTTC0803U',\n",
    "    'custtype': 'P',\n",
    "    'hashkey': hashkey(data)\n",
    "}\n",
    "\n",
    "res = requests.post(url, headers=headers, data=json.dump(data))\n",
    "res.json()"
   ]
  },
  {
   "cell_type": "markdown",
   "metadata": {},
   "source": [
    "### 매도 주문"
   ]
  },
  {
   "cell_type": "code",
   "execution_count": null,
   "metadata": {},
   "outputs": [],
   "source": [
    "# 삼성전자 10주 시장가 매도\n",
    "path = '/uapi/domestic-stock/v1/trading/order-cash'\n",
    "url = f'{url_base}/{path}'\n",
    "\n",
    "data = {\n",
    "    'CANO': '50099655',     # 계좌번호 앞 8자리\n",
    "    'ACNT_PRDT_CD': '01',   # 계좌번호 뒤 2자리\n",
    "    'PDNO': '005930',       # 종목코드\n",
    "    'ORD_DVSN': '01',       # 주문 방법\n",
    "    'ORD_QTY': '10',        # 주문 수량\n",
    "    'ORD_UNPR': '0',        # 주문 단가 (시장가의 경우 0)    \n",
    "}\n",
    "\n",
    "headers = {\n",
    "    'Content-Type': 'application/json',\n",
    "    'authorization': f'Bearer {access_token}',\n",
    "    'appKey': app_key,\n",
    "    'appSecret': app_secret,\n",
    "    'tr_id': 'VTTC0801U',\n",
    "    'custtype': 'P',\n",
    "    'hashkey': hashkey(data)\n",
    "}\n",
    "\n",
    "res = requests.post(url, headers=headers, data=json.dumps(data))"
   ]
  },
  {
   "cell_type": "markdown",
   "metadata": {},
   "source": [
    "## 주식 잔고조회"
   ]
  },
  {
   "cell_type": "code",
   "execution_count": 10,
   "metadata": {},
   "outputs": [],
   "source": [
    "path = '/uapi/domestic-stock/v1/trading/inquire-balance'\n",
    "url = f'{url_base}/{path}'\n",
    "\n",
    "headers = {\n",
    "    'Content-Typoe': 'application/json',\n",
    "    'authorization': f'Bearer {access_token}',\n",
    "    'appKey': app_key,\n",
    "    'appSecret': app_secret,\n",
    "    'tr_id': 'VTTC8434R'\n",
    "}\n",
    "\n",
    "params = {\n",
    "    'CANO': '50099655',     # 계좌번호 앞 8자리\n",
    "    'ACNT_PRDT_CD': '01',   # 계좌번호 뒤 2자리\n",
    "    'AFHR_FLPR_YN': 'N',    # 시간외단일가여부\n",
    "    'OFL_YN': '',           # 공란\n",
    "    'INQR_DVSN': '01',      # 조회구분\n",
    "    'UNPR_DVSN': '01',      # 단가구분\n",
    "    'FUND_STTL_ICLD_YN': 'N',   # 펀드결제분포함여부\n",
    "    'FNCG_AMT_AUTO_RDPT_YN': 'N',    # 융자금액자동상환여부\n",
    "    'PRCS_DVSN': '00',      # 처리구분 (00: 전일매매포함)\n",
    "    'CTX_AREA_FK100': '',   # 연속조회검색조건\n",
    "    'CTX_AREA_NK100': '',   # 연속조회키    \n",
    "}\n",
    "\n",
    "# get 함수 통해 데이터를 요청\n",
    "res = requests.get(url, headers=headers, params=params)"
   ]
  },
  {
   "cell_type": "code",
   "execution_count": 13,
   "metadata": {},
   "outputs": [
    {
     "data": {
      "text/plain": [
       "[]"
      ]
     },
     "execution_count": 13,
     "metadata": {},
     "output_type": "execute_result"
    }
   ],
   "source": [
    "# ['output1']에는 보유 종목에 대한 정보\n",
    "res.json()['output1']"
   ]
  },
  {
   "cell_type": "code",
   "execution_count": 14,
   "metadata": {},
   "outputs": [
    {
     "data": {
      "text/plain": [
       "[{'dnca_tot_amt': '500000000',\n",
       "  'nxdy_excc_amt': '500000000',\n",
       "  'prvs_rcdl_excc_amt': '500000000',\n",
       "  'cma_evlu_amt': '0',\n",
       "  'bfdy_buy_amt': '0',\n",
       "  'thdt_buy_amt': '0',\n",
       "  'nxdy_auto_rdpt_amt': '0',\n",
       "  'bfdy_sll_amt': '0',\n",
       "  'thdt_sll_amt': '0',\n",
       "  'd2_auto_rdpt_amt': '0',\n",
       "  'bfdy_tlex_amt': '0',\n",
       "  'thdt_tlex_amt': '0',\n",
       "  'tot_loan_amt': '0',\n",
       "  'scts_evlu_amt': '0',\n",
       "  'tot_evlu_amt': '500000000',\n",
       "  'nass_amt': '500000000',\n",
       "  'fncg_gld_auto_rdpt_yn': '',\n",
       "  'pchs_amt_smtl_amt': '0',\n",
       "  'evlu_amt_smtl_amt': '0',\n",
       "  'evlu_pfls_smtl_amt': '0',\n",
       "  'tot_stln_slng_chgs': '0',\n",
       "  'bfdy_tot_asst_evlu_amt': '500000000',\n",
       "  'asst_icdc_amt': '0',\n",
       "  'asst_icdc_erng_rt': '0.00000000'}]"
      ]
     },
     "execution_count": 14,
     "metadata": {},
     "output_type": "execute_result"
    }
   ],
   "source": [
    "# ['output2']에는 계좌정보가 들어 있다.\n",
    "res.json()['output2']"
   ]
  },
  {
   "cell_type": "code",
   "execution_count": 15,
   "metadata": {},
   "outputs": [
    {
     "data": {
      "text/html": [
       "<div>\n",
       "<style scoped>\n",
       "    .dataframe tbody tr th:only-of-type {\n",
       "        vertical-align: middle;\n",
       "    }\n",
       "\n",
       "    .dataframe tbody tr th {\n",
       "        vertical-align: top;\n",
       "    }\n",
       "\n",
       "    .dataframe thead th {\n",
       "        text-align: right;\n",
       "    }\n",
       "</style>\n",
       "<table border=\"1\" class=\"dataframe\">\n",
       "  <thead>\n",
       "    <tr style=\"text-align: right;\">\n",
       "      <th></th>\n",
       "    </tr>\n",
       "  </thead>\n",
       "  <tbody>\n",
       "  </tbody>\n",
       "</table>\n",
       "</div>"
      ],
      "text/plain": [
       "Empty DataFrame\n",
       "Columns: []\n",
       "Index: []"
      ]
     },
     "execution_count": 15,
     "metadata": {},
     "output_type": "execute_result"
    }
   ],
   "source": [
    "# 티커 종목명, 보유수량, 매입평균가격을 데이터 프레임으로 변환\n",
    "import pandas as pd\n",
    "\n",
    "ap = pd.DataFrame.from_records(res.json()['output1'])\n",
    "ap"
   ]
  },
  {
   "cell_type": "markdown",
   "metadata": {},
   "source": [
    "## 스케쥴링"
   ]
  },
  {
   "cell_type": "code",
   "execution_count": 2,
   "metadata": {},
   "outputs": [],
   "source": [
    "import datetime\n",
    "\n",
    "def job():\n",
    "    print(datetime.datetime.now().strftime('%H:%M:%S'))\n",
    "    print(\"=================\")"
   ]
  },
  {
   "cell_type": "code",
   "execution_count": 3,
   "metadata": {},
   "outputs": [
    {
     "data": {
      "text/plain": [
       "Every 3 seconds do job() (last run: [never], next run: 2023-12-08 18:41:06)"
      ]
     },
     "execution_count": 3,
     "metadata": {},
     "output_type": "execute_result"
    }
   ],
   "source": [
    "# 매 3초마다 job() 함수 실행\n",
    "\n",
    "import schedule\n",
    "schedule.every(3).seconds.do(job)"
   ]
  },
  {
   "cell_type": "code",
   "execution_count": 4,
   "metadata": {},
   "outputs": [
    {
     "data": {
      "text/plain": [
       "[Every 3 seconds do job() (last run: [never], next run: 2023-12-08 18:41:06)]"
      ]
     },
     "execution_count": 4,
     "metadata": {},
     "output_type": "execute_result"
    }
   ],
   "source": [
    "# 등록된 스케쥴 확인\n",
    "schedule.get_jobs()"
   ]
  },
  {
   "cell_type": "code",
   "execution_count": 20,
   "metadata": {},
   "outputs": [
    {
     "name": "stdout",
     "output_type": "stream",
     "text": [
      "18:35:23\n",
      "=================\n",
      "18:35:26\n",
      "=================\n",
      "18:35:29\n",
      "=================\n",
      "18:35:32\n",
      "=================\n",
      "18:35:35\n",
      "=================\n"
     ]
    },
    {
     "ename": "",
     "evalue": "",
     "output_type": "error",
     "traceback": [
      "\u001b[1;31mThe Kernel crashed while executing code in the the current cell or a previous cell. Please review the code in the cell(s) to identify a possible cause of the failure. Click <a href='https://aka.ms/vscodeJupyterKernelCrash'>here</a> for more info. View Jupyter <a href='command:jupyter.viewOutput'>log</a> for further details."
     ]
    }
   ],
   "source": [
    "# # 함수 실행\n",
    "# while True:\n",
    "#     schedule.run_pending()"
   ]
  },
  {
   "cell_type": "markdown",
   "metadata": {},
   "source": [
    "### 시간 지정하기"
   ]
  },
  {
   "cell_type": "code",
   "execution_count": 5,
   "metadata": {},
   "outputs": [
    {
     "name": "stdout",
     "output_type": "stream",
     "text": [
      "DatetimeIndex(['2023-12-08 18:42:10.553017', '2023-12-08 18:42:15.553017',\n",
      "               '2023-12-08 18:42:20.553017', '2023-12-08 18:42:25.553017',\n",
      "               '2023-12-08 18:42:30.553017'],\n",
      "              dtype='datetime64[ns]', freq=None)\n"
     ]
    }
   ],
   "source": [
    "# 작업이 실행될 시간과 종료할 시간을 직접 지정\n",
    "\n",
    "import pandas as pd\n",
    "from datetime import timedelta\n",
    "\n",
    "schedule.clear()\n",
    "\n",
    "startDt = datetime.datetime.now() + timedelta(seconds=60)\n",
    "endDt = datetime.datetime.now() + timedelta(seconds=80)\n",
    "# date_range 함수를 통해 startDt와 endDt를 10개 구간으로 나눈다.\n",
    "time_list = pd.date_range(startDt, endDt, periods=5)\n",
    "\n",
    "print(time_list)"
   ]
  },
  {
   "cell_type": "code",
   "execution_count": 6,
   "metadata": {},
   "outputs": [
    {
     "data": {
      "text/plain": [
       "['18-42-10', '18-42-15', '18-42-20', '18-42-25', '18-42-30']"
      ]
     },
     "execution_count": 6,
     "metadata": {},
     "output_type": "execute_result"
    }
   ],
   "source": [
    "# 스케쥴러 등록에 필요한 %H:%M:%S 형태로 변환\n",
    "time_list_sec = [i.strftime('%H-%M-%S') for i in time_list]\n",
    "time_list_sec"
   ]
  },
  {
   "cell_type": "code",
   "execution_count": 7,
   "metadata": {},
   "outputs": [
    {
     "ename": "ScheduleValueError",
     "evalue": "Invalid time format for a daily job (valid format is HH:MM(:SS)?)",
     "output_type": "error",
     "traceback": [
      "\u001b[1;31m---------------------------------------------------------------------------\u001b[0m",
      "\u001b[1;31mScheduleValueError\u001b[0m                        Traceback (most recent call last)",
      "\u001b[1;32mc:\\project\\github\\finance\\quant_trading\\quant_portfolio\\ch17_api.ipynb Cell 31\u001b[0m line \u001b[0;36m2\n\u001b[0;32m      <a href='vscode-notebook-cell:/c%3A/project/github/finance/quant_trading/quant_portfolio/ch17_api.ipynb#X43sZmlsZQ%3D%3D?line=0'>1</a>\u001b[0m \u001b[39m# job() 함수를 수행하도록 스케쥴을 등록\u001b[39;00m\n\u001b[1;32m----> <a href='vscode-notebook-cell:/c%3A/project/github/finance/quant_trading/quant_portfolio/ch17_api.ipynb#X43sZmlsZQ%3D%3D?line=1'>2</a>\u001b[0m [schedule\u001b[39m.\u001b[39mevery()\u001b[39m.\u001b[39mday\u001b[39m.\u001b[39mat(i)\u001b[39m.\u001b[39mdo(job) \u001b[39mfor\u001b[39;00m i \u001b[39min\u001b[39;00m time_list_sec]\n",
      "\u001b[1;32mc:\\project\\github\\finance\\quant_trading\\quant_portfolio\\ch17_api.ipynb Cell 31\u001b[0m line \u001b[0;36m2\n\u001b[0;32m      <a href='vscode-notebook-cell:/c%3A/project/github/finance/quant_trading/quant_portfolio/ch17_api.ipynb#X43sZmlsZQ%3D%3D?line=0'>1</a>\u001b[0m \u001b[39m# job() 함수를 수행하도록 스케쥴을 등록\u001b[39;00m\n\u001b[1;32m----> <a href='vscode-notebook-cell:/c%3A/project/github/finance/quant_trading/quant_portfolio/ch17_api.ipynb#X43sZmlsZQ%3D%3D?line=1'>2</a>\u001b[0m [schedule\u001b[39m.\u001b[39;49mevery()\u001b[39m.\u001b[39;49mday\u001b[39m.\u001b[39;49mat(i)\u001b[39m.\u001b[39mdo(job) \u001b[39mfor\u001b[39;00m i \u001b[39min\u001b[39;00m time_list_sec]\n",
      "File \u001b[1;32mc:\\Users\\woojin\\anaconda3\\envs\\finance\\lib\\site-packages\\schedule\\__init__.py:516\u001b[0m, in \u001b[0;36mJob.at\u001b[1;34m(self, time_str, tz)\u001b[0m\n\u001b[0;32m    514\u001b[0m \u001b[39mif\u001b[39;00m \u001b[39mself\u001b[39m\u001b[39m.\u001b[39munit \u001b[39m==\u001b[39m \u001b[39m\"\u001b[39m\u001b[39mdays\u001b[39m\u001b[39m\"\u001b[39m \u001b[39mor\u001b[39;00m \u001b[39mself\u001b[39m\u001b[39m.\u001b[39mstart_day:\n\u001b[0;32m    515\u001b[0m     \u001b[39mif\u001b[39;00m \u001b[39mnot\u001b[39;00m re\u001b[39m.\u001b[39mmatch(\u001b[39mr\u001b[39m\u001b[39m\"\u001b[39m\u001b[39m^[0-2]\u001b[39m\u001b[39m\\\u001b[39m\u001b[39md:[0-5]\u001b[39m\u001b[39m\\\u001b[39m\u001b[39md(:[0-5]\u001b[39m\u001b[39m\\\u001b[39m\u001b[39md)?$\u001b[39m\u001b[39m\"\u001b[39m, time_str):\n\u001b[1;32m--> 516\u001b[0m         \u001b[39mraise\u001b[39;00m ScheduleValueError(\n\u001b[0;32m    517\u001b[0m             \u001b[39m\"\u001b[39m\u001b[39mInvalid time format for a daily job (valid format is HH:MM(:SS)?)\u001b[39m\u001b[39m\"\u001b[39m\n\u001b[0;32m    518\u001b[0m         )\n\u001b[0;32m    519\u001b[0m \u001b[39mif\u001b[39;00m \u001b[39mself\u001b[39m\u001b[39m.\u001b[39munit \u001b[39m==\u001b[39m \u001b[39m\"\u001b[39m\u001b[39mhours\u001b[39m\u001b[39m\"\u001b[39m:\n\u001b[0;32m    520\u001b[0m     \u001b[39mif\u001b[39;00m \u001b[39mnot\u001b[39;00m re\u001b[39m.\u001b[39mmatch(\u001b[39mr\u001b[39m\u001b[39m\"\u001b[39m\u001b[39m^([0-5]\u001b[39m\u001b[39m\\\u001b[39m\u001b[39md)?:[0-5]\u001b[39m\u001b[39m\\\u001b[39m\u001b[39md$\u001b[39m\u001b[39m\"\u001b[39m, time_str):\n",
      "\u001b[1;31mScheduleValueError\u001b[0m: Invalid time format for a daily job (valid format is HH:MM(:SS)?)"
     ]
    }
   ],
   "source": [
    "# job() 함수를 수행하도록 스케쥴을 등록\n",
    "[schedule.every().day.at(i).do(job) for i in time_list_sec]"
   ]
  },
  {
   "cell_type": "code",
   "execution_count": 8,
   "metadata": {},
   "outputs": [
    {
     "name": "stdout",
     "output_type": "stream",
     "text": [
      "End\n"
     ]
    }
   ],
   "source": [
    "while True:\n",
    "    schedule.run_pending()\n",
    "    if datetime.datetime.now() > endDt:\n",
    "        print('End')\n",
    "        schedule.clear()\n",
    "        break"
   ]
  },
  {
   "cell_type": "markdown",
   "metadata": {},
   "source": [
    "## 포트폴리오 리밸런싱"
   ]
  }
 ],
 "metadata": {
  "kernelspec": {
   "display_name": "finance",
   "language": "python",
   "name": "python3"
  },
  "language_info": {
   "codemirror_mode": {
    "name": "ipython",
    "version": 3
   },
   "file_extension": ".py",
   "mimetype": "text/x-python",
   "name": "python",
   "nbconvert_exporter": "python",
   "pygments_lexer": "ipython3",
   "version": "3.8.18"
  }
 },
 "nbformat": 4,
 "nbformat_minor": 2
}
