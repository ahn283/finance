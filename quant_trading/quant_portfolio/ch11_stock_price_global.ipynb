{
 "cells": [
  {
   "cell_type": "markdown",
   "metadata": {},
   "source": [
    "# 전 세계 주식 데이터 수집하기"
   ]
  },
  {
   "cell_type": "markdown",
   "metadata": {},
   "source": [
    "## 유료 데이터 벤더 이용하기\n",
    "\n",
    "[https://api.tiingo.com/](https://api.tiingo.com)"
   ]
  },
  {
   "cell_type": "code",
   "execution_count": 1,
   "metadata": {},
   "outputs": [],
   "source": [
    "import keyring"
   ]
  },
  {
   "cell_type": "code",
   "execution_count": 2,
   "metadata": {},
   "outputs": [],
   "source": [
    "# download data\n",
    "from tiingo import TiingoClient\n",
    "import pandas as pd\n",
    "import keyring\n",
    "\n",
    "api_key = keyring.get_password('tiingo', 'ahn283')\n",
    "config = {}\n",
    "config['session'] = True\n",
    "config['api_key'] = api_key\n",
    "client = TiingoClient(config)"
   ]
  },
  {
   "cell_type": "code",
   "execution_count": 3,
   "metadata": {},
   "outputs": [
    {
     "data": {
      "text/html": [
       "<div>\n",
       "<style scoped>\n",
       "    .dataframe tbody tr th:only-of-type {\n",
       "        vertical-align: middle;\n",
       "    }\n",
       "\n",
       "    .dataframe tbody tr th {\n",
       "        vertical-align: top;\n",
       "    }\n",
       "\n",
       "    .dataframe thead th {\n",
       "        text-align: right;\n",
       "    }\n",
       "</style>\n",
       "<table border=\"1\" class=\"dataframe\">\n",
       "  <thead>\n",
       "    <tr style=\"text-align: right;\">\n",
       "      <th></th>\n",
       "      <th>ticker</th>\n",
       "      <th>exchange</th>\n",
       "      <th>assetType</th>\n",
       "      <th>priceCurrency</th>\n",
       "      <th>startDate</th>\n",
       "      <th>endDate</th>\n",
       "    </tr>\n",
       "  </thead>\n",
       "  <tbody>\n",
       "    <tr>\n",
       "      <th>0</th>\n",
       "      <td>-P-H</td>\n",
       "      <td>NYSE</td>\n",
       "      <td>Stock</td>\n",
       "      <td>USD</td>\n",
       "      <td></td>\n",
       "      <td></td>\n",
       "    </tr>\n",
       "    <tr>\n",
       "      <th>1</th>\n",
       "      <td>-P-S</td>\n",
       "      <td>NYSE</td>\n",
       "      <td>Stock</td>\n",
       "      <td>USD</td>\n",
       "      <td>2018-08-22</td>\n",
       "      <td>2023-05-05</td>\n",
       "    </tr>\n",
       "    <tr>\n",
       "      <th>2</th>\n",
       "      <td>000001</td>\n",
       "      <td>SHE</td>\n",
       "      <td>Stock</td>\n",
       "      <td>CNY</td>\n",
       "      <td>2007-01-04</td>\n",
       "      <td>2024-03-01</td>\n",
       "    </tr>\n",
       "    <tr>\n",
       "      <th>3</th>\n",
       "      <td>000002</td>\n",
       "      <td>SHE</td>\n",
       "      <td>Stock</td>\n",
       "      <td>CNY</td>\n",
       "      <td>2007-01-04</td>\n",
       "      <td>2024-03-01</td>\n",
       "    </tr>\n",
       "    <tr>\n",
       "      <th>4</th>\n",
       "      <td>000003</td>\n",
       "      <td>SHE</td>\n",
       "      <td>Stock</td>\n",
       "      <td>CNY</td>\n",
       "      <td></td>\n",
       "      <td></td>\n",
       "    </tr>\n",
       "  </tbody>\n",
       "</table>\n",
       "</div>"
      ],
      "text/plain": [
       "   ticker exchange assetType priceCurrency   startDate     endDate\n",
       "0    -P-H     NYSE     Stock           USD                        \n",
       "1    -P-S     NYSE     Stock           USD  2018-08-22  2023-05-05\n",
       "2  000001      SHE     Stock           CNY  2007-01-04  2024-03-01\n",
       "3  000002      SHE     Stock           CNY  2007-01-04  2024-03-01\n",
       "4  000003      SHE     Stock           CNY                        "
      ]
     },
     "execution_count": 3,
     "metadata": {},
     "output_type": "execute_result"
    }
   ],
   "source": [
    "# list_stock_tickers() 메서드를 통해 티커 정보를 받아올 수 있다.\n",
    "tickers = client.list_stock_tickers()\n",
    "tickers_df = pd.DataFrame.from_records(tickers)\n",
    "\n",
    "tickers_df.head()"
   ]
  },
  {
   "cell_type": "code",
   "execution_count": 4,
   "metadata": {},
   "outputs": [
    {
     "data": {
      "text/plain": [
       "exchange   priceCurrency\n",
       "           USD               2459\n",
       "AMEX       USD                 80\n",
       "ASX        AUD                169\n",
       "           USD               2171\n",
       "BATS       USD                 22\n",
       "CSE        USD                 32\n",
       "EXPM       USD               2045\n",
       "LSE        USD                 12\n",
       "NASDAQ     USD              12678\n",
       "NMFQS      USD                 36\n",
       "NYSE       USD               7759\n",
       "NYSE ARCA  USD                 66\n",
       "NYSE MKT   USD                465\n",
       "NYSE NAT   USD                  3\n",
       "OTCBB      USD                650\n",
       "OTCCE      USD               1101\n",
       "OTCGREY    USD               4147\n",
       "OTCMKTS    USD               1189\n",
       "OTCQB      USD               1254\n",
       "OTCQX      USD                760\n",
       "PINK       USD              15358\n",
       "SHE        CNY               3387\n",
       "           HKD                 12\n",
       "SHEB       HKD                 42\n",
       "SHG        CNY               2954\n",
       "           USD                  6\n",
       "SHGB       USD                 44\n",
       "Name: ticker, dtype: int64"
      ]
     },
     "execution_count": 4,
     "metadata": {},
     "output_type": "execute_result"
    }
   ],
   "source": [
    "# 거래시장에 따른 데이터 구분 (마이너 거래소나 장외 거래소 이용 불가)\n",
    "tickers_df.groupby(['exchange', 'priceCurrency'])['ticker'].count()"
   ]
  },
  {
   "cell_type": "code",
   "execution_count": 5,
   "metadata": {},
   "outputs": [
    {
     "name": "stdout",
     "output_type": "stream",
     "text": [
      "{'ticker': 'AAPL', 'name': 'Apple Inc', 'description': \"Apple Inc. (Apple) designs, manufactures and markets mobile communication and media devices, personal computers, and portable digital music players, and a variety of related software, services, peripherals, networking solutions, and third-party digital content and applications. The Company's products and services include iPhone, iPad, Mac, iPod, Apple TV, a portfolio of consumer and professional software applications, the iOS and OS X operating systems, iCloud, and a variety of accessory, service and support offerings. The Company also delivers digital content and applications through the iTunes Store, App StoreSM, iBookstoreSM, and Mac App Store. The Company distributes its products worldwide through its retail stores, online stores, and direct sales force, as well as through third-party cellular network carriers, wholesalers, retailers, and value-added resellers. In February 2012, the Company acquired app-search engine Chomp.\", 'startDate': '1980-12-12', 'endDate': '2024-03-08', 'exchangeCode': 'NASDAQ'}\n"
     ]
    }
   ],
   "source": [
    "# APPL 주식 상세 정보 확인\n",
    "ticker_metadata = client.get_ticker_metadata(\"AAPL\")\n",
    "print(ticker_metadata)"
   ]
  },
  {
   "cell_type": "code",
   "execution_count": 6,
   "metadata": {},
   "outputs": [
    {
     "data": {
      "text/html": [
       "<div>\n",
       "<style scoped>\n",
       "    .dataframe tbody tr th:only-of-type {\n",
       "        vertical-align: middle;\n",
       "    }\n",
       "\n",
       "    .dataframe tbody tr th {\n",
       "        vertical-align: top;\n",
       "    }\n",
       "\n",
       "    .dataframe thead th {\n",
       "        text-align: right;\n",
       "    }\n",
       "</style>\n",
       "<table border=\"1\" class=\"dataframe\">\n",
       "  <thead>\n",
       "    <tr style=\"text-align: right;\">\n",
       "      <th></th>\n",
       "      <th>close</th>\n",
       "      <th>high</th>\n",
       "      <th>low</th>\n",
       "      <th>open</th>\n",
       "      <th>volume</th>\n",
       "      <th>adjClose</th>\n",
       "      <th>adjHigh</th>\n",
       "      <th>adjLow</th>\n",
       "      <th>adjOpen</th>\n",
       "      <th>adjVolume</th>\n",
       "      <th>divCash</th>\n",
       "      <th>splitFactor</th>\n",
       "    </tr>\n",
       "    <tr>\n",
       "      <th>date</th>\n",
       "      <th></th>\n",
       "      <th></th>\n",
       "      <th></th>\n",
       "      <th></th>\n",
       "      <th></th>\n",
       "      <th></th>\n",
       "      <th></th>\n",
       "      <th></th>\n",
       "      <th></th>\n",
       "      <th></th>\n",
       "      <th></th>\n",
       "      <th></th>\n",
       "    </tr>\n",
       "  </thead>\n",
       "  <tbody>\n",
       "    <tr>\n",
       "      <th>2017-08-01 00:00:00+00:00</th>\n",
       "      <td>150.05</td>\n",
       "      <td>150.22</td>\n",
       "      <td>148.4100</td>\n",
       "      <td>149.10</td>\n",
       "      <td>24725526</td>\n",
       "      <td>35.156718</td>\n",
       "      <td>35.196549</td>\n",
       "      <td>34.772466</td>\n",
       "      <td>34.934133</td>\n",
       "      <td>98902104</td>\n",
       "      <td>0.0</td>\n",
       "      <td>1.0</td>\n",
       "    </tr>\n",
       "    <tr>\n",
       "      <th>2017-08-02 00:00:00+00:00</th>\n",
       "      <td>157.14</td>\n",
       "      <td>159.75</td>\n",
       "      <td>156.1600</td>\n",
       "      <td>159.28</td>\n",
       "      <td>69222793</td>\n",
       "      <td>36.817905</td>\n",
       "      <td>37.429428</td>\n",
       "      <td>36.588291</td>\n",
       "      <td>37.319307</td>\n",
       "      <td>276891172</td>\n",
       "      <td>0.0</td>\n",
       "      <td>1.0</td>\n",
       "    </tr>\n",
       "    <tr>\n",
       "      <th>2017-08-03 00:00:00+00:00</th>\n",
       "      <td>155.57</td>\n",
       "      <td>157.21</td>\n",
       "      <td>155.0200</td>\n",
       "      <td>157.05</td>\n",
       "      <td>26000738</td>\n",
       "      <td>36.450054</td>\n",
       "      <td>36.834306</td>\n",
       "      <td>36.321189</td>\n",
       "      <td>36.796818</td>\n",
       "      <td>104002952</td>\n",
       "      <td>0.0</td>\n",
       "      <td>1.0</td>\n",
       "    </tr>\n",
       "    <tr>\n",
       "      <th>2017-08-04 00:00:00+00:00</th>\n",
       "      <td>156.39</td>\n",
       "      <td>157.40</td>\n",
       "      <td>155.6900</td>\n",
       "      <td>156.07</td>\n",
       "      <td>20349532</td>\n",
       "      <td>36.642180</td>\n",
       "      <td>36.878823</td>\n",
       "      <td>36.478170</td>\n",
       "      <td>36.567204</td>\n",
       "      <td>81398128</td>\n",
       "      <td>0.0</td>\n",
       "      <td>1.0</td>\n",
       "    </tr>\n",
       "    <tr>\n",
       "      <th>2017-08-07 00:00:00+00:00</th>\n",
       "      <td>158.81</td>\n",
       "      <td>158.92</td>\n",
       "      <td>156.6701</td>\n",
       "      <td>157.06</td>\n",
       "      <td>21870321</td>\n",
       "      <td>37.209186</td>\n",
       "      <td>37.234959</td>\n",
       "      <td>36.707807</td>\n",
       "      <td>36.799161</td>\n",
       "      <td>87481284</td>\n",
       "      <td>0.0</td>\n",
       "      <td>1.0</td>\n",
       "    </tr>\n",
       "  </tbody>\n",
       "</table>\n",
       "</div>"
      ],
      "text/plain": [
       "                            close    high       low    open    volume  \\\n",
       "date                                                                    \n",
       "2017-08-01 00:00:00+00:00  150.05  150.22  148.4100  149.10  24725526   \n",
       "2017-08-02 00:00:00+00:00  157.14  159.75  156.1600  159.28  69222793   \n",
       "2017-08-03 00:00:00+00:00  155.57  157.21  155.0200  157.05  26000738   \n",
       "2017-08-04 00:00:00+00:00  156.39  157.40  155.6900  156.07  20349532   \n",
       "2017-08-07 00:00:00+00:00  158.81  158.92  156.6701  157.06  21870321   \n",
       "\n",
       "                            adjClose    adjHigh     adjLow    adjOpen  \\\n",
       "date                                                                    \n",
       "2017-08-01 00:00:00+00:00  35.156718  35.196549  34.772466  34.934133   \n",
       "2017-08-02 00:00:00+00:00  36.817905  37.429428  36.588291  37.319307   \n",
       "2017-08-03 00:00:00+00:00  36.450054  36.834306  36.321189  36.796818   \n",
       "2017-08-04 00:00:00+00:00  36.642180  36.878823  36.478170  36.567204   \n",
       "2017-08-07 00:00:00+00:00  37.209186  37.234959  36.707807  36.799161   \n",
       "\n",
       "                           adjVolume  divCash  splitFactor  \n",
       "date                                                        \n",
       "2017-08-01 00:00:00+00:00   98902104      0.0          1.0  \n",
       "2017-08-02 00:00:00+00:00  276891172      0.0          1.0  \n",
       "2017-08-03 00:00:00+00:00  104002952      0.0          1.0  \n",
       "2017-08-04 00:00:00+00:00   81398128      0.0          1.0  \n",
       "2017-08-07 00:00:00+00:00   87481284      0.0          1.0  "
      ]
     },
     "execution_count": 6,
     "metadata": {},
     "output_type": "execute_result"
    }
   ],
   "source": [
    "# 주가 정보\n",
    "# divCash : 현금배당, splitFactor : 주식분할 조정계수\n",
    "historical_prices = client.get_dataframe(\"AAPL\", \n",
    "                                         startDate='2017-08-01',\n",
    "                                         frequency='daily')\n",
    "historical_prices.head()"
   ]
  },
  {
   "cell_type": "code",
   "execution_count": 7,
   "metadata": {},
   "outputs": [
    {
     "data": {
      "text/html": [
       "<div>\n",
       "<style scoped>\n",
       "    .dataframe tbody tr th:only-of-type {\n",
       "        vertical-align: middle;\n",
       "    }\n",
       "\n",
       "    .dataframe tbody tr th {\n",
       "        vertical-align: top;\n",
       "    }\n",
       "\n",
       "    .dataframe thead th {\n",
       "        text-align: right;\n",
       "    }\n",
       "</style>\n",
       "<table border=\"1\" class=\"dataframe\">\n",
       "  <thead>\n",
       "    <tr style=\"text-align: right;\">\n",
       "      <th></th>\n",
       "      <th>date</th>\n",
       "      <th>marketCap</th>\n",
       "      <th>enterpriseVal</th>\n",
       "      <th>peRatio</th>\n",
       "      <th>pbRatio</th>\n",
       "      <th>trailingPEG1Y</th>\n",
       "    </tr>\n",
       "  </thead>\n",
       "  <tbody>\n",
       "    <tr>\n",
       "      <th>0</th>\n",
       "      <td>2021-03-09T00:00:00.000Z</td>\n",
       "      <td>2.058663e+12</td>\n",
       "      <td>2.093880e+12</td>\n",
       "      <td>32.201833</td>\n",
       "      <td>31.086361</td>\n",
       "      <td>0.922143</td>\n",
       "    </tr>\n",
       "    <tr>\n",
       "      <th>1</th>\n",
       "      <td>2021-03-10T00:00:00.000Z</td>\n",
       "      <td>2.039876e+12</td>\n",
       "      <td>2.075093e+12</td>\n",
       "      <td>31.907965</td>\n",
       "      <td>30.802673</td>\n",
       "      <td>0.913728</td>\n",
       "    </tr>\n",
       "    <tr>\n",
       "      <th>2</th>\n",
       "      <td>2021-03-11T00:00:00.000Z</td>\n",
       "      <td>2.073540e+12</td>\n",
       "      <td>2.108757e+12</td>\n",
       "      <td>32.434534</td>\n",
       "      <td>31.311002</td>\n",
       "      <td>0.928807</td>\n",
       "    </tr>\n",
       "    <tr>\n",
       "      <th>3</th>\n",
       "      <td>2021-03-12T00:00:00.000Z</td>\n",
       "      <td>2.057728e+12</td>\n",
       "      <td>2.092945e+12</td>\n",
       "      <td>32.187206</td>\n",
       "      <td>31.072241</td>\n",
       "      <td>0.921725</td>\n",
       "    </tr>\n",
       "    <tr>\n",
       "      <th>4</th>\n",
       "      <td>2021-03-15T00:00:00.000Z</td>\n",
       "      <td>2.108053e+12</td>\n",
       "      <td>2.143270e+12</td>\n",
       "      <td>32.974401</td>\n",
       "      <td>31.832167</td>\n",
       "      <td>0.944267</td>\n",
       "    </tr>\n",
       "  </tbody>\n",
       "</table>\n",
       "</div>"
      ],
      "text/plain": [
       "                       date     marketCap  enterpriseVal    peRatio  \\\n",
       "0  2021-03-09T00:00:00.000Z  2.058663e+12   2.093880e+12  32.201833   \n",
       "1  2021-03-10T00:00:00.000Z  2.039876e+12   2.075093e+12  31.907965   \n",
       "2  2021-03-11T00:00:00.000Z  2.073540e+12   2.108757e+12  32.434534   \n",
       "3  2021-03-12T00:00:00.000Z  2.057728e+12   2.092945e+12  32.187206   \n",
       "4  2021-03-15T00:00:00.000Z  2.108053e+12   2.143270e+12  32.974401   \n",
       "\n",
       "     pbRatio  trailingPEG1Y  \n",
       "0  31.086361       0.922143  \n",
       "1  30.802673       0.913728  \n",
       "2  31.311002       0.928807  \n",
       "3  31.072241       0.921725  \n",
       "4  31.832167       0.944267  "
      ]
     },
     "execution_count": 7,
     "metadata": {},
     "output_type": "execute_result"
    }
   ],
   "source": [
    "# 일별 가치지표 (무료 계정은 다우존스 30 지수에 포함되는 종목만 제공)\n",
    "fundamentals_daily = client.get_fundamentals_daily('AAPL')\n",
    "fundamentals_daily_df = pd.DataFrame.from_records(fundamentals_daily)\n",
    "\n",
    "fundamentals_daily_df.head()"
   ]
  },
  {
   "cell_type": "code",
   "execution_count": 8,
   "metadata": {},
   "outputs": [
    {
     "data": {
      "text/html": [
       "<div>\n",
       "<style scoped>\n",
       "    .dataframe tbody tr th:only-of-type {\n",
       "        vertical-align: middle;\n",
       "    }\n",
       "\n",
       "    .dataframe tbody tr th {\n",
       "        vertical-align: top;\n",
       "    }\n",
       "\n",
       "    .dataframe thead th {\n",
       "        text-align: right;\n",
       "    }\n",
       "</style>\n",
       "<table border=\"1\" class=\"dataframe\">\n",
       "  <thead>\n",
       "    <tr style=\"text-align: right;\">\n",
       "      <th></th>\n",
       "      <th>year</th>\n",
       "      <th>quarter</th>\n",
       "      <th>statementType</th>\n",
       "      <th>dataCode</th>\n",
       "      <th>value</th>\n",
       "    </tr>\n",
       "    <tr>\n",
       "      <th>date</th>\n",
       "      <th></th>\n",
       "      <th></th>\n",
       "      <th></th>\n",
       "      <th></th>\n",
       "      <th></th>\n",
       "    </tr>\n",
       "  </thead>\n",
       "  <tbody>\n",
       "    <tr>\n",
       "      <th>2024-02-02</th>\n",
       "      <td>2024</td>\n",
       "      <td>1</td>\n",
       "      <td>cashFlow</td>\n",
       "      <td>depamor</td>\n",
       "      <td>2848000000.0</td>\n",
       "    </tr>\n",
       "    <tr>\n",
       "      <th>2024-02-02</th>\n",
       "      <td>2024</td>\n",
       "      <td>1</td>\n",
       "      <td>balanceSheet</td>\n",
       "      <td>ppeq</td>\n",
       "      <td>43666000000.0</td>\n",
       "    </tr>\n",
       "    <tr>\n",
       "      <th>2024-02-02</th>\n",
       "      <td>2024</td>\n",
       "      <td>1</td>\n",
       "      <td>balanceSheet</td>\n",
       "      <td>intangibles</td>\n",
       "      <td>0.0</td>\n",
       "    </tr>\n",
       "    <tr>\n",
       "      <th>2024-02-02</th>\n",
       "      <td>2024</td>\n",
       "      <td>1</td>\n",
       "      <td>incomeStatement</td>\n",
       "      <td>opinc</td>\n",
       "      <td>40373000000.0</td>\n",
       "    </tr>\n",
       "    <tr>\n",
       "      <th>2024-02-02</th>\n",
       "      <td>2024</td>\n",
       "      <td>1</td>\n",
       "      <td>incomeStatement</td>\n",
       "      <td>shareswa</td>\n",
       "      <td>15509763000.0</td>\n",
       "    </tr>\n",
       "  </tbody>\n",
       "</table>\n",
       "</div>"
      ],
      "text/plain": [
       "0           year quarter    statementType     dataCode          value\n",
       "date                                                                 \n",
       "2024-02-02  2024       1         cashFlow      depamor   2848000000.0\n",
       "2024-02-02  2024       1     balanceSheet         ppeq  43666000000.0\n",
       "2024-02-02  2024       1     balanceSheet  intangibles            0.0\n",
       "2024-02-02  2024       1  incomeStatement        opinc  40373000000.0\n",
       "2024-02-02  2024       1  incomeStatement     shareswa  15509763000.0"
      ]
     },
     "execution_count": 8,
     "metadata": {},
     "output_type": "execute_result"
    }
   ],
   "source": [
    "# financial statements (재무제표)\n",
    "fundamentals_stmnts = client.get_fundamentals_statements(\n",
    "    'AAPL', startDate='2019-01-01', asReported=True, fmt='csv'\n",
    ")\n",
    "# 텍스트 형태의 데이터를 클렌징을 통해 데이터프레임 형태로 변환\n",
    "df_fs = pd.DataFrame([x.split(',') for x in fundamentals_stmnts.split('\\n')])\n",
    "# 첫번째 행을 열 이름 지정후 해당 행 삭제\n",
    "df_fs.columns = df_fs.iloc[0]\n",
    "df_fs = df_fs[1:]\n",
    "# 'data' 열을 인덱스로 지정\n",
    "df_fs.set_index('date', drop=True, inplace=True)\n",
    "df_fs = df_fs[df_fs.index != '']\n",
    "\n",
    "df_fs.head()"
   ]
  },
  {
   "cell_type": "markdown",
   "metadata": {},
   "source": [
    "## 티커 수집하기"
   ]
  },
  {
   "cell_type": "markdown",
   "metadata": {},
   "source": [
    "[https://www.investing.com/](https://www.investing.com/)"
   ]
  },
  {
   "cell_type": "code",
   "execution_count": 9,
   "metadata": {},
   "outputs": [],
   "source": [
    "from selenium import webdriver\n",
    "from selenium.webdriver.chrome.service import Service\n",
    "from webdriver_manager.chrome import ChromeDriverManager\n",
    "from selenium.webdriver.common.by import By\n",
    "from bs4 import BeautifulSoup\n",
    "import math\n",
    "import pandas as pd\n",
    "\n",
    "driver = webdriver.Chrome(service=Service(ChromeDriverManager().install()))\n",
    "url = 'https://www.investing.com/stock-screener/?sp=country::5|sector::a|industry::a|equityType::a%3Ceq_market_cap;1'\n",
    "# open url\n",
    "driver.get(url)"
   ]
  },
  {
   "cell_type": "code",
   "execution_count": 10,
   "metadata": {},
   "outputs": [],
   "source": [
    "# HTML 정보에 해당하는 driver.page_source를 BeautifulSoup 객체로 만들어준다.\n",
    "html = BeautifulSoup(driver.page_source, 'lxml')"
   ]
  },
  {
   "cell_type": "code",
   "execution_count": 11,
   "metadata": {},
   "outputs": [
    {
     "data": {
      "text/plain": [
       "'United States'"
      ]
     },
     "execution_count": 11,
     "metadata": {},
     "output_type": "execute_result"
    }
   ],
   "source": [
    "# 국가명 확인\n",
    "html.find(class_='js-search-input inputDropDown')['value']"
   ]
  },
  {
   "cell_type": "code",
   "execution_count": 12,
   "metadata": {},
   "outputs": [
    {
     "name": "stdout",
     "output_type": "stream",
     "text": [
      "<table class=\"genTbl openTbl resultsStockScreenerTbl elpTbl\" id=\"resultsTable\">\n",
      "<thead>\n",
      "<tr>\n",
      "<th class=\"flag\"> </th>\n",
      "<th class=\"symbol left js-sortable pointer\" data-column-name=\"name_trans\"><i title=\"Name\">Name</i><span class=\"headerSortDefault\"></span></th><th class=\"left js-sortable pointer\" data-column-name=\"viewData.symbol\"><i title=\"Symbol\">Symbol</i><span class=\"headerSortDefault\"></span></th><th class=\"left displayNone js-sortable pointer\" data-column-name=\"exchange_trans\"><i title=\"Exchange\">Exchange</i><span class=\"headerSortDefault\"></span></th><th class=\"left displayNone js-sortable pointer\" data-column-name=\"sector_trans\"><i title=\"Sector\">Sector</i><span class=\"headerSortDefault\"></span></th><th class=\"left displayNone js-sortable pointer\" data-column-name=\"industry_trans\"><i title=\"Industry\">Industry</i><span class=\"headerSortDefault\"></span></th><th class=\"js-sortable pointer\" data-column-name=\"last\"><i title=\"Last\">Last</i><span class=\"headerSortDefault\"></span></th><th class=\"js-sortable pointer\" data-column-name=\"pair_change_percent\"><i title=\"Chg. %\">Chg. %</i><span class=\"headerSortDefault\"></span></th><th class=\"js-sortable pointer\" data-column-name=\"eq_market_cap\"><i title=\"Market Cap\">Market Cap</i><span class=\"headerSortDown\"></span></th><th class=\"js-sortable pointer\" data-column-name=\"turnover_volume\"><i title=\"Vol.\">Vol.</i><span class=\"headerSortDefault\"></span></th><th class=\"displayNone js-sortable pointer\" data-column-name=\"eq_pe_ratio\"><i title=\"P/E Ratio\">P/E Ratio</i><span class=\"headerSortDefault\"></span></th><th class=\"displayNone js-sortable pointer\" data-column-name=\"MACD\"><i title=\"MACD (12,26 / 1D)\">MACD (12,26 / 1D)</i><span class=\"headerSortDefault\"></span></th><th class=\"displayNone js-sortable pointer\" data-column-name=\"eq_revenue\"><i title=\"Revenue\">Revenue</i><span class=\"headerSortDefault\"></span></th><th class=\"displayNone js-sortable pointer\" data-column-name=\"avg_volume\"><i title=\"Average Vol. (3m)\">Average Vol. (3m)</i><span class=\"headerSortDefault\"></span></th><th class=\"displayNone js-sortable pointer\" data-column-name=\"eq_eps\"><i title=\"EPS\">EPS</i><span class=\"headerSortDefault\"></span></th><th class=\"displayNone js-sortable pointer\" data-column-name=\"eq_beta\"><i title=\"Beta\">Beta</i><span class=\"headerSortDefault\"></span></th><th class=\"displayNone js-sortable pointer\" data-column-name=\"eq_dividend\"><i title=\"Dividend\">Dividend</i><span class=\"headerSortDefault\"></span></th><th class=\"displayNone js-sortable pointer\" data-column-name=\"eq_yield\"><i title=\"Yield\">Yield</i><span class=\"headerSortDefault\"></span></th><th class=\"left displayNone js-sortable pointer\" data-column-name=\"tech_sum_900\"><i title=\"15 Minutes\">15 Minutes</i><span class=\"headerSortDefault\"></span></th><th class=\"left displayNone js-sortable pointer\" data-column-name=\"tech_sum_3600\"><i title=\"Hourly\">Hourly</i><span class=\"headerSortDefault\"></span></th><th class=\"left displayNone js-sortable pointer\" data-column-name=\"tech_sum_86400\"><i title=\"Daily\">Daily</i><span class=\"headerSortDefault\"></span></th><th class=\"left displayNone js-sortable pointer\" data-column-name=\"tech_sum_week\"><i title=\"Weekly\">Weekly</i><span class=\"headerSortDefault\"></span></th><th class=\"left displayNone js-sortable pointer\" data-column-name=\"tech_sum_month\"><i title=\"Monthly\">Monthly</i><span class=\"headerSortDefault\"></span></th><th class=\"displayNone js-sortable pointer\" data-column-name=\"daily\"><i title=\"Daily\">Daily</i><span class=\"headerSortDefault\"></span></th><th class=\"displayNone js-sortable pointer\" data-column-name=\"week\"><i title=\"1 Week\">1 Week</i><span class=\"headerSortDefault\"></span></th><th class=\"displayNone js-sortable pointer\" data-column-name=\"month\"><i title=\"1 Month\">1 Month</i><span class=\"headerSortDefault\"></span></th><th class=\"displayNone js-sortable pointer\" data-column-name=\"ytd\"><i title=\"YTD\">YTD</i><span class=\"headerSortDefault\"></span></th><th class=\"displayNone js-sortable pointer\" data-column-name=\"year\"><i title=\"1 Year\">1 Year</i><span class=\"headerSortDefault\"></span></th><th class=\"displayNone js-sortable pointer\" data-column-name=\"3year\"><i title=\"3 Years\">3 Years</i><span class=\"headerSortDefault\"></span></th><th class=\"displayNone js-sortable pointer\" data-column-name=\"eq_one_year_return\"><i title=\"1-Year Change\">1-Year Change</i><span class=\"headerSortDefault\"></span></th><th class=\"displayNone js-sortable pointer\" data-column-name=\"yield_us\"><i title=\"Dividend Yield (%)\">Dividend Yield (%)</i><span class=\"headerSortDefault\"></span></th><th class=\"displayNone js-sortable pointer\" data-column-name=\"peexclxor_us\"><i title=\"P/E Ratio (TTM)\">P/E Ratio (TTM)</i><span class=\"headerSortDefault\"></span></th><th class=\"displayNone js-sortable pointer\" data-column-name=\"ttmpr2rev_us\"><i title=\"Price to Sales (TTM)\">Price to Sales (TTM)</i><span class=\"headerSortDefault\"></span></th><th class=\"displayNone js-sortable pointer\" data-column-name=\"aprfcfps_us\"><i title=\"Price to Cash Flow (MRQ)\">Price to Cash Flow (MRQ)</i><span class=\"headerSortDefault\"></span></th><th class=\"displayNone js-sortable pointer\" data-column-name=\"ttmprfcfps_us\"><i title=\"Price to Free Cash Flow (TTM)\">Price to Free Cash Flow (TTM)</i><span class=\"headerSortDefault\"></span></th><th class=\"displayNone js-sortable pointer\" data-column-name=\"price2bk_us\"><i title=\"Price to Book (MRQ)\">Price to Book (MRQ)</i><span class=\"headerSortDefault\"></span></th><th class=\"displayNone js-sortable pointer\" data-column-name=\"pr2tanbk_us\"><i title=\"Price to Tangible Book (MRQ)\">Price to Tangible Book (MRQ)</i><span class=\"headerSortDefault\"></span></th><th class=\"displayNone js-sortable pointer\" data-column-name=\"epschngyr_us\"><i title=\"EPS(MRQ) vs Qtr. 1 Yr. Ago\">EPS(MRQ) vs Qtr. 1 Yr. Ago</i><span class=\"headerSortDefault\"></span></th><th class=\"displayNone js-sortable pointer\" data-column-name=\"ttmepschg_us\"><i title=\"EPS(TTM) vs TTM 1 Yr. Ago\">EPS(TTM) vs TTM 1 Yr. Ago</i><span class=\"headerSortDefault\"></span></th><th class=\"displayNone js-sortable pointer\" data-column-name=\"epstrendgr_us\"><i title=\"5 Year EPS Growth\">5 Year EPS Growth</i><span class=\"headerSortDefault\"></span></th><th class=\"displayNone js-sortable pointer\" data-column-name=\"revchngyr_us\"><i title=\"Sales (MRQ) vs Qtr. 1 Yr. Ago\">Sales (MRQ) vs Qtr. 1 Yr. Ago</i><span class=\"headerSortDefault\"></span></th><th class=\"displayNone js-sortable pointer\" data-column-name=\"ttmrevchg_us\"><i title=\"Sales (TTM) vs TTM 1 Yr. Ago (TTM)\">Sales (TTM) vs TTM 1 Yr. Ago (TTM)</i><span class=\"headerSortDefault\"></span></th><th class=\"displayNone js-sortable pointer\" data-column-name=\"revtrendgr_us\"><i title=\"5 Year Sales Growth\">5 Year Sales Growth</i><span class=\"headerSortDefault\"></span></th><th class=\"displayNone js-sortable pointer\" data-column-name=\"csptrendgr_us\"><i title=\"5 Year Capital Spending Growth\">5 Year Capital Spending Growth</i><span class=\"headerSortDefault\"></span></th><th class=\"displayNone js-sortable pointer\" data-column-name=\"ttmastturn_us\"><i title=\"Asset Turnover (TTM)\">Asset Turnover (TTM)</i><span class=\"headerSortDefault\"></span></th><th class=\"displayNone js-sortable pointer\" data-column-name=\"ttminvturn_us\"><i title=\"Inventory Turnover (TTM)\">Inventory Turnover (TTM)</i><span class=\"headerSortDefault\"></span></th><th class=\"displayNone js-sortable pointer\" data-column-name=\"ttmrevpere_us\"><i title=\"Revenue/Employee (TTM)\">Revenue/Employee (TTM)</i><span class=\"headerSortDefault\"></span></th><th class=\"displayNone js-sortable pointer\" data-column-name=\"ttmniperem_us\"><i title=\"Net Income/Employee (TTM)\">Net Income/Employee (TTM)</i><span class=\"headerSortDefault\"></span></th><th class=\"displayNone js-sortable pointer\" data-column-name=\"ttmrecturn_us\"><i title=\"Receivable Turnover (TTM)\">Receivable Turnover (TTM)</i><span class=\"headerSortDefault\"></span></th><th class=\"displayNone js-sortable pointer\" data-column-name=\"a52_week_high\"><i title=\"52 wk Range - High\">52 wk Range - High</i><span class=\"headerSortDefault\"></span></th><th class=\"displayNone js-sortable pointer\" data-column-name=\"a52_week_low\"><i title=\"52 wk Range - Low\">52 wk Range - Low</i><span class=\"headerSortDefault\"></span></th><th class=\"displayNone js-sortable pointer\" data-column-name=\"a52_week_high_diff\"><i title=\"% Change from 52 wk High\">% Change from 52 wk High</i><span class=\"headerSortDefault\"></span></th><th class=\"displayNone js-sortable pointer\" data-column-name=\"a52_week_low_diff\"><i title=\"% Change from 52 wk Low\">% Change from 52 wk Low</i><span class=\"headerSortDefault\"></span></th><th class=\"displayNone js-sortable pointer\" data-column-name=\"month_change\"><i title=\"Previous Month % Change\">Previous Month % Change</i><span class=\"headerSortDefault\"></span></th><th class=\"displayNone js-sortable pointer\" data-column-name=\"ttmgrosmgn_us\"><i title=\"Gross margin (TTM)\">Gross margin (TTM)</i><span class=\"headerSortDefault\"></span></th><th class=\"displayNone js-sortable pointer\" data-column-name=\"grosmgn5yr_us\"><i title=\"Gross Margin (5YA)\">Gross Margin (5YA)</i><span class=\"headerSortDefault\"></span></th><th class=\"displayNone js-sortable pointer\" data-column-name=\"ttmopmgn_us\"><i title=\"Operating margin (TTM)\">Operating margin (TTM)</i><span class=\"headerSortDefault\"></span></th><th class=\"displayNone js-sortable pointer\" data-column-name=\"opmgn5yr_us\"><i title=\"Operating margin (5YA)\">Operating margin (5YA)</i><span class=\"headerSortDefault\"></span></th><th class=\"displayNone js-sortable pointer\" data-column-name=\"ttmptmgn_us\"><i title=\"Pretax margin (TTM)\">Pretax margin (TTM)</i><span class=\"headerSortDefault\"></span></th><th class=\"displayNone js-sortable pointer\" data-column-name=\"ptmgn5yr_us\"><i title=\"Pretax margin (5YA)\">Pretax margin (5YA)</i><span class=\"headerSortDefault\"></span></th><th class=\"displayNone js-sortable pointer\" data-column-name=\"ttmnpmgn_us\"><i title=\"Net Profit margin (TTM)\">Net Profit margin (TTM)</i><span class=\"headerSortDefault\"></span></th><th class=\"displayNone js-sortable pointer\" data-column-name=\"margin5yr_us\"><i title=\"Net Profit margin (5YA)\">Net Profit margin (5YA)</i><span class=\"headerSortDefault\"></span></th><th class=\"displayNone js-sortable pointer\" data-column-name=\"qquickrati_us\"><i title=\"Quick Ratio (MRQ)\">Quick Ratio (MRQ)</i><span class=\"headerSortDefault\"></span></th><th class=\"displayNone js-sortable pointer\" data-column-name=\"qcurratio_us\"><i title=\"Current Ratio (MRQ)\">Current Ratio (MRQ)</i><span class=\"headerSortDefault\"></span></th><th class=\"displayNone js-sortable pointer\" data-column-name=\"qltd2eq_us\"><i title=\"LT Debt to Equity (MRQ)\">LT Debt to Equity (MRQ)</i><span class=\"headerSortDefault\"></span></th><th class=\"displayNone js-sortable pointer\" data-column-name=\"qtotd2eq_us\"><i title=\"Total Debt to Equity\">Total Debt to Equity</i><span class=\"headerSortDefault\"></span></th><th class=\"displayNone js-sortable pointer\" data-column-name=\"yld5yavg_us\"><i title=\"Dividend Yield 5 Year Avg. (5YA)\">Dividend Yield 5 Year Avg. (5YA)</i><span class=\"headerSortDefault\"></span></th><th class=\"displayNone js-sortable pointer\" data-column-name=\"divgrpct_us\"><i title=\"Dividend Growth Rate (ANN)\">Dividend Growth Rate (ANN)</i><span class=\"headerSortDefault\"></span></th><th class=\"displayNone js-sortable pointer\" data-column-name=\"ttmpayrat_us\"><i title=\"Payout Ratio (TTM)\">Payout Ratio (TTM)</i><span class=\"headerSortDefault\"></span></th><th class=\"displayNone js-sortable pointer\" data-column-name=\"ADX\"><i title=\"ADX (14 / 1D)\">ADX (14 / 1D)</i><span class=\"headerSortDefault\"></span></th><th class=\"displayNone js-sortable pointer\" data-column-name=\"ATR\"><i title=\"ATR (14 / 1D)\">ATR (14 / 1D)</i><span class=\"headerSortDefault\"></span></th><th class=\"displayNone js-sortable pointer\" data-column-name=\"BullBear\"><i title=\"Bull/Bear Power (13 / 1D)\">Bull/Bear Power (13 / 1D)</i><span class=\"headerSortDefault\"></span></th><th class=\"displayNone js-sortable pointer\" data-column-name=\"CCI\"><i title=\"CCI (14 / 1D)\">CCI (14 / 1D)</i><span class=\"headerSortDefault\"></span></th><th class=\"displayNone js-sortable pointer\" data-column-name=\"HL\"><i title=\"Highs/Lows (14 / 1D)\">Highs/Lows (14 / 1D)</i><span class=\"headerSortDefault\"></span></th><th class=\"displayNone js-sortable pointer\" data-column-name=\"ROC\"><i title=\"ROC (1D)\">ROC (1D)</i><span class=\"headerSortDefault\"></span></th><th class=\"displayNone js-sortable pointer\" data-column-name=\"RSI\"><i title=\"RSI (14 / 1D)\">RSI (14 / 1D)</i><span class=\"headerSortDefault\"></span></th><th class=\"displayNone js-sortable pointer\" data-column-name=\"STOCH\"><i title=\"STOCH (14 / 1D)\">STOCH (14 / 1D)</i><span class=\"headerSortDefault\"></span></th><th class=\"displayNone js-sortable pointer\" data-column-name=\"STOCHRSI\"><i title=\"STOCHRSI (14 / 1D)\">STOCHRSI (14 / 1D)</i><span class=\"headerSortDefault\"></span></th><th class=\"displayNone js-sortable pointer\" data-column-name=\"UO\"><i title=\"Ultimate Oscillator (14 /1D)\">Ultimate Oscillator (14 /1D)</i><span class=\"headerSortDefault\"></span></th><th class=\"displayNone js-sortable pointer\" data-column-name=\"WilliamsR\"><i title=\"Williams %R (1D)\">Williams %R (1D)</i><span class=\"headerSortDefault\"></span></th> <th class=\"icon\">\n",
      "<script>\n",
      "\tvar columnsSettings_stock_screener = new ColumnsSettings(\n",
      "\t\t'ltr',\t\t\t\t\t\t\t\t\t\t\t\t\t\t\t\t\t   // strHtmlDir\n",
      "\t\t'resultsContainer',\t\t\t\t\t\t\t\t\t\t\t\t\t\t\t \t   // containerId\n",
      "\t\t'resultsContainer',\t\t\t\t\t\t\t\t\t\t\t\t\t\t\t   \t   // tab\n",
      "\t\t'stock_screener',\t\t\t\t\t\t\t\t\t\t\t\t\t\t\t\t\t\t   // id\n",
      "\t\t'Currently selected: X (max 8)', // message\n",
      "\t\t'8',\t\t\t\t\t\t\t\t\t\t\t\t\t\t\t   // intMaxCheckboxes\n",
      "\t\t'1'                                                          // intMinOptCheckboxes\n",
      "\t);\n",
      "</script>\n",
      "<div class=\"colSelectIconWrapper\">\n",
      "<span class=\"colSelectIcon\" id=\"colSelectIcon_stock_screener\" onclick=\"columnsSettings_stock_screener.colSelectIconClick(event);\">\n",
      "</span>\n",
      "</div>\n",
      "<form class=\"colSelectForm\" id=\"resultsContainerColsSelectstock_screener\">\n",
      "<div class=\"tooltipPopup displayNone colSelectPopup js-column-select-popup\" id=\"colSelectPopup_stock_screener\">\n",
      "<div class=\"header\">\n",
      "Adjust table </div>\n",
      "<div class=\"content\">\n",
      "<div class=\"smallPopupRows\">\n",
      "<ul>\n",
      "<li>\n",
      "<input checked=\"true\" data-column-name=\"name_trans\" data-required=\"1\" id=\"SS_1\" onclick=\"columnsSettings_stock_screener.onCheckboxClick(this);\" type=\"checkbox\" value=\"name_trans\"/>\n",
      "<label class=\"pointer\" for=\"SS_1\" title=\"Name\">\n",
      "Name </label>\n",
      "</li>\n",
      "<li>\n",
      "<input checked=\"true\" data-column-name=\"viewData.symbol\" data-required=\"1\" id=\"SS_2\" onclick=\"columnsSettings_stock_screener.onCheckboxClick(this);\" type=\"checkbox\" value=\"viewData.symbol\"/>\n",
      "<label class=\"pointer\" for=\"SS_2\" title=\"Symbol\">\n",
      "Symbol </label>\n",
      "</li>\n",
      "<li>\n",
      "<input data-column-name=\"exchange_trans\" id=\"SS_3\" onclick=\"columnsSettings_stock_screener.onCheckboxClick(this);\" type=\"checkbox\" value=\"exchange_trans\"/>\n",
      "<label class=\"pointer\" for=\"SS_3\" title=\"Exchange\">\n",
      "Exchange </label>\n",
      "</li>\n",
      "<li>\n",
      "<input data-column-name=\"sector_trans\" id=\"SS_4\" onclick=\"columnsSettings_stock_screener.onCheckboxClick(this);\" type=\"checkbox\" value=\"sector_trans\"/>\n",
      "<label class=\"pointer\" for=\"SS_4\" title=\"Sector\">\n",
      "Sector </label>\n",
      "</li>\n",
      "<li>\n",
      "<input data-column-name=\"industry_trans\" id=\"SS_5\" onclick=\"columnsSettings_stock_screener.onCheckboxClick(this);\" type=\"checkbox\" value=\"industry_trans\"/>\n",
      "<label class=\"pointer\" for=\"SS_5\" title=\"Industry\">\n",
      "Industry </label>\n",
      "</li>\n",
      "<li>\n",
      "<input checked=\"true\" data-column-name=\"last\" id=\"SS_6\" onclick=\"columnsSettings_stock_screener.onCheckboxClick(this);\" type=\"checkbox\" value=\"last\"/>\n",
      "<label class=\"pointer\" for=\"SS_6\" title=\"Last\">\n",
      "Last </label>\n",
      "</li>\n",
      "<li>\n",
      "<input checked=\"true\" data-column-name=\"pair_change_percent\" id=\"SS_7\" onclick=\"columnsSettings_stock_screener.onCheckboxClick(this);\" type=\"checkbox\" value=\"pair_change_percent\"/>\n",
      "<label class=\"pointer\" for=\"SS_7\" title=\"Chg. %\">\n",
      "Chg. % </label>\n",
      "</li>\n",
      "<li>\n",
      "<input checked=\"true\" data-column-name=\"eq_market_cap\" id=\"SS_8\" onclick=\"columnsSettings_stock_screener.onCheckboxClick(this);\" type=\"checkbox\" value=\"eq_market_cap\"/>\n",
      "<label class=\"pointer\" for=\"SS_8\" title=\"Market Cap\">\n",
      "Market Cap </label>\n",
      "</li>\n",
      "<li>\n",
      "<input checked=\"true\" data-column-name=\"turnover_volume\" id=\"SS_9\" onclick=\"columnsSettings_stock_screener.onCheckboxClick(this);\" type=\"checkbox\" value=\"turnover_volume\"/>\n",
      "<label class=\"pointer\" for=\"SS_9\" title=\"Vol.\">\n",
      "Vol. </label>\n",
      "</li>\n",
      "<li>\n",
      "<input data-column-name=\"eq_pe_ratio\" id=\"SS_10\" onclick=\"columnsSettings_stock_screener.onCheckboxClick(this);\" type=\"checkbox\" value=\"eq_pe_ratio\"/>\n",
      "<label class=\"pointer\" for=\"SS_10\" title=\"P/E Ratio\">\n",
      "P/E Ratio </label>\n",
      "</li>\n",
      "<li>\n",
      "<input data-column-name=\"MACD\" id=\"SS_11\" onclick=\"columnsSettings_stock_screener.onCheckboxClick(this);\" type=\"checkbox\" value=\"MACD\"/>\n",
      "<label class=\"pointer\" for=\"SS_11\" title=\"MACD (12,26 / 1D)\">\n",
      "MACD (12,26 / 1D) </label>\n",
      "</li>\n",
      "<li class=\"displayNone\">\n",
      "<input data-column-name=\"eq_revenue\" id=\"SS_12\" onclick=\"columnsSettings_stock_screener.onCheckboxClick(this);\" type=\"checkbox\" value=\"eq_revenue\"/>\n",
      "<label class=\"pointer\" for=\"SS_12\" title=\"Revenue\">\n",
      "Revenue </label>\n",
      "</li>\n",
      "<li class=\"displayNone\">\n",
      "<input data-column-name=\"avg_volume\" id=\"SS_13\" onclick=\"columnsSettings_stock_screener.onCheckboxClick(this);\" type=\"checkbox\" value=\"avg_volume\"/>\n",
      "<label class=\"pointer\" for=\"SS_13\" title=\"Average Vol. (3m)\">\n",
      "Average Vol. (3m) </label>\n",
      "</li>\n",
      "<li class=\"displayNone\">\n",
      "<input data-column-name=\"eq_eps\" id=\"SS_14\" onclick=\"columnsSettings_stock_screener.onCheckboxClick(this);\" type=\"checkbox\" value=\"eq_eps\"/>\n",
      "<label class=\"pointer\" for=\"SS_14\" title=\"EPS\">\n",
      "EPS </label>\n",
      "</li>\n",
      "<li class=\"displayNone\">\n",
      "<input data-column-name=\"eq_beta\" id=\"SS_15\" onclick=\"columnsSettings_stock_screener.onCheckboxClick(this);\" type=\"checkbox\" value=\"eq_beta\"/>\n",
      "<label class=\"pointer\" for=\"SS_15\" title=\"Beta\">\n",
      "Beta </label>\n",
      "</li>\n",
      "<li class=\"displayNone\">\n",
      "<input data-column-name=\"eq_dividend\" id=\"SS_16\" onclick=\"columnsSettings_stock_screener.onCheckboxClick(this);\" type=\"checkbox\" value=\"eq_dividend\"/>\n",
      "<label class=\"pointer\" for=\"SS_16\" title=\"Dividend\">\n",
      "Dividend </label>\n",
      "</li>\n",
      "<li class=\"displayNone\">\n",
      "<input data-column-name=\"eq_yield\" id=\"SS_17\" onclick=\"columnsSettings_stock_screener.onCheckboxClick(this);\" type=\"checkbox\" value=\"eq_yield\"/>\n",
      "<label class=\"pointer\" for=\"SS_17\" title=\"Yield\">\n",
      "Yield </label>\n",
      "</li>\n",
      "<li class=\"displayNone\">\n",
      "<input data-column-name=\"tech_sum_900\" id=\"SS_18\" onclick=\"columnsSettings_stock_screener.onCheckboxClick(this);\" type=\"checkbox\" value=\"tech_sum_900\"/>\n",
      "<label class=\"pointer\" for=\"SS_18\" title=\"15 Minutes\">\n",
      "15 Minutes </label>\n",
      "</li>\n",
      "<li class=\"displayNone\">\n",
      "<input data-column-name=\"tech_sum_3600\" id=\"SS_19\" onclick=\"columnsSettings_stock_screener.onCheckboxClick(this);\" type=\"checkbox\" value=\"tech_sum_3600\"/>\n",
      "<label class=\"pointer\" for=\"SS_19\" title=\"Hourly\">\n",
      "Hourly </label>\n",
      "</li>\n",
      "<li class=\"displayNone\">\n",
      "<input data-column-name=\"tech_sum_86400\" id=\"SS_20\" onclick=\"columnsSettings_stock_screener.onCheckboxClick(this);\" type=\"checkbox\" value=\"tech_sum_86400\"/>\n",
      "<label class=\"pointer\" for=\"SS_20\" title=\"Daily\">\n",
      "Daily </label>\n",
      "</li>\n",
      "<li class=\"displayNone\">\n",
      "<input data-column-name=\"tech_sum_week\" id=\"SS_21\" onclick=\"columnsSettings_stock_screener.onCheckboxClick(this);\" type=\"checkbox\" value=\"tech_sum_week\"/>\n",
      "<label class=\"pointer\" for=\"SS_21\" title=\"Weekly\">\n",
      "Weekly </label>\n",
      "</li>\n",
      "<li class=\"displayNone\">\n",
      "<input data-column-name=\"tech_sum_month\" id=\"SS_22\" onclick=\"columnsSettings_stock_screener.onCheckboxClick(this);\" type=\"checkbox\" value=\"tech_sum_month\"/>\n",
      "<label class=\"pointer\" for=\"SS_22\" title=\"Monthly\">\n",
      "Monthly </label>\n",
      "</li>\n",
      "<li class=\"displayNone\">\n",
      "<input data-column-name=\"daily\" id=\"SS_23\" onclick=\"columnsSettings_stock_screener.onCheckboxClick(this);\" type=\"checkbox\" value=\"daily\"/>\n",
      "<label class=\"pointer\" for=\"SS_23\" title=\"Daily\">\n",
      "Daily </label>\n",
      "</li>\n",
      "<li class=\"displayNone\">\n",
      "<input data-column-name=\"week\" id=\"SS_24\" onclick=\"columnsSettings_stock_screener.onCheckboxClick(this);\" type=\"checkbox\" value=\"week\"/>\n",
      "<label class=\"pointer\" for=\"SS_24\" title=\"1 Week\">\n",
      "1 Week </label>\n",
      "</li>\n",
      "<li class=\"displayNone\">\n",
      "<input data-column-name=\"month\" id=\"SS_25\" onclick=\"columnsSettings_stock_screener.onCheckboxClick(this);\" type=\"checkbox\" value=\"month\"/>\n",
      "<label class=\"pointer\" for=\"SS_25\" title=\"1 Month\">\n",
      "1 Month </label>\n",
      "</li>\n",
      "<li class=\"displayNone\">\n",
      "<input data-column-name=\"ytd\" id=\"SS_26\" onclick=\"columnsSettings_stock_screener.onCheckboxClick(this);\" type=\"checkbox\" value=\"ytd\"/>\n",
      "<label class=\"pointer\" for=\"SS_26\" title=\"YTD\">\n",
      "YTD </label>\n",
      "</li>\n",
      "<li class=\"displayNone\">\n",
      "<input data-column-name=\"year\" id=\"SS_27\" onclick=\"columnsSettings_stock_screener.onCheckboxClick(this);\" type=\"checkbox\" value=\"year\"/>\n",
      "<label class=\"pointer\" for=\"SS_27\" title=\"1 Year\">\n",
      "1 Year </label>\n",
      "</li>\n",
      "<li class=\"displayNone\">\n",
      "<input data-column-name=\"3year\" id=\"SS_28\" onclick=\"columnsSettings_stock_screener.onCheckboxClick(this);\" type=\"checkbox\" value=\"3year\"/>\n",
      "<label class=\"pointer\" for=\"SS_28\" title=\"3 Years\">\n",
      "3 Years </label>\n",
      "</li>\n",
      "<li class=\"displayNone\">\n",
      "<input data-column-name=\"eq_one_year_return\" id=\"SS_29\" onclick=\"columnsSettings_stock_screener.onCheckboxClick(this);\" type=\"checkbox\" value=\"eq_one_year_return\"/>\n",
      "<label class=\"pointer\" for=\"SS_29\" title=\"1-Year Change\">\n",
      "1-Year Change </label>\n",
      "</li>\n",
      "<li class=\"displayNone\">\n",
      "<input data-column-name=\"yield_us\" id=\"SS_30\" onclick=\"columnsSettings_stock_screener.onCheckboxClick(this);\" type=\"checkbox\" value=\"yield_us\"/>\n",
      "<label class=\"pointer\" for=\"SS_30\" title=\"Dividend Yield (%)\">\n",
      "Dividend Yield (%) </label>\n",
      "</li>\n",
      "<li class=\"displayNone\">\n",
      "<input data-column-name=\"peexclxor_us\" id=\"SS_31\" onclick=\"columnsSettings_stock_screener.onCheckboxClick(this);\" type=\"checkbox\" value=\"peexclxor_us\"/>\n",
      "<label class=\"pointer\" for=\"SS_31\" title=\"P/E Ratio (TTM)\">\n",
      "P/E Ratio (TTM) </label>\n",
      "</li>\n",
      "<li class=\"displayNone\">\n",
      "<input data-column-name=\"ttmpr2rev_us\" id=\"SS_32\" onclick=\"columnsSettings_stock_screener.onCheckboxClick(this);\" type=\"checkbox\" value=\"ttmpr2rev_us\"/>\n",
      "<label class=\"pointer\" for=\"SS_32\" title=\"Price to Sales (TTM)\">\n",
      "Price to Sales (TTM) </label>\n",
      "</li>\n",
      "<li class=\"displayNone\">\n",
      "<input data-column-name=\"aprfcfps_us\" id=\"SS_33\" onclick=\"columnsSettings_stock_screener.onCheckboxClick(this);\" type=\"checkbox\" value=\"aprfcfps_us\"/>\n",
      "<label class=\"pointer\" for=\"SS_33\" title=\"Price to Cash Flow (MRQ)\">\n",
      "Price to Cash Flow (MRQ) </label>\n",
      "</li>\n",
      "<li class=\"displayNone\">\n",
      "<input data-column-name=\"ttmprfcfps_us\" id=\"SS_34\" onclick=\"columnsSettings_stock_screener.onCheckboxClick(this);\" type=\"checkbox\" value=\"ttmprfcfps_us\"/>\n",
      "<label class=\"pointer\" for=\"SS_34\" title=\"Price to Free Cash Flow (TTM)\">\n",
      "Price to Free Cash Flow (TTM) </label>\n",
      "</li>\n",
      "<li class=\"displayNone\">\n",
      "<input data-column-name=\"price2bk_us\" id=\"SS_35\" onclick=\"columnsSettings_stock_screener.onCheckboxClick(this);\" type=\"checkbox\" value=\"price2bk_us\"/>\n",
      "<label class=\"pointer\" for=\"SS_35\" title=\"Price to Book (MRQ)\">\n",
      "Price to Book (MRQ) </label>\n",
      "</li>\n",
      "<li class=\"displayNone\">\n",
      "<input data-column-name=\"pr2tanbk_us\" id=\"SS_36\" onclick=\"columnsSettings_stock_screener.onCheckboxClick(this);\" type=\"checkbox\" value=\"pr2tanbk_us\"/>\n",
      "<label class=\"pointer\" for=\"SS_36\" title=\"Price to Tangible Book (MRQ)\">\n",
      "Price to Tangible Book (MRQ) </label>\n",
      "</li>\n",
      "<li class=\"displayNone\">\n",
      "<input data-column-name=\"epschngyr_us\" id=\"SS_37\" onclick=\"columnsSettings_stock_screener.onCheckboxClick(this);\" type=\"checkbox\" value=\"epschngyr_us\"/>\n",
      "<label class=\"pointer\" for=\"SS_37\" title=\"EPS(MRQ) vs Qtr. 1 Yr. Ago\">\n",
      "EPS(MRQ) vs Qtr. 1 Yr. Ago </label>\n",
      "</li>\n",
      "<li class=\"displayNone\">\n",
      "<input data-column-name=\"ttmepschg_us\" id=\"SS_38\" onclick=\"columnsSettings_stock_screener.onCheckboxClick(this);\" type=\"checkbox\" value=\"ttmepschg_us\"/>\n",
      "<label class=\"pointer\" for=\"SS_38\" title=\"EPS(TTM) vs TTM 1 Yr. Ago\">\n",
      "EPS(TTM) vs TTM 1 Yr. Ago </label>\n",
      "</li>\n",
      "<li class=\"displayNone\">\n",
      "<input data-column-name=\"epstrendgr_us\" id=\"SS_39\" onclick=\"columnsSettings_stock_screener.onCheckboxClick(this);\" type=\"checkbox\" value=\"epstrendgr_us\"/>\n",
      "<label class=\"pointer\" for=\"SS_39\" title=\"5 Year EPS Growth\">\n",
      "5 Year EPS Growth </label>\n",
      "</li>\n",
      "<li class=\"displayNone\">\n",
      "<input data-column-name=\"revchngyr_us\" id=\"SS_40\" onclick=\"columnsSettings_stock_screener.onCheckboxClick(this);\" type=\"checkbox\" value=\"revchngyr_us\"/>\n",
      "<label class=\"pointer\" for=\"SS_40\" title=\"Sales (MRQ) vs Qtr. 1 Yr. Ago\">\n",
      "Sales (MRQ) vs Qtr. 1 Yr. Ago </label>\n",
      "</li>\n",
      "<li class=\"displayNone\">\n",
      "<input data-column-name=\"ttmrevchg_us\" id=\"SS_41\" onclick=\"columnsSettings_stock_screener.onCheckboxClick(this);\" type=\"checkbox\" value=\"ttmrevchg_us\"/>\n",
      "<label class=\"pointer\" for=\"SS_41\" title=\"Sales (TTM) vs TTM 1 Yr. Ago (TTM)\">\n",
      "Sales (TTM) vs TTM 1 Yr. Ago (TTM) </label>\n",
      "</li>\n",
      "<li class=\"displayNone\">\n",
      "<input data-column-name=\"revtrendgr_us\" id=\"SS_42\" onclick=\"columnsSettings_stock_screener.onCheckboxClick(this);\" type=\"checkbox\" value=\"revtrendgr_us\"/>\n",
      "<label class=\"pointer\" for=\"SS_42\" title=\"5 Year Sales Growth\">\n",
      "5 Year Sales Growth </label>\n",
      "</li>\n",
      "<li class=\"displayNone\">\n",
      "<input data-column-name=\"csptrendgr_us\" id=\"SS_43\" onclick=\"columnsSettings_stock_screener.onCheckboxClick(this);\" type=\"checkbox\" value=\"csptrendgr_us\"/>\n",
      "<label class=\"pointer\" for=\"SS_43\" title=\"5 Year Capital Spending Growth\">\n",
      "5 Year Capital Spending Growth </label>\n",
      "</li>\n",
      "<li class=\"displayNone\">\n",
      "<input data-column-name=\"ttmastturn_us\" id=\"SS_44\" onclick=\"columnsSettings_stock_screener.onCheckboxClick(this);\" type=\"checkbox\" value=\"ttmastturn_us\"/>\n",
      "<label class=\"pointer\" for=\"SS_44\" title=\"Asset Turnover (TTM)\">\n",
      "Asset Turnover (TTM) </label>\n",
      "</li>\n",
      "<li class=\"displayNone\">\n",
      "<input data-column-name=\"ttminvturn_us\" id=\"SS_45\" onclick=\"columnsSettings_stock_screener.onCheckboxClick(this);\" type=\"checkbox\" value=\"ttminvturn_us\"/>\n",
      "<label class=\"pointer\" for=\"SS_45\" title=\"Inventory Turnover (TTM)\">\n",
      "Inventory Turnover (TTM) </label>\n",
      "</li>\n",
      "<li class=\"displayNone\">\n",
      "<input data-column-name=\"ttmrevpere_us\" id=\"SS_46\" onclick=\"columnsSettings_stock_screener.onCheckboxClick(this);\" type=\"checkbox\" value=\"ttmrevpere_us\"/>\n",
      "<label class=\"pointer\" for=\"SS_46\" title=\"Revenue/Employee (TTM)\">\n",
      "Revenue/Employee (TTM) </label>\n",
      "</li>\n",
      "<li class=\"displayNone\">\n",
      "<input data-column-name=\"ttmniperem_us\" id=\"SS_47\" onclick=\"columnsSettings_stock_screener.onCheckboxClick(this);\" type=\"checkbox\" value=\"ttmniperem_us\"/>\n",
      "<label class=\"pointer\" for=\"SS_47\" title=\"Net Income/Employee (TTM)\">\n",
      "Net Income/Employee (TTM) </label>\n",
      "</li>\n",
      "<li class=\"displayNone\">\n",
      "<input data-column-name=\"ttmrecturn_us\" id=\"SS_48\" onclick=\"columnsSettings_stock_screener.onCheckboxClick(this);\" type=\"checkbox\" value=\"ttmrecturn_us\"/>\n",
      "<label class=\"pointer\" for=\"SS_48\" title=\"Receivable Turnover (TTM)\">\n",
      "Receivable Turnover (TTM) </label>\n",
      "</li>\n",
      "<li class=\"displayNone\">\n",
      "<input data-column-name=\"a52_week_high\" id=\"SS_49\" onclick=\"columnsSettings_stock_screener.onCheckboxClick(this);\" type=\"checkbox\" value=\"a52_week_high\"/>\n",
      "<label class=\"pointer\" for=\"SS_49\" title=\"52 wk Range - High\">\n",
      "52 wk Range - High </label>\n",
      "</li>\n",
      "<li class=\"displayNone\">\n",
      "<input data-column-name=\"a52_week_low\" id=\"SS_50\" onclick=\"columnsSettings_stock_screener.onCheckboxClick(this);\" type=\"checkbox\" value=\"a52_week_low\"/>\n",
      "<label class=\"pointer\" for=\"SS_50\" title=\"52 wk Range - Low\">\n",
      "52 wk Range - Low </label>\n",
      "</li>\n",
      "<li class=\"displayNone\">\n",
      "<input data-column-name=\"a52_week_high_diff\" id=\"SS_51\" onclick=\"columnsSettings_stock_screener.onCheckboxClick(this);\" type=\"checkbox\" value=\"a52_week_high_diff\"/>\n",
      "<label class=\"pointer\" for=\"SS_51\" title=\"% Change from 52 wk High\">\n",
      "% Change from 52 wk High </label>\n",
      "</li>\n",
      "<li class=\"displayNone\">\n",
      "<input data-column-name=\"a52_week_low_diff\" id=\"SS_52\" onclick=\"columnsSettings_stock_screener.onCheckboxClick(this);\" type=\"checkbox\" value=\"a52_week_low_diff\"/>\n",
      "<label class=\"pointer\" for=\"SS_52\" title=\"% Change from 52 wk Low\">\n",
      "% Change from 52 wk Low </label>\n",
      "</li>\n",
      "<li class=\"displayNone\">\n",
      "<input data-column-name=\"month_change\" id=\"SS_53\" onclick=\"columnsSettings_stock_screener.onCheckboxClick(this);\" type=\"checkbox\" value=\"month_change\"/>\n",
      "<label class=\"pointer\" for=\"SS_53\" title=\"Previous Month % Change\">\n",
      "Previous Month % Change </label>\n",
      "</li>\n",
      "<li class=\"displayNone\">\n",
      "<input data-column-name=\"ttmgrosmgn_us\" id=\"SS_54\" onclick=\"columnsSettings_stock_screener.onCheckboxClick(this);\" type=\"checkbox\" value=\"ttmgrosmgn_us\"/>\n",
      "<label class=\"pointer\" for=\"SS_54\" title=\"Gross margin (TTM)\">\n",
      "Gross margin (TTM) </label>\n",
      "</li>\n",
      "<li class=\"displayNone\">\n",
      "<input data-column-name=\"grosmgn5yr_us\" id=\"SS_55\" onclick=\"columnsSettings_stock_screener.onCheckboxClick(this);\" type=\"checkbox\" value=\"grosmgn5yr_us\"/>\n",
      "<label class=\"pointer\" for=\"SS_55\" title=\"Gross Margin (5YA)\">\n",
      "Gross Margin (5YA) </label>\n",
      "</li>\n",
      "<li class=\"displayNone\">\n",
      "<input data-column-name=\"ttmopmgn_us\" id=\"SS_56\" onclick=\"columnsSettings_stock_screener.onCheckboxClick(this);\" type=\"checkbox\" value=\"ttmopmgn_us\"/>\n",
      "<label class=\"pointer\" for=\"SS_56\" title=\"Operating margin (TTM)\">\n",
      "Operating margin (TTM) </label>\n",
      "</li>\n",
      "<li class=\"displayNone\">\n",
      "<input data-column-name=\"opmgn5yr_us\" id=\"SS_57\" onclick=\"columnsSettings_stock_screener.onCheckboxClick(this);\" type=\"checkbox\" value=\"opmgn5yr_us\"/>\n",
      "<label class=\"pointer\" for=\"SS_57\" title=\"Operating margin (5YA)\">\n",
      "Operating margin (5YA) </label>\n",
      "</li>\n",
      "<li class=\"displayNone\">\n",
      "<input data-column-name=\"ttmptmgn_us\" id=\"SS_58\" onclick=\"columnsSettings_stock_screener.onCheckboxClick(this);\" type=\"checkbox\" value=\"ttmptmgn_us\"/>\n",
      "<label class=\"pointer\" for=\"SS_58\" title=\"Pretax margin (TTM)\">\n",
      "Pretax margin (TTM) </label>\n",
      "</li>\n",
      "<li class=\"displayNone\">\n",
      "<input data-column-name=\"ptmgn5yr_us\" id=\"SS_59\" onclick=\"columnsSettings_stock_screener.onCheckboxClick(this);\" type=\"checkbox\" value=\"ptmgn5yr_us\"/>\n",
      "<label class=\"pointer\" for=\"SS_59\" title=\"Pretax margin (5YA)\">\n",
      "Pretax margin (5YA) </label>\n",
      "</li>\n",
      "<li class=\"displayNone\">\n",
      "<input data-column-name=\"ttmnpmgn_us\" id=\"SS_60\" onclick=\"columnsSettings_stock_screener.onCheckboxClick(this);\" type=\"checkbox\" value=\"ttmnpmgn_us\"/>\n",
      "<label class=\"pointer\" for=\"SS_60\" title=\"Net Profit margin (TTM)\">\n",
      "Net Profit margin (TTM) </label>\n",
      "</li>\n",
      "<li class=\"displayNone\">\n",
      "<input data-column-name=\"margin5yr_us\" id=\"SS_61\" onclick=\"columnsSettings_stock_screener.onCheckboxClick(this);\" type=\"checkbox\" value=\"margin5yr_us\"/>\n",
      "<label class=\"pointer\" for=\"SS_61\" title=\"Net Profit margin (5YA)\">\n",
      "Net Profit margin (5YA) </label>\n",
      "</li>\n",
      "<li class=\"displayNone\">\n",
      "<input data-column-name=\"qquickrati_us\" id=\"SS_62\" onclick=\"columnsSettings_stock_screener.onCheckboxClick(this);\" type=\"checkbox\" value=\"qquickrati_us\"/>\n",
      "<label class=\"pointer\" for=\"SS_62\" title=\"Quick Ratio (MRQ)\">\n",
      "Quick Ratio (MRQ) </label>\n",
      "</li>\n",
      "<li class=\"displayNone\">\n",
      "<input data-column-name=\"qcurratio_us\" id=\"SS_63\" onclick=\"columnsSettings_stock_screener.onCheckboxClick(this);\" type=\"checkbox\" value=\"qcurratio_us\"/>\n",
      "<label class=\"pointer\" for=\"SS_63\" title=\"Current Ratio (MRQ)\">\n",
      "Current Ratio (MRQ) </label>\n",
      "</li>\n",
      "<li class=\"displayNone\">\n",
      "<input data-column-name=\"qltd2eq_us\" id=\"SS_64\" onclick=\"columnsSettings_stock_screener.onCheckboxClick(this);\" type=\"checkbox\" value=\"qltd2eq_us\"/>\n",
      "<label class=\"pointer\" for=\"SS_64\" title=\"LT Debt to Equity (MRQ)\">\n",
      "LT Debt to Equity (MRQ) </label>\n",
      "</li>\n",
      "<li class=\"displayNone\">\n",
      "<input data-column-name=\"qtotd2eq_us\" id=\"SS_65\" onclick=\"columnsSettings_stock_screener.onCheckboxClick(this);\" type=\"checkbox\" value=\"qtotd2eq_us\"/>\n",
      "<label class=\"pointer\" for=\"SS_65\" title=\"Total Debt to Equity\">\n",
      "Total Debt to Equity </label>\n",
      "</li>\n",
      "<li class=\"displayNone\">\n",
      "<input data-column-name=\"yld5yavg_us\" id=\"SS_66\" onclick=\"columnsSettings_stock_screener.onCheckboxClick(this);\" type=\"checkbox\" value=\"yld5yavg_us\"/>\n",
      "<label class=\"pointer\" for=\"SS_66\" title=\"Dividend Yield 5 Year Avg. (5YA)\">\n",
      "Dividend Yield 5 Year Avg. (5YA) </label>\n",
      "</li>\n",
      "<li class=\"displayNone\">\n",
      "<input data-column-name=\"divgrpct_us\" id=\"SS_67\" onclick=\"columnsSettings_stock_screener.onCheckboxClick(this);\" type=\"checkbox\" value=\"divgrpct_us\"/>\n",
      "<label class=\"pointer\" for=\"SS_67\" title=\"Dividend Growth Rate (ANN)\">\n",
      "Dividend Growth Rate (ANN) </label>\n",
      "</li>\n",
      "<li class=\"displayNone\">\n",
      "<input data-column-name=\"ttmpayrat_us\" id=\"SS_68\" onclick=\"columnsSettings_stock_screener.onCheckboxClick(this);\" type=\"checkbox\" value=\"ttmpayrat_us\"/>\n",
      "<label class=\"pointer\" for=\"SS_68\" title=\"Payout Ratio (TTM)\">\n",
      "Payout Ratio (TTM) </label>\n",
      "</li>\n",
      "<li class=\"displayNone\">\n",
      "<input data-column-name=\"ADX\" id=\"SS_69\" onclick=\"columnsSettings_stock_screener.onCheckboxClick(this);\" type=\"checkbox\" value=\"ADX\"/>\n",
      "<label class=\"pointer\" for=\"SS_69\" title=\"ADX (14 / 1D)\">\n",
      "ADX (14 / 1D) </label>\n",
      "</li>\n",
      "<li class=\"displayNone\">\n",
      "<input data-column-name=\"ATR\" id=\"SS_70\" onclick=\"columnsSettings_stock_screener.onCheckboxClick(this);\" type=\"checkbox\" value=\"ATR\"/>\n",
      "<label class=\"pointer\" for=\"SS_70\" title=\"ATR (14 / 1D)\">\n",
      "ATR (14 / 1D) </label>\n",
      "</li>\n",
      "<li class=\"displayNone\">\n",
      "<input data-column-name=\"BullBear\" id=\"SS_71\" onclick=\"columnsSettings_stock_screener.onCheckboxClick(this);\" type=\"checkbox\" value=\"BullBear\"/>\n",
      "<label class=\"pointer\" for=\"SS_71\" title=\"Bull/Bear Power (13 / 1D)\">\n",
      "Bull/Bear Power (13 / 1D) </label>\n",
      "</li>\n",
      "<li class=\"displayNone\">\n",
      "<input data-column-name=\"CCI\" id=\"SS_72\" onclick=\"columnsSettings_stock_screener.onCheckboxClick(this);\" type=\"checkbox\" value=\"CCI\"/>\n",
      "<label class=\"pointer\" for=\"SS_72\" title=\"CCI (14 / 1D)\">\n",
      "CCI (14 / 1D) </label>\n",
      "</li>\n",
      "<li class=\"displayNone\">\n",
      "<input data-column-name=\"HL\" id=\"SS_73\" onclick=\"columnsSettings_stock_screener.onCheckboxClick(this);\" type=\"checkbox\" value=\"HL\"/>\n",
      "<label class=\"pointer\" for=\"SS_73\" title=\"Highs/Lows (14 / 1D)\">\n",
      "Highs/Lows (14 / 1D) </label>\n",
      "</li>\n",
      "<li class=\"displayNone\">\n",
      "<input data-column-name=\"ROC\" id=\"SS_74\" onclick=\"columnsSettings_stock_screener.onCheckboxClick(this);\" type=\"checkbox\" value=\"ROC\"/>\n",
      "<label class=\"pointer\" for=\"SS_74\" title=\"ROC (1D)\">\n",
      "ROC (1D) </label>\n",
      "</li>\n",
      "<li class=\"displayNone\">\n",
      "<input data-column-name=\"RSI\" id=\"SS_75\" onclick=\"columnsSettings_stock_screener.onCheckboxClick(this);\" type=\"checkbox\" value=\"RSI\"/>\n",
      "<label class=\"pointer\" for=\"SS_75\" title=\"RSI (14 / 1D)\">\n",
      "RSI (14 / 1D) </label>\n",
      "</li>\n",
      "<li class=\"displayNone\">\n",
      "<input data-column-name=\"STOCH\" id=\"SS_76\" onclick=\"columnsSettings_stock_screener.onCheckboxClick(this);\" type=\"checkbox\" value=\"STOCH\"/>\n",
      "<label class=\"pointer\" for=\"SS_76\" title=\"STOCH (14 / 1D)\">\n",
      "STOCH (14 / 1D) </label>\n",
      "</li>\n",
      "<li class=\"displayNone\">\n",
      "<input data-column-name=\"STOCHRSI\" id=\"SS_77\" onclick=\"columnsSettings_stock_screener.onCheckboxClick(this);\" type=\"checkbox\" value=\"STOCHRSI\"/>\n",
      "<label class=\"pointer\" for=\"SS_77\" title=\"STOCHRSI (14 / 1D)\">\n",
      "STOCHRSI (14 / 1D) </label>\n",
      "</li>\n",
      "<li class=\"displayNone\">\n",
      "<input data-column-name=\"UO\" id=\"SS_78\" onclick=\"columnsSettings_stock_screener.onCheckboxClick(this);\" type=\"checkbox\" value=\"UO\"/>\n",
      "<label class=\"pointer\" for=\"SS_78\" title=\"Ultimate Oscillator (14 /1D)\">\n",
      "Ultimate Oscillator (14 /1D) </label>\n",
      "</li>\n",
      "<li class=\"displayNone\">\n",
      "<input data-column-name=\"WilliamsR\" id=\"SS_79\" onclick=\"columnsSettings_stock_screener.onCheckboxClick(this);\" type=\"checkbox\" value=\"WilliamsR\"/>\n",
      "<label class=\"pointer\" for=\"SS_79\" title=\"Williams %R (1D)\">\n",
      "Williams %R (1D) </label>\n",
      "</li>\n",
      "</ul>\n",
      "</div>\n",
      "<div>\n",
      "<div style=\"position: relative;vertical-align:middle;float:right;display:block;padding:3px 15px 0;white-space: nowrap;overflow: hidden;text-overflow: ellipsis;width: 130px;text-align:right;\">\n",
      "<a href=\"/pro/screener?entry=screener_column_settings\" style=\"font-family: Arial, Helvetica, sans-serif;font-style: normal;font-weight: bold;font-size: 11px;line-height: 31px;color: #164B93;text-decoration:none;\" target=\"_blank\">\n",
      "<img alt=\"InvestingPro\" height=\"15\" src=\"https://i-invdn-com.investing.com/InvestingProShield.svg\" style=\"vertical-align:middle;margin-right:4px;top:-2px;position:relative;\"/>Advanced Metrics </a>\n",
      "</div>\n",
      "<div class=\"colsSelectMessage\" id=\"resultsContainerColsSelectMessage\">\n",
      "Currently selected: <span>6</span> (max 8 ) </div>\n",
      "</div>\n",
      "</div>\n",
      "<div class=\"footer\">\n",
      "<a class=\"newBtn float_lang_base_2 noIcon Orange2\" href=\"javascript:void(0)\" id=\"selectColumnsButton_stock_screener\" onclick='columnsSettings_stock_screener.onApplyClick(window.stockScreenerColumnsApply, \"\");'>Apply</a> </div>\n",
      "</div>\n",
      "</form>\n",
      "<script>\n",
      "\t$('#colSelectPopup_stock_screener').click(function(e) {\n",
      "\t\te.stopPropagation();\n",
      "\t});\n",
      "</script>\n",
      "</th>\n",
      "</tr>\n",
      "</thead>\n",
      "<tbody><tr>\n",
      "<td class=\"flag\"><span class=\"ceFlags USA\"></span></td>\n",
      "<td class=\"symbol left bold elp\" data-column-name=\"name_trans\"><a href=\"/equities/microsoft-corp\" target=\"_blank\" title=\"Microsoft Corporation\">Microsoft</a></td>\n",
      "<td class=\"left\" data-column-name=\"viewData.symbol\">MSFT</td>\n",
      "<td class=\"left displayNone\" data-column-name=\"exchange_trans\">NASDAQ</td><td class=\"left displayNone\" data-column-name=\"sector_trans\">Technology</td><td class=\"left displayNone\" data-column-name=\"industry_trans\">Software &amp; IT Services</td><td data-column-name=\"last\">406.22</td><td data-column-name=\"pair_change_percent\">-0.71%</td><td data-column-name=\"eq_market_cap\">3.02T</td><td data-column-name=\"turnover_volume\">16.71M</td><td class=\"displayNone\" data-column-name=\"eq_pe_ratio\">36.61</td><td class=\"displayNone\" data-column-name=\"MACD\">2.80</td><td class=\"displayNone\" data-column-name=\"eq_revenue\">227.58B</td><td class=\"displayNone\" data-column-name=\"avg_volume\">23.48M</td><td class=\"displayNone\" data-column-name=\"eq_eps\">11.10</td><td class=\"displayNone\" data-column-name=\"eq_beta\">0.90</td><td class=\"displayNone\" data-column-name=\"eq_dividend\">3.00</td><td class=\"displayNone\" data-column-name=\"eq_yield\">-</td><td class=\"left displayNone\" data-column-name=\"tech_sum_900\">Sell</td><td class=\"left displayNone\" data-column-name=\"tech_sum_3600\">Strong Sell</td><td class=\"left displayNone\" data-column-name=\"tech_sum_86400\">Neutral</td><td class=\"left displayNone\" data-column-name=\"tech_sum_week\">Strong Buy</td><td class=\"left displayNone\" data-column-name=\"tech_sum_month\">Strong Buy</td><td class=\"displayNone\" data-column-name=\"daily\">-0.71</td><td class=\"displayNone\" data-column-name=\"week\">-2.23</td><td class=\"displayNone\" data-column-name=\"month\">-3.41</td><td class=\"displayNone\" data-column-name=\"ytd\">8.03</td><td class=\"displayNone\" data-column-name=\"year\">63.41</td><td class=\"displayNone\" data-column-name=\"3year\">74.78</td><td class=\"displayNone\" data-column-name=\"eq_one_year_return\">60.99</td><td class=\"displayNone\" data-column-name=\"yield_us\">0.74%</td><td class=\"displayNone\" data-column-name=\"peexclxor_us\">36.57</td><td class=\"displayNone\" data-column-name=\"ttmpr2rev_us\">13.26</td><td class=\"displayNone\" data-column-name=\"aprfcfps_us\">30.35</td><td class=\"displayNone\" data-column-name=\"ttmprfcfps_us\">44.75</td><td class=\"displayNone\" data-column-name=\"price2bk_us\">12.67</td><td class=\"displayNone\" data-column-name=\"pr2tanbk_us\">33.99</td><td class=\"displayNone\" data-column-name=\"epschngyr_us\">33.49</td><td class=\"displayNone\" data-column-name=\"ttmepschg_us\">22.94</td><td class=\"displayNone\" data-column-name=\"epstrendgr_us\">35.19</td><td class=\"displayNone\" data-column-name=\"revchngyr_us\">17.58</td><td class=\"displayNone\" data-column-name=\"ttmrevchg_us\">11.51</td><td class=\"displayNone\" data-column-name=\"revtrendgr_us\">13.94</td><td class=\"displayNone\" data-column-name=\"csptrendgr_us\">19.30</td><td class=\"displayNone\" data-column-name=\"ttmastturn_us\">0.55</td><td class=\"displayNone\" data-column-name=\"ttminvturn_us\">29.90</td><td class=\"displayNone\" data-column-name=\"ttmrevpere_us\">1.03</td><td class=\"displayNone\" data-column-name=\"ttmniperem_us\">373.49</td><td class=\"displayNone\" data-column-name=\"ttmrecturn_us\">6.22</td><td class=\"displayNone\" data-column-name=\"a52_week_high\">420.82</td><td class=\"displayNone\" data-column-name=\"a52_week_low\">245.73</td><td class=\"displayNone\" data-column-name=\"a52_week_high_diff\">-3.47</td><td class=\"displayNone\" data-column-name=\"a52_week_low_diff\">65.31</td><td class=\"displayNone\" data-column-name=\"month_change\">4.04%</td><td class=\"displayNone\" data-column-name=\"ttmgrosmgn_us\">69.81</td><td class=\"displayNone\" data-column-name=\"grosmgn5yr_us\">68.18</td><td class=\"displayNone\" data-column-name=\"ttmopmgn_us\">44.59</td><td class=\"displayNone\" data-column-name=\"opmgn5yr_us\">39.81</td><td class=\"displayNone\" data-column-name=\"ttmptmgn_us\">44.47</td><td class=\"displayNone\" data-column-name=\"ptmgn5yr_us\">40.09</td><td class=\"displayNone\" data-column-name=\"ttmnpmgn_us\">36.27</td><td class=\"displayNone\" data-column-name=\"margin5yr_us\">34.18</td><td class=\"displayNone\" data-column-name=\"qquickrati_us\">1.02</td><td class=\"displayNone\" data-column-name=\"qcurratio_us\">1.22</td><td class=\"displayNone\" data-column-name=\"qltd2eq_us\">18.86</td><td class=\"displayNone\" data-column-name=\"qtotd2eq_us\">46.74</td><td class=\"displayNone\" data-column-name=\"yld5yavg_us\">1.08</td><td class=\"displayNone\" data-column-name=\"divgrpct_us\">9.68</td><td class=\"displayNone\" data-column-name=\"ttmpayrat_us\">25.12</td><td class=\"displayNone\" data-column-name=\"ADX\">18.28</td><td class=\"displayNone\" data-column-name=\"ATR\">6.85</td><td class=\"displayNone\" data-column-name=\"BullBear\">-1.98</td><td class=\"displayNone\" data-column-name=\"CCI\">-14.33</td><td class=\"displayNone\" data-column-name=\"HL\">0.00</td><td class=\"displayNone\" data-column-name=\"ROC\">0.51</td><td class=\"displayNone\" data-column-name=\"RSI\">50.34</td><td class=\"displayNone\" data-column-name=\"STOCH\">53.03</td><td class=\"displayNone\" data-column-name=\"STOCHRSI\">26.15</td><td class=\"displayNone\" data-column-name=\"UO\">55.75</td><td class=\"displayNone\" data-column-name=\"WilliamsR\">-55.79</td> <td></td>\n",
      "</tr><tr>\n",
      "<td class=\"flag\"><span class=\"ceFlags USA\"></span></td>\n",
      "<td class=\"symbol left bold elp\" data-column-name=\"name_trans\"><a href=\"/equities/apple-computer-inc\" target=\"_blank\" title=\"Apple Inc\">Apple</a></td>\n",
      "<td class=\"left\" data-column-name=\"viewData.symbol\">AAPL</td>\n",
      "<td class=\"left displayNone\" data-column-name=\"exchange_trans\">NASDAQ</td><td class=\"left displayNone\" data-column-name=\"sector_trans\">Technology</td><td class=\"left displayNone\" data-column-name=\"industry_trans\">Computers, Phones &amp; Household Electronics</td><td data-column-name=\"last\">170.73</td><td data-column-name=\"pair_change_percent\">1.02%</td><td data-column-name=\"eq_market_cap\">2.64T</td><td data-column-name=\"turnover_volume\">74.64M</td><td class=\"displayNone\" data-column-name=\"eq_pe_ratio\">26.67</td><td class=\"displayNone\" data-column-name=\"MACD\">-4.18</td><td class=\"displayNone\" data-column-name=\"eq_revenue\">385.71B</td><td class=\"displayNone\" data-column-name=\"avg_volume\">57.60M</td><td class=\"displayNone\" data-column-name=\"eq_eps\">6.45</td><td class=\"displayNone\" data-column-name=\"eq_beta\">1.29</td><td class=\"displayNone\" data-column-name=\"eq_dividend\">0.96</td><td class=\"displayNone\" data-column-name=\"eq_yield\">-</td><td class=\"left displayNone\" data-column-name=\"tech_sum_900\">Strong Sell</td><td class=\"left displayNone\" data-column-name=\"tech_sum_3600\">Strong Sell</td><td class=\"left displayNone\" data-column-name=\"tech_sum_86400\">Strong Sell</td><td class=\"left displayNone\" data-column-name=\"tech_sum_week\">Strong Sell</td><td class=\"left displayNone\" data-column-name=\"tech_sum_month\">Buy</td><td class=\"displayNone\" data-column-name=\"daily\">1.02</td><td class=\"displayNone\" data-column-name=\"week\">-4.97</td><td class=\"displayNone\" data-column-name=\"month\">-9.59</td><td class=\"displayNone\" data-column-name=\"ytd\">-11.32</td><td class=\"displayNone\" data-column-name=\"year\">14.97</td><td class=\"displayNone\" data-column-name=\"3year\">42.30</td><td class=\"displayNone\" data-column-name=\"eq_one_year_return\">13.37</td><td class=\"displayNone\" data-column-name=\"yield_us\">0.56%</td><td class=\"displayNone\" data-column-name=\"peexclxor_us\">26.51</td><td class=\"displayNone\" data-column-name=\"ttmpr2rev_us\">6.94</td><td class=\"displayNone\" data-column-name=\"aprfcfps_us\">23.67</td><td class=\"displayNone\" data-column-name=\"ttmprfcfps_us\">25.03</td><td class=\"displayNone\" data-column-name=\"price2bk_us\">36.10</td><td class=\"displayNone\" data-column-name=\"pr2tanbk_us\">35.22</td><td class=\"displayNone\" data-column-name=\"epschngyr_us\">15.85</td><td class=\"displayNone\" data-column-name=\"ttmepschg_us\">9.03</td><td class=\"displayNone\" data-column-name=\"epstrendgr_us\">15.45</td><td class=\"displayNone\" data-column-name=\"revchngyr_us\">2.07</td><td class=\"displayNone\" data-column-name=\"ttmrevchg_us\">-0.47</td><td class=\"displayNone\" data-column-name=\"revtrendgr_us\">7.61</td><td class=\"displayNone\" data-column-name=\"csptrendgr_us\">-3.82</td><td class=\"displayNone\" data-column-name=\"ttmastturn_us\">1.10</td><td class=\"displayNone\" data-column-name=\"ttminvturn_us\">31.81</td><td class=\"displayNone\" data-column-name=\"ttmrevpere_us\">2.40</td><td class=\"displayNone\" data-column-name=\"ttmniperem_us\">626.79</td><td class=\"displayNone\" data-column-name=\"ttmrecturn_us\">18.15</td><td class=\"displayNone\" data-column-name=\"a52_week_high\">199.62</td><td class=\"displayNone\" data-column-name=\"a52_week_low\">147.7</td><td class=\"displayNone\" data-column-name=\"a52_week_high_diff\">-14.47</td><td class=\"displayNone\" data-column-name=\"a52_week_low_diff\">15.59</td><td class=\"displayNone\" data-column-name=\"month_change\">-1.98%</td><td class=\"displayNone\" data-column-name=\"ttmgrosmgn_us\">45.03</td><td class=\"displayNone\" data-column-name=\"grosmgn5yr_us\">40.97</td><td class=\"displayNone\" data-column-name=\"ttmopmgn_us\">30.76</td><td class=\"displayNone\" data-column-name=\"opmgn5yr_us\">27.74</td><td class=\"displayNone\" data-column-name=\"ttmptmgn_us\">30.71</td><td class=\"displayNone\" data-column-name=\"ptmgn5yr_us\">27.92</td><td class=\"displayNone\" data-column-name=\"ttmnpmgn_us\">26.16</td><td class=\"displayNone\" data-column-name=\"margin5yr_us\">23.76</td><td class=\"displayNone\" data-column-name=\"qquickrati_us\">0.72</td><td class=\"displayNone\" data-column-name=\"qcurratio_us\">1.07</td><td class=\"displayNone\" data-column-name=\"qltd2eq_us\">128.32</td><td class=\"displayNone\" data-column-name=\"qtotd2eq_us\">145.80</td><td class=\"displayNone\" data-column-name=\"yld5yavg_us\">0.82</td><td class=\"displayNone\" data-column-name=\"divgrpct_us\">4.35</td><td class=\"displayNone\" data-column-name=\"ttmpayrat_us\">14.95</td><td class=\"displayNone\" data-column-name=\"ADX\">60.42</td><td class=\"displayNone\" data-column-name=\"ATR\">3.35</td><td class=\"displayNone\" data-column-name=\"BullBear\">-9.95</td><td class=\"displayNone\" data-column-name=\"CCI\">-110.67</td><td class=\"displayNone\" data-column-name=\"HL\">-5.61</td><td class=\"displayNone\" data-column-name=\"ROC\">-6.22</td><td class=\"displayNone\" data-column-name=\"RSI\">28.54</td><td class=\"displayNone\" data-column-name=\"STOCH\">23.41</td><td class=\"displayNone\" data-column-name=\"STOCHRSI\">29.59</td><td class=\"displayNone\" data-column-name=\"UO\">35.21</td><td class=\"displayNone\" data-column-name=\"WilliamsR\">-85.02</td> <td></td>\n",
      "</tr><tr>\n",
      "<td class=\"flag\"><span class=\"ceFlags USA\"></span></td>\n",
      "<td class=\"symbol left bold elp\" data-column-name=\"name_trans\"><a href=\"/equities/nvidia-corp\" target=\"_blank\" title=\"NVIDIA Corporation\">NVIDIA</a></td>\n",
      "<td class=\"left\" data-column-name=\"viewData.symbol\">NVDA</td>\n",
      "<td class=\"left displayNone\" data-column-name=\"exchange_trans\">NASDAQ</td><td class=\"left displayNone\" data-column-name=\"sector_trans\">Technology</td><td class=\"left displayNone\" data-column-name=\"industry_trans\">Semiconductors &amp; Semiconductor Equipment</td><td data-column-name=\"last\">875.28</td><td data-column-name=\"pair_change_percent\">-5.55%</td><td data-column-name=\"eq_market_cap\">2.15T</td><td data-column-name=\"turnover_volume\">110.55M</td><td class=\"displayNone\" data-column-name=\"eq_pe_ratio\">73.14</td><td class=\"displayNone\" data-column-name=\"MACD\">67.84</td><td class=\"displayNone\" data-column-name=\"eq_revenue\">60.92B</td><td class=\"displayNone\" data-column-name=\"avg_volume\">48.26M</td><td class=\"displayNone\" data-column-name=\"eq_eps\">12.05</td><td class=\"displayNone\" data-column-name=\"eq_beta\">1.68</td><td class=\"displayNone\" data-column-name=\"eq_dividend\">0.16</td><td class=\"displayNone\" data-column-name=\"eq_yield\">-</td><td class=\"left displayNone\" data-column-name=\"tech_sum_900\">Strong Sell</td><td class=\"left displayNone\" data-column-name=\"tech_sum_3600\">Sell</td><td class=\"left displayNone\" data-column-name=\"tech_sum_86400\">Strong Buy</td><td class=\"left displayNone\" data-column-name=\"tech_sum_week\">Strong Buy</td><td class=\"left displayNone\" data-column-name=\"tech_sum_month\">Strong Buy</td><td class=\"displayNone\" data-column-name=\"daily\">-5.55</td><td class=\"displayNone\" data-column-name=\"week\">6.38</td><td class=\"displayNone\" data-column-name=\"month\">21.34</td><td class=\"displayNone\" data-column-name=\"ytd\">76.75</td><td class=\"displayNone\" data-column-name=\"year\">281.14</td><td class=\"displayNone\" data-column-name=\"3year\">602.01</td><td class=\"displayNone\" data-column-name=\"eq_one_year_return\">273.48</td><td class=\"displayNone\" data-column-name=\"yield_us\">0.02%</td><td class=\"displayNone\" data-column-name=\"peexclxor_us\">72.39</td><td class=\"displayNone\" data-column-name=\"ttmpr2rev_us\">35.36</td><td class=\"displayNone\" data-column-name=\"aprfcfps_us\">76.69</td><td class=\"displayNone\" data-column-name=\"ttmprfcfps_us\">79.72</td><td class=\"displayNone\" data-column-name=\"price2bk_us\">50.12</td><td class=\"displayNone\" data-column-name=\"pr2tanbk_us\">60.92</td><td class=\"displayNone\" data-column-name=\"epschngyr_us\">768.11</td><td class=\"displayNone\" data-column-name=\"ttmepschg_us\">586.29</td><td class=\"displayNone\" data-column-name=\"epstrendgr_us\">47.91</td><td class=\"displayNone\" data-column-name=\"revchngyr_us\">265.28</td><td class=\"displayNone\" data-column-name=\"ttmrevchg_us\">125.85</td><td class=\"displayNone\" data-column-name=\"revtrendgr_us\">39.06</td><td class=\"displayNone\" data-column-name=\"csptrendgr_us\">12.24</td><td class=\"displayNone\" data-column-name=\"ttmastturn_us\">1.14</td><td class=\"displayNone\" data-column-name=\"ttminvturn_us\">3.18</td><td class=\"displayNone\" data-column-name=\"ttmrevpere_us\">2.06</td><td class=\"displayNone\" data-column-name=\"ttmniperem_us\">1.01</td><td class=\"displayNone\" data-column-name=\"ttmrecturn_us\">9.66</td><td class=\"displayNone\" data-column-name=\"a52_week_high\">974</td><td class=\"displayNone\" data-column-name=\"a52_week_low\">222.97</td><td class=\"displayNone\" data-column-name=\"a52_week_high_diff\">-10.14</td><td class=\"displayNone\" data-column-name=\"a52_week_low_diff\">292.56</td><td class=\"displayNone\" data-column-name=\"month_change\">28.58%</td><td class=\"displayNone\" data-column-name=\"ttmgrosmgn_us\">72.72</td><td class=\"displayNone\" data-column-name=\"grosmgn5yr_us\">62.73</td><td class=\"displayNone\" data-column-name=\"ttmopmgn_us\">54.12</td><td class=\"displayNone\" data-column-name=\"opmgn5yr_us\">30.66</td><td class=\"displayNone\" data-column-name=\"ttmptmgn_us\">55.51</td><td class=\"displayNone\" data-column-name=\"ptmgn5yr_us\">29.72</td><td class=\"displayNone\" data-column-name=\"ttmnpmgn_us\">48.85</td><td class=\"displayNone\" data-column-name=\"margin5yr_us\">28.97</td><td class=\"displayNone\" data-column-name=\"qquickrati_us\">3.38</td><td class=\"displayNone\" data-column-name=\"qcurratio_us\">4.17</td><td class=\"displayNone\" data-column-name=\"qltd2eq_us\">19.68</td><td class=\"displayNone\" data-column-name=\"qtotd2eq_us\">25.72</td><td class=\"displayNone\" data-column-name=\"yld5yavg_us\">0.14</td><td class=\"displayNone\" data-column-name=\"divgrpct_us\">1.61</td><td class=\"displayNone\" data-column-name=\"ttmpayrat_us\">1.33</td><td class=\"displayNone\" data-column-name=\"ADX\">37.91</td><td class=\"displayNone\" data-column-name=\"ATR\">44.67</td><td class=\"displayNone\" data-column-name=\"BullBear\">183.10</td><td class=\"displayNone\" data-column-name=\"CCI\">139.49</td><td class=\"displayNone\" data-column-name=\"HL\">49.47</td><td class=\"displayNone\" data-column-name=\"ROC\">20.61</td><td class=\"displayNone\" data-column-name=\"RSI\">69.91</td><td class=\"displayNone\" data-column-name=\"STOCH\">58.11</td><td class=\"displayNone\" data-column-name=\"STOCHRSI\">49.03</td><td class=\"displayNone\" data-column-name=\"UO\">56.44</td><td class=\"displayNone\" data-column-name=\"WilliamsR\">-31.49</td> <td></td>\n",
      "</tr><tr>\n",
      "<td class=\"flag\"><span class=\"ceFlags USA\"></span></td>\n",
      "<td class=\"symbol left bold elp\" data-column-name=\"name_trans\"><a href=\"/equities/amazon-com-inc\" target=\"_blank\" title=\"Amazon.com Inc\">Amazon.com</a></td>\n",
      "<td class=\"left\" data-column-name=\"viewData.symbol\">AMZN</td>\n",
      "<td class=\"left displayNone\" data-column-name=\"exchange_trans\">NASDAQ</td><td class=\"left displayNone\" data-column-name=\"sector_trans\">Consumer Cyclicals</td><td class=\"left displayNone\" data-column-name=\"industry_trans\">Diversified Retail</td><td data-column-name=\"last\">175.35</td><td data-column-name=\"pair_change_percent\">-0.83%</td><td data-column-name=\"eq_market_cap\">1.82T</td><td data-column-name=\"turnover_volume\">35.87M</td><td class=\"displayNone\" data-column-name=\"eq_pe_ratio\">59.44</td><td class=\"displayNone\" data-column-name=\"MACD\">3.82</td><td class=\"displayNone\" data-column-name=\"eq_revenue\">574.79B</td><td class=\"displayNone\" data-column-name=\"avg_volume\">46.07M</td><td class=\"displayNone\" data-column-name=\"eq_eps\">2.95</td><td class=\"displayNone\" data-column-name=\"eq_beta\">1.14</td><td class=\"displayNone\" data-column-name=\"eq_dividend\">-</td><td class=\"displayNone\" data-column-name=\"eq_yield\">-</td><td class=\"left displayNone\" data-column-name=\"tech_sum_900\">Strong Sell</td><td class=\"left displayNone\" data-column-name=\"tech_sum_3600\">Strong Sell</td><td class=\"left displayNone\" data-column-name=\"tech_sum_86400\">Strong Buy</td><td class=\"left displayNone\" data-column-name=\"tech_sum_week\">Strong Buy</td><td class=\"left displayNone\" data-column-name=\"tech_sum_month\">Strong Buy</td><td class=\"displayNone\" data-column-name=\"daily\">-0.83</td><td class=\"displayNone\" data-column-name=\"week\">-1.61</td><td class=\"displayNone\" data-column-name=\"month\">0.52</td><td class=\"displayNone\" data-column-name=\"ytd\">15.41</td><td class=\"displayNone\" data-column-name=\"year\">93.27</td><td class=\"displayNone\" data-column-name=\"3year\">14.70</td><td class=\"displayNone\" data-column-name=\"eq_one_year_return\">90.08</td><td class=\"displayNone\" data-column-name=\"yield_us\">-</td><td class=\"displayNone\" data-column-name=\"peexclxor_us\">59.87</td><td class=\"displayNone\" data-column-name=\"ttmpr2rev_us\">3.17</td><td class=\"displayNone\" data-column-name=\"aprfcfps_us\">21.44</td><td class=\"displayNone\" data-column-name=\"ttmprfcfps_us\">56.54</td><td class=\"displayNone\" data-column-name=\"price2bk_us\">9.02</td><td class=\"displayNone\" data-column-name=\"pr2tanbk_us\">10.72</td><td class=\"displayNone\" data-column-name=\"epschngyr_us\">3.67K</td><td class=\"displayNone\" data-column-name=\"ttmepschg_us\">1.21K</td><td class=\"displayNone\" data-column-name=\"epstrendgr_us\">23.35</td><td class=\"displayNone\" data-column-name=\"revchngyr_us\">13.91</td><td class=\"displayNone\" data-column-name=\"ttmrevchg_us\">11.83</td><td class=\"displayNone\" data-column-name=\"revtrendgr_us\">19.80</td><td class=\"displayNone\" data-column-name=\"csptrendgr_us\">31.47</td><td class=\"displayNone\" data-column-name=\"ttmastturn_us\">1.16</td><td class=\"displayNone\" data-column-name=\"ttminvturn_us\">9.00</td><td class=\"displayNone\" data-column-name=\"ttmrevpere_us\">376.91</td><td class=\"displayNone\" data-column-name=\"ttmniperem_us\">19.95</td><td class=\"displayNone\" data-column-name=\"ttmrecturn_us\">17.14</td><td class=\"displayNone\" data-column-name=\"a52_week_high\">180.14</td><td class=\"displayNone\" data-column-name=\"a52_week_low\">88.12</td><td class=\"displayNone\" data-column-name=\"a52_week_high_diff\">-2.66</td><td class=\"displayNone\" data-column-name=\"a52_week_low_diff\">98.99</td><td class=\"displayNone\" data-column-name=\"month_change\">13.89%</td><td class=\"displayNone\" data-column-name=\"ttmgrosmgn_us\">46.98</td><td class=\"displayNone\" data-column-name=\"grosmgn5yr_us\">42.21</td><td class=\"displayNone\" data-column-name=\"ttmopmgn_us\">6.41</td><td class=\"displayNone\" data-column-name=\"opmgn5yr_us\">4.93</td><td class=\"displayNone\" data-column-name=\"ttmptmgn_us\">6.53</td><td class=\"displayNone\" data-column-name=\"ptmgn5yr_us\">4.72</td><td class=\"displayNone\" data-column-name=\"ttmnpmgn_us\">5.29</td><td class=\"displayNone\" data-column-name=\"margin5yr_us\">4.15</td><td class=\"displayNone\" data-column-name=\"qquickrati_us\">0.80</td><td class=\"displayNone\" data-column-name=\"qcurratio_us\">1.05</td><td class=\"displayNone\" data-column-name=\"qltd2eq_us\">32.16</td><td class=\"displayNone\" data-column-name=\"qtotd2eq_us\">80.04</td><td class=\"displayNone\" data-column-name=\"yld5yavg_us\">-</td><td class=\"displayNone\" data-column-name=\"divgrpct_us\">0.00</td><td class=\"displayNone\" data-column-name=\"ttmpayrat_us\">0.00</td><td class=\"displayNone\" data-column-name=\"ADX\">18.54</td><td class=\"displayNone\" data-column-name=\"ATR\">3.36</td><td class=\"displayNone\" data-column-name=\"BullBear\">3.90</td><td class=\"displayNone\" data-column-name=\"CCI\">70.49</td><td class=\"displayNone\" data-column-name=\"HL\">0.00</td><td class=\"displayNone\" data-column-name=\"ROC\">3.41</td><td class=\"displayNone\" data-column-name=\"RSI\">58.79</td><td class=\"displayNone\" data-column-name=\"STOCH\">51.17</td><td class=\"displayNone\" data-column-name=\"STOCHRSI\">23.60</td><td class=\"displayNone\" data-column-name=\"UO\">47.78</td><td class=\"displayNone\" data-column-name=\"WilliamsR\">-33.68</td> <td></td>\n",
      "</tr><tr>\n",
      "<td class=\"flag\"><span class=\"ceFlags USA\"></span></td>\n",
      "<td class=\"symbol left bold elp\" data-column-name=\"name_trans\"><a href=\"/equities/google-inc-c\" target=\"_blank\" title=\"Alphabet Inc Class C\">Alphabet C</a></td>\n",
      "<td class=\"left\" data-column-name=\"viewData.symbol\">GOOG</td>\n",
      "<td class=\"left displayNone\" data-column-name=\"exchange_trans\">NASDAQ</td><td class=\"left displayNone\" data-column-name=\"sector_trans\">Technology</td><td class=\"left displayNone\" data-column-name=\"industry_trans\">Software &amp; IT Services</td><td data-column-name=\"last\">136.29</td><td data-column-name=\"pair_change_percent\">0.78%</td><td data-column-name=\"eq_market_cap\">1.69T</td><td data-column-name=\"turnover_volume\">26.00M</td><td class=\"displayNone\" data-column-name=\"eq_pe_ratio\">23.22</td><td class=\"displayNone\" data-column-name=\"MACD\">-2.62</td><td class=\"displayNone\" data-column-name=\"eq_revenue\">307.39B</td><td class=\"displayNone\" data-column-name=\"avg_volume\">22.97M</td><td class=\"displayNone\" data-column-name=\"eq_eps\">5.84</td><td class=\"displayNone\" data-column-name=\"eq_beta\">1.06</td><td class=\"displayNone\" data-column-name=\"eq_dividend\">-</td><td class=\"displayNone\" data-column-name=\"eq_yield\">-</td><td class=\"left displayNone\" data-column-name=\"tech_sum_900\">Strong Sell</td><td class=\"left displayNone\" data-column-name=\"tech_sum_3600\">Neutral</td><td class=\"left displayNone\" data-column-name=\"tech_sum_86400\">Strong Sell</td><td class=\"left displayNone\" data-column-name=\"tech_sum_week\">Neutral</td><td class=\"left displayNone\" data-column-name=\"tech_sum_month\">Strong Buy</td><td class=\"displayNone\" data-column-name=\"daily\">0.78</td><td class=\"displayNone\" data-column-name=\"week\">-1.30</td><td class=\"displayNone\" data-column-name=\"month\">-9.27</td><td class=\"displayNone\" data-column-name=\"ytd\">-3.29</td><td class=\"displayNone\" data-column-name=\"year\">49.75</td><td class=\"displayNone\" data-column-name=\"3year\">32.64</td><td class=\"displayNone\" data-column-name=\"eq_one_year_return\">47.09</td><td class=\"displayNone\" data-column-name=\"yield_us\">-</td><td class=\"displayNone\" data-column-name=\"peexclxor_us\">22.88</td><td class=\"displayNone\" data-column-name=\"ttmpr2rev_us\">5.49</td><td class=\"displayNone\" data-column-name=\"aprfcfps_us\">16.60</td><td class=\"displayNone\" data-column-name=\"ttmprfcfps_us\">24.30</td><td class=\"displayNone\" data-column-name=\"price2bk_us\">5.96</td><td class=\"displayNone\" data-column-name=\"pr2tanbk_us\">6.59</td><td class=\"displayNone\" data-column-name=\"epschngyr_us\">56.82</td><td class=\"displayNone\" data-column-name=\"ttmepschg_us\">27.27</td><td class=\"displayNone\" data-column-name=\"epstrendgr_us\">21.46</td><td class=\"displayNone\" data-column-name=\"revchngyr_us\">13.49</td><td class=\"displayNone\" data-column-name=\"ttmrevchg_us\">8.68</td><td class=\"displayNone\" data-column-name=\"revtrendgr_us\">17.57</td><td class=\"displayNone\" data-column-name=\"csptrendgr_us\">5.11</td><td class=\"displayNone\" data-column-name=\"ttmastturn_us\">0.80</td><td class=\"displayNone\" data-column-name=\"ttminvturn_us\">0.00</td><td class=\"displayNone\" data-column-name=\"ttmrevpere_us\">1.68</td><td class=\"displayNone\" data-column-name=\"ttmniperem_us\">404.35</td><td class=\"displayNone\" data-column-name=\"ttmrecturn_us\">7.76</td><td class=\"displayNone\" data-column-name=\"a52_week_high\">155.2</td><td class=\"displayNone\" data-column-name=\"a52_week_low\">89.94</td><td class=\"displayNone\" data-column-name=\"a52_week_high_diff\">-12.18</td><td class=\"displayNone\" data-column-name=\"a52_week_low_diff\">51.53</td><td class=\"displayNone\" data-column-name=\"month_change\">-1.42%</td><td class=\"displayNone\" data-column-name=\"ttmgrosmgn_us\">56.94</td><td class=\"displayNone\" data-column-name=\"grosmgn5yr_us\">55.62</td><td class=\"displayNone\" data-column-name=\"ttmopmgn_us\">28.70</td><td class=\"displayNone\" data-column-name=\"opmgn5yr_us\">25.66</td><td class=\"displayNone\" data-column-name=\"ttmptmgn_us\">27.89</td><td class=\"displayNone\" data-column-name=\"ptmgn5yr_us\">27.58</td><td class=\"displayNone\" data-column-name=\"ttmnpmgn_us\">24.01</td><td class=\"displayNone\" data-column-name=\"margin5yr_us\">23.41</td><td class=\"displayNone\" data-column-name=\"qquickrati_us\">1.94</td><td class=\"displayNone\" data-column-name=\"qcurratio_us\">2.10</td><td class=\"displayNone\" data-column-name=\"qltd2eq_us\">4.19</td><td class=\"displayNone\" data-column-name=\"qtotd2eq_us\">10.54</td><td class=\"displayNone\" data-column-name=\"yld5yavg_us\">0.00</td><td class=\"displayNone\" data-column-name=\"divgrpct_us\">0.00</td><td class=\"displayNone\" data-column-name=\"ttmpayrat_us\">0.00</td><td class=\"displayNone\" data-column-name=\"ADX\">44.21</td><td class=\"displayNone\" data-column-name=\"ATR\">3.05</td><td class=\"displayNone\" data-column-name=\"BullBear\">-2.07</td><td class=\"displayNone\" data-column-name=\"CCI\">-50.18</td><td class=\"displayNone\" data-column-name=\"HL\">-1.17</td><td class=\"displayNone\" data-column-name=\"ROC\">-3.84</td><td class=\"displayNone\" data-column-name=\"RSI\">41.59</td><td class=\"displayNone\" data-column-name=\"STOCH\">28.05</td><td class=\"displayNone\" data-column-name=\"STOCHRSI\">50.62</td><td class=\"displayNone\" data-column-name=\"UO\">45.44</td><td class=\"displayNone\" data-column-name=\"WilliamsR\">-67.44</td> <td></td>\n",
      "</tr><tr>\n",
      "<td class=\"flag\"><span class=\"ceFlags USA\"></span></td>\n",
      "<td class=\"symbol left bold elp\" data-column-name=\"name_trans\"><a href=\"/equities/google-inc\" target=\"_blank\" title=\"Alphabet Inc Class A\">Alphabet A</a></td>\n",
      "<td class=\"left\" data-column-name=\"viewData.symbol\">GOOGL</td>\n",
      "<td class=\"left displayNone\" data-column-name=\"exchange_trans\">NASDAQ</td><td class=\"left displayNone\" data-column-name=\"sector_trans\">Technology</td><td class=\"left displayNone\" data-column-name=\"industry_trans\">Software &amp; IT Services</td><td data-column-name=\"last\">135.41</td><td data-column-name=\"pair_change_percent\">0.77%</td><td data-column-name=\"eq_market_cap\">1.69T</td><td data-column-name=\"turnover_volume\">38.32M</td><td class=\"displayNone\" data-column-name=\"eq_pe_ratio\">23.38</td><td class=\"displayNone\" data-column-name=\"MACD\">-2.52</td><td class=\"displayNone\" data-column-name=\"eq_revenue\">307.39B</td><td class=\"displayNone\" data-column-name=\"avg_volume\">30.41M</td><td class=\"displayNone\" data-column-name=\"eq_eps\">5.84</td><td class=\"displayNone\" data-column-name=\"eq_beta\">1.06</td><td class=\"displayNone\" data-column-name=\"eq_dividend\">-</td><td class=\"displayNone\" data-column-name=\"eq_yield\">-</td><td class=\"left displayNone\" data-column-name=\"tech_sum_900\">Sell</td><td class=\"left displayNone\" data-column-name=\"tech_sum_3600\">Neutral</td><td class=\"left displayNone\" data-column-name=\"tech_sum_86400\">Strong Sell</td><td class=\"left displayNone\" data-column-name=\"tech_sum_week\">Neutral</td><td class=\"left displayNone\" data-column-name=\"tech_sum_month\">Strong Buy</td><td class=\"displayNone\" data-column-name=\"daily\">0.77</td><td class=\"displayNone\" data-column-name=\"week\">-1.26</td><td class=\"displayNone\" data-column-name=\"month\">-9.12</td><td class=\"displayNone\" data-column-name=\"ytd\">-3.06</td><td class=\"displayNone\" data-column-name=\"year\">49.41</td><td class=\"displayNone\" data-column-name=\"3year\">33.00</td><td class=\"displayNone\" data-column-name=\"eq_one_year_return\">46.67</td><td class=\"displayNone\" data-column-name=\"yield_us\">-</td><td class=\"displayNone\" data-column-name=\"peexclxor_us\">22.71</td><td class=\"displayNone\" data-column-name=\"ttmpr2rev_us\">5.45</td><td class=\"displayNone\" data-column-name=\"aprfcfps_us\">16.47</td><td class=\"displayNone\" data-column-name=\"ttmprfcfps_us\">24.11</td><td class=\"displayNone\" data-column-name=\"price2bk_us\">5.91</td><td class=\"displayNone\" data-column-name=\"pr2tanbk_us\">6.59</td><td class=\"displayNone\" data-column-name=\"epschngyr_us\">56.82</td><td class=\"displayNone\" data-column-name=\"ttmepschg_us\">27.27</td><td class=\"displayNone\" data-column-name=\"epstrendgr_us\">21.46</td><td class=\"displayNone\" data-column-name=\"revchngyr_us\">13.49</td><td class=\"displayNone\" data-column-name=\"ttmrevchg_us\">8.68</td><td class=\"displayNone\" data-column-name=\"revtrendgr_us\">17.57</td><td class=\"displayNone\" data-column-name=\"csptrendgr_us\">5.11</td><td class=\"displayNone\" data-column-name=\"ttmastturn_us\">0.80</td><td class=\"displayNone\" data-column-name=\"ttminvturn_us\">0.00</td><td class=\"displayNone\" data-column-name=\"ttmrevpere_us\">1.68</td><td class=\"displayNone\" data-column-name=\"ttmniperem_us\">404.35</td><td class=\"displayNone\" data-column-name=\"ttmrecturn_us\">7.76</td><td class=\"displayNone\" data-column-name=\"a52_week_high\">153.78</td><td class=\"displayNone\" data-column-name=\"a52_week_low\">89.42</td><td class=\"displayNone\" data-column-name=\"a52_week_high_diff\">-11.95</td><td class=\"displayNone\" data-column-name=\"a52_week_low_diff\">51.43</td><td class=\"displayNone\" data-column-name=\"month_change\">-1.17%</td><td class=\"displayNone\" data-column-name=\"ttmgrosmgn_us\">56.94</td><td class=\"displayNone\" data-column-name=\"grosmgn5yr_us\">55.62</td><td class=\"displayNone\" data-column-name=\"ttmopmgn_us\">28.70</td><td class=\"displayNone\" data-column-name=\"opmgn5yr_us\">25.66</td><td class=\"displayNone\" data-column-name=\"ttmptmgn_us\">27.89</td><td class=\"displayNone\" data-column-name=\"ptmgn5yr_us\">27.58</td><td class=\"displayNone\" data-column-name=\"ttmnpmgn_us\">24.01</td><td class=\"displayNone\" data-column-name=\"margin5yr_us\">23.41</td><td class=\"displayNone\" data-column-name=\"qquickrati_us\">1.94</td><td class=\"displayNone\" data-column-name=\"qcurratio_us\">2.10</td><td class=\"displayNone\" data-column-name=\"qltd2eq_us\">4.19</td><td class=\"displayNone\" data-column-name=\"qtotd2eq_us\">10.54</td><td class=\"displayNone\" data-column-name=\"yld5yavg_us\">0.00</td><td class=\"displayNone\" data-column-name=\"divgrpct_us\">0.00</td><td class=\"displayNone\" data-column-name=\"ttmpayrat_us\">0.00</td><td class=\"displayNone\" data-column-name=\"ADX\">43.13</td><td class=\"displayNone\" data-column-name=\"ATR\">3.08</td><td class=\"displayNone\" data-column-name=\"BullBear\">-1.72</td><td class=\"displayNone\" data-column-name=\"CCI\">-46.15</td><td class=\"displayNone\" data-column-name=\"HL\">-0.86</td><td class=\"displayNone\" data-column-name=\"ROC\">-3.59</td><td class=\"displayNone\" data-column-name=\"RSI\">42.27</td><td class=\"displayNone\" data-column-name=\"STOCH\">28.44</td><td class=\"displayNone\" data-column-name=\"STOCHRSI\">53.85</td><td class=\"displayNone\" data-column-name=\"UO\">45.87</td><td class=\"displayNone\" data-column-name=\"WilliamsR\">-66.48</td> <td></td>\n",
      "</tr><tr>\n",
      "<td class=\"flag\"><span class=\"ceFlags USA\"></span></td>\n",
      "<td class=\"symbol left bold elp\" data-column-name=\"name_trans\"><a href=\"/equities/facebook-inc\" target=\"_blank\" title=\"Meta Platforms Inc\">Meta Platforms</a></td>\n",
      "<td class=\"left\" data-column-name=\"viewData.symbol\">META</td>\n",
      "<td class=\"left displayNone\" data-column-name=\"exchange_trans\">NASDAQ</td><td class=\"left displayNone\" data-column-name=\"sector_trans\">Technology</td><td class=\"left displayNone\" data-column-name=\"industry_trans\">Software &amp; IT Services</td><td data-column-name=\"last\">505.95</td><td data-column-name=\"pair_change_percent\">-1.22%</td><td data-column-name=\"eq_market_cap\">1.29T</td><td data-column-name=\"turnover_volume\">17.50M</td><td class=\"displayNone\" data-column-name=\"eq_pe_ratio\">33.30</td><td class=\"displayNone\" data-column-name=\"MACD\">22.73</td><td class=\"displayNone\" data-column-name=\"eq_revenue\">134.90B</td><td class=\"displayNone\" data-column-name=\"avg_volume\">18.42M</td><td class=\"displayNone\" data-column-name=\"eq_eps\">15.19</td><td class=\"displayNone\" data-column-name=\"eq_beta\">1.15</td><td class=\"displayNone\" data-column-name=\"eq_dividend\">2.00</td><td class=\"displayNone\" data-column-name=\"eq_yield\">-</td><td class=\"left displayNone\" data-column-name=\"tech_sum_900\">Buy</td><td class=\"left displayNone\" data-column-name=\"tech_sum_3600\">Neutral</td><td class=\"left displayNone\" data-column-name=\"tech_sum_86400\">Strong Buy</td><td class=\"left displayNone\" data-column-name=\"tech_sum_week\">Strong Buy</td><td class=\"left displayNone\" data-column-name=\"tech_sum_month\">Strong Buy</td><td class=\"displayNone\" data-column-name=\"daily\">-1.22</td><td class=\"displayNone\" data-column-name=\"week\">0.73</td><td class=\"displayNone\" data-column-name=\"month\">8.08</td><td class=\"displayNone\" data-column-name=\"ytd\">42.94</td><td class=\"displayNone\" data-column-name=\"year\">181.85</td><td class=\"displayNone\" data-column-name=\"3year\">91.00</td><td class=\"displayNone\" data-column-name=\"eq_one_year_return\">178.47</td><td class=\"displayNone\" data-column-name=\"yield_us\">0.4%</td><td class=\"displayNone\" data-column-name=\"peexclxor_us\">32.99</td><td class=\"displayNone\" data-column-name=\"ttmpr2rev_us\">9.56</td><td class=\"displayNone\" data-column-name=\"aprfcfps_us\">18.14</td><td class=\"displayNone\" data-column-name=\"ttmprfcfps_us\">29.42</td><td class=\"displayNone\" data-column-name=\"price2bk_us\">8.42</td><td class=\"displayNone\" data-column-name=\"pr2tanbk_us\">10.02</td><td class=\"displayNone\" data-column-name=\"epschngyr_us\">209.82</td><td class=\"displayNone\" data-column-name=\"ttmepschg_us\">75.92</td><td class=\"displayNone\" data-column-name=\"epstrendgr_us\">14.70</td><td class=\"displayNone\" data-column-name=\"revchngyr_us\">24.70</td><td class=\"displayNone\" data-column-name=\"ttmrevchg_us\">15.69</td><td class=\"displayNone\" data-column-name=\"revtrendgr_us\">19.29</td><td class=\"displayNone\" data-column-name=\"csptrendgr_us\">14.40</td><td class=\"displayNone\" data-column-name=\"ttmastturn_us\">0.65</td><td class=\"displayNone\" data-column-name=\"ttminvturn_us\">0.00</td><td class=\"displayNone\" data-column-name=\"ttmrevpere_us\">2.00</td><td class=\"displayNone\" data-column-name=\"ttmniperem_us\">580.80</td><td class=\"displayNone\" data-column-name=\"ttmrecturn_us\">11.02</td><td class=\"displayNone\" data-column-name=\"a52_week_high\">523.57</td><td class=\"displayNone\" data-column-name=\"a52_week_low\">174.82</td><td class=\"displayNone\" data-column-name=\"a52_week_high_diff\">-3.37</td><td class=\"displayNone\" data-column-name=\"a52_week_low_diff\">189.41</td><td class=\"displayNone\" data-column-name=\"month_change\">25.63%</td><td class=\"displayNone\" data-column-name=\"ttmgrosmgn_us\">80.72</td><td class=\"displayNone\" data-column-name=\"grosmgn5yr_us\">80.84</td><td class=\"displayNone\" data-column-name=\"ttmopmgn_us\">37.21</td><td class=\"displayNone\" data-column-name=\"opmgn5yr_us\">37.10</td><td class=\"displayNone\" data-column-name=\"ttmptmgn_us\">35.16</td><td class=\"displayNone\" data-column-name=\"ptmgn5yr_us\">34.98</td><td class=\"displayNone\" data-column-name=\"ttmnpmgn_us\">28.98</td><td class=\"displayNone\" data-column-name=\"margin5yr_us\">28.73</td><td class=\"displayNone\" data-column-name=\"qquickrati_us\">2.55</td><td class=\"displayNone\" data-column-name=\"qcurratio_us\">2.67</td><td class=\"displayNone\" data-column-name=\"qltd2eq_us\">12.00</td><td class=\"displayNone\" data-column-name=\"qtotd2eq_us\">24.76</td><td class=\"displayNone\" data-column-name=\"yld5yavg_us\">-</td><td class=\"displayNone\" data-column-name=\"divgrpct_us\">0.00</td><td class=\"displayNone\" data-column-name=\"ttmpayrat_us\">0.00</td><td class=\"displayNone\" data-column-name=\"ADX\">26.12</td><td class=\"displayNone\" data-column-name=\"ATR\">12.64</td><td class=\"displayNone\" data-column-name=\"BullBear\">37.38</td><td class=\"displayNone\" data-column-name=\"CCI\">153.97</td><td class=\"displayNone\" data-column-name=\"HL\">10.48</td><td class=\"displayNone\" data-column-name=\"ROC\">6.89</td><td class=\"displayNone\" data-column-name=\"RSI\">67.74</td><td class=\"displayNone\" data-column-name=\"STOCH\">54.14</td><td class=\"displayNone\" data-column-name=\"STOCHRSI\">31.99</td><td class=\"displayNone\" data-column-name=\"UO\">52.28</td><td class=\"displayNone\" data-column-name=\"WilliamsR\">-28.55</td> <td></td>\n",
      "</tr><tr>\n",
      "<td class=\"flag\"><span class=\"ceFlags USA\"></span></td>\n",
      "<td class=\"symbol left bold elp\" data-column-name=\"name_trans\"><a href=\"/equities/berkshire-hathaway-inc\" target=\"_blank\" title=\"Berkshire Hathaway Inc Class A\">Berkshire Hathaway A</a></td>\n",
      "<td class=\"left\" data-column-name=\"viewData.symbol\">BRKa</td>\n",
      "<td class=\"left displayNone\" data-column-name=\"exchange_trans\">NYSE</td><td class=\"left displayNone\" data-column-name=\"sector_trans\">Consumer Non-Cyclicals</td><td class=\"left displayNone\" data-column-name=\"industry_trans\">Consumer Goods Conglomerates</td><td data-column-name=\"last\">608922</td><td data-column-name=\"pair_change_percent\">0.56%</td><td data-column-name=\"eq_market_cap\">873.95B</td><td data-column-name=\"turnover_volume\">13.30K</td><td class=\"displayNone\" data-column-name=\"eq_pe_ratio\">0.01</td><td class=\"displayNone\" data-column-name=\"MACD\">7.22K</td><td class=\"displayNone\" data-column-name=\"eq_revenue\">364.48B</td><td class=\"displayNone\" data-column-name=\"avg_volume\">10.86K</td><td class=\"displayNone\" data-column-name=\"eq_eps\">66.41K</td><td class=\"displayNone\" data-column-name=\"eq_beta\">-</td><td class=\"displayNone\" data-column-name=\"eq_dividend\">-</td><td class=\"displayNone\" data-column-name=\"eq_yield\">-</td><td class=\"left displayNone\" data-column-name=\"tech_sum_900\">Strong Buy</td><td class=\"left displayNone\" data-column-name=\"tech_sum_3600\">Strong Buy</td><td class=\"left displayNone\" data-column-name=\"tech_sum_86400\">Neutral</td><td class=\"left displayNone\" data-column-name=\"tech_sum_week\">Strong Buy</td><td class=\"left displayNone\" data-column-name=\"tech_sum_month\">Strong Buy</td><td class=\"displayNone\" data-column-name=\"daily\">0.56</td><td class=\"displayNone\" data-column-name=\"week\">-0.82</td><td class=\"displayNone\" data-column-name=\"month\">1.64</td><td class=\"displayNone\" data-column-name=\"ytd\">12.22</td><td class=\"displayNone\" data-column-name=\"year\">32.24</td><td class=\"displayNone\" data-column-name=\"3year\">52.67</td><td class=\"displayNone\" data-column-name=\"eq_one_year_return\">32.08</td><td class=\"displayNone\" data-column-name=\"yield_us\">-</td><td class=\"displayNone\" data-column-name=\"peexclxor_us\">9.06</td><td class=\"displayNone\" data-column-name=\"ttmpr2rev_us\">2.39</td><td class=\"displayNone\" data-column-name=\"aprfcfps_us\">17.72</td><td class=\"displayNone\" data-column-name=\"ttmprfcfps_us\">29.26</td><td class=\"displayNone\" data-column-name=\"price2bk_us\">1.55</td><td class=\"displayNone\" data-column-name=\"pr2tanbk_us\">1.98</td><td class=\"displayNone\" data-column-name=\"epschngyr_us\">110.79</td><td class=\"displayNone\" data-column-name=\"ttmepschg_us\">528.63</td><td class=\"displayNone\" data-column-name=\"epstrendgr_us\">93.53</td><td class=\"displayNone\" data-column-name=\"revchngyr_us\">19.60</td><td class=\"displayNone\" data-column-name=\"ttmrevchg_us\">20.68</td><td class=\"displayNone\" data-column-name=\"revtrendgr_us\">8.02</td><td class=\"displayNone\" data-column-name=\"csptrendgr_us\">5.95</td><td class=\"displayNone\" data-column-name=\"ttmastturn_us\">0.36</td><td class=\"displayNone\" data-column-name=\"ttminvturn_us\">3.57</td><td class=\"displayNone\" data-column-name=\"ttmrevpere_us\">919.25</td><td class=\"displayNone\" data-column-name=\"ttmniperem_us\">245.01</td><td class=\"displayNone\" data-column-name=\"ttmrecturn_us\">2.68</td><td class=\"displayNone\" data-column-name=\"a52_week_high\">647039</td><td class=\"displayNone\" data-column-name=\"a52_week_low\">442364</td><td class=\"displayNone\" data-column-name=\"a52_week_high_diff\">-5.89</td><td class=\"displayNone\" data-column-name=\"a52_week_low_diff\">37.65</td><td class=\"displayNone\" data-column-name=\"month_change\">6.67%</td><td class=\"displayNone\" data-column-name=\"ttmgrosmgn_us\">33.80</td><td class=\"displayNone\" data-column-name=\"grosmgn5yr_us\">24.65</td><td class=\"displayNone\" data-column-name=\"ttmopmgn_us\">33.80</td><td class=\"displayNone\" data-column-name=\"opmgn5yr_us\">24.65</td><td class=\"displayNone\" data-column-name=\"ttmptmgn_us\">32.97</td><td class=\"displayNone\" data-column-name=\"ptmgn5yr_us\">22.50</td><td class=\"displayNone\" data-column-name=\"ttmnpmgn_us\">26.40</td><td class=\"displayNone\" data-column-name=\"margin5yr_us\">18.20</td><td class=\"displayNone\" data-column-name=\"qquickrati_us\">2.91</td><td class=\"displayNone\" data-column-name=\"qcurratio_us\">3.44</td><td class=\"displayNone\" data-column-name=\"qltd2eq_us\">19.43</td><td class=\"displayNone\" data-column-name=\"qtotd2eq_us\">23.80</td><td class=\"displayNone\" data-column-name=\"yld5yavg_us\">-</td><td class=\"displayNone\" data-column-name=\"divgrpct_us\">0.00</td><td class=\"displayNone\" data-column-name=\"ttmpayrat_us\">0.00</td><td class=\"displayNone\" data-column-name=\"ADX\">40.50</td><td class=\"displayNone\" data-column-name=\"ATR\">11.03K</td><td class=\"displayNone\" data-column-name=\"BullBear\">-8.06K</td><td class=\"displayNone\" data-column-name=\"CCI\">-94.74</td><td class=\"displayNone\" data-column-name=\"HL\">-818.14</td><td class=\"displayNone\" data-column-name=\"ROC\">-0.13</td><td class=\"displayNone\" data-column-name=\"RSI\">56.37</td><td class=\"displayNone\" data-column-name=\"STOCH\">94.46</td><td class=\"displayNone\" data-column-name=\"STOCHRSI\">11.50</td><td class=\"displayNone\" data-column-name=\"UO\">42.85</td><td class=\"displayNone\" data-column-name=\"WilliamsR\">-5.92</td> <td></td>\n",
      "</tr><tr>\n",
      "<td class=\"flag\"><span class=\"ceFlags USA\"></span></td>\n",
      "<td class=\"symbol left bold elp\" data-column-name=\"name_trans\"><a href=\"/equities/berkshire-hathaway\" target=\"_blank\" title=\"Berkshire Hathaway B\">Berkshire Hathaway B</a></td>\n",
      "<td class=\"left\" data-column-name=\"viewData.symbol\">BRKb</td>\n",
      "<td class=\"left displayNone\" data-column-name=\"exchange_trans\">NYSE</td><td class=\"left displayNone\" data-column-name=\"sector_trans\">Consumer Non-Cyclicals</td><td class=\"left displayNone\" data-column-name=\"industry_trans\">Consumer Goods Conglomerates</td><td data-column-name=\"last\">403.15</td><td data-column-name=\"pair_change_percent\">0.19%</td><td data-column-name=\"eq_market_cap\">873.95B</td><td data-column-name=\"turnover_volume\">2.59M</td><td class=\"displayNone\" data-column-name=\"eq_pe_ratio\">9.10</td><td class=\"displayNone\" data-column-name=\"MACD\">5.05</td><td class=\"displayNone\" data-column-name=\"eq_revenue\">364.48B</td><td class=\"displayNone\" data-column-name=\"avg_volume\">3.52M</td><td class=\"displayNone\" data-column-name=\"eq_eps\">66.41K</td><td class=\"displayNone\" data-column-name=\"eq_beta\">-</td><td class=\"displayNone\" data-column-name=\"eq_dividend\">-</td><td class=\"displayNone\" data-column-name=\"eq_yield\">-</td><td class=\"left displayNone\" data-column-name=\"tech_sum_900\">Strong Buy</td><td class=\"left displayNone\" data-column-name=\"tech_sum_3600\">Buy</td><td class=\"left displayNone\" data-column-name=\"tech_sum_86400\">Neutral</td><td class=\"left displayNone\" data-column-name=\"tech_sum_week\">Strong Buy</td><td class=\"left displayNone\" data-column-name=\"tech_sum_month\">Strong Buy</td><td class=\"displayNone\" data-column-name=\"daily\">0.19</td><td class=\"displayNone\" data-column-name=\"week\">-0.97</td><td class=\"displayNone\" data-column-name=\"month\">1.20</td><td class=\"displayNone\" data-column-name=\"ytd\">13.03</td><td class=\"displayNone\" data-column-name=\"year\">32.78</td><td class=\"displayNone\" data-column-name=\"3year\">52.71</td><td class=\"displayNone\" data-column-name=\"eq_one_year_return\">32.26</td><td class=\"displayNone\" data-column-name=\"yield_us\">-</td><td class=\"displayNone\" data-column-name=\"peexclxor_us\">9.07</td><td class=\"displayNone\" data-column-name=\"ttmpr2rev_us\">2.39</td><td class=\"displayNone\" data-column-name=\"aprfcfps_us\">17.74</td><td class=\"displayNone\" data-column-name=\"ttmprfcfps_us\">29.30</td><td class=\"displayNone\" data-column-name=\"price2bk_us\">1.55</td><td class=\"displayNone\" data-column-name=\"pr2tanbk_us\">1.98</td><td class=\"displayNone\" data-column-name=\"epschngyr_us\">110.79</td><td class=\"displayNone\" data-column-name=\"ttmepschg_us\">528.63</td><td class=\"displayNone\" data-column-name=\"epstrendgr_us\">93.53</td><td class=\"displayNone\" data-column-name=\"revchngyr_us\">19.60</td><td class=\"displayNone\" data-column-name=\"ttmrevchg_us\">20.68</td><td class=\"displayNone\" data-column-name=\"revtrendgr_us\">8.02</td><td class=\"displayNone\" data-column-name=\"csptrendgr_us\">5.95</td><td class=\"displayNone\" data-column-name=\"ttmastturn_us\">0.36</td><td class=\"displayNone\" data-column-name=\"ttminvturn_us\">3.57</td><td class=\"displayNone\" data-column-name=\"ttmrevpere_us\">919.25</td><td class=\"displayNone\" data-column-name=\"ttmniperem_us\">245.01</td><td class=\"displayNone\" data-column-name=\"ttmrecturn_us\">2.68</td><td class=\"displayNone\" data-column-name=\"a52_week_high\">430</td><td class=\"displayNone\" data-column-name=\"a52_week_low\">292.42</td><td class=\"displayNone\" data-column-name=\"a52_week_high_diff\">-6.24</td><td class=\"displayNone\" data-column-name=\"a52_week_low_diff\">37.87</td><td class=\"displayNone\" data-column-name=\"month_change\">6.69%</td><td class=\"displayNone\" data-column-name=\"ttmgrosmgn_us\">33.80</td><td class=\"displayNone\" data-column-name=\"grosmgn5yr_us\">24.65</td><td class=\"displayNone\" data-column-name=\"ttmopmgn_us\">33.80</td><td class=\"displayNone\" data-column-name=\"opmgn5yr_us\">24.65</td><td class=\"displayNone\" data-column-name=\"ttmptmgn_us\">32.97</td><td class=\"displayNone\" data-column-name=\"ptmgn5yr_us\">22.50</td><td class=\"displayNone\" data-column-name=\"ttmnpmgn_us\">26.40</td><td class=\"displayNone\" data-column-name=\"margin5yr_us\">18.20</td><td class=\"displayNone\" data-column-name=\"qquickrati_us\">2.91</td><td class=\"displayNone\" data-column-name=\"qcurratio_us\">3.44</td><td class=\"displayNone\" data-column-name=\"qltd2eq_us\">19.43</td><td class=\"displayNone\" data-column-name=\"qtotd2eq_us\">23.80</td><td class=\"displayNone\" data-column-name=\"yld5yavg_us\">-</td><td class=\"displayNone\" data-column-name=\"divgrpct_us\">0.00</td><td class=\"displayNone\" data-column-name=\"ttmpayrat_us\">0.00</td><td class=\"displayNone\" data-column-name=\"ADX\">39.38</td><td class=\"displayNone\" data-column-name=\"ATR\">6.72</td><td class=\"displayNone\" data-column-name=\"BullBear\">-5.64</td><td class=\"displayNone\" data-column-name=\"CCI\">-98.28</td><td class=\"displayNone\" data-column-name=\"HL\">-2.06</td><td class=\"displayNone\" data-column-name=\"ROC\">-0.68</td><td class=\"displayNone\" data-column-name=\"RSI\">55.35</td><td class=\"displayNone\" data-column-name=\"STOCH\">17.30</td><td class=\"displayNone\" data-column-name=\"STOCHRSI\">7.87</td><td class=\"displayNone\" data-column-name=\"UO\">43.77</td><td class=\"displayNone\" data-column-name=\"WilliamsR\">-85.78</td> <td></td>\n",
      "</tr><tr>\n",
      "<td class=\"flag\"><span class=\"ceFlags USA\"></span></td>\n",
      "<td class=\"symbol left bold elp\" data-column-name=\"name_trans\"><a href=\"/equities/eli-lilly-and-co\" target=\"_blank\" title=\"Eli Lilly and Company\">Eli Lilly</a></td>\n",
      "<td class=\"left\" data-column-name=\"viewData.symbol\">LLY</td>\n",
      "<td class=\"left displayNone\" data-column-name=\"exchange_trans\">NYSE</td><td class=\"left displayNone\" data-column-name=\"sector_trans\">Healthcare</td><td class=\"left displayNone\" data-column-name=\"industry_trans\">Pharmaceuticals</td><td data-column-name=\"last\">761.91</td><td data-column-name=\"pair_change_percent\">-2.34%</td><td data-column-name=\"eq_market_cap\">686.05B</td><td data-column-name=\"turnover_volume\">3.98M</td><td class=\"displayNone\" data-column-name=\"eq_pe_ratio\">131.51</td><td class=\"displayNone\" data-column-name=\"MACD\">26.08</td><td class=\"displayNone\" data-column-name=\"eq_revenue\">34.12B</td><td class=\"displayNone\" data-column-name=\"avg_volume\">3.28M</td><td class=\"displayNone\" data-column-name=\"eq_eps\">5.82</td><td class=\"displayNone\" data-column-name=\"eq_beta\">0.34</td><td class=\"displayNone\" data-column-name=\"eq_dividend\">5.20</td><td class=\"displayNone\" data-column-name=\"eq_yield\">-</td><td class=\"left displayNone\" data-column-name=\"tech_sum_900\">Strong Sell</td><td class=\"left displayNone\" data-column-name=\"tech_sum_3600\">Strong Sell</td><td class=\"left displayNone\" data-column-name=\"tech_sum_86400\">Buy</td><td class=\"left displayNone\" data-column-name=\"tech_sum_week\">Strong Buy</td><td class=\"left displayNone\" data-column-name=\"tech_sum_month\">Strong Buy</td><td class=\"displayNone\" data-column-name=\"daily\">-2.34</td><td class=\"displayNone\" data-column-name=\"week\">-2.58</td><td class=\"displayNone\" data-column-name=\"month\">2.94</td><td class=\"displayNone\" data-column-name=\"ytd\">30.71</td><td class=\"displayNone\" data-column-name=\"year\">141.86</td><td class=\"displayNone\" data-column-name=\"3year\">270.85</td><td class=\"displayNone\" data-column-name=\"eq_one_year_return\">140.46</td><td class=\"displayNone\" data-column-name=\"yield_us\">0.68%</td><td class=\"displayNone\" data-column-name=\"peexclxor_us\">130.88</td><td class=\"displayNone\" data-column-name=\"ttmpr2rev_us\">20.10</td><td class=\"displayNone\" data-column-name=\"aprfcfps_us\">161.75</td><td class=\"displayNone\" data-column-name=\"ttmprfcfps_us\">865.42</td><td class=\"displayNone\" data-column-name=\"price2bk_us\">63.67</td><td class=\"displayNone\" data-column-name=\"pr2tanbk_us\">-653.24</td><td class=\"displayNone\" data-column-name=\"epschngyr_us\">13.10</td><td class=\"displayNone\" data-column-name=\"ttmepschg_us\">-15.94</td><td class=\"displayNone\" data-column-name=\"epstrendgr_us\">13.11</td><td class=\"displayNone\" data-column-name=\"revchngyr_us\">28.10</td><td class=\"displayNone\" data-column-name=\"ttmrevchg_us\">19.56</td><td class=\"displayNone\" data-column-name=\"revtrendgr_us\">9.69</td><td class=\"displayNone\" data-column-name=\"csptrendgr_us\">23.28</td><td class=\"displayNone\" data-column-name=\"ttmastturn_us\">0.60</td><td class=\"displayNone\" data-column-name=\"ttminvturn_us\">1.40</td><td class=\"displayNone\" data-column-name=\"ttmrevpere_us\">793.58</td><td class=\"displayNone\" data-column-name=\"ttmniperem_us\">121.87</td><td class=\"displayNone\" data-column-name=\"ttmrecturn_us\">4.34</td><td class=\"displayNone\" data-column-name=\"a52_week_high\">800.78</td><td class=\"displayNone\" data-column-name=\"a52_week_low\">317.24</td><td class=\"displayNone\" data-column-name=\"a52_week_high_diff\">-4.85</td><td class=\"displayNone\" data-column-name=\"a52_week_low_diff\">140.17</td><td class=\"displayNone\" data-column-name=\"month_change\">16.74%</td><td class=\"displayNone\" data-column-name=\"ttmgrosmgn_us\">79.25</td><td class=\"displayNone\" data-column-name=\"grosmgn5yr_us\">77.47</td><td class=\"displayNone\" data-column-name=\"ttmopmgn_us\">31.61</td><td class=\"displayNone\" data-column-name=\"opmgn5yr_us\">28.82</td><td class=\"displayNone\" data-column-name=\"ttmptmgn_us\">19.21</td><td class=\"displayNone\" data-column-name=\"ptmgn5yr_us\">23.36</td><td class=\"displayNone\" data-column-name=\"ttmnpmgn_us\">15.36</td><td class=\"displayNone\" data-column-name=\"margin5yr_us\">24.04</td><td class=\"displayNone\" data-column-name=\"qquickrati_us\">0.44</td><td class=\"displayNone\" data-column-name=\"qcurratio_us\">0.94</td><td class=\"displayNone\" data-column-name=\"qltd2eq_us\">171.04</td><td class=\"displayNone\" data-column-name=\"qtotd2eq_us\">245.71</td><td class=\"displayNone\" data-column-name=\"yld5yavg_us\">1.67</td><td class=\"displayNone\" data-column-name=\"divgrpct_us\">15.04</td><td class=\"displayNone\" data-column-name=\"ttmpayrat_us\">77.65</td><td class=\"displayNone\" data-column-name=\"ADX\">25.74</td><td class=\"displayNone\" data-column-name=\"ATR\">22.55</td><td class=\"displayNone\" data-column-name=\"BullBear\">0.37</td><td class=\"displayNone\" data-column-name=\"CCI\">-28.75</td><td class=\"displayNone\" data-column-name=\"HL\">0.00</td><td class=\"displayNone\" data-column-name=\"ROC\">-2.56</td><td class=\"displayNone\" data-column-name=\"RSI\">57.87</td><td class=\"displayNone\" data-column-name=\"STOCH\">62.89</td><td class=\"displayNone\" data-column-name=\"STOCHRSI\">0.00</td><td class=\"displayNone\" data-column-name=\"UO\">55.12</td><td class=\"displayNone\" data-column-name=\"WilliamsR\">-57.34</td> <td></td>\n",
      "</tr><tr>\n",
      "<td class=\"flag\"><span class=\"ceFlags USA\"></span></td>\n",
      "<td class=\"symbol left bold elp\" data-column-name=\"name_trans\"><a href=\"/equities/taiwan-semicond.manufacturing-co\" target=\"_blank\" title=\"Taiwan Semiconductor Manufacturing\">Taiwan Semiconductor</a></td>\n",
      "<td class=\"left\" data-column-name=\"viewData.symbol\">TSM</td>\n",
      "<td class=\"left displayNone\" data-column-name=\"exchange_trans\">NYSE</td><td class=\"left displayNone\" data-column-name=\"sector_trans\">Technology</td><td class=\"left displayNone\" data-column-name=\"industry_trans\">Semiconductors &amp; Semiconductor Equipment</td><td data-column-name=\"last\">146.37</td><td data-column-name=\"pair_change_percent\">-1.9%</td><td data-column-name=\"eq_market_cap\">647.02B</td><td data-column-name=\"turnover_volume\">43.62M</td><td class=\"displayNone\" data-column-name=\"eq_pe_ratio\">23.50</td><td class=\"displayNone\" data-column-name=\"MACD\">7.26</td><td class=\"displayNone\" data-column-name=\"eq_revenue\">2.16T</td><td class=\"displayNone\" data-column-name=\"avg_volume\">13.87M</td><td class=\"displayNone\" data-column-name=\"eq_eps\">32.34</td><td class=\"displayNone\" data-column-name=\"eq_beta\">1.23</td><td class=\"displayNone\" data-column-name=\"eq_dividend\">1.75</td><td class=\"displayNone\" data-column-name=\"eq_yield\">-</td><td class=\"left displayNone\" data-column-name=\"tech_sum_900\">Strong Sell</td><td class=\"left displayNone\" data-column-name=\"tech_sum_3600\">Neutral</td><td class=\"left displayNone\" data-column-name=\"tech_sum_86400\">Strong Buy</td><td class=\"left displayNone\" data-column-name=\"tech_sum_week\">Strong Buy</td><td class=\"left displayNone\" data-column-name=\"tech_sum_month\">Strong Buy</td><td class=\"displayNone\" data-column-name=\"daily\">-1.90</td><td class=\"displayNone\" data-column-name=\"week\">9.31</td><td class=\"displayNone\" data-column-name=\"month\">9.96</td><td class=\"displayNone\" data-column-name=\"ytd\">40.74</td><td class=\"displayNone\" data-column-name=\"year\">67.76</td><td class=\"displayNone\" data-column-name=\"3year\">28.59</td><td class=\"displayNone\" data-column-name=\"eq_one_year_return\">64.68</td><td class=\"displayNone\" data-column-name=\"yield_us\">1.2%</td><td class=\"displayNone\" data-column-name=\"peexclxor_us\">23.50</td><td class=\"displayNone\" data-column-name=\"ttmpr2rev_us\">9.12</td><td class=\"displayNone\" data-column-name=\"aprfcfps_us\">15.87</td><td class=\"displayNone\" data-column-name=\"ttmprfcfps_us\">67.46</td><td class=\"displayNone\" data-column-name=\"price2bk_us\">5.70</td><td class=\"displayNone\" data-column-name=\"pr2tanbk_us\">5.75</td><td class=\"displayNone\" data-column-name=\"epschngyr_us\">-19.33</td><td class=\"displayNone\" data-column-name=\"ttmepschg_us\">-17.51</td><td class=\"displayNone\" data-column-name=\"epstrendgr_us\">18.23</td><td class=\"displayNone\" data-column-name=\"revchngyr_us\">0.00</td><td class=\"displayNone\" data-column-name=\"ttmrevchg_us\">-4.51</td><td class=\"displayNone\" data-column-name=\"revtrendgr_us\">15.95</td><td class=\"displayNone\" data-column-name=\"csptrendgr_us\">24.65</td><td class=\"displayNone\" data-column-name=\"ttmastturn_us\">0.41</td><td class=\"displayNone\" data-column-name=\"ttminvturn_us\">4.18</td><td class=\"displayNone\" data-column-name=\"ttmrevpere_us\">1.05</td><td class=\"displayNone\" data-column-name=\"ttmniperem_us\">398.76</td><td class=\"displayNone\" data-column-name=\"ttmrecturn_us\">11.78</td><td class=\"displayNone\" data-column-name=\"a52_week_high\">158.4</td><td class=\"displayNone\" data-column-name=\"a52_week_low\">81.21</td><td class=\"displayNone\" data-column-name=\"a52_week_high_diff\">-7.59</td><td class=\"displayNone\" data-column-name=\"a52_week_low_diff\">80.24</td><td class=\"displayNone\" data-column-name=\"month_change\">13.91%</td><td class=\"displayNone\" data-column-name=\"ttmgrosmgn_us\">54.36</td><td class=\"displayNone\" data-column-name=\"grosmgn5yr_us\">52.61</td><td class=\"displayNone\" data-column-name=\"ttmopmgn_us\">42.63</td><td class=\"displayNone\" data-column-name=\"opmgn5yr_us\">41.85</td><td class=\"displayNone\" data-column-name=\"ttmptmgn_us\">45.30</td><td class=\"displayNone\" data-column-name=\"ptmgn5yr_us\">43.10</td><td class=\"displayNone\" data-column-name=\"ttmnpmgn_us\">38.79</td><td class=\"displayNone\" data-column-name=\"margin5yr_us\">38.38</td><td class=\"displayNone\" data-column-name=\"qquickrati_us\">2.07</td><td class=\"displayNone\" data-column-name=\"qcurratio_us\">2.40</td><td class=\"displayNone\" data-column-name=\"qltd2eq_us\">26.55</td><td class=\"displayNone\" data-column-name=\"qtotd2eq_us\">28.52</td><td class=\"displayNone\" data-column-name=\"yld5yavg_us\">2.70</td><td class=\"displayNone\" data-column-name=\"divgrpct_us\">24.75</td><td class=\"displayNone\" data-column-name=\"ttmpayrat_us\">34.79</td><td class=\"displayNone\" data-column-name=\"ADX\">16.47</td><td class=\"displayNone\" data-column-name=\"ATR\">5.56</td><td class=\"displayNone\" data-column-name=\"BullBear\">30.57</td><td class=\"displayNone\" data-column-name=\"CCI\">190.08</td><td class=\"displayNone\" data-column-name=\"HL\">10.21</td><td class=\"displayNone\" data-column-name=\"ROC\">15.52</td><td class=\"displayNone\" data-column-name=\"RSI\">71.87</td><td class=\"displayNone\" data-column-name=\"STOCH\">46.85</td><td class=\"displayNone\" data-column-name=\"STOCHRSI\">69.03</td><td class=\"displayNone\" data-column-name=\"UO\">51.26</td><td class=\"displayNone\" data-column-name=\"WilliamsR\">-33.82</td> <td></td>\n",
      "</tr><tr>\n",
      "<td class=\"flag\"><span class=\"ceFlags USA\"></span></td>\n",
      "<td class=\"symbol left bold elp\" data-column-name=\"name_trans\"><a href=\"/equities/avago-technologies\" target=\"_blank\" title=\"Broadcom Inc\">Broadcom</a></td>\n",
      "<td class=\"left\" data-column-name=\"viewData.symbol\">AVGO</td>\n",
      "<td class=\"left displayNone\" data-column-name=\"exchange_trans\">NASDAQ</td><td class=\"left displayNone\" data-column-name=\"sector_trans\">Technology</td><td class=\"left displayNone\" data-column-name=\"industry_trans\">Semiconductors &amp; Semiconductor Equipment</td><td data-column-name=\"last\">1308.72</td><td data-column-name=\"pair_change_percent\">-6.99%</td><td data-column-name=\"eq_market_cap\">606.49B</td><td data-column-name=\"turnover_volume\">7.27M</td><td class=\"displayNone\" data-column-name=\"eq_pe_ratio\">48.49</td><td class=\"displayNone\" data-column-name=\"MACD\">43.94</td><td class=\"displayNone\" data-column-name=\"eq_revenue\">38.87B</td><td class=\"displayNone\" data-column-name=\"avg_volume\">3.30M</td><td class=\"displayNone\" data-column-name=\"eq_eps\">27.47</td><td class=\"displayNone\" data-column-name=\"eq_beta\">1.27</td><td class=\"displayNone\" data-column-name=\"eq_dividend\">21.00</td><td class=\"displayNone\" data-column-name=\"eq_yield\">-</td><td class=\"left displayNone\" data-column-name=\"tech_sum_900\">Strong Sell</td><td class=\"left displayNone\" data-column-name=\"tech_sum_3600\">Strong Sell</td><td class=\"left displayNone\" data-column-name=\"tech_sum_86400\">Buy</td><td class=\"left displayNone\" data-column-name=\"tech_sum_week\">Strong Buy</td><td class=\"left displayNone\" data-column-name=\"tech_sum_month\">Strong Buy</td><td class=\"displayNone\" data-column-name=\"daily\">-6.99</td><td class=\"displayNone\" data-column-name=\"week\">-6.46</td><td class=\"displayNone\" data-column-name=\"month\">1.97</td><td class=\"displayNone\" data-column-name=\"ytd\">17.24</td><td class=\"displayNone\" data-column-name=\"year\">112.86</td><td class=\"displayNone\" data-column-name=\"3year\">199.07</td><td class=\"displayNone\" data-column-name=\"eq_one_year_return\">110.23</td><td class=\"displayNone\" data-column-name=\"yield_us\">1.6%</td><td class=\"displayNone\" data-column-name=\"peexclxor_us\">43.07</td><td class=\"displayNone\" data-column-name=\"ttmpr2rev_us\">16.93</td><td class=\"displayNone\" data-column-name=\"aprfcfps_us\">33.54</td><td class=\"displayNone\" data-column-name=\"ttmprfcfps_us\">34.40</td><td class=\"displayNone\" data-column-name=\"price2bk_us\">25.28</td><td class=\"displayNone\" data-column-name=\"pr2tanbk_us\">-27.71</td><td class=\"displayNone\" data-column-name=\"epschngyr_us\">5.92</td><td class=\"displayNone\" data-column-name=\"ttmepschg_us\">23.66</td><td class=\"displayNone\" data-column-name=\"epstrendgr_us\">2.96</td><td class=\"displayNone\" data-column-name=\"revchngyr_us\">4.09</td><td class=\"displayNone\" data-column-name=\"ttmrevchg_us\">7.88</td><td class=\"displayNone\" data-column-name=\"revtrendgr_us\">11.43</td><td class=\"displayNone\" data-column-name=\"csptrendgr_us\">-6.57</td><td class=\"displayNone\" data-column-name=\"ttmastturn_us\">0.49</td><td class=\"displayNone\" data-column-name=\"ttminvturn_us\">4.85</td><td class=\"displayNone\" data-column-name=\"ttmrevpere_us\">1.79</td><td class=\"displayNone\" data-column-name=\"ttmniperem_us\">704.10</td><td class=\"displayNone\" data-column-name=\"ttmrecturn_us\">12.25</td><td class=\"displayNone\" data-column-name=\"a52_week_high\">1438.17</td><td class=\"displayNone\" data-column-name=\"a52_week_low\">601.29</td><td class=\"displayNone\" data-column-name=\"a52_week_high_diff\">-9.00</td><td class=\"displayNone\" data-column-name=\"a52_week_low_diff\">117.65</td><td class=\"displayNone\" data-column-name=\"month_change\">10.21%</td><td class=\"displayNone\" data-column-name=\"ttmgrosmgn_us\">74.11</td><td class=\"displayNone\" data-column-name=\"grosmgn5yr_us\">72.72</td><td class=\"displayNone\" data-column-name=\"ttmopmgn_us\">45.94</td><td class=\"displayNone\" data-column-name=\"opmgn5yr_us\">30.24</td><td class=\"displayNone\" data-column-name=\"ttmptmgn_us\">42.15</td><td class=\"displayNone\" data-column-name=\"ptmgn5yr_us\">23.54</td><td class=\"displayNone\" data-column-name=\"ttmnpmgn_us\">39.31</td><td class=\"displayNone\" data-column-name=\"margin5yr_us\">23.94</td><td class=\"displayNone\" data-column-name=\"qquickrati_us\">2.34</td><td class=\"displayNone\" data-column-name=\"qcurratio_us\">2.82</td><td class=\"displayNone\" data-column-name=\"qltd2eq_us\">156.82</td><td class=\"displayNone\" data-column-name=\"qtotd2eq_us\">165.28</td><td class=\"displayNone\" data-column-name=\"yld5yavg_us\">3.60</td><td class=\"displayNone\" data-column-name=\"divgrpct_us\">28.05</td><td class=\"displayNone\" data-column-name=\"ttmpayrat_us\">54.29</td><td class=\"displayNone\" data-column-name=\"ADX\">20.61</td><td class=\"displayNone\" data-column-name=\"ATR\">50.42</td><td class=\"displayNone\" data-column-name=\"BullBear\">52.51</td><td class=\"displayNone\" data-column-name=\"CCI\">38.83</td><td class=\"displayNone\" data-column-name=\"HL\">0.00</td><td class=\"displayNone\" data-column-name=\"ROC\">5.13</td><td class=\"displayNone\" data-column-name=\"RSI\">52.84</td><td class=\"displayNone\" data-column-name=\"STOCH\">58.22</td><td class=\"displayNone\" data-column-name=\"STOCHRSI\">0.00</td><td class=\"displayNone\" data-column-name=\"UO\">47.10</td><td class=\"displayNone\" data-column-name=\"WilliamsR\">-54.69</td> <td></td>\n",
      "</tr><tr>\n",
      "<td class=\"flag\"><span class=\"ceFlags USA\"></span></td>\n",
      "<td class=\"symbol left bold elp\" data-column-name=\"name_trans\"><a href=\"/equities/novo-nordis\" target=\"_blank\" title=\"Novo Nordisk A/S\">Novo Nordisk ADR</a></td>\n",
      "<td class=\"left\" data-column-name=\"viewData.symbol\">NVO</td>\n",
      "<td class=\"left displayNone\" data-column-name=\"exchange_trans\">NYSE</td><td class=\"left displayNone\" data-column-name=\"sector_trans\">Healthcare</td><td class=\"left displayNone\" data-column-name=\"industry_trans\">Pharmaceuticals</td><td data-column-name=\"last\">133.07</td><td data-column-name=\"pair_change_percent\">-2.1%</td><td data-column-name=\"eq_market_cap\">592.63B</td><td data-column-name=\"turnover_volume\">12.64M</td><td class=\"displayNone\" data-column-name=\"eq_pe_ratio\">48.48</td><td class=\"displayNone\" data-column-name=\"MACD\">4.47</td><td class=\"displayNone\" data-column-name=\"eq_revenue\">232.26B</td><td class=\"displayNone\" data-column-name=\"avg_volume\">4.90M</td><td class=\"displayNone\" data-column-name=\"eq_eps\">18.67</td><td class=\"displayNone\" data-column-name=\"eq_beta\">0.18</td><td class=\"displayNone\" data-column-name=\"eq_dividend\">0.98</td><td class=\"displayNone\" data-column-name=\"eq_yield\">-</td><td class=\"left displayNone\" data-column-name=\"tech_sum_900\">Buy</td><td class=\"left displayNone\" data-column-name=\"tech_sum_3600\">Neutral</td><td class=\"left displayNone\" data-column-name=\"tech_sum_86400\">Strong Buy</td><td class=\"left displayNone\" data-column-name=\"tech_sum_week\">Strong Buy</td><td class=\"left displayNone\" data-column-name=\"tech_sum_month\">Strong Buy</td><td class=\"displayNone\" data-column-name=\"daily\">-2.10</td><td class=\"displayNone\" data-column-name=\"week\">7.12</td><td class=\"displayNone\" data-column-name=\"month\">9.79</td><td class=\"displayNone\" data-column-name=\"ytd\">28.63</td><td class=\"displayNone\" data-column-name=\"year\">88.38</td><td class=\"displayNone\" data-column-name=\"3year\">270.98</td><td class=\"displayNone\" data-column-name=\"eq_one_year_return\">87.37</td><td class=\"displayNone\" data-column-name=\"yield_us\">0.73%</td><td class=\"displayNone\" data-column-name=\"peexclxor_us\">48.26</td><td class=\"displayNone\" data-column-name=\"ttmpr2rev_us\">17.39</td><td class=\"displayNone\" data-column-name=\"aprfcfps_us\">37.08</td><td class=\"displayNone\" data-column-name=\"ttmprfcfps_us\">48.60</td><td class=\"displayNone\" data-column-name=\"price2bk_us\">37.90</td><td class=\"displayNone\" data-column-name=\"pr2tanbk_us\">88.79</td><td class=\"displayNone\" data-column-name=\"epschngyr_us\">63.15</td><td class=\"displayNone\" data-column-name=\"ttmepschg_us\">52.32</td><td class=\"displayNone\" data-column-name=\"epstrendgr_us\">18.52</td><td class=\"displayNone\" data-column-name=\"revchngyr_us\">36.95</td><td class=\"displayNone\" data-column-name=\"ttmrevchg_us\">31.26</td><td class=\"displayNone\" data-column-name=\"revtrendgr_us\">15.74</td><td class=\"displayNone\" data-column-name=\"csptrendgr_us\">21.78</td><td class=\"displayNone\" data-column-name=\"ttmastturn_us\">0.84</td><td class=\"displayNone\" data-column-name=\"ttminvturn_us\">1.27</td><td class=\"displayNone\" data-column-name=\"ttmrevpere_us\">3.67</td><td class=\"displayNone\" data-column-name=\"ttmniperem_us\">1.32</td><td class=\"displayNone\" data-column-name=\"ttmrecturn_us\">4.49</td><td class=\"displayNone\" data-column-name=\"a52_week_high\">138.28</td><td class=\"displayNone\" data-column-name=\"a52_week_low\">67.66</td><td class=\"displayNone\" data-column-name=\"a52_week_high_diff\">-3.77</td><td class=\"displayNone\" data-column-name=\"a52_week_low_diff\">96.67</td><td class=\"displayNone\" data-column-name=\"month_change\">4.38%</td><td class=\"displayNone\" data-column-name=\"ttmgrosmgn_us\">84.60</td><td class=\"displayNone\" data-column-name=\"grosmgn5yr_us\">83.81</td><td class=\"displayNone\" data-column-name=\"ttmopmgn_us\">44.77</td><td class=\"displayNone\" data-column-name=\"opmgn5yr_us\">43.03</td><td class=\"displayNone\" data-column-name=\"ttmptmgn_us\">45.07</td><td class=\"displayNone\" data-column-name=\"ptmgn5yr_us\">41.25</td><td class=\"displayNone\" data-column-name=\"ttmnpmgn_us\">36.03</td><td class=\"displayNone\" data-column-name=\"margin5yr_us\">33.10</td><td class=\"displayNone\" data-column-name=\"qquickrati_us\">0.56</td><td class=\"displayNone\" data-column-name=\"qcurratio_us\">0.82</td><td class=\"displayNone\" data-column-name=\"qltd2eq_us\">14.99</td><td class=\"displayNone\" data-column-name=\"qtotd2eq_us\">25.34</td><td class=\"displayNone\" data-column-name=\"yld5yavg_us\">1.75</td><td class=\"displayNone\" data-column-name=\"divgrpct_us\">226.35</td><td class=\"displayNone\" data-column-name=\"ttmpayrat_us\">37.96</td><td class=\"displayNone\" data-column-name=\"ADX\">26.53</td><td class=\"displayNone\" data-column-name=\"ATR\">3.93</td><td class=\"displayNone\" data-column-name=\"BullBear\">13.63</td><td class=\"displayNone\" data-column-name=\"CCI\">196.00</td><td class=\"displayNone\" data-column-name=\"HL\">7.19</td><td class=\"displayNone\" data-column-name=\"ROC\">7.30</td><td class=\"displayNone\" data-column-name=\"RSI\">67.31</td><td class=\"displayNone\" data-column-name=\"STOCH\">49.77</td><td class=\"displayNone\" data-column-name=\"STOCHRSI\">67.18</td><td class=\"displayNone\" data-column-name=\"UO\">66.62</td><td class=\"displayNone\" data-column-name=\"WilliamsR\">-26.13</td> <td></td>\n",
      "</tr><tr>\n",
      "<td class=\"flag\"><span class=\"ceFlags USA\"></span></td>\n",
      "<td class=\"symbol left bold elp\" data-column-name=\"name_trans\"><a href=\"/equities/visa-inc\" target=\"_blank\" title=\"Visa Inc Class A\">Visa A</a></td>\n",
      "<td class=\"left\" data-column-name=\"viewData.symbol\">V</td>\n",
      "<td class=\"left displayNone\" data-column-name=\"exchange_trans\">NYSE</td><td class=\"left displayNone\" data-column-name=\"sector_trans\">Technology</td><td class=\"left displayNone\" data-column-name=\"industry_trans\">Software &amp; IT Services</td><td data-column-name=\"last\">280.05</td><td data-column-name=\"pair_change_percent\">0.64%</td><td data-column-name=\"eq_market_cap\">562.59B</td><td data-column-name=\"turnover_volume\">3.24M</td><td class=\"displayNone\" data-column-name=\"eq_pe_ratio\">32.21</td><td class=\"displayNone\" data-column-name=\"MACD\">2.25</td><td class=\"displayNone\" data-column-name=\"eq_revenue\">33.35B</td><td class=\"displayNone\" data-column-name=\"avg_volume\">5.47M</td><td class=\"displayNone\" data-column-name=\"eq_eps\">8.70</td><td class=\"displayNone\" data-column-name=\"eq_beta\">0.97</td><td class=\"displayNone\" data-column-name=\"eq_dividend\">2.08</td><td class=\"displayNone\" data-column-name=\"eq_yield\">-</td><td class=\"left displayNone\" data-column-name=\"tech_sum_900\">Sell</td><td class=\"left displayNone\" data-column-name=\"tech_sum_3600\">Strong Buy</td><td class=\"left displayNone\" data-column-name=\"tech_sum_86400\">Neutral</td><td class=\"left displayNone\" data-column-name=\"tech_sum_week\">Strong Buy</td><td class=\"left displayNone\" data-column-name=\"tech_sum_month\">Strong Buy</td><td class=\"displayNone\" data-column-name=\"daily\">0.64</td><td class=\"displayNone\" data-column-name=\"week\">-1.10</td><td class=\"displayNone\" data-column-name=\"month\">1.31</td><td class=\"displayNone\" data-column-name=\"ytd\">7.57</td><td class=\"displayNone\" data-column-name=\"year\">29.57</td><td class=\"displayNone\" data-column-name=\"3year\">25.49</td><td class=\"displayNone\" data-column-name=\"eq_one_year_return\">27.29</td><td class=\"displayNone\" data-column-name=\"yield_us\">0.74%</td><td class=\"displayNone\" data-column-name=\"peexclxor_us\">31.80</td><td class=\"displayNone\" data-column-name=\"ttmpr2rev_us\">16.88</td><td class=\"displayNone\" data-column-name=\"aprfcfps_us\">23.75</td><td class=\"displayNone\" data-column-name=\"ttmprfcfps_us\">29.44</td><td class=\"displayNone\" data-column-name=\"price2bk_us\">14.77</td><td class=\"displayNone\" data-column-name=\"pr2tanbk_us\">-82.90</td><td class=\"displayNone\" data-column-name=\"epschngyr_us\">20.18</td><td class=\"displayNone\" data-column-name=\"ttmepschg_us\">21.10</td><td class=\"displayNone\" data-column-name=\"epstrendgr_us\">13.30</td><td class=\"displayNone\" data-column-name=\"revchngyr_us\">8.80</td><td class=\"displayNone\" data-column-name=\"ttmrevchg_us\">10.48</td><td class=\"displayNone\" data-column-name=\"revtrendgr_us\">9.64</td><td class=\"displayNone\" data-column-name=\"csptrendgr_us\">8.08</td><td class=\"displayNone\" data-column-name=\"ttmastturn_us\">0.38</td><td class=\"displayNone\" data-column-name=\"ttminvturn_us\">0.00</td><td class=\"displayNone\" data-column-name=\"ttmrevpere_us\">1.16</td><td class=\"displayNone\" data-column-name=\"ttmniperem_us\">624.44</td><td class=\"displayNone\" data-column-name=\"ttmrecturn_us\">7.27</td><td class=\"displayNone\" data-column-name=\"a52_week_high\">286.13</td><td class=\"displayNone\" data-column-name=\"a52_week_low\">208.76</td><td class=\"displayNone\" data-column-name=\"a52_week_high_diff\">-2.12</td><td class=\"displayNone\" data-column-name=\"a52_week_low_diff\">34.15</td><td class=\"displayNone\" data-column-name=\"month_change\">3.43%</td><td class=\"displayNone\" data-column-name=\"ttmgrosmgn_us\">97.78</td><td class=\"displayNone\" data-column-name=\"grosmgn5yr_us\">97.12</td><td class=\"displayNone\" data-column-name=\"ttmopmgn_us\">67.34</td><td class=\"displayNone\" data-column-name=\"opmgn5yr_us\">66.38</td><td class=\"displayNone\" data-column-name=\"ttmptmgn_us\">66.27</td><td class=\"displayNone\" data-column-name=\"ptmgn5yr_us\">64.11</td><td class=\"displayNone\" data-column-name=\"ttmnpmgn_us\">53.92</td><td class=\"displayNone\" data-column-name=\"margin5yr_us\">51.40</td><td class=\"displayNone\" data-column-name=\"qquickrati_us\">1.04</td><td class=\"displayNone\" data-column-name=\"qcurratio_us\">1.45</td><td class=\"displayNone\" data-column-name=\"qltd2eq_us\">54.31</td><td class=\"displayNone\" data-column-name=\"qtotd2eq_us\">54.31</td><td class=\"displayNone\" data-column-name=\"yld5yavg_us\">0.70</td><td class=\"displayNone\" data-column-name=\"divgrpct_us\">20.00</td><td class=\"displayNone\" data-column-name=\"ttmpayrat_us\">21.50</td><td class=\"displayNone\" data-column-name=\"ADX\">23.25</td><td class=\"displayNone\" data-column-name=\"ATR\">3.82</td><td class=\"displayNone\" data-column-name=\"BullBear\">-0.42</td><td class=\"displayNone\" data-column-name=\"CCI\">-22.18</td><td class=\"displayNone\" data-column-name=\"HL\">0.00</td><td class=\"displayNone\" data-column-name=\"ROC\">0.52</td><td class=\"displayNone\" data-column-name=\"RSI\">53.71</td><td class=\"displayNone\" data-column-name=\"STOCH\">44.54</td><td class=\"displayNone\" data-column-name=\"STOCHRSI\">19.71</td><td class=\"displayNone\" data-column-name=\"UO\">47.09</td><td class=\"displayNone\" data-column-name=\"WilliamsR\">-47.77</td> <td></td>\n",
      "</tr><tr>\n",
      "<td class=\"flag\"><span class=\"ceFlags USA\"></span></td>\n",
      "<td class=\"symbol left bold elp\" data-column-name=\"name_trans\"><a href=\"/equities/tesla-motors\" target=\"_blank\" title=\"Tesla Inc\">Tesla</a></td>\n",
      "<td class=\"left\" data-column-name=\"viewData.symbol\">TSLA</td>\n",
      "<td class=\"left displayNone\" data-column-name=\"exchange_trans\">NASDAQ</td><td class=\"left displayNone\" data-column-name=\"sector_trans\">Consumer Cyclicals</td><td class=\"left displayNone\" data-column-name=\"industry_trans\">Automobiles &amp; Auto Parts</td><td data-column-name=\"last\">175.34</td><td data-column-name=\"pair_change_percent\">-1.85%</td><td data-column-name=\"eq_market_cap\">558.42B</td><td data-column-name=\"turnover_volume\">83.76M</td><td class=\"displayNone\" data-column-name=\"eq_pe_ratio\">37.25</td><td class=\"displayNone\" data-column-name=\"MACD\">-7.35</td><td class=\"displayNone\" data-column-name=\"eq_revenue\">96.77B</td><td class=\"displayNone\" data-column-name=\"avg_volume\">107.29M</td><td class=\"displayNone\" data-column-name=\"eq_eps\">4.73</td><td class=\"displayNone\" data-column-name=\"eq_beta\">2.43</td><td class=\"displayNone\" data-column-name=\"eq_dividend\">-</td><td class=\"displayNone\" data-column-name=\"eq_yield\">-</td><td class=\"left displayNone\" data-column-name=\"tech_sum_900\">Strong Sell</td><td class=\"left displayNone\" data-column-name=\"tech_sum_3600\">Strong Sell</td><td class=\"left displayNone\" data-column-name=\"tech_sum_86400\">Strong Sell</td><td class=\"left displayNone\" data-column-name=\"tech_sum_week\">Strong Sell</td><td class=\"left displayNone\" data-column-name=\"tech_sum_month\">Strong Sell</td><td class=\"displayNone\" data-column-name=\"daily\">-1.85</td><td class=\"displayNone\" data-column-name=\"week\">-13.47</td><td class=\"displayNone\" data-column-name=\"month\">-9.42</td><td class=\"displayNone\" data-column-name=\"ytd\">-29.43</td><td class=\"displayNone\" data-column-name=\"year\">1.10</td><td class=\"displayNone\" data-column-name=\"3year\">-21.26</td><td class=\"displayNone\" data-column-name=\"eq_one_year_return\">1.40</td><td class=\"displayNone\" data-column-name=\"yield_us\">-</td><td class=\"displayNone\" data-column-name=\"peexclxor_us\">37.23</td><td class=\"displayNone\" data-column-name=\"ttmpr2rev_us\">5.77</td><td class=\"displayNone\" data-column-name=\"aprfcfps_us\">42.13</td><td class=\"displayNone\" data-column-name=\"ttmprfcfps_us\">128.17</td><td class=\"displayNone\" data-column-name=\"price2bk_us\">8.92</td><td class=\"displayNone\" data-column-name=\"pr2tanbk_us\">9.15</td><td class=\"displayNone\" data-column-name=\"epschngyr_us\">111.65</td><td class=\"displayNone\" data-column-name=\"ttmepschg_us\">17.55</td><td class=\"displayNone\" data-column-name=\"epstrendgr_us\">0.00</td><td class=\"displayNone\" data-column-name=\"revchngyr_us\">3.49</td><td class=\"displayNone\" data-column-name=\"ttmrevchg_us\">18.80</td><td class=\"displayNone\" data-column-name=\"revtrendgr_us\">35.15</td><td class=\"displayNone\" data-column-name=\"csptrendgr_us\">30.86</td><td class=\"displayNone\" data-column-name=\"ttmastturn_us\">1.02</td><td class=\"displayNone\" data-column-name=\"ttminvturn_us\">5.98</td><td class=\"displayNone\" data-column-name=\"ttmrevpere_us\">688.91</td><td class=\"displayNone\" data-column-name=\"ttmniperem_us\">106.60</td><td class=\"displayNone\" data-column-name=\"ttmrecturn_us\">31.48</td><td class=\"displayNone\" data-column-name=\"a52_week_high\">299.29</td><td class=\"displayNone\" data-column-name=\"a52_week_low\">152.37</td><td class=\"displayNone\" data-column-name=\"a52_week_high_diff\">-41.41</td><td class=\"displayNone\" data-column-name=\"a52_week_low_diff\">15.08</td><td class=\"displayNone\" data-column-name=\"month_change\">7.79%</td><td class=\"displayNone\" data-column-name=\"ttmgrosmgn_us\">18.25</td><td class=\"displayNone\" data-column-name=\"grosmgn5yr_us\">21.52</td><td class=\"displayNone\" data-column-name=\"ttmopmgn_us\">9.19</td><td class=\"displayNone\" data-column-name=\"opmgn5yr_us\">8.54</td><td class=\"displayNone\" data-column-name=\"ttmptmgn_us\">10.31</td><td class=\"displayNone\" data-column-name=\"ptmgn5yr_us\">7.30</td><td class=\"displayNone\" data-column-name=\"ttmnpmgn_us\">15.50</td><td class=\"displayNone\" data-column-name=\"margin5yr_us\">6.66</td><td class=\"displayNone\" data-column-name=\"qquickrati_us\">1.14</td><td class=\"displayNone\" data-column-name=\"qcurratio_us\">1.73</td><td class=\"displayNone\" data-column-name=\"qltd2eq_us\">4.28</td><td class=\"displayNone\" data-column-name=\"qtotd2eq_us\">15.28</td><td class=\"displayNone\" data-column-name=\"yld5yavg_us\">-</td><td class=\"displayNone\" data-column-name=\"divgrpct_us\">0.00</td><td class=\"displayNone\" data-column-name=\"ttmpayrat_us\">0.00</td><td class=\"displayNone\" data-column-name=\"ADX\">34.85</td><td class=\"displayNone\" data-column-name=\"ATR\">8.33</td><td class=\"displayNone\" data-column-name=\"BullBear\">-17.50</td><td class=\"displayNone\" data-column-name=\"CCI\">-144.80</td><td class=\"displayNone\" data-column-name=\"HL\">-12.90</td><td class=\"displayNone\" data-column-name=\"ROC\">-12.29</td><td class=\"displayNone\" data-column-name=\"RSI\">33.66</td><td class=\"displayNone\" data-column-name=\"STOCH\">31.29</td><td class=\"displayNone\" data-column-name=\"STOCHRSI\">1.84</td><td class=\"displayNone\" data-column-name=\"UO\">37.92</td><td class=\"displayNone\" data-column-name=\"WilliamsR\">-94.73</td> <td></td>\n",
      "</tr><tr>\n",
      "<td class=\"flag\"><span class=\"ceFlags USA\"></span></td>\n",
      "<td class=\"symbol left bold elp\" data-column-name=\"name_trans\"><a href=\"/equities/jp-morgan-chase\" target=\"_blank\" title=\"JPMorgan Chase &amp; Co\">JPMorgan</a></td>\n",
      "<td class=\"left\" data-column-name=\"viewData.symbol\">JPM</td>\n",
      "<td class=\"left displayNone\" data-column-name=\"exchange_trans\">NYSE</td><td class=\"left displayNone\" data-column-name=\"sector_trans\">Financials</td><td class=\"left displayNone\" data-column-name=\"industry_trans\">Banking Services</td><td data-column-name=\"last\">188.22</td><td data-column-name=\"pair_change_percent\">0.19%</td><td data-column-name=\"eq_market_cap\">542.14B</td><td data-column-name=\"turnover_volume\">4.89M</td><td class=\"displayNone\" data-column-name=\"eq_pe_ratio\">11.58</td><td class=\"displayNone\" data-column-name=\"MACD\">3.72</td><td class=\"displayNone\" data-column-name=\"eq_revenue\">146.01B</td><td class=\"displayNone\" data-column-name=\"avg_volume\">8.95M</td><td class=\"displayNone\" data-column-name=\"eq_eps\">16.25</td><td class=\"displayNone\" data-column-name=\"eq_beta\">1.12</td><td class=\"displayNone\" data-column-name=\"eq_dividend\">4.20</td><td class=\"displayNone\" data-column-name=\"eq_yield\">-</td><td class=\"left displayNone\" data-column-name=\"tech_sum_900\">Strong Sell</td><td class=\"left displayNone\" data-column-name=\"tech_sum_3600\">Sell</td><td class=\"left displayNone\" data-column-name=\"tech_sum_86400\">Strong Buy</td><td class=\"left displayNone\" data-column-name=\"tech_sum_week\">Strong Buy</td><td class=\"left displayNone\" data-column-name=\"tech_sum_month\">Strong Buy</td><td class=\"displayNone\" data-column-name=\"daily\">0.19</td><td class=\"displayNone\" data-column-name=\"week\">1.58</td><td class=\"displayNone\" data-column-name=\"month\">7.55</td><td class=\"displayNone\" data-column-name=\"ytd\">10.65</td><td class=\"displayNone\" data-column-name=\"year\">40.83</td><td class=\"displayNone\" data-column-name=\"3year\">21.33</td><td class=\"displayNone\" data-column-name=\"eq_one_year_return\">44.41</td><td class=\"displayNone\" data-column-name=\"yield_us\">2.23%</td><td class=\"displayNone\" data-column-name=\"peexclxor_us\">11.35</td><td class=\"displayNone\" data-column-name=\"ttmpr2rev_us\">3.71</td><td class=\"displayNone\" data-column-name=\"aprfcfps_us\">41.79</td><td class=\"displayNone\" data-column-name=\"ttmprfcfps_us\">0.00</td><td class=\"displayNone\" data-column-name=\"price2bk_us\">1.80</td><td class=\"displayNone\" data-column-name=\"pr2tanbk_us\">2.29</td><td class=\"displayNone\" data-column-name=\"epschngyr_us\">-14.89</td><td class=\"displayNone\" data-column-name=\"ttmepschg_us\">34.30</td><td class=\"displayNone\" data-column-name=\"epstrendgr_us\">12.44</td><td class=\"displayNone\" data-column-name=\"revchngyr_us\">11.12</td><td class=\"displayNone\" data-column-name=\"ttmrevchg_us\">19.39</td><td class=\"displayNone\" data-column-name=\"revtrendgr_us\">7.07</td><td class=\"displayNone\" data-column-name=\"csptrendgr_us\">0.00</td><td class=\"displayNone\" data-column-name=\"ttmastturn_us\">-</td><td class=\"displayNone\" data-column-name=\"ttminvturn_us\">-</td><td class=\"displayNone\" data-column-name=\"ttmrevpere_us\">471.11</td><td class=\"displayNone\" data-column-name=\"ttmniperem_us\">159.88</td><td class=\"displayNone\" data-column-name=\"ttmrecturn_us\">-</td><td class=\"displayNone\" data-column-name=\"a52_week_high\">190.5</td><td class=\"displayNone\" data-column-name=\"a52_week_low\">123.11</td><td class=\"displayNone\" data-column-name=\"a52_week_high_diff\">-1.20</td><td class=\"displayNone\" data-column-name=\"a52_week_low_diff\">52.89</td><td class=\"displayNone\" data-column-name=\"month_change\">6.71%</td><td class=\"displayNone\" data-column-name=\"ttmgrosmgn_us\">-</td><td class=\"displayNone\" data-column-name=\"grosmgn5yr_us\">0.00</td><td class=\"displayNone\" data-column-name=\"ttmopmgn_us\">42.28</td><td class=\"displayNone\" data-column-name=\"opmgn5yr_us\">40.36</td><td class=\"displayNone\" data-column-name=\"ttmptmgn_us\">42.20</td><td class=\"displayNone\" data-column-name=\"ptmgn5yr_us\">40.15</td><td class=\"displayNone\" data-column-name=\"ttmnpmgn_us\">33.94</td><td class=\"displayNone\" data-column-name=\"margin5yr_us\">32.57</td><td class=\"displayNone\" data-column-name=\"qquickrati_us\">0.45</td><td class=\"displayNone\" data-column-name=\"qcurratio_us\">-</td><td class=\"displayNone\" data-column-name=\"qltd2eq_us\">121.12</td><td class=\"displayNone\" data-column-name=\"qtotd2eq_us\">243.41</td><td class=\"displayNone\" data-column-name=\"yld5yavg_us\">3.24</td><td class=\"displayNone\" data-column-name=\"divgrpct_us\">5.00</td><td class=\"displayNone\" data-column-name=\"ttmpayrat_us\">27.17</td><td class=\"displayNone\" data-column-name=\"ADX\">67.72</td><td class=\"displayNone\" data-column-name=\"ATR\">2.41</td><td class=\"displayNone\" data-column-name=\"BullBear\">7.84</td><td class=\"displayNone\" data-column-name=\"CCI\">125.95</td><td class=\"displayNone\" data-column-name=\"HL\">2.23</td><td class=\"displayNone\" data-column-name=\"ROC\">5.14</td><td class=\"displayNone\" data-column-name=\"RSI\">72.98</td><td class=\"displayNone\" data-column-name=\"STOCH\">72.15</td><td class=\"displayNone\" data-column-name=\"STOCHRSI\">32.63</td><td class=\"displayNone\" data-column-name=\"UO\">58.20</td><td class=\"displayNone\" data-column-name=\"WilliamsR\">-18.77</td> <td></td>\n",
      "</tr><tr>\n",
      "<td class=\"flag\"><span class=\"ceFlags USA\"></span></td>\n",
      "<td class=\"symbol left bold elp\" data-column-name=\"name_trans\"><a href=\"/equities/jp-morgan-chase-ds-series-gg-pref\" target=\"_blank\" title=\"Jp Morgan Chase Ds Series Gg Pref\">Jp Morgan Gg Pref</a></td>\n",
      "<td class=\"left\" data-column-name=\"viewData.symbol\">JPM_pj</td>\n",
      "<td class=\"left displayNone\" data-column-name=\"exchange_trans\">NYSE</td><td class=\"left displayNone\" data-column-name=\"sector_trans\">Financials</td><td class=\"left displayNone\" data-column-name=\"industry_trans\">Banking Services</td><td data-column-name=\"last\">22.66</td><td data-column-name=\"pair_change_percent\">0.53%</td><td data-column-name=\"eq_market_cap\">542.14B</td><td data-column-name=\"turnover_volume\">28.92K</td><td class=\"displayNone\" data-column-name=\"eq_pe_ratio\">11.30</td><td class=\"displayNone\" data-column-name=\"MACD\">0.11</td><td class=\"displayNone\" data-column-name=\"eq_revenue\">146.01B</td><td class=\"displayNone\" data-column-name=\"avg_volume\">70.13K</td><td class=\"displayNone\" data-column-name=\"eq_eps\">16.25</td><td class=\"displayNone\" data-column-name=\"eq_beta\">1.12</td><td class=\"displayNone\" data-column-name=\"eq_dividend\">1.19</td><td class=\"displayNone\" data-column-name=\"eq_yield\">-</td><td class=\"left displayNone\" data-column-name=\"tech_sum_900\">Neutral</td><td class=\"left displayNone\" data-column-name=\"tech_sum_3600\">Strong Buy</td><td class=\"left displayNone\" data-column-name=\"tech_sum_86400\">Strong Buy</td><td class=\"left displayNone\" data-column-name=\"tech_sum_week\">Strong Buy</td><td class=\"left displayNone\" data-column-name=\"tech_sum_month\">Strong Buy</td><td class=\"displayNone\" data-column-name=\"daily\">0.53</td><td class=\"displayNone\" data-column-name=\"week\">0.18</td><td class=\"displayNone\" data-column-name=\"month\">-0.61</td><td class=\"displayNone\" data-column-name=\"ytd\">5.89</td><td class=\"displayNone\" data-column-name=\"year\">10.51</td><td class=\"displayNone\" data-column-name=\"3year\">-13.20</td><td class=\"displayNone\" data-column-name=\"eq_one_year_return\">10.91</td><td class=\"displayNone\" data-column-name=\"yield_us\">5.24%</td><td class=\"displayNone\" data-column-name=\"peexclxor_us\">-</td><td class=\"displayNone\" data-column-name=\"ttmpr2rev_us\">-</td><td class=\"displayNone\" data-column-name=\"aprfcfps_us\">-</td><td class=\"displayNone\" data-column-name=\"ttmprfcfps_us\">-</td><td class=\"displayNone\" data-column-name=\"price2bk_us\">-</td><td class=\"displayNone\" data-column-name=\"pr2tanbk_us\">-</td><td class=\"displayNone\" data-column-name=\"epschngyr_us\">-14.89</td><td class=\"displayNone\" data-column-name=\"ttmepschg_us\">34.30</td><td class=\"displayNone\" data-column-name=\"epstrendgr_us\">-</td><td class=\"displayNone\" data-column-name=\"revchngyr_us\">11.12</td><td class=\"displayNone\" data-column-name=\"ttmrevchg_us\">19.39</td><td class=\"displayNone\" data-column-name=\"revtrendgr_us\">-</td><td class=\"displayNone\" data-column-name=\"csptrendgr_us\">-</td><td class=\"displayNone\" data-column-name=\"ttmastturn_us\">-</td><td class=\"displayNone\" data-column-name=\"ttminvturn_us\">-</td><td class=\"displayNone\" data-column-name=\"ttmrevpere_us\">-</td><td class=\"displayNone\" data-column-name=\"ttmniperem_us\">-</td><td class=\"displayNone\" data-column-name=\"ttmrecturn_us\">-</td><td class=\"displayNone\" data-column-name=\"a52_week_high\">22.9</td><td class=\"displayNone\" data-column-name=\"a52_week_low\">19.02</td><td class=\"displayNone\" data-column-name=\"a52_week_high_diff\">-1.05</td><td class=\"displayNone\" data-column-name=\"a52_week_low_diff\">19.14</td><td class=\"displayNone\" data-column-name=\"month_change\">1.62%</td><td class=\"displayNone\" data-column-name=\"ttmgrosmgn_us\">-</td><td class=\"displayNone\" data-column-name=\"grosmgn5yr_us\">-</td><td class=\"displayNone\" data-column-name=\"ttmopmgn_us\">-</td><td class=\"displayNone\" data-column-name=\"opmgn5yr_us\">-</td><td class=\"displayNone\" data-column-name=\"ttmptmgn_us\">-</td><td class=\"displayNone\" data-column-name=\"ptmgn5yr_us\">-</td><td class=\"displayNone\" data-column-name=\"ttmnpmgn_us\">-</td><td class=\"displayNone\" data-column-name=\"margin5yr_us\">-</td><td class=\"displayNone\" data-column-name=\"qquickrati_us\">-</td><td class=\"displayNone\" data-column-name=\"qcurratio_us\">-</td><td class=\"displayNone\" data-column-name=\"qltd2eq_us\">-</td><td class=\"displayNone\" data-column-name=\"qtotd2eq_us\">-</td><td class=\"displayNone\" data-column-name=\"yld5yavg_us\">-</td><td class=\"displayNone\" data-column-name=\"divgrpct_us\">-</td><td class=\"displayNone\" data-column-name=\"ttmpayrat_us\">27.17</td><td class=\"displayNone\" data-column-name=\"ADX\">28.22</td><td class=\"displayNone\" data-column-name=\"ATR\">0.18</td><td class=\"displayNone\" data-column-name=\"BullBear\">0.26</td><td class=\"displayNone\" data-column-name=\"CCI\">187.28</td><td class=\"displayNone\" data-column-name=\"HL\">0.04</td><td class=\"displayNone\" data-column-name=\"ROC\">0.71</td><td class=\"displayNone\" data-column-name=\"RSI\">58.97</td><td class=\"displayNone\" data-column-name=\"STOCH\">49.15</td><td class=\"displayNone\" data-column-name=\"STOCHRSI\">81.27</td><td class=\"displayNone\" data-column-name=\"UO\">54.16</td><td class=\"displayNone\" data-column-name=\"WilliamsR\">-20.51</td> <td></td>\n",
      "</tr><tr>\n",
      "<td class=\"flag\"><span class=\"ceFlags USA\"></span></td>\n",
      "<td class=\"symbol left bold elp\" data-column-name=\"name_trans\"><a href=\"/equities/jpmorgan-chase-pref-ee\" target=\"_blank\" title=\"JPMorgan Chase &amp; Co Pref Series EE\">JPMorgan Chase Pref EE</a></td>\n",
      "<td class=\"left\" data-column-name=\"viewData.symbol\">JPM_pc</td>\n",
      "<td class=\"left displayNone\" data-column-name=\"exchange_trans\">NYSE</td><td class=\"left displayNone\" data-column-name=\"sector_trans\">Financials</td><td class=\"left displayNone\" data-column-name=\"industry_trans\">Banking Services</td><td data-column-name=\"last\">25.03</td><td data-column-name=\"pair_change_percent\">0%</td><td data-column-name=\"eq_market_cap\">542.14B</td><td data-column-name=\"turnover_volume\">116.27K</td><td class=\"displayNone\" data-column-name=\"eq_pe_ratio\">11.58</td><td class=\"displayNone\" data-column-name=\"MACD\">-0.06</td><td class=\"displayNone\" data-column-name=\"eq_revenue\">146.01B</td><td class=\"displayNone\" data-column-name=\"avg_volume\">140.21K</td><td class=\"displayNone\" data-column-name=\"eq_eps\">16.25</td><td class=\"displayNone\" data-column-name=\"eq_beta\">1.12</td><td class=\"displayNone\" data-column-name=\"eq_dividend\">1.50</td><td class=\"displayNone\" data-column-name=\"eq_yield\">-</td><td class=\"left displayNone\" data-column-name=\"tech_sum_900\">Strong Sell</td><td class=\"left displayNone\" data-column-name=\"tech_sum_3600\">Strong Sell</td><td class=\"left displayNone\" data-column-name=\"tech_sum_86400\">Strong Sell</td><td class=\"left displayNone\" data-column-name=\"tech_sum_week\">Strong Sell</td><td class=\"left displayNone\" data-column-name=\"tech_sum_month\">Strong Sell</td><td class=\"displayNone\" data-column-name=\"daily\">0.00</td><td class=\"displayNone\" data-column-name=\"week\">-0.48</td><td class=\"displayNone\" data-column-name=\"month\">-1.18</td><td class=\"displayNone\" data-column-name=\"ytd\">-1.11</td><td class=\"displayNone\" data-column-name=\"year\">1.01</td><td class=\"displayNone\" data-column-name=\"3year\">-8.31</td><td class=\"displayNone\" data-column-name=\"eq_one_year_return\">0.40</td><td class=\"displayNone\" data-column-name=\"yield_us\">5.99%</td><td class=\"displayNone\" data-column-name=\"peexclxor_us\">11.35</td><td class=\"displayNone\" data-column-name=\"ttmpr2rev_us\">3.71</td><td class=\"displayNone\" data-column-name=\"aprfcfps_us\">41.79</td><td class=\"displayNone\" data-column-name=\"ttmprfcfps_us\">0.00</td><td class=\"displayNone\" data-column-name=\"price2bk_us\">1.80</td><td class=\"displayNone\" data-column-name=\"pr2tanbk_us\">2.29</td><td class=\"displayNone\" data-column-name=\"epschngyr_us\">-14.89</td><td class=\"displayNone\" data-column-name=\"ttmepschg_us\">34.30</td><td class=\"displayNone\" data-column-name=\"epstrendgr_us\">12.44</td><td class=\"displayNone\" data-column-name=\"revchngyr_us\">11.12</td><td class=\"displayNone\" data-column-name=\"ttmrevchg_us\">19.39</td><td class=\"displayNone\" data-column-name=\"revtrendgr_us\">7.07</td><td class=\"displayNone\" data-column-name=\"csptrendgr_us\">0.00</td><td class=\"displayNone\" data-column-name=\"ttmastturn_us\">-</td><td class=\"displayNone\" data-column-name=\"ttminvturn_us\">-</td><td class=\"displayNone\" data-column-name=\"ttmrevpere_us\">471.11</td><td class=\"displayNone\" data-column-name=\"ttmniperem_us\">159.88</td><td class=\"displayNone\" data-column-name=\"ttmrecturn_us\">-</td><td class=\"displayNone\" data-column-name=\"a52_week_high\">25.73</td><td class=\"displayNone\" data-column-name=\"a52_week_low\">23.87</td><td class=\"displayNone\" data-column-name=\"a52_week_high_diff\">-2.72</td><td class=\"displayNone\" data-column-name=\"a52_week_low_diff\">4.86</td><td class=\"displayNone\" data-column-name=\"month_change\">0.44%</td><td class=\"displayNone\" data-column-name=\"ttmgrosmgn_us\">-</td><td class=\"displayNone\" data-column-name=\"grosmgn5yr_us\">0.00</td><td class=\"displayNone\" data-column-name=\"ttmopmgn_us\">42.28</td><td class=\"displayNone\" data-column-name=\"opmgn5yr_us\">40.36</td><td class=\"displayNone\" data-column-name=\"ttmptmgn_us\">42.20</td><td class=\"displayNone\" data-column-name=\"ptmgn5yr_us\">40.15</td><td class=\"displayNone\" data-column-name=\"ttmnpmgn_us\">33.94</td><td class=\"displayNone\" data-column-name=\"margin5yr_us\">32.57</td><td class=\"displayNone\" data-column-name=\"qquickrati_us\">0.45</td><td class=\"displayNone\" data-column-name=\"qcurratio_us\">-</td><td class=\"displayNone\" data-column-name=\"qltd2eq_us\">121.12</td><td class=\"displayNone\" data-column-name=\"qtotd2eq_us\">243.41</td><td class=\"displayNone\" data-column-name=\"yld5yavg_us\">3.24</td><td class=\"displayNone\" data-column-name=\"divgrpct_us\">-</td><td class=\"displayNone\" data-column-name=\"ttmpayrat_us\">27.17</td><td class=\"displayNone\" data-column-name=\"ADX\">22.58</td><td class=\"displayNone\" data-column-name=\"ATR\">0.09</td><td class=\"displayNone\" data-column-name=\"BullBear\">-0.11</td><td class=\"displayNone\" data-column-name=\"CCI\">-149.50</td><td class=\"displayNone\" data-column-name=\"HL\">-0.07</td><td class=\"displayNone\" data-column-name=\"ROC\">-0.40</td><td class=\"displayNone\" data-column-name=\"RSI\">39.89</td><td class=\"displayNone\" data-column-name=\"STOCH\">22.71</td><td class=\"displayNone\" data-column-name=\"STOCHRSI\">0.00</td><td class=\"displayNone\" data-column-name=\"UO\">30.46</td><td class=\"displayNone\" data-column-name=\"WilliamsR\">-92.31</td> <td></td>\n",
      "</tr><tr>\n",
      "<td class=\"flag\"><span class=\"ceFlags USA\"></span></td>\n",
      "<td class=\"symbol left bold elp\" data-column-name=\"name_trans\"><a href=\"/equities/wal-mart-stores\" target=\"_blank\" title=\"Walmart Inc\">Walmart</a></td>\n",
      "<td class=\"left\" data-column-name=\"viewData.symbol\">WMT</td>\n",
      "<td class=\"left displayNone\" data-column-name=\"exchange_trans\">NYSE</td><td class=\"left displayNone\" data-column-name=\"sector_trans\">Consumer Non-Cyclicals</td><td class=\"left displayNone\" data-column-name=\"industry_trans\">Food &amp; Drug Retailing</td><td data-column-name=\"last\">60.12</td><td data-column-name=\"pair_change_percent\">-0.4%</td><td data-column-name=\"eq_market_cap\">484.13B</td><td data-column-name=\"turnover_volume\">11.53M</td><td class=\"displayNone\" data-column-name=\"eq_pe_ratio\">31.31</td><td class=\"displayNone\" data-column-name=\"MACD\">1.28</td><td class=\"displayNone\" data-column-name=\"eq_revenue\">648.13B</td><td class=\"displayNone\" data-column-name=\"avg_volume\">22.47M</td><td class=\"displayNone\" data-column-name=\"eq_eps\">1.92</td><td class=\"displayNone\" data-column-name=\"eq_beta\">0.49</td><td class=\"displayNone\" data-column-name=\"eq_dividend\">0.83</td><td class=\"displayNone\" data-column-name=\"eq_yield\">-</td><td class=\"left displayNone\" data-column-name=\"tech_sum_900\">Neutral</td><td class=\"left displayNone\" data-column-name=\"tech_sum_3600\">Neutral</td><td class=\"left displayNone\" data-column-name=\"tech_sum_86400\">Strong Buy</td><td class=\"left displayNone\" data-column-name=\"tech_sum_week\">Strong Buy</td><td class=\"left displayNone\" data-column-name=\"tech_sum_month\">Strong Buy</td><td class=\"displayNone\" data-column-name=\"daily\">-0.40</td><td class=\"displayNone\" data-column-name=\"week\">2.31</td><td class=\"displayNone\" data-column-name=\"month\">6.54</td><td class=\"displayNone\" data-column-name=\"ytd\">14.41</td><td class=\"displayNone\" data-column-name=\"year\">31.67</td><td class=\"displayNone\" data-column-name=\"3year\">36.45</td><td class=\"displayNone\" data-column-name=\"eq_one_year_return\">31.50</td><td class=\"displayNone\" data-column-name=\"yield_us\">1.38%</td><td class=\"displayNone\" data-column-name=\"peexclxor_us\">31.21</td><td class=\"displayNone\" data-column-name=\"ttmpr2rev_us\">0.75</td><td class=\"displayNone\" data-column-name=\"aprfcfps_us\">13.55</td><td class=\"displayNone\" data-column-name=\"ttmprfcfps_us\">32.02</td><td class=\"displayNone\" data-column-name=\"price2bk_us\">5.77</td><td class=\"displayNone\" data-column-name=\"pr2tanbk_us\">8.72</td><td class=\"displayNone\" data-column-name=\"epschngyr_us\">-12.25</td><td class=\"displayNone\" data-column-name=\"ttmepschg_us\">34.38</td><td class=\"displayNone\" data-column-name=\"epstrendgr_us\">20.40</td><td class=\"displayNone\" data-column-name=\"revchngyr_us\">5.69</td><td class=\"displayNone\" data-column-name=\"ttmrevchg_us\">6.03</td><td class=\"displayNone\" data-column-name=\"revtrendgr_us\">4.73</td><td class=\"displayNone\" data-column-name=\"csptrendgr_us\">14.78</td><td class=\"displayNone\" data-column-name=\"ttmastturn_us\">2.62</td><td class=\"displayNone\" data-column-name=\"ttminvturn_us\">8.79</td><td class=\"displayNone\" data-column-name=\"ttmrevpere_us\">308.63</td><td class=\"displayNone\" data-column-name=\"ttmniperem_us\">7.75</td><td class=\"displayNone\" data-column-name=\"ttmrecturn_us\">79.62</td><td class=\"displayNone\" data-column-name=\"a52_week_high\">61.07</td><td class=\"displayNone\" data-column-name=\"a52_week_low\">45.53</td><td class=\"displayNone\" data-column-name=\"a52_week_high_diff\">-1.56</td><td class=\"displayNone\" data-column-name=\"a52_week_low_diff\">32.04</td><td class=\"displayNone\" data-column-name=\"month_change\">6.41%</td><td class=\"displayNone\" data-column-name=\"ttmgrosmgn_us\">24.38</td><td class=\"displayNone\" data-column-name=\"grosmgn5yr_us\">24.67</td><td class=\"displayNone\" data-column-name=\"ttmopmgn_us\">4.17</td><td class=\"displayNone\" data-column-name=\"opmgn5yr_us\">4.39</td><td class=\"displayNone\" data-column-name=\"ttmptmgn_us\">3.37</td><td class=\"displayNone\" data-column-name=\"ptmgn5yr_us\">3.34</td><td class=\"displayNone\" data-column-name=\"ttmnpmgn_us\">2.39</td><td class=\"displayNone\" data-column-name=\"margin5yr_us\">2.37</td><td class=\"displayNone\" data-column-name=\"qquickrati_us\">0.20</td><td class=\"displayNone\" data-column-name=\"qcurratio_us\">0.83</td><td class=\"displayNone\" data-column-name=\"qltd2eq_us\">43.09</td><td class=\"displayNone\" data-column-name=\"qtotd2eq_us\">73.12</td><td class=\"displayNone\" data-column-name=\"yld5yavg_us\">1.68</td><td class=\"displayNone\" data-column-name=\"divgrpct_us\">11.16</td><td class=\"displayNone\" data-column-name=\"ttmpayrat_us\">39.58</td><td class=\"displayNone\" data-column-name=\"ADX\">35.99</td><td class=\"displayNone\" data-column-name=\"ATR\">1.04</td><td class=\"displayNone\" data-column-name=\"BullBear\">1.46</td><td class=\"displayNone\" data-column-name=\"CCI\">103.08</td><td class=\"displayNone\" data-column-name=\"HL\">0.40</td><td class=\"displayNone\" data-column-name=\"ROC\">5.86</td><td class=\"displayNone\" data-column-name=\"RSI\">68.78</td><td class=\"displayNone\" data-column-name=\"STOCH\">62.71</td><td class=\"displayNone\" data-column-name=\"STOCHRSI\">33.97</td><td class=\"displayNone\" data-column-name=\"UO\">55.93</td><td class=\"displayNone\" data-column-name=\"WilliamsR\">-27.38</td> <td></td>\n",
      "</tr><tr>\n",
      "<td class=\"flag\"><span class=\"ceFlags USA\"></span></td>\n",
      "<td class=\"symbol left bold elp\" data-column-name=\"name_trans\"><a href=\"/equities/lvmh-moet-henn-l-vut\" target=\"_blank\" title=\"LVMH Moet Hennessy Louis Vuitton SA ADR\">Louis Vuitton ADR</a></td>\n",
      "<td class=\"left\" data-column-name=\"viewData.symbol\">LVMUY</td>\n",
      "<td class=\"left displayNone\" data-column-name=\"exchange_trans\">OTC Markets</td><td class=\"left displayNone\" data-column-name=\"sector_trans\">Consumer Cyclicals</td><td class=\"left displayNone\" data-column-name=\"industry_trans\">Textiles &amp; Apparel</td><td data-column-name=\"last\">183.89</td><td data-column-name=\"pair_change_percent\">-0.3%</td><td data-column-name=\"eq_market_cap\">461.63B</td><td data-column-name=\"turnover_volume\">146.98K</td><td class=\"displayNone\" data-column-name=\"eq_pe_ratio\">27.88</td><td class=\"displayNone\" data-column-name=\"MACD\">5.01</td><td class=\"displayNone\" data-column-name=\"eq_revenue\">86.15B</td><td class=\"displayNone\" data-column-name=\"avg_volume\">193.92K</td><td class=\"displayNone\" data-column-name=\"eq_eps\">30.34</td><td class=\"displayNone\" data-column-name=\"eq_beta\">1.00</td><td class=\"displayNone\" data-column-name=\"eq_dividend\">2.20</td><td class=\"displayNone\" data-column-name=\"eq_yield\">-</td><td class=\"left displayNone\" data-column-name=\"tech_sum_900\">Strong Sell</td><td class=\"left displayNone\" data-column-name=\"tech_sum_3600\">Neutral</td><td class=\"left displayNone\" data-column-name=\"tech_sum_86400\">Strong Buy</td><td class=\"left displayNone\" data-column-name=\"tech_sum_week\">Strong Buy</td><td class=\"left displayNone\" data-column-name=\"tech_sum_month\">Strong Buy</td><td class=\"displayNone\" data-column-name=\"daily\">-0.30</td><td class=\"displayNone\" data-column-name=\"week\">-0.02</td><td class=\"displayNone\" data-column-name=\"month\">5.08</td><td class=\"displayNone\" data-column-name=\"ytd\">13.20</td><td class=\"displayNone\" data-column-name=\"year\">9.26</td><td class=\"displayNone\" data-column-name=\"3year\">38.78</td><td class=\"displayNone\" data-column-name=\"eq_one_year_return\">9.54</td><td class=\"displayNone\" data-column-name=\"yield_us\">1.2%</td><td class=\"displayNone\" data-column-name=\"peexclxor_us\">27.65</td><td class=\"displayNone\" data-column-name=\"ttmpr2rev_us\">4.87</td><td class=\"displayNone\" data-column-name=\"aprfcfps_us\">22.80</td><td class=\"displayNone\" data-column-name=\"ttmprfcfps_us\">36.18</td><td class=\"displayNone\" data-column-name=\"price2bk_us\">6.87</td><td class=\"displayNone\" data-column-name=\"pr2tanbk_us\">36.74</td><td class=\"displayNone\" data-column-name=\"epschngyr_us\">-11.03</td><td class=\"displayNone\" data-column-name=\"ttmepschg_us\">8.18</td><td class=\"displayNone\" data-column-name=\"epstrendgr_us\">19.15</td><td class=\"displayNone\" data-column-name=\"revchngyr_us\">3.43</td><td class=\"displayNone\" data-column-name=\"ttmrevchg_us\">8.80</td><td class=\"displayNone\" data-column-name=\"revtrendgr_us\">12.97</td><td class=\"displayNone\" data-column-name=\"csptrendgr_us\">21.32</td><td class=\"displayNone\" data-column-name=\"ttmastturn_us\">0.62</td><td class=\"displayNone\" data-column-name=\"ttminvturn_us\">1.24</td><td class=\"displayNone\" data-column-name=\"ttmrevpere_us\">448.04</td><td class=\"displayNone\" data-column-name=\"ttmniperem_us\">82.96</td><td class=\"displayNone\" data-column-name=\"ttmrecturn_us\">18.58</td><td class=\"displayNone\" data-column-name=\"a52_week_high\">200.76</td><td class=\"displayNone\" data-column-name=\"a52_week_low\">138.11</td><td class=\"displayNone\" data-column-name=\"a52_week_high_diff\">-8.40</td><td class=\"displayNone\" data-column-name=\"a52_week_low_diff\">33.15</td><td class=\"displayNone\" data-column-name=\"month_change\">10.1%</td><td class=\"displayNone\" data-column-name=\"ttmgrosmgn_us\">68.80</td><td class=\"displayNone\" data-column-name=\"grosmgn5yr_us\">67.12</td><td class=\"displayNone\" data-column-name=\"ttmopmgn_us\">26.46</td><td class=\"displayNone\" data-column-name=\"opmgn5yr_us\">23.64</td><td class=\"displayNone\" data-column-name=\"ttmptmgn_us\">25.10</td><td class=\"displayNone\" data-column-name=\"ptmgn5yr_us\">22.55</td><td class=\"displayNone\" data-column-name=\"ttmnpmgn_us\">17.61</td><td class=\"displayNone\" data-column-name=\"margin5yr_us\">16.39</td><td class=\"displayNone\" data-column-name=\"qquickrati_us\">0.48</td><td class=\"displayNone\" data-column-name=\"qcurratio_us\">1.32</td><td class=\"displayNone\" data-column-name=\"qltd2eq_us\">18.56</td><td class=\"displayNone\" data-column-name=\"qtotd2eq_us\">63.91</td><td class=\"displayNone\" data-column-name=\"yld5yavg_us\">1.54</td><td class=\"displayNone\" data-column-name=\"divgrpct_us\">55.26</td><td class=\"displayNone\" data-column-name=\"ttmpayrat_us\">41.20</td><td class=\"displayNone\" data-column-name=\"ADX\">25.98</td><td class=\"displayNone\" data-column-name=\"ATR\">2.45</td><td class=\"displayNone\" data-column-name=\"BullBear\">7.08</td><td class=\"displayNone\" data-column-name=\"CCI\">105.90</td><td class=\"displayNone\" data-column-name=\"HL\">0.95</td><td class=\"displayNone\" data-column-name=\"ROC\">4.86</td><td class=\"displayNone\" data-column-name=\"RSI\">64.97</td><td class=\"displayNone\" data-column-name=\"STOCH\">55.63</td><td class=\"displayNone\" data-column-name=\"STOCHRSI\">40.79</td><td class=\"displayNone\" data-column-name=\"UO\">56.49</td><td class=\"displayNone\" data-column-name=\"WilliamsR\">-21.92</td> <td></td>\n",
      "</tr><tr>\n",
      "<td class=\"flag\"><span class=\"ceFlags USA\"></span></td>\n",
      "<td class=\"symbol left bold elp\" data-column-name=\"name_trans\"><a href=\"/equities/united-health-group\" target=\"_blank\" title=\"UnitedHealth Group Incorporated\">UnitedHealth</a></td>\n",
      "<td class=\"left\" data-column-name=\"viewData.symbol\">UNH</td>\n",
      "<td class=\"left displayNone\" data-column-name=\"exchange_trans\">NYSE</td><td class=\"left displayNone\" data-column-name=\"sector_trans\">Healthcare</td><td class=\"left displayNone\" data-column-name=\"industry_trans\">Healthcare Providers &amp; Services</td><td data-column-name=\"last\">476.5</td><td data-column-name=\"pair_change_percent\">-0.08%</td><td data-column-name=\"eq_market_cap\">439.37B</td><td data-column-name=\"turnover_volume\">3.90M</td><td class=\"displayNone\" data-column-name=\"eq_pe_ratio\">19.88</td><td class=\"displayNone\" data-column-name=\"MACD\">-11.70</td><td class=\"displayNone\" data-column-name=\"eq_revenue\">371.62B</td><td class=\"displayNone\" data-column-name=\"avg_volume\">3.99M</td><td class=\"displayNone\" data-column-name=\"eq_eps\">24.12</td><td class=\"displayNone\" data-column-name=\"eq_beta\">0.55</td><td class=\"displayNone\" data-column-name=\"eq_dividend\">7.52</td><td class=\"displayNone\" data-column-name=\"eq_yield\">-</td><td class=\"left displayNone\" data-column-name=\"tech_sum_900\">Strong Sell</td><td class=\"left displayNone\" data-column-name=\"tech_sum_3600\">Neutral</td><td class=\"left displayNone\" data-column-name=\"tech_sum_86400\">Strong Sell</td><td class=\"left displayNone\" data-column-name=\"tech_sum_week\">Strong Sell</td><td class=\"left displayNone\" data-column-name=\"tech_sum_month\">Sell</td><td class=\"displayNone\" data-column-name=\"daily\">-0.08</td><td class=\"displayNone\" data-column-name=\"week\">-2.66</td><td class=\"displayNone\" data-column-name=\"month\">-8.05</td><td class=\"displayNone\" data-column-name=\"ytd\">-9.49</td><td class=\"displayNone\" data-column-name=\"year\">3.51</td><td class=\"displayNone\" data-column-name=\"3year\">36.30</td><td class=\"displayNone\" data-column-name=\"eq_one_year_return\">2.49</td><td class=\"displayNone\" data-column-name=\"yield_us\">1.58%</td><td class=\"displayNone\" data-column-name=\"peexclxor_us\">19.63</td><td class=\"displayNone\" data-column-name=\"ttmpr2rev_us\">1.18</td><td class=\"displayNone\" data-column-name=\"aprfcfps_us\">15.11</td><td class=\"displayNone\" data-column-name=\"ttmprfcfps_us\">17.11</td><td class=\"displayNone\" data-column-name=\"price2bk_us\">4.95</td><td class=\"displayNone\" data-column-name=\"pr2tanbk_us\">-12.55</td><td class=\"displayNone\" data-column-name=\"epschngyr_us\">16.05</td><td class=\"displayNone\" data-column-name=\"ttmepschg_us\">12.32</td><td class=\"displayNone\" data-column-name=\"epstrendgr_us\">14.14</td><td class=\"displayNone\" data-column-name=\"revchngyr_us\">14.06</td><td class=\"displayNone\" data-column-name=\"ttmrevchg_us\">14.64</td><td class=\"displayNone\" data-column-name=\"revtrendgr_us\">10.43</td><td class=\"displayNone\" data-column-name=\"csptrendgr_us\">10.42</td><td class=\"displayNone\" data-column-name=\"ttmastturn_us\">1.43</td><td class=\"displayNone\" data-column-name=\"ttminvturn_us\">89.10</td><td class=\"displayNone\" data-column-name=\"ttmrevpere_us\">821.71</td><td class=\"displayNone\" data-column-name=\"ttmniperem_us\">50.66</td><td class=\"displayNone\" data-column-name=\"ttmrecturn_us\">16.29</td><td class=\"displayNone\" data-column-name=\"a52_week_high\">554.7</td><td class=\"displayNone\" data-column-name=\"a52_week_low\">445.68</td><td class=\"displayNone\" data-column-name=\"a52_week_high_diff\">-14.10</td><td class=\"displayNone\" data-column-name=\"a52_week_low_diff\">6.92</td><td class=\"displayNone\" data-column-name=\"month_change\">-3.54%</td><td class=\"displayNone\" data-column-name=\"ttmgrosmgn_us\">24.48</td><td class=\"displayNone\" data-column-name=\"grosmgn5yr_us\">24.60</td><td class=\"displayNone\" data-column-name=\"ttmopmgn_us\">8.71</td><td class=\"displayNone\" data-column-name=\"opmgn5yr_us\">8.49</td><td class=\"displayNone\" data-column-name=\"ttmptmgn_us\">7.83</td><td class=\"displayNone\" data-column-name=\"ptmgn5yr_us\">7.82</td><td class=\"displayNone\" data-column-name=\"ttmnpmgn_us\">6.02</td><td class=\"displayNone\" data-column-name=\"margin5yr_us\">6.12</td><td class=\"displayNone\" data-column-name=\"qquickrati_us\">0.51</td><td class=\"displayNone\" data-column-name=\"qcurratio_us\">0.75</td><td class=\"displayNone\" data-column-name=\"qltd2eq_us\">65.64</td><td class=\"displayNone\" data-column-name=\"qtotd2eq_us\">75.98</td><td class=\"displayNone\" data-column-name=\"yld5yavg_us\">1.53</td><td class=\"displayNone\" data-column-name=\"divgrpct_us\">13.94</td><td class=\"displayNone\" data-column-name=\"ttmpayrat_us\">30.21</td><td class=\"displayNone\" data-column-name=\"ADX\">43.63</td><td class=\"displayNone\" data-column-name=\"ATR\">11.09</td><td class=\"displayNone\" data-column-name=\"BullBear\">-24.58</td><td class=\"displayNone\" data-column-name=\"CCI\">-81.69</td><td class=\"displayNone\" data-column-name=\"HL\">-18.93</td><td class=\"displayNone\" data-column-name=\"ROC\">-8.63</td><td class=\"displayNone\" data-column-name=\"RSI\">29.14</td><td class=\"displayNone\" data-column-name=\"STOCH\">16.61</td><td class=\"displayNone\" data-column-name=\"STOCHRSI\">16.41</td><td class=\"displayNone\" data-column-name=\"UO\">41.33</td><td class=\"displayNone\" data-column-name=\"WilliamsR\">-87.05</td> <td></td>\n",
      "</tr><tr>\n",
      "<td class=\"flag\"><span class=\"ceFlags USA\"></span></td>\n",
      "<td class=\"symbol left bold elp\" data-column-name=\"name_trans\"><a href=\"/equities/mastercard-cl-a\" target=\"_blank\" title=\"Mastercard Inc\">Mastercard</a></td>\n",
      "<td class=\"left\" data-column-name=\"viewData.symbol\">MA</td>\n",
      "<td class=\"left displayNone\" data-column-name=\"exchange_trans\">NYSE</td><td class=\"left displayNone\" data-column-name=\"sector_trans\">Technology</td><td class=\"left displayNone\" data-column-name=\"industry_trans\">Software &amp; IT Services</td><td data-column-name=\"last\">469.37</td><td data-column-name=\"pair_change_percent\">0.39%</td><td data-column-name=\"eq_market_cap\">437.77B</td><td data-column-name=\"turnover_volume\">1.56M</td><td class=\"displayNone\" data-column-name=\"eq_pe_ratio\">39.61</td><td class=\"displayNone\" data-column-name=\"MACD\">6.47</td><td class=\"displayNone\" data-column-name=\"eq_revenue\">25.10B</td><td class=\"displayNone\" data-column-name=\"avg_volume\">2.47M</td><td class=\"displayNone\" data-column-name=\"eq_eps\">11.86</td><td class=\"displayNone\" data-column-name=\"eq_beta\">1.08</td><td class=\"displayNone\" data-column-name=\"eq_dividend\">2.64</td><td class=\"displayNone\" data-column-name=\"eq_yield\">-</td><td class=\"left displayNone\" data-column-name=\"tech_sum_900\">Strong Sell</td><td class=\"left displayNone\" data-column-name=\"tech_sum_3600\">Neutral</td><td class=\"left displayNone\" data-column-name=\"tech_sum_86400\">Buy</td><td class=\"left displayNone\" data-column-name=\"tech_sum_week\">Strong Buy</td><td class=\"left displayNone\" data-column-name=\"tech_sum_month\">Strong Buy</td><td class=\"displayNone\" data-column-name=\"daily\">0.39</td><td class=\"displayNone\" data-column-name=\"week\">-1.52</td><td class=\"displayNone\" data-column-name=\"month\">2.51</td><td class=\"displayNone\" data-column-name=\"ytd\">10.05</td><td class=\"displayNone\" data-column-name=\"year\">35.22</td><td class=\"displayNone\" data-column-name=\"3year\">22.97</td><td class=\"displayNone\" data-column-name=\"eq_one_year_return\">32.43</td><td class=\"displayNone\" data-column-name=\"yield_us\">0.56%</td><td class=\"displayNone\" data-column-name=\"peexclxor_us\">39.11</td><td class=\"displayNone\" data-column-name=\"ttmpr2rev_us\">17.45</td><td class=\"displayNone\" data-column-name=\"aprfcfps_us\">36.55</td><td class=\"displayNone\" data-column-name=\"ttmprfcfps_us\">37.72</td><td class=\"displayNone\" data-column-name=\"price2bk_us\">63.19</td><td class=\"displayNone\" data-column-name=\"pr2tanbk_us\">-90.55</td><td class=\"displayNone\" data-column-name=\"epschngyr_us\">13.37</td><td class=\"displayNone\" data-column-name=\"ttmepschg_us\">15.61</td><td class=\"displayNone\" data-column-name=\"epstrendgr_us\">16.07</td><td class=\"displayNone\" data-column-name=\"revchngyr_us\">12.57</td><td class=\"displayNone\" data-column-name=\"ttmrevchg_us\">12.87</td><td class=\"displayNone\" data-column-name=\"revtrendgr_us\">10.92</td><td class=\"displayNone\" data-column-name=\"csptrendgr_us\">2.37</td><td class=\"displayNone\" data-column-name=\"ttmastturn_us\">0.62</td><td class=\"displayNone\" data-column-name=\"ttminvturn_us\">0.00</td><td class=\"displayNone\" data-column-name=\"ttmrevpere_us\">751.44</td><td class=\"displayNone\" data-column-name=\"ttmniperem_us\">335.18</td><td class=\"displayNone\" data-column-name=\"ttmrecturn_us\">6.45</td><td class=\"displayNone\" data-column-name=\"a52_week_high\">479.14</td><td class=\"displayNone\" data-column-name=\"a52_week_low\">340.21</td><td class=\"displayNone\" data-column-name=\"a52_week_high_diff\">-2.04</td><td class=\"displayNone\" data-column-name=\"a52_week_low_diff\">37.96</td><td class=\"displayNone\" data-column-name=\"month_change\">5.68%</td><td class=\"displayNone\" data-column-name=\"ttmgrosmgn_us\">100.00</td><td class=\"displayNone\" data-column-name=\"grosmgn5yr_us\">100.00</td><td class=\"displayNone\" data-column-name=\"ttmopmgn_us\">57.96</td><td class=\"displayNone\" data-column-name=\"opmgn5yr_us\">55.85</td><td class=\"displayNone\" data-column-name=\"ttmptmgn_us\">54.34</td><td class=\"displayNone\" data-column-name=\"ptmgn5yr_us\">53.30</td><td class=\"displayNone\" data-column-name=\"ttmnpmgn_us\">44.61</td><td class=\"displayNone\" data-column-name=\"margin5yr_us\">44.37</td><td class=\"displayNone\" data-column-name=\"qquickrati_us\">0.82</td><td class=\"displayNone\" data-column-name=\"qcurratio_us\">1.17</td><td class=\"displayNone\" data-column-name=\"qltd2eq_us\">207.01</td><td class=\"displayNone\" data-column-name=\"qtotd2eq_us\">237.49</td><td class=\"displayNone\" data-column-name=\"yld5yavg_us\">0.57</td><td class=\"displayNone\" data-column-name=\"divgrpct_us\">15.79</td><td class=\"displayNone\" data-column-name=\"ttmpayrat_us\">19.28</td><td class=\"displayNone\" data-column-name=\"ADX\">16.20</td><td class=\"displayNone\" data-column-name=\"ATR\">7.16</td><td class=\"displayNone\" data-column-name=\"BullBear\">-0.41</td><td class=\"displayNone\" data-column-name=\"CCI\">-2.57</td><td class=\"displayNone\" data-column-name=\"HL\">0.00</td><td class=\"displayNone\" data-column-name=\"ROC\">0.25</td><td class=\"displayNone\" data-column-name=\"RSI\">56.27</td><td class=\"displayNone\" data-column-name=\"STOCH\">47.70</td><td class=\"displayNone\" data-column-name=\"STOCHRSI\">24.19</td><td class=\"displayNone\" data-column-name=\"UO\">48.64</td><td class=\"displayNone\" data-column-name=\"WilliamsR\">-33.98</td> <td></td>\n",
      "</tr><tr>\n",
      "<td class=\"flag\"><span class=\"ceFlags USA\"></span></td>\n",
      "<td class=\"symbol left bold elp\" data-column-name=\"name_trans\"><a href=\"/equities/exxon-mobil\" target=\"_blank\" title=\"Exxon Mobil Corp\">Exxon Mobil</a></td>\n",
      "<td class=\"left\" data-column-name=\"viewData.symbol\">XOM</td>\n",
      "<td class=\"left displayNone\" data-column-name=\"exchange_trans\">NYSE</td><td class=\"left displayNone\" data-column-name=\"sector_trans\">Energy</td><td class=\"left displayNone\" data-column-name=\"industry_trans\">Oil &amp; Gas</td><td data-column-name=\"last\">108.37</td><td data-column-name=\"pair_change_percent\">0.93%</td><td data-column-name=\"eq_market_cap\">430.03B</td><td data-column-name=\"turnover_volume\">13.61M</td><td class=\"displayNone\" data-column-name=\"eq_pe_ratio\">12.15</td><td class=\"displayNone\" data-column-name=\"MACD\">1.40</td><td class=\"displayNone\" data-column-name=\"eq_revenue\">338.81B</td><td class=\"displayNone\" data-column-name=\"avg_volume\">19.37M</td><td class=\"displayNone\" data-column-name=\"eq_eps\">8.89</td><td class=\"displayNone\" data-column-name=\"eq_beta\">0.95</td><td class=\"displayNone\" data-column-name=\"eq_dividend\">3.80</td><td class=\"displayNone\" data-column-name=\"eq_yield\">-</td><td class=\"left displayNone\" data-column-name=\"tech_sum_900\">Strong Buy</td><td class=\"left displayNone\" data-column-name=\"tech_sum_3600\">Strong Buy</td><td class=\"left displayNone\" data-column-name=\"tech_sum_86400\">Strong Buy</td><td class=\"left displayNone\" data-column-name=\"tech_sum_week\">Strong Buy</td><td class=\"left displayNone\" data-column-name=\"tech_sum_month\">Strong Buy</td><td class=\"displayNone\" data-column-name=\"daily\">0.93</td><td class=\"displayNone\" data-column-name=\"week\">2.39</td><td class=\"displayNone\" data-column-name=\"month\">6.49</td><td class=\"displayNone\" data-column-name=\"ytd\">8.39</td><td class=\"displayNone\" data-column-name=\"year\">0.55</td><td class=\"displayNone\" data-column-name=\"3year\">75.44</td><td class=\"displayNone\" data-column-name=\"eq_one_year_return\">-0.70</td><td class=\"displayNone\" data-column-name=\"yield_us\">3.51%</td><td class=\"displayNone\" data-column-name=\"peexclxor_us\">11.94</td><td class=\"displayNone\" data-column-name=\"ttmpr2rev_us\">1.27</td><td class=\"displayNone\" data-column-name=\"aprfcfps_us\">7.77</td><td class=\"displayNone\" data-column-name=\"ttmprfcfps_us\">12.85</td><td class=\"displayNone\" data-column-name=\"price2bk_us\">2.10</td><td class=\"displayNone\" data-column-name=\"pr2tanbk_us\">2.08</td><td class=\"displayNone\" data-column-name=\"epschngyr_us\">-38.19</td><td class=\"displayNone\" data-column-name=\"ttmepschg_us\">-32.96</td><td class=\"displayNone\" data-column-name=\"epstrendgr_us\">12.73</td><td class=\"displayNone\" data-column-name=\"revchngyr_us\">-12.22</td><td class=\"displayNone\" data-column-name=\"ttmrevchg_us\">-15.77</td><td class=\"displayNone\" data-column-name=\"revtrendgr_us\">3.81</td><td class=\"displayNone\" data-column-name=\"csptrendgr_us\">2.29</td><td class=\"displayNone\" data-column-name=\"ttmastturn_us\">0.91</td><td class=\"displayNone\" data-column-name=\"ttminvturn_us\">9.17</td><td class=\"displayNone\" data-column-name=\"ttmrevpere_us\">4.39</td><td class=\"displayNone\" data-column-name=\"ttmniperem_us\">373.73</td><td class=\"displayNone\" data-column-name=\"ttmrecturn_us\">9.06</td><td class=\"displayNone\" data-column-name=\"a52_week_high\">120.7</td><td class=\"displayNone\" data-column-name=\"a52_week_low\">95.77</td><td class=\"displayNone\" data-column-name=\"a52_week_high_diff\">-10.22</td><td class=\"displayNone\" data-column-name=\"a52_week_low_diff\">13.16</td><td class=\"displayNone\" data-column-name=\"month_change\">1.66%</td><td class=\"displayNone\" data-column-name=\"ttmgrosmgn_us\">32.93</td><td class=\"displayNone\" data-column-name=\"grosmgn5yr_us\">32.06</td><td class=\"displayNone\" data-column-name=\"ttmopmgn_us\">15.10</td><td class=\"displayNone\" data-column-name=\"opmgn5yr_us\">8.70</td><td class=\"displayNone\" data-column-name=\"ttmptmgn_us\">15.58</td><td class=\"displayNone\" data-column-name=\"ptmgn5yr_us\">7.89</td><td class=\"displayNone\" data-column-name=\"ttmnpmgn_us\">10.63</td><td class=\"displayNone\" data-column-name=\"margin5yr_us\">5.61</td><td class=\"displayNone\" data-column-name=\"qquickrati_us\">0.95</td><td class=\"displayNone\" data-column-name=\"qcurratio_us\">1.48</td><td class=\"displayNone\" data-column-name=\"qltd2eq_us\">16.43</td><td class=\"displayNone\" data-column-name=\"qtotd2eq_us\">23.30</td><td class=\"displayNone\" data-column-name=\"yld5yavg_us\">6.11</td><td class=\"displayNone\" data-column-name=\"divgrpct_us\">4.40</td><td class=\"displayNone\" data-column-name=\"ttmpayrat_us\">41.49</td><td class=\"displayNone\" data-column-name=\"ADX\">27.59</td><td class=\"displayNone\" data-column-name=\"ATR\">1.68</td><td class=\"displayNone\" data-column-name=\"BullBear\">4.22</td><td class=\"displayNone\" data-column-name=\"CCI\">195.14</td><td class=\"displayNone\" data-column-name=\"HL\">2.56</td><td class=\"displayNone\" data-column-name=\"ROC\">4.49</td><td class=\"displayNone\" data-column-name=\"RSI\">66.79</td><td class=\"displayNone\" data-column-name=\"STOCH\">64.01</td><td class=\"displayNone\" data-column-name=\"STOCHRSI\">100.00</td><td class=\"displayNone\" data-column-name=\"UO\">56.86</td><td class=\"displayNone\" data-column-name=\"WilliamsR\">0.00</td> <td></td>\n",
      "</tr><tr>\n",
      "<td class=\"flag\"><span class=\"ceFlags USA\"></span></td>\n",
      "<td class=\"symbol left bold elp\" data-column-name=\"name_trans\"><a href=\"/equities/asml-holding?cid=15470\" target=\"_blank\" title=\"ASML Holding NV\">ASML Holding</a></td>\n",
      "<td class=\"left\" data-column-name=\"viewData.symbol\">ASMLF</td>\n",
      "<td class=\"left displayNone\" data-column-name=\"exchange_trans\">OTC Markets</td><td class=\"left displayNone\" data-column-name=\"sector_trans\">Technology</td><td class=\"left displayNone\" data-column-name=\"industry_trans\">Semiconductors &amp; Semiconductor Equipment</td><td data-column-name=\"last\">995</td><td data-column-name=\"pair_change_percent\">-4.58%</td><td data-column-name=\"eq_market_cap\">397.20B</td><td data-column-name=\"turnover_volume\">863.00</td><td class=\"displayNone\" data-column-name=\"eq_pe_ratio\">46.72</td><td class=\"displayNone\" data-column-name=\"MACD\">45.30</td><td class=\"displayNone\" data-column-name=\"eq_revenue\">27.56B</td><td class=\"displayNone\" data-column-name=\"avg_volume\">1.03K</td><td class=\"displayNone\" data-column-name=\"eq_eps\">19.91</td><td class=\"displayNone\" data-column-name=\"eq_beta\">1.12</td><td class=\"displayNone\" data-column-name=\"eq_dividend\">0.90</td><td class=\"displayNone\" data-column-name=\"eq_yield\">-</td><td class=\"left displayNone\" data-column-name=\"tech_sum_900\">Strong Sell</td><td class=\"left displayNone\" data-column-name=\"tech_sum_3600\">Sell</td><td class=\"left displayNone\" data-column-name=\"tech_sum_86400\">Strong Buy</td><td class=\"left displayNone\" data-column-name=\"tech_sum_week\">Strong Buy</td><td class=\"left displayNone\" data-column-name=\"tech_sum_month\">Strong Buy</td><td class=\"displayNone\" data-column-name=\"daily\">-4.58</td><td class=\"displayNone\" data-column-name=\"week\">1.27</td><td class=\"displayNone\" data-column-name=\"month\">5.94</td><td class=\"displayNone\" data-column-name=\"ytd\">32.16</td><td class=\"displayNone\" data-column-name=\"year\">65.78</td><td class=\"displayNone\" data-column-name=\"3year\">86.05</td><td class=\"displayNone\" data-column-name=\"eq_one_year_return\">63.92</td><td class=\"displayNone\" data-column-name=\"yield_us\">0.9%</td><td class=\"displayNone\" data-column-name=\"peexclxor_us\">45.76</td><td class=\"displayNone\" data-column-name=\"ttmpr2rev_us\">7.17</td><td class=\"displayNone\" data-column-name=\"aprfcfps_us\">42.08</td><td class=\"displayNone\" data-column-name=\"ttmprfcfps_us\">42.08</td><td class=\"displayNone\" data-column-name=\"price2bk_us\">6.00</td><td class=\"displayNone\" data-column-name=\"pr2tanbk_us\">13.57</td><td class=\"displayNone\" data-column-name=\"epschngyr_us\">35.07</td><td class=\"displayNone\" data-column-name=\"ttmepschg_us\">3.42</td><td class=\"displayNone\" data-column-name=\"epstrendgr_us\">16.54</td><td class=\"displayNone\" data-column-name=\"revchngyr_us\">18.66</td><td class=\"displayNone\" data-column-name=\"ttmrevchg_us\">8.00</td><td class=\"displayNone\" data-column-name=\"revtrendgr_us\">15.85</td><td class=\"displayNone\" data-column-name=\"csptrendgr_us\">9.26</td><td class=\"displayNone\" data-column-name=\"ttmastturn_us\">0.53</td><td class=\"displayNone\" data-column-name=\"ttminvturn_us\">1.95</td><td class=\"displayNone\" data-column-name=\"ttmrevpere_us\">546.00</td><td class=\"displayNone\" data-column-name=\"ttmniperem_us\">125.69</td><td class=\"displayNone\" data-column-name=\"ttmrecturn_us\">6.07</td><td class=\"displayNone\" data-column-name=\"a52_week_high\">1055</td><td class=\"displayNone\" data-column-name=\"a52_week_low\">560</td><td class=\"displayNone\" data-column-name=\"a52_week_high_diff\">-5.69</td><td class=\"displayNone\" data-column-name=\"a52_week_low_diff\">77.68</td><td class=\"displayNone\" data-column-name=\"month_change\">7.98%</td><td class=\"displayNone\" data-column-name=\"ttmgrosmgn_us\">43.11</td><td class=\"displayNone\" data-column-name=\"grosmgn5yr_us\">43.10</td><td class=\"displayNone\" data-column-name=\"ttmopmgn_us\">26.35</td><td class=\"displayNone\" data-column-name=\"opmgn5yr_us\">27.69</td><td class=\"displayNone\" data-column-name=\"ttmptmgn_us\">26.09</td><td class=\"displayNone\" data-column-name=\"ptmgn5yr_us\">27.61</td><td class=\"displayNone\" data-column-name=\"ttmnpmgn_us\">23.02</td><td class=\"displayNone\" data-column-name=\"margin5yr_us\">24.12</td><td class=\"displayNone\" data-column-name=\"qquickrati_us\">1.84</td><td class=\"displayNone\" data-column-name=\"qcurratio_us\">2.75</td><td class=\"displayNone\" data-column-name=\"qltd2eq_us\">23.38</td><td class=\"displayNone\" data-column-name=\"qtotd2eq_us\">23.38</td><td class=\"displayNone\" data-column-name=\"yld5yavg_us\">1.03</td><td class=\"displayNone\" data-column-name=\"divgrpct_us\">-</td><td class=\"displayNone\" data-column-name=\"ttmpayrat_us\">29.76</td><td class=\"displayNone\" data-column-name=\"ADX\">22.25</td><td class=\"displayNone\" data-column-name=\"ATR\">42.50</td><td class=\"displayNone\" data-column-name=\"BullBear\">99.17</td><td class=\"displayNone\" data-column-name=\"CCI\">120.35</td><td class=\"displayNone\" data-column-name=\"HL\">10.58</td><td class=\"displayNone\" data-column-name=\"ROC\">7.07</td><td class=\"displayNone\" data-column-name=\"RSI\">62.41</td><td class=\"displayNone\" data-column-name=\"STOCH\">62.14</td><td class=\"displayNone\" data-column-name=\"STOCHRSI\">22.39</td><td class=\"displayNone\" data-column-name=\"UO\">46.39</td><td class=\"displayNone\" data-column-name=\"WilliamsR\">-35.93</td> <td></td>\n",
      "</tr><tr>\n",
      "<td class=\"flag\"><span class=\"ceFlags USA\"></span></td>\n",
      "<td class=\"symbol left bold elp\" data-column-name=\"name_trans\"><a href=\"/equities/asml-holdings\" target=\"_blank\" title=\"ASML Holding NV ADR\">ASML  ADR</a></td>\n",
      "<td class=\"left\" data-column-name=\"viewData.symbol\">ASML</td>\n",
      "<td class=\"left displayNone\" data-column-name=\"exchange_trans\">NASDAQ</td><td class=\"left displayNone\" data-column-name=\"sector_trans\">Technology</td><td class=\"left displayNone\" data-column-name=\"industry_trans\">Semiconductors &amp; Semiconductor Equipment</td><td data-column-name=\"last\">994.33</td><td data-column-name=\"pair_change_percent\">-5.07%</td><td data-column-name=\"eq_market_cap\">397.20B</td><td data-column-name=\"turnover_volume\">1.60M</td><td class=\"displayNone\" data-column-name=\"eq_pe_ratio\">46.72</td><td class=\"displayNone\" data-column-name=\"MACD\">44.69</td><td class=\"displayNone\" data-column-name=\"eq_revenue\">27.56B</td><td class=\"displayNone\" data-column-name=\"avg_volume\">1.20M</td><td class=\"displayNone\" data-column-name=\"eq_eps\">19.91</td><td class=\"displayNone\" data-column-name=\"eq_beta\">1.12</td><td class=\"displayNone\" data-column-name=\"eq_dividend\">5.59</td><td class=\"displayNone\" data-column-name=\"eq_yield\">-</td><td class=\"left displayNone\" data-column-name=\"tech_sum_900\">Strong Sell</td><td class=\"left displayNone\" data-column-name=\"tech_sum_3600\">Sell</td><td class=\"left displayNone\" data-column-name=\"tech_sum_86400\">Strong Buy</td><td class=\"left displayNone\" data-column-name=\"tech_sum_week\">Strong Buy</td><td class=\"left displayNone\" data-column-name=\"tech_sum_month\">Strong Buy</td><td class=\"displayNone\" data-column-name=\"daily\">-5.07</td><td class=\"displayNone\" data-column-name=\"week\">0.34</td><td class=\"displayNone\" data-column-name=\"month\">4.71</td><td class=\"displayNone\" data-column-name=\"ytd\">31.37</td><td class=\"displayNone\" data-column-name=\"year\">65.39</td><td class=\"displayNone\" data-column-name=\"3year\">90.00</td><td class=\"displayNone\" data-column-name=\"eq_one_year_return\">64.42</td><td class=\"displayNone\" data-column-name=\"yield_us\">0.56%</td><td class=\"displayNone\" data-column-name=\"peexclxor_us\">46.32</td><td class=\"displayNone\" data-column-name=\"ttmpr2rev_us\">13.18</td><td class=\"displayNone\" data-column-name=\"aprfcfps_us\">66.71</td><td class=\"displayNone\" data-column-name=\"ttmprfcfps_us\">110.45</td><td class=\"displayNone\" data-column-name=\"price2bk_us\">26.99</td><td class=\"displayNone\" data-column-name=\"pr2tanbk_us\">45.89</td><td class=\"displayNone\" data-column-name=\"epschngyr_us\">13.18</td><td class=\"displayNone\" data-column-name=\"ttmepschg_us\">40.76</td><td class=\"displayNone\" data-column-name=\"epstrendgr_us\">26.69</td><td class=\"displayNone\" data-column-name=\"revchngyr_us\">12.55</td><td class=\"displayNone\" data-column-name=\"ttmrevchg_us\">30.16</td><td class=\"displayNone\" data-column-name=\"revtrendgr_us\">20.29</td><td class=\"displayNone\" data-column-name=\"csptrendgr_us\">30.30</td><td class=\"displayNone\" data-column-name=\"ttmastturn_us\">0.72</td><td class=\"displayNone\" data-column-name=\"ttminvturn_us\">1.67</td><td class=\"displayNone\" data-column-name=\"ttmrevpere_us\">683.68</td><td class=\"displayNone\" data-column-name=\"ttmniperem_us\">194.47</td><td class=\"displayNone\" data-column-name=\"ttmrecturn_us\">5.04</td><td class=\"displayNone\" data-column-name=\"a52_week_high\">1056.34</td><td class=\"displayNone\" data-column-name=\"a52_week_low\">563.99</td><td class=\"displayNone\" data-column-name=\"a52_week_high_diff\">-5.87</td><td class=\"displayNone\" data-column-name=\"a52_week_low_diff\">76.30</td><td class=\"displayNone\" data-column-name=\"month_change\">9.41%</td><td class=\"displayNone\" data-column-name=\"ttmgrosmgn_us\">51.29</td><td class=\"displayNone\" data-column-name=\"grosmgn5yr_us\">49.03</td><td class=\"displayNone\" data-column-name=\"ttmopmgn_us\">32.81</td><td class=\"displayNone\" data-column-name=\"opmgn5yr_us\">29.62</td><td class=\"displayNone\" data-column-name=\"ttmptmgn_us\">33.65</td><td class=\"displayNone\" data-column-name=\"ptmgn5yr_us\">30.29</td><td class=\"displayNone\" data-column-name=\"ttmnpmgn_us\">28.44</td><td class=\"displayNone\" data-column-name=\"margin5yr_us\">26.35</td><td class=\"displayNone\" data-column-name=\"qquickrati_us\">0.80</td><td class=\"displayNone\" data-column-name=\"qcurratio_us\">1.50</td><td class=\"displayNone\" data-column-name=\"qltd2eq_us\">34.89</td><td class=\"displayNone\" data-column-name=\"qtotd2eq_us\">37.09</td><td class=\"displayNone\" data-column-name=\"yld5yavg_us\">1.03</td><td class=\"displayNone\" data-column-name=\"divgrpct_us\">-1.48</td><td class=\"displayNone\" data-column-name=\"ttmpayrat_us\">29.96</td><td class=\"displayNone\" data-column-name=\"ADX\">18.97</td><td class=\"displayNone\" data-column-name=\"ATR\">30.46</td><td class=\"displayNone\" data-column-name=\"BullBear\">81.78</td><td class=\"displayNone\" data-column-name=\"CCI\">113.11</td><td class=\"displayNone\" data-column-name=\"HL\">20.15</td><td class=\"displayNone\" data-column-name=\"ROC\">7.09</td><td class=\"displayNone\" data-column-name=\"RSI\">61.03</td><td class=\"displayNone\" data-column-name=\"STOCH\">58.84</td><td class=\"displayNone\" data-column-name=\"STOCHRSI\">0.00</td><td class=\"displayNone\" data-column-name=\"UO\">58.47</td><td class=\"displayNone\" data-column-name=\"WilliamsR\">-37.60</td> <td></td>\n",
      "</tr><tr>\n",
      "<td class=\"flag\"><span class=\"ceFlags USA\"></span></td>\n",
      "<td class=\"symbol left bold elp\" data-column-name=\"name_trans\"><a href=\"/equities/johnson-johnson\" target=\"_blank\" title=\"Johnson &amp; Johnson\">J&amp;J</a></td>\n",
      "<td class=\"left\" data-column-name=\"viewData.symbol\">JNJ</td>\n",
      "<td class=\"left displayNone\" data-column-name=\"exchange_trans\">NYSE</td><td class=\"left displayNone\" data-column-name=\"sector_trans\">Healthcare</td><td class=\"left displayNone\" data-column-name=\"industry_trans\">Pharmaceuticals</td><td data-column-name=\"last\">159.53</td><td data-column-name=\"pair_change_percent\">0.42%</td><td data-column-name=\"eq_market_cap\">384.25B</td><td data-column-name=\"turnover_volume\">4.86M</td><td class=\"displayNone\" data-column-name=\"eq_pe_ratio\">11.50</td><td class=\"displayNone\" data-column-name=\"MACD\">0.22</td><td class=\"displayNone\" data-column-name=\"eq_revenue\">85.16B</td><td class=\"displayNone\" data-column-name=\"avg_volume\">6.94M</td><td class=\"displayNone\" data-column-name=\"eq_eps\">13.88</td><td class=\"displayNone\" data-column-name=\"eq_beta\">0.53</td><td class=\"displayNone\" data-column-name=\"eq_dividend\">4.76</td><td class=\"displayNone\" data-column-name=\"eq_yield\">-</td><td class=\"left displayNone\" data-column-name=\"tech_sum_900\">Strong Sell</td><td class=\"left displayNone\" data-column-name=\"tech_sum_3600\">Neutral</td><td class=\"left displayNone\" data-column-name=\"tech_sum_86400\">Neutral</td><td class=\"left displayNone\" data-column-name=\"tech_sum_week\">Neutral</td><td class=\"left displayNone\" data-column-name=\"tech_sum_month\">Neutral</td><td class=\"displayNone\" data-column-name=\"daily\">0.42</td><td class=\"displayNone\" data-column-name=\"week\">-1.60</td><td class=\"displayNone\" data-column-name=\"month\">1.77</td><td class=\"displayNone\" data-column-name=\"ytd\">1.78</td><td class=\"displayNone\" data-column-name=\"year\">5.22</td><td class=\"displayNone\" data-column-name=\"3year\">0.24</td><td class=\"displayNone\" data-column-name=\"eq_one_year_return\">5.48</td><td class=\"displayNone\" data-column-name=\"yield_us\">2.98%</td><td class=\"displayNone\" data-column-name=\"peexclxor_us\">28.84</td><td class=\"displayNone\" data-column-name=\"ttmpr2rev_us\">4.51</td><td class=\"displayNone\" data-column-name=\"aprfcfps_us\">16.86</td><td class=\"displayNone\" data-column-name=\"ttmprfcfps_us\">21.61</td><td class=\"displayNone\" data-column-name=\"price2bk_us\">5.59</td><td class=\"displayNone\" data-column-name=\"pr2tanbk_us\">-195.33</td><td class=\"displayNone\" data-column-name=\"epschngyr_us\">0.00</td><td class=\"displayNone\" data-column-name=\"ttmepschg_us\">103.03</td><td class=\"displayNone\" data-column-name=\"epstrendgr_us\">19.45</td><td class=\"displayNone\" data-column-name=\"revchngyr_us\">0.00</td><td class=\"displayNone\" data-column-name=\"ttmrevchg_us\">6.46</td><td class=\"displayNone\" data-column-name=\"revtrendgr_us\">0.86</td><td class=\"displayNone\" data-column-name=\"csptrendgr_us\">6.44</td><td class=\"displayNone\" data-column-name=\"ttmastturn_us\">0.48</td><td class=\"displayNone\" data-column-name=\"ttminvturn_us\">2.45</td><td class=\"displayNone\" data-column-name=\"ttmrevpere_us\">661.79</td><td class=\"displayNone\" data-column-name=\"ttmniperem_us\">147.34</td><td class=\"displayNone\" data-column-name=\"ttmrecturn_us\">5.77</td><td class=\"displayNone\" data-column-name=\"a52_week_high\">175.97</td><td class=\"displayNone\" data-column-name=\"a52_week_low\">144.95</td><td class=\"displayNone\" data-column-name=\"a52_week_high_diff\">-9.34</td><td class=\"displayNone\" data-column-name=\"a52_week_low_diff\">10.06</td><td class=\"displayNone\" data-column-name=\"month_change\">1.56%</td><td class=\"displayNone\" data-column-name=\"ttmgrosmgn_us\">69.18</td><td class=\"displayNone\" data-column-name=\"grosmgn5yr_us\">67.33</td><td class=\"displayNone\" data-column-name=\"ttmopmgn_us\">27.79</td><td class=\"displayNone\" data-column-name=\"opmgn5yr_us\">26.29</td><td class=\"displayNone\" data-column-name=\"ttmptmgn_us\">17.69</td><td class=\"displayNone\" data-column-name=\"ptmgn5yr_us\">21.02</td><td class=\"displayNone\" data-column-name=\"ttmnpmgn_us\">41.28</td><td class=\"displayNone\" data-column-name=\"margin5yr_us\">21.30</td><td class=\"displayNone\" data-column-name=\"qquickrati_us\">0.82</td><td class=\"displayNone\" data-column-name=\"qcurratio_us\">1.16</td><td class=\"displayNone\" data-column-name=\"qltd2eq_us\">37.63</td><td class=\"displayNone\" data-column-name=\"qtotd2eq_us\">44.25</td><td class=\"displayNone\" data-column-name=\"yld5yavg_us\">2.91</td><td class=\"displayNone\" data-column-name=\"divgrpct_us\">5.31</td><td class=\"displayNone\" data-column-name=\"ttmpayrat_us\">33.48</td><td class=\"displayNone\" data-column-name=\"ADX\">25.30</td><td class=\"displayNone\" data-column-name=\"ATR\">1.95</td><td class=\"displayNone\" data-column-name=\"BullBear\">-0.50</td><td class=\"displayNone\" data-column-name=\"CCI\">-29.14</td><td class=\"displayNone\" data-column-name=\"HL\">0.00</td><td class=\"displayNone\" data-column-name=\"ROC\">1.90</td><td class=\"displayNone\" data-column-name=\"RSI\">50.66</td><td class=\"displayNone\" data-column-name=\"STOCH\">42.97</td><td class=\"displayNone\" data-column-name=\"STOCHRSI\">19.31</td><td class=\"displayNone\" data-column-name=\"UO\">46.28</td><td class=\"displayNone\" data-column-name=\"WilliamsR\">-49.76</td> <td></td>\n",
      "</tr><tr>\n",
      "<td class=\"flag\"><span class=\"ceFlags USA\"></span></td>\n",
      "<td class=\"symbol left bold elp\" data-column-name=\"name_trans\"><a href=\"/equities/procter-gamble\" target=\"_blank\" title=\"Procter &amp; Gamble Company\">Procter&amp;Gamble</a></td>\n",
      "<td class=\"left\" data-column-name=\"viewData.symbol\">PG</td>\n",
      "<td class=\"left displayNone\" data-column-name=\"exchange_trans\">NYSE</td><td class=\"left displayNone\" data-column-name=\"sector_trans\">Consumer Non-Cyclicals</td><td class=\"left displayNone\" data-column-name=\"industry_trans\">Personal &amp; Household Products &amp; Services</td><td data-column-name=\"last\">160.32</td><td data-column-name=\"pair_change_percent\">-0.19%</td><td data-column-name=\"eq_market_cap\">377.31B</td><td data-column-name=\"turnover_volume\">4.22M</td><td class=\"displayNone\" data-column-name=\"eq_pe_ratio\">26.20</td><td class=\"displayNone\" data-column-name=\"MACD\">1.54</td><td class=\"displayNone\" data-column-name=\"eq_revenue\">83.93B</td><td class=\"displayNone\" data-column-name=\"avg_volume\">6.89M</td><td class=\"displayNone\" data-column-name=\"eq_eps\">6.14</td><td class=\"displayNone\" data-column-name=\"eq_beta\">0.44</td><td class=\"displayNone\" data-column-name=\"eq_dividend\">3.76</td><td class=\"displayNone\" data-column-name=\"eq_yield\">-</td><td class=\"left displayNone\" data-column-name=\"tech_sum_900\">Strong Sell</td><td class=\"left displayNone\" data-column-name=\"tech_sum_3600\">Strong Buy</td><td class=\"left displayNone\" data-column-name=\"tech_sum_86400\">Strong Buy</td><td class=\"left displayNone\" data-column-name=\"tech_sum_week\">Strong Buy</td><td class=\"left displayNone\" data-column-name=\"tech_sum_month\">Strong Buy</td><td class=\"displayNone\" data-column-name=\"daily\">-0.19</td><td class=\"displayNone\" data-column-name=\"week\">0.93</td><td class=\"displayNone\" data-column-name=\"month\">1.84</td><td class=\"displayNone\" data-column-name=\"ytd\">9.40</td><td class=\"displayNone\" data-column-name=\"year\">16.86</td><td class=\"displayNone\" data-column-name=\"3year\">25.90</td><td class=\"displayNone\" data-column-name=\"eq_one_year_return\">17.39</td><td class=\"displayNone\" data-column-name=\"yield_us\">2.35%</td><td class=\"displayNone\" data-column-name=\"peexclxor_us\">26.11</td><td class=\"displayNone\" data-column-name=\"ttmpr2rev_us\">4.51</td><td class=\"displayNone\" data-column-name=\"aprfcfps_us\">23.50</td><td class=\"displayNone\" data-column-name=\"ttmprfcfps_us\">23.64</td><td class=\"displayNone\" data-column-name=\"price2bk_us\">7.93</td><td class=\"displayNone\" data-column-name=\"pr2tanbk_us\">-24.39</td><td class=\"displayNone\" data-column-name=\"epschngyr_us\">-11.74</td><td class=\"displayNone\" data-column-name=\"ttmepschg_us\">4.73</td><td class=\"displayNone\" data-column-name=\"epstrendgr_us\">10.10</td><td class=\"displayNone\" data-column-name=\"revchngyr_us\">3.22</td><td class=\"displayNone\" data-column-name=\"ttmrevchg_us\">4.55</td><td class=\"displayNone\" data-column-name=\"revtrendgr_us\">4.18</td><td class=\"displayNone\" data-column-name=\"csptrendgr_us\">-3.80</td><td class=\"displayNone\" data-column-name=\"ttmastturn_us\">0.70</td><td class=\"displayNone\" data-column-name=\"ttminvturn_us\">5.65</td><td class=\"displayNone\" data-column-name=\"ttmrevpere_us\">784.42</td><td class=\"displayNone\" data-column-name=\"ttmniperem_us\">138.92</td><td class=\"displayNone\" data-column-name=\"ttmrecturn_us\">13.67</td><td class=\"displayNone\" data-column-name=\"a52_week_high\">161.74</td><td class=\"displayNone\" data-column-name=\"a52_week_low\">137.04</td><td class=\"displayNone\" data-column-name=\"a52_week_high_diff\">-0.88</td><td class=\"displayNone\" data-column-name=\"a52_week_low_diff\">16.99</td><td class=\"displayNone\" data-column-name=\"month_change\">1.15%</td><td class=\"displayNone\" data-column-name=\"ttmgrosmgn_us\">50.55</td><td class=\"displayNone\" data-column-name=\"grosmgn5yr_us\">49.58</td><td class=\"displayNone\" data-column-name=\"ttmopmgn_us\">24.90</td><td class=\"displayNone\" data-column-name=\"opmgn5yr_us\">23.46</td><td class=\"displayNone\" data-column-name=\"ttmptmgn_us\">22.42</td><td class=\"displayNone\" data-column-name=\"ptmgn5yr_us\">19.91</td><td class=\"displayNone\" data-column-name=\"ttmnpmgn_us\">17.60</td><td class=\"displayNone\" data-column-name=\"margin5yr_us\">15.95</td><td class=\"displayNone\" data-column-name=\"qquickrati_us\">0.40</td><td class=\"displayNone\" data-column-name=\"qcurratio_us\">0.64</td><td class=\"displayNone\" data-column-name=\"qltd2eq_us\">48.39</td><td class=\"displayNone\" data-column-name=\"qtotd2eq_us\">70.64</td><td class=\"displayNone\" data-column-name=\"yld5yavg_us\">2.67</td><td class=\"displayNone\" data-column-name=\"divgrpct_us\">3.00</td><td class=\"displayNone\" data-column-name=\"ttmpayrat_us\">61.55</td><td class=\"displayNone\" data-column-name=\"ADX\">29.15</td><td class=\"displayNone\" data-column-name=\"ATR\">1.72</td><td class=\"displayNone\" data-column-name=\"BullBear\">0.50</td><td class=\"displayNone\" data-column-name=\"CCI\">58.68</td><td class=\"displayNone\" data-column-name=\"HL\">0.00</td><td class=\"displayNone\" data-column-name=\"ROC\">1.78</td><td class=\"displayNone\" data-column-name=\"RSI\">61.31</td><td class=\"displayNone\" data-column-name=\"STOCH\">53.95</td><td class=\"displayNone\" data-column-name=\"STOCHRSI\">34.82</td><td class=\"displayNone\" data-column-name=\"UO\">66.14</td><td class=\"displayNone\" data-column-name=\"WilliamsR\">-34.38</td> <td></td>\n",
      "</tr><tr>\n",
      "<td class=\"flag\"><span class=\"ceFlags USA\"></span></td>\n",
      "<td class=\"symbol left bold elp\" data-column-name=\"name_trans\"><a href=\"/equities/home-depot\" target=\"_blank\" title=\"Home Depot Inc\">Home Depot</a></td>\n",
      "<td class=\"left\" data-column-name=\"viewData.symbol\">HD</td>\n",
      "<td class=\"left displayNone\" data-column-name=\"exchange_trans\">NYSE</td><td class=\"left displayNone\" data-column-name=\"sector_trans\">Consumer Cyclicals</td><td class=\"left displayNone\" data-column-name=\"industry_trans\">Specialty Retailers</td><td data-column-name=\"last\">373.32</td><td data-column-name=\"pair_change_percent\">-0.86%</td><td data-column-name=\"eq_market_cap\">371.58B</td><td data-column-name=\"turnover_volume\">2.09M</td><td class=\"displayNone\" data-column-name=\"eq_pe_ratio\">24.65</td><td class=\"displayNone\" data-column-name=\"MACD\">5.57</td><td class=\"displayNone\" data-column-name=\"eq_revenue\">152.67B</td><td class=\"displayNone\" data-column-name=\"avg_volume\">3.36M</td><td class=\"displayNone\" data-column-name=\"eq_eps\">15.16</td><td class=\"displayNone\" data-column-name=\"eq_beta\">0.98</td><td class=\"displayNone\" data-column-name=\"eq_dividend\">9.00</td><td class=\"displayNone\" data-column-name=\"eq_yield\">-</td><td class=\"left displayNone\" data-column-name=\"tech_sum_900\">Strong Sell</td><td class=\"left displayNone\" data-column-name=\"tech_sum_3600\">Strong Sell</td><td class=\"left displayNone\" data-column-name=\"tech_sum_86400\">Buy</td><td class=\"left displayNone\" data-column-name=\"tech_sum_week\">Strong Buy</td><td class=\"left displayNone\" data-column-name=\"tech_sum_month\">Strong Buy</td><td class=\"displayNone\" data-column-name=\"daily\">-0.86</td><td class=\"displayNone\" data-column-name=\"week\">-2.90</td><td class=\"displayNone\" data-column-name=\"month\">2.80</td><td class=\"displayNone\" data-column-name=\"ytd\">7.72</td><td class=\"displayNone\" data-column-name=\"year\">30.39</td><td class=\"displayNone\" data-column-name=\"3year\">40.22</td><td class=\"displayNone\" data-column-name=\"eq_one_year_return\">29.63</td><td class=\"displayNone\" data-column-name=\"yield_us\">2.41%</td><td class=\"displayNone\" data-column-name=\"peexclxor_us\">-</td><td class=\"displayNone\" data-column-name=\"ttmpr2rev_us\">-</td><td class=\"displayNone\" data-column-name=\"aprfcfps_us\">-</td><td class=\"displayNone\" data-column-name=\"ttmprfcfps_us\">-</td><td class=\"displayNone\" data-column-name=\"price2bk_us\">-</td><td class=\"displayNone\" data-column-name=\"pr2tanbk_us\">-</td><td class=\"displayNone\" data-column-name=\"epschngyr_us\">-</td><td class=\"displayNone\" data-column-name=\"ttmepschg_us\">-</td><td class=\"displayNone\" data-column-name=\"epstrendgr_us\">-</td><td class=\"displayNone\" data-column-name=\"revchngyr_us\">-</td><td class=\"displayNone\" data-column-name=\"ttmrevchg_us\">-</td><td class=\"displayNone\" data-column-name=\"revtrendgr_us\">-</td><td class=\"displayNone\" data-column-name=\"csptrendgr_us\">-</td><td class=\"displayNone\" data-column-name=\"ttmastturn_us\">-</td><td class=\"displayNone\" data-column-name=\"ttminvturn_us\">-</td><td class=\"displayNone\" data-column-name=\"ttmrevpere_us\">-</td><td class=\"displayNone\" data-column-name=\"ttmniperem_us\">-</td><td class=\"displayNone\" data-column-name=\"ttmrecturn_us\">-</td><td class=\"displayNone\" data-column-name=\"a52_week_high\">385.1</td><td class=\"displayNone\" data-column-name=\"a52_week_low\">274.26</td><td class=\"displayNone\" data-column-name=\"a52_week_high_diff\">-3.06</td><td class=\"displayNone\" data-column-name=\"a52_week_low_diff\">36.12</td><td class=\"displayNone\" data-column-name=\"month_change\">7.83%</td><td class=\"displayNone\" data-column-name=\"ttmgrosmgn_us\">-</td><td class=\"displayNone\" data-column-name=\"grosmgn5yr_us\">-</td><td class=\"displayNone\" data-column-name=\"ttmopmgn_us\">-</td><td class=\"displayNone\" data-column-name=\"opmgn5yr_us\">-</td><td class=\"displayNone\" data-column-name=\"ttmptmgn_us\">-</td><td class=\"displayNone\" data-column-name=\"ptmgn5yr_us\">-</td><td class=\"displayNone\" data-column-name=\"ttmnpmgn_us\">-</td><td class=\"displayNone\" data-column-name=\"margin5yr_us\">-</td><td class=\"displayNone\" data-column-name=\"qquickrati_us\">-</td><td class=\"displayNone\" data-column-name=\"qcurratio_us\">-</td><td class=\"displayNone\" data-column-name=\"qltd2eq_us\">-</td><td class=\"displayNone\" data-column-name=\"qtotd2eq_us\">-</td><td class=\"displayNone\" data-column-name=\"yld5yavg_us\">-</td><td class=\"displayNone\" data-column-name=\"divgrpct_us\">-</td><td class=\"displayNone\" data-column-name=\"ttmpayrat_us\">-</td><td class=\"displayNone\" data-column-name=\"ADX\">32.20</td><td class=\"displayNone\" data-column-name=\"ATR\">5.34</td><td class=\"displayNone\" data-column-name=\"BullBear\">-0.25</td><td class=\"displayNone\" data-column-name=\"CCI\">5.45</td><td class=\"displayNone\" data-column-name=\"HL\">0.00</td><td class=\"displayNone\" data-column-name=\"ROC\">3.06</td><td class=\"displayNone\" data-column-name=\"RSI\">56.95</td><td class=\"displayNone\" data-column-name=\"STOCH\">58.62</td><td class=\"displayNone\" data-column-name=\"STOCHRSI\">0.00</td><td class=\"displayNone\" data-column-name=\"UO\">49.56</td><td class=\"displayNone\" data-column-name=\"WilliamsR\">-38.20</td> <td></td>\n",
      "</tr><tr>\n",
      "<td class=\"flag\"><span class=\"ceFlags USA\"></span></td>\n",
      "<td class=\"symbol left bold elp\" data-column-name=\"name_trans\"><a href=\"/equities/samsung-electronics-co-ltd?cid=104387\" target=\"_blank\" title=\"Samsung Electronics Co Ltd\">Samsung Electronics Co</a></td>\n",
      "<td class=\"left\" data-column-name=\"viewData.symbol\">SSNLF</td>\n",
      "<td class=\"left displayNone\" data-column-name=\"exchange_trans\">OTC Markets</td><td class=\"left displayNone\" data-column-name=\"sector_trans\">Technology</td><td class=\"left displayNone\" data-column-name=\"industry_trans\">Computers, Phones &amp; Household Electronics</td><td data-column-name=\"last\">40.6</td><td data-column-name=\"pair_change_percent\">0%</td><td data-column-name=\"eq_market_cap\">371.48B</td><td data-column-name=\"turnover_volume\">0.00</td><td class=\"displayNone\" data-column-name=\"eq_pe_ratio\">-</td><td class=\"displayNone\" data-column-name=\"MACD\">-</td><td class=\"displayNone\" data-column-name=\"eq_revenue\">258.94T</td><td class=\"displayNone\" data-column-name=\"avg_volume\">1.00</td><td class=\"displayNone\" data-column-name=\"eq_eps\">2.13K</td><td class=\"displayNone\" data-column-name=\"eq_beta\">-</td><td class=\"displayNone\" data-column-name=\"eq_dividend\">-</td><td class=\"displayNone\" data-column-name=\"eq_yield\">-</td><td class=\"left displayNone\" data-column-name=\"tech_sum_900\">-</td><td class=\"left displayNone\" data-column-name=\"tech_sum_3600\">-</td><td class=\"left displayNone\" data-column-name=\"tech_sum_86400\">-</td><td class=\"left displayNone\" data-column-name=\"tech_sum_week\">-</td><td class=\"left displayNone\" data-column-name=\"tech_sum_month\">-</td><td class=\"displayNone\" data-column-name=\"daily\">0.00</td><td class=\"displayNone\" data-column-name=\"week\">0.00</td><td class=\"displayNone\" data-column-name=\"month\">0.00</td><td class=\"displayNone\" data-column-name=\"ytd\">0.00</td><td class=\"displayNone\" data-column-name=\"year\">0.00</td><td class=\"displayNone\" data-column-name=\"3year\">-8.14</td><td class=\"displayNone\" data-column-name=\"eq_one_year_return\">0.00</td><td class=\"displayNone\" data-column-name=\"yield_us\">-</td><td class=\"displayNone\" data-column-name=\"peexclxor_us\">-</td><td class=\"displayNone\" data-column-name=\"ttmpr2rev_us\">1.30</td><td class=\"displayNone\" data-column-name=\"aprfcfps_us\">11.61</td><td class=\"displayNone\" data-column-name=\"ttmprfcfps_us\">14.19</td><td class=\"displayNone\" data-column-name=\"price2bk_us\">1.27</td><td class=\"displayNone\" data-column-name=\"pr2tanbk_us\">1.33</td><td class=\"displayNone\" data-column-name=\"epschngyr_us\">-55.99</td><td class=\"displayNone\" data-column-name=\"ttmepschg_us\">-17.04</td><td class=\"displayNone\" data-column-name=\"epstrendgr_us\">10.31</td><td class=\"displayNone\" data-column-name=\"revchngyr_us\">-13.50</td><td class=\"displayNone\" data-column-name=\"ttmrevchg_us\">-5.61</td><td class=\"displayNone\" data-column-name=\"revtrendgr_us\">1.29</td><td class=\"displayNone\" data-column-name=\"csptrendgr_us\">4.88</td><td class=\"displayNone\" data-column-name=\"ttmastturn_us\">0.72</td><td class=\"displayNone\" data-column-name=\"ttminvturn_us\">4.60</td><td class=\"displayNone\" data-column-name=\"ttmrevpere_us\">-</td><td class=\"displayNone\" data-column-name=\"ttmniperem_us\">-</td><td class=\"displayNone\" data-column-name=\"ttmrecturn_us\">6.54</td><td class=\"displayNone\" data-column-name=\"a52_week_high\">40.6</td><td class=\"displayNone\" data-column-name=\"a52_week_low\">40.6</td><td class=\"displayNone\" data-column-name=\"a52_week_high_diff\">0.00</td><td class=\"displayNone\" data-column-name=\"a52_week_low_diff\">0.00</td><td class=\"displayNone\" data-column-name=\"month_change\">-</td><td class=\"displayNone\" data-column-name=\"ttmgrosmgn_us\">43.45</td><td class=\"displayNone\" data-column-name=\"grosmgn5yr_us\">41.97</td><td class=\"displayNone\" data-column-name=\"ttmopmgn_us\">21.00</td><td class=\"displayNone\" data-column-name=\"opmgn5yr_us\">17.40</td><td class=\"displayNone\" data-column-name=\"ttmptmgn_us\">22.03</td><td class=\"displayNone\" data-column-name=\"ptmgn5yr_us\">18.49</td><td class=\"displayNone\" data-column-name=\"ttmnpmgn_us\">16.00</td><td class=\"displayNone\" data-column-name=\"margin5yr_us\">13.89</td><td class=\"displayNone\" data-column-name=\"qquickrati_us\">2.17</td><td class=\"displayNone\" data-column-name=\"qcurratio_us\">2.63</td><td class=\"displayNone\" data-column-name=\"qltd2eq_us\">1.15</td><td class=\"displayNone\" data-column-name=\"qtotd2eq_us\">5.38</td><td class=\"displayNone\" data-column-name=\"yld5yavg_us\">-</td><td class=\"displayNone\" data-column-name=\"divgrpct_us\">-</td><td class=\"displayNone\" data-column-name=\"ttmpayrat_us\">25.73</td><td class=\"displayNone\" data-column-name=\"ADX\">-</td><td class=\"displayNone\" data-column-name=\"ATR\">-</td><td class=\"displayNone\" data-column-name=\"BullBear\">-</td><td class=\"displayNone\" data-column-name=\"CCI\">-</td><td class=\"displayNone\" data-column-name=\"HL\">-</td><td class=\"displayNone\" data-column-name=\"ROC\">-</td><td class=\"displayNone\" data-column-name=\"RSI\">-</td><td class=\"displayNone\" data-column-name=\"STOCH\">-</td><td class=\"displayNone\" data-column-name=\"STOCHRSI\">-</td><td class=\"displayNone\" data-column-name=\"UO\">-</td><td class=\"displayNone\" data-column-name=\"WilliamsR\">-</td> <td></td>\n",
      "</tr><tr>\n",
      "<td class=\"flag\"><span class=\"ceFlags USA\"></span></td>\n",
      "<td class=\"symbol left bold elp\" data-column-name=\"name_trans\"><a href=\"/equities/adv-micro-device\" target=\"_blank\" title=\"Advanced Micro Devices Inc\">AMD</a></td>\n",
      "<td class=\"left\" data-column-name=\"viewData.symbol\">AMD</td>\n",
      "<td class=\"left displayNone\" data-column-name=\"exchange_trans\">NASDAQ</td><td class=\"left displayNone\" data-column-name=\"sector_trans\">Technology</td><td class=\"left displayNone\" data-column-name=\"industry_trans\">Semiconductors &amp; Semiconductor Equipment</td><td data-column-name=\"last\">207.39</td><td data-column-name=\"pair_change_percent\">-1.89%</td><td data-column-name=\"eq_market_cap\">335.10B</td><td data-column-name=\"turnover_volume\">119.14M</td><td class=\"displayNone\" data-column-name=\"eq_pe_ratio\">394.35</td><td class=\"displayNone\" data-column-name=\"MACD\">11.66</td><td class=\"displayNone\" data-column-name=\"eq_revenue\">22.68B</td><td class=\"displayNone\" data-column-name=\"avg_volume\">75.61M</td><td class=\"displayNone\" data-column-name=\"eq_eps\">0.53</td><td class=\"displayNone\" data-column-name=\"eq_beta\">1.63</td><td class=\"displayNone\" data-column-name=\"eq_dividend\">-</td><td class=\"displayNone\" data-column-name=\"eq_yield\">-</td><td class=\"left displayNone\" data-column-name=\"tech_sum_900\">Strong Sell</td><td class=\"left displayNone\" data-column-name=\"tech_sum_3600\">Sell</td><td class=\"left displayNone\" data-column-name=\"tech_sum_86400\">Strong Buy</td><td class=\"left displayNone\" data-column-name=\"tech_sum_week\">Strong Buy</td><td class=\"left displayNone\" data-column-name=\"tech_sum_month\">Strong Buy</td><td class=\"displayNone\" data-column-name=\"daily\">-1.89</td><td class=\"displayNone\" data-column-name=\"week\">2.34</td><td class=\"displayNone\" data-column-name=\"month\">20.24</td><td class=\"displayNone\" data-column-name=\"ytd\">40.69</td><td class=\"displayNone\" data-column-name=\"year\">150.86</td><td class=\"displayNone\" data-column-name=\"3year\">167.53</td><td class=\"displayNone\" data-column-name=\"eq_one_year_return\">146.80</td><td class=\"displayNone\" data-column-name=\"yield_us\">-</td><td class=\"displayNone\" data-column-name=\"peexclxor_us\">392.39</td><td class=\"displayNone\" data-column-name=\"ttmpr2rev_us\">14.78</td><td class=\"displayNone\" data-column-name=\"aprfcfps_us\">201.02</td><td class=\"displayNone\" data-column-name=\"ttmprfcfps_us\">298.93</td><td class=\"displayNone\" data-column-name=\"price2bk_us\">6.00</td><td class=\"displayNone\" data-column-name=\"pr2tanbk_us\">32.64</td><td class=\"displayNone\" data-column-name=\"epschngyr_us\">3.07K</td><td class=\"displayNone\" data-column-name=\"ttmepschg_us\">-37.43</td><td class=\"displayNone\" data-column-name=\"epstrendgr_us\">9.05</td><td class=\"displayNone\" data-column-name=\"revchngyr_us\">10.16</td><td class=\"displayNone\" data-column-name=\"ttmrevchg_us\">-3.90</td><td class=\"displayNone\" data-column-name=\"revtrendgr_us\">28.49</td><td class=\"displayNone\" data-column-name=\"csptrendgr_us\">27.35</td><td class=\"displayNone\" data-column-name=\"ttmastturn_us\">0.33</td><td class=\"displayNone\" data-column-name=\"ttminvturn_us\">2.78</td><td class=\"displayNone\" data-column-name=\"ttmrevpere_us\">872.31</td><td class=\"displayNone\" data-column-name=\"ttmniperem_us\">32.85</td><td class=\"displayNone\" data-column-name=\"ttmrecturn_us\">4.73</td><td class=\"displayNone\" data-column-name=\"a52_week_high\">227.3</td><td class=\"displayNone\" data-column-name=\"a52_week_low\">78.51</td><td class=\"displayNone\" data-column-name=\"a52_week_high_diff\">-8.76</td><td class=\"displayNone\" data-column-name=\"a52_week_low_diff\">164.16</td><td class=\"displayNone\" data-column-name=\"month_change\">14.81%</td><td class=\"displayNone\" data-column-name=\"ttmgrosmgn_us\">50.27</td><td class=\"displayNone\" data-column-name=\"grosmgn5yr_us\">46.53</td><td class=\"displayNone\" data-column-name=\"ttmopmgn_us\">1.77</td><td class=\"displayNone\" data-column-name=\"opmgn5yr_us\">10.47</td><td class=\"displayNone\" data-column-name=\"ttmptmgn_us\">2.24</td><td class=\"displayNone\" data-column-name=\"ptmgn5yr_us\">9.32</td><td class=\"displayNone\" data-column-name=\"ttmnpmgn_us\">3.77</td><td class=\"displayNone\" data-column-name=\"margin5yr_us\">10.90</td><td class=\"displayNone\" data-column-name=\"qquickrati_us\">1.67</td><td class=\"displayNone\" data-column-name=\"qcurratio_us\">2.51</td><td class=\"displayNone\" data-column-name=\"qltd2eq_us\">3.07</td><td class=\"displayNone\" data-column-name=\"qtotd2eq_us\">5.56</td><td class=\"displayNone\" data-column-name=\"yld5yavg_us\">-</td><td class=\"displayNone\" data-column-name=\"divgrpct_us\">0.00</td><td class=\"displayNone\" data-column-name=\"ttmpayrat_us\">0.00</td><td class=\"displayNone\" data-column-name=\"ADX\">33.80</td><td class=\"displayNone\" data-column-name=\"ATR\">9.85</td><td class=\"displayNone\" data-column-name=\"BullBear\">41.50</td><td class=\"displayNone\" data-column-name=\"CCI\">114.79</td><td class=\"displayNone\" data-column-name=\"HL\">13.94</td><td class=\"displayNone\" data-column-name=\"ROC\">19.24</td><td class=\"displayNone\" data-column-name=\"RSI\">69.72</td><td class=\"displayNone\" data-column-name=\"STOCH\">65.63</td><td class=\"displayNone\" data-column-name=\"STOCHRSI\">82.09</td><td class=\"displayNone\" data-column-name=\"UO\">57.56</td><td class=\"displayNone\" data-column-name=\"WilliamsR\">-30.36</td> <td></td>\n",
      "</tr><tr>\n",
      "<td class=\"flag\"><span class=\"ceFlags USA\"></span></td>\n",
      "<td class=\"symbol left bold elp\" data-column-name=\"name_trans\"><a href=\"/equities/toyota\" target=\"_blank\" title=\"Toyota Motor Corporation ADR\">Toyota Motor ADR</a></td>\n",
      "<td class=\"left\" data-column-name=\"viewData.symbol\">TM</td>\n",
      "<td class=\"left displayNone\" data-column-name=\"exchange_trans\">NYSE</td><td class=\"left displayNone\" data-column-name=\"sector_trans\">Consumer Cyclicals</td><td class=\"left displayNone\" data-column-name=\"industry_trans\">Automobiles &amp; Auto Parts</td><td data-column-name=\"last\">242.81</td><td data-column-name=\"pair_change_percent\">-2.07%</td><td data-column-name=\"eq_market_cap\">330.84B</td><td data-column-name=\"turnover_volume\">379.37K</td><td class=\"displayNone\" data-column-name=\"eq_pe_ratio\">10.87</td><td class=\"displayNone\" data-column-name=\"MACD\">10.72</td><td class=\"displayNone\" data-column-name=\"eq_revenue\">43.71T</td><td class=\"displayNone\" data-column-name=\"avg_volume\">318.02K</td><td class=\"displayNone\" data-column-name=\"eq_eps\">332.35</td><td class=\"displayNone\" data-column-name=\"eq_beta\">0.48</td><td class=\"displayNone\" data-column-name=\"eq_dividend\">4.00</td><td class=\"displayNone\" data-column-name=\"eq_yield\">-</td><td class=\"left displayNone\" data-column-name=\"tech_sum_900\">Strong Sell</td><td class=\"left displayNone\" data-column-name=\"tech_sum_3600\">Strong Sell</td><td class=\"left displayNone\" data-column-name=\"tech_sum_86400\">Strong Buy</td><td class=\"left displayNone\" data-column-name=\"tech_sum_week\">Strong Buy</td><td class=\"left displayNone\" data-column-name=\"tech_sum_month\">Strong Buy</td><td class=\"displayNone\" data-column-name=\"daily\">-2.07</td><td class=\"displayNone\" data-column-name=\"week\">-1.31</td><td class=\"displayNone\" data-column-name=\"month\">8.18</td><td class=\"displayNone\" data-column-name=\"ytd\">32.41</td><td class=\"displayNone\" data-column-name=\"year\">75.99</td><td class=\"displayNone\" data-column-name=\"3year\">59.87</td><td class=\"displayNone\" data-column-name=\"eq_one_year_return\">75.29</td><td class=\"displayNone\" data-column-name=\"yield_us\">1.65%</td><td class=\"displayNone\" data-column-name=\"peexclxor_us\">10.81</td><td class=\"displayNone\" data-column-name=\"ttmpr2rev_us\">1.11</td><td class=\"displayNone\" data-column-name=\"aprfcfps_us\">8.77</td><td class=\"displayNone\" data-column-name=\"ttmprfcfps_us\">-210.90</td><td class=\"displayNone\" data-column-name=\"price2bk_us\">1.49</td><td class=\"displayNone\" data-column-name=\"pr2tanbk_us\">1.59</td><td class=\"displayNone\" data-column-name=\"epschngyr_us\">88.44</td><td class=\"displayNone\" data-column-name=\"ttmepschg_us\">87.35</td><td class=\"displayNone\" data-column-name=\"epstrendgr_us\">1.28</td><td class=\"displayNone\" data-column-name=\"revchngyr_us\">23.44</td><td class=\"displayNone\" data-column-name=\"ttmrevchg_us\">22.87</td><td class=\"displayNone\" data-column-name=\"revtrendgr_us\">4.81</td><td class=\"displayNone\" data-column-name=\"csptrendgr_us\">-1.38</td><td class=\"displayNone\" data-column-name=\"ttmastturn_us\">0.56</td><td class=\"displayNone\" data-column-name=\"ttminvturn_us\">8.31</td><td class=\"displayNone\" data-column-name=\"ttmrevpere_us\">116.49</td><td class=\"displayNone\" data-column-name=\"ttmniperem_us\">12.15</td><td class=\"displayNone\" data-column-name=\"ttmrecturn_us\">3.19</td><td class=\"displayNone\" data-column-name=\"a52_week_high\">253.43</td><td class=\"displayNone\" data-column-name=\"a52_week_low\">132.35</td><td class=\"displayNone\" data-column-name=\"a52_week_high_diff\">-4.19</td><td class=\"displayNone\" data-column-name=\"a52_week_low_diff\">83.46</td><td class=\"displayNone\" data-column-name=\"month_change\">20.46%</td><td class=\"displayNone\" data-column-name=\"ttmgrosmgn_us\">19.86</td><td class=\"displayNone\" data-column-name=\"grosmgn5yr_us\">18.11</td><td class=\"displayNone\" data-column-name=\"ttmopmgn_us\">11.13</td><td class=\"displayNone\" data-column-name=\"opmgn5yr_us\">8.47</td><td class=\"displayNone\" data-column-name=\"ttmptmgn_us\">14.08</td><td class=\"displayNone\" data-column-name=\"ptmgn5yr_us\">10.68</td><td class=\"displayNone\" data-column-name=\"ttmnpmgn_us\">10.29</td><td class=\"displayNone\" data-column-name=\"margin5yr_us\">7.89</td><td class=\"displayNone\" data-column-name=\"qquickrati_us\">0.98</td><td class=\"displayNone\" data-column-name=\"qcurratio_us\">1.18</td><td class=\"displayNone\" data-column-name=\"qltd2eq_us\">59.14</td><td class=\"displayNone\" data-column-name=\"qtotd2eq_us\">104.29</td><td class=\"displayNone\" data-column-name=\"yld5yavg_us\">3.98</td><td class=\"displayNone\" data-column-name=\"divgrpct_us\">13.44</td><td class=\"displayNone\" data-column-name=\"ttmpayrat_us\">19.56</td><td class=\"displayNone\" data-column-name=\"ADX\">38.22</td><td class=\"displayNone\" data-column-name=\"ATR\">4.15</td><td class=\"displayNone\" data-column-name=\"BullBear\">6.80</td><td class=\"displayNone\" data-column-name=\"CCI\">54.55</td><td class=\"displayNone\" data-column-name=\"HL\">1.80</td><td class=\"displayNone\" data-column-name=\"ROC\">6.76</td><td class=\"displayNone\" data-column-name=\"RSI\">64.93</td><td class=\"displayNone\" data-column-name=\"STOCH\">68.63</td><td class=\"displayNone\" data-column-name=\"STOCHRSI\">0.00</td><td class=\"displayNone\" data-column-name=\"UO\">58.79</td><td class=\"displayNone\" data-column-name=\"WilliamsR\">-38.41</td> <td></td>\n",
      "</tr><tr>\n",
      "<td class=\"flag\"><span class=\"ceFlags USA\"></span></td>\n",
      "<td class=\"symbol left bold elp\" data-column-name=\"name_trans\"><a href=\"/equities/toyota-motor-corporation?cid=53018\" target=\"_blank\" title=\"Toyota Motor Corp\">Toyota Motor</a></td>\n",
      "<td class=\"left\" data-column-name=\"viewData.symbol\">TOYOF</td>\n",
      "<td class=\"left displayNone\" data-column-name=\"exchange_trans\">OTC Markets</td><td class=\"left displayNone\" data-column-name=\"sector_trans\">Consumer Cyclicals</td><td class=\"left displayNone\" data-column-name=\"industry_trans\">Automobiles &amp; Auto Parts</td><td data-column-name=\"last\">24.35</td><td data-column-name=\"pair_change_percent\">-2.05%</td><td data-column-name=\"eq_market_cap\">330.84B</td><td data-column-name=\"turnover_volume\">208.48K</td><td class=\"displayNone\" data-column-name=\"eq_pe_ratio\">10.87</td><td class=\"displayNone\" data-column-name=\"MACD\">1.08</td><td class=\"displayNone\" data-column-name=\"eq_revenue\">43.71T</td><td class=\"displayNone\" data-column-name=\"avg_volume\">89.15K</td><td class=\"displayNone\" data-column-name=\"eq_eps\">332.35</td><td class=\"displayNone\" data-column-name=\"eq_beta\">0.48</td><td class=\"displayNone\" data-column-name=\"eq_dividend\">-</td><td class=\"displayNone\" data-column-name=\"eq_yield\">-</td><td class=\"left displayNone\" data-column-name=\"tech_sum_900\">Strong Sell</td><td class=\"left displayNone\" data-column-name=\"tech_sum_3600\">Strong Sell</td><td class=\"left displayNone\" data-column-name=\"tech_sum_86400\">Strong Buy</td><td class=\"left displayNone\" data-column-name=\"tech_sum_week\">Strong Buy</td><td class=\"left displayNone\" data-column-name=\"tech_sum_month\">Strong Buy</td><td class=\"displayNone\" data-column-name=\"daily\">-2.05</td><td class=\"displayNone\" data-column-name=\"week\">-0.86</td><td class=\"displayNone\" data-column-name=\"month\">6.05</td><td class=\"displayNone\" data-column-name=\"ytd\">32.78</td><td class=\"displayNone\" data-column-name=\"year\">76.07</td><td class=\"displayNone\" data-column-name=\"3year\">60.20</td><td class=\"displayNone\" data-column-name=\"eq_one_year_return\">75.05</td><td class=\"displayNone\" data-column-name=\"yield_us\">-</td><td class=\"displayNone\" data-column-name=\"peexclxor_us\">10.81</td><td class=\"displayNone\" data-column-name=\"ttmpr2rev_us\">0.74</td><td class=\"displayNone\" data-column-name=\"aprfcfps_us\">8.77</td><td class=\"displayNone\" data-column-name=\"ttmprfcfps_us\">-210.90</td><td class=\"displayNone\" data-column-name=\"price2bk_us\">1.02</td><td class=\"displayNone\" data-column-name=\"pr2tanbk_us\">1.14</td><td class=\"displayNone\" data-column-name=\"epschngyr_us\">-80.36</td><td class=\"displayNone\" data-column-name=\"ttmepschg_us\">-19.44</td><td class=\"displayNone\" data-column-name=\"epstrendgr_us\">22.35</td><td class=\"displayNone\" data-column-name=\"revchngyr_us\">2.57</td><td class=\"displayNone\" data-column-name=\"ttmrevchg_us\">2.80</td><td class=\"displayNone\" data-column-name=\"revtrendgr_us\">5.89</td><td class=\"displayNone\" data-column-name=\"csptrendgr_us\">12.76</td><td class=\"displayNone\" data-column-name=\"ttmastturn_us\">0.59</td><td class=\"displayNone\" data-column-name=\"ttminvturn_us\">9.58</td><td class=\"displayNone\" data-column-name=\"ttmrevpere_us\">81.43</td><td class=\"displayNone\" data-column-name=\"ttmniperem_us\">4.44</td><td class=\"displayNone\" data-column-name=\"ttmrecturn_us\">3.49</td><td class=\"displayNone\" data-column-name=\"a52_week_high\">25.617</td><td class=\"displayNone\" data-column-name=\"a52_week_low\">13.01</td><td class=\"displayNone\" data-column-name=\"a52_week_high_diff\">-4.95</td><td class=\"displayNone\" data-column-name=\"a52_week_low_diff\">87.16</td><td class=\"displayNone\" data-column-name=\"month_change\">22.47%</td><td class=\"displayNone\" data-column-name=\"ttmgrosmgn_us\">18.80</td><td class=\"displayNone\" data-column-name=\"grosmgn5yr_us\">19.11</td><td class=\"displayNone\" data-column-name=\"ttmopmgn_us\">7.36</td><td class=\"displayNone\" data-column-name=\"opmgn5yr_us\">8.89</td><td class=\"displayNone\" data-column-name=\"ttmptmgn_us\">7.80</td><td class=\"displayNone\" data-column-name=\"ptmgn5yr_us\">9.49</td><td class=\"displayNone\" data-column-name=\"ttmnpmgn_us\">5.45</td><td class=\"displayNone\" data-column-name=\"margin5yr_us\">6.84</td><td class=\"displayNone\" data-column-name=\"qquickrati_us\">0.86</td><td class=\"displayNone\" data-column-name=\"qcurratio_us\">1.00</td><td class=\"displayNone\" data-column-name=\"qltd2eq_us\">53.28</td><td class=\"displayNone\" data-column-name=\"qtotd2eq_us\">103.29</td><td class=\"displayNone\" data-column-name=\"yld5yavg_us\">3.98</td><td class=\"displayNone\" data-column-name=\"divgrpct_us\">-</td><td class=\"displayNone\" data-column-name=\"ttmpayrat_us\">33.66</td><td class=\"displayNone\" data-column-name=\"ADX\">62.50</td><td class=\"displayNone\" data-column-name=\"ATR\">0.92</td><td class=\"displayNone\" data-column-name=\"BullBear\">0.98</td><td class=\"displayNone\" data-column-name=\"CCI\">63.27</td><td class=\"displayNone\" data-column-name=\"HL\">0.00</td><td class=\"displayNone\" data-column-name=\"ROC\">6.94</td><td class=\"displayNone\" data-column-name=\"RSI\">63.06</td><td class=\"displayNone\" data-column-name=\"STOCH\">65.33</td><td class=\"displayNone\" data-column-name=\"STOCHRSI\">0.00</td><td class=\"displayNone\" data-column-name=\"UO\">53.30</td><td class=\"displayNone\" data-column-name=\"WilliamsR\">-41.86</td> <td></td>\n",
      "</tr><tr>\n",
      "<td class=\"flag\"><span class=\"ceFlags USA\"></span></td>\n",
      "<td class=\"symbol left bold elp\" data-column-name=\"name_trans\"><a href=\"/equities/costco-whsl-corp-new\" target=\"_blank\" title=\"Costco Wholesale Corp\">Costco</a></td>\n",
      "<td class=\"left\" data-column-name=\"viewData.symbol\">COST</td>\n",
      "<td class=\"left displayNone\" data-column-name=\"exchange_trans\">NASDAQ</td><td class=\"left displayNone\" data-column-name=\"sector_trans\">Consumer Cyclicals</td><td class=\"left displayNone\" data-column-name=\"industry_trans\">Diversified Retail</td><td data-column-name=\"last\">725.56</td><td data-column-name=\"pair_change_percent\">-7.64%</td><td data-column-name=\"eq_market_cap\">321.82B</td><td data-column-name=\"turnover_volume\">8.32M</td><td class=\"displayNone\" data-column-name=\"eq_pe_ratio\">47.73</td><td class=\"displayNone\" data-column-name=\"MACD\">16.02</td><td class=\"displayNone\" data-column-name=\"eq_revenue\">248.83B</td><td class=\"displayNone\" data-column-name=\"avg_volume\">2.34M</td><td class=\"displayNone\" data-column-name=\"eq_eps\">15.31</td><td class=\"displayNone\" data-column-name=\"eq_beta\">0.77</td><td class=\"displayNone\" data-column-name=\"eq_dividend\">4.08</td><td class=\"displayNone\" data-column-name=\"eq_yield\">-</td><td class=\"left displayNone\" data-column-name=\"tech_sum_900\">Strong Sell</td><td class=\"left displayNone\" data-column-name=\"tech_sum_3600\">Strong Sell</td><td class=\"left displayNone\" data-column-name=\"tech_sum_86400\">Neutral</td><td class=\"left displayNone\" data-column-name=\"tech_sum_week\">Strong Buy</td><td class=\"left displayNone\" data-column-name=\"tech_sum_month\">Strong Buy</td><td class=\"displayNone\" data-column-name=\"daily\">-7.64</td><td class=\"displayNone\" data-column-name=\"week\">-3.19</td><td class=\"displayNone\" data-column-name=\"month\">0.30</td><td class=\"displayNone\" data-column-name=\"ytd\">9.92</td><td class=\"displayNone\" data-column-name=\"year\">54.00</td><td class=\"displayNone\" data-column-name=\"3year\">124.06</td><td class=\"displayNone\" data-column-name=\"eq_one_year_return\">51.31</td><td class=\"displayNone\" data-column-name=\"yield_us\">0.56%</td><td class=\"displayNone\" data-column-name=\"peexclxor_us\">49.38</td><td class=\"displayNone\" data-column-name=\"ttmpr2rev_us\">1.31</td><td class=\"displayNone\" data-column-name=\"aprfcfps_us\">24.71</td><td class=\"displayNone\" data-column-name=\"ttmprfcfps_us\">36.56</td><td class=\"displayNone\" data-column-name=\"price2bk_us\">12.31</td><td class=\"displayNone\" data-column-name=\"pr2tanbk_us\">13.33</td><td class=\"displayNone\" data-column-name=\"epschngyr_us\">12.30</td><td class=\"displayNone\" data-column-name=\"ttmepschg_us\">10.74</td><td class=\"displayNone\" data-column-name=\"epstrendgr_us\">14.68</td><td class=\"displayNone\" data-column-name=\"revchngyr_us\">5.37</td><td class=\"displayNone\" data-column-name=\"ttmrevchg_us\">6.33</td><td class=\"displayNone\" data-column-name=\"revtrendgr_us\">11.34</td><td class=\"displayNone\" data-column-name=\"csptrendgr_us\">7.80</td><td class=\"displayNone\" data-column-name=\"ttmastturn_us\">3.52</td><td class=\"displayNone\" data-column-name=\"ttminvturn_us\">11.75</td><td class=\"displayNone\" data-column-name=\"ttmrevpere_us\">777.38</td><td class=\"displayNone\" data-column-name=\"ttmniperem_us\">20.62</td><td class=\"displayNone\" data-column-name=\"ttmrecturn_us\">95.79</td><td class=\"displayNone\" data-column-name=\"a52_week_high\">787.08</td><td class=\"displayNone\" data-column-name=\"a52_week_low\">466.8</td><td class=\"displayNone\" data-column-name=\"a52_week_high_diff\">-7.82</td><td class=\"displayNone\" data-column-name=\"a52_week_low_diff\">55.43</td><td class=\"displayNone\" data-column-name=\"month_change\">7.05%</td><td class=\"displayNone\" data-column-name=\"ttmgrosmgn_us\">12.53</td><td class=\"displayNone\" data-column-name=\"grosmgn5yr_us\">12.73</td><td class=\"displayNone\" data-column-name=\"ttmopmgn_us\">3.56</td><td class=\"displayNone\" data-column-name=\"opmgn5yr_us\">3.38</td><td class=\"displayNone\" data-column-name=\"ttmptmgn_us\">3.59</td><td class=\"displayNone\" data-column-name=\"ptmgn5yr_us\">3.33</td><td class=\"displayNone\" data-column-name=\"ttmnpmgn_us\">2.65</td><td class=\"displayNone\" data-column-name=\"margin5yr_us\">2.52</td><td class=\"displayNone\" data-column-name=\"qquickrati_us\">0.55</td><td class=\"displayNone\" data-column-name=\"qcurratio_us\">1.09</td><td class=\"displayNone\" data-column-name=\"qltd2eq_us\">22.43</td><td class=\"displayNone\" data-column-name=\"qtotd2eq_us\">35.75</td><td class=\"displayNone\" data-column-name=\"yld5yavg_us\">0.84</td><td class=\"displayNone\" data-column-name=\"divgrpct_us\">13.33</td><td class=\"displayNone\" data-column-name=\"ttmpayrat_us\">26.94</td><td class=\"displayNone\" data-column-name=\"ADX\">55.72</td><td class=\"displayNone\" data-column-name=\"ATR\">14.47</td><td class=\"displayNone\" data-column-name=\"BullBear\">-16.34</td><td class=\"displayNone\" data-column-name=\"CCI\">-61.26</td><td class=\"displayNone\" data-column-name=\"HL\">-16.50</td><td class=\"displayNone\" data-column-name=\"ROC\">0.22</td><td class=\"displayNone\" data-column-name=\"RSI\">47.32</td><td class=\"displayNone\" data-column-name=\"STOCH\">55.67</td><td class=\"displayNone\" data-column-name=\"STOCHRSI\">0.00</td><td class=\"displayNone\" data-column-name=\"UO\">40.02</td><td class=\"displayNone\" data-column-name=\"WilliamsR\">-92.05</td> <td></td>\n",
      "</tr><tr>\n",
      "<td class=\"flag\"><span class=\"ceFlags USA\"></span></td>\n",
      "<td class=\"symbol left bold elp\" data-column-name=\"name_trans\"><a href=\"/equities/tencent-holdings-hk?cid=53031\" target=\"_blank\" title=\"Tencent Holdings Ltd\">Tencent Holdings</a></td>\n",
      "<td class=\"left\" data-column-name=\"viewData.symbol\">TCTZF</td>\n",
      "<td class=\"left displayNone\" data-column-name=\"exchange_trans\">OTC Markets</td><td class=\"left displayNone\" data-column-name=\"sector_trans\">Technology</td><td class=\"left displayNone\" data-column-name=\"industry_trans\">Software &amp; IT Services</td><td data-column-name=\"last\">34.36</td><td data-column-name=\"pair_change_percent\">-0.94%</td><td data-column-name=\"eq_market_cap\">321.06B</td><td data-column-name=\"turnover_volume\">7.94K</td><td class=\"displayNone\" data-column-name=\"eq_pe_ratio\">11.89</td><td class=\"displayNone\" data-column-name=\"MACD\">-0.55</td><td class=\"displayNone\" data-column-name=\"eq_revenue\">598.77B</td><td class=\"displayNone\" data-column-name=\"avg_volume\">19.80K</td><td class=\"displayNone\" data-column-name=\"eq_eps\">20.52</td><td class=\"displayNone\" data-column-name=\"eq_beta\">0.65</td><td class=\"displayNone\" data-column-name=\"eq_dividend\">-</td><td class=\"displayNone\" data-column-name=\"eq_yield\">-</td><td class=\"left displayNone\" data-column-name=\"tech_sum_900\">Strong Sell</td><td class=\"left displayNone\" data-column-name=\"tech_sum_3600\">Strong Sell</td><td class=\"left displayNone\" data-column-name=\"tech_sum_86400\">Strong Sell</td><td class=\"left displayNone\" data-column-name=\"tech_sum_week\">Strong Sell</td><td class=\"left displayNone\" data-column-name=\"tech_sum_month\">Strong Sell</td><td class=\"displayNone\" data-column-name=\"daily\">-0.94</td><td class=\"displayNone\" data-column-name=\"week\">-1.84</td><td class=\"displayNone\" data-column-name=\"month\">-7.36</td><td class=\"displayNone\" data-column-name=\"ytd\">-8.81</td><td class=\"displayNone\" data-column-name=\"year\">-19.49</td><td class=\"displayNone\" data-column-name=\"3year\">-59.31</td><td class=\"displayNone\" data-column-name=\"eq_one_year_return\">-18.62</td><td class=\"displayNone\" data-column-name=\"yield_us\">-</td><td class=\"displayNone\" data-column-name=\"peexclxor_us\">11.96</td><td class=\"displayNone\" data-column-name=\"ttmpr2rev_us\">10.24</td><td class=\"displayNone\" data-column-name=\"aprfcfps_us\">43.59</td><td class=\"displayNone\" data-column-name=\"ttmprfcfps_us\">38.15</td><td class=\"displayNone\" data-column-name=\"price2bk_us\">9.56</td><td class=\"displayNone\" data-column-name=\"pr2tanbk_us\">11.33</td><td class=\"displayNone\" data-column-name=\"epschngyr_us\">29.29</td><td class=\"displayNone\" data-column-name=\"ttmepschg_us\">38.72</td><td class=\"displayNone\" data-column-name=\"epstrendgr_us\">40.56</td><td class=\"displayNone\" data-column-name=\"revchngyr_us\">23.59</td><td class=\"displayNone\" data-column-name=\"ttmrevchg_us\">36.69</td><td class=\"displayNone\" data-column-name=\"revtrendgr_us\">40.20</td><td class=\"displayNone\" data-column-name=\"csptrendgr_us\">45.91</td><td class=\"displayNone\" data-column-name=\"ttmastturn_us\">0.49</td><td class=\"displayNone\" data-column-name=\"ttminvturn_us\">405.54</td><td class=\"displayNone\" data-column-name=\"ttmrevpere_us\">7.68</td><td class=\"displayNone\" data-column-name=\"ttmniperem_us\">2.29</td><td class=\"displayNone\" data-column-name=\"ttmrecturn_us\">14.25</td><td class=\"displayNone\" data-column-name=\"a52_week_high\">50.64</td><td class=\"displayNone\" data-column-name=\"a52_week_low\">32.45</td><td class=\"displayNone\" data-column-name=\"a52_week_high_diff\">-32.15</td><td class=\"displayNone\" data-column-name=\"a52_week_low_diff\">5.89</td><td class=\"displayNone\" data-column-name=\"month_change\">0.62%</td><td class=\"displayNone\" data-column-name=\"ttmgrosmgn_us\">47.07</td><td class=\"displayNone\" data-column-name=\"grosmgn5yr_us\">54.34</td><td class=\"displayNone\" data-column-name=\"ttmopmgn_us\">36.06</td><td class=\"displayNone\" data-column-name=\"opmgn5yr_us\">37.47</td><td class=\"displayNone\" data-column-name=\"ttmptmgn_us\">35.11</td><td class=\"displayNone\" data-column-name=\"ptmgn5yr_us\">35.50</td><td class=\"displayNone\" data-column-name=\"ttmnpmgn_us\">29.77</td><td class=\"displayNone\" data-column-name=\"margin5yr_us\">28.88</td><td class=\"displayNone\" data-column-name=\"qquickrati_us\">1.04</td><td class=\"displayNone\" data-column-name=\"qcurratio_us\">1.04</td><td class=\"displayNone\" data-column-name=\"qltd2eq_us\">42.62</td><td class=\"displayNone\" data-column-name=\"qtotd2eq_us\">55.25</td><td class=\"displayNone\" data-column-name=\"yld5yavg_us\">0.41</td><td class=\"displayNone\" data-column-name=\"divgrpct_us\">-</td><td class=\"displayNone\" data-column-name=\"ttmpayrat_us\">-</td><td class=\"displayNone\" data-column-name=\"ADX\">51.99</td><td class=\"displayNone\" data-column-name=\"ATR\">1.20</td><td class=\"displayNone\" data-column-name=\"BullBear\">-1.21</td><td class=\"displayNone\" data-column-name=\"CCI\">-87.52</td><td class=\"displayNone\" data-column-name=\"HL\">-0.74</td><td class=\"displayNone\" data-column-name=\"ROC\">-7.32</td><td class=\"displayNone\" data-column-name=\"RSI\">38.69</td><td class=\"displayNone\" data-column-name=\"STOCH\">20.01</td><td class=\"displayNone\" data-column-name=\"STOCHRSI\">20.68</td><td class=\"displayNone\" data-column-name=\"UO\">39.59</td><td class=\"displayNone\" data-column-name=\"WilliamsR\">-84.92</td> <td></td>\n",
      "</tr><tr>\n",
      "<td class=\"flag\"><span class=\"ceFlags USA\"></span></td>\n",
      "<td class=\"symbol left bold elp\" data-column-name=\"name_trans\"><a href=\"/equities/tencent-holdings-pk\" target=\"_blank\" title=\"Tencent Holdings Ltd ADR\">Tencent ADR</a></td>\n",
      "<td class=\"left\" data-column-name=\"viewData.symbol\">TCEHY</td>\n",
      "<td class=\"left displayNone\" data-column-name=\"exchange_trans\">OTC Markets</td><td class=\"left displayNone\" data-column-name=\"sector_trans\">Technology</td><td class=\"left displayNone\" data-column-name=\"industry_trans\">Software &amp; IT Services</td><td data-column-name=\"last\">34.48</td><td data-column-name=\"pair_change_percent\">-0.43%</td><td data-column-name=\"eq_market_cap\">321.06B</td><td data-column-name=\"turnover_volume\">2.27M</td><td class=\"displayNone\" data-column-name=\"eq_pe_ratio\">11.89</td><td class=\"displayNone\" data-column-name=\"MACD\">-0.51</td><td class=\"displayNone\" data-column-name=\"eq_revenue\">598.77B</td><td class=\"displayNone\" data-column-name=\"avg_volume\">3.43M</td><td class=\"displayNone\" data-column-name=\"eq_eps\">20.52</td><td class=\"displayNone\" data-column-name=\"eq_beta\">0.65</td><td class=\"displayNone\" data-column-name=\"eq_dividend\">1.91</td><td class=\"displayNone\" data-column-name=\"eq_yield\">-</td><td class=\"left displayNone\" data-column-name=\"tech_sum_900\">Strong Sell</td><td class=\"left displayNone\" data-column-name=\"tech_sum_3600\">Strong Sell</td><td class=\"left displayNone\" data-column-name=\"tech_sum_86400\">Strong Sell</td><td class=\"left displayNone\" data-column-name=\"tech_sum_week\">Strong Sell</td><td class=\"left displayNone\" data-column-name=\"tech_sum_month\">Strong Sell</td><td class=\"displayNone\" data-column-name=\"daily\">-0.43</td><td class=\"displayNone\" data-column-name=\"week\">-2.24</td><td class=\"displayNone\" data-column-name=\"month\">-6.96</td><td class=\"displayNone\" data-column-name=\"ytd\">-8.76</td><td class=\"displayNone\" data-column-name=\"year\">-18.95</td><td class=\"displayNone\" data-column-name=\"3year\">-59.24</td><td class=\"displayNone\" data-column-name=\"eq_one_year_return\">-18.37</td><td class=\"displayNone\" data-column-name=\"yield_us\">5.53%</td><td class=\"displayNone\" data-column-name=\"peexclxor_us\">-</td><td class=\"displayNone\" data-column-name=\"ttmpr2rev_us\">-</td><td class=\"displayNone\" data-column-name=\"aprfcfps_us\">-</td><td class=\"displayNone\" data-column-name=\"ttmprfcfps_us\">-</td><td class=\"displayNone\" data-column-name=\"price2bk_us\">-</td><td class=\"displayNone\" data-column-name=\"pr2tanbk_us\">-</td><td class=\"displayNone\" data-column-name=\"epschngyr_us\">-</td><td class=\"displayNone\" data-column-name=\"ttmepschg_us\">-</td><td class=\"displayNone\" data-column-name=\"epstrendgr_us\">-</td><td class=\"displayNone\" data-column-name=\"revchngyr_us\">-</td><td class=\"displayNone\" data-column-name=\"ttmrevchg_us\">-</td><td class=\"displayNone\" data-column-name=\"revtrendgr_us\">-</td><td class=\"displayNone\" data-column-name=\"csptrendgr_us\">-</td><td class=\"displayNone\" data-column-name=\"ttmastturn_us\">-</td><td class=\"displayNone\" data-column-name=\"ttminvturn_us\">-</td><td class=\"displayNone\" data-column-name=\"ttmrevpere_us\">-</td><td class=\"displayNone\" data-column-name=\"ttmniperem_us\">-</td><td class=\"displayNone\" data-column-name=\"ttmrecturn_us\">-</td><td class=\"displayNone\" data-column-name=\"a52_week_high\">50.18</td><td class=\"displayNone\" data-column-name=\"a52_week_low\">33.5</td><td class=\"displayNone\" data-column-name=\"a52_week_high_diff\">-31.29</td><td class=\"displayNone\" data-column-name=\"a52_week_low_diff\">2.93</td><td class=\"displayNone\" data-column-name=\"month_change\">0.17%</td><td class=\"displayNone\" data-column-name=\"ttmgrosmgn_us\">-</td><td class=\"displayNone\" data-column-name=\"grosmgn5yr_us\">-</td><td class=\"displayNone\" data-column-name=\"ttmopmgn_us\">-</td><td class=\"displayNone\" data-column-name=\"opmgn5yr_us\">-</td><td class=\"displayNone\" data-column-name=\"ttmptmgn_us\">-</td><td class=\"displayNone\" data-column-name=\"ptmgn5yr_us\">-</td><td class=\"displayNone\" data-column-name=\"ttmnpmgn_us\">-</td><td class=\"displayNone\" data-column-name=\"margin5yr_us\">-</td><td class=\"displayNone\" data-column-name=\"qquickrati_us\">-</td><td class=\"displayNone\" data-column-name=\"qcurratio_us\">-</td><td class=\"displayNone\" data-column-name=\"qltd2eq_us\">-</td><td class=\"displayNone\" data-column-name=\"qtotd2eq_us\">-</td><td class=\"displayNone\" data-column-name=\"yld5yavg_us\">-</td><td class=\"displayNone\" data-column-name=\"divgrpct_us\">-</td><td class=\"displayNone\" data-column-name=\"ttmpayrat_us\">-</td><td class=\"displayNone\" data-column-name=\"ADX\">54.63</td><td class=\"displayNone\" data-column-name=\"ATR\">0.67</td><td class=\"displayNone\" data-column-name=\"BullBear\">-1.52</td><td class=\"displayNone\" data-column-name=\"CCI\">-92.49</td><td class=\"displayNone\" data-column-name=\"HL\">-0.95</td><td class=\"displayNone\" data-column-name=\"ROC\">-6.58</td><td class=\"displayNone\" data-column-name=\"RSI\">40.66</td><td class=\"displayNone\" data-column-name=\"STOCH\">22.62</td><td class=\"displayNone\" data-column-name=\"STOCHRSI\">28.94</td><td class=\"displayNone\" data-column-name=\"UO\">39.73</td><td class=\"displayNone\" data-column-name=\"WilliamsR\">-85.30</td> <td></td>\n",
      "</tr><tr>\n",
      "<td class=\"flag\"><span class=\"ceFlags USA\"></span></td>\n",
      "<td class=\"symbol left bold elp\" data-column-name=\"name_trans\"><a href=\"/equities/abbvie-inc\" target=\"_blank\" title=\"AbbVie Inc\">AbbVie</a></td>\n",
      "<td class=\"left\" data-column-name=\"viewData.symbol\">ABBV</td>\n",
      "<td class=\"left displayNone\" data-column-name=\"exchange_trans\">NYSE</td><td class=\"left displayNone\" data-column-name=\"sector_trans\">Healthcare</td><td class=\"left displayNone\" data-column-name=\"industry_trans\">Pharmaceuticals</td><td data-column-name=\"last\">178.85</td><td data-column-name=\"pair_change_percent\">-0.95%</td><td data-column-name=\"eq_market_cap\">315.93B</td><td data-column-name=\"turnover_volume\">6.19M</td><td class=\"displayNone\" data-column-name=\"eq_pe_ratio\">65.84</td><td class=\"displayNone\" data-column-name=\"MACD\">3.12</td><td class=\"displayNone\" data-column-name=\"eq_revenue\">54.32B</td><td class=\"displayNone\" data-column-name=\"avg_volume\">5.31M</td><td class=\"displayNone\" data-column-name=\"eq_eps\">2.73</td><td class=\"displayNone\" data-column-name=\"eq_beta\">0.54</td><td class=\"displayNone\" data-column-name=\"eq_dividend\">6.20</td><td class=\"displayNone\" data-column-name=\"eq_yield\">-</td><td class=\"left displayNone\" data-column-name=\"tech_sum_900\">Strong Sell</td><td class=\"left displayNone\" data-column-name=\"tech_sum_3600\">Strong Sell</td><td class=\"left displayNone\" data-column-name=\"tech_sum_86400\">Strong Buy</td><td class=\"left displayNone\" data-column-name=\"tech_sum_week\">Strong Buy</td><td class=\"left displayNone\" data-column-name=\"tech_sum_month\">Strong Buy</td><td class=\"displayNone\" data-column-name=\"daily\">-0.95</td><td class=\"displayNone\" data-column-name=\"week\">-0.03</td><td class=\"displayNone\" data-column-name=\"month\">2.74</td><td class=\"displayNone\" data-column-name=\"ytd\">15.41</td><td class=\"displayNone\" data-column-name=\"year\">19.46</td><td class=\"displayNone\" data-column-name=\"3year\">65.60</td><td class=\"displayNone\" data-column-name=\"eq_one_year_return\">21.38</td><td class=\"displayNone\" data-column-name=\"yield_us\">3.47%</td><td class=\"displayNone\" data-column-name=\"peexclxor_us\">65.55</td><td class=\"displayNone\" data-column-name=\"ttmpr2rev_us\">5.82</td><td class=\"displayNone\" data-column-name=\"aprfcfps_us\">13.83</td><td class=\"displayNone\" data-column-name=\"ttmprfcfps_us\">14.32</td><td class=\"displayNone\" data-column-name=\"price2bk_us\">30.50</td><td class=\"displayNone\" data-column-name=\"pr2tanbk_us\">-4.11</td><td class=\"displayNone\" data-column-name=\"epschngyr_us\">-66.95</td><td class=\"displayNone\" data-column-name=\"ttmepschg_us\">-59.02</td><td class=\"displayNone\" data-column-name=\"epstrendgr_us\">-5.78</td><td class=\"displayNone\" data-column-name=\"revchngyr_us\">-5.42</td><td class=\"displayNone\" data-column-name=\"ttmrevchg_us\">-6.44</td><td class=\"displayNone\" data-column-name=\"revtrendgr_us\">10.65</td><td class=\"displayNone\" data-column-name=\"csptrendgr_us\">4.02</td><td class=\"displayNone\" data-column-name=\"ttmastturn_us\">0.40</td><td class=\"displayNone\" data-column-name=\"ttminvturn_us\">4.36</td><td class=\"displayNone\" data-column-name=\"ttmrevpere_us\">1.09</td><td class=\"displayNone\" data-column-name=\"ttmniperem_us\">97.46</td><td class=\"displayNone\" data-column-name=\"ttmrecturn_us\">5.07</td><td class=\"displayNone\" data-column-name=\"a52_week_high\">182.42</td><td class=\"displayNone\" data-column-name=\"a52_week_low\">130.96</td><td class=\"displayNone\" data-column-name=\"a52_week_high_diff\">-1.96</td><td class=\"displayNone\" data-column-name=\"a52_week_low_diff\">36.57</td><td class=\"displayNone\" data-column-name=\"month_change\">7.09%</td><td class=\"displayNone\" data-column-name=\"ttmgrosmgn_us\">69.21</td><td class=\"displayNone\" data-column-name=\"grosmgn5yr_us\">72.06</td><td class=\"displayNone\" data-column-name=\"ttmopmgn_us\">32.51</td><td class=\"displayNone\" data-column-name=\"opmgn5yr_us\">37.14</td><td class=\"displayNone\" data-column-name=\"ttmptmgn_us\">11.51</td><td class=\"displayNone\" data-column-name=\"ptmgn5yr_us\">17.47</td><td class=\"displayNone\" data-column-name=\"ttmnpmgn_us\">8.95</td><td class=\"displayNone\" data-column-name=\"margin5yr_us\">16.46</td><td class=\"displayNone\" data-column-name=\"qquickrati_us\">0.63</td><td class=\"displayNone\" data-column-name=\"qcurratio_us\">0.87</td><td class=\"displayNone\" data-column-name=\"qltd2eq_us\">506.37</td><td class=\"displayNone\" data-column-name=\"qtotd2eq_us\">584.74</td><td class=\"displayNone\" data-column-name=\"yld5yavg_us\">5.26</td><td class=\"displayNone\" data-column-name=\"divgrpct_us\">4.73</td><td class=\"displayNone\" data-column-name=\"ttmpayrat_us\">216.72</td><td class=\"displayNone\" data-column-name=\"ADX\">37.68</td><td class=\"displayNone\" data-column-name=\"ATR\">3.05</td><td class=\"displayNone\" data-column-name=\"BullBear\">4.49</td><td class=\"displayNone\" data-column-name=\"CCI\">100.25</td><td class=\"displayNone\" data-column-name=\"HL\">0.00</td><td class=\"displayNone\" data-column-name=\"ROC\">0.75</td><td class=\"displayNone\" data-column-name=\"RSI\">60.64</td><td class=\"displayNone\" data-column-name=\"STOCH\">62.05</td><td class=\"displayNone\" data-column-name=\"STOCHRSI\">0.00</td><td class=\"displayNone\" data-column-name=\"UO\">49.82</td><td class=\"displayNone\" data-column-name=\"WilliamsR\">-38.79</td> <td></td>\n",
      "</tr><tr>\n",
      "<td class=\"flag\"><span class=\"ceFlags USA\"></span></td>\n",
      "<td class=\"symbol left bold elp\" data-column-name=\"name_trans\"><a href=\"/equities/merck---co\" target=\"_blank\" title=\"Merck &amp; Company Inc\">Merck&amp;Co</a></td>\n",
      "<td class=\"left\" data-column-name=\"viewData.symbol\">MRK</td>\n",
      "<td class=\"left displayNone\" data-column-name=\"exchange_trans\">NYSE</td><td class=\"left displayNone\" data-column-name=\"sector_trans\">Healthcare</td><td class=\"left displayNone\" data-column-name=\"industry_trans\">Pharmaceuticals</td><td data-column-name=\"last\">123.49</td><td data-column-name=\"pair_change_percent\">-0.4%</td><td data-column-name=\"eq_market_cap\">312.78B</td><td data-column-name=\"turnover_volume\">8.38M</td><td class=\"displayNone\" data-column-name=\"eq_pe_ratio\">859.86</td><td class=\"displayNone\" data-column-name=\"MACD\">0.55</td><td class=\"displayNone\" data-column-name=\"eq_revenue\">60.12B</td><td class=\"displayNone\" data-column-name=\"avg_volume\">7.84M</td><td class=\"displayNone\" data-column-name=\"eq_eps\">0.14</td><td class=\"displayNone\" data-column-name=\"eq_beta\">0.38</td><td class=\"displayNone\" data-column-name=\"eq_dividend\">3.08</td><td class=\"displayNone\" data-column-name=\"eq_yield\">-</td><td class=\"left displayNone\" data-column-name=\"tech_sum_900\">Strong Sell</td><td class=\"left displayNone\" data-column-name=\"tech_sum_3600\">Sell</td><td class=\"left displayNone\" data-column-name=\"tech_sum_86400\">Sell</td><td class=\"left displayNone\" data-column-name=\"tech_sum_week\">Strong Buy</td><td class=\"left displayNone\" data-column-name=\"tech_sum_month\">Strong Buy</td><td class=\"displayNone\" data-column-name=\"daily\">-0.40</td><td class=\"displayNone\" data-column-name=\"week\">-2.73</td><td class=\"displayNone\" data-column-name=\"month\">-1.56</td><td class=\"displayNone\" data-column-name=\"ytd\">13.27</td><td class=\"displayNone\" data-column-name=\"year\">14.67</td><td class=\"displayNone\" data-column-name=\"3year\">73.23</td><td class=\"displayNone\" data-column-name=\"eq_one_year_return\">14.77</td><td class=\"displayNone\" data-column-name=\"yield_us\">2.49%</td><td class=\"displayNone\" data-column-name=\"peexclxor_us\">856.87</td><td class=\"displayNone\" data-column-name=\"ttmpr2rev_us\">5.20</td><td class=\"displayNone\" data-column-name=\"aprfcfps_us\">24.05</td><td class=\"displayNone\" data-column-name=\"ttmprfcfps_us\">34.21</td><td class=\"displayNone\" data-column-name=\"price2bk_us\">8.32</td><td class=\"displayNone\" data-column-name=\"pr2tanbk_us\">-192.99</td><td class=\"displayNone\" data-column-name=\"epschngyr_us\">-140.68</td><td class=\"displayNone\" data-column-name=\"ttmepschg_us\">-97.49</td><td class=\"displayNone\" data-column-name=\"epstrendgr_us\">-42.73</td><td class=\"displayNone\" data-column-name=\"revchngyr_us\">5.78</td><td class=\"displayNone\" data-column-name=\"ttmrevchg_us\">1.40</td><td class=\"displayNone\" data-column-name=\"revtrendgr_us\">7.29</td><td class=\"displayNone\" data-column-name=\"csptrendgr_us\">8.12</td><td class=\"displayNone\" data-column-name=\"ttmastturn_us\">0.56</td><td class=\"displayNone\" data-column-name=\"ttminvturn_us\">2.59</td><td class=\"displayNone\" data-column-name=\"ttmrevpere_us\">858.79</td><td class=\"displayNone\" data-column-name=\"ttmniperem_us\">5.39</td><td class=\"displayNone\" data-column-name=\"ttmrecturn_us\">5.01</td><td class=\"displayNone\" data-column-name=\"a52_week_high\">130.24</td><td class=\"displayNone\" data-column-name=\"a52_week_low\">99.14</td><td class=\"displayNone\" data-column-name=\"a52_week_high_diff\">-5.18</td><td class=\"displayNone\" data-column-name=\"a52_week_low_diff\">24.56</td><td class=\"displayNone\" data-column-name=\"month_change\">5.27%</td><td class=\"displayNone\" data-column-name=\"ttmgrosmgn_us\">73.53</td><td class=\"displayNone\" data-column-name=\"grosmgn5yr_us\">71.75</td><td class=\"displayNone\" data-column-name=\"ttmopmgn_us\">7.59</td><td class=\"displayNone\" data-column-name=\"opmgn5yr_us\">27.00</td><td class=\"displayNone\" data-column-name=\"ttmptmgn_us\">3.14</td><td class=\"displayNone\" data-column-name=\"ptmgn5yr_us\">21.09</td><td class=\"displayNone\" data-column-name=\"ttmnpmgn_us\">0.61</td><td class=\"displayNone\" data-column-name=\"margin5yr_us\">19.45</td><td class=\"displayNone\" data-column-name=\"qquickrati_us\">0.73</td><td class=\"displayNone\" data-column-name=\"qcurratio_us\">1.25</td><td class=\"displayNone\" data-column-name=\"qltd2eq_us\">89.63</td><td class=\"displayNone\" data-column-name=\"qtotd2eq_us\">96.51</td><td class=\"displayNone\" data-column-name=\"yld5yavg_us\">3.30</td><td class=\"displayNone\" data-column-name=\"divgrpct_us\">5.48</td><td class=\"displayNone\" data-column-name=\"ttmpayrat_us\">2.04K</td><td class=\"displayNone\" data-column-name=\"ADX\">31.73</td><td class=\"displayNone\" data-column-name=\"ATR\">1.90</td><td class=\"displayNone\" data-column-name=\"BullBear\">-4.81</td><td class=\"displayNone\" data-column-name=\"CCI\">-124.86</td><td class=\"displayNone\" data-column-name=\"HL\">-2.31</td><td class=\"displayNone\" data-column-name=\"ROC\">-3.37</td><td class=\"displayNone\" data-column-name=\"RSI\">44.32</td><td class=\"displayNone\" data-column-name=\"STOCH\">26.21</td><td class=\"displayNone\" data-column-name=\"STOCHRSI\">9.21</td><td class=\"displayNone\" data-column-name=\"UO\">40.39</td><td class=\"displayNone\" data-column-name=\"WilliamsR\">-82.94</td> <td></td>\n",
      "</tr><tr>\n",
      "<td class=\"flag\"><span class=\"ceFlags USA\"></span></td>\n",
      "<td class=\"symbol left bold elp\" data-column-name=\"name_trans\"><a href=\"/equities/oracle-corp\" target=\"_blank\" title=\"Oracle Corporation\">Oracle</a></td>\n",
      "<td class=\"left\" data-column-name=\"viewData.symbol\">ORCL</td>\n",
      "<td class=\"left displayNone\" data-column-name=\"exchange_trans\">NYSE</td><td class=\"left displayNone\" data-column-name=\"sector_trans\">Technology</td><td class=\"left displayNone\" data-column-name=\"industry_trans\">Software &amp; IT Services</td><td data-column-name=\"last\">112.45</td><td data-column-name=\"pair_change_percent\">-1.82%</td><td data-column-name=\"eq_market_cap\">309.03B</td><td data-column-name=\"turnover_volume\">7.17M</td><td class=\"displayNone\" data-column-name=\"eq_pe_ratio\">30.21</td><td class=\"displayNone\" data-column-name=\"MACD\">0.75</td><td class=\"displayNone\" data-column-name=\"eq_revenue\">51.63B</td><td class=\"displayNone\" data-column-name=\"avg_volume\">9.47M</td><td class=\"displayNone\" data-column-name=\"eq_eps\">3.73</td><td class=\"displayNone\" data-column-name=\"eq_beta\">1.04</td><td class=\"displayNone\" data-column-name=\"eq_dividend\">1.60</td><td class=\"displayNone\" data-column-name=\"eq_yield\">-</td><td class=\"left displayNone\" data-column-name=\"tech_sum_900\">Neutral</td><td class=\"left displayNone\" data-column-name=\"tech_sum_3600\">Strong Sell</td><td class=\"left displayNone\" data-column-name=\"tech_sum_86400\">Strong Buy</td><td class=\"left displayNone\" data-column-name=\"tech_sum_week\">Strong Buy</td><td class=\"left displayNone\" data-column-name=\"tech_sum_month\">Strong Buy</td><td class=\"displayNone\" data-column-name=\"daily\">-1.82</td><td class=\"displayNone\" data-column-name=\"week\">-1.17</td><td class=\"displayNone\" data-column-name=\"month\">-3.59</td><td class=\"displayNone\" data-column-name=\"ytd\">6.66</td><td class=\"displayNone\" data-column-name=\"year\">33.76</td><td class=\"displayNone\" data-column-name=\"3year\">55.92</td><td class=\"displayNone\" data-column-name=\"eq_one_year_return\">29.45</td><td class=\"displayNone\" data-column-name=\"yield_us\">1.42%</td><td class=\"displayNone\" data-column-name=\"peexclxor_us\">30.49</td><td class=\"displayNone\" data-column-name=\"ttmpr2rev_us\">5.99</td><td class=\"displayNone\" data-column-name=\"aprfcfps_us\">18.45</td><td class=\"displayNone\" data-column-name=\"ttmprfcfps_us\">30.59</td><td class=\"displayNone\" data-column-name=\"price2bk_us\">79.96</td><td class=\"displayNone\" data-column-name=\"pr2tanbk_us\">-4.72</td><td class=\"displayNone\" data-column-name=\"epschngyr_us\">41.10</td><td class=\"displayNone\" data-column-name=\"ttmepschg_us\">13.54</td><td class=\"displayNone\" data-column-name=\"epstrendgr_us\">29.37</td><td class=\"displayNone\" data-column-name=\"revchngyr_us\">5.43</td><td class=\"displayNone\" data-column-name=\"ttmrevchg_us\">12.06</td><td class=\"displayNone\" data-column-name=\"revtrendgr_us\">4.87</td><td class=\"displayNone\" data-column-name=\"csptrendgr_us\">38.02</td><td class=\"displayNone\" data-column-name=\"ttmastturn_us\">0.39</td><td class=\"displayNone\" data-column-name=\"ttminvturn_us\">0.00</td><td class=\"displayNone\" data-column-name=\"ttmrevpere_us\">314.80</td><td class=\"displayNone\" data-column-name=\"ttmniperem_us\">61.81</td><td class=\"displayNone\" data-column-name=\"ttmrecturn_us\">7.77</td><td class=\"displayNone\" data-column-name=\"a52_week_high\">127.54</td><td class=\"displayNone\" data-column-name=\"a52_week_low\">82.04</td><td class=\"displayNone\" data-column-name=\"a52_week_high_diff\">-11.83</td><td class=\"displayNone\" data-column-name=\"a52_week_low_diff\">37.07</td><td class=\"displayNone\" data-column-name=\"month_change\">-0.02%</td><td class=\"displayNone\" data-column-name=\"ttmgrosmgn_us\">71.88</td><td class=\"displayNone\" data-column-name=\"grosmgn5yr_us\">78.18</td><td class=\"displayNone\" data-column-name=\"ttmopmgn_us\">28.69</td><td class=\"displayNone\" data-column-name=\"opmgn5yr_us\">34.88</td><td class=\"displayNone\" data-column-name=\"ttmptmgn_us\">20.18</td><td class=\"displayNone\" data-column-name=\"ptmgn5yr_us\">25.87</td><td class=\"displayNone\" data-column-name=\"ttmnpmgn_us\">19.63</td><td class=\"displayNone\" data-column-name=\"margin5yr_us\">23.99</td><td class=\"displayNone\" data-column-name=\"qquickrati_us\">0.63</td><td class=\"displayNone\" data-column-name=\"qcurratio_us\">0.79</td><td class=\"displayNone\" data-column-name=\"qltd2eq_us\">2.13K</td><td class=\"displayNone\" data-column-name=\"qtotd2eq_us\">2.30K</td><td class=\"displayNone\" data-column-name=\"yld5yavg_us\">1.69</td><td class=\"displayNone\" data-column-name=\"divgrpct_us\">25.00</td><td class=\"displayNone\" data-column-name=\"ttmpayrat_us\">40.79</td><td class=\"displayNone\" data-column-name=\"ADX\">30.22</td><td class=\"displayNone\" data-column-name=\"ATR\">2.35</td><td class=\"displayNone\" data-column-name=\"BullBear\">0.30</td><td class=\"displayNone\" data-column-name=\"CCI\">67.93</td><td class=\"displayNone\" data-column-name=\"HL\">0.00</td><td class=\"displayNone\" data-column-name=\"ROC\">1.03</td><td class=\"displayNone\" data-column-name=\"RSI\">50.57</td><td class=\"displayNone\" data-column-name=\"STOCH\">66.88</td><td class=\"displayNone\" data-column-name=\"STOCHRSI\">67.13</td><td class=\"displayNone\" data-column-name=\"UO\">53.98</td><td class=\"displayNone\" data-column-name=\"WilliamsR\">-28.23</td> <td></td>\n",
      "</tr><tr>\n",
      "<td class=\"flag\"><span class=\"ceFlags USA\"></span></td>\n",
      "<td class=\"symbol left bold elp\" data-column-name=\"name_trans\"><a href=\"/equities/salesforce-com\" target=\"_blank\" title=\"Salesforce Inc\">Salesforce Inc</a></td>\n",
      "<td class=\"left\" data-column-name=\"viewData.symbol\">CRM</td>\n",
      "<td class=\"left displayNone\" data-column-name=\"exchange_trans\">NYSE</td><td class=\"left displayNone\" data-column-name=\"sector_trans\">Technology</td><td class=\"left displayNone\" data-column-name=\"industry_trans\">Software &amp; IT Services</td><td data-column-name=\"last\">305.41</td><td data-column-name=\"pair_change_percent\">0.99%</td><td data-column-name=\"eq_market_cap\">296.12B</td><td data-column-name=\"turnover_volume\">4.26M</td><td class=\"displayNone\" data-column-name=\"eq_pe_ratio\">-</td><td class=\"displayNone\" data-column-name=\"MACD\">7.24</td><td class=\"displayNone\" data-column-name=\"eq_revenue\">34.86B</td><td class=\"displayNone\" data-column-name=\"avg_volume\">5.69M</td><td class=\"displayNone\" data-column-name=\"eq_eps\">4.25</td><td class=\"displayNone\" data-column-name=\"eq_beta\">1.28</td><td class=\"displayNone\" data-column-name=\"eq_dividend\">1.60</td><td class=\"displayNone\" data-column-name=\"eq_yield\">-</td><td class=\"left displayNone\" data-column-name=\"tech_sum_900\">Sell</td><td class=\"left displayNone\" data-column-name=\"tech_sum_3600\">Neutral</td><td class=\"left displayNone\" data-column-name=\"tech_sum_86400\">Strong Buy</td><td class=\"left displayNone\" data-column-name=\"tech_sum_week\">Strong Buy</td><td class=\"left displayNone\" data-column-name=\"tech_sum_month\">Strong Buy</td><td class=\"displayNone\" data-column-name=\"daily\">0.99</td><td class=\"displayNone\" data-column-name=\"week\">-3.62</td><td class=\"displayNone\" data-column-name=\"month\">4.84</td><td class=\"displayNone\" data-column-name=\"ytd\">16.06</td><td class=\"displayNone\" data-column-name=\"year\">76.35</td><td class=\"displayNone\" data-column-name=\"3year\">44.09</td><td class=\"displayNone\" data-column-name=\"eq_one_year_return\">70.89</td><td class=\"displayNone\" data-column-name=\"yield_us\">0.52%</td><td class=\"displayNone\" data-column-name=\"peexclxor_us\">71.63</td><td class=\"displayNone\" data-column-name=\"ttmpr2rev_us\">8.50</td><td class=\"displayNone\" data-column-name=\"aprfcfps_us\">28.95</td><td class=\"displayNone\" data-column-name=\"ttmprfcfps_us\">31.19</td><td class=\"displayNone\" data-column-name=\"price2bk_us\">4.97</td><td class=\"displayNone\" data-column-name=\"pr2tanbk_us\">51.02</td><td class=\"displayNone\" data-column-name=\"epschngyr_us\">1.60K</td><td class=\"displayNone\" data-column-name=\"ttmepschg_us\">1.93K</td><td class=\"displayNone\" data-column-name=\"epstrendgr_us\">23.50</td><td class=\"displayNone\" data-column-name=\"revchngyr_us\">10.77</td><td class=\"displayNone\" data-column-name=\"ttmrevchg_us\">11.18</td><td class=\"displayNone\" data-column-name=\"revtrendgr_us\">21.28</td><td class=\"displayNone\" data-column-name=\"csptrendgr_us\">4.35</td><td class=\"displayNone\" data-column-name=\"ttmastturn_us\">0.35</td><td class=\"displayNone\" data-column-name=\"ttminvturn_us\">0.00</td><td class=\"displayNone\" data-column-name=\"ttmrevpere_us\">479.58</td><td class=\"displayNone\" data-column-name=\"ttmniperem_us\">56.91</td><td class=\"displayNone\" data-column-name=\"ttmrecturn_us\">4.57</td><td class=\"displayNone\" data-column-name=\"a52_week_high\">318.71</td><td class=\"displayNone\" data-column-name=\"a52_week_low\">170</td><td class=\"displayNone\" data-column-name=\"a52_week_high_diff\">-4.17</td><td class=\"displayNone\" data-column-name=\"a52_week_low_diff\">79.65</td><td class=\"displayNone\" data-column-name=\"month_change\">9.87%</td><td class=\"displayNone\" data-column-name=\"ttmgrosmgn_us\">75.50</td><td class=\"displayNone\" data-column-name=\"grosmgn5yr_us\">74.22</td><td class=\"displayNone\" data-column-name=\"ttmopmgn_us\">17.21</td><td class=\"displayNone\" data-column-name=\"opmgn5yr_us\">4.98</td><td class=\"displayNone\" data-column-name=\"ttmptmgn_us\">14.20</td><td class=\"displayNone\" data-column-name=\"ptmgn5yr_us\">6.85</td><td class=\"displayNone\" data-column-name=\"ttmnpmgn_us\">11.87</td><td class=\"displayNone\" data-column-name=\"margin5yr_us\">7.14</td><td class=\"displayNone\" data-column-name=\"qquickrati_us\">0.96</td><td class=\"displayNone\" data-column-name=\"qcurratio_us\">1.09</td><td class=\"displayNone\" data-column-name=\"qltd2eq_us\">14.13</td><td class=\"displayNone\" data-column-name=\"qtotd2eq_us\">22.74</td><td class=\"displayNone\" data-column-name=\"yld5yavg_us\">-</td><td class=\"displayNone\" data-column-name=\"divgrpct_us\">0.00</td><td class=\"displayNone\" data-column-name=\"ttmpayrat_us\">0.00</td><td class=\"displayNone\" data-column-name=\"ADX\">19.26</td><td class=\"displayNone\" data-column-name=\"ATR\">8.73</td><td class=\"displayNone\" data-column-name=\"BullBear\">8.66</td><td class=\"displayNone\" data-column-name=\"CCI\">63.74</td><td class=\"displayNone\" data-column-name=\"HL\">1.40</td><td class=\"displayNone\" data-column-name=\"ROC\">5.37</td><td class=\"displayNone\" data-column-name=\"RSI\">59.22</td><td class=\"displayNone\" data-column-name=\"STOCH\">55.80</td><td class=\"displayNone\" data-column-name=\"STOCHRSI\">29.42</td><td class=\"displayNone\" data-column-name=\"UO\">54.54</td><td class=\"displayNone\" data-column-name=\"WilliamsR\">-33.26</td> <td></td>\n",
      "</tr><tr>\n",
      "<td class=\"flag\"><span class=\"ceFlags USA\"></span></td>\n",
      "<td class=\"symbol left bold elp\" data-column-name=\"name_trans\"><a href=\"/equities/bank-of-america-corp-drc\" target=\"_blank\" title=\"Bank of America Corp Pm\">Bank of America Pm</a></td>\n",
      "<td class=\"left\" data-column-name=\"viewData.symbol\">BAC_pm</td>\n",
      "<td class=\"left displayNone\" data-column-name=\"exchange_trans\">NYSE</td><td class=\"left displayNone\" data-column-name=\"sector_trans\">Financials</td><td class=\"left displayNone\" data-column-name=\"industry_trans\">Banking Services</td><td data-column-name=\"last\">23.86</td><td data-column-name=\"pair_change_percent\">0.59%</td><td data-column-name=\"eq_market_cap\">280.27B</td><td data-column-name=\"turnover_volume\">60.97K</td><td class=\"displayNone\" data-column-name=\"eq_pe_ratio\">11.52</td><td class=\"displayNone\" data-column-name=\"MACD\">0.04</td><td class=\"displayNone\" data-column-name=\"eq_revenue\">94.19B</td><td class=\"displayNone\" data-column-name=\"avg_volume\">109.52K</td><td class=\"displayNone\" data-column-name=\"eq_eps\">3.10</td><td class=\"displayNone\" data-column-name=\"eq_beta\">1.40</td><td class=\"displayNone\" data-column-name=\"eq_dividend\">1.34</td><td class=\"displayNone\" data-column-name=\"eq_yield\">-</td><td class=\"left displayNone\" data-column-name=\"tech_sum_900\">Neutral</td><td class=\"left displayNone\" data-column-name=\"tech_sum_3600\">Strong Buy</td><td class=\"left displayNone\" data-column-name=\"tech_sum_86400\">Strong Buy</td><td class=\"left displayNone\" data-column-name=\"tech_sum_week\">Strong Buy</td><td class=\"left displayNone\" data-column-name=\"tech_sum_month\">Buy</td><td class=\"displayNone\" data-column-name=\"daily\">0.59</td><td class=\"displayNone\" data-column-name=\"week\">1.53</td><td class=\"displayNone\" data-column-name=\"month\">0.46</td><td class=\"displayNone\" data-column-name=\"ytd\">3.69</td><td class=\"displayNone\" data-column-name=\"year\">8.06</td><td class=\"displayNone\" data-column-name=\"3year\">-11.10</td><td class=\"displayNone\" data-column-name=\"eq_one_year_return\">7.43</td><td class=\"displayNone\" data-column-name=\"yield_us\">5.65%</td><td class=\"displayNone\" data-column-name=\"peexclxor_us\">11.27</td><td class=\"displayNone\" data-column-name=\"ttmpr2rev_us\">2.97</td><td class=\"displayNone\" data-column-name=\"aprfcfps_us\">6.23</td><td class=\"displayNone\" data-column-name=\"ttmprfcfps_us\">0.00</td><td class=\"displayNone\" data-column-name=\"price2bk_us\">1.06</td><td class=\"displayNone\" data-column-name=\"pr2tanbk_us\">1.45</td><td class=\"displayNone\" data-column-name=\"epschngyr_us\">-58.39</td><td class=\"displayNone\" data-column-name=\"ttmepschg_us\">-3.40</td><td class=\"displayNone\" data-column-name=\"epstrendgr_us\">3.21</td><td class=\"displayNone\" data-column-name=\"revchngyr_us\">-11.03</td><td class=\"displayNone\" data-column-name=\"ttmrevchg_us\">1.93</td><td class=\"displayNone\" data-column-name=\"revtrendgr_us\">1.43</td><td class=\"displayNone\" data-column-name=\"csptrendgr_us\">0.00</td><td class=\"displayNone\" data-column-name=\"ttmastturn_us\">-</td><td class=\"displayNone\" data-column-name=\"ttminvturn_us\">-</td><td class=\"displayNone\" data-column-name=\"ttmrevpere_us\">442.19</td><td class=\"displayNone\" data-column-name=\"ttmniperem_us\">124.48</td><td class=\"displayNone\" data-column-name=\"ttmrecturn_us\">-</td><td class=\"displayNone\" data-column-name=\"a52_week_high\">24.17</td><td class=\"displayNone\" data-column-name=\"a52_week_low\">20.55</td><td class=\"displayNone\" data-column-name=\"a52_week_high_diff\">-1.28</td><td class=\"displayNone\" data-column-name=\"a52_week_low_diff\">16.11</td><td class=\"displayNone\" data-column-name=\"month_change\">-1.88%</td><td class=\"displayNone\" data-column-name=\"ttmgrosmgn_us\">-</td><td class=\"displayNone\" data-column-name=\"grosmgn5yr_us\">0.00</td><td class=\"displayNone\" data-column-name=\"ttmopmgn_us\">30.09</td><td class=\"displayNone\" data-column-name=\"opmgn5yr_us\">34.07</td><td class=\"displayNone\" data-column-name=\"ttmptmgn_us\">30.09</td><td class=\"displayNone\" data-column-name=\"ptmgn5yr_us\">33.95</td><td class=\"displayNone\" data-column-name=\"ttmnpmgn_us\">28.15</td><td class=\"displayNone\" data-column-name=\"margin5yr_us\">30.35</td><td class=\"displayNone\" data-column-name=\"qquickrati_us\">0.31</td><td class=\"displayNone\" data-column-name=\"qcurratio_us\">-</td><td class=\"displayNone\" data-column-name=\"qltd2eq_us\">104.64</td><td class=\"displayNone\" data-column-name=\"qtotd2eq_us\">258.87</td><td class=\"displayNone\" data-column-name=\"yld5yavg_us\">2.71</td><td class=\"displayNone\" data-column-name=\"divgrpct_us\">-</td><td class=\"displayNone\" data-column-name=\"ttmpayrat_us\">34.27</td><td class=\"displayNone\" data-column-name=\"ADX\">32.37</td><td class=\"displayNone\" data-column-name=\"ATR\">0.21</td><td class=\"displayNone\" data-column-name=\"BullBear\">0.26</td><td class=\"displayNone\" data-column-name=\"CCI\">49.80</td><td class=\"displayNone\" data-column-name=\"HL\">0.00</td><td class=\"displayNone\" data-column-name=\"ROC\">0.42</td><td class=\"displayNone\" data-column-name=\"RSI\">56.53</td><td class=\"displayNone\" data-column-name=\"STOCH\">43.29</td><td class=\"displayNone\" data-column-name=\"STOCHRSI\">71.24</td><td class=\"displayNone\" data-column-name=\"UO\">48.27</td><td class=\"displayNone\" data-column-name=\"WilliamsR\">-29.17</td> <td></td>\n",
      "</tr><tr>\n",
      "<td class=\"flag\"><span class=\"ceFlags USA\"></span></td>\n",
      "<td class=\"symbol left bold elp\" data-column-name=\"name_trans\"><a href=\"/equities/bank-of-america-corp-pe-adr\" target=\"_blank\" title=\"Bank of America Corp Pe ADR\">Bank of America Corp Pe ADR</a></td>\n",
      "<td class=\"left\" data-column-name=\"viewData.symbol\">BAC_pe</td>\n",
      "<td class=\"left displayNone\" data-column-name=\"exchange_trans\">NYSE</td><td class=\"left displayNone\" data-column-name=\"sector_trans\">Financials</td><td class=\"left displayNone\" data-column-name=\"industry_trans\">Banking Services</td><td data-column-name=\"last\">23.35</td><td data-column-name=\"pair_change_percent\">0.47%</td><td data-column-name=\"eq_market_cap\">280.27B</td><td data-column-name=\"turnover_volume\">12.89K</td><td class=\"displayNone\" data-column-name=\"eq_pe_ratio\">11.52</td><td class=\"displayNone\" data-column-name=\"MACD\">0.11</td><td class=\"displayNone\" data-column-name=\"eq_revenue\">94.19B</td><td class=\"displayNone\" data-column-name=\"avg_volume\">24.03K</td><td class=\"displayNone\" data-column-name=\"eq_eps\">3.10</td><td class=\"displayNone\" data-column-name=\"eq_beta\">1.40</td><td class=\"displayNone\" data-column-name=\"eq_dividend\">1.53</td><td class=\"displayNone\" data-column-name=\"eq_yield\">-</td><td class=\"left displayNone\" data-column-name=\"tech_sum_900\">Strong Buy</td><td class=\"left displayNone\" data-column-name=\"tech_sum_3600\">Strong Buy</td><td class=\"left displayNone\" data-column-name=\"tech_sum_86400\">Strong Buy</td><td class=\"left displayNone\" data-column-name=\"tech_sum_week\">Strong Buy</td><td class=\"left displayNone\" data-column-name=\"tech_sum_month\">Strong Buy</td><td class=\"displayNone\" data-column-name=\"daily\">0.47</td><td class=\"displayNone\" data-column-name=\"week\">1.08</td><td class=\"displayNone\" data-column-name=\"month\">2.37</td><td class=\"displayNone\" data-column-name=\"ytd\">1.97</td><td class=\"displayNone\" data-column-name=\"year\">11.30</td><td class=\"displayNone\" data-column-name=\"3year\">-7.05</td><td class=\"displayNone\" data-column-name=\"eq_one_year_return\">9.52</td><td class=\"displayNone\" data-column-name=\"yield_us\">6.56%</td><td class=\"displayNone\" data-column-name=\"peexclxor_us\">11.27</td><td class=\"displayNone\" data-column-name=\"ttmpr2rev_us\">2.97</td><td class=\"displayNone\" data-column-name=\"aprfcfps_us\">6.23</td><td class=\"displayNone\" data-column-name=\"ttmprfcfps_us\">0.00</td><td class=\"displayNone\" data-column-name=\"price2bk_us\">1.06</td><td class=\"displayNone\" data-column-name=\"pr2tanbk_us\">1.44</td><td class=\"displayNone\" data-column-name=\"epschngyr_us\">-58.39</td><td class=\"displayNone\" data-column-name=\"ttmepschg_us\">-3.40</td><td class=\"displayNone\" data-column-name=\"epstrendgr_us\">3.21</td><td class=\"displayNone\" data-column-name=\"revchngyr_us\">-11.03</td><td class=\"displayNone\" data-column-name=\"ttmrevchg_us\">1.93</td><td class=\"displayNone\" data-column-name=\"revtrendgr_us\">1.43</td><td class=\"displayNone\" data-column-name=\"csptrendgr_us\">0.00</td><td class=\"displayNone\" data-column-name=\"ttmastturn_us\">-</td><td class=\"displayNone\" data-column-name=\"ttminvturn_us\">-</td><td class=\"displayNone\" data-column-name=\"ttmrevpere_us\">442.19</td><td class=\"displayNone\" data-column-name=\"ttmniperem_us\">124.48</td><td class=\"displayNone\" data-column-name=\"ttmrecturn_us\">-</td><td class=\"displayNone\" data-column-name=\"a52_week_high\">23.5</td><td class=\"displayNone\" data-column-name=\"a52_week_low\">19.52</td><td class=\"displayNone\" data-column-name=\"a52_week_high_diff\">-0.64</td><td class=\"displayNone\" data-column-name=\"a52_week_low_diff\">19.62</td><td class=\"displayNone\" data-column-name=\"month_change\">3.26%</td><td class=\"displayNone\" data-column-name=\"ttmgrosmgn_us\">-</td><td class=\"displayNone\" data-column-name=\"grosmgn5yr_us\">0.00</td><td class=\"displayNone\" data-column-name=\"ttmopmgn_us\">30.09</td><td class=\"displayNone\" data-column-name=\"opmgn5yr_us\">34.07</td><td class=\"displayNone\" data-column-name=\"ttmptmgn_us\">30.09</td><td class=\"displayNone\" data-column-name=\"ptmgn5yr_us\">33.95</td><td class=\"displayNone\" data-column-name=\"ttmnpmgn_us\">28.15</td><td class=\"displayNone\" data-column-name=\"margin5yr_us\">30.35</td><td class=\"displayNone\" data-column-name=\"qquickrati_us\">0.31</td><td class=\"displayNone\" data-column-name=\"qcurratio_us\">-</td><td class=\"displayNone\" data-column-name=\"qltd2eq_us\">104.64</td><td class=\"displayNone\" data-column-name=\"qtotd2eq_us\">258.87</td><td class=\"displayNone\" data-column-name=\"yld5yavg_us\">2.71</td><td class=\"displayNone\" data-column-name=\"divgrpct_us\">49.78</td><td class=\"displayNone\" data-column-name=\"ttmpayrat_us\">34.27</td><td class=\"displayNone\" data-column-name=\"ADX\">31.25</td><td class=\"displayNone\" data-column-name=\"ATR\">0.21</td><td class=\"displayNone\" data-column-name=\"BullBear\">0.42</td><td class=\"displayNone\" data-column-name=\"CCI\">144.50</td><td class=\"displayNone\" data-column-name=\"HL\">0.12</td><td class=\"displayNone\" data-column-name=\"ROC\">2.05</td><td class=\"displayNone\" data-column-name=\"RSI\">60.47</td><td class=\"displayNone\" data-column-name=\"STOCH\">41.56</td><td class=\"displayNone\" data-column-name=\"STOCHRSI\">56.60</td><td class=\"displayNone\" data-column-name=\"UO\">52.35</td><td class=\"displayNone\" data-column-name=\"WilliamsR\">-23.08</td> <td></td>\n",
      "</tr><tr>\n",
      "<td class=\"flag\"><span class=\"ceFlags USA\"></span></td>\n",
      "<td class=\"symbol left bold elp\" data-column-name=\"name_trans\"><a href=\"/equities/bank-of-america-corp-pl-pref\" target=\"_blank\" title=\"Bank of America Corp Pl Pref\">Bank of America Corp Pl Pref</a></td>\n",
      "<td class=\"left\" data-column-name=\"viewData.symbol\">BAC_pl</td>\n",
      "<td class=\"left displayNone\" data-column-name=\"exchange_trans\">NYSE</td><td class=\"left displayNone\" data-column-name=\"sector_trans\">Financials</td><td class=\"left displayNone\" data-column-name=\"industry_trans\">Banking Services</td><td data-column-name=\"last\">1206.61</td><td data-column-name=\"pair_change_percent\">1.28%</td><td data-column-name=\"eq_market_cap\">280.27B</td><td data-column-name=\"turnover_volume\">9.15K</td><td class=\"displayNone\" data-column-name=\"eq_pe_ratio\">11.52</td><td class=\"displayNone\" data-column-name=\"MACD\">0.45</td><td class=\"displayNone\" data-column-name=\"eq_revenue\">94.19B</td><td class=\"displayNone\" data-column-name=\"avg_volume\">7.38K</td><td class=\"displayNone\" data-column-name=\"eq_eps\">3.10</td><td class=\"displayNone\" data-column-name=\"eq_beta\">1.40</td><td class=\"displayNone\" data-column-name=\"eq_dividend\">72.50</td><td class=\"displayNone\" data-column-name=\"eq_yield\">-</td><td class=\"left displayNone\" data-column-name=\"tech_sum_900\">Strong Buy</td><td class=\"left displayNone\" data-column-name=\"tech_sum_3600\">Strong Buy</td><td class=\"left displayNone\" data-column-name=\"tech_sum_86400\">Strong Buy</td><td class=\"left displayNone\" data-column-name=\"tech_sum_week\">Strong Buy</td><td class=\"left displayNone\" data-column-name=\"tech_sum_month\">Strong Buy</td><td class=\"displayNone\" data-column-name=\"daily\">1.28</td><td class=\"displayNone\" data-column-name=\"week\">1.74</td><td class=\"displayNone\" data-column-name=\"month\">0.56</td><td class=\"displayNone\" data-column-name=\"ytd\">0.11</td><td class=\"displayNone\" data-column-name=\"year\">1.82</td><td class=\"displayNone\" data-column-name=\"3year\">-14.70</td><td class=\"displayNone\" data-column-name=\"eq_one_year_return\">2.08</td><td class=\"displayNone\" data-column-name=\"yield_us\">6.01%</td><td class=\"displayNone\" data-column-name=\"peexclxor_us\">-</td><td class=\"displayNone\" data-column-name=\"ttmpr2rev_us\">-</td><td class=\"displayNone\" data-column-name=\"aprfcfps_us\">-</td><td class=\"displayNone\" data-column-name=\"ttmprfcfps_us\">-</td><td class=\"displayNone\" data-column-name=\"price2bk_us\">-</td><td class=\"displayNone\" data-column-name=\"pr2tanbk_us\">-</td><td class=\"displayNone\" data-column-name=\"epschngyr_us\">-58.39</td><td class=\"displayNone\" data-column-name=\"ttmepschg_us\">-3.40</td><td class=\"displayNone\" data-column-name=\"epstrendgr_us\">-</td><td class=\"displayNone\" data-column-name=\"revchngyr_us\">-11.03</td><td class=\"displayNone\" data-column-name=\"ttmrevchg_us\">1.93</td><td class=\"displayNone\" data-column-name=\"revtrendgr_us\">-</td><td class=\"displayNone\" data-column-name=\"csptrendgr_us\">-</td><td class=\"displayNone\" data-column-name=\"ttmastturn_us\">-</td><td class=\"displayNone\" data-column-name=\"ttminvturn_us\">-</td><td class=\"displayNone\" data-column-name=\"ttmrevpere_us\">-</td><td class=\"displayNone\" data-column-name=\"ttmniperem_us\">-</td><td class=\"displayNone\" data-column-name=\"ttmrecturn_us\">-</td><td class=\"displayNone\" data-column-name=\"a52_week_high\">1240</td><td class=\"displayNone\" data-column-name=\"a52_week_low\">1036.88</td><td class=\"displayNone\" data-column-name=\"a52_week_high_diff\">-2.69</td><td class=\"displayNone\" data-column-name=\"a52_week_low_diff\">16.37</td><td class=\"displayNone\" data-column-name=\"month_change\">-2.78%</td><td class=\"displayNone\" data-column-name=\"ttmgrosmgn_us\">-</td><td class=\"displayNone\" data-column-name=\"grosmgn5yr_us\">-</td><td class=\"displayNone\" data-column-name=\"ttmopmgn_us\">-</td><td class=\"displayNone\" data-column-name=\"opmgn5yr_us\">-</td><td class=\"displayNone\" data-column-name=\"ttmptmgn_us\">-</td><td class=\"displayNone\" data-column-name=\"ptmgn5yr_us\">-</td><td class=\"displayNone\" data-column-name=\"ttmnpmgn_us\">-</td><td class=\"displayNone\" data-column-name=\"margin5yr_us\">-</td><td class=\"displayNone\" data-column-name=\"qquickrati_us\">-</td><td class=\"displayNone\" data-column-name=\"qcurratio_us\">-</td><td class=\"displayNone\" data-column-name=\"qltd2eq_us\">-</td><td class=\"displayNone\" data-column-name=\"qtotd2eq_us\">-</td><td class=\"displayNone\" data-column-name=\"yld5yavg_us\">-</td><td class=\"displayNone\" data-column-name=\"divgrpct_us\">-</td><td class=\"displayNone\" data-column-name=\"ttmpayrat_us\">34.27</td><td class=\"displayNone\" data-column-name=\"ADX\">22.16</td><td class=\"displayNone\" data-column-name=\"ATR\">11.87</td><td class=\"displayNone\" data-column-name=\"BullBear\">19.87</td><td class=\"displayNone\" data-column-name=\"CCI\">215.82</td><td class=\"displayNone\" data-column-name=\"HL\">9.80</td><td class=\"displayNone\" data-column-name=\"ROC\">1.57</td><td class=\"displayNone\" data-column-name=\"RSI\">58.51</td><td class=\"displayNone\" data-column-name=\"STOCH\">34.76</td><td class=\"displayNone\" data-column-name=\"STOCHRSI\">100.00</td><td class=\"displayNone\" data-column-name=\"UO\">40.44</td><td class=\"displayNone\" data-column-name=\"WilliamsR\">-4.64</td> <td></td>\n",
      "</tr><tr>\n",
      "<td class=\"flag\"><span class=\"ceFlags USA\"></span></td>\n",
      "<td class=\"symbol left bold elp\" data-column-name=\"name_trans\"><a href=\"/equities/bank-of-america-corp-pl-adr\" target=\"_blank\" title=\"Bank of America Corp Pl ADR\">Bank of America Corp Pl ADR</a></td>\n",
      "<td class=\"left\" data-column-name=\"viewData.symbol\">BML_pl</td>\n",
      "<td class=\"left displayNone\" data-column-name=\"exchange_trans\">NYSE</td><td class=\"left displayNone\" data-column-name=\"sector_trans\">Financials</td><td class=\"left displayNone\" data-column-name=\"industry_trans\">Banking Services</td><td data-column-name=\"last\">22.15</td><td data-column-name=\"pair_change_percent\">0.09%</td><td data-column-name=\"eq_market_cap\">280.27B</td><td data-column-name=\"turnover_volume\">9.65K</td><td class=\"displayNone\" data-column-name=\"eq_pe_ratio\">11.52</td><td class=\"displayNone\" data-column-name=\"MACD\">0.04</td><td class=\"displayNone\" data-column-name=\"eq_revenue\">94.19B</td><td class=\"displayNone\" data-column-name=\"avg_volume\">18.84K</td><td class=\"displayNone\" data-column-name=\"eq_eps\">3.10</td><td class=\"displayNone\" data-column-name=\"eq_beta\">1.40</td><td class=\"displayNone\" data-column-name=\"eq_dividend\">1.57</td><td class=\"displayNone\" data-column-name=\"eq_yield\">-</td><td class=\"left displayNone\" data-column-name=\"tech_sum_900\">Strong Buy</td><td class=\"left displayNone\" data-column-name=\"tech_sum_3600\">Strong Buy</td><td class=\"left displayNone\" data-column-name=\"tech_sum_86400\">Strong Buy</td><td class=\"left displayNone\" data-column-name=\"tech_sum_week\">Strong Buy</td><td class=\"left displayNone\" data-column-name=\"tech_sum_month\">Strong Buy</td><td class=\"displayNone\" data-column-name=\"daily\">0.09</td><td class=\"displayNone\" data-column-name=\"week\">0.68</td><td class=\"displayNone\" data-column-name=\"month\">-0.45</td><td class=\"displayNone\" data-column-name=\"ytd\">2.78</td><td class=\"displayNone\" data-column-name=\"year\">8.42</td><td class=\"displayNone\" data-column-name=\"3year\">-10.29</td><td class=\"displayNone\" data-column-name=\"eq_one_year_return\">5.63</td><td class=\"displayNone\" data-column-name=\"yield_us\">7.05%</td><td class=\"displayNone\" data-column-name=\"peexclxor_us\">11.27</td><td class=\"displayNone\" data-column-name=\"ttmpr2rev_us\">2.97</td><td class=\"displayNone\" data-column-name=\"aprfcfps_us\">6.23</td><td class=\"displayNone\" data-column-name=\"ttmprfcfps_us\">0.00</td><td class=\"displayNone\" data-column-name=\"price2bk_us\">1.06</td><td class=\"displayNone\" data-column-name=\"pr2tanbk_us\">1.44</td><td class=\"displayNone\" data-column-name=\"epschngyr_us\">-58.39</td><td class=\"displayNone\" data-column-name=\"ttmepschg_us\">-3.40</td><td class=\"displayNone\" data-column-name=\"epstrendgr_us\">3.21</td><td class=\"displayNone\" data-column-name=\"revchngyr_us\">-11.03</td><td class=\"displayNone\" data-column-name=\"ttmrevchg_us\">1.93</td><td class=\"displayNone\" data-column-name=\"revtrendgr_us\">1.43</td><td class=\"displayNone\" data-column-name=\"csptrendgr_us\">0.00</td><td class=\"displayNone\" data-column-name=\"ttmastturn_us\">-</td><td class=\"displayNone\" data-column-name=\"ttminvturn_us\">-</td><td class=\"displayNone\" data-column-name=\"ttmrevpere_us\">442.19</td><td class=\"displayNone\" data-column-name=\"ttmniperem_us\">124.48</td><td class=\"displayNone\" data-column-name=\"ttmrecturn_us\">-</td><td class=\"displayNone\" data-column-name=\"a52_week_high\">22.45</td><td class=\"displayNone\" data-column-name=\"a52_week_low\">19.07</td><td class=\"displayNone\" data-column-name=\"a52_week_high_diff\">-1.34</td><td class=\"displayNone\" data-column-name=\"a52_week_low_diff\">16.15</td><td class=\"displayNone\" data-column-name=\"month_change\">1.56%</td><td class=\"displayNone\" data-column-name=\"ttmgrosmgn_us\">-</td><td class=\"displayNone\" data-column-name=\"grosmgn5yr_us\">0.00</td><td class=\"displayNone\" data-column-name=\"ttmopmgn_us\">30.09</td><td class=\"displayNone\" data-column-name=\"opmgn5yr_us\">34.07</td><td class=\"displayNone\" data-column-name=\"ttmptmgn_us\">30.09</td><td class=\"displayNone\" data-column-name=\"ptmgn5yr_us\">33.95</td><td class=\"displayNone\" data-column-name=\"ttmnpmgn_us\">28.15</td><td class=\"displayNone\" data-column-name=\"margin5yr_us\">30.35</td><td class=\"displayNone\" data-column-name=\"qquickrati_us\">0.31</td><td class=\"displayNone\" data-column-name=\"qcurratio_us\">-</td><td class=\"displayNone\" data-column-name=\"qltd2eq_us\">104.64</td><td class=\"displayNone\" data-column-name=\"qtotd2eq_us\">258.87</td><td class=\"displayNone\" data-column-name=\"yld5yavg_us\">2.71</td><td class=\"displayNone\" data-column-name=\"divgrpct_us\">53.22</td><td class=\"displayNone\" data-column-name=\"ttmpayrat_us\">34.27</td><td class=\"displayNone\" data-column-name=\"ADX\">22.12</td><td class=\"displayNone\" data-column-name=\"ATR\">0.17</td><td class=\"displayNone\" data-column-name=\"BullBear\">0.22</td><td class=\"displayNone\" data-column-name=\"CCI\">170.82</td><td class=\"displayNone\" data-column-name=\"HL\">0.15</td><td class=\"displayNone\" data-column-name=\"ROC\">1.79</td><td class=\"displayNone\" data-column-name=\"RSI\">57.84</td><td class=\"displayNone\" data-column-name=\"STOCH\">57.73</td><td class=\"displayNone\" data-column-name=\"STOCHRSI\">100.00</td><td class=\"displayNone\" data-column-name=\"UO\">55.75</td><td class=\"displayNone\" data-column-name=\"WilliamsR\">-3.92</td> <td></td>\n",
      "</tr><tr>\n",
      "<td class=\"flag\"><span class=\"ceFlags USA\"></span></td>\n",
      "<td class=\"symbol left bold elp\" data-column-name=\"name_trans\"><a href=\"/equities/merrill-lynch-preferred-cap-i-pref\" target=\"_blank\" title=\"Bank of America Income Notes Due 15 December 2066\">Bank of America 15 December 2066</a></td>\n",
      "<td class=\"left\" data-column-name=\"viewData.symbol\">MER_pk</td>\n",
      "<td class=\"left displayNone\" data-column-name=\"exchange_trans\">NYSE</td><td class=\"left displayNone\" data-column-name=\"sector_trans\">Financials</td><td class=\"left displayNone\" data-column-name=\"industry_trans\">Banking Services</td><td data-column-name=\"last\">25.68</td><td data-column-name=\"pair_change_percent\">0.12%</td><td data-column-name=\"eq_market_cap\">280.27B</td><td data-column-name=\"turnover_volume\">20.93K</td><td class=\"displayNone\" data-column-name=\"eq_pe_ratio\">8.28</td><td class=\"displayNone\" data-column-name=\"MACD\">0.01</td><td class=\"displayNone\" data-column-name=\"eq_revenue\">94.19B</td><td class=\"displayNone\" data-column-name=\"avg_volume\">40.05K</td><td class=\"displayNone\" data-column-name=\"eq_eps\">3.10</td><td class=\"displayNone\" data-column-name=\"eq_beta\">1.40</td><td class=\"displayNone\" data-column-name=\"eq_dividend\">1.61</td><td class=\"displayNone\" data-column-name=\"eq_yield\">-</td><td class=\"left displayNone\" data-column-name=\"tech_sum_900\">Strong Buy</td><td class=\"left displayNone\" data-column-name=\"tech_sum_3600\">Strong Buy</td><td class=\"left displayNone\" data-column-name=\"tech_sum_86400\">Strong Buy</td><td class=\"left displayNone\" data-column-name=\"tech_sum_week\">Strong Buy</td><td class=\"left displayNone\" data-column-name=\"tech_sum_month\">Buy</td><td class=\"displayNone\" data-column-name=\"daily\">0.12</td><td class=\"displayNone\" data-column-name=\"week\">0.59</td><td class=\"displayNone\" data-column-name=\"month\">0.00</td><td class=\"displayNone\" data-column-name=\"ytd\">1.50</td><td class=\"displayNone\" data-column-name=\"year\">2.35</td><td class=\"displayNone\" data-column-name=\"3year\">-6.28</td><td class=\"displayNone\" data-column-name=\"eq_one_year_return\">1.95</td><td class=\"displayNone\" data-column-name=\"yield_us\">-</td><td class=\"displayNone\" data-column-name=\"peexclxor_us\">11.30</td><td class=\"displayNone\" data-column-name=\"ttmpr2rev_us\">2.98</td><td class=\"displayNone\" data-column-name=\"aprfcfps_us\">6.24</td><td class=\"displayNone\" data-column-name=\"ttmprfcfps_us\">0.00</td><td class=\"displayNone\" data-column-name=\"price2bk_us\">1.07</td><td class=\"displayNone\" data-column-name=\"pr2tanbk_us\">-</td><td class=\"displayNone\" data-column-name=\"epschngyr_us\">-58.39</td><td class=\"displayNone\" data-column-name=\"ttmepschg_us\">-3.40</td><td class=\"displayNone\" data-column-name=\"epstrendgr_us\">3.21</td><td class=\"displayNone\" data-column-name=\"revchngyr_us\">-11.03</td><td class=\"displayNone\" data-column-name=\"ttmrevchg_us\">1.93</td><td class=\"displayNone\" data-column-name=\"revtrendgr_us\">1.43</td><td class=\"displayNone\" data-column-name=\"csptrendgr_us\">0.00</td><td class=\"displayNone\" data-column-name=\"ttmastturn_us\">-</td><td class=\"displayNone\" data-column-name=\"ttminvturn_us\">-</td><td class=\"displayNone\" data-column-name=\"ttmrevpere_us\">442.19</td><td class=\"displayNone\" data-column-name=\"ttmniperem_us\">124.48</td><td class=\"displayNone\" data-column-name=\"ttmrecturn_us\">-</td><td class=\"displayNone\" data-column-name=\"a52_week_high\">25.89</td><td class=\"displayNone\" data-column-name=\"a52_week_low\">24.4</td><td class=\"displayNone\" data-column-name=\"a52_week_high_diff\">-0.81</td><td class=\"displayNone\" data-column-name=\"a52_week_low_diff\">5.25</td><td class=\"displayNone\" data-column-name=\"month_change\">-0.93%</td><td class=\"displayNone\" data-column-name=\"ttmgrosmgn_us\">-</td><td class=\"displayNone\" data-column-name=\"grosmgn5yr_us\">0.00</td><td class=\"displayNone\" data-column-name=\"ttmopmgn_us\">30.09</td><td class=\"displayNone\" data-column-name=\"opmgn5yr_us\">34.07</td><td class=\"displayNone\" data-column-name=\"ttmptmgn_us\">30.09</td><td class=\"displayNone\" data-column-name=\"ptmgn5yr_us\">33.95</td><td class=\"displayNone\" data-column-name=\"ttmnpmgn_us\">28.15</td><td class=\"displayNone\" data-column-name=\"margin5yr_us\">30.35</td><td class=\"displayNone\" data-column-name=\"qquickrati_us\">0.31</td><td class=\"displayNone\" data-column-name=\"qcurratio_us\">-</td><td class=\"displayNone\" data-column-name=\"qltd2eq_us\">104.64</td><td class=\"displayNone\" data-column-name=\"qtotd2eq_us\">258.87</td><td class=\"displayNone\" data-column-name=\"yld5yavg_us\">2.71</td><td class=\"displayNone\" data-column-name=\"divgrpct_us\">-</td><td class=\"displayNone\" data-column-name=\"ttmpayrat_us\">34.27</td><td class=\"displayNone\" data-column-name=\"ADX\">22.69</td><td class=\"displayNone\" data-column-name=\"ATR\">0.13</td><td class=\"displayNone\" data-column-name=\"BullBear\">0.06</td><td class=\"displayNone\" data-column-name=\"CCI\">79.74</td><td class=\"displayNone\" data-column-name=\"HL\">0.02</td><td class=\"displayNone\" data-column-name=\"ROC\">0.11</td><td class=\"displayNone\" data-column-name=\"RSI\">55.60</td><td class=\"displayNone\" data-column-name=\"STOCH\">35.61</td><td class=\"displayNone\" data-column-name=\"STOCHRSI\">82.31</td><td class=\"displayNone\" data-column-name=\"UO\">45.14</td><td class=\"displayNone\" data-column-name=\"WilliamsR\">-39.39</td> <td></td>\n",
      "</tr><tr>\n",
      "<td class=\"flag\"><span class=\"ceFlags USA\"></span></td>\n",
      "<td class=\"symbol left bold elp\" data-column-name=\"name_trans\"><a href=\"/equities/bank-of-america-corp-pg-adr\" target=\"_blank\" title=\"Bank of America Corp Pg ADR\">Bank of America Corp Pg ADR</a></td>\n",
      "<td class=\"left\" data-column-name=\"viewData.symbol\">BML_pg</td>\n",
      "<td class=\"left displayNone\" data-column-name=\"exchange_trans\">NYSE</td><td class=\"left displayNone\" data-column-name=\"sector_trans\">Financials</td><td class=\"left displayNone\" data-column-name=\"industry_trans\">Banking Services</td><td data-column-name=\"last\">21.82</td><td data-column-name=\"pair_change_percent\">0.16%</td><td data-column-name=\"eq_market_cap\">280.27B</td><td data-column-name=\"turnover_volume\">2.58K</td><td class=\"displayNone\" data-column-name=\"eq_pe_ratio\">11.52</td><td class=\"displayNone\" data-column-name=\"MACD\">0.12</td><td class=\"displayNone\" data-column-name=\"eq_revenue\">94.19B</td><td class=\"displayNone\" data-column-name=\"avg_volume\">9.43K</td><td class=\"displayNone\" data-column-name=\"eq_eps\">3.10</td><td class=\"displayNone\" data-column-name=\"eq_beta\">1.40</td><td class=\"displayNone\" data-column-name=\"eq_dividend\">1.60</td><td class=\"displayNone\" data-column-name=\"eq_yield\">-</td><td class=\"left displayNone\" data-column-name=\"tech_sum_900\">Strong Buy</td><td class=\"left displayNone\" data-column-name=\"tech_sum_3600\">Strong Buy</td><td class=\"left displayNone\" data-column-name=\"tech_sum_86400\">Strong Buy</td><td class=\"left displayNone\" data-column-name=\"tech_sum_week\">Strong Buy</td><td class=\"left displayNone\" data-column-name=\"tech_sum_month\">Strong Buy</td><td class=\"displayNone\" data-column-name=\"daily\">0.16</td><td class=\"displayNone\" data-column-name=\"week\">1.85</td><td class=\"displayNone\" data-column-name=\"month\">1.30</td><td class=\"displayNone\" data-column-name=\"ytd\">5.62</td><td class=\"displayNone\" data-column-name=\"year\">6.44</td><td class=\"displayNone\" data-column-name=\"3year\">0.63</td><td class=\"displayNone\" data-column-name=\"eq_one_year_return\">4.45</td><td class=\"displayNone\" data-column-name=\"yield_us\">7.33%</td><td class=\"displayNone\" data-column-name=\"peexclxor_us\">11.27</td><td class=\"displayNone\" data-column-name=\"ttmpr2rev_us\">2.97</td><td class=\"displayNone\" data-column-name=\"aprfcfps_us\">6.23</td><td class=\"displayNone\" data-column-name=\"ttmprfcfps_us\">0.00</td><td class=\"displayNone\" data-column-name=\"price2bk_us\">1.06</td><td class=\"displayNone\" data-column-name=\"pr2tanbk_us\">1.44</td><td class=\"displayNone\" data-column-name=\"epschngyr_us\">-58.39</td><td class=\"displayNone\" data-column-name=\"ttmepschg_us\">-3.40</td><td class=\"displayNone\" data-column-name=\"epstrendgr_us\">3.21</td><td class=\"displayNone\" data-column-name=\"revchngyr_us\">-11.03</td><td class=\"displayNone\" data-column-name=\"ttmrevchg_us\">1.93</td><td class=\"displayNone\" data-column-name=\"revtrendgr_us\">1.43</td><td class=\"displayNone\" data-column-name=\"csptrendgr_us\">0.00</td><td class=\"displayNone\" data-column-name=\"ttmastturn_us\">-</td><td class=\"displayNone\" data-column-name=\"ttminvturn_us\">-</td><td class=\"displayNone\" data-column-name=\"ttmrevpere_us\">442.19</td><td class=\"displayNone\" data-column-name=\"ttmniperem_us\">124.48</td><td class=\"displayNone\" data-column-name=\"ttmrecturn_us\">-</td><td class=\"displayNone\" data-column-name=\"a52_week_high\">21.96</td><td class=\"displayNone\" data-column-name=\"a52_week_low\">19.3</td><td class=\"displayNone\" data-column-name=\"a52_week_high_diff\">-0.64</td><td class=\"displayNone\" data-column-name=\"a52_week_low_diff\">13.06</td><td class=\"displayNone\" data-column-name=\"month_change\">-0.23%</td><td class=\"displayNone\" data-column-name=\"ttmgrosmgn_us\">-</td><td class=\"displayNone\" data-column-name=\"grosmgn5yr_us\">0.00</td><td class=\"displayNone\" data-column-name=\"ttmopmgn_us\">30.09</td><td class=\"displayNone\" data-column-name=\"opmgn5yr_us\">34.07</td><td class=\"displayNone\" data-column-name=\"ttmptmgn_us\">30.09</td><td class=\"displayNone\" data-column-name=\"ptmgn5yr_us\">33.95</td><td class=\"displayNone\" data-column-name=\"ttmnpmgn_us\">28.15</td><td class=\"displayNone\" data-column-name=\"margin5yr_us\">30.35</td><td class=\"displayNone\" data-column-name=\"qquickrati_us\">0.31</td><td class=\"displayNone\" data-column-name=\"qcurratio_us\">-</td><td class=\"displayNone\" data-column-name=\"qltd2eq_us\">104.64</td><td class=\"displayNone\" data-column-name=\"qtotd2eq_us\">258.87</td><td class=\"displayNone\" data-column-name=\"yld5yavg_us\">2.71</td><td class=\"displayNone\" data-column-name=\"divgrpct_us\">68.66</td><td class=\"displayNone\" data-column-name=\"ttmpayrat_us\">34.27</td><td class=\"displayNone\" data-column-name=\"ADX\">23.90</td><td class=\"displayNone\" data-column-name=\"ATR\">0.21</td><td class=\"displayNone\" data-column-name=\"BullBear\">0.46</td><td class=\"displayNone\" data-column-name=\"CCI\">195.10</td><td class=\"displayNone\" data-column-name=\"HL\">0.31</td><td class=\"displayNone\" data-column-name=\"ROC\">2.73</td><td class=\"displayNone\" data-column-name=\"RSI\">64.04</td><td class=\"displayNone\" data-column-name=\"STOCH\">69.79</td><td class=\"displayNone\" data-column-name=\"STOCHRSI\">100.00</td><td class=\"displayNone\" data-column-name=\"UO\">76.26</td><td class=\"displayNone\" data-column-name=\"WilliamsR\">-6.58</td> <td></td>\n",
      "</tr><tr>\n",
      "<td class=\"flag\"><span class=\"ceFlags USA\"></span></td>\n",
      "<td class=\"symbol left bold elp\" data-column-name=\"name_trans\"><a href=\"/equities/bank-of-america-corp-ph-adr\" target=\"_blank\" title=\"Bank of America Corp Ph ADR\">Bank of America Corp Ph ADR</a></td>\n",
      "<td class=\"left\" data-column-name=\"viewData.symbol\">BML_ph</td>\n",
      "<td class=\"left displayNone\" data-column-name=\"exchange_trans\">NYSE</td><td class=\"left displayNone\" data-column-name=\"sector_trans\">Financials</td><td class=\"left displayNone\" data-column-name=\"industry_trans\">Banking Services</td><td data-column-name=\"last\">21.41</td><td data-column-name=\"pair_change_percent\">-0.05%</td><td data-column-name=\"eq_market_cap\">280.27B</td><td data-column-name=\"turnover_volume\">62.74K</td><td class=\"displayNone\" data-column-name=\"eq_pe_ratio\">11.52</td><td class=\"displayNone\" data-column-name=\"MACD\">0.15</td><td class=\"displayNone\" data-column-name=\"eq_revenue\">94.19B</td><td class=\"displayNone\" data-column-name=\"avg_volume\">42.00K</td><td class=\"displayNone\" data-column-name=\"eq_eps\">3.10</td><td class=\"displayNone\" data-column-name=\"eq_beta\">1.40</td><td class=\"displayNone\" data-column-name=\"eq_dividend\">1.61</td><td class=\"displayNone\" data-column-name=\"eq_yield\">-</td><td class=\"left displayNone\" data-column-name=\"tech_sum_900\">Strong Buy</td><td class=\"left displayNone\" data-column-name=\"tech_sum_3600\">Strong Buy</td><td class=\"left displayNone\" data-column-name=\"tech_sum_86400\">Strong Buy</td><td class=\"left displayNone\" data-column-name=\"tech_sum_week\">Strong Buy</td><td class=\"left displayNone\" data-column-name=\"tech_sum_month\">Strong Buy</td><td class=\"displayNone\" data-column-name=\"daily\">-0.05</td><td class=\"displayNone\" data-column-name=\"week\">0.80</td><td class=\"displayNone\" data-column-name=\"month\">0.94</td><td class=\"displayNone\" data-column-name=\"ytd\">5.31</td><td class=\"displayNone\" data-column-name=\"year\">5.36</td><td class=\"displayNone\" data-column-name=\"3year\">0.66</td><td class=\"displayNone\" data-column-name=\"eq_one_year_return\">3.58</td><td class=\"displayNone\" data-column-name=\"yield_us\">7.5%</td><td class=\"displayNone\" data-column-name=\"peexclxor_us\">11.27</td><td class=\"displayNone\" data-column-name=\"ttmpr2rev_us\">2.97</td><td class=\"displayNone\" data-column-name=\"aprfcfps_us\">6.23</td><td class=\"displayNone\" data-column-name=\"ttmprfcfps_us\">0.00</td><td class=\"displayNone\" data-column-name=\"price2bk_us\">1.06</td><td class=\"displayNone\" data-column-name=\"pr2tanbk_us\">1.44</td><td class=\"displayNone\" data-column-name=\"epschngyr_us\">-58.39</td><td class=\"displayNone\" data-column-name=\"ttmepschg_us\">-3.40</td><td class=\"displayNone\" data-column-name=\"epstrendgr_us\">3.21</td><td class=\"displayNone\" data-column-name=\"revchngyr_us\">-11.03</td><td class=\"displayNone\" data-column-name=\"ttmrevchg_us\">1.93</td><td class=\"displayNone\" data-column-name=\"revtrendgr_us\">1.43</td><td class=\"displayNone\" data-column-name=\"csptrendgr_us\">0.00</td><td class=\"displayNone\" data-column-name=\"ttmastturn_us\">-</td><td class=\"displayNone\" data-column-name=\"ttminvturn_us\">-</td><td class=\"displayNone\" data-column-name=\"ttmrevpere_us\">442.19</td><td class=\"displayNone\" data-column-name=\"ttmniperem_us\">124.48</td><td class=\"displayNone\" data-column-name=\"ttmrecturn_us\">-</td><td class=\"displayNone\" data-column-name=\"a52_week_high\">21.68</td><td class=\"displayNone\" data-column-name=\"a52_week_low\">18.6</td><td class=\"displayNone\" data-column-name=\"a52_week_high_diff\">-1.25</td><td class=\"displayNone\" data-column-name=\"a52_week_low_diff\">15.11</td><td class=\"displayNone\" data-column-name=\"month_change\">0.91%</td><td class=\"displayNone\" data-column-name=\"ttmgrosmgn_us\">-</td><td class=\"displayNone\" data-column-name=\"grosmgn5yr_us\">0.00</td><td class=\"displayNone\" data-column-name=\"ttmopmgn_us\">30.09</td><td class=\"displayNone\" data-column-name=\"opmgn5yr_us\">34.07</td><td class=\"displayNone\" data-column-name=\"ttmptmgn_us\">30.09</td><td class=\"displayNone\" data-column-name=\"ptmgn5yr_us\">33.95</td><td class=\"displayNone\" data-column-name=\"ttmnpmgn_us\">28.15</td><td class=\"displayNone\" data-column-name=\"margin5yr_us\">30.35</td><td class=\"displayNone\" data-column-name=\"qquickrati_us\">0.31</td><td class=\"displayNone\" data-column-name=\"qcurratio_us\">-</td><td class=\"displayNone\" data-column-name=\"qltd2eq_us\">104.64</td><td class=\"displayNone\" data-column-name=\"qtotd2eq_us\">258.87</td><td class=\"displayNone\" data-column-name=\"yld5yavg_us\">2.71</td><td class=\"displayNone\" data-column-name=\"divgrpct_us\">70.53</td><td class=\"displayNone\" data-column-name=\"ttmpayrat_us\">34.27</td><td class=\"displayNone\" data-column-name=\"ADX\">46.21</td><td class=\"displayNone\" data-column-name=\"ATR\">0.16</td><td class=\"displayNone\" data-column-name=\"BullBear\">0.38</td><td class=\"displayNone\" data-column-name=\"CCI\">158.84</td><td class=\"displayNone\" data-column-name=\"HL\">0.26</td><td class=\"displayNone\" data-column-name=\"ROC\">2.73</td><td class=\"displayNone\" data-column-name=\"RSI\">69.64</td><td class=\"displayNone\" data-column-name=\"STOCH\">79.54</td><td class=\"displayNone\" data-column-name=\"STOCHRSI\">100.00</td><td class=\"displayNone\" data-column-name=\"UO\">73.03</td><td class=\"displayNone\" data-column-name=\"WilliamsR\">0.00</td> <td></td>\n",
      "</tr><tr>\n",
      "<td class=\"flag\"><span class=\"ceFlags USA\"></span></td>\n",
      "<td class=\"symbol left bold elp\" data-column-name=\"name_trans\"><a href=\"/equities/bank-of-america-corp-pj-adr\" target=\"_blank\" title=\"Bank of America Corp Pj ADR\">Bank of America Corp Pj ADR</a></td>\n",
      "<td class=\"left\" data-column-name=\"viewData.symbol\">BML_pj</td>\n",
      "<td class=\"left displayNone\" data-column-name=\"exchange_trans\">NYSE</td><td class=\"left displayNone\" data-column-name=\"sector_trans\">Financials</td><td class=\"left displayNone\" data-column-name=\"industry_trans\">Banking Services</td><td data-column-name=\"last\">22.41</td><td data-column-name=\"pair_change_percent\">-0.09%</td><td data-column-name=\"eq_market_cap\">280.27B</td><td data-column-name=\"turnover_volume\">8.87K</td><td class=\"displayNone\" data-column-name=\"eq_pe_ratio\">11.52</td><td class=\"displayNone\" data-column-name=\"MACD\">0.07</td><td class=\"displayNone\" data-column-name=\"eq_revenue\">94.19B</td><td class=\"displayNone\" data-column-name=\"avg_volume\">32.38K</td><td class=\"displayNone\" data-column-name=\"eq_eps\">3.10</td><td class=\"displayNone\" data-column-name=\"eq_beta\">1.40</td><td class=\"displayNone\" data-column-name=\"eq_dividend\">1.64</td><td class=\"displayNone\" data-column-name=\"eq_yield\">-</td><td class=\"left displayNone\" data-column-name=\"tech_sum_900\">Neutral</td><td class=\"left displayNone\" data-column-name=\"tech_sum_3600\">Buy</td><td class=\"left displayNone\" data-column-name=\"tech_sum_86400\">Strong Buy</td><td class=\"left displayNone\" data-column-name=\"tech_sum_week\">Strong Buy</td><td class=\"left displayNone\" data-column-name=\"tech_sum_month\">Strong Buy</td><td class=\"displayNone\" data-column-name=\"daily\">-0.09</td><td class=\"displayNone\" data-column-name=\"week\">-0.31</td><td class=\"displayNone\" data-column-name=\"month\">-0.31</td><td class=\"displayNone\" data-column-name=\"ytd\">1.63</td><td class=\"displayNone\" data-column-name=\"year\">6.97</td><td class=\"displayNone\" data-column-name=\"3year\">-10.20</td><td class=\"displayNone\" data-column-name=\"eq_one_year_return\">6.31</td><td class=\"displayNone\" data-column-name=\"yield_us\">7.28%</td><td class=\"displayNone\" data-column-name=\"peexclxor_us\">-</td><td class=\"displayNone\" data-column-name=\"ttmpr2rev_us\">-</td><td class=\"displayNone\" data-column-name=\"aprfcfps_us\">-</td><td class=\"displayNone\" data-column-name=\"ttmprfcfps_us\">-</td><td class=\"displayNone\" data-column-name=\"price2bk_us\">-</td><td class=\"displayNone\" data-column-name=\"pr2tanbk_us\">-</td><td class=\"displayNone\" data-column-name=\"epschngyr_us\">-58.39</td><td class=\"displayNone\" data-column-name=\"ttmepschg_us\">-3.40</td><td class=\"displayNone\" data-column-name=\"epstrendgr_us\">-</td><td class=\"displayNone\" data-column-name=\"revchngyr_us\">-11.03</td><td class=\"displayNone\" data-column-name=\"ttmrevchg_us\">1.93</td><td class=\"displayNone\" data-column-name=\"revtrendgr_us\">-</td><td class=\"displayNone\" data-column-name=\"csptrendgr_us\">-</td><td class=\"displayNone\" data-column-name=\"ttmastturn_us\">-</td><td class=\"displayNone\" data-column-name=\"ttminvturn_us\">-</td><td class=\"displayNone\" data-column-name=\"ttmrevpere_us\">-</td><td class=\"displayNone\" data-column-name=\"ttmniperem_us\">-</td><td class=\"displayNone\" data-column-name=\"ttmrecturn_us\">-</td><td class=\"displayNone\" data-column-name=\"a52_week_high\">22.84</td><td class=\"displayNone\" data-column-name=\"a52_week_low\">19.5</td><td class=\"displayNone\" data-column-name=\"a52_week_high_diff\">-1.88</td><td class=\"displayNone\" data-column-name=\"a52_week_low_diff\">14.92</td><td class=\"displayNone\" data-column-name=\"month_change\">1.9%</td><td class=\"displayNone\" data-column-name=\"ttmgrosmgn_us\">-</td><td class=\"displayNone\" data-column-name=\"grosmgn5yr_us\">-</td><td class=\"displayNone\" data-column-name=\"ttmopmgn_us\">-</td><td class=\"displayNone\" data-column-name=\"opmgn5yr_us\">-</td><td class=\"displayNone\" data-column-name=\"ttmptmgn_us\">-</td><td class=\"displayNone\" data-column-name=\"ptmgn5yr_us\">-</td><td class=\"displayNone\" data-column-name=\"ttmnpmgn_us\">-</td><td class=\"displayNone\" data-column-name=\"margin5yr_us\">-</td><td class=\"displayNone\" data-column-name=\"qquickrati_us\">-</td><td class=\"displayNone\" data-column-name=\"qcurratio_us\">-</td><td class=\"displayNone\" data-column-name=\"qltd2eq_us\">-</td><td class=\"displayNone\" data-column-name=\"qtotd2eq_us\">-</td><td class=\"displayNone\" data-column-name=\"yld5yavg_us\">-</td><td class=\"displayNone\" data-column-name=\"divgrpct_us\">-</td><td class=\"displayNone\" data-column-name=\"ttmpayrat_us\">34.27</td><td class=\"displayNone\" data-column-name=\"ADX\">27.68</td><td class=\"displayNone\" data-column-name=\"ATR\">0.21</td><td class=\"displayNone\" data-column-name=\"BullBear\">0.29</td><td class=\"displayNone\" data-column-name=\"CCI\">144.81</td><td class=\"displayNone\" data-column-name=\"HL\">0.06</td><td class=\"displayNone\" data-column-name=\"ROC\">1.58</td><td class=\"displayNone\" data-column-name=\"RSI\">57.23</td><td class=\"displayNone\" data-column-name=\"STOCH\">65.06</td><td class=\"displayNone\" data-column-name=\"STOCHRSI\">70.46</td><td class=\"displayNone\" data-column-name=\"UO\">61.93</td><td class=\"displayNone\" data-column-name=\"WilliamsR\">-23.21</td> <td></td>\n",
      "</tr><tr>\n",
      "<td class=\"flag\"><span class=\"ceFlags USA\"></span></td>\n",
      "<td class=\"symbol left bold elp\" data-column-name=\"name_trans\"><a href=\"/equities/bank-of-america\" target=\"_blank\" title=\"Bank of America Corp\">Bank of America</a></td>\n",
      "<td class=\"left\" data-column-name=\"viewData.symbol\">BAC</td>\n",
      "<td class=\"left displayNone\" data-column-name=\"exchange_trans\">NYSE</td><td class=\"left displayNone\" data-column-name=\"sector_trans\">Financials</td><td class=\"left displayNone\" data-column-name=\"industry_trans\">Banking Services</td><td data-column-name=\"last\">35.59</td><td data-column-name=\"pair_change_percent\">-0.11%</td><td data-column-name=\"eq_market_cap\">280.27B</td><td data-column-name=\"turnover_volume\">40.75M</td><td class=\"displayNone\" data-column-name=\"eq_pe_ratio\">11.52</td><td class=\"displayNone\" data-column-name=\"MACD\">0.53</td><td class=\"displayNone\" data-column-name=\"eq_revenue\">94.19B</td><td class=\"displayNone\" data-column-name=\"avg_volume\">41.58M</td><td class=\"displayNone\" data-column-name=\"eq_eps\">3.10</td><td class=\"displayNone\" data-column-name=\"eq_beta\">1.40</td><td class=\"displayNone\" data-column-name=\"eq_dividend\">0.96</td><td class=\"displayNone\" data-column-name=\"eq_yield\">-</td><td class=\"left displayNone\" data-column-name=\"tech_sum_900\">Strong Sell</td><td class=\"left displayNone\" data-column-name=\"tech_sum_3600\">Buy</td><td class=\"left displayNone\" data-column-name=\"tech_sum_86400\">Strong Buy</td><td class=\"left displayNone\" data-column-name=\"tech_sum_week\">Strong Buy</td><td class=\"left displayNone\" data-column-name=\"tech_sum_month\">Strong Buy</td><td class=\"displayNone\" data-column-name=\"daily\">-0.11</td><td class=\"displayNone\" data-column-name=\"week\">3.61</td><td class=\"displayNone\" data-column-name=\"month\">7.62</td><td class=\"displayNone\" data-column-name=\"ytd\">5.70</td><td class=\"displayNone\" data-column-name=\"year\">17.58</td><td class=\"displayNone\" data-column-name=\"3year\">-4.76</td><td class=\"displayNone\" data-column-name=\"eq_one_year_return\">16.54</td><td class=\"displayNone\" data-column-name=\"yield_us\">2.7%</td><td class=\"displayNone\" data-column-name=\"peexclxor_us\">11.27</td><td class=\"displayNone\" data-column-name=\"ttmpr2rev_us\">2.97</td><td class=\"displayNone\" data-column-name=\"aprfcfps_us\">6.23</td><td class=\"displayNone\" data-column-name=\"ttmprfcfps_us\">0.00</td><td class=\"displayNone\" data-column-name=\"price2bk_us\">1.06</td><td class=\"displayNone\" data-column-name=\"pr2tanbk_us\">1.44</td><td class=\"displayNone\" data-column-name=\"epschngyr_us\">-58.39</td><td class=\"displayNone\" data-column-name=\"ttmepschg_us\">-3.40</td><td class=\"displayNone\" data-column-name=\"epstrendgr_us\">3.21</td><td class=\"displayNone\" data-column-name=\"revchngyr_us\">-11.03</td><td class=\"displayNone\" data-column-name=\"ttmrevchg_us\">1.93</td><td class=\"displayNone\" data-column-name=\"revtrendgr_us\">1.43</td><td class=\"displayNone\" data-column-name=\"csptrendgr_us\">0.00</td><td class=\"displayNone\" data-column-name=\"ttmastturn_us\">-</td><td class=\"displayNone\" data-column-name=\"ttminvturn_us\">-</td><td class=\"displayNone\" data-column-name=\"ttmrevpere_us\">442.19</td><td class=\"displayNone\" data-column-name=\"ttmniperem_us\">124.48</td><td class=\"displayNone\" data-column-name=\"ttmrecturn_us\">-</td><td class=\"displayNone\" data-column-name=\"a52_week_high\">36.13</td><td class=\"displayNone\" data-column-name=\"a52_week_low\">24.96</td><td class=\"displayNone\" data-column-name=\"a52_week_high_diff\">-1.49</td><td class=\"displayNone\" data-column-name=\"a52_week_low_diff\">42.59</td><td class=\"displayNone\" data-column-name=\"month_change\">1.5%</td><td class=\"displayNone\" data-column-name=\"ttmgrosmgn_us\">-</td><td class=\"displayNone\" data-column-name=\"grosmgn5yr_us\">0.00</td><td class=\"displayNone\" data-column-name=\"ttmopmgn_us\">30.09</td><td class=\"displayNone\" data-column-name=\"opmgn5yr_us\">34.07</td><td class=\"displayNone\" data-column-name=\"ttmptmgn_us\">30.09</td><td class=\"displayNone\" data-column-name=\"ptmgn5yr_us\">33.95</td><td class=\"displayNone\" data-column-name=\"ttmnpmgn_us\">28.15</td><td class=\"displayNone\" data-column-name=\"margin5yr_us\">30.35</td><td class=\"displayNone\" data-column-name=\"qquickrati_us\">0.31</td><td class=\"displayNone\" data-column-name=\"qcurratio_us\">-</td><td class=\"displayNone\" data-column-name=\"qltd2eq_us\">104.64</td><td class=\"displayNone\" data-column-name=\"qtotd2eq_us\">258.87</td><td class=\"displayNone\" data-column-name=\"yld5yavg_us\">2.71</td><td class=\"displayNone\" data-column-name=\"divgrpct_us\">9.09</td><td class=\"displayNone\" data-column-name=\"ttmpayrat_us\">34.27</td><td class=\"displayNone\" data-column-name=\"ADX\">33.31</td><td class=\"displayNone\" data-column-name=\"ATR\">0.68</td><td class=\"displayNone\" data-column-name=\"BullBear\">2.13</td><td class=\"displayNone\" data-column-name=\"CCI\">151.72</td><td class=\"displayNone\" data-column-name=\"HL\">0.78</td><td class=\"displayNone\" data-column-name=\"ROC\">4.43</td><td class=\"displayNone\" data-column-name=\"RSI\">68.59</td><td class=\"displayNone\" data-column-name=\"STOCH\">68.63</td><td class=\"displayNone\" data-column-name=\"STOCHRSI\">96.90</td><td class=\"displayNone\" data-column-name=\"UO\">56.89</td><td class=\"displayNone\" data-column-name=\"WilliamsR\">-17.94</td> <td></td>\n",
      "</tr><tr>\n",
      "<td class=\"flag\"><span class=\"ceFlags USA\"></span></td>\n",
      "<td class=\"symbol left bold elp\" data-column-name=\"name_trans\"><a href=\"/equities/nestle-sa-pk\" target=\"_blank\" title=\"Nestle SA ADR\">Nestle ADR</a></td>\n",
      "<td class=\"left\" data-column-name=\"viewData.symbol\">NSRGY</td>\n",
      "<td class=\"left displayNone\" data-column-name=\"exchange_trans\">OTC Markets</td><td class=\"left displayNone\" data-column-name=\"sector_trans\">Consumer Non-Cyclicals</td><td class=\"left displayNone\" data-column-name=\"industry_trans\">Food &amp; Tobacco</td><td data-column-name=\"last\">107.11</td><td data-column-name=\"pair_change_percent\">0.79%</td><td data-column-name=\"eq_market_cap\">280.16B</td><td data-column-name=\"turnover_volume\">1.53M</td><td class=\"displayNone\" data-column-name=\"eq_pe_ratio\">22.19</td><td class=\"displayNone\" data-column-name=\"MACD\">-1.93</td><td class=\"displayNone\" data-column-name=\"eq_revenue\">93.35B</td><td class=\"displayNone\" data-column-name=\"avg_volume\">675.39K</td><td class=\"displayNone\" data-column-name=\"eq_eps\">4.24</td><td class=\"displayNone\" data-column-name=\"eq_beta\">0.29</td><td class=\"displayNone\" data-column-name=\"eq_dividend\">2.87</td><td class=\"displayNone\" data-column-name=\"eq_yield\">-</td><td class=\"left displayNone\" data-column-name=\"tech_sum_900\">Neutral</td><td class=\"left displayNone\" data-column-name=\"tech_sum_3600\">Strong Buy</td><td class=\"left displayNone\" data-column-name=\"tech_sum_86400\">Neutral</td><td class=\"left displayNone\" data-column-name=\"tech_sum_week\">Strong Sell</td><td class=\"left displayNone\" data-column-name=\"tech_sum_month\">Strong Sell</td><td class=\"displayNone\" data-column-name=\"daily\">0.79</td><td class=\"displayNone\" data-column-name=\"week\">2.38</td><td class=\"displayNone\" data-column-name=\"month\">-1.98</td><td class=\"displayNone\" data-column-name=\"ytd\">-7.37</td><td class=\"displayNone\" data-column-name=\"year\">-5.77</td><td class=\"displayNone\" data-column-name=\"3year\">-0.77</td><td class=\"displayNone\" data-column-name=\"eq_one_year_return\">-4.48</td><td class=\"displayNone\" data-column-name=\"yield_us\">2.68%</td><td class=\"displayNone\" data-column-name=\"peexclxor_us\">-</td><td class=\"displayNone\" data-column-name=\"ttmpr2rev_us\">-</td><td class=\"displayNone\" data-column-name=\"aprfcfps_us\">-</td><td class=\"displayNone\" data-column-name=\"ttmprfcfps_us\">-</td><td class=\"displayNone\" data-column-name=\"price2bk_us\">-</td><td class=\"displayNone\" data-column-name=\"pr2tanbk_us\">-</td><td class=\"displayNone\" data-column-name=\"epschngyr_us\">-</td><td class=\"displayNone\" data-column-name=\"ttmepschg_us\">-</td><td class=\"displayNone\" data-column-name=\"epstrendgr_us\">-</td><td class=\"displayNone\" data-column-name=\"revchngyr_us\">-</td><td class=\"displayNone\" data-column-name=\"ttmrevchg_us\">-</td><td class=\"displayNone\" data-column-name=\"revtrendgr_us\">-</td><td class=\"displayNone\" data-column-name=\"csptrendgr_us\">-</td><td class=\"displayNone\" data-column-name=\"ttmastturn_us\">-</td><td class=\"displayNone\" data-column-name=\"ttminvturn_us\">-</td><td class=\"displayNone\" data-column-name=\"ttmrevpere_us\">-</td><td class=\"displayNone\" data-column-name=\"ttmniperem_us\">-</td><td class=\"displayNone\" data-column-name=\"ttmrecturn_us\">-</td><td class=\"displayNone\" data-column-name=\"a52_week_high\">131.64</td><td class=\"displayNone\" data-column-name=\"a52_week_low\">103.1</td><td class=\"displayNone\" data-column-name=\"a52_week_high_diff\">-18.63</td><td class=\"displayNone\" data-column-name=\"a52_week_low_diff\">3.89</td><td class=\"displayNone\" data-column-name=\"month_change\">-8.72%</td><td class=\"displayNone\" data-column-name=\"ttmgrosmgn_us\">-</td><td class=\"displayNone\" data-column-name=\"grosmgn5yr_us\">-</td><td class=\"displayNone\" data-column-name=\"ttmopmgn_us\">-</td><td class=\"displayNone\" data-column-name=\"opmgn5yr_us\">-</td><td class=\"displayNone\" data-column-name=\"ttmptmgn_us\">-</td><td class=\"displayNone\" data-column-name=\"ptmgn5yr_us\">-</td><td class=\"displayNone\" data-column-name=\"ttmnpmgn_us\">-</td><td class=\"displayNone\" data-column-name=\"margin5yr_us\">-</td><td class=\"displayNone\" data-column-name=\"qquickrati_us\">-</td><td class=\"displayNone\" data-column-name=\"qcurratio_us\">-</td><td class=\"displayNone\" data-column-name=\"qltd2eq_us\">-</td><td class=\"displayNone\" data-column-name=\"qtotd2eq_us\">-</td><td class=\"displayNone\" data-column-name=\"yld5yavg_us\">-</td><td class=\"displayNone\" data-column-name=\"divgrpct_us\">-</td><td class=\"displayNone\" data-column-name=\"ttmpayrat_us\">-</td><td class=\"displayNone\" data-column-name=\"ADX\">47.38</td><td class=\"displayNone\" data-column-name=\"ATR\">1.75</td><td class=\"displayNone\" data-column-name=\"BullBear\">1.12</td><td class=\"displayNone\" data-column-name=\"CCI\">5.43</td><td class=\"displayNone\" data-column-name=\"HL\">0.00</td><td class=\"displayNone\" data-column-name=\"ROC\">-2.83</td><td class=\"displayNone\" data-column-name=\"RSI\">45.69</td><td class=\"displayNone\" data-column-name=\"STOCH\">41.77</td><td class=\"displayNone\" data-column-name=\"STOCHRSI\">70.22</td><td class=\"displayNone\" data-column-name=\"UO\">52.44</td><td class=\"displayNone\" data-column-name=\"WilliamsR\">-62.06</td> <td></td>\n",
      "</tr><tr>\n",
      "<td class=\"flag\"><span class=\"ceFlags USA\"></span></td>\n",
      "<td class=\"symbol left bold elp\" data-column-name=\"name_trans\"><a href=\"/equities/nestle-ag?cid=53030\" target=\"_blank\" title=\"Nestle SA\">Nestle</a></td>\n",
      "<td class=\"left\" data-column-name=\"viewData.symbol\">NSRGF</td>\n",
      "<td class=\"left displayNone\" data-column-name=\"exchange_trans\">OTC Markets</td><td class=\"left displayNone\" data-column-name=\"sector_trans\">Consumer Non-Cyclicals</td><td class=\"left displayNone\" data-column-name=\"industry_trans\">Food &amp; Tobacco</td><td data-column-name=\"last\">106.97</td><td data-column-name=\"pair_change_percent\">0.77%</td><td data-column-name=\"eq_market_cap\">280.16B</td><td data-column-name=\"turnover_volume\">73.11K</td><td class=\"displayNone\" data-column-name=\"eq_pe_ratio\">22.19</td><td class=\"displayNone\" data-column-name=\"MACD\">-1.90</td><td class=\"displayNone\" data-column-name=\"eq_revenue\">93.35B</td><td class=\"displayNone\" data-column-name=\"avg_volume\">35.27K</td><td class=\"displayNone\" data-column-name=\"eq_eps\">4.24</td><td class=\"displayNone\" data-column-name=\"eq_beta\">0.29</td><td class=\"displayNone\" data-column-name=\"eq_dividend\">3.00</td><td class=\"displayNone\" data-column-name=\"eq_yield\">-</td><td class=\"left displayNone\" data-column-name=\"tech_sum_900\">Neutral</td><td class=\"left displayNone\" data-column-name=\"tech_sum_3600\">Strong Buy</td><td class=\"left displayNone\" data-column-name=\"tech_sum_86400\">Neutral</td><td class=\"left displayNone\" data-column-name=\"tech_sum_week\">Strong Sell</td><td class=\"left displayNone\" data-column-name=\"tech_sum_month\">Strong Sell</td><td class=\"displayNone\" data-column-name=\"daily\">0.77</td><td class=\"displayNone\" data-column-name=\"week\">2.25</td><td class=\"displayNone\" data-column-name=\"month\">-2.19</td><td class=\"displayNone\" data-column-name=\"ytd\">-7.74</td><td class=\"displayNone\" data-column-name=\"year\">-6.41</td><td class=\"displayNone\" data-column-name=\"3year\">0.44</td><td class=\"displayNone\" data-column-name=\"eq_one_year_return\">-4.86</td><td class=\"displayNone\" data-column-name=\"yield_us\">3.2%</td><td class=\"displayNone\" data-column-name=\"peexclxor_us\">21.94</td><td class=\"displayNone\" data-column-name=\"ttmpr2rev_us\">3.19</td><td class=\"displayNone\" data-column-name=\"aprfcfps_us\">76.57</td><td class=\"displayNone\" data-column-name=\"ttmprfcfps_us\">76.57</td><td class=\"displayNone\" data-column-name=\"price2bk_us\">4.93</td><td class=\"displayNone\" data-column-name=\"pr2tanbk_us\">41.45</td><td class=\"displayNone\" data-column-name=\"epschngyr_us\">203.09</td><td class=\"displayNone\" data-column-name=\"ttmepschg_us\">63.30</td><td class=\"displayNone\" data-column-name=\"epstrendgr_us\">1.41</td><td class=\"displayNone\" data-column-name=\"revchngyr_us\">1.83</td><td class=\"displayNone\" data-column-name=\"ttmrevchg_us\">2.06</td><td class=\"displayNone\" data-column-name=\"revtrendgr_us\">-0.16</td><td class=\"displayNone\" data-column-name=\"csptrendgr_us\">-3.46</td><td class=\"displayNone\" data-column-name=\"ttmastturn_us\">0.68</td><td class=\"displayNone\" data-column-name=\"ttminvturn_us\">5.03</td><td class=\"displayNone\" data-column-name=\"ttmrevpere_us\">296.88</td><td class=\"displayNone\" data-column-name=\"ttmniperem_us\">31.01</td><td class=\"displayNone\" data-column-name=\"ttmrecturn_us\">7.88</td><td class=\"displayNone\" data-column-name=\"a52_week_high\">132</td><td class=\"displayNone\" data-column-name=\"a52_week_low\">102.45</td><td class=\"displayNone\" data-column-name=\"a52_week_high_diff\">-18.96</td><td class=\"displayNone\" data-column-name=\"a52_week_low_diff\">4.41</td><td class=\"displayNone\" data-column-name=\"month_change\">-8.86%</td><td class=\"displayNone\" data-column-name=\"ttmgrosmgn_us\">49.62</td><td class=\"displayNone\" data-column-name=\"grosmgn5yr_us\">49.41</td><td class=\"displayNone\" data-column-name=\"ttmopmgn_us\">15.04</td><td class=\"displayNone\" data-column-name=\"opmgn5yr_us\">13.39</td><td class=\"displayNone\" data-column-name=\"ttmptmgn_us\">14.21</td><td class=\"displayNone\" data-column-name=\"ptmgn5yr_us\">12.65</td><td class=\"displayNone\" data-column-name=\"ttmnpmgn_us\">10.45</td><td class=\"displayNone\" data-column-name=\"margin5yr_us\">8.64</td><td class=\"displayNone\" data-column-name=\"qquickrati_us\">0.74</td><td class=\"displayNone\" data-column-name=\"qcurratio_us\">0.95</td><td class=\"displayNone\" data-column-name=\"qltd2eq_us\">44.80</td><td class=\"displayNone\" data-column-name=\"qtotd2eq_us\">70.42</td><td class=\"displayNone\" data-column-name=\"yld5yavg_us\">2.69</td><td class=\"displayNone\" data-column-name=\"divgrpct_us\">-100.00</td><td class=\"displayNone\" data-column-name=\"ttmpayrat_us\">72.14</td><td class=\"displayNone\" data-column-name=\"ADX\">34.95</td><td class=\"displayNone\" data-column-name=\"ATR\">2.35</td><td class=\"displayNone\" data-column-name=\"BullBear\">0.80</td><td class=\"displayNone\" data-column-name=\"CCI\">5.29</td><td class=\"displayNone\" data-column-name=\"HL\">0.00</td><td class=\"displayNone\" data-column-name=\"ROC\">-2.13</td><td class=\"displayNone\" data-column-name=\"RSI\">45.56</td><td class=\"displayNone\" data-column-name=\"STOCH\">45.06</td><td class=\"displayNone\" data-column-name=\"STOCHRSI\">64.60</td><td class=\"displayNone\" data-column-name=\"UO\">58.65</td><td class=\"displayNone\" data-column-name=\"WilliamsR\">-58.95</td> <td></td>\n",
      "</tr></tbody>\n",
      "</table>\n"
     ]
    }
   ],
   "source": [
    "html_table = html.select('table.genTbl.openTbl.resultsStockScreenerTbl.elpTbl')\n",
    "print(html_table[0])"
   ]
  },
  {
   "cell_type": "code",
   "execution_count": 13,
   "metadata": {},
   "outputs": [
    {
     "data": {
      "text/html": [
       "<div>\n",
       "<style scoped>\n",
       "    .dataframe tbody tr th:only-of-type {\n",
       "        vertical-align: middle;\n",
       "    }\n",
       "\n",
       "    .dataframe tbody tr th {\n",
       "        vertical-align: top;\n",
       "    }\n",
       "\n",
       "    .dataframe thead th {\n",
       "        text-align: right;\n",
       "    }\n",
       "</style>\n",
       "<table border=\"1\" class=\"dataframe\">\n",
       "  <thead>\n",
       "    <tr style=\"text-align: right;\">\n",
       "      <th></th>\n",
       "      <th>Unnamed: 0</th>\n",
       "      <th>Name</th>\n",
       "      <th>Symbol</th>\n",
       "      <th>Exchange</th>\n",
       "      <th>Sector</th>\n",
       "      <th>Industry</th>\n",
       "      <th>Last</th>\n",
       "      <th>Chg. %</th>\n",
       "      <th>Market Cap</th>\n",
       "      <th>Vol.</th>\n",
       "      <th>...</th>\n",
       "      <th>Bull/Bear Power (13 / 1D)</th>\n",
       "      <th>CCI (14 / 1D)</th>\n",
       "      <th>Highs/Lows (14 / 1D)</th>\n",
       "      <th>ROC (1D)</th>\n",
       "      <th>RSI (14 / 1D)</th>\n",
       "      <th>STOCH (14 / 1D)</th>\n",
       "      <th>STOCHRSI (14 / 1D)</th>\n",
       "      <th>Ultimate Oscillator (14 /1D)</th>\n",
       "      <th>Williams %R (1D)</th>\n",
       "      <th>var columnsSettings_stock_screener = new ColumnsSettings(  'ltr', // strHtmlDir  'resultsContainer', // containerId  'resultsContainer', // tab  'stock_screener', // id  'Currently selected: X (max 8)', // message  '8', // intMaxCheckboxes  '1' // intMinOptCheckboxes \\t);  Adjust table  Name  Symbol  Exchange  Sector  Industry  Last  Chg. %  Market Cap  Vol.  P/E Ratio  MACD (12,26 / 1D)  Revenue  Average Vol. (3m)  EPS  Beta  Dividend  Yield  15 Minutes  Hourly  Daily  Weekly  Monthly  Daily  1 Week  1 Month  YTD  1 Year  3 Years  1-Year Change  Dividend Yield (%)  P/E Ratio (TTM)  Price to Sales (TTM)  Price to Cash Flow (MRQ)  Price to Free Cash Flow (TTM)  Price to Book (MRQ)  Price to Tangible Book (MRQ)  EPS(MRQ) vs Qtr. 1 Yr. Ago  EPS(TTM) vs TTM 1 Yr. Ago  5 Year EPS Growth  Sales (MRQ) vs Qtr. 1 Yr. Ago  Sales (TTM) vs TTM 1 Yr. Ago (TTM)  5 Year Sales Growth  5 Year Capital Spending Growth  Asset Turnover (TTM)  Inventory Turnover (TTM)  Revenue/Employee (TTM)  Net Income/Employee (TTM)  Receivable Turnover (TTM)  52 wk Range - High  52 wk Range - Low  % Change from 52 wk High  % Change from 52 wk Low  Previous Month % Change  Gross margin (TTM)  Gross Margin (5YA)  Operating margin (TTM)  Operating margin (5YA)  Pretax margin (TTM)  Pretax margin (5YA)  Net Profit margin (TTM)  Net Profit margin (5YA)  Quick Ratio (MRQ)  Current Ratio (MRQ)  LT Debt to Equity (MRQ)  Total Debt to Equity  Dividend Yield 5 Year Avg. (5YA)  Dividend Growth Rate (ANN)  Payout Ratio (TTM)  ADX (14 / 1D)  ATR (14 / 1D)  Bull/Bear Power (13 / 1D)  CCI (14 / 1D)  Highs/Lows (14 / 1D)  ROC (1D)  RSI (14 / 1D)  STOCH (14 / 1D)  STOCHRSI (14 / 1D)  Ultimate Oscillator (14 /1D)  Williams %R (1D)  Advanced Metrics  Currently selected:  6  (max 8 )  Apply  $('#colSelectPopup_stock_screener').click(function(e) {  e.stopPropagation(); \\t});</th>\n",
       "    </tr>\n",
       "  </thead>\n",
       "  <tbody>\n",
       "    <tr>\n",
       "      <th>0</th>\n",
       "      <td>NaN</td>\n",
       "      <td>Microsoft</td>\n",
       "      <td>MSFT</td>\n",
       "      <td>NASDAQ</td>\n",
       "      <td>Technology</td>\n",
       "      <td>Software &amp; IT Services</td>\n",
       "      <td>406.22</td>\n",
       "      <td>-0.71%</td>\n",
       "      <td>3.02T</td>\n",
       "      <td>16.71M</td>\n",
       "      <td>...</td>\n",
       "      <td>-1.98</td>\n",
       "      <td>-14.33</td>\n",
       "      <td>0.00</td>\n",
       "      <td>0.51</td>\n",
       "      <td>50.34</td>\n",
       "      <td>53.03</td>\n",
       "      <td>26.15</td>\n",
       "      <td>55.75</td>\n",
       "      <td>-55.79</td>\n",
       "      <td>NaN</td>\n",
       "    </tr>\n",
       "    <tr>\n",
       "      <th>1</th>\n",
       "      <td>NaN</td>\n",
       "      <td>Apple</td>\n",
       "      <td>AAPL</td>\n",
       "      <td>NASDAQ</td>\n",
       "      <td>Technology</td>\n",
       "      <td>Computers, Phones &amp; Household Electronics</td>\n",
       "      <td>170.73</td>\n",
       "      <td>1.02%</td>\n",
       "      <td>2.64T</td>\n",
       "      <td>74.64M</td>\n",
       "      <td>...</td>\n",
       "      <td>-9.95</td>\n",
       "      <td>-110.67</td>\n",
       "      <td>-5.61</td>\n",
       "      <td>-6.22</td>\n",
       "      <td>28.54</td>\n",
       "      <td>23.41</td>\n",
       "      <td>29.59</td>\n",
       "      <td>35.21</td>\n",
       "      <td>-85.02</td>\n",
       "      <td>NaN</td>\n",
       "    </tr>\n",
       "    <tr>\n",
       "      <th>2</th>\n",
       "      <td>NaN</td>\n",
       "      <td>NVIDIA</td>\n",
       "      <td>NVDA</td>\n",
       "      <td>NASDAQ</td>\n",
       "      <td>Technology</td>\n",
       "      <td>Semiconductors &amp; Semiconductor Equipment</td>\n",
       "      <td>875.28</td>\n",
       "      <td>-5.55%</td>\n",
       "      <td>2.15T</td>\n",
       "      <td>110.55M</td>\n",
       "      <td>...</td>\n",
       "      <td>183.10</td>\n",
       "      <td>139.49</td>\n",
       "      <td>49.47</td>\n",
       "      <td>20.61</td>\n",
       "      <td>69.91</td>\n",
       "      <td>58.11</td>\n",
       "      <td>49.03</td>\n",
       "      <td>56.44</td>\n",
       "      <td>-31.49</td>\n",
       "      <td>NaN</td>\n",
       "    </tr>\n",
       "    <tr>\n",
       "      <th>3</th>\n",
       "      <td>NaN</td>\n",
       "      <td>Amazon.com</td>\n",
       "      <td>AMZN</td>\n",
       "      <td>NASDAQ</td>\n",
       "      <td>Consumer Cyclicals</td>\n",
       "      <td>Diversified Retail</td>\n",
       "      <td>175.35</td>\n",
       "      <td>-0.83%</td>\n",
       "      <td>1.82T</td>\n",
       "      <td>35.87M</td>\n",
       "      <td>...</td>\n",
       "      <td>3.90</td>\n",
       "      <td>70.49</td>\n",
       "      <td>0.00</td>\n",
       "      <td>3.41</td>\n",
       "      <td>58.79</td>\n",
       "      <td>51.17</td>\n",
       "      <td>23.60</td>\n",
       "      <td>47.78</td>\n",
       "      <td>-33.68</td>\n",
       "      <td>NaN</td>\n",
       "    </tr>\n",
       "    <tr>\n",
       "      <th>4</th>\n",
       "      <td>NaN</td>\n",
       "      <td>Alphabet C</td>\n",
       "      <td>GOOG</td>\n",
       "      <td>NASDAQ</td>\n",
       "      <td>Technology</td>\n",
       "      <td>Software &amp; IT Services</td>\n",
       "      <td>136.29</td>\n",
       "      <td>0.78%</td>\n",
       "      <td>1.69T</td>\n",
       "      <td>26.00M</td>\n",
       "      <td>...</td>\n",
       "      <td>-2.07</td>\n",
       "      <td>-50.18</td>\n",
       "      <td>-1.17</td>\n",
       "      <td>-3.84</td>\n",
       "      <td>41.59</td>\n",
       "      <td>28.05</td>\n",
       "      <td>50.62</td>\n",
       "      <td>45.44</td>\n",
       "      <td>-67.44</td>\n",
       "      <td>NaN</td>\n",
       "    </tr>\n",
       "  </tbody>\n",
       "</table>\n",
       "<p>5 rows × 81 columns</p>\n",
       "</div>"
      ],
      "text/plain": [
       "   Unnamed: 0        Name Symbol Exchange              Sector  \\\n",
       "0         NaN   Microsoft   MSFT   NASDAQ          Technology   \n",
       "1         NaN       Apple   AAPL   NASDAQ          Technology   \n",
       "2         NaN      NVIDIA   NVDA   NASDAQ          Technology   \n",
       "3         NaN  Amazon.com   AMZN   NASDAQ  Consumer Cyclicals   \n",
       "4         NaN  Alphabet C   GOOG   NASDAQ          Technology   \n",
       "\n",
       "                                    Industry    Last  Chg. % Market Cap  \\\n",
       "0                     Software & IT Services  406.22  -0.71%      3.02T   \n",
       "1  Computers, Phones & Household Electronics  170.73   1.02%      2.64T   \n",
       "2   Semiconductors & Semiconductor Equipment  875.28  -5.55%      2.15T   \n",
       "3                         Diversified Retail  175.35  -0.83%      1.82T   \n",
       "4                     Software & IT Services  136.29   0.78%      1.69T   \n",
       "\n",
       "      Vol.  ... Bull/Bear Power (13 / 1D) CCI (14 / 1D) Highs/Lows (14 / 1D)  \\\n",
       "0   16.71M  ...                     -1.98        -14.33                 0.00   \n",
       "1   74.64M  ...                     -9.95       -110.67                -5.61   \n",
       "2  110.55M  ...                    183.10        139.49                49.47   \n",
       "3   35.87M  ...                      3.90         70.49                 0.00   \n",
       "4   26.00M  ...                     -2.07        -50.18                -1.17   \n",
       "\n",
       "  ROC (1D) RSI (14 / 1D) STOCH (14 / 1D) STOCHRSI (14 / 1D)  \\\n",
       "0     0.51         50.34           53.03              26.15   \n",
       "1    -6.22         28.54           23.41              29.59   \n",
       "2    20.61         69.91           58.11              49.03   \n",
       "3     3.41         58.79           51.17              23.60   \n",
       "4    -3.84         41.59           28.05              50.62   \n",
       "\n",
       "  Ultimate Oscillator (14 /1D) Williams %R (1D)  \\\n",
       "0                        55.75           -55.79   \n",
       "1                        35.21           -85.02   \n",
       "2                        56.44           -31.49   \n",
       "3                        47.78           -33.68   \n",
       "4                        45.44           -67.44   \n",
       "\n",
       "  var columnsSettings_stock_screener = new ColumnsSettings(  'ltr', // strHtmlDir  'resultsContainer', // containerId  'resultsContainer', // tab  'stock_screener', // id  'Currently selected: X (max 8)', // message  '8', // intMaxCheckboxes  '1' // intMinOptCheckboxes \\t);  Adjust table  Name  Symbol  Exchange  Sector  Industry  Last  Chg. %  Market Cap  Vol.  P/E Ratio  MACD (12,26 / 1D)  Revenue  Average Vol. (3m)  EPS  Beta  Dividend  Yield  15 Minutes  Hourly  Daily  Weekly  Monthly  Daily  1 Week  1 Month  YTD  1 Year  3 Years  1-Year Change  Dividend Yield (%)  P/E Ratio (TTM)  Price to Sales (TTM)  Price to Cash Flow (MRQ)  Price to Free Cash Flow (TTM)  Price to Book (MRQ)  Price to Tangible Book (MRQ)  EPS(MRQ) vs Qtr. 1 Yr. Ago  EPS(TTM) vs TTM 1 Yr. Ago  5 Year EPS Growth  Sales (MRQ) vs Qtr. 1 Yr. Ago  Sales (TTM) vs TTM 1 Yr. Ago (TTM)  5 Year Sales Growth  5 Year Capital Spending Growth  Asset Turnover (TTM)  Inventory Turnover (TTM)  Revenue/Employee (TTM)  Net Income/Employee (TTM)  Receivable Turnover (TTM)  52 wk Range - High  52 wk Range - Low  % Change from 52 wk High  % Change from 52 wk Low  Previous Month % Change  Gross margin (TTM)  Gross Margin (5YA)  Operating margin (TTM)  Operating margin (5YA)  Pretax margin (TTM)  Pretax margin (5YA)  Net Profit margin (TTM)  Net Profit margin (5YA)  Quick Ratio (MRQ)  Current Ratio (MRQ)  LT Debt to Equity (MRQ)  Total Debt to Equity  Dividend Yield 5 Year Avg. (5YA)  Dividend Growth Rate (ANN)  Payout Ratio (TTM)  ADX (14 / 1D)  ATR (14 / 1D)  Bull/Bear Power (13 / 1D)  CCI (14 / 1D)  Highs/Lows (14 / 1D)  ROC (1D)  RSI (14 / 1D)  STOCH (14 / 1D)  STOCHRSI (14 / 1D)  Ultimate Oscillator (14 /1D)  Williams %R (1D)  Advanced Metrics  Currently selected:  6  (max 8 )  Apply  $('#colSelectPopup_stock_screener').click(function(e) {  e.stopPropagation(); \\t});  \n",
       "0                                                NaN                                                                                                                                                                                                                                                                                                                                                                                                                                                                                                                                                                                                                                                                                                                                                                                                                                                                                                                                                                                                                                                                                                                                                                                                                                                                                                                                                                                                                                                                                                                                                                                                                                                                                                                                                                                                                                                                          \n",
       "1                                                NaN                                                                                                                                                                                                                                                                                                                                                                                                                                                                                                                                                                                                                                                                                                                                                                                                                                                                                                                                                                                                                                                                                                                                                                                                                                                                                                                                                                                                                                                                                                                                                                                                                                                                                                                                                                                                                                                                          \n",
       "2                                                NaN                                                                                                                                                                                                                                                                                                                                                                                                                                                                                                                                                                                                                                                                                                                                                                                                                                                                                                                                                                                                                                                                                                                                                                                                                                                                                                                                                                                                                                                                                                                                                                                                                                                                                                                                                                                                                                                                          \n",
       "3                                                NaN                                                                                                                                                                                                                                                                                                                                                                                                                                                                                                                                                                                                                                                                                                                                                                                                                                                                                                                                                                                                                                                                                                                                                                                                                                                                                                                                                                                                                                                                                                                                                                                                                                                                                                                                                                                                                                                                          \n",
       "4                                                NaN                                                                                                                                                                                                                                                                                                                                                                                                                                                                                                                                                                                                                                                                                                                                                                                                                                                                                                                                                                                                                                                                                                                                                                                                                                                                                                                                                                                                                                                                                                                                                                                                                                                                                                                                                                                                                                                                          \n",
       "\n",
       "[5 rows x 81 columns]"
      ]
     },
     "execution_count": 13,
     "metadata": {},
     "output_type": "execute_result"
    }
   ],
   "source": [
    "# 데이터프레임 변환\n",
    "# prettify() 메서드를 이용해 BeautifulSoup에서 파싱한 파서 트리를 유니코드 형태로 다시 돌려준 후, read_html() 함수를 통해 테이블을 읽어준다.\n",
    "df_table = pd.read_html(html_table[0].prettify())\n",
    "df_table_result = df_table[0]\n",
    "df_table_result.head()"
   ]
  },
  {
   "cell_type": "code",
   "execution_count": 14,
   "metadata": {},
   "outputs": [
    {
     "data": {
      "text/html": [
       "<div>\n",
       "<style scoped>\n",
       "    .dataframe tbody tr th:only-of-type {\n",
       "        vertical-align: middle;\n",
       "    }\n",
       "\n",
       "    .dataframe tbody tr th {\n",
       "        vertical-align: top;\n",
       "    }\n",
       "\n",
       "    .dataframe thead th {\n",
       "        text-align: right;\n",
       "    }\n",
       "</style>\n",
       "<table border=\"1\" class=\"dataframe\">\n",
       "  <thead>\n",
       "    <tr style=\"text-align: right;\">\n",
       "      <th></th>\n",
       "      <th>Name</th>\n",
       "      <th>Symbol</th>\n",
       "      <th>Exchange</th>\n",
       "      <th>Sector</th>\n",
       "      <th>Market Cap</th>\n",
       "    </tr>\n",
       "  </thead>\n",
       "  <tbody>\n",
       "    <tr>\n",
       "      <th>0</th>\n",
       "      <td>Microsoft</td>\n",
       "      <td>MSFT</td>\n",
       "      <td>NASDAQ</td>\n",
       "      <td>Technology</td>\n",
       "      <td>3.02T</td>\n",
       "    </tr>\n",
       "    <tr>\n",
       "      <th>1</th>\n",
       "      <td>Apple</td>\n",
       "      <td>AAPL</td>\n",
       "      <td>NASDAQ</td>\n",
       "      <td>Technology</td>\n",
       "      <td>2.64T</td>\n",
       "    </tr>\n",
       "    <tr>\n",
       "      <th>2</th>\n",
       "      <td>NVIDIA</td>\n",
       "      <td>NVDA</td>\n",
       "      <td>NASDAQ</td>\n",
       "      <td>Technology</td>\n",
       "      <td>2.15T</td>\n",
       "    </tr>\n",
       "    <tr>\n",
       "      <th>3</th>\n",
       "      <td>Amazon.com</td>\n",
       "      <td>AMZN</td>\n",
       "      <td>NASDAQ</td>\n",
       "      <td>Consumer Cyclicals</td>\n",
       "      <td>1.82T</td>\n",
       "    </tr>\n",
       "    <tr>\n",
       "      <th>4</th>\n",
       "      <td>Alphabet C</td>\n",
       "      <td>GOOG</td>\n",
       "      <td>NASDAQ</td>\n",
       "      <td>Technology</td>\n",
       "      <td>1.69T</td>\n",
       "    </tr>\n",
       "  </tbody>\n",
       "</table>\n",
       "</div>"
      ],
      "text/plain": [
       "         Name Symbol Exchange              Sector Market Cap\n",
       "0   Microsoft   MSFT   NASDAQ          Technology      3.02T\n",
       "1       Apple   AAPL   NASDAQ          Technology      2.64T\n",
       "2      NVIDIA   NVDA   NASDAQ          Technology      2.15T\n",
       "3  Amazon.com   AMZN   NASDAQ  Consumer Cyclicals      1.82T\n",
       "4  Alphabet C   GOOG   NASDAQ          Technology      1.69T"
      ]
     },
     "execution_count": 14,
     "metadata": {},
     "output_type": "execute_result"
    }
   ],
   "source": [
    "df_table_select = df_table[0][['Name', 'Symbol', 'Exchange', 'Sector', 'Market Cap']]\n",
    "df_table_select.head()"
   ]
  },
  {
   "cell_type": "code",
   "execution_count": 15,
   "metadata": {},
   "outputs": [
    {
     "name": "stdout",
     "output_type": "stream",
     "text": [
      "223\n"
     ]
    }
   ],
   "source": [
    "# 페이지 수 계산\n",
    "end_num = driver.find_element(By.CLASS_NAME, value='js-total-results').text\n",
    "print(math.ceil(int(end_num) / 50))"
   ]
  },
  {
   "cell_type": "code",
   "execution_count": 16,
   "metadata": {},
   "outputs": [],
   "source": [
    "# 드라이버 종료\n",
    "driver.quit()"
   ]
  },
  {
   "cell_type": "markdown",
   "metadata": {},
   "source": [
    "## 전 종목 티커 크롤링"
   ]
  },
  {
   "cell_type": "code",
   "execution_count": 17,
   "metadata": {},
   "outputs": [],
   "source": [
    "from selenium import webdriver\n",
    "from selenium.webdriver.chrome.service import Service\n",
    "from webdriver_manager.chrome import ChromeDriverManager\n",
    "from selenium.webdriver.common.by import By\n",
    "from selenium.webdriver.support import expected_conditions as EC \n",
    "from selenium.webdriver.support.ui import WebDriverWait\n",
    "from bs4 import BeautifulSoup\n",
    "from datetime import datetime\n",
    "import math\n",
    "import pandas as pd\n",
    "import numpy as np\n",
    "from tqdm import tqdm\n",
    "import time\n",
    "\n",
    "# 크롬 드라이버 불러오기\n",
    "driver = webdriver.Chrome(service=Service(ChromeDriverManager().install()))\n",
    "# 국가코드 미국에 해당하는 '5'를 입력\n",
    "nationcode = '5'\n",
    "# 첫페이지 URL\n",
    "url = f'''https://investing.com/stock-screener/?sp=country::\n",
    "{nationcode}|sector::a|industry::a|equityType::ORD%3Ceq_market_cap;1'''\n",
    "# 셀레니움으로 페이지 열기\n",
    "driver.get(url)\n",
    "\n",
    "# 'Screener Results'에 해당하는 부문은 종목이 들어있는 테이블이 로딩된 이후 나타난다. \n",
    "# WebDriverWait() 함수를 통해 해당 테이블이 로딩될 떄까지 기다린다.\n",
    "# 테이블의 XPATH는 '//*[@id=\"resultsTable\"]/tbody'\n",
    "WebDriverWait(driver, 10).until(EC.visibility_of_element_located(\n",
    "    (By.XPATH, '//*[@id=\"resultsTable\"]/tbody')\n",
    "))\n",
    "\n",
    "# 종목수에 해당하는 부분을 크롤링한 후, 이를 통해 페이지 수를 계산\n",
    "end_num = driver.find_element(By.CLASS_NAME, value='js-total-results').text\n",
    "end_num = math.ceil(int(end_num) / 50)"
   ]
  },
  {
   "cell_type": "code",
   "execution_count": 18,
   "metadata": {},
   "outputs": [
    {
     "name": "stderr",
     "output_type": "stream",
     "text": [
      "  0%|          | 0/166 [00:00<?, ?it/s]"
     ]
    },
    {
     "name": "stderr",
     "output_type": "stream",
     "text": [
      "100%|██████████| 166/166 [17:12<00:00,  6.22s/it] \n"
     ]
    }
   ],
   "source": [
    "all_data_df = []\n",
    "\n",
    "# 전체 페이지에서 종목명과 티커 등의 정보를 크롤링\n",
    "\n",
    "for i in tqdm(range(1, end_num + 1)):\n",
    "    url = f'''https://investing.com/stock-screener/?sp=country::\n",
    "        {nationcode}|sector::a|industry::a|equityType::ORD%3Ceq_market_cap;{i}'''\n",
    "    driver.get(url)\n",
    "    \n",
    "    try:\n",
    "        WebDriverWait(driver, 10).until(EC.visibility_of_element_located(\n",
    "            (By.XPATH, '//*[@id=\"resultsTable\"]/tbody')\n",
    "        ))\n",
    "    except:\n",
    "        time.sleep(1)\n",
    "        driver.refresh()\n",
    "        WebDriverWait(driver, 10).until(EC.visibility_of_element_located(\n",
    "            (By.XPATH, '//*[@id=\"resultsTable\"]/tbody')\n",
    "        ))\n",
    "    \n",
    "    html = BeautifulSoup(driver.page_source, 'lxml')\n",
    "    html_table = html.select(\n",
    "        'table.genTbl.openTbl.resultsStockScreenerTbl.elpTbl'\n",
    "    )\n",
    "    df_table = pd.read_html(html_table[0].prettify())\n",
    "    df_table_select = df_table[0][['Name', 'Symbol', 'Exchange', 'Sector', 'Market Cap']]\n",
    "    \n",
    "    all_data_df.append(df_table_select)\n",
    "    \n",
    "    time.sleep(2)\n",
    "    \n",
    "# for 문이 끝나면 concat() 함수를 통해 리스트 내 모든 데이터프레임을 행으로 묶어 준다.\n",
    "all_data_df_bind = pd.concat(all_data_df, axis=0)\n",
    "\n",
    "data_country = html.find(class_='js-search-input inputDropDown')['value']\n",
    "all_data_df_bind['country'] = data_country\n",
    "all_data_df_bind['date'] = datetime.today().strftime('%Y-%m-%d')\n",
    "# 일부 종목의 경우 종목명이 빈칸으로 들어오므로 이를 제거\n",
    "all_data_df_bind = all_data_df_bind[~all_data_df_bind['Name'].isnull()]\n",
    "# 거래 가능한 거래소만 선택\n",
    "all_data_df_bind = all_data_df_bind[all_data_df_bind['Exchange'].isin(\n",
    "    ['NASDAQ', 'NYSE', 'NYSE Amex']\n",
    ")]\n",
    "# 중복으로 들어오는 경우 1개만 남김\n",
    "all_data_df_bind = all_data_df_bind.drop_duplicates(['Symbol'])\n",
    "all_data_df_bind.reset_index(inplace=True, drop=True)\n",
    "all_data_df_bind = all_data_df_bind.replace({np.nan: None})\n",
    "\n",
    "driver.quit()"
   ]
  },
  {
   "cell_type": "code",
   "execution_count": 19,
   "metadata": {},
   "outputs": [
    {
     "data": {
      "text/html": [
       "<div>\n",
       "<style scoped>\n",
       "    .dataframe tbody tr th:only-of-type {\n",
       "        vertical-align: middle;\n",
       "    }\n",
       "\n",
       "    .dataframe tbody tr th {\n",
       "        vertical-align: top;\n",
       "    }\n",
       "\n",
       "    .dataframe thead th {\n",
       "        text-align: right;\n",
       "    }\n",
       "</style>\n",
       "<table border=\"1\" class=\"dataframe\">\n",
       "  <thead>\n",
       "    <tr style=\"text-align: right;\">\n",
       "      <th></th>\n",
       "      <th>Name</th>\n",
       "      <th>Symbol</th>\n",
       "      <th>Exchange</th>\n",
       "      <th>Sector</th>\n",
       "      <th>Market Cap</th>\n",
       "      <th>country</th>\n",
       "      <th>date</th>\n",
       "    </tr>\n",
       "  </thead>\n",
       "  <tbody>\n",
       "    <tr>\n",
       "      <th>1150</th>\n",
       "      <td>Madison Square Garden Sports</td>\n",
       "      <td>MSGS</td>\n",
       "      <td>NYSE</td>\n",
       "      <td>Consumer Cyclicals</td>\n",
       "      <td>4.44B</td>\n",
       "      <td>United States</td>\n",
       "      <td>2024-03-10</td>\n",
       "    </tr>\n",
       "    <tr>\n",
       "      <th>1151</th>\n",
       "      <td>Clearway Energy A</td>\n",
       "      <td>CWENa</td>\n",
       "      <td>NYSE</td>\n",
       "      <td>Utilities</td>\n",
       "      <td>4.44B</td>\n",
       "      <td>United States</td>\n",
       "      <td>2024-03-10</td>\n",
       "    </tr>\n",
       "    <tr>\n",
       "      <th>1152</th>\n",
       "      <td>Clearway Energy C</td>\n",
       "      <td>CWEN</td>\n",
       "      <td>NYSE</td>\n",
       "      <td>Utilities</td>\n",
       "      <td>4.44B</td>\n",
       "      <td>United States</td>\n",
       "      <td>2024-03-10</td>\n",
       "    </tr>\n",
       "    <tr>\n",
       "      <th>1153</th>\n",
       "      <td>Herc Holdings</td>\n",
       "      <td>HRI</td>\n",
       "      <td>NYSE</td>\n",
       "      <td>Industrials</td>\n",
       "      <td>4.43B</td>\n",
       "      <td>United States</td>\n",
       "      <td>2024-03-10</td>\n",
       "    </tr>\n",
       "    <tr>\n",
       "      <th>1154</th>\n",
       "      <td>Algonquin Power</td>\n",
       "      <td>AQN</td>\n",
       "      <td>NYSE</td>\n",
       "      <td>Utilities</td>\n",
       "      <td>4.42B</td>\n",
       "      <td>United States</td>\n",
       "      <td>2024-03-10</td>\n",
       "    </tr>\n",
       "    <tr>\n",
       "      <th>1155</th>\n",
       "      <td>Freedom</td>\n",
       "      <td>FRHC</td>\n",
       "      <td>NASDAQ</td>\n",
       "      <td>Financials</td>\n",
       "      <td>4.42B</td>\n",
       "      <td>United States</td>\n",
       "      <td>2024-03-10</td>\n",
       "    </tr>\n",
       "    <tr>\n",
       "      <th>1156</th>\n",
       "      <td>American Equity Inv. Life</td>\n",
       "      <td>AEL</td>\n",
       "      <td>NYSE</td>\n",
       "      <td>Financials</td>\n",
       "      <td>4.41B</td>\n",
       "      <td>United States</td>\n",
       "      <td>2024-03-10</td>\n",
       "    </tr>\n",
       "    <tr>\n",
       "      <th>1157</th>\n",
       "      <td>American Eagle Outfitters</td>\n",
       "      <td>AEO</td>\n",
       "      <td>NYSE</td>\n",
       "      <td>Consumer Cyclicals</td>\n",
       "      <td>4.40B</td>\n",
       "      <td>United States</td>\n",
       "      <td>2024-03-10</td>\n",
       "    </tr>\n",
       "    <tr>\n",
       "      <th>1158</th>\n",
       "      <td>Iovance Biotherapeutics</td>\n",
       "      <td>IOVA</td>\n",
       "      <td>NASDAQ</td>\n",
       "      <td>Healthcare</td>\n",
       "      <td>4.39B</td>\n",
       "      <td>United States</td>\n",
       "      <td>2024-03-10</td>\n",
       "    </tr>\n",
       "  </tbody>\n",
       "</table>\n",
       "</div>"
      ],
      "text/plain": [
       "                              Name Symbol Exchange              Sector  \\\n",
       "1150  Madison Square Garden Sports   MSGS     NYSE  Consumer Cyclicals   \n",
       "1151             Clearway Energy A  CWENa     NYSE           Utilities   \n",
       "1152             Clearway Energy C   CWEN     NYSE           Utilities   \n",
       "1153                 Herc Holdings    HRI     NYSE         Industrials   \n",
       "1154               Algonquin Power    AQN     NYSE           Utilities   \n",
       "1155                       Freedom   FRHC   NASDAQ          Financials   \n",
       "1156     American Equity Inv. Life    AEL     NYSE          Financials   \n",
       "1157     American Eagle Outfitters    AEO     NYSE  Consumer Cyclicals   \n",
       "1158       Iovance Biotherapeutics   IOVA   NASDAQ          Healthcare   \n",
       "\n",
       "     Market Cap        country        date  \n",
       "1150      4.44B  United States  2024-03-10  \n",
       "1151      4.44B  United States  2024-03-10  \n",
       "1152      4.44B  United States  2024-03-10  \n",
       "1153      4.43B  United States  2024-03-10  \n",
       "1154      4.42B  United States  2024-03-10  \n",
       "1155      4.42B  United States  2024-03-10  \n",
       "1156      4.41B  United States  2024-03-10  \n",
       "1157      4.40B  United States  2024-03-10  \n",
       "1158      4.39B  United States  2024-03-10  "
      ]
     },
     "execution_count": 19,
     "metadata": {},
     "output_type": "execute_result"
    }
   ],
   "source": [
    "all_data_df_bind[1150:1159]"
   ]
  },
  {
   "cell_type": "code",
   "execution_count": 20,
   "metadata": {},
   "outputs": [
    {
     "ename": "NameError",
     "evalue": "name 'user' is not defined",
     "output_type": "error",
     "traceback": [
      "\u001b[0;31m---------------------------------------------------------------------------\u001b[0m",
      "\u001b[0;31mNameError\u001b[0m                                 Traceback (most recent call last)",
      "Cell \u001b[0;32mIn[20], line 4\u001b[0m\n\u001b[1;32m      1\u001b[0m \u001b[38;5;66;03m# insert into database\u001b[39;00m\n\u001b[1;32m      2\u001b[0m \u001b[38;5;28;01mimport\u001b[39;00m \u001b[38;5;21;01mpymysql\u001b[39;00m\n\u001b[0;32m----> 4\u001b[0m con \u001b[38;5;241m=\u001b[39m pymysql\u001b[38;5;241m.\u001b[39mconnect(user\u001b[38;5;241m=\u001b[39m\u001b[43muser\u001b[49m,\n\u001b[1;32m      5\u001b[0m               passwd\u001b[38;5;241m=\u001b[39mpw,\n\u001b[1;32m      6\u001b[0m               host\u001b[38;5;241m=\u001b[39mhost,\n\u001b[1;32m      7\u001b[0m               db\u001b[38;5;241m=\u001b[39mdb,\n\u001b[1;32m      8\u001b[0m               charset\u001b[38;5;241m=\u001b[39m\u001b[38;5;124m'\u001b[39m\u001b[38;5;124mutf8\u001b[39m\u001b[38;5;124m'\u001b[39m)\n\u001b[1;32m      9\u001b[0m mycursor \u001b[38;5;241m=\u001b[39m con\u001b[38;5;241m.\u001b[39mcursor()\n\u001b[1;32m     10\u001b[0m query \u001b[38;5;241m=\u001b[39m \u001b[38;5;124m\"\"\"\u001b[39m\n\u001b[1;32m     11\u001b[0m \u001b[38;5;124mINSERT INTO ticker_global (name, symbol, exchange, sector, market_cap, country, date)\u001b[39m\n\u001b[1;32m     12\u001b[0m \u001b[38;5;124mVALUES (\u001b[39m\u001b[38;5;132;01m%s\u001b[39;00m\u001b[38;5;124m, \u001b[39m\u001b[38;5;132;01m%s\u001b[39;00m\u001b[38;5;124m, \u001b[39m\u001b[38;5;132;01m%s\u001b[39;00m\u001b[38;5;124m, \u001b[39m\u001b[38;5;132;01m%s\u001b[39;00m\u001b[38;5;124m, \u001b[39m\u001b[38;5;132;01m%s\u001b[39;00m\u001b[38;5;124m, \u001b[39m\u001b[38;5;132;01m%s\u001b[39;00m\u001b[38;5;124m, \u001b[39m\u001b[38;5;132;01m%s\u001b[39;00m\u001b[38;5;124m)\u001b[39m\n\u001b[1;32m     13\u001b[0m \u001b[38;5;124mON DUPLICATE KEY UPDATE\u001b[39m\n\u001b[1;32m     14\u001b[0m \u001b[38;5;124mname=VALUES(name), exchange=VALUES(exchange), sector=VALUES(exchange), market_cap=VALUES(market_cap);\u001b[39m\n\u001b[1;32m     15\u001b[0m \u001b[38;5;124m\"\"\"\u001b[39m\n",
      "\u001b[0;31mNameError\u001b[0m: name 'user' is not defined"
     ]
    }
   ],
   "source": [
    "# insert into database\n",
    "import pymysql\n",
    "\n",
    "con = pymysql.connect(user=user,\n",
    "              passwd=pw,\n",
    "              host=host,\n",
    "              db=db,\n",
    "              charset='utf8')\n",
    "mycursor = con.cursor()\n",
    "query = \"\"\"\n",
    "INSERT INTO ticker_global (name, symbol, exchange, sector, market_cap, country, date)\n",
    "VALUES (%s, %s, %s, %s, %s, %s, %s)\n",
    "ON DUPLICATE KEY UPDATE\n",
    "name=VALUES(name), exchange=VALUES(exchange), sector=VALUES(exchange), market_cap=VALUES(market_cap);\n",
    "\"\"\"\n",
    "\n",
    "args = all_data_df_bind.values.tolist()\n",
    "\n",
    "mycursor.executemany(query, args)\n",
    "con.commit()\n",
    "\n",
    "con.close()"
   ]
  },
  {
   "cell_type": "markdown",
   "metadata": {},
   "source": [
    "## 주가 다운로드"
   ]
  },
  {
   "cell_type": "markdown",
   "metadata": {},
   "source": [
    "야후 파이낸스는 전 세계 주가를 제공하고 있다.\n",
    "[https://finance.yahoo.com](https://finance.yahoo.com)"
   ]
  },
  {
   "cell_type": "code",
   "execution_count": null,
   "metadata": {},
   "outputs": [
    {
     "name": "stdout",
     "output_type": "stream",
     "text": [
      "[*********************100%%**********************]  1 of 1 completed\n"
     ]
    },
    {
     "data": {
      "text/html": [
       "<div>\n",
       "<style scoped>\n",
       "    .dataframe tbody tr th:only-of-type {\n",
       "        vertical-align: middle;\n",
       "    }\n",
       "\n",
       "    .dataframe tbody tr th {\n",
       "        vertical-align: top;\n",
       "    }\n",
       "\n",
       "    .dataframe thead th {\n",
       "        text-align: right;\n",
       "    }\n",
       "</style>\n",
       "<table border=\"1\" class=\"dataframe\">\n",
       "  <thead>\n",
       "    <tr style=\"text-align: right;\">\n",
       "      <th></th>\n",
       "      <th>Open</th>\n",
       "      <th>High</th>\n",
       "      <th>Low</th>\n",
       "      <th>Close</th>\n",
       "      <th>Adj Close</th>\n",
       "      <th>Volume</th>\n",
       "    </tr>\n",
       "    <tr>\n",
       "      <th>Date</th>\n",
       "      <th></th>\n",
       "      <th></th>\n",
       "      <th></th>\n",
       "      <th></th>\n",
       "      <th></th>\n",
       "      <th></th>\n",
       "    </tr>\n",
       "  </thead>\n",
       "  <tbody>\n",
       "    <tr>\n",
       "      <th>1980-12-12</th>\n",
       "      <td>0.128348</td>\n",
       "      <td>0.128906</td>\n",
       "      <td>0.128348</td>\n",
       "      <td>0.128348</td>\n",
       "      <td>0.099319</td>\n",
       "      <td>469033600</td>\n",
       "    </tr>\n",
       "    <tr>\n",
       "      <th>1980-12-15</th>\n",
       "      <td>0.122210</td>\n",
       "      <td>0.122210</td>\n",
       "      <td>0.121652</td>\n",
       "      <td>0.121652</td>\n",
       "      <td>0.094137</td>\n",
       "      <td>175884800</td>\n",
       "    </tr>\n",
       "    <tr>\n",
       "      <th>1980-12-16</th>\n",
       "      <td>0.113281</td>\n",
       "      <td>0.113281</td>\n",
       "      <td>0.112723</td>\n",
       "      <td>0.112723</td>\n",
       "      <td>0.087228</td>\n",
       "      <td>105728000</td>\n",
       "    </tr>\n",
       "    <tr>\n",
       "      <th>1980-12-17</th>\n",
       "      <td>0.115513</td>\n",
       "      <td>0.116071</td>\n",
       "      <td>0.115513</td>\n",
       "      <td>0.115513</td>\n",
       "      <td>0.089387</td>\n",
       "      <td>86441600</td>\n",
       "    </tr>\n",
       "    <tr>\n",
       "      <th>1980-12-18</th>\n",
       "      <td>0.118862</td>\n",
       "      <td>0.119420</td>\n",
       "      <td>0.118862</td>\n",
       "      <td>0.118862</td>\n",
       "      <td>0.091978</td>\n",
       "      <td>73449600</td>\n",
       "    </tr>\n",
       "  </tbody>\n",
       "</table>\n",
       "</div>"
      ],
      "text/plain": [
       "                Open      High       Low     Close  Adj Close     Volume\n",
       "Date                                                                    \n",
       "1980-12-12  0.128348  0.128906  0.128348  0.128348   0.099319  469033600\n",
       "1980-12-15  0.122210  0.122210  0.121652  0.121652   0.094137  175884800\n",
       "1980-12-16  0.113281  0.113281  0.112723  0.112723   0.087228  105728000\n",
       "1980-12-17  0.115513  0.116071  0.115513  0.115513   0.089387   86441600\n",
       "1980-12-18  0.118862  0.119420  0.118862  0.118862   0.091978   73449600"
      ]
     },
     "execution_count": 2,
     "metadata": {},
     "output_type": "execute_result"
    }
   ],
   "source": [
    "import yfinance as yf \n",
    "\n",
    "price = yf.download('AAPL')\n",
    "price.head()"
   ]
  },
  {
   "cell_type": "code",
   "execution_count": null,
   "metadata": {},
   "outputs": [],
   "source": [
    "# [1 of 1 completed] 출력하고 싶지 않을 시, progress=False인자를 추가\n",
    "price = yf.download('AAPL', progress=False)"
   ]
  },
  {
   "cell_type": "code",
   "execution_count": null,
   "metadata": {},
   "outputs": [
    {
     "data": {
      "text/html": [
       "<div>\n",
       "<style scoped>\n",
       "    .dataframe tbody tr th:only-of-type {\n",
       "        vertical-align: middle;\n",
       "    }\n",
       "\n",
       "    .dataframe tbody tr th {\n",
       "        vertical-align: top;\n",
       "    }\n",
       "\n",
       "    .dataframe thead th {\n",
       "        text-align: right;\n",
       "    }\n",
       "</style>\n",
       "<table border=\"1\" class=\"dataframe\">\n",
       "  <thead>\n",
       "    <tr style=\"text-align: right;\">\n",
       "      <th></th>\n",
       "      <th>Open</th>\n",
       "      <th>High</th>\n",
       "      <th>Low</th>\n",
       "      <th>Close</th>\n",
       "      <th>Adj Close</th>\n",
       "      <th>Volume</th>\n",
       "    </tr>\n",
       "    <tr>\n",
       "      <th>Date</th>\n",
       "      <th></th>\n",
       "      <th></th>\n",
       "      <th></th>\n",
       "      <th></th>\n",
       "      <th></th>\n",
       "      <th></th>\n",
       "    </tr>\n",
       "  </thead>\n",
       "  <tbody>\n",
       "    <tr>\n",
       "      <th>2000-01-03</th>\n",
       "      <td>0.936384</td>\n",
       "      <td>1.004464</td>\n",
       "      <td>0.907924</td>\n",
       "      <td>0.999442</td>\n",
       "      <td>0.847207</td>\n",
       "      <td>535796800</td>\n",
       "    </tr>\n",
       "    <tr>\n",
       "      <th>2000-01-04</th>\n",
       "      <td>0.966518</td>\n",
       "      <td>0.987723</td>\n",
       "      <td>0.903460</td>\n",
       "      <td>0.915179</td>\n",
       "      <td>0.775779</td>\n",
       "      <td>512377600</td>\n",
       "    </tr>\n",
       "    <tr>\n",
       "      <th>2000-01-05</th>\n",
       "      <td>0.926339</td>\n",
       "      <td>0.987165</td>\n",
       "      <td>0.919643</td>\n",
       "      <td>0.928571</td>\n",
       "      <td>0.787131</td>\n",
       "      <td>778321600</td>\n",
       "    </tr>\n",
       "    <tr>\n",
       "      <th>2000-01-06</th>\n",
       "      <td>0.947545</td>\n",
       "      <td>0.955357</td>\n",
       "      <td>0.848214</td>\n",
       "      <td>0.848214</td>\n",
       "      <td>0.719014</td>\n",
       "      <td>767972800</td>\n",
       "    </tr>\n",
       "    <tr>\n",
       "      <th>2000-01-07</th>\n",
       "      <td>0.861607</td>\n",
       "      <td>0.901786</td>\n",
       "      <td>0.852679</td>\n",
       "      <td>0.888393</td>\n",
       "      <td>0.753073</td>\n",
       "      <td>460734400</td>\n",
       "    </tr>\n",
       "  </tbody>\n",
       "</table>\n",
       "</div>"
      ],
      "text/plain": [
       "                Open      High       Low     Close  Adj Close     Volume\n",
       "Date                                                                    \n",
       "2000-01-03  0.936384  1.004464  0.907924  0.999442   0.847207  535796800\n",
       "2000-01-04  0.966518  0.987723  0.903460  0.915179   0.775779  512377600\n",
       "2000-01-05  0.926339  0.987165  0.919643  0.928571   0.787131  778321600\n",
       "2000-01-06  0.947545  0.955357  0.848214  0.848214   0.719014  767972800\n",
       "2000-01-07  0.861607  0.901786  0.852679  0.888393   0.753073  460734400"
      ]
     },
     "execution_count": 4,
     "metadata": {},
     "output_type": "execute_result"
    }
   ],
   "source": [
    "# start 인자를 추가하면 데이터 다운로드 기간을 변경 가능\n",
    "price = yf.download('AAPL', start='2000-01-01', progress=False)\n",
    "price.head()"
   ]
  },
  {
   "cell_type": "code",
   "execution_count": null,
   "metadata": {},
   "outputs": [
    {
     "data": {
      "text/html": [
       "<div>\n",
       "<style scoped>\n",
       "    .dataframe tbody tr th:only-of-type {\n",
       "        vertical-align: middle;\n",
       "    }\n",
       "\n",
       "    .dataframe tbody tr th {\n",
       "        vertical-align: top;\n",
       "    }\n",
       "\n",
       "    .dataframe thead th {\n",
       "        text-align: right;\n",
       "    }\n",
       "</style>\n",
       "<table border=\"1\" class=\"dataframe\">\n",
       "  <thead>\n",
       "    <tr style=\"text-align: right;\">\n",
       "      <th></th>\n",
       "      <th>Open</th>\n",
       "      <th>High</th>\n",
       "      <th>Low</th>\n",
       "      <th>Close</th>\n",
       "      <th>Adj Close</th>\n",
       "      <th>Volume</th>\n",
       "    </tr>\n",
       "    <tr>\n",
       "      <th>Date</th>\n",
       "      <th></th>\n",
       "      <th></th>\n",
       "      <th></th>\n",
       "      <th></th>\n",
       "      <th></th>\n",
       "      <th></th>\n",
       "    </tr>\n",
       "  </thead>\n",
       "  <tbody>\n",
       "    <tr>\n",
       "      <th>2000-01-04</th>\n",
       "      <td>13800.0</td>\n",
       "      <td>14000.0</td>\n",
       "      <td>12890.0</td>\n",
       "      <td>13010.0</td>\n",
       "      <td>11240.482422</td>\n",
       "      <td>231000</td>\n",
       "    </tr>\n",
       "    <tr>\n",
       "      <th>2000-01-05</th>\n",
       "      <td>11510.0</td>\n",
       "      <td>12140.0</td>\n",
       "      <td>11020.0</td>\n",
       "      <td>11950.0</td>\n",
       "      <td>10324.653320</td>\n",
       "      <td>672000</td>\n",
       "    </tr>\n",
       "    <tr>\n",
       "      <th>2000-01-06</th>\n",
       "      <td>12000.0</td>\n",
       "      <td>12600.0</td>\n",
       "      <td>11000.0</td>\n",
       "      <td>11020.0</td>\n",
       "      <td>9521.146484</td>\n",
       "      <td>688000</td>\n",
       "    </tr>\n",
       "    <tr>\n",
       "      <th>2000-01-07</th>\n",
       "      <td>10800.0</td>\n",
       "      <td>11530.0</td>\n",
       "      <td>10530.0</td>\n",
       "      <td>10920.0</td>\n",
       "      <td>9434.741211</td>\n",
       "      <td>1203000</td>\n",
       "    </tr>\n",
       "    <tr>\n",
       "      <th>2000-01-10</th>\n",
       "      <td>10920.0</td>\n",
       "      <td>10920.0</td>\n",
       "      <td>10920.0</td>\n",
       "      <td>10920.0</td>\n",
       "      <td>9434.741211</td>\n",
       "      <td>0</td>\n",
       "    </tr>\n",
       "  </tbody>\n",
       "</table>\n",
       "</div>"
      ],
      "text/plain": [
       "               Open     High      Low    Close     Adj Close   Volume\n",
       "Date                                                                 \n",
       "2000-01-04  13800.0  14000.0  12890.0  13010.0  11240.482422   231000\n",
       "2000-01-05  11510.0  12140.0  11020.0  11950.0  10324.653320   672000\n",
       "2000-01-06  12000.0  12600.0  11000.0  11020.0   9521.146484   688000\n",
       "2000-01-07  10800.0  11530.0  10530.0  10920.0   9434.741211  1203000\n",
       "2000-01-10  10920.0  10920.0  10920.0  10920.0   9434.741211        0"
      ]
     },
     "execution_count": 5,
     "metadata": {},
     "output_type": "execute_result"
    }
   ],
   "source": [
    "# 일본 티커\n",
    "price = yf.download('8035.T', progress= False)\n",
    "price.head()"
   ]
  },
  {
   "cell_type": "markdown",
   "metadata": {},
   "source": [
    "### 전 종목 주가 다운로드"
   ]
  },
  {
   "cell_type": "code",
   "execution_count": null,
   "metadata": {},
   "outputs": [],
   "source": [
    "# import packages\n",
    "import pymysql\n",
    "from sqlalchemy import create_engine\n",
    "import pandas as pd\n",
    "import yfinance as yf\n",
    "import time\n",
    "from tqdm import tqdm\n",
    "\n",
    "user = 'root'\n",
    "pw = '04250629'\n",
    "host = '127.0.0.1'\n",
    "db = 'stock'\n",
    "port = '3306'\n",
    "\n",
    "# connect DB\n",
    "engine = create_engine(f'mysql+pymysql://{user}:{pw}@{host}:{port}/{db}')\n",
    "\n",
    "con = pymysql.connect(\n",
    "    user=user,\n",
    "    passwd=pw,\n",
    "    host=host,\n",
    "    db=db,\n",
    "    charset='utf8'\n",
    ")\n",
    "mycursor = con.cursor()\n",
    "\n",
    "# select ticker lists\n",
    "ticker_list = pd.read_sql(\n",
    "    \"\"\" \n",
    "    SELECT * FROM ticker_global\n",
    "    WHERE date = (SELECT MAX(date) FROM ticker_global)\n",
    "    AND country = 'United States';\n",
    "    \"\"\"\n",
    ", con=engine)\n",
    "\n",
    "# insert into database\n",
    "query = \"\"\" \n",
    "INSERT INTO price_global (date, high, low, open, close, volume, adj_close, ticker)\n",
    "VALUES (%s, %s, %s, %s, %s, %s, %s, %s)\n",
    "ON DUPLICATE KEY UPDATE\n",
    "high=VALUE(high), low=VALUES(low), open=VALUES(open), close=VALUES(close), volume=VALUES(volume), adj_close=VALUES(adj_close);\n",
    "\"\"\""
   ]
  },
  {
   "cell_type": "code",
   "execution_count": null,
   "metadata": {},
   "outputs": [
    {
     "name": "stderr",
     "output_type": "stream",
     "text": [
      "  3%|▎         | 146/5286 [06:17<3:30:49,  2.46s/it]\n",
      "1 Failed download:\n",
      "['AGMA']: Exception('%ticker%: No timezone found, symbol may be delisted')\n",
      " 12%|█▏        | 610/5286 [26:42<3:20:16,  2.57s/it]\n",
      "1 Failed download:\n",
      "['BFA']: Exception('%ticker%: No timezone found, symbol may be delisted')\n",
      " 12%|█▏        | 613/5286 [26:50<3:17:41,  2.54s/it]\n",
      "1 Failed download:\n",
      "['BFB']: Exception('%ticker%: No timezone found, symbol may be delisted')\n",
      " 12%|█▏        | 654/5286 [28:39<3:35:53,  2.80s/it]\n",
      "1 Failed download:\n",
      "['BIOB']: Exception('%ticker%: No timezone found, symbol may be delisted')\n",
      " 14%|█▎        | 720/5286 [31:35<3:14:02,  2.55s/it]\n",
      "1 Failed download:\n",
      "['BNREA']: Exception('%ticker%: No timezone found, symbol may be delisted')\n",
      " 14%|█▍        | 760/5286 [33:19<3:24:08,  2.71s/it]\n",
      "1 Failed download:\n",
      "['BRKA']: Exception('%ticker%: No timezone found, symbol may be delisted')\n",
      " 14%|█▍        | 761/5286 [33:22<3:23:35,  2.70s/it]\n",
      "1 Failed download:\n",
      "['BRKB']: Exception('%ticker%: No timezone found, symbol may be delisted')\n",
      " 23%|██▎       | 1195/5286 [52:54<2:49:03,  2.48s/it]\n",
      "1 Failed download:\n",
      "['CRDA']: Exception('%ticker%: No price data found, symbol may be delisted (1d 1924-12-18 -> 2023-11-24)')\n",
      " 25%|██▍       | 1313/5286 [58:18<2:55:15,  2.65s/it]\n",
      "1 Failed download:\n",
      "['CWENA']: Exception('%ticker%: No timezone found, symbol may be delisted')\n",
      " 30%|██▉       | 1585/5286 [1:11:33<2:43:08,  2.64s/it]\n",
      "1 Failed download:\n",
      "['ELEP']: Exception('%ticker%: No timezone found, symbol may be delisted')\n",
      " 38%|███▊      | 2006/5286 [1:31:20<2:35:32,  2.85s/it]\n",
      "1 Failed download:\n",
      "['GEFB']: Exception('%ticker%: No timezone found, symbol may be delisted')\n",
      " 39%|███▉      | 2065/5286 [1:34:02<2:30:01,  2.79s/it]\n",
      "1 Failed download:\n",
      "['GLTA']: Exception('%ticker%: No timezone found, symbol may be delisted')\n",
      " 41%|████      | 2161/5286 [1:38:17<2:20:17,  2.69s/it]\n",
      "1 Failed download:\n",
      "['GTNA']: Exception('%ticker%: No timezone found, symbol may be delisted')\n",
      " 42%|████▏     | 2215/5286 [1:40:47<2:38:12,  3.09s/it]\n",
      "1 Failed download:\n",
      "['HEIA']: Exception('%ticker%: No timezone found, symbol may be delisted')\n",
      " 44%|████▍     | 2337/5286 [1:46:22<2:21:26,  2.88s/it]\n",
      "1 Failed download:\n",
      "['HVTA']: Exception('%ticker%: No timezone found, symbol may be delisted')\n",
      " 46%|████▋     | 2455/5286 [1:51:40<2:12:34,  2.81s/it]\n",
      "1 Failed download:\n",
      "['INHD']: Exception('%ticker%: No timezone found, symbol may be delisted')\n",
      " 52%|█████▏    | 2728/5286 [2:03:57<1:50:08,  2.58s/it]\n",
      "1 Failed download:\n",
      "['LAC_W']: Exception('%ticker%: No timezone found, symbol may be delisted')\n",
      " 53%|█████▎    | 2776/5286 [2:06:10<2:05:18,  3.00s/it]\n",
      "1 Failed download:\n",
      "['LENB']: Exception('%ticker%: No timezone found, symbol may be delisted')\n",
      " 53%|█████▎    | 2790/5286 [2:06:47<1:57:07,  2.82s/it]\n",
      "1 Failed download:\n",
      "['LGCL']: Exception('%ticker%: No timezone found, symbol may be delisted')\n",
      " 53%|█████▎    | 2791/5286 [2:06:50<1:53:27,  2.73s/it]\n",
      "1 Failed download:\n",
      "['LGFA']: Exception('%ticker%: No timezone found, symbol may be delisted')\n",
      " 53%|█████▎    | 2792/5286 [2:06:52<1:49:41,  2.64s/it]\n",
      "1 Failed download:\n",
      "['LGFB']: Exception('%ticker%: No timezone found, symbol may be delisted')\n",
      " 58%|█████▊    | 3072/5286 [2:19:35<1:48:04,  2.93s/it]\n",
      "1 Failed download:\n",
      "['MKCV']: Exception('%ticker%: No timezone found, symbol may be delisted')\n",
      " 59%|█████▉    | 3124/5286 [2:21:59<1:40:29,  2.79s/it]\n",
      "1 Failed download:\n",
      "['MOGA']: Exception('%ticker%: No timezone found, symbol may be delisted')\n",
      " 59%|█████▉    | 3125/5286 [2:22:02<1:40:07,  2.78s/it]\n",
      "1 Failed download:\n",
      "['MOGB']: Exception('%ticker%: No timezone found, symbol may be delisted')\n",
      " 71%|███████   | 3729/5286 [2:49:37<1:08:43,  2.65s/it]\n",
      "1 Failed download:\n",
      "['PHGE_U']: Exception('%ticker%: No timezone found, symbol may be delisted')\n",
      " 76%|███████▌  | 4022/5286 [3:02:40<55:11,  2.62s/it]  \n",
      "1 Failed download:\n",
      "['RF_PC']: Exception('%ticker%: No timezone found, symbol may be delisted')\n",
      " 77%|███████▋  | 4053/5286 [3:04:06<1:00:27,  2.94s/it]\n",
      "1 Failed download:\n",
      "['RLND']: Exception('%ticker%: No timezone found, symbol may be delisted')\n",
      " 83%|████████▎ | 4366/5286 [3:18:02<39:31,  2.58s/it]  \n",
      "1 Failed download:\n",
      "['SMXT']: Exception('%ticker%: No price data found, symbol may be delisted (1d 1924-12-18 -> 2023-11-24)')\n",
      " 87%|████████▋ | 4577/5286 [3:27:28<34:08,  2.89s/it]\n",
      "1 Failed download:\n",
      "['TAPA']: Exception('%ticker%: No price data found, symbol may be delisted (1d 1924-12-18 -> 2023-11-24)')\n",
      " 92%|█████████▏| 4851/5286 [3:40:36<30:18,  4.18s/it]\n",
      "1 Failed download:\n",
      "['UHALB']: Exception('%ticker%: No timezone found, symbol may be delisted')\n",
      " 92%|█████████▏| 4889/5286 [3:42:32<16:37,  2.51s/it]\n",
      "1 Failed download:\n",
      "['US90275F1966=UBSS']: Exception('%ticker%: No timezone found, symbol may be delisted')\n",
      " 98%|█████████▊| 5167/5286 [3:55:25<06:10,  3.11s/it]\n",
      "1 Failed download:\n",
      "['WSOB']: Exception('%ticker%: No timezone found, symbol may be delisted')\n",
      "100%|██████████| 5286/5286 [4:00:37<00:00,  2.73s/it]\n"
     ]
    }
   ],
   "source": [
    "# error list\n",
    "error_list = []\n",
    "\n",
    "# download all prices of all tickers\n",
    "for i in tqdm(range(0, len(ticker_list))):\n",
    "    \n",
    "    # select a ticker\n",
    "    ticker = ticker_list['symbol'][i]\n",
    "    \n",
    "    # if error happens, it will be ignored\n",
    "    try:\n",
    "        # download price\n",
    "        price = yf.download(ticker, progress=False)\n",
    "        \n",
    "        # clean data\n",
    "        price = price.reset_index()\n",
    "        price['ticker'] = ticker\n",
    "        \n",
    "        # insert into DB\n",
    "        args = price.values.tolist()\n",
    "        mycursor.executemany(query, args)\n",
    "        con.commit()\n",
    "    \n",
    "    except:\n",
    "        print(ticker)\n",
    "        error_list.append(ticker)\n",
    "        \n",
    "    time.sleep(2)\n",
    "\n",
    "# close the connection\n",
    "engine.dispose()\n",
    "con.close()"
   ]
  },
  {
   "cell_type": "markdown",
   "metadata": {},
   "source": [
    "## 재무제표 다운로드"
   ]
  },
  {
   "cell_type": "code",
   "execution_count": null,
   "metadata": {},
   "outputs": [],
   "source": [
    "from yahooquery import Ticker\n",
    "import numpy as np\n",
    "\n",
    "data = Ticker('AAPL')"
   ]
  },
  {
   "cell_type": "code",
   "execution_count": null,
   "metadata": {},
   "outputs": [
    {
     "data": {
      "text/html": [
       "<div>\n",
       "<style scoped>\n",
       "    .dataframe tbody tr th:only-of-type {\n",
       "        vertical-align: middle;\n",
       "    }\n",
       "\n",
       "    .dataframe tbody tr th {\n",
       "        vertical-align: top;\n",
       "    }\n",
       "\n",
       "    .dataframe thead th {\n",
       "        text-align: right;\n",
       "    }\n",
       "</style>\n",
       "<table border=\"1\" class=\"dataframe\">\n",
       "  <thead>\n",
       "    <tr style=\"text-align: right;\">\n",
       "      <th></th>\n",
       "      <th>asOfDate</th>\n",
       "      <th>periodType</th>\n",
       "      <th>currencyCode</th>\n",
       "      <th>AccountsPayable</th>\n",
       "      <th>AccountsReceivable</th>\n",
       "      <th>AccumulatedDepreciation</th>\n",
       "      <th>AvailableForSaleSecurities</th>\n",
       "      <th>BasicAverageShares</th>\n",
       "      <th>BasicEPS</th>\n",
       "      <th>BeginningCashPosition</th>\n",
       "      <th>...</th>\n",
       "      <th>TotalEquityGrossMinorityInterest</th>\n",
       "      <th>TotalExpenses</th>\n",
       "      <th>TotalLiabilitiesNetMinorityInterest</th>\n",
       "      <th>TotalNonCurrentAssets</th>\n",
       "      <th>TotalNonCurrentLiabilitiesNetMinorityInterest</th>\n",
       "      <th>TotalOperatingIncomeAsReported</th>\n",
       "      <th>TotalRevenue</th>\n",
       "      <th>TradeandOtherPayablesNonCurrent</th>\n",
       "      <th>TreasurySharesNumber</th>\n",
       "      <th>WorkingCapital</th>\n",
       "    </tr>\n",
       "    <tr>\n",
       "      <th>symbol</th>\n",
       "      <th></th>\n",
       "      <th></th>\n",
       "      <th></th>\n",
       "      <th></th>\n",
       "      <th></th>\n",
       "      <th></th>\n",
       "      <th></th>\n",
       "      <th></th>\n",
       "      <th></th>\n",
       "      <th></th>\n",
       "      <th></th>\n",
       "      <th></th>\n",
       "      <th></th>\n",
       "      <th></th>\n",
       "      <th></th>\n",
       "      <th></th>\n",
       "      <th></th>\n",
       "      <th></th>\n",
       "      <th></th>\n",
       "      <th></th>\n",
       "      <th></th>\n",
       "    </tr>\n",
       "  </thead>\n",
       "  <tbody>\n",
       "    <tr>\n",
       "      <th>AAPL</th>\n",
       "      <td>2020-09-30</td>\n",
       "      <td>12M</td>\n",
       "      <td>USD</td>\n",
       "      <td>4.229600e+10</td>\n",
       "      <td>1.612000e+10</td>\n",
       "      <td>-6.676000e+10</td>\n",
       "      <td>1.008870e+11</td>\n",
       "      <td>1.735212e+10</td>\n",
       "      <td>3.31</td>\n",
       "      <td>5.022400e+10</td>\n",
       "      <td>...</td>\n",
       "      <td>6.533900e+10</td>\n",
       "      <td>2.082270e+11</td>\n",
       "      <td>2.585490e+11</td>\n",
       "      <td>1.801750e+11</td>\n",
       "      <td>1.531570e+11</td>\n",
       "      <td>6.628800e+10</td>\n",
       "      <td>2.745150e+11</td>\n",
       "      <td>2.817000e+10</td>\n",
       "      <td>NaN</td>\n",
       "      <td>3.832100e+10</td>\n",
       "    </tr>\n",
       "    <tr>\n",
       "      <th>AAPL</th>\n",
       "      <td>2021-09-30</td>\n",
       "      <td>12M</td>\n",
       "      <td>USD</td>\n",
       "      <td>5.476300e+10</td>\n",
       "      <td>2.627800e+10</td>\n",
       "      <td>-7.028300e+10</td>\n",
       "      <td>1.278770e+11</td>\n",
       "      <td>1.670127e+10</td>\n",
       "      <td>5.67</td>\n",
       "      <td>3.978900e+10</td>\n",
       "      <td>...</td>\n",
       "      <td>6.309000e+10</td>\n",
       "      <td>2.568680e+11</td>\n",
       "      <td>2.879120e+11</td>\n",
       "      <td>2.161660e+11</td>\n",
       "      <td>1.624310e+11</td>\n",
       "      <td>1.089490e+11</td>\n",
       "      <td>3.658170e+11</td>\n",
       "      <td>2.468900e+10</td>\n",
       "      <td>NaN</td>\n",
       "      <td>9.355000e+09</td>\n",
       "    </tr>\n",
       "    <tr>\n",
       "      <th>AAPL</th>\n",
       "      <td>2022-09-30</td>\n",
       "      <td>12M</td>\n",
       "      <td>USD</td>\n",
       "      <td>6.411500e+10</td>\n",
       "      <td>2.818400e+10</td>\n",
       "      <td>-7.234000e+10</td>\n",
       "      <td>1.208050e+11</td>\n",
       "      <td>1.621596e+10</td>\n",
       "      <td>6.15</td>\n",
       "      <td>3.592900e+10</td>\n",
       "      <td>...</td>\n",
       "      <td>5.067200e+10</td>\n",
       "      <td>2.748910e+11</td>\n",
       "      <td>3.020830e+11</td>\n",
       "      <td>2.173500e+11</td>\n",
       "      <td>1.481010e+11</td>\n",
       "      <td>1.194370e+11</td>\n",
       "      <td>3.943280e+11</td>\n",
       "      <td>1.665700e+10</td>\n",
       "      <td>NaN</td>\n",
       "      <td>-1.857700e+10</td>\n",
       "    </tr>\n",
       "    <tr>\n",
       "      <th>AAPL</th>\n",
       "      <td>2023-09-30</td>\n",
       "      <td>12M</td>\n",
       "      <td>USD</td>\n",
       "      <td>6.261100e+10</td>\n",
       "      <td>2.950800e+10</td>\n",
       "      <td>NaN</td>\n",
       "      <td>1.005440e+11</td>\n",
       "      <td>1.574423e+10</td>\n",
       "      <td>6.16</td>\n",
       "      <td>2.497700e+10</td>\n",
       "      <td>...</td>\n",
       "      <td>6.214600e+10</td>\n",
       "      <td>2.689840e+11</td>\n",
       "      <td>2.904370e+11</td>\n",
       "      <td>2.090170e+11</td>\n",
       "      <td>1.451290e+11</td>\n",
       "      <td>1.143010e+11</td>\n",
       "      <td>3.832850e+11</td>\n",
       "      <td>NaN</td>\n",
       "      <td>0.0</td>\n",
       "      <td>-1.742000e+09</td>\n",
       "    </tr>\n",
       "  </tbody>\n",
       "</table>\n",
       "<p>4 rows × 158 columns</p>\n",
       "</div>"
      ],
      "text/plain": [
       "         asOfDate periodType currencyCode  AccountsPayable  \\\n",
       "symbol                                                       \n",
       "AAPL   2020-09-30        12M          USD     4.229600e+10   \n",
       "AAPL   2021-09-30        12M          USD     5.476300e+10   \n",
       "AAPL   2022-09-30        12M          USD     6.411500e+10   \n",
       "AAPL   2023-09-30        12M          USD     6.261100e+10   \n",
       "\n",
       "        AccountsReceivable  AccumulatedDepreciation  \\\n",
       "symbol                                                \n",
       "AAPL          1.612000e+10            -6.676000e+10   \n",
       "AAPL          2.627800e+10            -7.028300e+10   \n",
       "AAPL          2.818400e+10            -7.234000e+10   \n",
       "AAPL          2.950800e+10                      NaN   \n",
       "\n",
       "        AvailableForSaleSecurities  BasicAverageShares  BasicEPS  \\\n",
       "symbol                                                             \n",
       "AAPL                  1.008870e+11        1.735212e+10      3.31   \n",
       "AAPL                  1.278770e+11        1.670127e+10      5.67   \n",
       "AAPL                  1.208050e+11        1.621596e+10      6.15   \n",
       "AAPL                  1.005440e+11        1.574423e+10      6.16   \n",
       "\n",
       "        BeginningCashPosition  ...  TotalEquityGrossMinorityInterest  \\\n",
       "symbol                         ...                                     \n",
       "AAPL             5.022400e+10  ...                      6.533900e+10   \n",
       "AAPL             3.978900e+10  ...                      6.309000e+10   \n",
       "AAPL             3.592900e+10  ...                      5.067200e+10   \n",
       "AAPL             2.497700e+10  ...                      6.214600e+10   \n",
       "\n",
       "        TotalExpenses  TotalLiabilitiesNetMinorityInterest  \\\n",
       "symbol                                                       \n",
       "AAPL     2.082270e+11                         2.585490e+11   \n",
       "AAPL     2.568680e+11                         2.879120e+11   \n",
       "AAPL     2.748910e+11                         3.020830e+11   \n",
       "AAPL     2.689840e+11                         2.904370e+11   \n",
       "\n",
       "        TotalNonCurrentAssets  TotalNonCurrentLiabilitiesNetMinorityInterest  \\\n",
       "symbol                                                                         \n",
       "AAPL             1.801750e+11                                   1.531570e+11   \n",
       "AAPL             2.161660e+11                                   1.624310e+11   \n",
       "AAPL             2.173500e+11                                   1.481010e+11   \n",
       "AAPL             2.090170e+11                                   1.451290e+11   \n",
       "\n",
       "        TotalOperatingIncomeAsReported  TotalRevenue  \\\n",
       "symbol                                                 \n",
       "AAPL                      6.628800e+10  2.745150e+11   \n",
       "AAPL                      1.089490e+11  3.658170e+11   \n",
       "AAPL                      1.194370e+11  3.943280e+11   \n",
       "AAPL                      1.143010e+11  3.832850e+11   \n",
       "\n",
       "        TradeandOtherPayablesNonCurrent  TreasurySharesNumber  WorkingCapital  \n",
       "symbol                                                                         \n",
       "AAPL                       2.817000e+10                   NaN    3.832100e+10  \n",
       "AAPL                       2.468900e+10                   NaN    9.355000e+09  \n",
       "AAPL                       1.665700e+10                   NaN   -1.857700e+10  \n",
       "AAPL                                NaN                   0.0   -1.742000e+09  \n",
       "\n",
       "[4 rows x 158 columns]"
      ]
     },
     "execution_count": 48,
     "metadata": {},
     "output_type": "execute_result"
    }
   ],
   "source": [
    "# annual financial statements\n",
    "data_y = data.all_financial_data(frequency='a')\n",
    "data_y"
   ]
  },
  {
   "cell_type": "code",
   "execution_count": null,
   "metadata": {},
   "outputs": [
    {
     "data": {
      "text/html": [
       "<div>\n",
       "<style scoped>\n",
       "    .dataframe tbody tr th:only-of-type {\n",
       "        vertical-align: middle;\n",
       "    }\n",
       "\n",
       "    .dataframe tbody tr th {\n",
       "        vertical-align: top;\n",
       "    }\n",
       "\n",
       "    .dataframe thead th {\n",
       "        text-align: right;\n",
       "    }\n",
       "</style>\n",
       "<table border=\"1\" class=\"dataframe\">\n",
       "  <thead>\n",
       "    <tr style=\"text-align: right;\">\n",
       "      <th></th>\n",
       "      <th>ticker</th>\n",
       "      <th>date</th>\n",
       "      <th>account</th>\n",
       "      <th>value</th>\n",
       "      <th>freq</th>\n",
       "    </tr>\n",
       "  </thead>\n",
       "  <tbody>\n",
       "    <tr>\n",
       "      <th>0</th>\n",
       "      <td>AAPL</td>\n",
       "      <td>2020-09-30</td>\n",
       "      <td>AccountsPayable</td>\n",
       "      <td>42296000000.0</td>\n",
       "      <td>y</td>\n",
       "    </tr>\n",
       "    <tr>\n",
       "      <th>1</th>\n",
       "      <td>AAPL</td>\n",
       "      <td>2021-09-30</td>\n",
       "      <td>AccountsPayable</td>\n",
       "      <td>54763000000.0</td>\n",
       "      <td>y</td>\n",
       "    </tr>\n",
       "    <tr>\n",
       "      <th>2</th>\n",
       "      <td>AAPL</td>\n",
       "      <td>2022-09-30</td>\n",
       "      <td>AccountsPayable</td>\n",
       "      <td>64115000000.0</td>\n",
       "      <td>y</td>\n",
       "    </tr>\n",
       "    <tr>\n",
       "      <th>3</th>\n",
       "      <td>AAPL</td>\n",
       "      <td>2023-09-30</td>\n",
       "      <td>AccountsPayable</td>\n",
       "      <td>62611000000.0</td>\n",
       "      <td>y</td>\n",
       "    </tr>\n",
       "    <tr>\n",
       "      <th>4</th>\n",
       "      <td>AAPL</td>\n",
       "      <td>2020-09-30</td>\n",
       "      <td>AccountsReceivable</td>\n",
       "      <td>16120000000.0</td>\n",
       "      <td>y</td>\n",
       "    </tr>\n",
       "  </tbody>\n",
       "</table>\n",
       "</div>"
      ],
      "text/plain": [
       "  ticker       date             account          value freq\n",
       "0   AAPL 2020-09-30     AccountsPayable  42296000000.0    y\n",
       "1   AAPL 2021-09-30     AccountsPayable  54763000000.0    y\n",
       "2   AAPL 2022-09-30     AccountsPayable  64115000000.0    y\n",
       "3   AAPL 2023-09-30     AccountsPayable  62611000000.0    y\n",
       "4   AAPL 2020-09-30  AccountsReceivable  16120000000.0    y"
      ]
     },
     "execution_count": 49,
     "metadata": {},
     "output_type": "execute_result"
    }
   ],
   "source": [
    "# clean data\n",
    "data_y.reset_index(inplace=True)\n",
    "data_y = data_y.loc[:, ~data_y.columns.isin(['periodType', 'currencyCode'])]\n",
    "data_y = data_y.melt(id_vars=['symbol', 'asOfDate'])\n",
    "data_y = data_y.replace([np.nan], None)\n",
    "data_y['freq'] = 'y'\n",
    "data_y.columns = ['ticker', 'date', 'account', 'value', 'freq']\n",
    "\n",
    "data_y.head()"
   ]
  },
  {
   "cell_type": "code",
   "execution_count": null,
   "metadata": {},
   "outputs": [
    {
     "data": {
      "text/html": [
       "<div>\n",
       "<style scoped>\n",
       "    .dataframe tbody tr th:only-of-type {\n",
       "        vertical-align: middle;\n",
       "    }\n",
       "\n",
       "    .dataframe tbody tr th {\n",
       "        vertical-align: top;\n",
       "    }\n",
       "\n",
       "    .dataframe thead th {\n",
       "        text-align: right;\n",
       "    }\n",
       "</style>\n",
       "<table border=\"1\" class=\"dataframe\">\n",
       "  <thead>\n",
       "    <tr style=\"text-align: right;\">\n",
       "      <th></th>\n",
       "      <th>ticker</th>\n",
       "      <th>date</th>\n",
       "      <th>account</th>\n",
       "      <th>value</th>\n",
       "      <th>freq</th>\n",
       "    </tr>\n",
       "  </thead>\n",
       "  <tbody>\n",
       "    <tr>\n",
       "      <th>0</th>\n",
       "      <td>AAPL</td>\n",
       "      <td>2022-09-30</td>\n",
       "      <td>AccountsPayable</td>\n",
       "      <td>64115000000.0</td>\n",
       "      <td>q</td>\n",
       "    </tr>\n",
       "    <tr>\n",
       "      <th>1</th>\n",
       "      <td>AAPL</td>\n",
       "      <td>2022-12-31</td>\n",
       "      <td>AccountsPayable</td>\n",
       "      <td>57918000000.0</td>\n",
       "      <td>q</td>\n",
       "    </tr>\n",
       "    <tr>\n",
       "      <th>2</th>\n",
       "      <td>AAPL</td>\n",
       "      <td>2023-03-31</td>\n",
       "      <td>AccountsPayable</td>\n",
       "      <td>42945000000.0</td>\n",
       "      <td>q</td>\n",
       "    </tr>\n",
       "    <tr>\n",
       "      <th>3</th>\n",
       "      <td>AAPL</td>\n",
       "      <td>2023-06-30</td>\n",
       "      <td>AccountsPayable</td>\n",
       "      <td>46699000000.0</td>\n",
       "      <td>q</td>\n",
       "    </tr>\n",
       "    <tr>\n",
       "      <th>4</th>\n",
       "      <td>AAPL</td>\n",
       "      <td>2023-09-30</td>\n",
       "      <td>AccountsPayable</td>\n",
       "      <td>62611000000.0</td>\n",
       "      <td>q</td>\n",
       "    </tr>\n",
       "  </tbody>\n",
       "</table>\n",
       "</div>"
      ],
      "text/plain": [
       "  ticker       date          account          value freq\n",
       "0   AAPL 2022-09-30  AccountsPayable  64115000000.0    q\n",
       "1   AAPL 2022-12-31  AccountsPayable  57918000000.0    q\n",
       "2   AAPL 2023-03-31  AccountsPayable  42945000000.0    q\n",
       "3   AAPL 2023-06-30  AccountsPayable  46699000000.0    q\n",
       "4   AAPL 2023-09-30  AccountsPayable  62611000000.0    q"
      ]
     },
     "execution_count": 51,
     "metadata": {},
     "output_type": "execute_result"
    }
   ],
   "source": [
    "# quaterly financial statements\n",
    "data_q = data.all_financial_data(frequency='q')\n",
    "data_q.reset_index(inplace=True)\n",
    "data_q = data_q.loc[:, ~data_q.columns.isin(['periodType', 'currencyCode'])]\n",
    "data_q = data_q.melt(id_vars=['symbol', 'asOfDate'])\n",
    "data_q = data_q.replace([np.nan], None)\n",
    "data_q['freq'] = 'q'\n",
    "data_q.columns = ['ticker', 'date', 'account', 'value', 'freq']\n",
    "\n",
    "data_q.head()"
   ]
  },
  {
   "cell_type": "markdown",
   "metadata": {},
   "source": [
    "### 전 종목 재무제표 다운로드"
   ]
  },
  {
   "cell_type": "code",
   "execution_count": null,
   "metadata": {},
   "outputs": [],
   "source": [
    "from sqlalchemy import create_engine\n",
    "import pymysql\n",
    "import pandas as pd\n",
    "from yahooquery import Ticker\n",
    "import time\n",
    "from tqdm import tqdm\n",
    "import numpy as np\n",
    "import keyring\n",
    "\n",
    "# connect Database\n",
    "\n",
    "user = 'root'\n",
    "pw = keyring.get_password('local_db', user)\n",
    "host = '127.0.0.1'\n",
    "port = '3306'\n",
    "db = 'stock'\n",
    "\n",
    "engine = create_engine(f'mysql+pymysql://{user}:{pw}@{host}:{port}/{db}')\n",
    "con = pymysql.connect(\n",
    "    user=user,\n",
    "    passwd=pw,\n",
    "    host=host,\n",
    "    db=db,\n",
    "    charset='utf8'\n",
    ")\n",
    "mycursor = con.cursor()"
   ]
  },
  {
   "cell_type": "code",
   "execution_count": null,
   "metadata": {},
   "outputs": [],
   "source": [
    "con.close()\n",
    "engine.dispose()"
   ]
  },
  {
   "cell_type": "code",
   "execution_count": null,
   "metadata": {},
   "outputs": [],
   "source": [
    "# select ticker list\n",
    "ticker_list = pd.read_sql(\n",
    "    \"\"\" \n",
    "    SELECT * FROM ticker_global\n",
    "    WHERE date = (SELECT MAX(date) FROM ticker_global)\n",
    "    AND country='United States';\n",
    "    \"\"\"\n",
    ", con=engine)"
   ]
  },
  {
   "cell_type": "code",
   "execution_count": null,
   "metadata": {},
   "outputs": [
    {
     "name": "stderr",
     "output_type": "stream",
     "text": [
      "  3%|▎         | 146/5286 [09:40<5:36:48,  3.93s/it]"
     ]
    },
    {
     "name": "stdout",
     "output_type": "stream",
     "text": [
      "AGMa\n"
     ]
    },
    {
     "name": "stderr",
     "output_type": "stream",
     "text": [
      "  4%|▍         | 214/5286 [14:06<5:38:29,  4.00s/it]"
     ]
    },
    {
     "name": "stdout",
     "output_type": "stream",
     "text": [
      "ALLG\n"
     ]
    },
    {
     "name": "stderr",
     "output_type": "stream",
     "text": [
      "  7%|▋         | 359/5286 [23:33<5:31:00,  4.03s/it]"
     ]
    },
    {
     "name": "stdout",
     "output_type": "stream",
     "text": [
      "ARBB\n"
     ]
    },
    {
     "name": "stderr",
     "output_type": "stream",
     "text": [
      "  7%|▋         | 394/5286 [25:51<5:32:36,  4.08s/it]"
     ]
    },
    {
     "name": "stdout",
     "output_type": "stream",
     "text": [
      "ARVL\n"
     ]
    },
    {
     "name": "stderr",
     "output_type": "stream",
     "text": [
      " 11%|█         | 572/5286 [37:35<5:37:17,  4.29s/it]"
     ]
    },
    {
     "name": "stdout",
     "output_type": "stream",
     "text": [
      "BCAL\n"
     ]
    },
    {
     "name": "stderr",
     "output_type": "stream",
     "text": [
      " 12%|█▏        | 610/5286 [40:06<5:07:05,  3.94s/it]"
     ]
    },
    {
     "name": "stdout",
     "output_type": "stream",
     "text": [
      "BFa\n"
     ]
    },
    {
     "name": "stderr",
     "output_type": "stream",
     "text": [
      " 12%|█▏        | 613/5286 [40:17<5:01:00,  3.86s/it]"
     ]
    },
    {
     "name": "stdout",
     "output_type": "stream",
     "text": [
      "BFb\n"
     ]
    },
    {
     "name": "stderr",
     "output_type": "stream",
     "text": [
      " 12%|█▏        | 632/5286 [41:31<5:09:44,  3.99s/it]"
     ]
    },
    {
     "name": "stdout",
     "output_type": "stream",
     "text": [
      "BHa\n"
     ]
    },
    {
     "name": "stderr",
     "output_type": "stream",
     "text": [
      " 12%|█▏        | 634/5286 [41:37<4:37:13,  3.58s/it]"
     ]
    },
    {
     "name": "stdout",
     "output_type": "stream",
     "text": [
      "BHAT\n"
     ]
    },
    {
     "name": "stderr",
     "output_type": "stream",
     "text": [
      " 12%|█▏        | 654/5286 [42:57<5:17:34,  4.11s/it]"
     ]
    },
    {
     "name": "stdout",
     "output_type": "stream",
     "text": [
      "BIOb\n"
     ]
    },
    {
     "name": "stderr",
     "output_type": "stream",
     "text": [
      " 14%|█▎        | 720/5286 [47:17<5:03:29,  3.99s/it]"
     ]
    },
    {
     "name": "stdout",
     "output_type": "stream",
     "text": [
      "BNREa\n"
     ]
    },
    {
     "name": "stderr",
     "output_type": "stream",
     "text": [
      " 14%|█▍        | 738/5286 [48:26<4:58:15,  3.93s/it]"
     ]
    },
    {
     "name": "stdout",
     "output_type": "stream",
     "text": [
      "BOWN\n"
     ]
    },
    {
     "name": "stderr",
     "output_type": "stream",
     "text": [
      " 14%|█▍        | 760/5286 [49:52<4:47:22,  3.81s/it]"
     ]
    },
    {
     "name": "stdout",
     "output_type": "stream",
     "text": [
      "BRKa\n"
     ]
    },
    {
     "name": "stderr",
     "output_type": "stream",
     "text": [
      " 14%|█▍        | 761/5286 [49:55<4:25:49,  3.52s/it]"
     ]
    },
    {
     "name": "stdout",
     "output_type": "stream",
     "text": [
      "BRKb\n"
     ]
    },
    {
     "name": "stderr",
     "output_type": "stream",
     "text": [
      " 15%|█▌        | 808/5286 [53:00<5:06:41,  4.11s/it]"
     ]
    },
    {
     "name": "stdout",
     "output_type": "stream",
     "text": [
      "BVFL\n"
     ]
    },
    {
     "name": "stderr",
     "output_type": "stream",
     "text": [
      " 16%|█▋        | 866/5286 [56:53<5:00:36,  4.08s/it]"
     ]
    },
    {
     "name": "stdout",
     "output_type": "stream",
     "text": [
      "CAPT\n"
     ]
    },
    {
     "name": "stderr",
     "output_type": "stream",
     "text": [
      " 22%|██▏       | 1168/5286 [1:17:10<4:36:40,  4.03s/it]"
     ]
    },
    {
     "name": "stdout",
     "output_type": "stream",
     "text": [
      "CPBI\n"
     ]
    },
    {
     "name": "stderr",
     "output_type": "stream",
     "text": [
      " 23%|██▎       | 1195/5286 [1:19:00<4:40:09,  4.11s/it]"
     ]
    },
    {
     "name": "stdout",
     "output_type": "stream",
     "text": [
      "CRDa\n"
     ]
    },
    {
     "name": "stderr",
     "output_type": "stream",
     "text": [
      " 23%|██▎       | 1196/5286 [1:19:03<4:13:41,  3.72s/it]"
     ]
    },
    {
     "name": "stdout",
     "output_type": "stream",
     "text": [
      "CRDb\n"
     ]
    },
    {
     "name": "stderr",
     "output_type": "stream",
     "text": [
      " 25%|██▍       | 1313/5286 [1:27:00<4:25:56,  4.02s/it]"
     ]
    },
    {
     "name": "stdout",
     "output_type": "stream",
     "text": [
      "CWENa\n"
     ]
    },
    {
     "name": "stderr",
     "output_type": "stream",
     "text": [
      " 30%|██▉       | 1585/5286 [1:45:38<4:03:20,  3.94s/it]"
     ]
    },
    {
     "name": "stdout",
     "output_type": "stream",
     "text": [
      "ELEP\n"
     ]
    },
    {
     "name": "stderr",
     "output_type": "stream",
     "text": [
      " 38%|███▊      | 2006/5286 [2:14:05<3:48:56,  4.19s/it]"
     ]
    },
    {
     "name": "stdout",
     "output_type": "stream",
     "text": [
      "GEFb\n"
     ]
    },
    {
     "name": "stderr",
     "output_type": "stream",
     "text": [
      " 38%|███▊      | 2017/5286 [2:14:49<3:49:15,  4.21s/it]"
     ]
    },
    {
     "name": "stdout",
     "output_type": "stream",
     "text": [
      "GETR\n"
     ]
    },
    {
     "name": "stderr",
     "output_type": "stream",
     "text": [
      " 39%|███▉      | 2065/5286 [2:18:05<3:34:05,  3.99s/it]"
     ]
    },
    {
     "name": "stdout",
     "output_type": "stream",
     "text": [
      "GLTA\n"
     ]
    },
    {
     "name": "stderr",
     "output_type": "stream",
     "text": [
      " 41%|████      | 2155/5286 [2:24:10<3:26:38,  3.96s/it]"
     ]
    },
    {
     "name": "stdout",
     "output_type": "stream",
     "text": [
      "GTH\n"
     ]
    },
    {
     "name": "stderr",
     "output_type": "stream",
     "text": [
      " 41%|████      | 2161/5286 [2:24:33<3:29:41,  4.03s/it]"
     ]
    },
    {
     "name": "stdout",
     "output_type": "stream",
     "text": [
      "GTNa\n"
     ]
    },
    {
     "name": "stderr",
     "output_type": "stream",
     "text": [
      " 42%|████▏     | 2215/5286 [2:28:07<3:27:37,  4.06s/it]"
     ]
    },
    {
     "name": "stdout",
     "output_type": "stream",
     "text": [
      "HEIa\n"
     ]
    },
    {
     "name": "stderr",
     "output_type": "stream",
     "text": [
      " 44%|████▍     | 2337/5286 [2:36:29<3:23:19,  4.14s/it]"
     ]
    },
    {
     "name": "stdout",
     "output_type": "stream",
     "text": [
      "HVTa\n"
     ]
    },
    {
     "name": "stderr",
     "output_type": "stream",
     "text": [
      " 46%|████▌     | 2429/5286 [2:42:46<3:07:40,  3.94s/it]"
     ]
    },
    {
     "name": "stdout",
     "output_type": "stream",
     "text": [
      "IMOS\n"
     ]
    },
    {
     "name": "stderr",
     "output_type": "stream",
     "text": [
      " 46%|████▋     | 2455/5286 [2:44:31<3:15:19,  4.14s/it]"
     ]
    },
    {
     "name": "stdout",
     "output_type": "stream",
     "text": [
      "INHD\n"
     ]
    },
    {
     "name": "stderr",
     "output_type": "stream",
     "text": [
      " 47%|████▋     | 2508/5286 [2:48:10<3:00:03,  3.89s/it]"
     ]
    },
    {
     "name": "stdout",
     "output_type": "stream",
     "text": [
      "IPXX\n"
     ]
    },
    {
     "name": "stderr",
     "output_type": "stream",
     "text": [
      " 51%|█████     | 2708/5286 [3:01:50<2:56:19,  4.10s/it]"
     ]
    },
    {
     "name": "stdout",
     "output_type": "stream",
     "text": [
      "KUKE\n"
     ]
    },
    {
     "name": "stderr",
     "output_type": "stream",
     "text": [
      " 52%|█████▏    | 2728/5286 [3:03:09<2:48:11,  3.95s/it]"
     ]
    },
    {
     "name": "stdout",
     "output_type": "stream",
     "text": [
      "LAC_w\n"
     ]
    },
    {
     "name": "stderr",
     "output_type": "stream",
     "text": [
      " 53%|█████▎    | 2776/5286 [3:06:25<2:56:45,  4.23s/it]"
     ]
    },
    {
     "name": "stdout",
     "output_type": "stream",
     "text": [
      "LENb\n"
     ]
    },
    {
     "name": "stderr",
     "output_type": "stream",
     "text": [
      " 53%|█████▎    | 2790/5286 [3:07:21<2:52:37,  4.15s/it]"
     ]
    },
    {
     "name": "stdout",
     "output_type": "stream",
     "text": [
      "LGCL\n"
     ]
    },
    {
     "name": "stderr",
     "output_type": "stream",
     "text": [
      " 53%|█████▎    | 2791/5286 [3:07:24<2:38:03,  3.80s/it]"
     ]
    },
    {
     "name": "stdout",
     "output_type": "stream",
     "text": [
      "LGFa\n"
     ]
    },
    {
     "name": "stderr",
     "output_type": "stream",
     "text": [
      " 53%|█████▎    | 2792/5286 [3:07:27<2:26:31,  3.53s/it]"
     ]
    },
    {
     "name": "stdout",
     "output_type": "stream",
     "text": [
      "LGFb\n"
     ]
    },
    {
     "name": "stderr",
     "output_type": "stream",
     "text": [
      " 54%|█████▎    | 2832/5286 [3:10:06<2:51:21,  4.19s/it]"
     ]
    },
    {
     "name": "stdout",
     "output_type": "stream",
     "text": [
      "LLYVA\n"
     ]
    },
    {
     "name": "stderr",
     "output_type": "stream",
     "text": [
      " 54%|█████▎    | 2833/5286 [3:10:09<2:34:42,  3.78s/it]"
     ]
    },
    {
     "name": "stdout",
     "output_type": "stream",
     "text": [
      "LLYVK\n"
     ]
    },
    {
     "name": "stderr",
     "output_type": "stream",
     "text": [
      " 58%|█████▊    | 3051/5286 [3:24:57<2:27:09,  3.95s/it]"
     ]
    },
    {
     "name": "stdout",
     "output_type": "stream",
     "text": [
      "MHLA\n"
     ]
    },
    {
     "name": "stderr",
     "output_type": "stream",
     "text": [
      " 58%|█████▊    | 3072/5286 [3:26:20<2:26:26,  3.97s/it]"
     ]
    },
    {
     "name": "stdout",
     "output_type": "stream",
     "text": [
      "MKCv\n"
     ]
    },
    {
     "name": "stderr",
     "output_type": "stream",
     "text": [
      " 59%|█████▉    | 3114/5286 [3:29:11<2:32:41,  4.22s/it]"
     ]
    },
    {
     "name": "stdout",
     "output_type": "stream",
     "text": [
      "MNY\n"
     ]
    },
    {
     "name": "stderr",
     "output_type": "stream",
     "text": [
      " 59%|█████▉    | 3124/5286 [3:29:50<2:22:16,  3.95s/it]"
     ]
    },
    {
     "name": "stdout",
     "output_type": "stream",
     "text": [
      "MOGa\n"
     ]
    },
    {
     "name": "stderr",
     "output_type": "stream",
     "text": [
      " 59%|█████▉    | 3125/5286 [3:29:53<2:11:17,  3.65s/it]"
     ]
    },
    {
     "name": "stdout",
     "output_type": "stream",
     "text": [
      "MOGb\n"
     ]
    },
    {
     "name": "stderr",
     "output_type": "stream",
     "text": [
      " 62%|██████▏   | 3284/5286 [3:40:49<2:13:33,  4.00s/it]"
     ]
    },
    {
     "name": "stdout",
     "output_type": "stream",
     "text": [
      "NETD\n"
     ]
    },
    {
     "name": "stderr",
     "output_type": "stream",
     "text": [
      " 64%|██████▍   | 3387/5286 [3:47:47<2:11:52,  4.17s/it]"
     ]
    },
    {
     "name": "stdout",
     "output_type": "stream",
     "text": [
      "NTBL\n"
     ]
    },
    {
     "name": "stderr",
     "output_type": "stream",
     "text": [
      " 65%|██████▍   | 3422/5286 [3:50:09<2:09:53,  4.18s/it]"
     ]
    },
    {
     "name": "stdout",
     "output_type": "stream",
     "text": [
      "NVNI\n"
     ]
    },
    {
     "name": "stderr",
     "output_type": "stream",
     "text": [
      " 67%|██████▋   | 3562/5286 [3:59:39<2:01:17,  4.22s/it]"
     ]
    },
    {
     "name": "stdout",
     "output_type": "stream",
     "text": [
      "OPTX\n"
     ]
    },
    {
     "name": "stderr",
     "output_type": "stream",
     "text": [
      " 71%|███████   | 3729/5286 [4:11:05<1:45:11,  4.05s/it]"
     ]
    },
    {
     "name": "stdout",
     "output_type": "stream",
     "text": [
      "PHGE_u\n"
     ]
    },
    {
     "name": "stderr",
     "output_type": "stream",
     "text": [
      " 76%|███████▌  | 4022/5286 [4:31:06<1:23:10,  3.95s/it]"
     ]
    },
    {
     "name": "stdout",
     "output_type": "stream",
     "text": [
      "RF_pc\n"
     ]
    },
    {
     "name": "stderr",
     "output_type": "stream",
     "text": [
      " 77%|███████▋  | 4053/5286 [4:33:10<1:21:13,  3.95s/it]"
     ]
    },
    {
     "name": "stdout",
     "output_type": "stream",
     "text": [
      "RLND\n"
     ]
    },
    {
     "name": "stderr",
     "output_type": "stream",
     "text": [
      " 84%|████████▎ | 4415/5286 [4:58:00<1:00:46,  4.19s/it]"
     ]
    },
    {
     "name": "stdout",
     "output_type": "stream",
     "text": [
      "SPAQ\n"
     ]
    },
    {
     "name": "stderr",
     "output_type": "stream",
     "text": [
      " 85%|████████▍ | 4493/5286 [5:03:22<57:50,  4.38s/it]  "
     ]
    },
    {
     "name": "stdout",
     "output_type": "stream",
     "text": [
      "STHO\n"
     ]
    },
    {
     "name": "stderr",
     "output_type": "stream",
     "text": [
      " 87%|████████▋ | 4577/5286 [5:09:09<47:58,  4.06s/it]"
     ]
    },
    {
     "name": "stdout",
     "output_type": "stream",
     "text": [
      "TAPa\n"
     ]
    },
    {
     "name": "stderr",
     "output_type": "stream",
     "text": [
      " 92%|█████████▏| 4851/5286 [5:28:09<31:10,  4.30s/it]"
     ]
    },
    {
     "name": "stdout",
     "output_type": "stream",
     "text": [
      "UHALb\n"
     ]
    },
    {
     "name": "stderr",
     "output_type": "stream",
     "text": [
      " 92%|█████████▏| 4889/5286 [5:30:44<27:02,  4.09s/it]"
     ]
    },
    {
     "name": "stdout",
     "output_type": "stream",
     "text": [
      "US90275F1966=UBSS\n"
     ]
    },
    {
     "name": "stderr",
     "output_type": "stream",
     "text": [
      " 96%|█████████▌| 5073/5286 [5:43:13<14:00,  3.94s/it]"
     ]
    },
    {
     "name": "stdout",
     "output_type": "stream",
     "text": [
      "WALD\n"
     ]
    },
    {
     "name": "stderr",
     "output_type": "stream",
     "text": [
      " 96%|█████████▌| 5082/5286 [5:43:49<14:00,  4.12s/it]"
     ]
    },
    {
     "name": "stdout",
     "output_type": "stream",
     "text": [
      "WBUY\n"
     ]
    },
    {
     "name": "stderr",
     "output_type": "stream",
     "text": [
      " 98%|█████████▊| 5167/5286 [5:49:37<08:14,  4.16s/it]"
     ]
    },
    {
     "name": "stdout",
     "output_type": "stream",
     "text": [
      "WSOb\n"
     ]
    },
    {
     "name": "stderr",
     "output_type": "stream",
     "text": [
      " 99%|█████████▉| 5249/5286 [5:55:15<02:35,  4.19s/it]"
     ]
    },
    {
     "name": "stdout",
     "output_type": "stream",
     "text": [
      "ZAPP\n"
     ]
    },
    {
     "name": "stderr",
     "output_type": "stream",
     "text": [
      "100%|██████████| 5286/5286 [5:57:47<00:00,  4.06s/it]\n"
     ]
    }
   ],
   "source": [
    "# insert query\n",
    "query_fs = \"\"\" \n",
    "    INSERT INTO fs_global (ticker, date, account, value, freq)\n",
    "    VALUES (%s, %s, %s, %s, %s)\n",
    "    ON DUPLICATE KEY UPDATE\n",
    "    value = VALUES(value);\n",
    "\"\"\"\n",
    "\n",
    "# error list\n",
    "error_list = []\n",
    "\n",
    "# download all fs\n",
    "for i in tqdm(range(0, len(ticker_list))):\n",
    "    # select ticker\n",
    "    ticker = ticker_list['symbol'][i]\n",
    "    \n",
    "    try:\n",
    "        # download data\n",
    "        data = Ticker(ticker)\n",
    "        \n",
    "        # yearly fs\n",
    "        data_y = data.all_financial_data(frequency='a')\n",
    "        data_y.reset_index(inplace=True)\n",
    "        data_y = data_y.loc[:, ~data_y.columns.isin(['periodType', 'currencyCode'])]\n",
    "        data_y = data_y.melt(id_vars= ['symbol', 'asOfDate'])\n",
    "        data_y = data_y.replace([np.nan], None)\n",
    "        data_y['freq'] = 'y'\n",
    "        data_y.columns = ['ticker', 'date', 'account', 'value', 'freq']\n",
    "        \n",
    "        # quaterly fs\n",
    "        data_q = data.all_financial_data(frequency='q')\n",
    "        data_q.reset_index(inplace=True)\n",
    "        data_q = data_q.loc[:, ~data_q.columns.isin(['periodType', 'currencyCode'])]\n",
    "        data_q = data_q.melt(id_vars= ['symbol', 'asOfDate'])\n",
    "        data_q = data_q.replace([np.nan], None)\n",
    "        data_q['freq'] = 'q'\n",
    "        data_q.columns = ['ticker', 'date', 'account', 'value', 'freq']\n",
    "        \n",
    "        # concat\n",
    "        data_fs = pd.concat([data_y, data_q], axis=0)\n",
    "        \n",
    "        # insert into db\n",
    "        args = data_fs.values.tolist()\n",
    "        mycursor.executemany(query_fs, args)\n",
    "        con.commit()\n",
    "    \n",
    "    except:\n",
    "        print(ticker)\n",
    "        error_list.append(ticker)\n",
    "        \n",
    "    time.sleep(2)\n",
    "\n",
    "# close db connection\n",
    "engine.dispose()\n",
    "con.close()\n",
    "  "
   ]
  },
  {
   "cell_type": "code",
   "execution_count": null,
   "metadata": {},
   "outputs": [],
   "source": []
  }
 ],
 "metadata": {
  "kernelspec": {
   "display_name": "finance",
   "language": "python",
   "name": "python3"
  },
  "language_info": {
   "codemirror_mode": {
    "name": "ipython",
    "version": 3
   },
   "file_extension": ".py",
   "mimetype": "text/x-python",
   "name": "python",
   "nbconvert_exporter": "python",
   "pygments_lexer": "ipython3",
   "version": "3.8.0"
  }
 },
 "nbformat": 4,
 "nbformat_minor": 2
}
