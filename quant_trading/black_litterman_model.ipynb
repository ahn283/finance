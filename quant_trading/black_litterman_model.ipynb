{
 "cells": [
  {
   "cell_type": "code",
   "execution_count": 9,
   "metadata": {},
   "outputs": [],
   "source": [
    "# 패키지 임포트\n",
    "import numpy as np\n",
    "import pandas as pd\n",
    "import matplotlib.pyplot as plt\n",
    "import seaborn as sns\n",
    "import yfinance as yf\n",
    "from scipy.optimize import minimize\n",
    "\n",
    "sns.set()"
   ]
  },
  {
   "attachments": {},
   "cell_type": "markdown",
   "metadata": {},
   "source": [
    "### 데이터 읽기"
   ]
  },
  {
   "cell_type": "code",
   "execution_count": 10,
   "metadata": {},
   "outputs": [
    {
     "name": "stdout",
     "output_type": "stream",
     "text": [
      "[*********************100%***********************]  9 of 9 completed\n"
     ]
    }
   ],
   "source": [
    "# ETF 데이터 다운로드\n",
    "tickers = ['XLB', 'XLE', 'XLF', 'XLI', 'XLK', 'XLP', 'XLU', 'XLV', 'XLY']\n",
    "etf = yf.Tickers(tickers)\n",
    "data = etf.history(start='2000-01-01', actions=False)\n",
    "data.drop(['Open', 'High', 'Low', 'Volume'], inplace=True, axis=1)\n",
    "data = data.droplevel(0, axis=1).resample('W').last()\n",
    "\n",
    "# 수익률 벡터와 공분산 행렬\n",
    "ret = data.pct_change().dropna()\n",
    "ret_vec = ret.mean() * 52\n",
    "cov_mat = ret.cov() * 52"
   ]
  },
  {
   "cell_type": "code",
   "execution_count": 11,
   "metadata": {},
   "outputs": [],
   "source": [
    "# 색깔 팔레트\n",
    "pal = sns.color_palette('Spectral', len(tickers))"
   ]
  },
  {
   "attachments": {},
   "cell_type": "markdown",
   "metadata": {},
   "source": [
    "### 시가총액 가중"
   ]
  },
  {
   "cell_type": "code",
   "execution_count": 12,
   "metadata": {},
   "outputs": [
    {
     "name": "stdout",
     "output_type": "stream",
     "text": [
      "https://s.yimg.com/uc/finance/dd-site/js/main.57adb260d567a8003f34.min.js\n",
      "WARNING: No decryption keys could be extracted from JS file. Falling back to backup decrypt methods.\n"
     ]
    },
    {
     "ename": "Exception",
     "evalue": "yfinance failed to decrypt Yahoo data response",
     "output_type": "error",
     "traceback": [
      "\u001b[0;31m---------------------------------------------------------------------------\u001b[0m",
      "\u001b[0;31mException\u001b[0m                                 Traceback (most recent call last)",
      "Cell \u001b[0;32mIn[12], line 4\u001b[0m\n\u001b[1;32m      2\u001b[0m cap_list \u001b[39m=\u001b[39m []\n\u001b[1;32m      3\u001b[0m \u001b[39mfor\u001b[39;00m ticker \u001b[39min\u001b[39;00m tickers:\n\u001b[0;32m----> 4\u001b[0m     market_cap \u001b[39m=\u001b[39m yf\u001b[39m.\u001b[39;49mTicker(ticker)\u001b[39m.\u001b[39;49minfo[\u001b[39m'\u001b[39m\u001b[39mtotalAssets\u001b[39m\u001b[39m'\u001b[39m]\n\u001b[1;32m      5\u001b[0m     cap_list\u001b[39m.\u001b[39mappend(market_cap)\n\u001b[1;32m      7\u001b[0m cap_list\n",
      "File \u001b[0;32m~/miniforge3/envs/tf/lib/python3.10/site-packages/yfinance/ticker.py:138\u001b[0m, in \u001b[0;36mTicker.info\u001b[0;34m(self)\u001b[0m\n\u001b[1;32m    136\u001b[0m \u001b[39m@property\u001b[39m\n\u001b[1;32m    137\u001b[0m \u001b[39mdef\u001b[39;00m \u001b[39minfo\u001b[39m(\u001b[39mself\u001b[39m) \u001b[39m-\u001b[39m\u001b[39m>\u001b[39m \u001b[39mdict\u001b[39m:\n\u001b[0;32m--> 138\u001b[0m     \u001b[39mreturn\u001b[39;00m \u001b[39mself\u001b[39;49m\u001b[39m.\u001b[39;49mget_info()\n",
      "File \u001b[0;32m~/miniforge3/envs/tf/lib/python3.10/site-packages/yfinance/base.py:1462\u001b[0m, in \u001b[0;36mTickerBase.get_info\u001b[0;34m(self, proxy)\u001b[0m\n\u001b[1;32m   1460\u001b[0m \u001b[39mdef\u001b[39;00m \u001b[39mget_info\u001b[39m(\u001b[39mself\u001b[39m, proxy\u001b[39m=\u001b[39m\u001b[39mNone\u001b[39;00m) \u001b[39m-\u001b[39m\u001b[39m>\u001b[39m \u001b[39mdict\u001b[39m:\n\u001b[1;32m   1461\u001b[0m     \u001b[39mself\u001b[39m\u001b[39m.\u001b[39m_quote\u001b[39m.\u001b[39mproxy \u001b[39m=\u001b[39m proxy\n\u001b[0;32m-> 1462\u001b[0m     data \u001b[39m=\u001b[39m \u001b[39mself\u001b[39;49m\u001b[39m.\u001b[39;49m_quote\u001b[39m.\u001b[39;49minfo\n\u001b[1;32m   1463\u001b[0m     \u001b[39mreturn\u001b[39;00m data\n",
      "File \u001b[0;32m~/miniforge3/envs/tf/lib/python3.10/site-packages/yfinance/scrapers/quote.py:95\u001b[0m, in \u001b[0;36mQuote.info\u001b[0;34m(self)\u001b[0m\n\u001b[1;32m     92\u001b[0m \u001b[39m@property\u001b[39m\n\u001b[1;32m     93\u001b[0m \u001b[39mdef\u001b[39;00m \u001b[39minfo\u001b[39m(\u001b[39mself\u001b[39m) \u001b[39m-\u001b[39m\u001b[39m>\u001b[39m \u001b[39mdict\u001b[39m:\n\u001b[1;32m     94\u001b[0m     \u001b[39mif\u001b[39;00m \u001b[39mself\u001b[39m\u001b[39m.\u001b[39m_info \u001b[39mis\u001b[39;00m \u001b[39mNone\u001b[39;00m:\n\u001b[0;32m---> 95\u001b[0m         \u001b[39mself\u001b[39;49m\u001b[39m.\u001b[39;49m_scrape(\u001b[39mself\u001b[39;49m\u001b[39m.\u001b[39;49mproxy)\n\u001b[1;32m     96\u001b[0m         \u001b[39mself\u001b[39m\u001b[39m.\u001b[39m_scrape_complementary(\u001b[39mself\u001b[39m\u001b[39m.\u001b[39mproxy)\n\u001b[1;32m     98\u001b[0m     \u001b[39mreturn\u001b[39;00m \u001b[39mself\u001b[39m\u001b[39m.\u001b[39m_info\n",
      "File \u001b[0;32m~/miniforge3/envs/tf/lib/python3.10/site-packages/yfinance/scrapers/quote.py:124\u001b[0m, in \u001b[0;36mQuote._scrape\u001b[0;34m(self, proxy)\u001b[0m\n\u001b[1;32m    121\u001b[0m \u001b[39mself\u001b[39m\u001b[39m.\u001b[39m_already_scraped \u001b[39m=\u001b[39m \u001b[39mTrue\u001b[39;00m\n\u001b[1;32m    123\u001b[0m \u001b[39m# get info and sustainability\u001b[39;00m\n\u001b[0;32m--> 124\u001b[0m json_data \u001b[39m=\u001b[39m \u001b[39mself\u001b[39;49m\u001b[39m.\u001b[39;49m_data\u001b[39m.\u001b[39;49mget_json_data_stores(proxy\u001b[39m=\u001b[39;49mproxy)\n\u001b[1;32m    125\u001b[0m \u001b[39mtry\u001b[39;00m:\n\u001b[1;32m    126\u001b[0m     quote_summary_store \u001b[39m=\u001b[39m json_data[\u001b[39m'\u001b[39m\u001b[39mQuoteSummaryStore\u001b[39m\u001b[39m'\u001b[39m]\n",
      "File \u001b[0;32m~/miniforge3/envs/tf/lib/python3.10/site-packages/yfinance/data.py:41\u001b[0m, in \u001b[0;36mlru_cache_freezeargs.<locals>.wrapped\u001b[0;34m(*args, **kwargs)\u001b[0m\n\u001b[1;32m     39\u001b[0m args \u001b[39m=\u001b[39m \u001b[39mtuple\u001b[39m([\u001b[39mtuple\u001b[39m(arg) \u001b[39mif\u001b[39;00m \u001b[39misinstance\u001b[39m(arg, \u001b[39mlist\u001b[39m) \u001b[39melse\u001b[39;00m arg \u001b[39mfor\u001b[39;00m arg \u001b[39min\u001b[39;00m args])\n\u001b[1;32m     40\u001b[0m kwargs \u001b[39m=\u001b[39m {k: \u001b[39mtuple\u001b[39m(v) \u001b[39mif\u001b[39;00m \u001b[39misinstance\u001b[39m(v, \u001b[39mlist\u001b[39m) \u001b[39melse\u001b[39;00m v \u001b[39mfor\u001b[39;00m k, v \u001b[39min\u001b[39;00m kwargs\u001b[39m.\u001b[39mitems()}\n\u001b[0;32m---> 41\u001b[0m \u001b[39mreturn\u001b[39;00m func(\u001b[39m*\u001b[39;49margs, \u001b[39m*\u001b[39;49m\u001b[39m*\u001b[39;49mkwargs)\n",
      "File \u001b[0;32m~/miniforge3/envs/tf/lib/python3.10/site-packages/yfinance/data.py:312\u001b[0m, in \u001b[0;36mTickerData.get_json_data_stores\u001b[0;34m(self, sub_page, proxy)\u001b[0m\n\u001b[1;32m    309\u001b[0m     keys \u001b[39m+\u001b[39m\u001b[39m=\u001b[39m response_gh\u001b[39m.\u001b[39mtext\u001b[39m.\u001b[39msplitlines()\n\u001b[1;32m    311\u001b[0m \u001b[39m# Decrypt!\u001b[39;00m\n\u001b[0;32m--> 312\u001b[0m stores \u001b[39m=\u001b[39m decrypt_cryptojs_aes_stores(data, keys)\n\u001b[1;32m    313\u001b[0m \u001b[39mif\u001b[39;00m stores \u001b[39mis\u001b[39;00m \u001b[39mNone\u001b[39;00m:\n\u001b[1;32m    314\u001b[0m     \u001b[39m# Maybe Yahoo returned old format, not encrypted\u001b[39;00m\n\u001b[1;32m    315\u001b[0m     \u001b[39mif\u001b[39;00m \u001b[39m\"\u001b[39m\u001b[39mcontext\u001b[39m\u001b[39m\"\u001b[39m \u001b[39min\u001b[39;00m data \u001b[39mand\u001b[39;00m \u001b[39m\"\u001b[39m\u001b[39mdispatcher\u001b[39m\u001b[39m\"\u001b[39m \u001b[39min\u001b[39;00m data[\u001b[39m\"\u001b[39m\u001b[39mcontext\u001b[39m\u001b[39m\"\u001b[39m]:\n",
      "File \u001b[0;32m~/miniforge3/envs/tf/lib/python3.10/site-packages/yfinance/data.py:162\u001b[0m, in \u001b[0;36mdecrypt_cryptojs_aes_stores\u001b[0;34m(data, keys)\u001b[0m\n\u001b[1;32m    160\u001b[0m             \u001b[39mpass\u001b[39;00m\n\u001b[1;32m    161\u001b[0m     \u001b[39mif\u001b[39;00m \u001b[39mnot\u001b[39;00m success:\n\u001b[0;32m--> 162\u001b[0m         \u001b[39mraise\u001b[39;00m \u001b[39mException\u001b[39;00m(\u001b[39m\"\u001b[39m\u001b[39myfinance failed to decrypt Yahoo data response\u001b[39m\u001b[39m\"\u001b[39m)\n\u001b[1;32m    164\u001b[0m decoded_stores \u001b[39m=\u001b[39m json\u001b[39m.\u001b[39mloads(plaintext)\n\u001b[1;32m    165\u001b[0m \u001b[39mreturn\u001b[39;00m decoded_stores\n",
      "\u001b[0;31mException\u001b[0m: yfinance failed to decrypt Yahoo data response"
     ]
    }
   ],
   "source": [
    "# ETF별 시가총액 데이터 다운로드\n",
    "cap_list = []\n",
    "for ticker in tickers:\n",
    "    market_cap = yf.Ticker(ticker).info['totalAssets']\n",
    "    cap_list.append(market_cap)\n",
    "\n",
    "cap_list"
   ]
  },
  {
   "cell_type": "code",
   "execution_count": null,
   "metadata": {},
   "outputs": [],
   "source": [
    "# 시장 가중 비율 계산\n",
    "caps = cap_list\n",
    "caps_df = pd.Series(caps, index=tickers)\n",
    "market_weights_df = caps_df / caps_df.sum()\n",
    "market_weights_df"
   ]
  },
  {
   "cell_type": "code",
   "execution_count": null,
   "metadata": {},
   "outputs": [],
   "source": [
    "# 파이차트 시각화\n",
    "plt.figure(figsize=(7, 7))\n",
    "wedgeprops = {\n",
    "    'width': 0.3,\n",
    "    'edgecolor': 'w',\n",
    "    'linewidth': 2\n",
    "}\n",
    "plt.pie(market_weights_df, labels=market_weights_df.index, autopct='%.1f%%', wedgeprops=wedgeprops, colors=pal)\n",
    "plt.show()"
   ]
  },
  {
   "cell_type": "code",
   "execution_count": null,
   "metadata": {},
   "outputs": [],
   "source": [
    "# 시장 포트폴리오 수익률 평균 및 분산\n",
    "mkt_port_ret = ret_vec.multiply(market_weights_df.value).sum()\n",
    "mkt_port_var = np.matmul(market_weights_df.values.reshape(len(market_weights_df)).T, np.matmul(cov_mat.values, market_weights_df.values.reshape(len(market_weights_df))))\n",
    "\n",
    "print(mkt_port_ret, mkt_port_var)"
   ]
  },
  {
   "cell_type": "code",
   "execution_count": null,
   "metadata": {},
   "outputs": [],
   "source": [
    "# 위험회피계수\n",
    "mkt_lambda = mkt_port_ret / np.sqrt(mkt_port_var)\n",
    "print(mkt_lambda)"
   ]
  },
  {
   "attachments": {},
   "cell_type": "markdown",
   "metadata": {},
   "source": [
    "### 블랙-리터만 역최적화"
   ]
  },
  {
   "cell_type": "code",
   "execution_count": null,
   "metadata": {},
   "outputs": [],
   "source": [
    "# 균형기대수익률\n",
    "pi = np.dot(np.dot(mkt_lambda, cov_mat), market_weights_df)"
   ]
  },
  {
   "cell_type": "code",
   "execution_count": null,
   "metadata": {},
   "outputs": [],
   "source": [
    "pi_df = pd.Series(pi, index=tickers)\n",
    "pi_df"
   ]
  },
  {
   "attachments": {},
   "cell_type": "markdown",
   "metadata": {},
   "source": [
    "### 투자자 전망과 기대수익률 그리고 전망의 불확실성 계산"
   ]
  },
  {
   "cell_type": "code",
   "execution_count": null,
   "metadata": {},
   "outputs": [],
   "source": [
    "# 투자자 전망\n",
    "Q = np.array([0.09265, 0.005, 0.055])\n",
    "P = [[0, 0, 0, 0, 0, 0, 1, 0, 0],\n",
    "     [0, 0, 1, -1, 0, 0, 0, 0, 0],\n",
    "     [0, 0, 0, 0, 0, 0, 0, 1, 0]]\n",
    "\n",
    "# 위험조정상수\n",
    "tau = 1 / len(data) * 52\n",
    "\n",
    "# 투자자 전망의 불확실성 계산\n",
    "omega = np.diag(np.diag(np.dot(np.dot(np.dot(tau, p), cov_mat), np.transpose(P))))"
   ]
  },
  {
   "cell_type": "code",
   "execution_count": null,
   "metadata": {},
   "outputs": [],
   "source": [
    "omega"
   ]
  },
  {
   "attachments": {},
   "cell_type": "markdown",
   "metadata": {},
   "source": [
    "### 블랙-리터만 모델 최적화"
   ]
  },
  {
   "cell_type": "code",
   "execution_count": null,
   "metadata": {},
   "outputs": [],
   "source": [
    "# 투자자 전망과 합쳐진 균형초과수익률 계산\n",
    "term1 = np.linalg.inv(np.dot(tau, cov_mat))\n",
    "term2 = np.dot(np.dot(np.transpose(P), np.linalg.inv(omega)), P)\n",
    "term3 = np.dot(np.linalg.inv(np.dot(tau, cov_mat)), pi)\n",
    "term4 = np.dot(np.dot(np.transpose(P), np.linalg.inv(omega)), Q)\n",
    "\n",
    "# 블랙-리터만 모형에 기반한 사후 분포\n",
    "bl_cov_mat = np.linalg.inv(term1 + term2)\n",
    "bl_ret_vec = np.dot(bl_cov_mat, (term3 + term4))"
   ]
  },
  {
   "cell_type": "code",
   "execution_count": null,
   "metadata": {},
   "outputs": [],
   "source": [
    "# MVO 모델 가중치 산출 함수\n",
    "def get_msr_weights(er, cov):\n",
    "\n",
    "    # 자산계수\n",
    "    noa = er.shape[0]\n",
    "\n",
    "    # 가중치 초기값\n",
    "    init_guess = np.repeat(1/noa, noa)\n",
    "\n",
    "    # 자산 가중치 상하한\n",
    "    bounds = ((0.0, 1.0), ) * noa\n",
    "\n",
    "    # 레버리지 불가 제약조건\n",
    "    weights_sum_to_1 = {\n",
    "        'type': 'eq',\n",
    "        'fun': lambda weights: np.sum(weights) - 1\n",
    "    }\n",
    "\n",
    "    # 목적함수\n",
    "    def neg_sharpe(weights, er, cov):\n",
    "        r = weights.T @ er\n",
    "        vol = np.sqrt(weights.T @ cov @ weights)\n",
    "        return -r / vol\n",
    "    \n",
    "    # 최적화 수행\n",
    "    res = minimize(neg_sharpe,\n",
    "                   init_guess,\n",
    "                   args=(er, cov),\n",
    "                   method='SLSQP',\n",
    "                   constraints=(weights_sum_to_1),\n",
    "                   bounds=bounds)\n",
    "    \n",
    "    return res.x"
   ]
  },
  {
   "cell_type": "code",
   "execution_count": null,
   "metadata": {},
   "outputs": [],
   "source": [
    "# BL 포트폴리오 가중치\n",
    "bl_weights = get_msr_weights(bl_ret_vec, bl_cov_mat)\n",
    "\n",
    "# BL 포트폴리오 수익률\n",
    "bl_ret = np.dot(bl_weights, bl_ret_vec)\n",
    "\n",
    "# BL 포트폴리오 변동성\n",
    "bl_vol = np.sqrt(np.dot(bl_weights.T, np.dot(bl_cov_mat, bl_weights)))"
   ]
  },
  {
   "cell_type": "code",
   "execution_count": 13,
   "metadata": {},
   "outputs": [
    {
     "ename": "NameError",
     "evalue": "name 'bl_ret' is not defined",
     "output_type": "error",
     "traceback": [
      "\u001b[0;31m---------------------------------------------------------------------------\u001b[0m",
      "\u001b[0;31mNameError\u001b[0m                                 Traceback (most recent call last)",
      "Cell \u001b[0;32mIn[13], line 2\u001b[0m\n\u001b[1;32m      1\u001b[0m \u001b[39m# BL 포트폴리오 수익률과 변동성\u001b[39;00m\n\u001b[0;32m----> 2\u001b[0m \u001b[39mprint\u001b[39m(bl_ret, bl_vol)\n",
      "\u001b[0;31mNameError\u001b[0m: name 'bl_ret' is not defined"
     ]
    }
   ],
   "source": [
    "# BL 포트폴리오 수익률과 변동성\n",
    "print(bl_ret, bl_vol)"
   ]
  },
  {
   "cell_type": "code",
   "execution_count": null,
   "metadata": {},
   "outputs": [],
   "source": [
    "# 블랙-리터만 투자 가중치 데이터프레임\n",
    "bl_weights_df = pd.Series(bl_weights, index=tickers)\n",
    "\n",
    "# 파이차트 시각화\n",
    "plt.figure(figsize=(7, 7))\n",
    "wedgeprops = {\n",
    "    'width': 0.3,\n",
    "    'edgecolor': 'w',\n",
    "    'linewidth': 2\n",
    "}\n",
    "plt.pie(bl_weights_df, labels=bl_weights_df.index, autopct='%.1f%%', wedgeprops=wedgeprops, colors=pal)\n",
    "plt.show()"
   ]
  }
 ],
 "metadata": {
  "kernelspec": {
   "display_name": "Python 3",
   "language": "python",
   "name": "python3"
  },
  "language_info": {
   "codemirror_mode": {
    "name": "ipython",
    "version": 3
   },
   "file_extension": ".py",
   "mimetype": "text/x-python",
   "name": "python",
   "nbconvert_exporter": "python",
   "pygments_lexer": "ipython3",
   "version": "3.10.6"
  },
  "orig_nbformat": 4,
  "vscode": {
   "interpreter": {
    "hash": "55e72e60fe9b0ef549d68eb71417cfa6fac5c4d5d8ae9f64b775066e6b6fedeb"
   }
  }
 },
 "nbformat": 4,
 "nbformat_minor": 2
}
