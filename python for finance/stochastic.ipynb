{
 "cells": [
  {
   "attachments": {},
   "cell_type": "markdown",
   "metadata": {},
   "source": [
    "# Stochastic\n",
    "\n",
    "In the beginning of the modern era of finance, mainly in the 1970s and 1980s, the major goal of financial research was to come up with closed-form solutions, for, e.g., option prices given a specific financial model. The requirements have drastically changed in recent years in that not only is the correct valuation of single financial instuments important to participants in the financial markets, but also the consistent valuation of whole derivatives books. To come up with risk measures across a whole financial institution, like value-at-risk and credit valuation adjustments, one needs to take into account the whole book of the institution and all its counterparty."
   ]
  },
  {
   "attachments": {},
   "cell_type": "markdown",
   "metadata": {},
   "source": [
    "## Random Numbers"
   ]
  },
  {
   "cell_type": "code",
   "execution_count": 1,
   "metadata": {},
   "outputs": [],
   "source": [
    "# import packages\n",
    "\n",
    "import math\n",
    "import numpy as np\n",
    "import numpy.random as npr      # import the random number generation subpackage from NumPy\n",
    "from pylab import plt, mpl\n",
    "import seaborn as sns\n",
    "\n",
    "sns.set()\n",
    "mpl.rcParams['font.family'] = 'serif'\n",
    "\n",
    "%matplotlib inline"
   ]
  },
  {
   "attachments": {},
   "cell_type": "markdown",
   "metadata": {},
   "source": [
    "The `rand()` function returns random numbers from the open interval [0, 1) in the shape provided as a parameter to the function. The return pbject is an ndarray object."
   ]
  },
  {
   "cell_type": "code",
   "execution_count": 2,
   "metadata": {},
   "outputs": [
    {
     "data": {
      "text/plain": [
       "array([0.5434, 0.2784, 0.4245, 0.8448, 0.0047, 0.1216, 0.6707, 0.8259,\n",
       "       0.1367, 0.5751])"
      ]
     },
     "execution_count": 2,
     "metadata": {},
     "output_type": "execute_result"
    }
   ],
   "source": [
    "# if one wants to generate from numbers from the interval [a, b)=[5, 10), one can transform the returned numbers from npr.rand()\n",
    "\n",
    "npr.seed(100)           # Fixes the seed value for reproducibility\n",
    "np.set_printoptions(precision=4) \n",
    "\n",
    "npr.rand(10)            # Uniformly distributed random numbers as one-dimensional ndarray object\n"
   ]
  },
  {
   "cell_type": "code",
   "execution_count": 3,
   "metadata": {},
   "outputs": [
    {
     "data": {
      "text/plain": [
       "array([[0.8913, 0.2092, 0.1853, 0.1084, 0.2197],\n",
       "       [0.9786, 0.8117, 0.1719, 0.8162, 0.2741],\n",
       "       [0.4317, 0.94  , 0.8176, 0.3361, 0.1754],\n",
       "       [0.3728, 0.0057, 0.2524, 0.7957, 0.0153],\n",
       "       [0.5988, 0.6038, 0.1051, 0.3819, 0.0365]])"
      ]
     },
     "execution_count": 3,
     "metadata": {},
     "output_type": "execute_result"
    }
   ],
   "source": [
    "npr.rand(5, 5)      # Uniformly distributed random numbers as two-dimensional ndarray object"
   ]
  },
  {
   "cell_type": "code",
   "execution_count": 4,
   "metadata": {},
   "outputs": [],
   "source": [
    "a = 5.          # lower limit\n",
    "b = 10.         # and upper limit"
   ]
  },
  {
   "cell_type": "code",
   "execution_count": 5,
   "metadata": {},
   "outputs": [
    {
     "data": {
      "text/plain": [
       "array([9.4521, 9.9046, 5.2997, 9.4527, 7.8845, 8.7124, 8.1509, 7.9092,\n",
       "       5.1022, 6.0501])"
      ]
     },
     "execution_count": 5,
     "metadata": {},
     "output_type": "execute_result"
    }
   ],
   "source": [
    "npr.rand(10) * (b - a) + a      # for the transformation to another interval"
   ]
  },
  {
   "cell_type": "code",
   "execution_count": 6,
   "metadata": {},
   "outputs": [
    {
     "data": {
      "text/plain": [
       "array([[7.7234, 8.8456, 6.2535, 6.4295, 9.262 ],\n",
       "       [9.875 , 9.4243, 6.7975, 7.9943, 6.774 ],\n",
       "       [6.701 , 5.8904, 6.1885, 5.2243, 7.5272],\n",
       "       [6.8813, 7.964 , 8.1497, 5.713 , 9.6692],\n",
       "       [9.7319, 8.0115, 6.9388, 6.8159, 6.0217]])"
      ]
     },
     "execution_count": 6,
     "metadata": {},
     "output_type": "execute_result"
    }
   ],
   "source": [
    "npr.rand(5, 5) * (b - a) + a    # the same transformation for two dimensions"
   ]
  },
  {
   "attachments": {},
   "cell_type": "markdown",
   "metadata": {},
   "source": [
    "<b>Functions for single random number generation</b>\n",
    "<table>\n",
    "<tr>\n",
    "    <th>Functions</th>\n",
    "    <th>Parameters</th>\n",
    "    <th>Returns/result</th>\n",
    "</tr>\n",
    "<tr>\n",
    "    <td> rand </td>\n",
    "    <td>d1, d1, ..., dn</td>\n",
    "    <td>Random values in the given shape</td>\n",
    "</tr>\n",
    "</table>"
   ]
  },
  {
   "cell_type": "code",
   "execution_count": null,
   "metadata": {},
   "outputs": [],
   "source": []
  }
 ],
 "metadata": {
  "kernelspec": {
   "display_name": "finance",
   "language": "python",
   "name": "python3"
  },
  "language_info": {
   "codemirror_mode": {
    "name": "ipython",
    "version": 3
   },
   "file_extension": ".py",
   "mimetype": "text/x-python",
   "name": "python",
   "nbconvert_exporter": "python",
   "pygments_lexer": "ipython3",
   "version": "3.10.9"
  },
  "orig_nbformat": 4,
  "vscode": {
   "interpreter": {
    "hash": "c1c79ae5e603ea8fd64d7fa7103ba6d6dacba3e7755f62b35150c6ed2ddb0827"
   }
  }
 },
 "nbformat": 4,
 "nbformat_minor": 2
}
