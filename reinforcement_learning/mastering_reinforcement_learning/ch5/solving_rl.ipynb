{
 "cells": [
  {
   "cell_type": "code",
   "execution_count": 3,
   "metadata": {},
   "outputs": [],
   "source": [
    "import numpy as np \n",
    "import gym"
   ]
  },
  {
   "cell_type": "code",
   "execution_count": 4,
   "metadata": {},
   "outputs": [],
   "source": [
    "# create aFood Truck class with gym.Env module\n",
    "class FoodTruck(gym.Env):\n",
    "    def __init__(self):\n",
    "        self.v_demand = [100, 200, 300, 400]\n",
    "        self.p_demand = [0.3, 0.4, 0.2, 0.1]\n",
    "        self.capacity = self.v_demand[-1]\n",
    "        self.days = ['Mon', 'Tue', 'Wed', 'Thu', 'Fri', \"Weekend\"]\n",
    "        self.unit_cost = 4\n",
    "        self.net_revenue = 7\n",
    "        self.action_space = [0, 100, 200, 300, 400]\n",
    "        self.state_space = [(\"Mon\", 0)] + [(d, i) for d in self.days[1:] \n",
    "                                           for i in [0, 100, 200, 300]]\n",
    "        \n",
    "    def get_next_state_reward(self, state, action, demand):\n",
    "        day, inventory = state\n",
    "        result = {}\n",
    "        result['next_day'] = self.days[self.days.index(day) + 1]\n",
    "        result['starting_inventory'] = min(self.capacity, inventory + action)\n",
    "        result['cost'] = self.unit_cost * action\n",
    "        result['sales'] = min(result['starting_inventory'], demand)\n",
    "        result['revenue'] = self.net_revenue * result['sales']\n",
    "        result['next_inventory'] = result['starting_inventory'] - result['sales']\n",
    "        result['reward'] = result['revenue'] - result['cost']\n",
    "        return result\n",
    "    \n",
    "    def get_transition_prob(self, state, action):\n",
    "        next_s_r_prob = {}\n",
    "        for ix, demand in enumerate(self.v_demand):\n",
    "            result = self.get_next_state_reward(state, action, demand)\n",
    "            next_s = (result['next_day'], result['next_inventory'])\n",
    "            reward = result['reward']\n",
    "            prob = self.p_demand[ix]\n",
    "            if (next_s, reward) not in next_s_r_prob:\n",
    "                next_s_r_prob[next_s, reward] = prob\n",
    "            else:\n",
    "                next_s_r_prob[next_s, reward] += prob\n",
    "        return next_s_r_prob\n",
    "    \n",
    "    def reset(self):\n",
    "        self.day = \"Mon\"\n",
    "        self.inventory = 0\n",
    "        state = (self.day, self.inventory)\n",
    "        return state\n",
    "    \n",
    "    def is_terminal(self, state):\n",
    "        day, inventory = state\n",
    "        if day == \"Weekend\":\n",
    "            return True\n",
    "        else:\n",
    "            return False\n",
    "        \n",
    "    def step(self, action):\n",
    "        demand = np.random.choice(self.v_demand, p=self.p_demand)\n",
    "        result = self.get_next_state_reward((self.day, self.inventory), \n",
    "                                           action, demand)\n",
    "        self.day = result['next_day']\n",
    "        self.inventory = result['next_inventory']\n",
    "        state = (self.day, self.inventory)\n",
    "        reward = result['reward']\n",
    "        done = self.is_terminal(state)\n",
    "        info = {'demand': demand, 'sales': result['sales']}\n",
    "        return state, reward, done, info"
   ]
  },
  {
   "cell_type": "code",
   "execution_count": 5,
   "metadata": {},
   "outputs": [
    {
     "data": {
      "text/plain": [
       "2590.83"
      ]
     },
     "execution_count": 5,
     "metadata": {},
     "output_type": "execute_result"
    }
   ],
   "source": [
    "# simulating an arbitrary policy\n",
    "np.random.seed(0)\n",
    "foodtruck = FoodTruck()\n",
    "rewards = []\n",
    "for i_episode in range(10000):\n",
    "    state = foodtruck.reset()\n",
    "    done = False\n",
    "    ep_reward = 0\n",
    "    while not done:\n",
    "        day, inventory = state\n",
    "        action = max(0, 300 - inventory)\n",
    "        state, reward, done, info = foodtruck.step(action)\n",
    "        ep_reward += reward\n",
    "    rewards.append(ep_reward)\n",
    "np.mean(rewards)"
   ]
  },
  {
   "cell_type": "code",
   "execution_count": 6,
   "metadata": {},
   "outputs": [],
   "source": [
    "# # single day expected reward\n",
    "# ucost = 4\n",
    "# uprice = 7\n",
    "# v_demand = [100, 200, 300, 400]\n",
    "# p_demand = [0.3, 0.4, 0.2, 0.1]\n",
    "# inv = 400\n",
    "# profit = uprice * np.sum([p_demand[i]*min(v_demand[i], inv) for i in range(4)]) - inv * ucost\n",
    "# print(profit)"
   ]
  },
  {
   "cell_type": "code",
   "execution_count": 7,
   "metadata": {},
   "outputs": [],
   "source": [
    "# v_demand = [100, 200, 300, 400]\n",
    "# p_demand = [0.3, 0.4, 0.2, 0.1]\n",
    "# capacity = v_demand[-1]\n",
    "# days = ['Mon', 'Tue', 'Wed', 'Thu', 'Fri', \"Weekend\"]\n",
    "# unit_cost = 4\n",
    "# net_revenue = 7\n",
    "# action_space = [0, 100, 200, 300, 400]\n",
    "# state_space = [(\"Mon\", 0)] + [(d, i) for d in days[1:] for i in [0, 100, 200, 300]]\n",
    "# state_space"
   ]
  },
  {
   "cell_type": "code",
   "execution_count": 8,
   "metadata": {},
   "outputs": [],
   "source": [
    "# def get_next_state_reward(state, action, demand):\n",
    "#     day, inventory = state\n",
    "#     result = {}\n",
    "#     result['next_day'] = days[days.index(day) + 1]\n",
    "#     result['starting_inventory'] = min(capacity, inventory + action)\n",
    "#     result['cost'] = unit_cost * action\n",
    "#     result['sales'] = min(result['starting_inventory'], demand)\n",
    "#     result['revenue'] = net_revenue * result['sales']\n",
    "#     result['next_inventory'] = result['starting_inventory'] - result['sales']\n",
    "#     result['reward'] = result['revenue'] - result['cost']\n",
    "#     return result\n",
    "    \n",
    "# next_s_r_prob = {}\n",
    "# for ix, demand in enumerate(v_demand):\n",
    "#     result = get_next_state_reward(state_space[1], action_space[-1], demand)\n",
    "#     next_s = (result['next_day'], result['next_inventory'])\n",
    "#     reward = result['reward']\n",
    "#     prob = p_demand[ix]\n",
    "#     if (next_s, reward) not in next_s_r_prob:\n",
    "#         next_s_r_prob[next_s, reward] = prob\n",
    "#     else:\n",
    "#         next_s_r_prob[next_s, reward] = prob\n",
    "# next_s_r_prob"
   ]
  },
  {
   "cell_type": "markdown",
   "metadata": {},
   "source": [
    "## Policy Evaluation"
   ]
  },
  {
   "cell_type": "code",
   "execution_count": 9,
   "metadata": {},
   "outputs": [],
   "source": [
    "def base_policy(states):\n",
    "    policy = {}\n",
    "    for s in states:\n",
    "        day, inventory = s\n",
    "        prob_a = {} \n",
    "        if inventory >= 300:\n",
    "            prob_a[0] = 1\n",
    "        else:\n",
    "            prob_a[200 - inventory] = 0.5\n",
    "            prob_a[300 - inventory] = 0.5\n",
    "        policy[s] = prob_a\n",
    "    return policy"
   ]
  },
  {
   "cell_type": "code",
   "execution_count": 10,
   "metadata": {},
   "outputs": [],
   "source": [
    "def expected_update(env, v, s, prob_a, gamma):\n",
    "    expected_value = 0\n",
    "    for a in prob_a:\n",
    "        prob_next_s_r = env.get_transition_prob(s, a)\n",
    "        for next_s, r in prob_next_s_r:\n",
    "            expected_value += prob_a[a] * prob_next_s_r[next_s, r] * (r + gamma * v[next_s])\n",
    "    return expected_value"
   ]
  },
  {
   "cell_type": "code",
   "execution_count": 11,
   "metadata": {},
   "outputs": [],
   "source": [
    "def policy_evaluate(env, policy, max_iter=100,\n",
    "                    v=None, eps=0.1, gamma=1):\n",
    "    if not v:\n",
    "        v = {s: 0 for s in env.state_space}\n",
    "    k = 0\n",
    "    while True:\n",
    "        max_delta = 0\n",
    "        for s in v:\n",
    "            if not env.is_terminal(s):\n",
    "                v_old = v[s]\n",
    "                prob_a = policy[s]\n",
    "                v[s] = expected_update(env, v, s, prob_a, gamma)\n",
    "                max_delta = max(max_delta, abs(v[s] - v_old))\n",
    "        \n",
    "        k += 1\n",
    "        \n",
    "        if max_delta < eps:\n",
    "            print(\"Converged in \", k, \"iterations.\")\n",
    "            break\n",
    "        elif k == max_iter:\n",
    "            print(\"Terminating after \", k, 'iterations.')\n",
    "            break\n",
    "    return v"
   ]
  },
  {
   "cell_type": "code",
   "execution_count": 12,
   "metadata": {},
   "outputs": [],
   "source": [
    "# create a foodtruck object from the class\n",
    "foodtruck = FoodTruck()\n",
    "\n",
    "# get the base policy for the environment\n",
    "policy = base_policy(foodtruck.state_space)"
   ]
  },
  {
   "cell_type": "code",
   "execution_count": 13,
   "metadata": {},
   "outputs": [
    {
     "name": "stdout",
     "output_type": "stream",
     "text": [
      "Converged in  6 iterations.\n",
      "Expected weekly profit: 2515.0\n"
     ]
    }
   ],
   "source": [
    "# evaluate the base policy and get the corresponding state values\n",
    "v = policy_evaluate(foodtruck, policy)\n",
    "print(\"Expected weekly profit:\", v[\"Mon\", 0])"
   ]
  },
  {
   "cell_type": "code",
   "execution_count": 14,
   "metadata": {},
   "outputs": [
    {
     "name": "stdout",
     "output_type": "stream",
     "text": [
      "The state values:\n"
     ]
    },
    {
     "data": {
      "text/plain": [
       "{('Mon', 0): 2515.0,\n",
       " ('Tue', 0): 1960.0,\n",
       " ('Tue', 100): 2360.0,\n",
       " ('Tue', 200): 2760.0,\n",
       " ('Tue', 300): 3205.0,\n",
       " ('Wed', 0): 1405.0,\n",
       " ('Wed', 100): 1805.0,\n",
       " ('Wed', 200): 2205.0,\n",
       " ('Wed', 300): 2650.0,\n",
       " ('Thu', 0): 850.0000000000001,\n",
       " ('Thu', 100): 1250.0,\n",
       " ('Thu', 200): 1650.0,\n",
       " ('Thu', 300): 2095.0,\n",
       " ('Fri', 0): 295.00000000000006,\n",
       " ('Fri', 100): 695.0000000000001,\n",
       " ('Fri', 200): 1095.0,\n",
       " ('Fri', 300): 1400.0,\n",
       " ('Weekend', 0): 0,\n",
       " ('Weekend', 100): 0,\n",
       " ('Weekend', 200): 0,\n",
       " ('Weekend', 300): 0}"
      ]
     },
     "execution_count": 14,
     "metadata": {},
     "output_type": "execute_result"
    }
   ],
   "source": [
    "print(\"The state values:\")\n",
    "v"
   ]
  },
  {
   "cell_type": "code",
   "execution_count": 15,
   "metadata": {},
   "outputs": [],
   "source": [
    "def choose_action(state, policy):\n",
    "    prob_a = policy[state]\n",
    "    action = np.random.choice(a=list(prob_a.keys()),\n",
    "                              p=list(prob_a.values()))\n",
    "    return action\n",
    "\n",
    "def simulate_policy(policy, n_episodes):\n",
    "    np.random.seed(0)\n",
    "    foodtruck = FoodTruck()\n",
    "    rewards = []\n",
    "    for i_episode in range(n_episodes):\n",
    "        state = foodtruck.reset()\n",
    "        done = False\n",
    "        ep_reward = 0\n",
    "        while not done:\n",
    "            action = choose_action(state, policy)\n",
    "            state, reward, done, info = foodtruck.step(action)\n",
    "            ep_reward += reward\n",
    "        rewards.append(ep_reward)\n",
    "    print(\"Expected weekly profit:\", np.mean(rewards))"
   ]
  },
  {
   "cell_type": "code",
   "execution_count": 16,
   "metadata": {},
   "outputs": [
    {
     "name": "stdout",
     "output_type": "stream",
     "text": [
      "Expected weekly profit: 2518.1\n"
     ]
    }
   ],
   "source": [
    "simulate_policy(policy, 1000)"
   ]
  },
  {
   "cell_type": "markdown",
   "metadata": {},
   "source": [
    "## Policy Iteration"
   ]
  },
  {
   "cell_type": "code",
   "execution_count": 17,
   "metadata": {},
   "outputs": [],
   "source": [
    "def policy_improvement(env, v, s, actions, gamma):\n",
    "    prob_a = {}\n",
    "    if not env.is_terminal(s):\n",
    "        max_q = np.NINF     # negative infinity\n",
    "        best_a = None\n",
    "        for a in actions:\n",
    "            q_sa = expected_update(env, v, s, {a: 1}, gamma)\n",
    "            if q_sa >= max_q:\n",
    "                max_q = q_sa\n",
    "                best_a = a\n",
    "        prob_a[best_a] = 1\n",
    "    else:\n",
    "        max_q = 0\n",
    "    return prob_a, max_q"
   ]
  },
  {
   "cell_type": "code",
   "execution_count": 18,
   "metadata": {},
   "outputs": [],
   "source": [
    "def policy_iteration(env, eps=0.1, gamma=1):\n",
    "    np.random.seed(1)\n",
    "    states = env.state_space\n",
    "    actions = env.action_space\n",
    "    policy = {s : {np.random.choice(actions): 1}\n",
    "              for s in states}\n",
    "    v = {s: 0 for s in states}\n",
    "    while True:\n",
    "        v = policy_evaluate(env, policy, v=v,\n",
    "                            eps=eps, gamma=gamma)\n",
    "        old_policy = policy\n",
    "        policy = {}\n",
    "        for s in states:\n",
    "            policy[s], _ = policy_improvement(env, v, s,\n",
    "                                              actions, gamma)\n",
    "        if old_policy == policy:\n",
    "            break\n",
    "    print(\"Optimal policy found!\")\n",
    "    return policy, v"
   ]
  },
  {
   "cell_type": "code",
   "execution_count": 19,
   "metadata": {},
   "outputs": [
    {
     "name": "stdout",
     "output_type": "stream",
     "text": [
      "Converged in  6 iterations.\n",
      "Converged in  6 iterations.\n",
      "Converged in  5 iterations.\n",
      "Optimal policy found!\n",
      "Expected weekly profit: 2880.0\n"
     ]
    }
   ],
   "source": [
    "policy, v = policy_iteration(foodtruck)\n",
    "print(\"Expected weekly profit:\", v[\"Mon\", 0])"
   ]
  },
  {
   "cell_type": "code",
   "execution_count": 20,
   "metadata": {},
   "outputs": [
    {
     "name": "stdout",
     "output_type": "stream",
     "text": [
      "{('Mon', 0): {400: 1}, ('Tue', 0): {400: 1}, ('Tue', 100): {300: 1}, ('Tue', 200): {200: 1}, ('Tue', 300): {100: 1}, ('Wed', 0): {400: 1}, ('Wed', 100): {300: 1}, ('Wed', 200): {200: 1}, ('Wed', 300): {100: 1}, ('Thu', 0): {300: 1}, ('Thu', 100): {200: 1}, ('Thu', 200): {100: 1}, ('Thu', 300): {0: 1}, ('Fri', 0): {200: 1}, ('Fri', 100): {100: 1}, ('Fri', 200): {0: 1}, ('Fri', 300): {0: 1}, ('Weekend', 0): {}, ('Weekend', 100): {}, ('Weekend', 200): {}, ('Weekend', 300): {}}\n"
     ]
    }
   ],
   "source": [
    "print(policy)"
   ]
  },
  {
   "cell_type": "markdown",
   "metadata": {},
   "source": [
    "## Value iteration"
   ]
  },
  {
   "cell_type": "code",
   "execution_count": 21,
   "metadata": {},
   "outputs": [],
   "source": [
    "def value_iteration(env, max_iter=100, eps=0.1, gamma=1):\n",
    "    states = env.state_space\n",
    "    actions = env.action_space\n",
    "    v = {s: 0 for s in states}\n",
    "    policy = {}\n",
    "    k = 0\n",
    "    while True:\n",
    "        max_delta = 0\n",
    "        for s in states:\n",
    "            old_v = v[s]\n",
    "            policy[s], v[s] = policy_improvement(env, v, s, actions, gamma)\n",
    "            max_delta = max(max_delta, abs(v[s] - old_v))\n",
    "        k += 1\n",
    "        if max_delta < eps:\n",
    "            print(\"Converged in\", k, \"iterations.\")\n",
    "            break\n",
    "        elif k == max_iter:\n",
    "            print('Terminating after', k, 'iterations.')\n",
    "            break\n",
    "    return policy, v"
   ]
  },
  {
   "cell_type": "code",
   "execution_count": 22,
   "metadata": {},
   "outputs": [
    {
     "name": "stdout",
     "output_type": "stream",
     "text": [
      "Converged in 6 iterations.\n",
      "Expected weekly profit: 2880.0\n"
     ]
    }
   ],
   "source": [
    "policy, v = value_iteration(foodtruck)\n",
    "print(\"Expected weekly profit:\", v[\"Mon\", 0])"
   ]
  },
  {
   "cell_type": "code",
   "execution_count": 23,
   "metadata": {},
   "outputs": [
    {
     "name": "stdout",
     "output_type": "stream",
     "text": [
      "{('Mon', 0): {400: 1}, ('Tue', 0): {400: 1}, ('Tue', 100): {300: 1}, ('Tue', 200): {200: 1}, ('Tue', 300): {100: 1}, ('Wed', 0): {400: 1}, ('Wed', 100): {300: 1}, ('Wed', 200): {200: 1}, ('Wed', 300): {100: 1}, ('Thu', 0): {300: 1}, ('Thu', 100): {200: 1}, ('Thu', 200): {100: 1}, ('Thu', 300): {0: 1}, ('Fri', 0): {200: 1}, ('Fri', 100): {100: 1}, ('Fri', 200): {0: 1}, ('Fri', 300): {0: 1}, ('Weekend', 0): {}, ('Weekend', 100): {}, ('Weekend', 200): {}, ('Weekend', 300): {}}\n"
     ]
    }
   ],
   "source": [
    "print(policy)"
   ]
  },
  {
   "cell_type": "code",
   "execution_count": 24,
   "metadata": {},
   "outputs": [],
   "source": [
    "def generalized_policy_iteration(env, max_iter=2, eps=0.1, gamma=1):\n",
    "    np.random.seed(1)\n",
    "    # states = env.observation_space\n",
    "    states = env.state_space\n",
    "    actions = env.action_space\n",
    "    policy = {s: {np.random.choice(actions): 1}\n",
    "              for s in states}\n",
    "    v = {s: 0 for s in states}\n",
    "    k = 0\n",
    "    while True:\n",
    "        v_old = v.copy()\n",
    "        policy = {}\n",
    "        for s in states:\n",
    "            policy[s], v[s] = policy_improvement(env, v, s, actions, gamma)\n",
    "        v = policy_evaluate(env, policy,\n",
    "                                max_iter=max_iter, v=v,\n",
    "                                eps=eps, gamma=gamma)\n",
    "        max_delta = np.amax([abs(v[s] - v_old[s]) for s in v])\n",
    "        k += 1\n",
    "        if max_delta < eps:\n",
    "            print(\"GPI converged in\", k, 'iterations.')\n",
    "            print([abs(v[s] - v_old[s]) for s in v])\n",
    "            break\n",
    "    print(\"Optimal policy found!\")\n",
    "    return policy, v"
   ]
  },
  {
   "cell_type": "code",
   "execution_count": 25,
   "metadata": {},
   "outputs": [
    {
     "name": "stdout",
     "output_type": "stream",
     "text": [
      "Terminating after  2 iterations.\n",
      "Terminating after  2 iterations.\n",
      "Converged in  1 iterations.\n",
      "Converged in  1 iterations.\n",
      "GPI converged in 4 iterations.\n",
      "[0.0, 0.0, 0.0, 0.0, 0.0, 0.0, 0.0, 0.0, 0.0, 0.0, 0.0, 0.0, 0.0, 0.0, 0.0, 0.0, 0.0, 0, 0, 0, 0]\n",
      "Optimal policy found!\n"
     ]
    }
   ],
   "source": [
    "policy, v = generalized_policy_iteration(foodtruck, max_iter=2, eps=0.1, gamma=1)"
   ]
  },
  {
   "cell_type": "code",
   "execution_count": 26,
   "metadata": {},
   "outputs": [
    {
     "name": "stdout",
     "output_type": "stream",
     "text": [
      "Expected weekly profit: 2880.0\n",
      "{('Mon', 0): {400: 1}, ('Tue', 0): {400: 1}, ('Tue', 100): {300: 1}, ('Tue', 200): {200: 1}, ('Tue', 300): {100: 1}, ('Wed', 0): {400: 1}, ('Wed', 100): {300: 1}, ('Wed', 200): {200: 1}, ('Wed', 300): {100: 1}, ('Thu', 0): {300: 1}, ('Thu', 100): {200: 1}, ('Thu', 200): {100: 1}, ('Thu', 300): {0: 1}, ('Fri', 0): {200: 1}, ('Fri', 100): {100: 1}, ('Fri', 200): {0: 1}, ('Fri', 300): {0: 1}, ('Weekend', 0): {}, ('Weekend', 100): {}, ('Weekend', 200): {}, ('Weekend', 300): {}}\n"
     ]
    }
   ],
   "source": [
    "print(\"Expected weekly profit:\", v[\"Mon\", 0])\n",
    "print(policy)"
   ]
  },
  {
   "cell_type": "code",
   "execution_count": 27,
   "metadata": {},
   "outputs": [
    {
     "data": {
      "text/plain": [
       "{('Mon', 0): 2880.0,\n",
       " ('Tue', 0): 2250.0,\n",
       " ('Tue', 100): 2650.0,\n",
       " ('Tue', 200): 3050.0,\n",
       " ('Tue', 300): 3450.0,\n",
       " ('Wed', 0): 1620.0,\n",
       " ('Wed', 100): 2020.0,\n",
       " ('Wed', 200): 2420.0,\n",
       " ('Wed', 300): 2820.0,\n",
       " ('Thu', 0): 990.0,\n",
       " ('Thu', 100): 1390.0,\n",
       " ('Thu', 200): 1790.0,\n",
       " ('Thu', 300): 2190.0,\n",
       " ('Fri', 0): 390.00000000000006,\n",
       " ('Fri', 100): 790.0000000000001,\n",
       " ('Fri', 200): 1190.0,\n",
       " ('Fri', 300): 1400.0,\n",
       " ('Weekend', 0): 0,\n",
       " ('Weekend', 100): 0,\n",
       " ('Weekend', 200): 0,\n",
       " ('Weekend', 300): 0}"
      ]
     },
     "execution_count": 27,
     "metadata": {},
     "output_type": "execute_result"
    }
   ],
   "source": [
    "v"
   ]
  },
  {
   "cell_type": "markdown",
   "metadata": {},
   "source": [
    "# Monte Carlo Methods"
   ]
  },
  {
   "cell_type": "markdown",
   "metadata": {},
   "source": [
    "## MC Prediction"
   ]
  },
  {
   "cell_type": "code",
   "execution_count": 28,
   "metadata": {},
   "outputs": [],
   "source": [
    "def first_visit_return(returns, trajectory, gamma):\n",
    "    G = 0\n",
    "    T = len(trajectory) - 1\n",
    "    for t, sar in enumerate(reversed(trajectory)):\n",
    "        s, a, r = sar\n",
    "        G = r + gamma * G\n",
    "        first_visit = True\n",
    "        for j in range(T - t):\n",
    "            if s == trajectory[j][0]:\n",
    "                first_visit = False\n",
    "        if first_visit:\n",
    "            if s in returns:\n",
    "                returns[s].append(G)\n",
    "            else:\n",
    "                returns[s] = [G]\n",
    "    return returns"
   ]
  },
  {
   "cell_type": "code",
   "execution_count": 29,
   "metadata": {},
   "outputs": [],
   "source": [
    "def get_trajectory(env, policy):\n",
    "    trajectory = []\n",
    "    state = env.reset()\n",
    "    done = False\n",
    "    sar = [state]\n",
    "    while not done:\n",
    "        action = choose_action(state, policy)\n",
    "        state, reward, done, info = env.step(action)\n",
    "        sar.append(action)\n",
    "        sar.append(reward)\n",
    "        trajectory.append(sar)\n",
    "        sar = [state]\n",
    "    return trajectory"
   ]
  },
  {
   "cell_type": "code",
   "execution_count": 30,
   "metadata": {},
   "outputs": [],
   "source": [
    "def first_visit_mc(env, policy, gamma, n_trajectories):\n",
    "    np.random.seed(0)\n",
    "    returns = {}\n",
    "    v = {}\n",
    "    for i in range(n_trajectories):\n",
    "        trajectory = get_trajectory(env, policy)\n",
    "        returns = first_visit_return(returns, trajectory, gamma)\n",
    "    \n",
    "    for s in env.state_space:\n",
    "        if s in returns:\n",
    "            v[s] = np.round(np.mean(returns[s]), 1)\n",
    "    return v"
   ]
  },
  {
   "cell_type": "code",
   "execution_count": 31,
   "metadata": {},
   "outputs": [],
   "source": [
    "foodtruck = FoodTruck()\n",
    "policy = base_policy(foodtruck.state_space)"
   ]
  },
  {
   "cell_type": "code",
   "execution_count": 32,
   "metadata": {},
   "outputs": [
    {
     "data": {
      "text/plain": [
       "{('Mon', 0): 2515.9,\n",
       " ('Tue', 0): 1959.1,\n",
       " ('Tue', 100): 2362.2,\n",
       " ('Tue', 200): 2765.2,\n",
       " ('Wed', 0): 1411.3,\n",
       " ('Wed', 100): 1804.2,\n",
       " ('Wed', 200): 2198.9,\n",
       " ('Thu', 0): 852.9,\n",
       " ('Thu', 100): 1265.4,\n",
       " ('Thu', 200): 1644.4,\n",
       " ('Fri', 0): 301.1,\n",
       " ('Fri', 100): 696.5,\n",
       " ('Fri', 200): 1097.2}"
      ]
     },
     "execution_count": 32,
     "metadata": {},
     "output_type": "execute_result"
    }
   ],
   "source": [
    "v_est = first_visit_mc(foodtruck, policy, 1, 10000)\n",
    "v_est"
   ]
  },
  {
   "cell_type": "code",
   "execution_count": 33,
   "metadata": {},
   "outputs": [
    {
     "name": "stdout",
     "output_type": "stream",
     "text": [
      "Converged in  6 iterations.\n"
     ]
    }
   ],
   "source": [
    "v_true = policy_evaluate(foodtruck, policy)"
   ]
  },
  {
   "cell_type": "code",
   "execution_count": 34,
   "metadata": {},
   "outputs": [
    {
     "data": {
      "text/plain": [
       "{('Mon', 0): 2515.0,\n",
       " ('Tue', 0): 1960.0,\n",
       " ('Tue', 100): 2360.0,\n",
       " ('Tue', 200): 2760.0,\n",
       " ('Tue', 300): 3205.0,\n",
       " ('Wed', 0): 1405.0,\n",
       " ('Wed', 100): 1805.0,\n",
       " ('Wed', 200): 2205.0,\n",
       " ('Wed', 300): 2650.0,\n",
       " ('Thu', 0): 850.0000000000001,\n",
       " ('Thu', 100): 1250.0,\n",
       " ('Thu', 200): 1650.0,\n",
       " ('Thu', 300): 2095.0,\n",
       " ('Fri', 0): 295.00000000000006,\n",
       " ('Fri', 100): 695.0000000000001,\n",
       " ('Fri', 200): 1095.0,\n",
       " ('Fri', 300): 1400.0,\n",
       " ('Weekend', 0): 0,\n",
       " ('Weekend', 100): 0,\n",
       " ('Weekend', 200): 0,\n",
       " ('Weekend', 300): 0}"
      ]
     },
     "execution_count": 34,
     "metadata": {},
     "output_type": "execute_result"
    }
   ],
   "source": [
    "v_true"
   ]
  },
  {
   "cell_type": "markdown",
   "metadata": {},
   "source": [
    "## On-policy Monte Carlo control"
   ]
  },
  {
   "cell_type": "code",
   "execution_count": 35,
   "metadata": {},
   "outputs": [],
   "source": [
    "import operator"
   ]
  },
  {
   "cell_type": "code",
   "execution_count": 36,
   "metadata": {},
   "outputs": [],
   "source": [
    "def get_eps_greedy(actions, eps, a_best):\n",
    "    prob_a = {}\n",
    "    n_a = len(actions)\n",
    "    for a in actions:\n",
    "        if a == a_best:\n",
    "            prob_a[a] = 1 - eps + eps/n_a\n",
    "        else:\n",
    "            prob_a[a] = eps/n_a\n",
    "    return prob_a"
   ]
  },
  {
   "cell_type": "code",
   "execution_count": 37,
   "metadata": {},
   "outputs": [],
   "source": [
    "def get_random_policy(states, actions):\n",
    "    policy = {}\n",
    "    n_a = len(actions)\n",
    "    for s in states:\n",
    "        policy[s] = {a: 1/n_a for a in actions}\n",
    "    return policy"
   ]
  },
  {
   "cell_type": "code",
   "execution_count": 38,
   "metadata": {},
   "outputs": [],
   "source": [
    "def on_policy_first_visit_mc(env, n_iter, eps, gamma):\n",
    "    np.random.seed(0)\n",
    "    states = env.state_space\n",
    "    actions = env.action_space\n",
    "    policy = get_random_policy(states, actions)\n",
    "    Q = {s: {a: 0 for a in actions} for s in states}\n",
    "    Q_n = {s: {a: 0 for a in actions} for s in states}\n",
    "    for i in range(n_iter):\n",
    "        if i % 10000 == 0:\n",
    "            print(\"Iteration:\", i)\n",
    "        trajectory = get_trajectory(env, policy)\n",
    "        G = 0\n",
    "        T = len(trajectory) - 1\n",
    "        for t, sar in enumerate(reversed(trajectory)):\n",
    "            s, a, r = sar\n",
    "            G = r + gamma * G\n",
    "            first_visit = True\n",
    "            for j in range(T - t):\n",
    "                s_j = trajectory[j][0]\n",
    "                a_j = trajectory[j][1]\n",
    "                if (s, a) == (s_j, a_j):\n",
    "                    first_visit = False\n",
    "            if first_visit:\n",
    "                Q[s][a] = Q_n[s][a] * Q[s][a] + G\n",
    "                Q_n[s][a] += 1\n",
    "                Q[s][a] /= Q_n[s][a]\n",
    "                a_best = max(Q[s].items(),  key=operator.itemgetter(1))[0]\n",
    "                policy[s] = get_eps_greedy(actions, eps, a_best)\n",
    "                \n",
    "    return policy, Q, Q_n"
   ]
  },
  {
   "cell_type": "code",
   "execution_count": 39,
   "metadata": {},
   "outputs": [
    {
     "name": "stdout",
     "output_type": "stream",
     "text": [
      "Iteration: 0\n",
      "Iteration: 10000\n",
      "Iteration: 20000\n",
      "Iteration: 30000\n",
      "Iteration: 40000\n",
      "Iteration: 50000\n",
      "Iteration: 60000\n",
      "Iteration: 70000\n",
      "Iteration: 80000\n",
      "Iteration: 90000\n",
      "Iteration: 100000\n",
      "Iteration: 110000\n",
      "Iteration: 120000\n",
      "Iteration: 130000\n",
      "Iteration: 140000\n",
      "Iteration: 150000\n",
      "Iteration: 160000\n",
      "Iteration: 170000\n",
      "Iteration: 180000\n",
      "Iteration: 190000\n",
      "Iteration: 200000\n",
      "Iteration: 210000\n",
      "Iteration: 220000\n",
      "Iteration: 230000\n",
      "Iteration: 240000\n",
      "Iteration: 250000\n",
      "Iteration: 260000\n",
      "Iteration: 270000\n",
      "Iteration: 280000\n",
      "Iteration: 290000\n"
     ]
    }
   ],
   "source": [
    "policy, Q, Q_n = on_policy_first_visit_mc(foodtruck, 300000, 0.05, 1)"
   ]
  },
  {
   "cell_type": "code",
   "execution_count": 40,
   "metadata": {},
   "outputs": [
    {
     "data": {
      "text/plain": [
       "{('Mon', 0): {0: 0.01, 100: 0.01, 200: 0.01, 300: 0.01, 400: 0.96},\n",
       " ('Tue', 0): {0: 0.01, 100: 0.01, 200: 0.01, 300: 0.01, 400: 0.96},\n",
       " ('Tue', 100): {0: 0.01, 100: 0.01, 200: 0.01, 300: 0.96, 400: 0.01},\n",
       " ('Tue', 200): {0: 0.01, 100: 0.01, 200: 0.96, 300: 0.01, 400: 0.01},\n",
       " ('Tue', 300): {0: 0.01, 100: 0.96, 200: 0.01, 300: 0.01, 400: 0.01},\n",
       " ('Wed', 0): {0: 0.01, 100: 0.01, 200: 0.01, 300: 0.01, 400: 0.96},\n",
       " ('Wed', 100): {0: 0.01, 100: 0.01, 200: 0.01, 300: 0.96, 400: 0.01},\n",
       " ('Wed', 200): {0: 0.01, 100: 0.01, 200: 0.96, 300: 0.01, 400: 0.01},\n",
       " ('Wed', 300): {0: 0.01, 100: 0.96, 200: 0.01, 300: 0.01, 400: 0.01},\n",
       " ('Thu', 0): {0: 0.01, 100: 0.01, 200: 0.01, 300: 0.96, 400: 0.01},\n",
       " ('Thu', 100): {0: 0.01, 100: 0.01, 200: 0.96, 300: 0.01, 400: 0.01},\n",
       " ('Thu', 200): {0: 0.01, 100: 0.96, 200: 0.01, 300: 0.01, 400: 0.01},\n",
       " ('Thu', 300): {0: 0.96, 100: 0.01, 200: 0.01, 300: 0.01, 400: 0.01},\n",
       " ('Fri', 0): {0: 0.01, 100: 0.01, 200: 0.96, 300: 0.01, 400: 0.01},\n",
       " ('Fri', 100): {0: 0.01, 100: 0.96, 200: 0.01, 300: 0.01, 400: 0.01},\n",
       " ('Fri', 200): {0: 0.96, 100: 0.01, 200: 0.01, 300: 0.01, 400: 0.01},\n",
       " ('Fri', 300): {0: 0.96, 100: 0.01, 200: 0.01, 300: 0.01, 400: 0.01},\n",
       " ('Weekend', 0): {0: 0.2, 100: 0.2, 200: 0.2, 300: 0.2, 400: 0.2},\n",
       " ('Weekend', 100): {0: 0.2, 100: 0.2, 200: 0.2, 300: 0.2, 400: 0.2},\n",
       " ('Weekend', 200): {0: 0.2, 100: 0.2, 200: 0.2, 300: 0.2, 400: 0.2},\n",
       " ('Weekend', 300): {0: 0.2, 100: 0.2, 200: 0.2, 300: 0.2, 400: 0.2}}"
      ]
     },
     "execution_count": 40,
     "metadata": {},
     "output_type": "execute_result"
    }
   ],
   "source": [
    "policy"
   ]
  },
  {
   "cell_type": "code",
   "execution_count": 41,
   "metadata": {},
   "outputs": [
    {
     "data": {
      "text/plain": [
       "{('Mon', 0): {0: 2162.733333333329,\n",
       "  100: 2468.4210526315796,\n",
       "  200: 2668.7695190505888,\n",
       "  300: 2739.300098231826,\n",
       "  400: 2809.1632287569414},\n",
       " ('Tue', 0): {0: 1539.1011235955057,\n",
       "  100: 1857.630979498861,\n",
       "  200: 2018.3222958057395,\n",
       "  300: 2101.97486535009,\n",
       "  400: 2181.249139237035},\n",
       " ('Tue', 100): {0: 2243.7967115097176,\n",
       "  100: 2410.7182940516295,\n",
       "  200: 2537.853107344635,\n",
       "  300: 2587.222441722628,\n",
       "  400: 2170.4049844236765},\n",
       " ('Tue', 200): {0: 2828.295819935689,\n",
       "  100: 2953.6330631123433,\n",
       "  200: 2996.437255166801,\n",
       "  300: 2623.82297551789,\n",
       "  400: 2224.710080285464},\n",
       " ('Tue', 300): {0: 3383.880037488284,\n",
       "  100: 3395.720002238628,\n",
       "  200: 2939.4218134034168,\n",
       "  300: 2572.2506393861877,\n",
       "  400: 2162.3395149786},\n",
       " ('Wed', 0): {0: 935.7142857142857,\n",
       "  100: 1256.8720379146928,\n",
       "  200: 1400.5025125628129,\n",
       "  300: 1547.1040492055338,\n",
       "  400: 1579.8683874265244},\n",
       " ('Wed', 100): {0: 1639.7689768976904,\n",
       "  100: 1868.1431005110733,\n",
       "  200: 1908.107074569789,\n",
       "  300: 1989.5285532259934,\n",
       "  400: 1605.021520803444},\n",
       " ('Wed', 200): {0: 2250.352733686064,\n",
       "  100: 2341.068532900906,\n",
       "  200: 2383.0059803588124,\n",
       "  300: 1962.005277044855,\n",
       "  400: 1573.4144222415298},\n",
       " ('Wed', 300): {0: 2758.00389203214,\n",
       "  100: 2778.022627490717,\n",
       "  200: 2393.5081148564277,\n",
       "  300: 1985.8374384236454,\n",
       "  400: 1614.6220570012397},\n",
       " ('Thu', 0): {0: 369.36619718309856,\n",
       "  100: 684.2803030303028,\n",
       "  200: 903.1539888682744,\n",
       "  300: 972.1787871266652,\n",
       "  400: 930.1247771836006},\n",
       " ('Thu', 100): {0: 1084.478371501272,\n",
       "  100: 1289.5073754522657,\n",
       "  200: 1372.1298508969842,\n",
       "  300: 1332.386447699365,\n",
       "  400: 953.6523929471032},\n",
       " ('Thu', 200): {0: 1677.668161434978,\n",
       "  100: 1769.2753842946279,\n",
       "  200: 1733.8299737072743,\n",
       "  300: 1325.3393665158371,\n",
       "  400: 919.6219621962197},\n",
       " ('Thu', 300): {0: 2169.691663233083,\n",
       "  100: 2166.585956416466,\n",
       "  200: 1757.9545454545455,\n",
       "  300: 1333.6569579288014,\n",
       "  400: 953.3227848101266},\n",
       " ('Fri', 0): {0: 0.0,\n",
       "  100: 300.0,\n",
       "  200: 388.81505831705283,\n",
       "  300: 186.4516129032258,\n",
       "  400: -142.74809160305333},\n",
       " ('Fri', 100): {0: 700.0,\n",
       "  100: 790.5049146968516,\n",
       "  200: 607.3234524847425,\n",
       "  300: 267.3796791443842,\n",
       "  400: -110.91954022988506},\n",
       " ('Fri', 200): {0: 1190.3311990960892,\n",
       "  100: 988.7775551102206,\n",
       "  200: 640.5092592592597,\n",
       "  300: 267.4418604651163,\n",
       "  400: -112.39263803680979},\n",
       " ('Fri', 300): {0: 1399.4254760341432,\n",
       "  100: 1152.7272727272725,\n",
       "  200: 742.1875,\n",
       "  300: 284.4827586206896,\n",
       "  400: -120.0},\n",
       " ('Weekend', 0): {0: 0, 100: 0, 200: 0, 300: 0, 400: 0},\n",
       " ('Weekend', 100): {0: 0, 100: 0, 200: 0, 300: 0, 400: 0},\n",
       " ('Weekend', 200): {0: 0, 100: 0, 200: 0, 300: 0, 400: 0},\n",
       " ('Weekend', 300): {0: 0, 100: 0, 200: 0, 300: 0, 400: 0}}"
      ]
     },
     "execution_count": 41,
     "metadata": {},
     "output_type": "execute_result"
    }
   ],
   "source": [
    "Q"
   ]
  },
  {
   "cell_type": "markdown",
   "metadata": {},
   "source": [
    "## Off-policy Monte Carlo Control"
   ]
  },
  {
   "cell_type": "code",
   "execution_count": 42,
   "metadata": {},
   "outputs": [],
   "source": [
    "def off_policy_mc(env, n_iter, eps, gamma):\n",
    "    np.random.seed(0)\n",
    "    states = env.state_space\n",
    "    actions = env.action_space\n",
    "    Q = {s: {a: 0 for a in actions} for s in states}\n",
    "    C = {s: {a: 0 for a in actions} for s in states}\n",
    "    target_policy = {}\n",
    "    # behavior policy = random selection\n",
    "    behavior_policy = get_random_policy(states, actions)\n",
    "    for i in range(n_iter):\n",
    "        if i % 10000 == 0:\n",
    "            print('Iteration:', i)\n",
    "        trajectory = get_trajectory(env, behavior_policy)\n",
    "        \n",
    "        G = 0\n",
    "        W = 1\n",
    "        T = len(trajectory) - 1\n",
    "        for t, sar in enumerate(reversed(trajectory)):\n",
    "            s, a, r = sar\n",
    "            G = r + gamma * G \n",
    "            C[s][a] += W\n",
    "            Q[s][a] += (W/C[s][a]) * (G - Q[s][a])\n",
    "            a_best = max(Q[s].items(),\n",
    "                         key=operator.itemgetter(1))[0]\n",
    "            target_policy[s] = a_best\n",
    "            # behavior policy = random selection\n",
    "            behavior_policy[s] = get_eps_greedy(actions, eps, a_best)\n",
    "            if a != target_policy[s]:\n",
    "                break\n",
    "            W = W / behavior_policy[s][a]\n",
    "    target_policy = {s: target_policy[s] for s in states\n",
    "                     if s in target_policy}\n",
    "    return target_policy, Q"
   ]
  },
  {
   "cell_type": "code",
   "execution_count": 43,
   "metadata": {},
   "outputs": [
    {
     "name": "stdout",
     "output_type": "stream",
     "text": [
      "Iteration: 0\n",
      "Iteration: 10000\n",
      "Iteration: 20000\n",
      "Iteration: 30000\n",
      "Iteration: 40000\n",
      "Iteration: 50000\n",
      "Iteration: 60000\n",
      "Iteration: 70000\n",
      "Iteration: 80000\n",
      "Iteration: 90000\n",
      "Iteration: 100000\n",
      "Iteration: 110000\n",
      "Iteration: 120000\n",
      "Iteration: 130000\n",
      "Iteration: 140000\n",
      "Iteration: 150000\n",
      "Iteration: 160000\n",
      "Iteration: 170000\n",
      "Iteration: 180000\n",
      "Iteration: 190000\n",
      "Iteration: 200000\n",
      "Iteration: 210000\n",
      "Iteration: 220000\n",
      "Iteration: 230000\n",
      "Iteration: 240000\n",
      "Iteration: 250000\n",
      "Iteration: 260000\n",
      "Iteration: 270000\n",
      "Iteration: 280000\n",
      "Iteration: 290000\n"
     ]
    }
   ],
   "source": [
    "policy, Q = off_policy_mc(foodtruck, 300000, 0.05, 1)"
   ]
  },
  {
   "cell_type": "code",
   "execution_count": 44,
   "metadata": {},
   "outputs": [
    {
     "data": {
      "text/plain": [
       "{('Mon', 0): 400,\n",
       " ('Tue', 0): 400,\n",
       " ('Tue', 100): 300,\n",
       " ('Tue', 200): 200,\n",
       " ('Tue', 300): 100,\n",
       " ('Wed', 0): 400,\n",
       " ('Wed', 100): 300,\n",
       " ('Wed', 200): 200,\n",
       " ('Wed', 300): 100,\n",
       " ('Thu', 0): 300,\n",
       " ('Thu', 100): 200,\n",
       " ('Thu', 200): 100,\n",
       " ('Thu', 300): 0,\n",
       " ('Fri', 0): 200,\n",
       " ('Fri', 100): 100,\n",
       " ('Fri', 200): 0,\n",
       " ('Fri', 300): 0}"
      ]
     },
     "execution_count": 44,
     "metadata": {},
     "output_type": "execute_result"
    }
   ],
   "source": [
    "policy"
   ]
  },
  {
   "cell_type": "code",
   "execution_count": 45,
   "metadata": {},
   "outputs": [
    {
     "data": {
      "text/plain": [
       "{('Mon', 0): {0: 2232.674050632915,\n",
       "  100: 2539.364696421396,\n",
       "  200: 2725.681570338065,\n",
       "  300: 2822.8136882129284,\n",
       "  400: 2878.458190025779},\n",
       " ('Tue', 0): {0: 1594.8051948051952,\n",
       "  100: 1928.976034858388,\n",
       "  200: 2067.4576271186465,\n",
       "  300: 2207.8512396694205,\n",
       "  400: 2239.8886329583893},\n",
       " ('Tue', 100): {0: 2318.9435336976317,\n",
       "  100: 2536.8012422360302,\n",
       "  200: 2549.486301369862,\n",
       "  300: 2650.193090274893,\n",
       "  400: 2256.120527306967},\n",
       " ('Tue', 200): {0: 2922.175290390706,\n",
       "  100: 3012.8990770161868,\n",
       "  200: 3052.4769607403373,\n",
       "  300: 2689.515219842163,\n",
       "  400: 2293.305439330548},\n",
       " ('Tue', 300): {0: 3420.032031538755,\n",
       "  100: 3453.749726573689,\n",
       "  200: 3014.1210374639763,\n",
       "  300: 2635.802469135803,\n",
       "  400: 2233.3333333333344},\n",
       " ('Wed', 0): {0: 927.9702970297026,\n",
       "  100: 1303.1026252983302,\n",
       "  200: 1428.831168831168,\n",
       "  300: 1566.1498708010329,\n",
       "  400: 1616.5133331502423},\n",
       " ('Wed', 100): {0: 1683.8652482269495,\n",
       "  100: 1896.0360360360366,\n",
       "  200: 1976.8450184501858,\n",
       "  300: 2024.3386976631361,\n",
       "  400: 1650.87440381558},\n",
       " ('Wed', 200): {0: 2277.8664007976076,\n",
       "  100: 2405.7504873294333,\n",
       "  200: 2419.006699098848,\n",
       "  300: 2000.3857280617174,\n",
       "  400: 1608.8068181818178},\n",
       " ('Wed', 300): {0: 2779.4180573384715,\n",
       "  100: 2818.4754229486366,\n",
       "  200: 2422.7878787878817,\n",
       "  300: 2017.7989130434773,\n",
       "  400: 1660.6602475928496},\n",
       " ('Thu', 0): {0: 369.164265129683,\n",
       "  100: 684.9275362318838,\n",
       "  200: 912.9056047197645,\n",
       "  300: 988.2722582352171,\n",
       "  400: 926.3157894736842},\n",
       " ('Thu', 100): {0: 1090.7738095238096,\n",
       "  100: 1329.5566502463064,\n",
       "  200: 1392.0507055220148,\n",
       "  300: 1373.6577181208052,\n",
       "  400: 961.7241379310348},\n",
       " ('Thu', 200): {0: 1699.1087344028504,\n",
       "  100: 1789.1752957897363,\n",
       "  200: 1760.222222222221,\n",
       "  300: 1342.7149321266952,\n",
       "  400: 965.2557319223995},\n",
       " ('Thu', 300): {0: 2190.6271182185546,\n",
       "  100: 2176.451612903226,\n",
       "  200: 1780.9290953545235,\n",
       "  300: 1360.7017543859658,\n",
       "  400: 964.203233256352},\n",
       " ('Fri', 0): {0: 0.0,\n",
       "  100: 300.0,\n",
       "  200: 388.8413403310466,\n",
       "  300: 189.6405919661735,\n",
       "  400: -146.61016949152557},\n",
       " ('Fri', 100): {0: 700.0,\n",
       "  100: 790.0458861880747,\n",
       "  200: 608.920985556499,\n",
       "  300: 265.5866900175128,\n",
       "  400: -103.34967320261451},\n",
       " ('Fri', 200): {0: 1190.388245916431,\n",
       "  100: 1009.6551724137929,\n",
       "  200: 651.612903225807,\n",
       "  300: 266.99669966996686,\n",
       "  400: -116.64641555285537},\n",
       " ('Fri', 300): {0: 1404.084014002334,\n",
       "  100: 1116.6666666666667,\n",
       "  200: 702.9411764705883,\n",
       "  300: 282.3529411764706,\n",
       "  400: -175.86206896551724},\n",
       " ('Weekend', 0): {0: 0, 100: 0, 200: 0, 300: 0, 400: 0},\n",
       " ('Weekend', 100): {0: 0, 100: 0, 200: 0, 300: 0, 400: 0},\n",
       " ('Weekend', 200): {0: 0, 100: 0, 200: 0, 300: 0, 400: 0},\n",
       " ('Weekend', 300): {0: 0, 100: 0, 200: 0, 300: 0, 400: 0}}"
      ]
     },
     "execution_count": 45,
     "metadata": {},
     "output_type": "execute_result"
    }
   ],
   "source": [
    "Q"
   ]
  },
  {
   "cell_type": "markdown",
   "metadata": {},
   "source": [
    "# TD Learning"
   ]
  },
  {
   "cell_type": "markdown",
   "metadata": {},
   "source": [
    "## TD Prediction"
   ]
  },
  {
   "cell_type": "code",
   "execution_count": 46,
   "metadata": {},
   "outputs": [],
   "source": [
    "def one_step_td_prediction(env, policy, gamma, alpha, n_iter):\n",
    "    np.random.seed(0)\n",
    "    states = env.state_space\n",
    "    v = {s: 0 for s in states}\n",
    "    s = env.reset()\n",
    "    for i in range(n_iter):\n",
    "        a = choose_action(s, policy)\n",
    "        s_next, reward, done, info = env.step(a)\n",
    "        v[s] += alpha * (reward + gamma * v[s_next] - v[s])\n",
    "        if done:\n",
    "            s = env.reset()\n",
    "        else:\n",
    "            s = s_next\n",
    "    return v"
   ]
  },
  {
   "cell_type": "code",
   "execution_count": 47,
   "metadata": {},
   "outputs": [
    {
     "data": {
      "text/plain": [
       "{('Mon', 0): 2506.576417395407,\n",
       " ('Tue', 0): 1956.077876400167,\n",
       " ('Tue', 100): 2368.7400039407535,\n",
       " ('Tue', 200): 2767.5069659225423,\n",
       " ('Tue', 300): 0,\n",
       " ('Wed', 0): 1413.0055559001296,\n",
       " ('Wed', 100): 1813.546186490315,\n",
       " ('Wed', 200): 2200.8873259700867,\n",
       " ('Wed', 300): 0,\n",
       " ('Thu', 0): 828.2915189850011,\n",
       " ('Thu', 100): 1280.424626614422,\n",
       " ('Thu', 200): 1675.8661846955831,\n",
       " ('Thu', 300): 0,\n",
       " ('Fri', 0): 345.52991944823583,\n",
       " ('Fri', 100): 677.4358179389413,\n",
       " ('Fri', 200): 1094.8263154150825,\n",
       " ('Fri', 300): 0,\n",
       " ('Weekend', 0): 0,\n",
       " ('Weekend', 100): 0,\n",
       " ('Weekend', 200): 0,\n",
       " ('Weekend', 300): 0}"
      ]
     },
     "execution_count": 47,
     "metadata": {},
     "output_type": "execute_result"
    }
   ],
   "source": [
    "policy = base_policy(foodtruck.state_space)\n",
    "v = one_step_td_prediction(foodtruck, policy, 1, 0.01, 100000)\n",
    "v"
   ]
  },
  {
   "cell_type": "code",
   "execution_count": 48,
   "metadata": {},
   "outputs": [
    {
     "name": "stdout",
     "output_type": "stream",
     "text": [
      "{('Mon', 0): 2507.0, ('Tue', 0): 1956.0, ('Tue', 100): 2369.0, ('Tue', 200): 2768.0, ('Tue', 300): 0, ('Wed', 0): 1413.0, ('Wed', 100): 1814.0, ('Wed', 200): 2201.0, ('Wed', 300): 0, ('Thu', 0): 828.0, ('Thu', 100): 1280.0, ('Thu', 200): 1676.0, ('Thu', 300): 0, ('Fri', 0): 346.0, ('Fri', 100): 677.0, ('Fri', 200): 1095.0, ('Fri', 300): 0, ('Weekend', 0): 0, ('Weekend', 100): 0, ('Weekend', 200): 0, ('Weekend', 300): 0}\n"
     ]
    }
   ],
   "source": [
    "print({s: np.round(v[s]) for s in v})"
   ]
  },
  {
   "cell_type": "code",
   "execution_count": 57,
   "metadata": {},
   "outputs": [],
   "source": [
    "def sarsa(env, gamma, eps, alpha, n_iter):\n",
    "    np.random.seed(0)\n",
    "    states = env.state_space\n",
    "    actions = env.action_space\n",
    "    Q = {s: {a: 0 for a in actions} for s in states}\n",
    "    policy = get_random_policy(states, actions)\n",
    "    s = env.reset()\n",
    "    a = choose_action(s, policy)\n",
    "    for i in range(n_iter):\n",
    "        if i % 100000 == 0:\n",
    "            print(\"Iteration:\", i)\n",
    "        s_next, reward, done, info = env.step(a)\n",
    "        a_best = max(Q[s_next].items(),\n",
    "                     key=operator.itemgetter(1))[0]\n",
    "        policy[s_next] = get_eps_greedy(actions, eps, a_best)\n",
    "        a_next = choose_action(s_next, policy)\n",
    "        Q[s][a] += alpha * (reward + gamma * Q[s_next][a_next] - Q[s][a])\n",
    "        \n",
    "        if done:\n",
    "            s = env.reset()\n",
    "            a_best = max(Q[s].items(),\n",
    "                         key=operator.itemgetter(1))[0]\n",
    "            policy[s] = get_eps_greedy(actions, eps, a_best)\n",
    "            a = choose_action(s, policy)\n",
    "        else:\n",
    "            s = s_next\n",
    "            a = a_next\n",
    "    return policy, Q"
   ]
  },
  {
   "cell_type": "code",
   "execution_count": 58,
   "metadata": {},
   "outputs": [
    {
     "name": "stdout",
     "output_type": "stream",
     "text": [
      "Iteration: 0\n",
      "Iteration: 100000\n",
      "Iteration: 200000\n",
      "Iteration: 300000\n",
      "Iteration: 400000\n",
      "Iteration: 500000\n",
      "Iteration: 600000\n",
      "Iteration: 700000\n",
      "Iteration: 800000\n",
      "Iteration: 900000\n"
     ]
    }
   ],
   "source": [
    "policy, Q = sarsa(foodtruck, 1, 0.1, 0.01, 1000000)"
   ]
  },
  {
   "cell_type": "code",
   "execution_count": 55,
   "metadata": {},
   "outputs": [
    {
     "data": {
      "text/plain": [
       "{('Mon', 0): {0: 0.02, 100: 0.02, 200: 0.02, 300: 0.92, 400: 0.02},\n",
       " ('Tue', 0): {0: 0.02, 100: 0.02, 200: 0.02, 300: 0.92, 400: 0.02},\n",
       " ('Tue', 100): {0: 0.02, 100: 0.02, 200: 0.92, 300: 0.02, 400: 0.02},\n",
       " ('Tue', 200): {0: 0.02, 100: 0.92, 200: 0.02, 300: 0.02, 400: 0.02},\n",
       " ('Tue', 300): {0: 0.92, 100: 0.02, 200: 0.02, 300: 0.02, 400: 0.02},\n",
       " ('Wed', 0): {0: 0.02, 100: 0.02, 200: 0.02, 300: 0.92, 400: 0.02},\n",
       " ('Wed', 100): {0: 0.02, 100: 0.02, 200: 0.02, 300: 0.92, 400: 0.02},\n",
       " ('Wed', 200): {0: 0.02, 100: 0.02, 200: 0.92, 300: 0.02, 400: 0.02},\n",
       " ('Wed', 300): {0: 0.92, 100: 0.02, 200: 0.02, 300: 0.02, 400: 0.02},\n",
       " ('Thu', 0): {0: 0.02, 100: 0.02, 200: 0.02, 300: 0.92, 400: 0.02},\n",
       " ('Thu', 100): {0: 0.02, 100: 0.02, 200: 0.92, 300: 0.02, 400: 0.02},\n",
       " ('Thu', 200): {0: 0.02, 100: 0.92, 200: 0.02, 300: 0.02, 400: 0.02},\n",
       " ('Thu', 300): {0: 0.92, 100: 0.02, 200: 0.02, 300: 0.02, 400: 0.02},\n",
       " ('Fri', 0): {0: 0.02, 100: 0.02, 200: 0.92, 300: 0.02, 400: 0.02},\n",
       " ('Fri', 100): {0: 0.02, 100: 0.92, 200: 0.02, 300: 0.02, 400: 0.02},\n",
       " ('Fri', 200): {0: 0.92, 100: 0.02, 200: 0.02, 300: 0.02, 400: 0.02},\n",
       " ('Fri', 300): {0: 0.92, 100: 0.02, 200: 0.02, 300: 0.02, 400: 0.02},\n",
       " ('Weekend', 0): {0: 0.92, 100: 0.02, 200: 0.02, 300: 0.02, 400: 0.02},\n",
       " ('Weekend', 100): {0: 0.92, 100: 0.02, 200: 0.02, 300: 0.02, 400: 0.02},\n",
       " ('Weekend', 200): {0: 0.92, 100: 0.02, 200: 0.02, 300: 0.02, 400: 0.02},\n",
       " ('Weekend', 300): {0: 0.92, 100: 0.02, 200: 0.02, 300: 0.02, 400: 0.02}}"
      ]
     },
     "execution_count": 55,
     "metadata": {},
     "output_type": "execute_result"
    }
   ],
   "source": [
    "policy"
   ]
  },
  {
   "cell_type": "code",
   "execution_count": null,
   "metadata": {},
   "outputs": [],
   "source": []
  },
  {
   "cell_type": "code",
   "execution_count": 56,
   "metadata": {},
   "outputs": [
    {
     "data": {
      "text/plain": [
       "{0: 2099.8661156763687,\n",
       " 100: 2399.8190742726747,\n",
       " 200: 2604.6629056622382,\n",
       " 300: 2670.098987213351,\n",
       " 400: 2632.8387133517112}"
      ]
     },
     "execution_count": 56,
     "metadata": {},
     "output_type": "execute_result"
    }
   ],
   "source": [
    "Q[('Mon', 0)]"
   ]
  },
  {
   "cell_type": "code",
   "execution_count": 60,
   "metadata": {},
   "outputs": [],
   "source": [
    "# Q-learning\n",
    "def q_learning(env, gamma, eps, alpha, n_iter):\n",
    "    np.random.seed(0)\n",
    "    states = env.state_space\n",
    "    actions = env.action_space\n",
    "    Q = {s: {a: 0 for a in actions} for s in states}\n",
    "    policy = get_random_policy(states, actions)\n",
    "    s = env.reset()\n",
    "    # implement main loop\n",
    "    # the action the agent takes in S comes from the e-greedy policy\n",
    "    for i in range(n_iter):\n",
    "        if i % 100000 == 0:\n",
    "            print(\"Iteration:\", i)\n",
    "        a_best = max(Q[s].items(),\n",
    "                     key=operator.itemgetter(1))[0]\n",
    "        policy[s] = get_eps_greedy(actions, eps, a_best)\n",
    "        a = choose_action(s, policy)\n",
    "        s_next, reward, done, info = env.step(a)\n",
    "        Q[s][a] += alpha * (reward + gamma * max(Q[s_next].values()) - Q[s][a])\n",
    "        if done:\n",
    "            s = env.reset()\n",
    "        else:\n",
    "            s = s_next\n",
    "    # return the policy as stripped of the explaratory action after the main loop is finished.\n",
    "    policy = {s: {max(policy[s].items(),\n",
    "                      key=operator.itemgetter(1))[0]: 1}\n",
    "              for s in states}\n",
    "    return policy, Q\n",
    "    "
   ]
  },
  {
   "cell_type": "code",
   "execution_count": 61,
   "metadata": {},
   "outputs": [
    {
     "name": "stdout",
     "output_type": "stream",
     "text": [
      "Iteration: 0\n",
      "Iteration: 100000\n",
      "Iteration: 200000\n",
      "Iteration: 300000\n",
      "Iteration: 400000\n",
      "Iteration: 500000\n",
      "Iteration: 600000\n",
      "Iteration: 700000\n",
      "Iteration: 800000\n",
      "Iteration: 900000\n"
     ]
    },
    {
     "data": {
      "text/plain": [
       "{('Mon', 0): {400: 1},\n",
       " ('Tue', 0): {400: 1},\n",
       " ('Tue', 100): {300: 1},\n",
       " ('Tue', 200): {200: 1},\n",
       " ('Tue', 300): {100: 1},\n",
       " ('Wed', 0): {400: 1},\n",
       " ('Wed', 100): {300: 1},\n",
       " ('Wed', 200): {200: 1},\n",
       " ('Wed', 300): {100: 1},\n",
       " ('Thu', 0): {300: 1},\n",
       " ('Thu', 100): {200: 1},\n",
       " ('Thu', 200): {100: 1},\n",
       " ('Thu', 300): {0: 1},\n",
       " ('Fri', 0): {200: 1},\n",
       " ('Fri', 100): {100: 1},\n",
       " ('Fri', 200): {0: 1},\n",
       " ('Fri', 300): {0: 1},\n",
       " ('Weekend', 0): {0: 1},\n",
       " ('Weekend', 100): {0: 1},\n",
       " ('Weekend', 200): {0: 1},\n",
       " ('Weekend', 300): {0: 1}}"
      ]
     },
     "execution_count": 61,
     "metadata": {},
     "output_type": "execute_result"
    }
   ],
   "source": [
    "policy, Q = q_learning(foodtruck, 1, 0.1, 0.01, 1000000)\n",
    "policy"
   ]
  },
  {
   "cell_type": "code",
   "execution_count": 62,
   "metadata": {},
   "outputs": [
    {
     "name": "stdout",
     "output_type": "stream",
     "text": [
      "Iteration: 0\n",
      "Iteration: 100000\n",
      "Iteration: 200000\n",
      "Iteration: 300000\n",
      "Iteration: 400000\n",
      "Iteration: 500000\n",
      "Iteration: 600000\n",
      "Iteration: 700000\n",
      "Iteration: 800000\n",
      "Iteration: 900000\n",
      "Iteration: 1000000\n",
      "Iteration: 1100000\n",
      "Iteration: 1200000\n",
      "Iteration: 1300000\n",
      "Iteration: 1400000\n",
      "Iteration: 1500000\n",
      "Iteration: 1600000\n",
      "Iteration: 1700000\n",
      "Iteration: 1800000\n",
      "Iteration: 1900000\n"
     ]
    },
    {
     "data": {
      "text/plain": [
       "({('Mon', 0): {400: 1},\n",
       "  ('Tue', 0): {400: 1},\n",
       "  ('Tue', 100): {300: 1},\n",
       "  ('Tue', 200): {200: 1},\n",
       "  ('Tue', 300): {100: 1},\n",
       "  ('Wed', 0): {400: 1},\n",
       "  ('Wed', 100): {200: 1},\n",
       "  ('Wed', 200): {200: 1},\n",
       "  ('Wed', 300): {0: 1},\n",
       "  ('Thu', 0): {300: 1},\n",
       "  ('Thu', 100): {200: 1},\n",
       "  ('Thu', 200): {100: 1},\n",
       "  ('Thu', 300): {0: 1},\n",
       "  ('Fri', 0): {200: 1},\n",
       "  ('Fri', 100): {100: 1},\n",
       "  ('Fri', 200): {0: 1},\n",
       "  ('Fri', 300): {0: 1},\n",
       "  ('Weekend', 0): {0: 1},\n",
       "  ('Weekend', 100): {0: 1},\n",
       "  ('Weekend', 200): {0: 1},\n",
       "  ('Weekend', 300): {0: 1}},\n",
       " {('Mon', 0): {0: 2244.0637616448644,\n",
       "   100: 2551.4888429657262,\n",
       "   200: 2755.614484157559,\n",
       "   300: 2804.440193560162,\n",
       "   400: 2871.587195327743},\n",
       "  ('Tue', 0): {0: 1627.5203092162499,\n",
       "   100: 1926.0294464228728,\n",
       "   200: 2142.507066157039,\n",
       "   300: 2188.522444867765,\n",
       "   400: 2220.8198837628893},\n",
       "  ('Tue', 100): {0: 2328.092076369215,\n",
       "   100: 2548.9917243501773,\n",
       "   200: 2585.6603328952137,\n",
       "   300: 2632.3016635217464,\n",
       "   400: 2238.172551280861},\n",
       "  ('Tue', 200): {0: 2951.336795635184,\n",
       "   100: 2994.7677365058976,\n",
       "   200: 3039.4542363665087,\n",
       "   300: 2659.220759409566,\n",
       "   400: 2231.958653601584},\n",
       "  ('Tue', 300): {0: 3395.548770604494,\n",
       "   100: 3443.5192075738096,\n",
       "   200: 3057.8883835788283,\n",
       "   300: 2640.4589306531293,\n",
       "   400: 2226.277560128574},\n",
       "  ('Wed', 0): {0: 985.3294600507751,\n",
       "   100: 1286.3030112467914,\n",
       "   200: 1509.5152922430382,\n",
       "   300: 1576.8683228039788,\n",
       "   400: 1600.0821655235488},\n",
       "  ('Wed', 100): {0: 1687.0461117867212,\n",
       "   100: 1908.5049028790693,\n",
       "   200: 1989.898843966935,\n",
       "   300: 1972.1103623017855,\n",
       "   400: 1631.1380445804969},\n",
       "  ('Wed', 200): {0: 2290.1864078341437,\n",
       "   100: 2361.704136360919,\n",
       "   200: 2412.8853848374088,\n",
       "   300: 2016.638771654276,\n",
       "   400: 1629.5485114573924},\n",
       "  ('Wed', 300): {0: 2800.6345319848638,\n",
       "   100: 2759.937441310505,\n",
       "   200: 2424.861620954604,\n",
       "   300: 2035.8340475116017,\n",
       "   400: 1608.334755804316},\n",
       "  ('Thu', 0): {0: 388.57136350312123,\n",
       "   100: 692.5439646805328,\n",
       "   200: 909.0605257572463,\n",
       "   300: 964.5844604241355,\n",
       "   400: 934.4132210268289},\n",
       "  ('Thu', 100): {0: 1090.4729184150679,\n",
       "   100: 1304.2693852423793,\n",
       "   200: 1398.1804182225308,\n",
       "   300: 1327.0138908394085,\n",
       "   400: 933.3417031199145},\n",
       "  ('Thu', 200): {0: 1709.5804783835176,\n",
       "   100: 1812.7789553111088,\n",
       "   200: 1723.5778920661369,\n",
       "   300: 1363.5752770654763,\n",
       "   400: 1003.445259798261},\n",
       "  ('Thu', 300): {0: 2145.1613173674937,\n",
       "   100: 2135.2419136995727,\n",
       "   200: 1721.198459179243,\n",
       "   300: 1372.7615722651065,\n",
       "   400: 927.8983856487955},\n",
       "  ('Fri', 0): {0: 0.0,\n",
       "   100: 299.9999999997565,\n",
       "   200: 393.04714158663654,\n",
       "   300: 183.07842019384972,\n",
       "   400: -54.74100876324332},\n",
       "  ('Fri', 100): {0: 699.9999999999943,\n",
       "   100: 804.1485045247719,\n",
       "   200: 590.4219132225952,\n",
       "   300: 322.29016753625075,\n",
       "   400: -184.97247483692422},\n",
       "  ('Fri', 200): {0: 1175.6614014560275,\n",
       "   100: 972.7416189851737,\n",
       "   200: 672.605595124213,\n",
       "   300: 252.622750721229,\n",
       "   400: -181.40027078989138},\n",
       "  ('Fri', 300): {0: 1401.8945060616575,\n",
       "   100: 861.3444945209186,\n",
       "   200: 588.4002940864386,\n",
       "   300: 238.51449093075237,\n",
       "   400: -31.94856955128629},\n",
       "  ('Weekend', 0): {0: 0, 100: 0, 200: 0, 300: 0, 400: 0},\n",
       "  ('Weekend', 100): {0: 0, 100: 0, 200: 0, 300: 0, 400: 0},\n",
       "  ('Weekend', 200): {0: 0, 100: 0, 200: 0, 300: 0, 400: 0},\n",
       "  ('Weekend', 300): {0: 0, 100: 0, 200: 0, 300: 0, 400: 0}})"
      ]
     },
     "execution_count": 62,
     "metadata": {},
     "output_type": "execute_result"
    }
   ],
   "source": [
    "q_learning(foodtruck, 1, 0.1, 0.01, 2000000)"
   ]
  },
  {
   "cell_type": "code",
   "execution_count": 63,
   "metadata": {},
   "outputs": [
    {
     "data": {
      "text/plain": [
       "{('Mon', 0): {0: 2245.0829290195916,\n",
       "  100: 2547.1635828336534,\n",
       "  200: 2748.856138197858,\n",
       "  300: 2839.1125811337256,\n",
       "  400: 2866.5016402621527},\n",
       " ('Tue', 0): {0: 1614.6452374271253,\n",
       "  100: 1916.8381250777265,\n",
       "  200: 2117.388245080608,\n",
       "  300: 2211.3014576092764,\n",
       "  400: 2232.0599781310757},\n",
       " ('Tue', 100): {0: 2316.4334861379116,\n",
       "  100: 2523.2077913271173,\n",
       "  200: 2595.5538361936988,\n",
       "  300: 2695.0893136287473,\n",
       "  400: 2230.303990683642},\n",
       " ('Tue', 200): {0: 2940.384015616099,\n",
       "  100: 2996.0488299167587,\n",
       "  200: 3019.9081748073777,\n",
       "  300: 2678.8639233234253,\n",
       "  400: 2265.330172146557},\n",
       " ('Tue', 300): {0: 3358.7009137579607,\n",
       "  100: 3420.833489493632,\n",
       "  200: 3033.7612200413832,\n",
       "  300: 2648.5646767080625,\n",
       "  400: 2235.0837872568113},\n",
       " ('Wed', 0): {0: 984.3179293183216,\n",
       "  100: 1282.7027441623345,\n",
       "  200: 1512.4183586906668,\n",
       "  300: 1568.2347997748002,\n",
       "  400: 1621.341834356492},\n",
       " ('Wed', 100): {0: 1684.2185079221615,\n",
       "  100: 1906.039634814844,\n",
       "  200: 1950.8745817686859,\n",
       "  300: 2022.289839859906,\n",
       "  400: 1607.573466930215},\n",
       " ('Wed', 200): {0: 2287.082054930271,\n",
       "  100: 2367.596064970577,\n",
       "  200: 2398.5925926778477,\n",
       "  300: 2006.4905700818333,\n",
       "  400: 1626.1399821868797},\n",
       " ('Wed', 300): {0: 2766.0110452938297,\n",
       "  100: 2801.760369066879,\n",
       "  200: 2411.5110168920714,\n",
       "  300: 2017.0576942010412,\n",
       "  400: 1608.5780817240823},\n",
       " ('Thu', 0): {0: 387.44396744299155,\n",
       "  100: 688.3257277598498,\n",
       "  200: 904.2388107584636,\n",
       "  300: 973.7788769377127,\n",
       "  400: 923.3663302411243},\n",
       " ('Thu', 100): {0: 1091.2462662038606,\n",
       "  100: 1315.1546871652067,\n",
       "  200: 1389.29715154905,\n",
       "  300: 1337.8089538623794,\n",
       "  400: 956.5866597146368},\n",
       " ('Thu', 200): {0: 1711.6998698509187,\n",
       "  100: 1790.6745162683635,\n",
       "  200: 1744.4631646229266,\n",
       "  300: 1377.8514558659692,\n",
       "  400: 966.8777576216852},\n",
       " ('Thu', 300): {0: 2196.7834291734466,\n",
       "  100: 2143.0616527918114,\n",
       "  200: 1798.3979366239714,\n",
       "  300: 1402.568409308386,\n",
       "  400: 983.5468558843082},\n",
       " ('Fri', 0): {0: 0.0,\n",
       "  100: 299.9999370538766,\n",
       "  200: 378.98980462897237,\n",
       "  300: 196.53055883263983,\n",
       "  400: -111.86318376547017},\n",
       " ('Fri', 100): {0: 699.9999999999943,\n",
       "  100: 844.1632203073794,\n",
       "  200: 616.0881009400995,\n",
       "  300: 275.85080514830946,\n",
       "  400: -131.12271231765885},\n",
       " ('Fri', 200): {0: 1207.3926621313246,\n",
       "  100: 1050.9490436337126,\n",
       "  200: 614.7884434370582,\n",
       "  300: 234.75163236681425,\n",
       "  400: -47.30497055032447},\n",
       " ('Fri', 300): {0: 1405.0506422672022,\n",
       "  100: 505.9254493826564,\n",
       "  200: 387.6250079635464,\n",
       "  300: 109.85733411894908,\n",
       "  400: -44.75265347398001},\n",
       " ('Weekend', 0): {0: 0, 100: 0, 200: 0, 300: 0, 400: 0},\n",
       " ('Weekend', 100): {0: 0, 100: 0, 200: 0, 300: 0, 400: 0},\n",
       " ('Weekend', 200): {0: 0, 100: 0, 200: 0, 300: 0, 400: 0},\n",
       " ('Weekend', 300): {0: 0, 100: 0, 200: 0, 300: 0, 400: 0}}"
      ]
     },
     "execution_count": 63,
     "metadata": {},
     "output_type": "execute_result"
    }
   ],
   "source": [
    "Q"
   ]
  }
 ],
 "metadata": {
  "kernelspec": {
   "display_name": "reinforce",
   "language": "python",
   "name": "python3"
  },
  "language_info": {
   "codemirror_mode": {
    "name": "ipython",
    "version": 3
   },
   "file_extension": ".py",
   "mimetype": "text/x-python",
   "name": "python",
   "nbconvert_exporter": "python",
   "pygments_lexer": "ipython3",
   "version": "3.8.18"
  }
 },
 "nbformat": 4,
 "nbformat_minor": 2
}
