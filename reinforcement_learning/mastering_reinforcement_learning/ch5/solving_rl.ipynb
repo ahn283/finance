{
 "cells": [
  {
   "cell_type": "code",
   "execution_count": 1,
   "metadata": {},
   "outputs": [],
   "source": [
    "import numpy as np \n",
    "import gym"
   ]
  },
  {
   "cell_type": "code",
   "execution_count": 2,
   "metadata": {},
   "outputs": [],
   "source": [
    "# create aFood Truck class with gym.Env module\n",
    "class FoodTruck(gym.Env):\n",
    "    def __init__(self):\n",
    "        self.v_demand = [100, 200, 300, 400]\n",
    "        self.p_demand = [0.3, 0.4, 0.2, 0.1]\n",
    "        self.capacity = self.v_demand[-1]\n",
    "        self.days = ['Mon', 'Tue', 'Wed', 'Thu', 'Fri', \"Weekend\"]\n",
    "        self.unit_cost = 4\n",
    "        self.net_revenue = 7\n",
    "        self.action_space = [0, 100, 200, 300, 400]\n",
    "        self.state_space = [(\"Mon\", 0)] + [(d, i) for d in self.days[1:] \n",
    "                                           for i in [0, 100, 200, 300]]\n",
    "        \n",
    "    def get_next_state_reward(self, state, action, demand):\n",
    "        day, inventory = state\n",
    "        result = {}\n",
    "        result['next_day'] = self.days[self.days.index(day) + 1]\n",
    "        result['starting_inventory'] = min(self.capacity, inventory + action)\n",
    "        result['cost'] = self.unit_cost * action\n",
    "        result['sales'] = min(result['starting_inventory'], demand)\n",
    "        result['revenue'] = self.net_revenue * result['sales']\n",
    "        result['next_inventory'] = result['starting_inventory'] - result['sales']\n",
    "        result['reward'] = result['revenue'] - result['cost']\n",
    "        return result\n",
    "    \n",
    "    def get_transition_prob(self, state, action):\n",
    "        next_s_r_prob = {}\n",
    "        for ix, demand in enumerate(self.v_demand):\n",
    "            result = self.get_next_state_reward(state, action, demand)\n",
    "            next_s = (result['next_day'], result['next_inventory'])\n",
    "            reward = result['reward']\n",
    "            prob = self.p_demand[ix]\n",
    "            if (next_s, reward) not in next_s_r_prob:\n",
    "                next_s_r_prob[next_s, reward] = prob\n",
    "            else:\n",
    "                next_s_r_prob[next_s, reward] += prob\n",
    "        return next_s_r_prob\n",
    "    \n",
    "    def reset(self):\n",
    "        self.day = \"Mon\"\n",
    "        self.inventory = 0\n",
    "        state = (self.day, self.inventory)\n",
    "        return state\n",
    "    \n",
    "    def is_terminal(self, state):\n",
    "        day, inventory = state\n",
    "        if day == \"Weekend\":\n",
    "            return True\n",
    "        else:\n",
    "            return False\n",
    "        \n",
    "    def step(self, action):\n",
    "        demand = np.random.choice(self.v_demand, p=self.p_demand)\n",
    "        result = self.get_next_state_reward((self.day, self.inventory), \n",
    "                                           action, demand)\n",
    "        self.day = result['next_day']\n",
    "        self.inventory = result['next_inventory']\n",
    "        state = (self.day, self.inventory)\n",
    "        reward = result['reward']\n",
    "        done = self.is_terminal(state)\n",
    "        info = {'demand': demand, 'sales': result['sales']}\n",
    "        return state, reward, done, info"
   ]
  },
  {
   "cell_type": "code",
   "execution_count": 3,
   "metadata": {},
   "outputs": [
    {
     "data": {
      "text/plain": [
       "2590.83"
      ]
     },
     "execution_count": 3,
     "metadata": {},
     "output_type": "execute_result"
    }
   ],
   "source": [
    "# simulating an arbitrary policy\n",
    "np.random.seed(0)\n",
    "foodtruck = FoodTruck()\n",
    "rewards = []\n",
    "for i_episode in range(10000):\n",
    "    state = foodtruck.reset()\n",
    "    done = False\n",
    "    ep_reward = 0\n",
    "    while not done:\n",
    "        day, inventory = state\n",
    "        action = max(0, 300 - inventory)\n",
    "        state, reward, done, info = foodtruck.step(action)\n",
    "        ep_reward += reward\n",
    "    rewards.append(ep_reward)\n",
    "np.mean(rewards)"
   ]
  },
  {
   "cell_type": "code",
   "execution_count": 4,
   "metadata": {},
   "outputs": [],
   "source": [
    "# # single day expected reward\n",
    "# ucost = 4\n",
    "# uprice = 7\n",
    "# v_demand = [100, 200, 300, 400]\n",
    "# p_demand = [0.3, 0.4, 0.2, 0.1]\n",
    "# inv = 400\n",
    "# profit = uprice * np.sum([p_demand[i]*min(v_demand[i], inv) for i in range(4)]) - inv * ucost\n",
    "# print(profit)"
   ]
  },
  {
   "cell_type": "code",
   "execution_count": 5,
   "metadata": {},
   "outputs": [],
   "source": [
    "# v_demand = [100, 200, 300, 400]\n",
    "# p_demand = [0.3, 0.4, 0.2, 0.1]\n",
    "# capacity = v_demand[-1]\n",
    "# days = ['Mon', 'Tue', 'Wed', 'Thu', 'Fri', \"Weekend\"]\n",
    "# unit_cost = 4\n",
    "# net_revenue = 7\n",
    "# action_space = [0, 100, 200, 300, 400]\n",
    "# state_space = [(\"Mon\", 0)] + [(d, i) for d in days[1:] for i in [0, 100, 200, 300]]\n",
    "# state_space"
   ]
  },
  {
   "cell_type": "code",
   "execution_count": 6,
   "metadata": {},
   "outputs": [],
   "source": [
    "# def get_next_state_reward(state, action, demand):\n",
    "#     day, inventory = state\n",
    "#     result = {}\n",
    "#     result['next_day'] = days[days.index(day) + 1]\n",
    "#     result['starting_inventory'] = min(capacity, inventory + action)\n",
    "#     result['cost'] = unit_cost * action\n",
    "#     result['sales'] = min(result['starting_inventory'], demand)\n",
    "#     result['revenue'] = net_revenue * result['sales']\n",
    "#     result['next_inventory'] = result['starting_inventory'] - result['sales']\n",
    "#     result['reward'] = result['revenue'] - result['cost']\n",
    "#     return result\n",
    "    \n",
    "# next_s_r_prob = {}\n",
    "# for ix, demand in enumerate(v_demand):\n",
    "#     result = get_next_state_reward(state_space[1], action_space[-1], demand)\n",
    "#     next_s = (result['next_day'], result['next_inventory'])\n",
    "#     reward = result['reward']\n",
    "#     prob = p_demand[ix]\n",
    "#     if (next_s, reward) not in next_s_r_prob:\n",
    "#         next_s_r_prob[next_s, reward] = prob\n",
    "#     else:\n",
    "#         next_s_r_prob[next_s, reward] = prob\n",
    "# next_s_r_prob"
   ]
  },
  {
   "cell_type": "markdown",
   "metadata": {},
   "source": [
    "## Policy Evaluation"
   ]
  },
  {
   "cell_type": "code",
   "execution_count": 7,
   "metadata": {},
   "outputs": [],
   "source": [
    "def base_policy(states):\n",
    "    policy = {}\n",
    "    for s in states:\n",
    "        day, inventory = s\n",
    "        prob_a = {} \n",
    "        if inventory >= 300:\n",
    "            prob_a[0] = 1\n",
    "        else:\n",
    "            prob_a[200 - inventory] = 0.5\n",
    "            prob_a[300 - inventory] = 0.5\n",
    "        policy[s] = prob_a\n",
    "    return policy"
   ]
  },
  {
   "cell_type": "code",
   "execution_count": 8,
   "metadata": {},
   "outputs": [],
   "source": [
    "def expected_update(env, v, s, prob_a, gamma):\n",
    "    expected_value = 0\n",
    "    for a in prob_a:\n",
    "        prob_next_s_r = env.get_transition_prob(s, a)\n",
    "        for next_s, r in prob_next_s_r:\n",
    "            expected_value += prob_a[a] * prob_next_s_r[next_s, r] * (r + gamma * v[next_s])\n",
    "    return expected_value"
   ]
  },
  {
   "cell_type": "code",
   "execution_count": 9,
   "metadata": {},
   "outputs": [],
   "source": [
    "def policy_evaluate(env, policy, max_iter=100,\n",
    "                    v=None, eps=0.1, gamma=1):\n",
    "    if not v:\n",
    "        v = {s: 0 for s in env.state_space}\n",
    "    k = 0\n",
    "    while True:\n",
    "        max_delta = 0\n",
    "        for s in v:\n",
    "            if not env.is_terminal(s):\n",
    "                v_old = v[s]\n",
    "                prob_a = policy[s]\n",
    "                v[s] = expected_update(env, v, s, prob_a, gamma)\n",
    "                max_delta = max(max_delta, abs(v[s] - v_old))\n",
    "        \n",
    "        k += 1\n",
    "        \n",
    "        if max_delta < eps:\n",
    "            print(\"Converged in \", k, \"iterations.\")\n",
    "            break\n",
    "        elif k == max_iter:\n",
    "            print(\"Terminating after \", k, 'iterations.')\n",
    "            break\n",
    "    return v"
   ]
  },
  {
   "cell_type": "code",
   "execution_count": 10,
   "metadata": {},
   "outputs": [],
   "source": [
    "# create a foodtruck object from the class\n",
    "foodtruck = FoodTruck()\n",
    "\n",
    "# get the base policy for the environment\n",
    "policy = base_policy(foodtruck.state_space)"
   ]
  },
  {
   "cell_type": "code",
   "execution_count": 11,
   "metadata": {},
   "outputs": [
    {
     "name": "stdout",
     "output_type": "stream",
     "text": [
      "Converged in  6 iterations.\n",
      "Expected weekly profit: 2515.0\n"
     ]
    }
   ],
   "source": [
    "# evaluate the base policy and get the corresponding state values\n",
    "v = policy_evaluate(foodtruck, policy)\n",
    "print(\"Expected weekly profit:\", v[\"Mon\", 0])"
   ]
  },
  {
   "cell_type": "code",
   "execution_count": 12,
   "metadata": {},
   "outputs": [
    {
     "name": "stdout",
     "output_type": "stream",
     "text": [
      "The state values:\n"
     ]
    },
    {
     "data": {
      "text/plain": [
       "{('Mon', 0): 2515.0,\n",
       " ('Tue', 0): 1960.0,\n",
       " ('Tue', 100): 2360.0,\n",
       " ('Tue', 200): 2760.0,\n",
       " ('Tue', 300): 3205.0,\n",
       " ('Wed', 0): 1405.0,\n",
       " ('Wed', 100): 1805.0,\n",
       " ('Wed', 200): 2205.0,\n",
       " ('Wed', 300): 2650.0,\n",
       " ('Thu', 0): 850.0000000000001,\n",
       " ('Thu', 100): 1250.0,\n",
       " ('Thu', 200): 1650.0,\n",
       " ('Thu', 300): 2095.0,\n",
       " ('Fri', 0): 295.00000000000006,\n",
       " ('Fri', 100): 695.0000000000001,\n",
       " ('Fri', 200): 1095.0,\n",
       " ('Fri', 300): 1400.0,\n",
       " ('Weekend', 0): 0,\n",
       " ('Weekend', 100): 0,\n",
       " ('Weekend', 200): 0,\n",
       " ('Weekend', 300): 0}"
      ]
     },
     "execution_count": 12,
     "metadata": {},
     "output_type": "execute_result"
    }
   ],
   "source": [
    "print(\"The state values:\")\n",
    "v"
   ]
  },
  {
   "cell_type": "code",
   "execution_count": 14,
   "metadata": {},
   "outputs": [],
   "source": [
    "def choose_action(state, policy):\n",
    "    prob_a = policy[state]\n",
    "    action = np.random.choice(a=list(prob_a.keys()),\n",
    "                              p=list(prob_a.values()))\n",
    "    return action\n",
    "\n",
    "def simulate_policy(policy, n_episodes):\n",
    "    np.random.seed(0)\n",
    "    foodtruck = FoodTruck()\n",
    "    rewards = []\n",
    "    for i_episode in range(n_episodes):\n",
    "        state = foodtruck.reset()\n",
    "        done = False\n",
    "        ep_reward = 0\n",
    "        while not done:\n",
    "            action = choose_action(state, policy)\n",
    "            state, reward, done, info = foodtruck.step(action)\n",
    "            ep_reward += reward\n",
    "        rewards.append(ep_reward)\n",
    "    print(\"Expected weekly profit:\", np.mean(rewards))"
   ]
  },
  {
   "cell_type": "code",
   "execution_count": 15,
   "metadata": {},
   "outputs": [
    {
     "name": "stdout",
     "output_type": "stream",
     "text": [
      "Expected weekly profit: 2518.1\n"
     ]
    }
   ],
   "source": [
    "simulate_policy(policy, 1000)"
   ]
  },
  {
   "cell_type": "markdown",
   "metadata": {},
   "source": [
    "## Policy Iteration"
   ]
  },
  {
   "cell_type": "code",
   "execution_count": 20,
   "metadata": {},
   "outputs": [],
   "source": [
    "def policy_improvement(env, v, s, actions, gamma):\n",
    "    prob_a = {}\n",
    "    if not env.is_terminal(s):\n",
    "        max_q = np.NINF     # negative infinity\n",
    "        best_a = None\n",
    "        for a in actions:\n",
    "            q_sa = expected_update(env, v, s, {a: 1}, gamma)\n",
    "            if q_sa >= max_q:\n",
    "                max_q = q_sa\n",
    "                best_a = a\n",
    "        prob_a[best_a] = 1\n",
    "    else:\n",
    "        max_q = 0\n",
    "    return prob_a, max_q"
   ]
  },
  {
   "cell_type": "code",
   "execution_count": 21,
   "metadata": {},
   "outputs": [],
   "source": [
    "def policy_iteration(env, eps=0.1, gamma=1):\n",
    "    np.random.seed(1)\n",
    "    states = env.state_space\n",
    "    actions = env.action_space\n",
    "    policy = {s : {np.random.choice(actions): 1}\n",
    "              for s in states}\n",
    "    v = {s: 0 for s in states}\n",
    "    while True:\n",
    "        v = policy_evaluate(env, policy, v=v,\n",
    "                            eps=eps, gamma=gamma)\n",
    "        old_policy = policy\n",
    "        policy = {}\n",
    "        for s in states:\n",
    "            policy[s], _ = policy_improvement(env, v, s,\n",
    "                                              actions, gamma)\n",
    "        if old_policy == policy:\n",
    "            break\n",
    "    print(\"Optimal policy found!\")\n",
    "    return policy, v"
   ]
  },
  {
   "cell_type": "code",
   "execution_count": 22,
   "metadata": {},
   "outputs": [
    {
     "name": "stdout",
     "output_type": "stream",
     "text": [
      "Converged in  6 iterations.\n",
      "Converged in  6 iterations.\n",
      "Converged in  5 iterations.\n",
      "Optimal policy found!\n",
      "Expected weekly profit: 2880.0\n"
     ]
    }
   ],
   "source": [
    "policy, v = policy_iteration(foodtruck)\n",
    "print(\"Expected weekly profit:\", v[\"Mon\", 0])"
   ]
  },
  {
   "cell_type": "code",
   "execution_count": 23,
   "metadata": {},
   "outputs": [
    {
     "name": "stdout",
     "output_type": "stream",
     "text": [
      "{('Mon', 0): {400: 1}, ('Tue', 0): {400: 1}, ('Tue', 100): {300: 1}, ('Tue', 200): {200: 1}, ('Tue', 300): {100: 1}, ('Wed', 0): {400: 1}, ('Wed', 100): {300: 1}, ('Wed', 200): {200: 1}, ('Wed', 300): {100: 1}, ('Thu', 0): {300: 1}, ('Thu', 100): {200: 1}, ('Thu', 200): {100: 1}, ('Thu', 300): {0: 1}, ('Fri', 0): {200: 1}, ('Fri', 100): {100: 1}, ('Fri', 200): {0: 1}, ('Fri', 300): {0: 1}, ('Weekend', 0): {}, ('Weekend', 100): {}, ('Weekend', 200): {}, ('Weekend', 300): {}}\n"
     ]
    }
   ],
   "source": [
    "print(policy)"
   ]
  },
  {
   "cell_type": "markdown",
   "metadata": {},
   "source": [
    "## Value iteration"
   ]
  },
  {
   "cell_type": "code",
   "execution_count": 26,
   "metadata": {},
   "outputs": [],
   "source": [
    "def value_iteration(env, max_iter=100, eps=0.1, gamma=1):\n",
    "    states = env.state_space\n",
    "    actions = env.action_space\n",
    "    v = {s: 0 for s in states}\n",
    "    policy = {}\n",
    "    k = 0\n",
    "    while True:\n",
    "        max_delta = 0\n",
    "        for s in states:\n",
    "            old_v = v[s]\n",
    "            policy[s], v[s] = policy_improvement(env, v, s, actions, gamma)\n",
    "            max_delta = max(max_delta, abs(v[s] - old_v))\n",
    "        k += 1\n",
    "        if max_delta < eps:\n",
    "            print(\"Converged in\", k, \"iterations.\")\n",
    "            break\n",
    "        elif k == max_iter:\n",
    "            print('Terminating after', k, 'iterations.')\n",
    "            break\n",
    "    return policy, v"
   ]
  },
  {
   "cell_type": "code",
   "execution_count": 27,
   "metadata": {},
   "outputs": [
    {
     "name": "stdout",
     "output_type": "stream",
     "text": [
      "Converged in 6 iterations.\n",
      "Expected weekly profit: 2880.0\n"
     ]
    }
   ],
   "source": [
    "policy, v = value_iteration(foodtruck)\n",
    "print(\"Expected weekly profit:\", v[\"Mon\", 0])"
   ]
  },
  {
   "cell_type": "code",
   "execution_count": 28,
   "metadata": {},
   "outputs": [
    {
     "name": "stdout",
     "output_type": "stream",
     "text": [
      "{('Mon', 0): {400: 1}, ('Tue', 0): {400: 1}, ('Tue', 100): {300: 1}, ('Tue', 200): {200: 1}, ('Tue', 300): {100: 1}, ('Wed', 0): {400: 1}, ('Wed', 100): {300: 1}, ('Wed', 200): {200: 1}, ('Wed', 300): {100: 1}, ('Thu', 0): {300: 1}, ('Thu', 100): {200: 1}, ('Thu', 200): {100: 1}, ('Thu', 300): {0: 1}, ('Fri', 0): {200: 1}, ('Fri', 100): {100: 1}, ('Fri', 200): {0: 1}, ('Fri', 300): {0: 1}, ('Weekend', 0): {}, ('Weekend', 100): {}, ('Weekend', 200): {}, ('Weekend', 300): {}}\n"
     ]
    }
   ],
   "source": [
    "print(policy)"
   ]
  },
  {
   "cell_type": "code",
   "execution_count": null,
   "metadata": {},
   "outputs": [],
   "source": []
  }
 ],
 "metadata": {
  "kernelspec": {
   "display_name": "reinforce",
   "language": "python",
   "name": "python3"
  },
  "language_info": {
   "codemirror_mode": {
    "name": "ipython",
    "version": 3
   },
   "file_extension": ".py",
   "mimetype": "text/x-python",
   "name": "python",
   "nbconvert_exporter": "python",
   "pygments_lexer": "ipython3",
   "version": "3.8.18"
  }
 },
 "nbformat": 4,
 "nbformat_minor": 2
}
