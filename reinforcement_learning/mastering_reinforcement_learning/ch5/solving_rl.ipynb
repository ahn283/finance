{
 "cells": [
  {
   "cell_type": "code",
   "execution_count": 1,
   "metadata": {},
   "outputs": [],
   "source": [
    "import numpy as np \n",
    "import gym"
   ]
  },
  {
   "cell_type": "code",
   "execution_count": 11,
   "metadata": {},
   "outputs": [],
   "source": [
    "# create aFood Truck class with gym.Env module\n",
    "class FoodTruck(gym.Env):\n",
    "    def __init__(self):\n",
    "        self.v_demand = [100, 200, 300, 400]\n",
    "        self.p_demand = [0.3, 0.4, 0.2, 0.1]\n",
    "        self.capacity = self.v_demand[-1]\n",
    "        self.days = ['Mon', 'Tue', 'Wed', 'Thu', 'Fri', \"Weekend\"]\n",
    "        self.unit_cost = 4\n",
    "        self.net_revenue = 7\n",
    "        self.action_space = [0, 100, 200, 300, 400]\n",
    "        self.state_space = [(\"Mon\", 0)] + [(d, i) for d in self.days[1:] \n",
    "                                           for i in [0, 100, 200, 300]]\n",
    "        \n",
    "    def get_next_state_reward(self, state, action, demand):\n",
    "        day, inventory = state\n",
    "        result = {}\n",
    "        result['next_day'] = self.days[self.days.index(day) + 1]\n",
    "        result['starting_inventory'] = min(self.capacity, inventory + action)\n",
    "        result['cost'] = self.unit_cost * action\n",
    "        result['sales'] = min(result['starting_inventory'], demand)\n",
    "        result['revenue'] = self.net_revenue * result['sales']\n",
    "        result['next_inventory'] = result['starting_inventory'] - result['sales']\n",
    "        result['reward'] = result['revenue'] - result['cost']\n",
    "        return result\n",
    "    \n",
    "    def get_transition_prob(self, state, action):\n",
    "        next_s_r_prob = {}\n",
    "        for ix, demand in enumerate(self.v_demand):\n",
    "            result = self.get_next_state_reward(state, action, demand)\n",
    "            next_s = (result['next_day'], result['next_inventory'])\n",
    "            reward = result['reward']\n",
    "            prob = self.p_demand[ix]\n",
    "            if (next_s, reward) not in next_s_r_prob:\n",
    "                next_s_r_prob[next_s, reward] = prob\n",
    "            else:\n",
    "                next_s_r_prob[next_s, reward] = prob\n",
    "        return next_s_r_prob\n",
    "    \n",
    "    def reset(self):\n",
    "        self.day = \"Mon\"\n",
    "        self.inventory = 0\n",
    "        state = (self.day, self.inventory)\n",
    "        return state\n",
    "    \n",
    "    def is_terminal(self, state):\n",
    "        day, inventory = state\n",
    "        if day == \"Weekend\":\n",
    "            return True\n",
    "        else:\n",
    "            return False\n",
    "        \n",
    "    def step(self, action):\n",
    "        demand = np.random.choice(self.v_demand, p=self.p_demand)\n",
    "        result = self.get_next_state_reward((self.day, self.inventory), \n",
    "                                           action, demand)\n",
    "        self.day = result['next_day']\n",
    "        self.inventory = result['next_inventory']\n",
    "        state = (self.day, self.inventory)\n",
    "        reward = result['reward']\n",
    "        done = self.is_terminal(state)\n",
    "        info = {'demand': demand, 'sales': result['sales']}\n",
    "        return state, reward, done, info"
   ]
  },
  {
   "cell_type": "code",
   "execution_count": 12,
   "metadata": {},
   "outputs": [
    {
     "data": {
      "text/plain": [
       "2590.83"
      ]
     },
     "execution_count": 12,
     "metadata": {},
     "output_type": "execute_result"
    }
   ],
   "source": [
    "# simulating an arbitrary policy\n",
    "np.random.seed(0)\n",
    "foodtruck = FoodTruck()\n",
    "rewards = []\n",
    "for i_episode in range(10000):\n",
    "    state = foodtruck.reset()\n",
    "    done = False\n",
    "    ep_reward = 0\n",
    "    while not done:\n",
    "        day, inventory = state\n",
    "        action = max(0, 300 - inventory)\n",
    "        state, reward, done, info = foodtruck.step(action)\n",
    "        ep_reward += reward\n",
    "    rewards.append(ep_reward)\n",
    "np.mean(rewards)"
   ]
  },
  {
   "cell_type": "code",
   "execution_count": 14,
   "metadata": {},
   "outputs": [
    {
     "name": "stdout",
     "output_type": "stream",
     "text": [
      "-130.0\n"
     ]
    }
   ],
   "source": [
    "# single day expected reward\n",
    "ucost = 4\n",
    "uprice = 7\n",
    "v_demand = [100, 200, 300, 400]\n",
    "p_demand = [0.3, 0.4, 0.2, 0.1]\n",
    "inv = 400\n",
    "profit = uprice * np.sum([p_demand[i]*min(v_demand[i], inv) for i in range(4)]) - inv * ucost\n",
    "print(profit)"
   ]
  },
  {
   "cell_type": "code",
   "execution_count": 5,
   "metadata": {},
   "outputs": [
    {
     "data": {
      "text/plain": [
       "[('Mon', 0),\n",
       " ('Tue', 0),\n",
       " ('Tue', 100),\n",
       " ('Tue', 200),\n",
       " ('Tue', 300),\n",
       " ('Wed', 0),\n",
       " ('Wed', 100),\n",
       " ('Wed', 200),\n",
       " ('Wed', 300),\n",
       " ('Thu', 0),\n",
       " ('Thu', 100),\n",
       " ('Thu', 200),\n",
       " ('Thu', 300),\n",
       " ('Fri', 0),\n",
       " ('Fri', 100),\n",
       " ('Fri', 200),\n",
       " ('Fri', 300),\n",
       " ('Weekend', 0),\n",
       " ('Weekend', 100),\n",
       " ('Weekend', 200),\n",
       " ('Weekend', 300)]"
      ]
     },
     "execution_count": 5,
     "metadata": {},
     "output_type": "execute_result"
    }
   ],
   "source": [
    "# v_demand = [100, 200, 300, 400]\n",
    "# p_demand = [0.3, 0.4, 0.2, 0.1]\n",
    "# capacity = v_demand[-1]\n",
    "# days = ['Mon', 'Tue', 'Wed', 'Thu', 'Fri', \"Weekend\"]\n",
    "# unit_cost = 4\n",
    "# net_revenue = 7\n",
    "# action_space = [0, 100, 200, 300, 400]\n",
    "# state_space = [(\"Mon\", 0)] + [(d, i) for d in days[1:] for i in [0, 100, 200, 300]]\n",
    "# state_space"
   ]
  },
  {
   "cell_type": "code",
   "execution_count": 9,
   "metadata": {},
   "outputs": [
    {
     "data": {
      "text/plain": [
       "{(('Wed', 300), -900): 0.3,\n",
       " (('Wed', 200), -200): 0.4,\n",
       " (('Wed', 100), 500): 0.2,\n",
       " (('Wed', 0), 1200): 0.1}"
      ]
     },
     "execution_count": 9,
     "metadata": {},
     "output_type": "execute_result"
    }
   ],
   "source": [
    "# def get_next_state_reward(state, action, demand):\n",
    "#     day, inventory = state\n",
    "#     result = {}\n",
    "#     result['next_day'] = days[days.index(day) + 1]\n",
    "#     result['starting_inventory'] = min(capacity, inventory + action)\n",
    "#     result['cost'] = unit_cost * action\n",
    "#     result['sales'] = min(result['starting_inventory'], demand)\n",
    "#     result['revenue'] = net_revenue * result['sales']\n",
    "#     result['next_inventory'] = result['starting_inventory'] - result['sales']\n",
    "#     result['reward'] = result['revenue'] - result['cost']\n",
    "#     return result\n",
    "    \n",
    "# next_s_r_prob = {}\n",
    "# for ix, demand in enumerate(v_demand):\n",
    "#     result = get_next_state_reward(state_space[1], action_space[-1], demand)\n",
    "#     next_s = (result['next_day'], result['next_inventory'])\n",
    "#     reward = result['reward']\n",
    "#     prob = p_demand[ix]\n",
    "#     if (next_s, reward) not in next_s_r_prob:\n",
    "#         next_s_r_prob[next_s, reward] = prob\n",
    "#     else:\n",
    "#         next_s_r_prob[next_s, reward] = prob\n",
    "# next_s_r_prob"
   ]
  },
  {
   "cell_type": "markdown",
   "metadata": {},
   "source": [
    "## Policy Evaluation"
   ]
  },
  {
   "cell_type": "code",
   "execution_count": 15,
   "metadata": {},
   "outputs": [],
   "source": [
    "def base_policy(states):\n",
    "    policy = {}\n",
    "    for s in states:\n",
    "        day, inventory = s \n",
    "        prob_a = []\n",
    "        if inventory >= 300:\n",
    "            prob_a[0] = 1\n",
    "        else:\n",
    "            prob_a[200 - inventory] = 0.5\n",
    "            prob_a[300 - inventory] = 0.5\n",
    "        policy[s] = prob_a\n",
    "    return policy"
   ]
  }
 ],
 "metadata": {
  "kernelspec": {
   "display_name": "reinforce",
   "language": "python",
   "name": "python3"
  },
  "language_info": {
   "codemirror_mode": {
    "name": "ipython",
    "version": 3
   },
   "file_extension": ".py",
   "mimetype": "text/x-python",
   "name": "python",
   "nbconvert_exporter": "python",
   "pygments_lexer": "ipython3",
   "version": "3.8.18"
  }
 },
 "nbformat": 4,
 "nbformat_minor": 2
}
