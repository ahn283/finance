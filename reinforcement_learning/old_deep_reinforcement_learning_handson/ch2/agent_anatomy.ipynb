{
 "cells": [
  {
   "cell_type": "markdown",
   "metadata": {},
   "source": [
    "### The agent\n",
    "\n",
    "A thing, or person that takes an active role. This policy decides that action is needed at every time step, given our observations."
   ]
  },
  {
   "cell_type": "markdown",
   "metadata": {},
   "source": [
    "### The environment\n",
    "\n",
    "Some model of the world that is external to the agent and has the responsibility of providing observations and giving rewards."
   ]
  },
  {
   "cell_type": "code",
   "execution_count": 1,
   "metadata": {},
   "outputs": [],
   "source": [
    "import random \n",
    "from typing import List"
   ]
  },
  {
   "cell_type": "code",
   "execution_count": 2,
   "metadata": {},
   "outputs": [],
   "source": [
    "class Environment:\n",
    "    def __init__(self):\n",
    "        # initialize the counter that limits the number of time steps\n",
    "        self.step_left = 10\n",
    "    \n",
    "    # return the current environment's observation to the agent\n",
    "    def get_observation(self) -> List[float]:\n",
    "        # the observation vector is always zero, as the environment has no internal state in this example\n",
    "        return [0.0, 0.0, 0.0]\n",
    "    \n",
    "    def get_actions(self) -> List[int]:\n",
    "        # there are two actions that the agent can carry out\n",
    "        return [0, 1] \n",
    "    \n",
    "    def is_done(self) -> bool:\n",
    "        return self.step_left == 0\n",
    "    \n",
    "    def action(self, action:int) -> float:\n",
    "        # handles an agent's action and returns the reward for this action\n",
    "        if self.is_done():\n",
    "            raise Exception(\"Game is over\")\n",
    "        self.step_left -= 1\n",
    "        return random.random()"
   ]
  },
  {
   "cell_type": "code",
   "execution_count": 3,
   "metadata": {},
   "outputs": [],
   "source": [
    "class Agent:\n",
    "    def __init__(self) -> None:\n",
    "        self.total_reward = 0.0\n",
    "    \n",
    "    # step functon accepts the environment instance as an argument\n",
    "    # and allows the agent to perform the following actions    \n",
    "    def step(self, env: Environment):\n",
    "        current_obs = env.get_observation()\n",
    "        actions = env.get_actions()\n",
    "        reward = env.action(random.choice(actions))\n",
    "        self.total_reward += reward"
   ]
  },
  {
   "cell_type": "code",
   "execution_count": 4,
   "metadata": {},
   "outputs": [
    {
     "name": "stdout",
     "output_type": "stream",
     "text": [
      "Total reward got: 3.3950\n"
     ]
    }
   ],
   "source": [
    "env = Environment()\n",
    "agent = Agent()\n",
    "\n",
    "while not env.is_done():\n",
    "    agent.step(env)\n",
    "    \n",
    "print('Total reward got: %.4f' %agent.total_reward)"
   ]
  }
 ],
 "metadata": {
  "kernelspec": {
   "display_name": "gym",
   "language": "python",
   "name": "python3"
  },
  "language_info": {
   "codemirror_mode": {
    "name": "ipython",
    "version": 3
   },
   "file_extension": ".py",
   "mimetype": "text/x-python",
   "name": "python",
   "nbconvert_exporter": "python",
   "pygments_lexer": "ipython3",
   "version": "3.7.16"
  }
 },
 "nbformat": 4,
 "nbformat_minor": 2
}
