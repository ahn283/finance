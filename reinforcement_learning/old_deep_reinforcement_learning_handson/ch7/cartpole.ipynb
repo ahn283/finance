{
 "cells": [
  {
   "cell_type": "code",
   "execution_count": 1,
   "metadata": {},
   "outputs": [],
   "source": [
    "import gym\n",
    "import ptan\n",
    "import torch\n",
    "import torch.nn as nn\n",
    "import torch.optim as optim\n",
    "import torch.nn.functional as F\n",
    "import numpy as np"
   ]
  },
  {
   "cell_type": "code",
   "execution_count": 2,
   "metadata": {},
   "outputs": [],
   "source": [
    "HIDDEN_SIZE = 128\n",
    "BATCH_SIZE = 16\n",
    "TGT_NET_SYNC = 10\n",
    "GAMMA = 0.9\n",
    "REPLAY_SIZE = 1000\n",
    "LR = 1e-3\n",
    "EPS_DECAY = 0.99"
   ]
  },
  {
   "cell_type": "code",
   "execution_count": 3,
   "metadata": {},
   "outputs": [],
   "source": [
    "class Net(nn.Module):\n",
    "    def __init__(self, obs_size, hidden_size, n_actions):\n",
    "        super(Net, self).__init__()\n",
    "        self.net = nn.Sequential(\n",
    "            nn.Linear(obs_size, hidden_size),\n",
    "            nn.ReLU(),\n",
    "            nn.Linear(hidden_size, n_actions)\n",
    "        )\n",
    "\n",
    "    def forward(self, x):\n",
    "        return self.net(x.astype(np.float))"
   ]
  },
  {
   "cell_type": "code",
   "execution_count": 4,
   "metadata": {},
   "outputs": [],
   "source": [
    "@torch.no_grad()\n",
    "def unpack_batch(batch, net, gamma):\n",
    "    states = []\n",
    "    actions = []\n",
    "    rewards = []\n",
    "    done_masks = []\n",
    "    last_states = []\n",
    "    for exp in batch:\n",
    "        states.append(exp.state)\n",
    "        actions.append(exp.action)\n",
    "        rewards.append(exp.reward)\n",
    "        done_masks.append(exp.last_state is None)\n",
    "        if exp.last_state is None:\n",
    "            last_states.append(exp.state)\n",
    "        else:\n",
    "            last_states.append(exp.last_state)\n",
    "    \n",
    "    states_v = torch.tensor(states)\n",
    "    actions_v = torch.tensor(actions)\n",
    "    rewards_v = torch.tensor(rewards)\n",
    "    last_states_v = torch.tensor(last_states)\n",
    "    last_state_q_v = net(last_states_v)\n",
    "    best_last_q_v = torch.max(last_state_q_v, dim=1)[0]\n",
    "    best_last_q_v[done_masks] = 0.0\n",
    "    return states_v, actions_v, best_last_q_v * gamma + rewards_v"
   ]
  },
  {
   "cell_type": "code",
   "execution_count": 5,
   "metadata": {},
   "outputs": [],
   "source": [
    "env = gym.make('CartPole-v1')\n",
    "obs_size = env.observation_space.shape[0]\n",
    "n_actions = env.action_space.n"
   ]
  },
  {
   "cell_type": "code",
   "execution_count": 10,
   "metadata": {},
   "outputs": [
    {
     "name": "stdout",
     "output_type": "stream",
     "text": [
      "<ptan.experience.ExperienceReplayBuffer object at 0x000001F288E149A0>\n"
     ]
    },
    {
     "name": "stderr",
     "output_type": "stream",
     "text": [
      "c:\\Users\\woojin\\anaconda3\\envs\\network\\lib\\site-packages\\numpy\\lib\\shape_base.py:591: VisibleDeprecationWarning: Creating an ndarray from ragged nested sequences (which is a list-or-tuple of lists-or-tuples-or ndarrays with different lengths or shapes) is deprecated. If you meant to do this, you must specify 'dtype=object' when creating the ndarray.\n",
      "  a = asanyarray(a)\n"
     ]
    },
    {
     "ename": "TypeError",
     "evalue": "can't convert np.ndarray of type numpy.object_. The only supported types are: float64, float32, float16, complex64, complex128, int64, int32, int16, int8, uint8, and bool.",
     "output_type": "error",
     "traceback": [
      "\u001b[1;31m---------------------------------------------------------------------------\u001b[0m",
      "\u001b[1;31mTypeError\u001b[0m                                 Traceback (most recent call last)",
      "\u001b[1;32mc:\\Users\\woojin\\Documents\\github\\finance\\reinforcement_learning\\deep_reinforcement_learning_handson\\ch7\\cartpole.ipynb Cell 6\u001b[0m line \u001b[0;36m2\n\u001b[0;32m     <a href='vscode-notebook-cell:/c%3A/Users/woojin/Documents/github/finance/reinforcement_learning/deep_reinforcement_learning_handson/ch7/cartpole.ipynb#W5sZmlsZQ%3D%3D?line=21'>22</a>\u001b[0m \u001b[39mwhile\u001b[39;00m \u001b[39mTrue\u001b[39;00m:\n\u001b[0;32m     <a href='vscode-notebook-cell:/c%3A/Users/woojin/Documents/github/finance/reinforcement_learning/deep_reinforcement_learning_handson/ch7/cartpole.ipynb#W5sZmlsZQ%3D%3D?line=22'>23</a>\u001b[0m     step \u001b[39m+\u001b[39m\u001b[39m=\u001b[39m \u001b[39m1\u001b[39m\n\u001b[1;32m---> <a href='vscode-notebook-cell:/c%3A/Users/woojin/Documents/github/finance/reinforcement_learning/deep_reinforcement_learning_handson/ch7/cartpole.ipynb#W5sZmlsZQ%3D%3D?line=23'>24</a>\u001b[0m     buffer\u001b[39m.\u001b[39;49mpopulate(\u001b[39m1\u001b[39;49m)\n\u001b[0;32m     <a href='vscode-notebook-cell:/c%3A/Users/woojin/Documents/github/finance/reinforcement_learning/deep_reinforcement_learning_handson/ch7/cartpole.ipynb#W5sZmlsZQ%3D%3D?line=25'>26</a>\u001b[0m     \u001b[39mfor\u001b[39;00m reward, steps \u001b[39min\u001b[39;00m exp_source\u001b[39m.\u001b[39mpop_rewards_steps():\n\u001b[0;32m     <a href='vscode-notebook-cell:/c%3A/Users/woojin/Documents/github/finance/reinforcement_learning/deep_reinforcement_learning_handson/ch7/cartpole.ipynb#W5sZmlsZQ%3D%3D?line=26'>27</a>\u001b[0m         episode \u001b[39m+\u001b[39m\u001b[39m=\u001b[39m \u001b[39m1\u001b[39m\n",
      "File \u001b[1;32mc:\\Users\\woojin\\anaconda3\\envs\\network\\lib\\site-packages\\ptan\\experience.py:368\u001b[0m, in \u001b[0;36mExperienceReplayBuffer.populate\u001b[1;34m(self, samples)\u001b[0m\n\u001b[0;32m    363\u001b[0m \u001b[39m\u001b[39m\u001b[39m\"\"\"\u001b[39;00m\n\u001b[0;32m    364\u001b[0m \u001b[39mPopulates samples into the buffer\u001b[39;00m\n\u001b[0;32m    365\u001b[0m \u001b[39m:param samples: how many samples to populate\u001b[39;00m\n\u001b[0;32m    366\u001b[0m \u001b[39m\"\"\"\u001b[39;00m\n\u001b[0;32m    367\u001b[0m \u001b[39mfor\u001b[39;00m _ \u001b[39min\u001b[39;00m \u001b[39mrange\u001b[39m(samples):\n\u001b[1;32m--> 368\u001b[0m     entry \u001b[39m=\u001b[39m \u001b[39mnext\u001b[39;49m(\u001b[39mself\u001b[39;49m\u001b[39m.\u001b[39;49mexperience_source_iter)\n\u001b[0;32m    369\u001b[0m     \u001b[39mself\u001b[39m\u001b[39m.\u001b[39m_add(entry)\n",
      "File \u001b[1;32mc:\\Users\\woojin\\anaconda3\\envs\\network\\lib\\site-packages\\ptan\\experience.py:176\u001b[0m, in \u001b[0;36mExperienceSourceFirstLast.__iter__\u001b[1;34m(self)\u001b[0m\n\u001b[0;32m    175\u001b[0m \u001b[39mdef\u001b[39;00m \u001b[39m__iter__\u001b[39m(\u001b[39mself\u001b[39m):\n\u001b[1;32m--> 176\u001b[0m     \u001b[39mfor\u001b[39;00m exp \u001b[39min\u001b[39;00m \u001b[39msuper\u001b[39m(ExperienceSourceFirstLast, \u001b[39mself\u001b[39m)\u001b[39m.\u001b[39m\u001b[39m__iter__\u001b[39m():\n\u001b[0;32m    177\u001b[0m         \u001b[39mif\u001b[39;00m exp[\u001b[39m-\u001b[39m\u001b[39m1\u001b[39m]\u001b[39m.\u001b[39mdone \u001b[39mand\u001b[39;00m \u001b[39mlen\u001b[39m(exp) \u001b[39m<\u001b[39m\u001b[39m=\u001b[39m \u001b[39mself\u001b[39m\u001b[39m.\u001b[39msteps:\n\u001b[0;32m    178\u001b[0m             last_state \u001b[39m=\u001b[39m \u001b[39mNone\u001b[39;00m\n",
      "File \u001b[1;32mc:\\Users\\woojin\\anaconda3\\envs\\network\\lib\\site-packages\\ptan\\experience.py:82\u001b[0m, in \u001b[0;36mExperienceSource.__iter__\u001b[1;34m(self)\u001b[0m\n\u001b[0;32m     80\u001b[0m         states_indices\u001b[39m.\u001b[39mappend(idx)\n\u001b[0;32m     81\u001b[0m \u001b[39mif\u001b[39;00m states_input:\n\u001b[1;32m---> 82\u001b[0m     states_actions, new_agent_states \u001b[39m=\u001b[39m \u001b[39mself\u001b[39;49m\u001b[39m.\u001b[39;49magent(states_input, agent_states)\n\u001b[0;32m     83\u001b[0m     \u001b[39mfor\u001b[39;00m idx, action \u001b[39min\u001b[39;00m \u001b[39menumerate\u001b[39m(states_actions):\n\u001b[0;32m     84\u001b[0m         g_idx \u001b[39m=\u001b[39m states_indices[idx]\n",
      "File \u001b[1;32mc:\\Users\\woojin\\anaconda3\\envs\\network\\lib\\site-packages\\ptan\\agent.py:70\u001b[0m, in \u001b[0;36mDQNAgent.__call__\u001b[1;34m(self, states, agent_states)\u001b[0m\n\u001b[0;32m     68\u001b[0m     agent_states \u001b[39m=\u001b[39m [\u001b[39mNone\u001b[39;00m] \u001b[39m*\u001b[39m \u001b[39mlen\u001b[39m(states)\n\u001b[0;32m     69\u001b[0m \u001b[39mif\u001b[39;00m \u001b[39mself\u001b[39m\u001b[39m.\u001b[39mpreprocessor \u001b[39mis\u001b[39;00m \u001b[39mnot\u001b[39;00m \u001b[39mNone\u001b[39;00m:\n\u001b[1;32m---> 70\u001b[0m     states \u001b[39m=\u001b[39m \u001b[39mself\u001b[39;49m\u001b[39m.\u001b[39;49mpreprocessor(states)\n\u001b[0;32m     71\u001b[0m     \u001b[39mif\u001b[39;00m torch\u001b[39m.\u001b[39mis_tensor(states):\n\u001b[0;32m     72\u001b[0m         states \u001b[39m=\u001b[39m states\u001b[39m.\u001b[39mto(\u001b[39mself\u001b[39m\u001b[39m.\u001b[39mdevice)\n",
      "File \u001b[1;32mc:\\Users\\woojin\\anaconda3\\envs\\network\\lib\\site-packages\\ptan\\agent.py:47\u001b[0m, in \u001b[0;36mdefault_states_preprocessor\u001b[1;34m(states)\u001b[0m\n\u001b[0;32m     45\u001b[0m \u001b[39melse\u001b[39;00m:\n\u001b[0;32m     46\u001b[0m     np_states \u001b[39m=\u001b[39m np\u001b[39m.\u001b[39marray([np\u001b[39m.\u001b[39marray(s, copy\u001b[39m=\u001b[39m\u001b[39mFalse\u001b[39;00m) \u001b[39mfor\u001b[39;00m s \u001b[39min\u001b[39;00m states], copy\u001b[39m=\u001b[39m\u001b[39mFalse\u001b[39;00m)\n\u001b[1;32m---> 47\u001b[0m \u001b[39mreturn\u001b[39;00m torch\u001b[39m.\u001b[39;49mtensor(np_states)\n",
      "\u001b[1;31mTypeError\u001b[0m: can't convert np.ndarray of type numpy.object_. The only supported types are: float64, float32, float16, complex64, complex128, int64, int32, int16, int8, uint8, and bool."
     ]
    }
   ],
   "source": [
    "net = Net(obs_size, HIDDEN_SIZE, n_actions)\n",
    "tgt_net = ptan.agent.TargetNet(net)\n",
    "selector = ptan.actions.ArgmaxActionSelector()\n",
    "selector = ptan.actions.EpsilonGreedyActionSelector(\n",
    "    epsilon=1, selector=selector\n",
    ")\n",
    "\n",
    "agent = ptan.agent.DQNAgent(net, selector)\n",
    "exp_source = ptan.experience.ExperienceSourceFirstLast(\n",
    "    env, agent, gamma=GAMMA\n",
    ")\n",
    "buffer = ptan.experience.ExperienceReplayBuffer(\n",
    "    exp_source, buffer_size=REPLAY_SIZE\n",
    ")\n",
    "optimizer = optim.Adam(net.parameters(), LR)\n",
    "\n",
    "step = 0\n",
    "episode = 0\n",
    "solved = False\n",
    "\n",
    "while True:\n",
    "    step += 1\n",
    "    buffer.populate(1)\n",
    "    \n",
    "    for reward, steps in exp_source.pop_rewards_steps():\n",
    "        episode += 1\n",
    "        print(\"%d: episode %d done, reward=%.3f, epsilon=%.2f\" \n",
    "              % (step, episode, reward, selector.epsilon))\n",
    "        solved = reward > 150\n",
    "    \n",
    "    if solved:\n",
    "        print(\"Congrats!\")\n",
    "        break\n",
    "    \n",
    "    if len(buffer) < 2 * BATCH_SIZE:\n",
    "        continue\n",
    "    \n",
    "    batch = buffer.sample(BATCH_SIZE)\n",
    "    states_v, actions_v, tgt_q_v = unpack_batch(\n",
    "        batch, tgt_net.target_model, GAMMA\n",
    "    )\n",
    "    optimizer.zero_grad()\n",
    "    q_v = net(states_v)\n",
    "    q_v = q_v.gather(1, actions_v.unsqueeze(-1)).squeeze(-1)\n",
    "    loss_v = F.mse_loss(q_v, tgt_q_v)\n",
    "    loss_v.backward()\n",
    "    optimizer.step()\n",
    "    selector.epsilon *= EPS_DECAY\n",
    "    \n",
    "    if step % TGT_NET_SYNC == 0:\n",
    "        tgt_net.sync()"
   ]
  }
 ],
 "metadata": {
  "kernelspec": {
   "display_name": "network",
   "language": "python",
   "name": "python3"
  },
  "language_info": {
   "codemirror_mode": {
    "name": "ipython",
    "version": 3
   },
   "file_extension": ".py",
   "mimetype": "text/x-python",
   "name": "python",
   "nbconvert_exporter": "python",
   "pygments_lexer": "ipython3",
   "version": "3.8.18"
  }
 },
 "nbformat": 4,
 "nbformat_minor": 2
}
