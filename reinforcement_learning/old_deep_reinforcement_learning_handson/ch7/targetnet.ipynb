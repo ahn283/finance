{
 "cells": [
  {
   "cell_type": "code",
   "execution_count": 1,
   "metadata": {},
   "outputs": [],
   "source": [
    "import ptan\n",
    "import torch.nn as nn "
   ]
  },
  {
   "cell_type": "code",
   "execution_count": 2,
   "metadata": {},
   "outputs": [],
   "source": [
    "class DQNet(nn.Module):\n",
    "    def __init__(self):\n",
    "        super(DQNet, self).__init__()\n",
    "        self.ff = nn.Linear(5, 3)\n",
    "        \n",
    "    def forward(self, x):\n",
    "        return self.ff(x)"
   ]
  },
  {
   "cell_type": "code",
   "execution_count": 3,
   "metadata": {},
   "outputs": [
    {
     "name": "stdout",
     "output_type": "stream",
     "text": [
      "DQNet(\n",
      "  (ff): Linear(in_features=5, out_features=3, bias=True)\n",
      ")\n"
     ]
    }
   ],
   "source": [
    "net = DQNet()\n",
    "print(net)"
   ]
  },
  {
   "cell_type": "code",
   "execution_count": 4,
   "metadata": {},
   "outputs": [
    {
     "name": "stdout",
     "output_type": "stream",
     "text": [
      "Main net:  Parameter containing:\n",
      "tensor([[-0.2375, -0.2449,  0.0261, -0.0728, -0.1697],\n",
      "        [ 0.1646, -0.0012, -0.2152, -0.0312, -0.2268],\n",
      "        [ 0.2500, -0.0504, -0.1340, -0.0713, -0.1476]], requires_grad=True)\n",
      "Target net:  Parameter containing:\n",
      "tensor([[-0.2375, -0.2449,  0.0261, -0.0728, -0.1697],\n",
      "        [ 0.1646, -0.0012, -0.2152, -0.0312, -0.2268],\n",
      "        [ 0.2500, -0.0504, -0.1340, -0.0713, -0.1476]], requires_grad=True)\n"
     ]
    }
   ],
   "source": [
    "tgt_net = ptan.agent.TargetNet(net)\n",
    "print(\"Main net: \", net.ff.weight)\n",
    "print(\"Target net: \", tgt_net.target_model.ff.weight)"
   ]
  },
  {
   "cell_type": "code",
   "execution_count": 5,
   "metadata": {},
   "outputs": [
    {
     "name": "stdout",
     "output_type": "stream",
     "text": [
      "after update\n",
      "main net:  Parameter containing:\n",
      "tensor([[0.7625, 0.7551, 1.0261, 0.9272, 0.8303],\n",
      "        [1.1646, 0.9988, 0.7848, 0.9688, 0.7732],\n",
      "        [1.2500, 0.9496, 0.8660, 0.9287, 0.8524]], requires_grad=True)\n",
      "target net:  Parameter containing:\n",
      "tensor([[-0.2375, -0.2449,  0.0261, -0.0728, -0.1697],\n",
      "        [ 0.1646, -0.0012, -0.2152, -0.0312, -0.2268],\n",
      "        [ 0.2500, -0.0504, -0.1340, -0.0713, -0.1476]], requires_grad=True)\n"
     ]
    }
   ],
   "source": [
    "net.ff.weight.data += 1.0\n",
    "print(\"after update\")\n",
    "print(\"main net: \", net.ff.weight)\n",
    "print(\"target net: \", tgt_net.target_model.ff.weight)"
   ]
  },
  {
   "cell_type": "code",
   "execution_count": 6,
   "metadata": {},
   "outputs": [
    {
     "name": "stdout",
     "output_type": "stream",
     "text": [
      "after sync\n",
      "main net:  Parameter containing:\n",
      "tensor([[0.7625, 0.7551, 1.0261, 0.9272, 0.8303],\n",
      "        [1.1646, 0.9988, 0.7848, 0.9688, 0.7732],\n",
      "        [1.2500, 0.9496, 0.8660, 0.9287, 0.8524]], requires_grad=True)\n",
      "target net:  Parameter containing:\n",
      "tensor([[0.7625, 0.7551, 1.0261, 0.9272, 0.8303],\n",
      "        [1.1646, 0.9988, 0.7848, 0.9688, 0.7732],\n",
      "        [1.2500, 0.9496, 0.8660, 0.9287, 0.8524]], requires_grad=True)\n"
     ]
    }
   ],
   "source": [
    "tgt_net.sync()\n",
    "print(\"after sync\")\n",
    "print(\"main net: \", net.ff.weight)\n",
    "print(\"target net: \", tgt_net.target_model.ff.weight)"
   ]
  },
  {
   "cell_type": "code",
   "execution_count": null,
   "metadata": {},
   "outputs": [],
   "source": []
  }
 ],
 "metadata": {
  "kernelspec": {
   "display_name": "network",
   "language": "python",
   "name": "python3"
  },
  "language_info": {
   "codemirror_mode": {
    "name": "ipython",
    "version": 3
   },
   "file_extension": ".py",
   "mimetype": "text/x-python",
   "name": "python",
   "nbconvert_exporter": "python",
   "pygments_lexer": "ipython3",
   "version": "3.8.18"
  }
 },
 "nbformat": 4,
 "nbformat_minor": 2
}
