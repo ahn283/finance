{
 "cells": [
  {
   "cell_type": "markdown",
   "metadata": {},
   "source": [
    "# Environment setup\n",
    "\n",
    "- [The book github](https://github.com/TikhonJelvis/RL-book)\n",
    "\n",
    "- First, move to the directory with the codebase:\n",
    "\n",
    "   ```cd rl-book```\n",
    "\n",
    "- Then, create and activate a Python vitrual environment\n",
    "\n",
    "   ```python3 -m venv .venv```\n",
    "\n",
    "   ```source .venv/bin/activate```\n",
    "   \n",
    "   ```conda create -n {env_name}```\n",
    "\n",
    "   ```conda activate {env_name}```\n",
    "\n",
    "- Once the environment is activated, you can install the right versions of each Python dependency.\n",
    "\n",
    "   ```pip install -r requirements.txt```\n",
    "\n",
    "- Once the environment is set up, you can confirm that it works by running the frameworks automated tests.\n",
    "\n",
    "   ```python -m unittest discover```\n",
    "\n"
   ]
  },
  {
   "cell_type": "markdown",
   "metadata": {},
   "source": [
    "# Classes and interfaces\n",
    "\n",
    "- There are always two parts to answering this questions:\n",
    "\n",
    "    - Understanding the domain concept that you are modeling.\n",
    "\n",
    "    - Figuring out how to express that concept with features and patterns provided by your programming language.\n",
    "\n",
    "- One approach would be to keep Probability implicit. Whenever we have a random variable, we could call a function and get a random result."
   ]
  },
  {
   "cell_type": "code",
   "execution_count": 1,
   "metadata": {},
   "outputs": [],
   "source": [
    "from random import randint\n",
    "\n",
    "def six_sided():\n",
    "    return randint(1, 6)\n",
    "\n",
    "def roll_dice():\n",
    "    return six_sided() + six_sided()"
   ]
  },
  {
   "cell_type": "markdown",
   "metadata": {},
   "source": [
    "- This works, but it's pretty limited. We can't do anything except get one outcome at a time. This only captures a slice of how we think about Probability: there's randomness but we never even mentioned probability distributions."
   ]
  },
  {
   "cell_type": "markdown",
   "metadata": {},
   "source": [
    "## A distribution interface\n",
    "\n",
    "- Let's define an abstaction for probability distributions. It depends on what kind of distribution we're working with. \n",
    "\n",
    "    - If we know something about the structure of a distribution - perhaps it's a Poisson distribution where $\\lambda=5$, perhaps it's an empirical distribution with set probabilities for each outcome - we could do produce an exact Probability Distribution Function (PDF) or Cumumlative Distribution Function (CDF), calcaulate expectations and do various operations efficiently.\n",
    "\n",
    "    - What if the distribution comes from a complicated simulation? At the extreme, we might not be able to do anything except draw samples from the distribution.\n",
    "\n",
    "- Sampling is the least common denominator. Any abstraction we start with for a probability distribution needs to cover sampling, and any abstraction that requires and any abstraction that requires more than just sampling will not let us handle all the distributions we care about.\n",
    "\n",
    "```python\n",
    "from abc import ABC, abstractmethod\n",
    "\n",
    "class distribution(ABC)\"\n",
    "    @abstractmethod\n",
    "    def sample(self):\n",
    "        pass\n",
    "```"
   ]
  },
  {
   "cell_type": "code",
   "execution_count": null,
   "metadata": {},
   "outputs": [],
   "source": []
  }
 ],
 "metadata": {
  "kernelspec": {
   "display_name": "Python 3",
   "language": "python",
   "name": "python3"
  },
  "language_info": {
   "codemirror_mode": {
    "name": "ipython",
    "version": 3
   },
   "file_extension": ".py",
   "mimetype": "text/x-python",
   "name": "python",
   "nbconvert_exporter": "python",
   "pygments_lexer": "ipython3",
   "version": "3.11.7"
  }
 },
 "nbformat": 4,
 "nbformat_minor": 2
}
