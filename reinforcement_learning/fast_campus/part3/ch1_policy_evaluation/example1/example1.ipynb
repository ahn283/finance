{
 "cells": [
  {
   "cell_type": "code",
   "execution_count": 1,
   "metadata": {},
   "outputs": [],
   "source": [
    "import numpy as np"
   ]
  },
  {
   "cell_type": "code",
   "execution_count": null,
   "metadata": {},
   "outputs": [],
   "source": [
    "class Env:\n",
    "    def __init__(self):\n",
    "        '''\n",
    "        state space : 4x4 grid info using numpy\n",
    "        value of the agent location : 1\n",
    "        value of the goal location : -1\n",
    "        \n",
    "        action_space : {0, 1, 2, 3}\n",
    "        0: up\n",
    "        1: right\n",
    "        2: down\n",
    "        3: left\n",
    "        '''\n",
    "        self.agent_pos = {'y': 0, 'x': 0}\n",
    "        self.goal_pos = {'y': 3, 'x': 3}\n",
    "        self.y_min, self.x_min, self.y_max, self.x_max = 0, 0, 3, 3\n",
    "        \n",
    "        # set up state\n",
    "        self.state = np.zeros([4, 4])\n",
    "        self.state[self.goal_pos['y']]"
   ]
  }
 ],
 "metadata": {
  "kernelspec": {
   "display_name": "finance",
   "language": "python",
   "name": "python3"
  },
  "language_info": {
   "codemirror_mode": {
    "name": "ipython",
    "version": 3
   },
   "file_extension": ".py",
   "mimetype": "text/x-python",
   "name": "python",
   "nbconvert_exporter": "python",
   "pygments_lexer": "ipython3",
   "version": "3.9.18"
  }
 },
 "nbformat": 4,
 "nbformat_minor": 2
}
