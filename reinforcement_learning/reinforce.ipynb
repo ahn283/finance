{
 "cells": [
  {
   "cell_type": "code",
   "execution_count": 1,
   "metadata": {},
   "outputs": [],
   "source": [
    "import gym\n",
    "import torch\n",
    "import torch.nn as nn \n",
    "import torch.nn.functional as F \n",
    "import torch.optim as optim\n",
    "from torch.distributions import Categorical"
   ]
  },
  {
   "cell_type": "code",
   "execution_count": 2,
   "metadata": {},
   "outputs": [
    {
     "data": {
      "text/plain": [
       "device(type='cpu')"
      ]
     },
     "execution_count": 2,
     "metadata": {},
     "output_type": "execute_result"
    }
   ],
   "source": [
    "device = torch.device('cuda' if torch.cuda.is_available() else 'cpu')\n",
    "device"
   ]
  },
  {
   "cell_type": "code",
   "execution_count": 3,
   "metadata": {},
   "outputs": [],
   "source": [
    "# hyperparameter\n",
    "learning_rate = 0.0002\n",
    "gamma = 0.98"
   ]
  },
  {
   "cell_type": "code",
   "execution_count": 13,
   "metadata": {},
   "outputs": [],
   "source": [
    "class Policy(nn.Module):\n",
    "    def __init__(self):\n",
    "        super(Policy, self).__init__()\n",
    "        self.data = []\n",
    "        \n",
    "        self.fc1 = nn.Linear(4, 128)\n",
    "        self.fc2 = nn.Linear(128, 2)\n",
    "        self.optimizer = optim.Adam(self.parameters(), lr=learning_rate)\n",
    "        \n",
    "    def forward(self, x):\n",
    "        x = F.relu(self.fc1(x))\n",
    "        x = F.softmax(self.fc2(x), dim=0)\n",
    "        return x\n",
    "    \n",
    "    def put_data(self, item):\n",
    "        self.data.append(item)\n",
    "        \n",
    "    def train_net(self):\n",
    "        R = 0\n",
    "        self.optimizer.zero_grad()\n",
    "        for r, prob in self.data[::-1]:\n",
    "            R = r + gamma * R\n",
    "            loss = -torch.log(prob) * R\n",
    "            loss.backward()\n",
    "        self.optimizer.step()\n",
    "        self.data = []"
   ]
  },
  {
   "cell_type": "code",
   "execution_count": 14,
   "metadata": {},
   "outputs": [],
   "source": [
    "env = gym.make('CartPole-v1')"
   ]
  },
  {
   "cell_type": "code",
   "execution_count": 15,
   "metadata": {},
   "outputs": [],
   "source": [
    "pi = Policy()"
   ]
  },
  {
   "cell_type": "code",
   "execution_count": 16,
   "metadata": {},
   "outputs": [],
   "source": [
    "score = 0.0\n",
    "print_interval = 100"
   ]
  },
  {
   "cell_type": "code",
   "execution_count": 17,
   "metadata": {},
   "outputs": [
    {
     "name": "stdout",
     "output_type": "stream",
     "text": [
      "# of episodes: 100, avg score: 19.93\n",
      "# of episodes: 200, avg score: 23.6\n",
      "# of episodes: 300, avg score: 28.38\n",
      "# of episodes: 400, avg score: 37.79\n",
      "# of episodes: 500, avg score: 41.48\n",
      "# of episodes: 600, avg score: 52.21\n",
      "# of episodes: 700, avg score: 52.6\n",
      "# of episodes: 800, avg score: 58.86\n",
      "# of episodes: 900, avg score: 68.9\n",
      "# of episodes: 1000, avg score: 84.04\n",
      "# of episodes: 1100, avg score: 96.36\n",
      "# of episodes: 1200, avg score: 113.67\n",
      "# of episodes: 1300, avg score: 136.58\n",
      "# of episodes: 1400, avg score: 172.21\n",
      "# of episodes: 1500, avg score: 173.56\n",
      "# of episodes: 1600, avg score: 189.1\n",
      "# of episodes: 1700, avg score: 237.01\n",
      "# of episodes: 1800, avg score: 216.79\n",
      "# of episodes: 1900, avg score: 248.78\n",
      "# of episodes: 2000, avg score: 300.54\n",
      "# of episodes: 2100, avg score: 271.23\n",
      "# of episodes: 2200, avg score: 318.45\n",
      "# of episodes: 2300, avg score: 278.25\n",
      "# of episodes: 2400, avg score: 318.14\n",
      "# of episodes: 2500, avg score: 284.06\n",
      "# of episodes: 2600, avg score: 348.5\n",
      "# of episodes: 2700, avg score: 432.95\n",
      "# of episodes: 2800, avg score: 403.43\n",
      "# of episodes: 2900, avg score: 388.73\n",
      "# of episodes: 3000, avg score: 496.19\n",
      "# of episodes: 3100, avg score: 559.48\n",
      "# of episodes: 3200, avg score: 499.86\n",
      "# of episodes: 3300, avg score: 529.07\n",
      "# of episodes: 3400, avg score: 596.32\n",
      "# of episodes: 3500, avg score: 489.19\n",
      "# of episodes: 3600, avg score: 602.83\n",
      "# of episodes: 3700, avg score: 801.1\n",
      "# of episodes: 3800, avg score: 850.2\n",
      "# of episodes: 3900, avg score: 823.94\n",
      "# of episodes: 4000, avg score: 832.52\n",
      "# of episodes: 4100, avg score: 1038.15\n",
      "# of episodes: 4200, avg score: 837.77\n",
      "# of episodes: 4300, avg score: 771.68\n",
      "# of episodes: 4400, avg score: 706.33\n",
      "# of episodes: 4500, avg score: 1200.0\n",
      "# of episodes: 4600, avg score: 935.65\n",
      "# of episodes: 4700, avg score: 871.21\n",
      "# of episodes: 4800, avg score: 606.6\n",
      "# of episodes: 4900, avg score: 520.11\n",
      "# of episodes: 5000, avg score: 2230.77\n",
      "# of episodes: 5100, avg score: 2196.17\n",
      "# of episodes: 5200, avg score: 1919.56\n",
      "# of episodes: 5300, avg score: 4148.12\n",
      "# of episodes: 5400, avg score: 3235.35\n",
      "# of episodes: 5500, avg score: 5589.5\n",
      "# of episodes: 5600, avg score: 4955.53\n",
      "# of episodes: 5700, avg score: 5288.55\n",
      "# of episodes: 5800, avg score: 5990.79\n",
      "# of episodes: 5900, avg score: 3029.49\n",
      "# of episodes: 6000, avg score: 1525.53\n",
      "# of episodes: 6100, avg score: 2964.69\n",
      "# of episodes: 6200, avg score: 4489.54\n",
      "# of episodes: 6300, avg score: 3471.29\n",
      "# of episodes: 6400, avg score: 10385.41\n",
      "# of episodes: 6500, avg score: 14188.31\n",
      "# of episodes: 6600, avg score: 22076.74\n",
      "# of episodes: 6700, avg score: 10881.67\n"
     ]
    },
    {
     "ename": "KeyboardInterrupt",
     "evalue": "",
     "output_type": "error",
     "traceback": [
      "\u001b[1;31m---------------------------------------------------------------------------\u001b[0m",
      "\u001b[1;31mKeyboardInterrupt\u001b[0m                         Traceback (most recent call last)",
      "\u001b[1;32m~\\AppData\\Local\\Temp\\ipykernel_5952\\1037291821.py\u001b[0m in \u001b[0;36m<module>\u001b[1;34m\u001b[0m\n\u001b[0;32m     12\u001b[0m         \u001b[0mscore\u001b[0m \u001b[1;33m+=\u001b[0m \u001b[0mr\u001b[0m\u001b[1;33m\u001b[0m\u001b[1;33m\u001b[0m\u001b[0m\n\u001b[0;32m     13\u001b[0m \u001b[1;33m\u001b[0m\u001b[0m\n\u001b[1;32m---> 14\u001b[1;33m     \u001b[0mpi\u001b[0m\u001b[1;33m.\u001b[0m\u001b[0mtrain_net\u001b[0m\u001b[1;33m(\u001b[0m\u001b[1;33m)\u001b[0m\u001b[1;33m\u001b[0m\u001b[1;33m\u001b[0m\u001b[0m\n\u001b[0m\u001b[0;32m     15\u001b[0m \u001b[1;33m\u001b[0m\u001b[0m\n\u001b[0;32m     16\u001b[0m     \u001b[1;32mif\u001b[0m \u001b[0mn_epi\u001b[0m\u001b[1;33m%\u001b[0m\u001b[0mprint_interval\u001b[0m \u001b[1;33m==\u001b[0m \u001b[1;36m0\u001b[0m \u001b[1;32mand\u001b[0m \u001b[0mn_epi\u001b[0m \u001b[1;33m!=\u001b[0m\u001b[1;36m0\u001b[0m\u001b[1;33m:\u001b[0m\u001b[1;33m\u001b[0m\u001b[1;33m\u001b[0m\u001b[0m\n",
      "\u001b[1;32m~\\AppData\\Local\\Temp\\ipykernel_5952\\2997700510.py\u001b[0m in \u001b[0;36mtrain_net\u001b[1;34m(self)\u001b[0m\n\u001b[0;32m     22\u001b[0m             \u001b[0mR\u001b[0m \u001b[1;33m=\u001b[0m \u001b[0mr\u001b[0m \u001b[1;33m+\u001b[0m \u001b[0mgamma\u001b[0m \u001b[1;33m*\u001b[0m \u001b[0mR\u001b[0m\u001b[1;33m\u001b[0m\u001b[1;33m\u001b[0m\u001b[0m\n\u001b[0;32m     23\u001b[0m             \u001b[0mloss\u001b[0m \u001b[1;33m=\u001b[0m \u001b[1;33m-\u001b[0m\u001b[0mtorch\u001b[0m\u001b[1;33m.\u001b[0m\u001b[0mlog\u001b[0m\u001b[1;33m(\u001b[0m\u001b[0mprob\u001b[0m\u001b[1;33m)\u001b[0m \u001b[1;33m*\u001b[0m \u001b[0mR\u001b[0m\u001b[1;33m\u001b[0m\u001b[1;33m\u001b[0m\u001b[0m\n\u001b[1;32m---> 24\u001b[1;33m             \u001b[0mloss\u001b[0m\u001b[1;33m.\u001b[0m\u001b[0mbackward\u001b[0m\u001b[1;33m(\u001b[0m\u001b[1;33m)\u001b[0m\u001b[1;33m\u001b[0m\u001b[1;33m\u001b[0m\u001b[0m\n\u001b[0m\u001b[0;32m     25\u001b[0m         \u001b[0mself\u001b[0m\u001b[1;33m.\u001b[0m\u001b[0moptimizer\u001b[0m\u001b[1;33m.\u001b[0m\u001b[0mstep\u001b[0m\u001b[1;33m(\u001b[0m\u001b[1;33m)\u001b[0m\u001b[1;33m\u001b[0m\u001b[1;33m\u001b[0m\u001b[0m\n\u001b[0;32m     26\u001b[0m         \u001b[0mself\u001b[0m\u001b[1;33m.\u001b[0m\u001b[0mdata\u001b[0m \u001b[1;33m=\u001b[0m \u001b[1;33m[\u001b[0m\u001b[1;33m]\u001b[0m\u001b[1;33m\u001b[0m\u001b[1;33m\u001b[0m\u001b[0m\n",
      "\u001b[1;32mc:\\Users\\woojin\\anaconda3\\envs\\gym\\lib\\site-packages\\torch\\_tensor.py\u001b[0m in \u001b[0;36mbackward\u001b[1;34m(self, gradient, retain_graph, create_graph, inputs)\u001b[0m\n\u001b[0;32m    487\u001b[0m             )\n\u001b[0;32m    488\u001b[0m         torch.autograd.backward(\n\u001b[1;32m--> 489\u001b[1;33m             \u001b[0mself\u001b[0m\u001b[1;33m,\u001b[0m \u001b[0mgradient\u001b[0m\u001b[1;33m,\u001b[0m \u001b[0mretain_graph\u001b[0m\u001b[1;33m,\u001b[0m \u001b[0mcreate_graph\u001b[0m\u001b[1;33m,\u001b[0m \u001b[0minputs\u001b[0m\u001b[1;33m=\u001b[0m\u001b[0minputs\u001b[0m\u001b[1;33m\u001b[0m\u001b[1;33m\u001b[0m\u001b[0m\n\u001b[0m\u001b[0;32m    490\u001b[0m         )\n\u001b[0;32m    491\u001b[0m \u001b[1;33m\u001b[0m\u001b[0m\n",
      "\u001b[1;32mc:\\Users\\woojin\\anaconda3\\envs\\gym\\lib\\site-packages\\torch\\autograd\\__init__.py\u001b[0m in \u001b[0;36mbackward\u001b[1;34m(tensors, grad_tensors, retain_graph, create_graph, grad_variables, inputs)\u001b[0m\n\u001b[0;32m    197\u001b[0m     Variable._execution_engine.run_backward(  # Calls into the C++ engine to run the backward pass\n\u001b[0;32m    198\u001b[0m         \u001b[0mtensors\u001b[0m\u001b[1;33m,\u001b[0m \u001b[0mgrad_tensors_\u001b[0m\u001b[1;33m,\u001b[0m \u001b[0mretain_graph\u001b[0m\u001b[1;33m,\u001b[0m \u001b[0mcreate_graph\u001b[0m\u001b[1;33m,\u001b[0m \u001b[0minputs\u001b[0m\u001b[1;33m,\u001b[0m\u001b[1;33m\u001b[0m\u001b[1;33m\u001b[0m\u001b[0m\n\u001b[1;32m--> 199\u001b[1;33m         allow_unreachable=True, accumulate_grad=True)  # Calls into the C++ engine to run the backward pass\n\u001b[0m\u001b[0;32m    200\u001b[0m \u001b[1;33m\u001b[0m\u001b[0m\n\u001b[0;32m    201\u001b[0m def grad(\n",
      "\u001b[1;31mKeyboardInterrupt\u001b[0m: "
     ]
    }
   ],
   "source": [
    "for n_epi in range(10000):\n",
    "    s, _ = env.reset()\n",
    "    done = False\n",
    "    \n",
    "    while not done:     # CartPole-v1 faces to terminate at 500 step\n",
    "        prob = pi(torch.from_numpy(s).float())\n",
    "        m = Categorical(prob)\n",
    "        a = m.sample()\n",
    "        s_prime, r, done, truncated, info = env.step(a.item())\n",
    "        pi.put_data((r, prob[a]))\n",
    "        s = s_prime\n",
    "        score += r\n",
    "    \n",
    "    pi.train_net()\n",
    "    \n",
    "    if n_epi%print_interval == 0 and n_epi !=0:\n",
    "        print('# of episodes: {}, avg score: {}'\n",
    "              .format(n_epi, score/print_interval))\n",
    "        sㄴcore = 0.0\n",
    "\n",
    "env.close()"
   ]
  }
 ],
 "metadata": {
  "kernelspec": {
   "display_name": "gym",
   "language": "python",
   "name": "python3"
  },
  "language_info": {
   "codemirror_mode": {
    "name": "ipython",
    "version": 3
   },
   "file_extension": ".py",
   "mimetype": "text/x-python",
   "name": "python",
   "nbconvert_exporter": "python",
   "pygments_lexer": "ipython3",
   "version": "3.7.16"
  }
 },
 "nbformat": 4,
 "nbformat_minor": 2
}
