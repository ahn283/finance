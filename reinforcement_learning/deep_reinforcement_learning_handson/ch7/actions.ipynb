{
 "cells": [
  {
   "cell_type": "code",
   "execution_count": 1,
   "metadata": {},
   "outputs": [],
   "source": [
    "import ptan\n",
    "import numpy as np"
   ]
  },
  {
   "cell_type": "code",
   "execution_count": 2,
   "metadata": {},
   "outputs": [
    {
     "name": "stdout",
     "output_type": "stream",
     "text": [
      "q_vals\n",
      "[[ 1  2  3]\n",
      " [ 1 -1  0]]\n"
     ]
    }
   ],
   "source": [
    "q_vals = np.array([[1, 2, 3], [1, -1, 0]])\n",
    "print(\"q_vals\")\n",
    "print(q_vals)"
   ]
  },
  {
   "cell_type": "code",
   "execution_count": 3,
   "metadata": {},
   "outputs": [
    {
     "name": "stdout",
     "output_type": "stream",
     "text": [
      "argmax:  [2 0]\n"
     ]
    }
   ],
   "source": [
    "selector = ptan.actions.ArgmaxActionSelector()\n",
    "print('argmax: ', selector(q_vals))"
   ]
  },
  {
   "cell_type": "code",
   "execution_count": 4,
   "metadata": {},
   "outputs": [
    {
     "name": "stdout",
     "output_type": "stream",
     "text": [
      "epsilon=0.0:  [2 0]\n"
     ]
    }
   ],
   "source": [
    "selector = ptan.actions.EpsilonGreedyActionSelector(epsilon=0.0)\n",
    "print(\"epsilon=0.0: \", selector(q_vals))"
   ]
  },
  {
   "cell_type": "code",
   "execution_count": 6,
   "metadata": {},
   "outputs": [
    {
     "name": "stdout",
     "output_type": "stream",
     "text": [
      "epsilon=1.0:  [2 2]\n"
     ]
    }
   ],
   "source": [
    "selector.epsilon = 1.0\n",
    "print(\"epsilon=1.0: \", selector(q_vals)) "
   ]
  },
  {
   "cell_type": "code",
   "execution_count": 7,
   "metadata": {},
   "outputs": [
    {
     "name": "stdout",
     "output_type": "stream",
     "text": [
      "epsilon=0.5:  [0 0]\n"
     ]
    }
   ],
   "source": [
    "selector.epsilon = 0.5\n",
    "print(\"epsilon=0.5: \", selector(q_vals))"
   ]
  },
  {
   "cell_type": "code",
   "execution_count": 8,
   "metadata": {},
   "outputs": [
    {
     "name": "stdout",
     "output_type": "stream",
     "text": [
      "epsilon=0.1:  [2 0]\n"
     ]
    }
   ],
   "source": [
    "selector.epsilon = 0.1\n",
    "print(\"epsilon=0.1: \", selector(q_vals))"
   ]
  },
  {
   "cell_type": "code",
   "execution_count": 11,
   "metadata": {},
   "outputs": [
    {
     "name": "stdout",
     "output_type": "stream",
     "text": [
      "Actions sampled from three prob distribution\n",
      "[1 2 0]\n",
      "[0 2 0]\n",
      "[2 2 0]\n",
      "[1 2 0]\n",
      "[0 2 1]\n",
      "[1 2 0]\n",
      "[1 2 0]\n",
      "[1 2 1]\n",
      "[0 2 1]\n",
      "[1 2 0]\n"
     ]
    }
   ],
   "source": [
    "selector = ptan.actions.ProbabilityActionSelector()\n",
    "print(\"Actions sampled from three prob distribution\")\n",
    "\n",
    "for _ in range(10):\n",
    "    acts = selector(np.array([\n",
    "        [0.1, 0.8, 0.1],\n",
    "        [0.0, 0.0, 1.0],\n",
    "        [0.5, 0.5, 0.0]\n",
    "    ]))\n",
    "    print(acts)"
   ]
  },
  {
   "cell_type": "code",
   "execution_count": null,
   "metadata": {},
   "outputs": [],
   "source": []
  }
 ],
 "metadata": {
  "kernelspec": {
   "display_name": "network",
   "language": "python",
   "name": "python3"
  },
  "language_info": {
   "codemirror_mode": {
    "name": "ipython",
    "version": 3
   },
   "file_extension": ".py",
   "mimetype": "text/x-python",
   "name": "python",
   "nbconvert_exporter": "python",
   "pygments_lexer": "ipython3",
   "version": "3.8.18"
  }
 },
 "nbformat": 4,
 "nbformat_minor": 2
}
