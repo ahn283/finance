{
 "cells": [
  {
   "cell_type": "code",
   "execution_count": 1,
   "metadata": {},
   "outputs": [],
   "source": [
    "import ptan\n",
    "import torch\n",
    "import torch.nn as nn"
   ]
  },
  {
   "cell_type": "code",
   "execution_count": 2,
   "metadata": {},
   "outputs": [],
   "source": [
    "class DQNNet(nn.Module):\n",
    "    def __init__(self, actions: int):\n",
    "        super(DQNNet, self).__init__()\n",
    "        self.actions = actions\n",
    "        \n",
    "    def forward(self, x):\n",
    "        # we always produce diagonal tensor of shape (batch_size, actions)\n",
    "        return torch.eye(x.size()[0], self.actions)"
   ]
  },
  {
   "cell_type": "code",
   "execution_count": 3,
   "metadata": {},
   "outputs": [],
   "source": [
    "class PolicyNet(nn.Module):\n",
    "    def __init__(self, actions: int):\n",
    "        super(PolicyNet, self).__init__()\n",
    "        self.actions = actions\n",
    "        \n",
    "    def forward(self, x):\n",
    "        # now we produce the tensor with first two actions\n",
    "        # having the same logit scores\n",
    "        shape = (x.size()[0], self.actions)\n",
    "        res = torch.zeros(shape, dtype=torch.float32)\n",
    "        res[:, 0] = 1\n",
    "        res[:, 1] = 1\n",
    "        return res"
   ]
  },
  {
   "cell_type": "code",
   "execution_count": 4,
   "metadata": {},
   "outputs": [
    {
     "name": "stdout",
     "output_type": "stream",
     "text": [
      "dqn_net:\n",
      "tensor([[1., 0., 0.],\n",
      "        [0., 1., 0.]])\n"
     ]
    }
   ],
   "source": [
    "net = DQNNet(actions=3)\n",
    "# input : a batch of two observatios, each having five values\n",
    "net_out = net(torch.zeros(2, 10))\n",
    "print('dqn_net:')\n",
    "print(net_out)"
   ]
  },
  {
   "cell_type": "code",
   "execution_count": 5,
   "metadata": {},
   "outputs": [
    {
     "name": "stdout",
     "output_type": "stream",
     "text": [
      "Argmax:  (array([0, 1], dtype=int64), [None, None])\n"
     ]
    }
   ],
   "source": [
    "selector = ptan.actions.ArgmaxActionSelector()\n",
    "agent = ptan.agent.DQNAgent(dqn_model=net, action_selector=selector)\n",
    "# the agent returns a tuple of two objects\n",
    "ag_out = agent(torch.zeros(2, 5))\n",
    "print(\"Argmax: \", ag_out)"
   ]
  },
  {
   "cell_type": "code",
   "execution_count": 6,
   "metadata": {},
   "outputs": [
    {
     "name": "stdout",
     "output_type": "stream",
     "text": [
      "eps=1.0:  [2 0 1 0 2 1 2 2 0 0]\n"
     ]
    }
   ],
   "source": [
    "selector = ptan.actions.EpsilonGreedyActionSelector(epsilon=1.0)\n",
    "agent = ptan.agent.DQNAgent(dqn_model=net, action_selector=selector)\n",
    "ag_out = agent(torch.zeros(10, 5))[0]\n",
    "print(\"eps=1.0: \", ag_out)"
   ]
  },
  {
   "cell_type": "code",
   "execution_count": 7,
   "metadata": {},
   "outputs": [
    {
     "name": "stdout",
     "output_type": "stream",
     "text": [
      "eps=0.5:  [0 1 1 0 0 0 1 2 1 2]\n"
     ]
    }
   ],
   "source": [
    "selector.epsilon = 0.5\n",
    "ag_out = agent(torch.zeros(10, 5))[0]\n",
    "print(\"eps=0.5: \", ag_out)"
   ]
  },
  {
   "cell_type": "code",
   "execution_count": 8,
   "metadata": {},
   "outputs": [
    {
     "name": "stdout",
     "output_type": "stream",
     "text": [
      "eps=0.1:  [0 1 2 0 0 0 0 0 0 0]\n"
     ]
    }
   ],
   "source": [
    "selector.epsilon = 0.1\n",
    "ag_out = agent(torch.zeros(10, 5))[0]\n",
    "print(\"eps=0.1: \", ag_out)"
   ]
  },
  {
   "cell_type": "code",
   "execution_count": 11,
   "metadata": {},
   "outputs": [
    {
     "name": "stdout",
     "output_type": "stream",
     "text": [
      "policy_net:\n",
      "tensor([[1., 1., 0., 0., 0.],\n",
      "        [1., 1., 0., 0., 0.],\n",
      "        [1., 1., 0., 0., 0.],\n",
      "        [1., 1., 0., 0., 0.],\n",
      "        [1., 1., 0., 0., 0.],\n",
      "        [1., 1., 0., 0., 0.]])\n"
     ]
    }
   ],
   "source": [
    "net = PolicyNet(actions=5)\n",
    "net_out = net(torch.zeros(6, 10))\n",
    "print(\"policy_net:\")\n",
    "print(net_out)"
   ]
  },
  {
   "cell_type": "code",
   "execution_count": 13,
   "metadata": {},
   "outputs": [
    {
     "name": "stdout",
     "output_type": "stream",
     "text": [
      "[2 3 3 0 2 3]\n"
     ]
    }
   ],
   "source": [
    "selector = ptan.actions.ProbabilityActionSelector()\n",
    "agent = ptan.agent.PolicyAgent(model=net, action_selector=selector, apply_softmax=True)\n",
    "ag_out = agent(torch.zeros(6, 5))[0]\n",
    "print(ag_out)"
   ]
  },
  {
   "cell_type": "code",
   "execution_count": 14,
   "metadata": {},
   "outputs": [
    {
     "data": {
      "text/plain": [
       "tensor([[0.3222, 0.3222, 0.1185, 0.1185, 0.1185]])"
      ]
     },
     "execution_count": 14,
     "metadata": {},
     "output_type": "execute_result"
    }
   ],
   "source": [
    "torch.nn.functional.softmax(net(torch.zeros(1, 10)), dim=1)"
   ]
  }
 ],
 "metadata": {
  "kernelspec": {
   "display_name": "network",
   "language": "python",
   "name": "python3"
  },
  "language_info": {
   "codemirror_mode": {
    "name": "ipython",
    "version": 3
   },
   "file_extension": ".py",
   "mimetype": "text/x-python",
   "name": "python",
   "nbconvert_exporter": "python",
   "pygments_lexer": "ipython3",
   "version": "3.8.18"
  }
 },
 "nbformat": 4,
 "nbformat_minor": 2
}
