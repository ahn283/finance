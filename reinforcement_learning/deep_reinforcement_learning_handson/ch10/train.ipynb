{
 "cells": [
  {
   "cell_type": "code",
   "execution_count": 1,
   "metadata": {},
   "outputs": [
    {
     "ename": "TypeError",
     "evalue": "__init__() missing 1 required positional argument: 'entry_point'",
     "output_type": "error",
     "traceback": [
      "\u001b[1;31m---------------------------------------------------------------------------\u001b[0m",
      "\u001b[1;31mTypeError\u001b[0m                                 Traceback (most recent call last)",
      "\u001b[1;32mc:\\project\\github\\finance\\reinforcement_learning\\deep_reinforcement_learning_handson\\ch10\\train.ipynb Cell 1\u001b[0m line \u001b[0;36m1\n\u001b[0;32m     <a href='vscode-notebook-cell:/c%3A/project/github/finance/reinforcement_learning/deep_reinforcement_learning_handson/ch10/train.ipynb#W0sZmlsZQ%3D%3D?line=9'>10</a>\u001b[0m \u001b[39mfrom\u001b[39;00m \u001b[39mignite\u001b[39;00m\u001b[39m.\u001b[39;00m\u001b[39mengine\u001b[39;00m \u001b[39mimport\u001b[39;00m Engine\n\u001b[0;32m     <a href='vscode-notebook-cell:/c%3A/project/github/finance/reinforcement_learning/deep_reinforcement_learning_handson/ch10/train.ipynb#W0sZmlsZQ%3D%3D?line=10'>11</a>\u001b[0m \u001b[39mfrom\u001b[39;00m \u001b[39mignite\u001b[39;00m\u001b[39m.\u001b[39;00m\u001b[39mcontrib\u001b[39;00m\u001b[39m.\u001b[39;00m\u001b[39mhandlers\u001b[39;00m \u001b[39mimport\u001b[39;00m tensorboard_logger \u001b[39mas\u001b[39;00m tb_logger\n\u001b[1;32m---> <a href='vscode-notebook-cell:/c%3A/project/github/finance/reinforcement_learning/deep_reinforcement_learning_handson/ch10/train.ipynb#W0sZmlsZQ%3D%3D?line=12'>13</a>\u001b[0m \u001b[39mfrom\u001b[39;00m \u001b[39mlibrary\u001b[39;00m \u001b[39mimport\u001b[39;00m environ, data, models, common, validation\n",
      "File \u001b[1;32mc:\\project\\github\\finance\\reinforcement_learning\\deep_reinforcement_learning_handson\\ch10\\library\\environ.py:148\u001b[0m\n\u001b[0;32m    145\u001b[0m             res[dst\u001b[39m+\u001b[39m\u001b[39m1\u001b[39m] \u001b[39m=\u001b[39m \u001b[39mself\u001b[39m\u001b[39m.\u001b[39m_cur_close() \u001b[39m/\u001b[39m \u001b[39mself\u001b[39m\u001b[39m.\u001b[39mopen_price \u001b[39m-\u001b[39m \u001b[39m1.0\u001b[39m\n\u001b[0;32m    146\u001b[0m         \u001b[39mreturn\u001b[39;00m res\n\u001b[1;32m--> 148\u001b[0m \u001b[39mclass\u001b[39;00m \u001b[39mStocksEnv\u001b[39;00m(gym\u001b[39m.\u001b[39mEnv):\n\u001b[0;32m    149\u001b[0m     metadata \u001b[39m=\u001b[39m {\u001b[39m'\u001b[39m\u001b[39mrender.modes\u001b[39m\u001b[39m'\u001b[39m: [\u001b[39m'\u001b[39m\u001b[39mhuman\u001b[39m\u001b[39m'\u001b[39m]}\n\u001b[0;32m    150\u001b[0m     spec \u001b[39m=\u001b[39m EnvSpec(\u001b[39m\"\u001b[39m\u001b[39mStocksEnv-v0\u001b[39m\u001b[39m\"\u001b[39m)\n",
      "File \u001b[1;32mc:\\project\\github\\finance\\reinforcement_learning\\deep_reinforcement_learning_handson\\ch10\\library\\environ.py:150\u001b[0m, in \u001b[0;36mStocksEnv\u001b[1;34m()\u001b[0m\n\u001b[0;32m    148\u001b[0m \u001b[39mclass\u001b[39;00m \u001b[39mStocksEnv\u001b[39;00m(gym\u001b[39m.\u001b[39mEnv):\n\u001b[0;32m    149\u001b[0m     metadata \u001b[39m=\u001b[39m {\u001b[39m'\u001b[39m\u001b[39mrender.modes\u001b[39m\u001b[39m'\u001b[39m: [\u001b[39m'\u001b[39m\u001b[39mhuman\u001b[39m\u001b[39m'\u001b[39m]}\n\u001b[1;32m--> 150\u001b[0m     spec \u001b[39m=\u001b[39m EnvSpec(\u001b[39m\"\u001b[39;49m\u001b[39mStocksEnv-v0\u001b[39;49m\u001b[39m\"\u001b[39;49m)\n\u001b[0;32m    153\u001b[0m     \u001b[39mdef\u001b[39;00m \u001b[39m__init__\u001b[39m(\u001b[39mself\u001b[39m, prices, bars_count\u001b[39m=\u001b[39mDEFAULT_BARS_COUNT,\n\u001b[0;32m    154\u001b[0m                  commission\u001b[39m=\u001b[39mDEFAULT_COMMISSION_PERC,\n\u001b[0;32m    155\u001b[0m                  reset_on_close\u001b[39m=\u001b[39m\u001b[39mTrue\u001b[39;00m, state_1d\u001b[39m=\u001b[39m\u001b[39mFalse\u001b[39;00m,\n\u001b[0;32m    156\u001b[0m                  random_ofs_on_reset\u001b[39m=\u001b[39m\u001b[39mTrue\u001b[39;00m, reward_on_close\u001b[39m=\u001b[39m\u001b[39mFalse\u001b[39;00m,\n\u001b[0;32m    157\u001b[0m                  volumes\u001b[39m=\u001b[39m\u001b[39mFalse\u001b[39;00m):\n\u001b[0;32m    158\u001b[0m         \u001b[39massert\u001b[39;00m \u001b[39misinstance\u001b[39m(prices, \u001b[39mdict\u001b[39m)\n",
      "\u001b[1;31mTypeError\u001b[0m: __init__() missing 1 required positional argument: 'entry_point'"
     ]
    }
   ],
   "source": [
    "import ptan\n",
    "import pathlib\n",
    "import argparse\n",
    "import gym.wrappers\n",
    "import numpy as np\n",
    "\n",
    "import torch\n",
    "import torch.optim as optim \n",
    "\n",
    "from ignite.engine import Engine\n",
    "from ignite.contrib.handlers import tensorboard_logger as tb_logger\n",
    "\n",
    "from library import environ, data, models, common, validation"
   ]
  },
  {
   "cell_type": "code",
   "execution_count": null,
   "metadata": {},
   "outputs": [],
   "source": []
  }
 ],
 "metadata": {
  "kernelspec": {
   "display_name": "network",
   "language": "python",
   "name": "python3"
  },
  "language_info": {
   "codemirror_mode": {
    "name": "ipython",
    "version": 3
   },
   "file_extension": ".py",
   "mimetype": "text/x-python",
   "name": "python",
   "nbconvert_exporter": "python",
   "pygments_lexer": "ipython3",
   "version": "3.8.18"
  }
 },
 "nbformat": 4,
 "nbformat_minor": 2
}
