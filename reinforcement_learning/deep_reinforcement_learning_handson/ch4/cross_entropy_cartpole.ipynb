{
 "cells": [
  {
   "cell_type": "code",
   "execution_count": 1,
   "metadata": {},
   "outputs": [],
   "source": [
    "import gym\n",
    "from collections import namedtuple\n",
    "import numpy as np\n",
    "from torch.utils.tensorboard import SummaryWriter\n",
    "\n",
    "import torch\n",
    "import torch.nn as nn \n",
    "import torch.optim as optim"
   ]
  },
  {
   "cell_type": "code",
   "execution_count": 2,
   "metadata": {},
   "outputs": [],
   "source": [
    "HIDDEN_SIZE = 128       # number of neurons\n",
    "BATCH_SIZE =16          # the count of episodes per iteration\n",
    "PERCENTILE = 70         # the percentile of episodes' total rewards that we use for elite episode filtering\n",
    "                        ## we will leave the top 30% of episodes sorted by reward"
   ]
  },
  {
   "cell_type": "code",
   "execution_count": 3,
   "metadata": {},
   "outputs": [],
   "source": [
    "class Net(nn.Module):\n",
    "    def __init__(self, obs_size, hidden_size, n_actions):\n",
    "        super(Net, self).__init__()\n",
    "        # one hidden layer NN, with recified linear unit (ReLU) and 128 nuerons\n",
    "        self.net = nn.Sequential(\n",
    "            nn.Linear(obs_size, hidden_size),\n",
    "            nn.ReLU(),\n",
    "            nn.Linear(hidden_size, n_actions)\n",
    "        )\n",
    "        \n",
    "    def forward(self, x):\n",
    "        return self.net(x)"
   ]
  },
  {
   "cell_type": "code",
   "execution_count": 4,
   "metadata": {},
   "outputs": [],
   "source": [
    "Episode = namedtuple('Episode', field_names=['reward', 'steps'])\n",
    "EpisodeStep = namedtuple('EpisodeStep', field_names=['observation', 'action'])"
   ]
  },
  {
   "cell_type": "code",
   "execution_count": 5,
   "metadata": {},
   "outputs": [],
   "source": [
    "def iterate_batches(env, net, batch_size):\n",
    "    batch = []\n",
    "    episode_reward = 0.0\n",
    "    episode_steps = []\n",
    "    # env.reset() returns a tuple of (observation, info) instead of observatrion\n",
    "    obs, _ = env.reset()\n",
    "    sm = nn.Softmax(dim=1)\n",
    "    \n",
    "    while True:\n",
    "        obs_v = torch.FloatTensor([obs])\n",
    "        act_probs_v = sm(net(obs_v))\n",
    "        act_probs = act_probs_v.data.numpy()[0]\n",
    "        action = np.random.choice(len(act_probs), p=act_probs)\n",
    "        next_obs, reward, is_done, _, _ = env.step(action)\n",
    "        # add dimension to next_obs\n",
    "        # next_obs = [next_obs]\n",
    "        episode_reward += reward\n",
    "        step = EpisodeStep(observation=obs, action=action)\n",
    "        episode_steps.append(step)\n",
    "        \n",
    "        if is_done:\n",
    "            e = Episode(reward=episode_reward, steps=episode_steps)\n",
    "            batch.append(e)\n",
    "            episode_reward = 0.0\n",
    "            episode_steps = []\n",
    "            next_obs, _ = env.reset()\n",
    "            if len(batch) == batch_size:\n",
    "                yield batch\n",
    "                batch = []\n",
    "        \n",
    "        obs = next_obs"
   ]
  },
  {
   "cell_type": "code",
   "execution_count": 6,
   "metadata": {},
   "outputs": [],
   "source": [
    "def filter_batch(batch, percentile):\n",
    "    rewards = list(map(lambda s: s.reward, batch))\n",
    "    reward_bound = np.percentile(rewards, percentile)\n",
    "    reward_mean = float(np.mean(rewards))\n",
    "\n",
    "    train_obs = []\n",
    "    train_act = []\n",
    "    for reward, steps in batch:\n",
    "        if reward < reward_bound:\n",
    "            continue\n",
    "        train_obs.extend(map(lambda step: step.observation, steps))\n",
    "        train_act.extend(map(lambda step: step.action, steps))\n",
    "    train_obs_v = torch.FloatTensor(train_obs)\n",
    "    train_act_v = torch.LongTensor(train_act)\n",
    "    return train_obs_v, train_act_v, reward_bound, reward_mean"
   ]
  },
  {
   "cell_type": "code",
   "execution_count": 7,
   "metadata": {},
   "outputs": [
    {
     "name": "stderr",
     "output_type": "stream",
     "text": [
      "c:\\Users\\woojin\\anaconda3\\envs\\network\\lib\\site-packages\\gym\\envs\\registration.py:555: UserWarning: \u001b[33mWARN: The environment CartPole-v0 is out of date. You should consider upgrading to version `v1`.\u001b[0m\n",
      "  logger.warn(\n"
     ]
    }
   ],
   "source": [
    "env = gym.make('CartPole-v0')\n",
    "\n",
    "obs_size = env.observation_space.shape[0]\n",
    "n_actions = env.action_space.n"
   ]
  },
  {
   "cell_type": "code",
   "execution_count": 8,
   "metadata": {},
   "outputs": [],
   "source": [
    "net = Net(obs_size, HIDDEN_SIZE, n_actions)\n",
    "objective = nn.CrossEntropyLoss()\n",
    "optimizer = optim.Adam(params=net.parameters(), lr=0.01)\n",
    "writer = SummaryWriter(comment=\"-cartpole\")"
   ]
  },
  {
   "cell_type": "code",
   "execution_count": 9,
   "metadata": {},
   "outputs": [
    {
     "name": "stderr",
     "output_type": "stream",
     "text": [
      "C:\\Users\\woojin\\AppData\\Local\\Temp\\ipykernel_13696\\3255438199.py:10: UserWarning: Creating a tensor from a list of numpy.ndarrays is extremely slow. Please consider converting the list to a single numpy.ndarray with numpy.array() before converting to a tensor. (Triggered internally at C:\\cb\\pytorch_1000000000000\\work\\torch\\csrc\\utils\\tensor_new.cpp:264.)\n",
      "  obs_v = torch.FloatTensor([obs])\n"
     ]
    },
    {
     "name": "stdout",
     "output_type": "stream",
     "text": [
      "0: loss0.695, reward_mean=16.9, rw_bound=19.0\n",
      "1: loss0.684, reward_mean=23.4, rw_bound=23.5\n",
      "2: loss0.667, reward_mean=25.6, rw_bound=23.5\n",
      "3: loss0.647, reward_mean=35.5, rw_bound=38.5\n",
      "4: loss0.633, reward_mean=32.6, rw_bound=28.0\n",
      "5: loss0.623, reward_mean=29.6, rw_bound=34.0\n",
      "6: loss0.613, reward_mean=39.7, rw_bound=48.5\n",
      "7: loss0.624, reward_mean=37.1, rw_bound=37.5\n",
      "8: loss0.584, reward_mean=48.8, rw_bound=64.5\n",
      "9: loss0.589, reward_mean=61.1, rw_bound=71.0\n",
      "10: loss0.582, reward_mean=70.6, rw_bound=84.5\n",
      "11: loss0.576, reward_mean=57.3, rw_bound=62.5\n",
      "12: loss0.570, reward_mean=54.8, rw_bound=59.5\n",
      "13: loss0.557, reward_mean=57.3, rw_bound=63.0\n",
      "14: loss0.571, reward_mean=46.5, rw_bound=51.5\n",
      "15: loss0.562, reward_mean=59.9, rw_bound=67.0\n",
      "16: loss0.538, reward_mean=56.8, rw_bound=61.0\n",
      "17: loss0.536, reward_mean=59.9, rw_bound=61.0\n",
      "18: loss0.536, reward_mean=75.1, rw_bound=95.0\n",
      "19: loss0.531, reward_mean=68.5, rw_bound=85.0\n",
      "20: loss0.512, reward_mean=66.6, rw_bound=76.5\n",
      "21: loss0.525, reward_mean=77.9, rw_bound=88.0\n",
      "22: loss0.495, reward_mean=71.7, rw_bound=75.5\n",
      "23: loss0.484, reward_mean=79.6, rw_bound=78.5\n",
      "24: loss0.526, reward_mean=85.2, rw_bound=91.0\n",
      "25: loss0.506, reward_mean=86.1, rw_bound=88.0\n",
      "26: loss0.521, reward_mean=87.9, rw_bound=101.0\n",
      "27: loss0.499, reward_mean=115.9, rw_bound=114.5\n",
      "28: loss0.475, reward_mean=97.8, rw_bound=109.5\n",
      "29: loss0.485, reward_mean=105.6, rw_bound=129.5\n",
      "30: loss0.507, reward_mean=115.3, rw_bound=141.0\n",
      "31: loss0.487, reward_mean=140.4, rw_bound=161.5\n",
      "32: loss0.508, reward_mean=138.6, rw_bound=144.5\n",
      "33: loss0.498, reward_mean=162.3, rw_bound=164.0\n",
      "34: loss0.485, reward_mean=143.7, rw_bound=164.0\n",
      "35: loss0.488, reward_mean=165.2, rw_bound=168.0\n",
      "36: loss0.491, reward_mean=163.4, rw_bound=177.5\n",
      "37: loss0.511, reward_mean=160.2, rw_bound=179.5\n",
      "38: loss0.491, reward_mean=162.1, rw_bound=170.0\n",
      "39: loss0.478, reward_mean=169.0, rw_bound=204.0\n",
      "40: loss0.491, reward_mean=165.4, rw_bound=170.0\n",
      "41: loss0.482, reward_mean=156.6, rw_bound=178.0\n",
      "42: loss0.492, reward_mean=203.1, rw_bound=199.5\n",
      "Solved!\n"
     ]
    }
   ],
   "source": [
    "for iter_no, batch in enumerate(iterate_batches(env, net, BATCH_SIZE)):\n",
    "    obs_v, acts_v, reward_b, reward_m = filter_batch(batch, PERCENTILE)\n",
    "    optimizer.zero_grad()\n",
    "    action_scores_v = net(obs_v)\n",
    "    loss_v = objective(action_scores_v, acts_v)\n",
    "    loss_v.backward()\n",
    "    optimizer.step()\n",
    "    print(\"%d: loss%.3f, reward_mean=%.1f, rw_bound=%.1f\"\n",
    "          %(iter_no, loss_v.item(), reward_m, reward_b))\n",
    "    writer.add_scalar(\"loss\", loss_v.item(), iter_no)\n",
    "    writer.add_scalar(\"reward_bound\", reward_b, iter_no)\n",
    "    writer.add_scalar(\"reward_mean\", reward_m, iter_no)\n",
    "    if reward_m > 199:\n",
    "        print(\"Solved!\")\n",
    "        break\n",
    "\n",
    "writer.close()\n",
    "    "
   ]
  }
 ],
 "metadata": {
  "kernelspec": {
   "display_name": "network",
   "language": "python",
   "name": "python3"
  },
  "language_info": {
   "codemirror_mode": {
    "name": "ipython",
    "version": 3
   },
   "file_extension": ".py",
   "mimetype": "text/x-python",
   "name": "python",
   "nbconvert_exporter": "python",
   "pygments_lexer": "ipython3",
   "version": "3.8.18"
  }
 },
 "nbformat": 4,
 "nbformat_minor": 2
}
