{
 "cells": [
  {
   "cell_type": "code",
   "execution_count": 1,
   "metadata": {},
   "outputs": [],
   "source": [
    "from lib import wrappers\n",
    "from lib import dqn_model\n",
    "import argparse\n",
    "import time\n",
    "import numpy as np\n",
    "import collections\n",
    "import torch\n",
    "import torch.nn as nn\n",
    "import torch.optim as optim\n",
    "from torch.utils.tensorboard import SummaryWriter\n",
    "import gym"
   ]
  },
  {
   "cell_type": "code",
   "execution_count": 2,
   "metadata": {},
   "outputs": [],
   "source": [
    "from ale_py import ALEInterface\n",
    "\n",
    "ale = ALEInterface()"
   ]
  },
  {
   "cell_type": "code",
   "execution_count": 3,
   "metadata": {},
   "outputs": [],
   "source": [
    "# gym.make('Taxi-v3')\n",
    "DEFAULT_ENV_NAME = 'Taxi-v3'\n",
    "MEAN_REWARD_BOUND = 19.0"
   ]
  },
  {
   "cell_type": "code",
   "execution_count": 4,
   "metadata": {},
   "outputs": [
    {
     "name": "stdout",
     "output_type": "stream",
     "text": [
      "(429, {'prob': 1.0, 'action_mask': array([0, 1, 1, 0, 0, 0], dtype=int8)})\n",
      "(429, -1, False, False, {'prob': 1.0, 'action_mask': array([0, 1, 1, 0, 0, 0], dtype=int8)})\n"
     ]
    }
   ],
   "source": [
    "e = gym.make(DEFAULT_ENV_NAME)\n",
    "print(e.reset())\n",
    "print(e.step(e.action_space.sample()))"
   ]
  },
  {
   "cell_type": "code",
   "execution_count": 5,
   "metadata": {},
   "outputs": [],
   "source": [
    "GAMMA = 0.99                # gamma value for Bellman approximation\n",
    "BATCH_SIZE = 32             # the batch size sampled from the replay buffer\n",
    "REPLAY_SIZE = 10000         # the maximum capacity of the buffer\n",
    "REPLAY_START_SIZE = 10000   # the count of frames we wait for before starting training to populate the replay buffer\n",
    "LEARNING_RATE = 1e-4        # the learning rate used in Adam optimizer\n",
    "SYNC_TARGET_FRAMES = 1000   # how frequently we sync model weightsfrom the training model to the target model"
   ]
  },
  {
   "cell_type": "code",
   "execution_count": 6,
   "metadata": {},
   "outputs": [],
   "source": [
    "EPSILON_DECAY_LAST_FRAME = 150000\n",
    "EPSILON_START = 1.0\n",
    "EPSILON_FINAL = 0.01"
   ]
  },
  {
   "cell_type": "code",
   "execution_count": 7,
   "metadata": {},
   "outputs": [],
   "source": [
    "Experience = collections.namedtuple(\n",
    "    'Experience', field_names=['state', 'action', 'reward', 'done', 'new_state']\n",
    ")"
   ]
  },
  {
   "cell_type": "code",
   "execution_count": 8,
   "metadata": {},
   "outputs": [],
   "source": [
    "class ExperienceBuffer:\n",
    "    def __init__(self, capacity):\n",
    "        self.buffer = collections.deque(maxlen=capacity)\n",
    "        \n",
    "    def __len__(self):\n",
    "        return len(self.buffer)\n",
    "    \n",
    "    def append(self, experience):\n",
    "        self.buffer.append(experience)\n",
    "        \n",
    "    def sample(self, batch_size):\n",
    "        indices = np.random.choice(len(self.buffer), batch_size, replace=True)\n",
    "        states, actions, rewards, dones, next_states = zip(*[self.buffer[idx] for idx in indices])\n",
    "        return np.array(states), np.array(actions), np.array(rewards, dtype=np.float32), np.array(dones, dtype=np.uint8), np.array(next_states)"
   ]
  },
  {
   "cell_type": "code",
   "execution_count": 9,
   "metadata": {},
   "outputs": [],
   "source": [
    "class Agent:\n",
    "    def __init__(self, env, exp_buffer):\n",
    "        self.env = env\n",
    "        self.exp_buffer = exp_buffer\n",
    "        self._reset()\n",
    "    \n",
    "    def _reset(self):\n",
    "        self.state = self.env.reset()\n",
    "        self.total_reward = 0.0\n",
    "    \n",
    "    @torch.no_grad()\n",
    "    def play_step(self, net, epsilon=0.0, device=\"cpu\"):\n",
    "        done_reward = None\n",
    "        \n",
    "        if np.random.random() < epsilon:\n",
    "            action = self.env.action_space.sample()\n",
    "        else:\n",
    "            state_a = np.array([self.state], copy=False)\n",
    "            state_v = torch.tensor(state_a).to(device)\n",
    "            q_vals_v = net(state_v)\n",
    "            _, act_v = torch.max(q_vals_v, dim=1)\n",
    "            action = int(act_v.item())\n",
    "            \n",
    "        # do step in the environment\n",
    "        new_state, reward, is_done, _, _ = self.env.step(action)\n",
    "        self.total_reward += reward\n",
    "        \n",
    "        exp = Experience(self.state, action, reward, is_done, new_state)\n",
    "        self.exp_buffer.append(exp)\n",
    "        self.state = new_state\n",
    "        if is_done:\n",
    "            done_reward = self.total_reward\n",
    "            self._reset()\n",
    "        return done_reward"
   ]
  },
  {
   "cell_type": "code",
   "execution_count": 10,
   "metadata": {},
   "outputs": [],
   "source": [
    "def calc_loss(batch, net, tgt_net, device='cpu'):\n",
    "    states, actions, rewards, dones, next_states = batch\n",
    "    \n",
    "    states_v = torch.tensor(np.array(\n",
    "        states, copy=False\n",
    "    )).to(device)\n",
    "    next_states_v = torch.tensor(np.array(\n",
    "        next_states, copy=False\n",
    "    )).to(device)\n",
    "    actions_v = torch.tensor(actions).to(device)\n",
    "    rewards_v = torch.tensor(rewards).to(device)\n",
    "    done_mask = torch.BoolTensor(dones).to(device)\n",
    "    \n",
    "    state_action_values = net(states_v).gather(\n",
    "        1, actions_v.unsqueeze(-1)\n",
    "    ).squeeze(-1)\n",
    "    \n",
    "    with torch.no_grad():\n",
    "        next_state_values = tgt_net(next_states_v).max(1)[0]\n",
    "        next_state_values[done_mask] = 0.0\n",
    "        next_state_values = next_state_values.detach()\n",
    "        \n",
    "    expected_state_action_values = next_state_values * GAMMA + rewards_v\n",
    "    return nn.MSELoss()(state_action_values, expected_state_action_values)"
   ]
  },
  {
   "cell_type": "code",
   "execution_count": 11,
   "metadata": {},
   "outputs": [
    {
     "name": "stdout",
     "output_type": "stream",
     "text": [
      "cuda\n",
      "DQN(\n",
      "  (conv): Sequential(\n",
      "    (0): Conv2d(4, 32, kernel_size=(8, 8), stride=(4, 4))\n",
      "    (1): ReLU()\n",
      "    (2): Conv2d(32, 64, kernel_size=(4, 4), stride=(2, 2))\n",
      "    (3): ReLU()\n",
      "    (4): Conv2d(64, 64, kernel_size=(3, 3), stride=(1, 1))\n",
      "    (5): ReLU()\n",
      "  )\n",
      "  (fc): Sequential(\n",
      "    (0): Linear(in_features=3136, out_features=512, bias=True)\n",
      "    (1): ReLU()\n",
      "    (2): Linear(in_features=512, out_features=6, bias=True)\n",
      "  )\n",
      ")\n"
     ]
    },
    {
     "ename": "NotImplementedError",
     "evalue": "",
     "output_type": "error",
     "traceback": [
      "\u001b[1;31m---------------------------------------------------------------------------\u001b[0m",
      "\u001b[1;31mNotImplementedError\u001b[0m                       Traceback (most recent call last)",
      "\u001b[1;32mc:\\Users\\woojin\\Documents\\github\\finance\\reinforcement_learning\\deep_reinforcement_learning_handson\\ch6\\dqn_pong.ipynb Cell 11\u001b[0m line \u001b[0;36m2\n\u001b[0;32m     <a href='vscode-notebook-cell:/c%3A/Users/woojin/Documents/github/finance/reinforcement_learning/deep_reinforcement_learning_handson/ch6/dqn_pong.ipynb#X13sZmlsZQ%3D%3D?line=16'>17</a>\u001b[0m \u001b[39mprint\u001b[39m(net)\n\u001b[0;32m     <a href='vscode-notebook-cell:/c%3A/Users/woojin/Documents/github/finance/reinforcement_learning/deep_reinforcement_learning_handson/ch6/dqn_pong.ipynb#X13sZmlsZQ%3D%3D?line=18'>19</a>\u001b[0m buffer \u001b[39m=\u001b[39m ExperienceBuffer(REPLAY_SIZE)\n\u001b[1;32m---> <a href='vscode-notebook-cell:/c%3A/Users/woojin/Documents/github/finance/reinforcement_learning/deep_reinforcement_learning_handson/ch6/dqn_pong.ipynb#X13sZmlsZQ%3D%3D?line=19'>20</a>\u001b[0m agent \u001b[39m=\u001b[39m Agent(env, buffer)\n\u001b[0;32m     <a href='vscode-notebook-cell:/c%3A/Users/woojin/Documents/github/finance/reinforcement_learning/deep_reinforcement_learning_handson/ch6/dqn_pong.ipynb#X13sZmlsZQ%3D%3D?line=20'>21</a>\u001b[0m epsilon \u001b[39m=\u001b[39m EPSILON_FINAL\n\u001b[0;32m     <a href='vscode-notebook-cell:/c%3A/Users/woojin/Documents/github/finance/reinforcement_learning/deep_reinforcement_learning_handson/ch6/dqn_pong.ipynb#X13sZmlsZQ%3D%3D?line=22'>23</a>\u001b[0m optimizer \u001b[39m=\u001b[39m optim\u001b[39m.\u001b[39mAdam(net\u001b[39m.\u001b[39mparameters(), lr\u001b[39m=\u001b[39mLEARNING_RATE)\n",
      "\u001b[1;32mc:\\Users\\woojin\\Documents\\github\\finance\\reinforcement_learning\\deep_reinforcement_learning_handson\\ch6\\dqn_pong.ipynb Cell 11\u001b[0m line \u001b[0;36m5\n\u001b[0;32m      <a href='vscode-notebook-cell:/c%3A/Users/woojin/Documents/github/finance/reinforcement_learning/deep_reinforcement_learning_handson/ch6/dqn_pong.ipynb#X13sZmlsZQ%3D%3D?line=2'>3</a>\u001b[0m \u001b[39mself\u001b[39m\u001b[39m.\u001b[39menv \u001b[39m=\u001b[39m env\n\u001b[0;32m      <a href='vscode-notebook-cell:/c%3A/Users/woojin/Documents/github/finance/reinforcement_learning/deep_reinforcement_learning_handson/ch6/dqn_pong.ipynb#X13sZmlsZQ%3D%3D?line=3'>4</a>\u001b[0m \u001b[39mself\u001b[39m\u001b[39m.\u001b[39mexp_buffer \u001b[39m=\u001b[39m exp_buffer\n\u001b[1;32m----> <a href='vscode-notebook-cell:/c%3A/Users/woojin/Documents/github/finance/reinforcement_learning/deep_reinforcement_learning_handson/ch6/dqn_pong.ipynb#X13sZmlsZQ%3D%3D?line=4'>5</a>\u001b[0m \u001b[39mself\u001b[39;49m\u001b[39m.\u001b[39;49m_reset()\n",
      "\u001b[1;32mc:\\Users\\woojin\\Documents\\github\\finance\\reinforcement_learning\\deep_reinforcement_learning_handson\\ch6\\dqn_pong.ipynb Cell 11\u001b[0m line \u001b[0;36m8\n\u001b[0;32m      <a href='vscode-notebook-cell:/c%3A/Users/woojin/Documents/github/finance/reinforcement_learning/deep_reinforcement_learning_handson/ch6/dqn_pong.ipynb#X13sZmlsZQ%3D%3D?line=6'>7</a>\u001b[0m \u001b[39mdef\u001b[39;00m \u001b[39m_reset\u001b[39m(\u001b[39mself\u001b[39m):\n\u001b[1;32m----> <a href='vscode-notebook-cell:/c%3A/Users/woojin/Documents/github/finance/reinforcement_learning/deep_reinforcement_learning_handson/ch6/dqn_pong.ipynb#X13sZmlsZQ%3D%3D?line=7'>8</a>\u001b[0m     \u001b[39mself\u001b[39m\u001b[39m.\u001b[39mstate \u001b[39m=\u001b[39m \u001b[39mself\u001b[39;49m\u001b[39m.\u001b[39;49menv\u001b[39m.\u001b[39;49mreset()\n\u001b[0;32m      <a href='vscode-notebook-cell:/c%3A/Users/woojin/Documents/github/finance/reinforcement_learning/deep_reinforcement_learning_handson/ch6/dqn_pong.ipynb#X13sZmlsZQ%3D%3D?line=8'>9</a>\u001b[0m     \u001b[39mself\u001b[39m\u001b[39m.\u001b[39mtotal_reward \u001b[39m=\u001b[39m \u001b[39m0.0\u001b[39m\n",
      "File \u001b[1;32mc:\\Users\\woojin\\anaconda3\\envs\\network\\lib\\site-packages\\gym\\core.py:379\u001b[0m, in \u001b[0;36mObservationWrapper.reset\u001b[1;34m(self, **kwargs)\u001b[0m\n\u001b[0;32m    377\u001b[0m \u001b[39mdef\u001b[39;00m \u001b[39mreset\u001b[39m(\u001b[39mself\u001b[39m, \u001b[39m*\u001b[39m\u001b[39m*\u001b[39mkwargs):\n\u001b[0;32m    378\u001b[0m \u001b[39m    \u001b[39m\u001b[39m\"\"\"Resets the environment, returning a modified observation using :meth:`self.observation`.\"\"\"\u001b[39;00m\n\u001b[1;32m--> 379\u001b[0m     obs, info \u001b[39m=\u001b[39m \u001b[39mself\u001b[39;49m\u001b[39m.\u001b[39;49menv\u001b[39m.\u001b[39;49mreset(\u001b[39m*\u001b[39;49m\u001b[39m*\u001b[39;49mkwargs)\n\u001b[0;32m    380\u001b[0m     \u001b[39mreturn\u001b[39;00m \u001b[39mself\u001b[39m\u001b[39m.\u001b[39mobservation(obs), info\n",
      "File \u001b[1;32mc:\\Users\\woojin\\Documents\\github\\finance\\reinforcement_learning\\deep_reinforcement_learning_handson\\ch6\\lib\\wrappers.py:115\u001b[0m, in \u001b[0;36mBufferWrapper.reset\u001b[1;34m(self)\u001b[0m\n\u001b[0;32m    111\u001b[0m \u001b[39mdef\u001b[39;00m \u001b[39mreset\u001b[39m(\u001b[39mself\u001b[39m):\n\u001b[0;32m    112\u001b[0m     \u001b[39mself\u001b[39m\u001b[39m.\u001b[39mbuffer \u001b[39m=\u001b[39m np\u001b[39m.\u001b[39mzeros_like(\n\u001b[0;32m    113\u001b[0m         \u001b[39mself\u001b[39m\u001b[39m.\u001b[39mobservation_space\u001b[39m.\u001b[39mlow, dtype\u001b[39m=\u001b[39m\u001b[39mself\u001b[39m\u001b[39m.\u001b[39mdtype\n\u001b[0;32m    114\u001b[0m     )\n\u001b[1;32m--> 115\u001b[0m     \u001b[39mreturn\u001b[39;00m \u001b[39mself\u001b[39m\u001b[39m.\u001b[39mobservation(\u001b[39mself\u001b[39;49m\u001b[39m.\u001b[39;49menv\u001b[39m.\u001b[39;49mreset())\n",
      "File \u001b[1;32mc:\\Users\\woojin\\anaconda3\\envs\\network\\lib\\site-packages\\gym\\core.py:379\u001b[0m, in \u001b[0;36mObservationWrapper.reset\u001b[1;34m(self, **kwargs)\u001b[0m\n\u001b[0;32m    377\u001b[0m \u001b[39mdef\u001b[39;00m \u001b[39mreset\u001b[39m(\u001b[39mself\u001b[39m, \u001b[39m*\u001b[39m\u001b[39m*\u001b[39mkwargs):\n\u001b[0;32m    378\u001b[0m \u001b[39m    \u001b[39m\u001b[39m\"\"\"Resets the environment, returning a modified observation using :meth:`self.observation`.\"\"\"\u001b[39;00m\n\u001b[1;32m--> 379\u001b[0m     obs, info \u001b[39m=\u001b[39m \u001b[39mself\u001b[39;49m\u001b[39m.\u001b[39;49menv\u001b[39m.\u001b[39;49mreset(\u001b[39m*\u001b[39;49m\u001b[39m*\u001b[39;49mkwargs)\n\u001b[0;32m    380\u001b[0m     \u001b[39mreturn\u001b[39;00m \u001b[39mself\u001b[39m\u001b[39m.\u001b[39mobservation(obs), info\n",
      "File \u001b[1;32mc:\\Users\\woojin\\anaconda3\\envs\\network\\lib\\site-packages\\gym\\core.py:380\u001b[0m, in \u001b[0;36mObservationWrapper.reset\u001b[1;34m(self, **kwargs)\u001b[0m\n\u001b[0;32m    378\u001b[0m \u001b[39m\u001b[39m\u001b[39m\"\"\"Resets the environment, returning a modified observation using :meth:`self.observation`.\"\"\"\u001b[39;00m\n\u001b[0;32m    379\u001b[0m obs, info \u001b[39m=\u001b[39m \u001b[39mself\u001b[39m\u001b[39m.\u001b[39menv\u001b[39m.\u001b[39mreset(\u001b[39m*\u001b[39m\u001b[39m*\u001b[39mkwargs)\n\u001b[1;32m--> 380\u001b[0m \u001b[39mreturn\u001b[39;00m \u001b[39mself\u001b[39;49m\u001b[39m.\u001b[39;49mobservation(obs), info\n",
      "File \u001b[1;32mc:\\Users\\woojin\\anaconda3\\envs\\network\\lib\\site-packages\\gym\\core.py:389\u001b[0m, in \u001b[0;36mObservationWrapper.observation\u001b[1;34m(self, observation)\u001b[0m\n\u001b[0;32m    387\u001b[0m \u001b[39mdef\u001b[39;00m \u001b[39mobservation\u001b[39m(\u001b[39mself\u001b[39m, observation):\n\u001b[0;32m    388\u001b[0m \u001b[39m    \u001b[39m\u001b[39m\"\"\"Returns a modified observation.\"\"\"\u001b[39;00m\n\u001b[1;32m--> 389\u001b[0m     \u001b[39mraise\u001b[39;00m \u001b[39mNotImplementedError\u001b[39;00m\n",
      "\u001b[1;31mNotImplementedError\u001b[0m: "
     ]
    }
   ],
   "source": [
    "parser = argparse.ArgumentParser()\n",
    "parser.add_argument(\"--cuda\", default=False, \n",
    "                    action=\"store_true\", help=\"Enable cuda\")\n",
    "parser.add_argument(\"--env\", default=DEFAULT_ENV_NAME,\n",
    "                    help=\"Name of the environment, default=\" + DEFAULT_ENV_NAME)\n",
    "args = parser.parse_args('')        # https://zorang2.tistory.com/26\n",
    "device = torch.device(\"cuda\" if torch.cuda.is_available() else \"cpu\")\n",
    "print(device)\n",
    "\n",
    "env = wrappers.make_env(args.env)\n",
    "\n",
    "net = dqn_model.DQN(env.observation_space.shape,\n",
    "                    env.action_space.n).to(device)\n",
    "tgt_net = dqn_model.DQN(env.observation_space.shape,\n",
    "                        env.action_space.n).to(device)\n",
    "writer = SummaryWriter(comment='-' + args.env)\n",
    "print(net)\n",
    "\n",
    "buffer = ExperienceBuffer(REPLAY_SIZE)\n",
    "agent = Agent(env, buffer)\n",
    "epsilon = EPSILON_FINAL\n",
    "\n",
    "optimizer = optim.Adam(net.parameters(), lr=LEARNING_RATE)\n",
    "total_rewards = []\n",
    "frame_idx = 0\n",
    "ts_frame = 0\n",
    "ts = time.time()\n",
    "best_m_reward = None\n",
    "\n",
    "while True:\n",
    "    frame_idx += 1\n",
    "    epsilon = max(EPSILON_FINAL, EPSILON_START - frame_idx / EPSILON_DECAY_LAST_FRAME)\n",
    "    reward = agent.play_step(net, epsilon, device=device)\n",
    "    if reward is not None:\n",
    "        total_rewards.append(reward)\n",
    "        speed = (frame_idx - ts_frame) / (time.time() - ts)\n",
    "        ts_frame = frame_idx\n",
    "        ts = time.time()\n",
    "        m_reward = np.mean(total_rewards[-100:])\n",
    "        print(\"%d: done %d games, reward %.3f, \"\n",
    "              \"eps %.2f, speed %.2f f/s\" \n",
    "              % (frame_idx, len(total_rewards), m_reward, epsilon, speed))\n",
    "        writer.add_scalar(\"epsilon\", epsilon, frame_idx)\n",
    "        writer.add_scalar(\"speed\", speed, frame_idx)\n",
    "        writer.add_scalar(\"reward_100\", m_reward, frame_idx)\n",
    "        writer.add_scalar(\"reward\", reward, frame_idx)\n",
    "        if best_m_reward is None or best_m_reward < m_reward:\n",
    "            torch.save(net.state_dict(), args.env + \"-best_%.0f.dat\" % m_reward)\n",
    "            \n",
    "            if best_m_reward is not None:\n",
    "                print(\"Best reward updated %.3f -> %.3f\" \n",
    "                      % (best_m_reward, m_reward))\n",
    "                \n",
    "            best_m_reward = m_reward\n",
    "            \n",
    "        if m_reward > MEAN_REWARD_BOUND:\n",
    "            print(\"Solved in %d frames!\" % frame_idx)\n",
    "            break\n",
    "        \n",
    "    if len(buffer) < REPLAY_START_SIZE:\n",
    "        continue\n",
    "    \n",
    "    if frame_idx % SYNC_TARGET_FRAMES == 0:\n",
    "        tgt_net.load_state_dict(net.state_dict())\n",
    "        \n",
    "    optimizer.zero_grad()\n",
    "    batch = buffer.sample(BATCH_SIZE)\n",
    "    loss_t = calc_loss(batch, net, tgt_net, device=device)\n",
    "    loss_t.backward()\n",
    "    optimizer.step()\n",
    "writer.close()"
   ]
  }
 ],
 "metadata": {
  "kernelspec": {
   "display_name": "network",
   "language": "python",
   "name": "python3"
  },
  "language_info": {
   "codemirror_mode": {
    "name": "ipython",
    "version": 3
   },
   "file_extension": ".py",
   "mimetype": "text/x-python",
   "name": "python",
   "nbconvert_exporter": "python",
   "pygments_lexer": "ipython3",
   "version": "3.8.18"
  }
 },
 "nbformat": 4,
 "nbformat_minor": 2
}
