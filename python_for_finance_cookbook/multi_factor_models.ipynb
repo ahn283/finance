{
 "cells": [
  {
   "attachments": {},
   "cell_type": "markdown",
   "metadata": {},
   "source": [
    "# Estimating the CAPM"
   ]
  },
  {
   "attachments": {},
   "cell_type": "markdown",
   "metadata": {},
   "source": [
    "## How to do it"
   ]
  },
  {
   "attachments": {},
   "cell_type": "markdown",
   "metadata": {},
   "source": [
    "### 1. Import the libraries"
   ]
  },
  {
   "cell_type": "code",
   "execution_count": 15,
   "metadata": {},
   "outputs": [],
   "source": [
    "import numpy as np\n",
    "import yfinance as yf\n",
    "import statsmodels.api as sm\n",
    "\n",
    "import matplotlib.pyplot as plt\n",
    "import seaborn as sns"
   ]
  },
  {
   "attachments": {},
   "cell_type": "markdown",
   "metadata": {},
   "source": [
    "### 2. Specify the risky asset, the benchmark, and the time horizon."
   ]
  },
  {
   "cell_type": "code",
   "execution_count": 2,
   "metadata": {},
   "outputs": [],
   "source": [
    "RISKY_ASSET = 'AMZN'\n",
    "MARKET_BENCHMARK = '^GSPC'\n",
    "START_DATE = '2016-01-01'\n",
    "END_DATE = '2020-12-31'"
   ]
  },
  {
   "attachments": {},
   "cell_type": "markdown",
   "metadata": {},
   "source": [
    "### 3. Download the necessary data from Yahoo Finance."
   ]
  },
  {
   "cell_type": "code",
   "execution_count": 4,
   "metadata": {},
   "outputs": [],
   "source": [
    "df = yf.download(\n",
    "    tickers=[RISKY_ASSET, MARKET_BENCHMARK],\n",
    "    start=START_DATE,\n",
    "    end=END_DATE,\n",
    "    # adjusted=True,\n",
    "    progress=False\n",
    ")"
   ]
  },
  {
   "attachments": {},
   "cell_type": "markdown",
   "metadata": {},
   "source": [
    "### 4. Resample to monthly data and calculate the simple returns."
   ]
  },
  {
   "cell_type": "code",
   "execution_count": 6,
   "metadata": {},
   "outputs": [],
   "source": [
    "X = (\n",
    "    df['Adj Close']\n",
    "    .rename(columns={RISKY_ASSET: 'asset', MARKET_BENCHMARK: 'market'})\n",
    "    .resample('M')\n",
    "    .last()\n",
    "    .pct_change()\n",
    "    .dropna()\n",
    ")"
   ]
  },
  {
   "attachments": {},
   "cell_type": "markdown",
   "metadata": {},
   "source": [
    "### 5. Calculate beta using the covariance approach"
   ]
  },
  {
   "cell_type": "code",
   "execution_count": 11,
   "metadata": {},
   "outputs": [
    {
     "name": "stdout",
     "output_type": "stream",
     "text": [
      "beta = 1.1537\n"
     ]
    }
   ],
   "source": [
    "covariance = X.cov().iloc[0, 1]\n",
    "benchmark_variance = X.market.var()\n",
    "beta = covariance / benchmark_variance\n",
    "print(f'beta = {beta:.4f}')"
   ]
  },
  {
   "attachments": {},
   "cell_type": "markdown",
   "metadata": {},
   "source": [
    "### 6. Prepare the input and estimate the CAPM as a linear regression"
   ]
  },
  {
   "cell_type": "code",
   "execution_count": 12,
   "metadata": {},
   "outputs": [
    {
     "name": "stdout",
     "output_type": "stream",
     "text": [
      "                            OLS Regression Results                            \n",
      "==============================================================================\n",
      "Dep. Variable:                  asset   R-squared:                       0.388\n",
      "Model:                            OLS   Adj. R-squared:                  0.377\n",
      "Method:                 Least Squares   F-statistic:                     36.15\n",
      "Date:                Wed, 19 Jul 2023   Prob (F-statistic):           1.37e-07\n",
      "Time:                        01:12:36   Log-Likelihood:                 79.803\n",
      "No. Observations:                  59   AIC:                            -155.6\n",
      "Df Residuals:                      57   BIC:                            -151.5\n",
      "Df Model:                           1                                         \n",
      "Covariance Type:            nonrobust                                         \n",
      "==============================================================================\n",
      "                 coef    std err          t      P>|t|      [0.025      0.975]\n",
      "------------------------------------------------------------------------------\n",
      "const          0.0188      0.009      2.182      0.033       0.002       0.036\n",
      "market         1.1537      0.192      6.013      0.000       0.769       1.538\n",
      "==============================================================================\n",
      "Omnibus:                        1.962   Durbin-Watson:                   1.856\n",
      "Prob(Omnibus):                  0.375   Jarque-Bera (JB):                1.590\n",
      "Skew:                           0.402   Prob(JB):                        0.451\n",
      "Kurtosis:                       2.986   Cond. No.                         23.2\n",
      "==============================================================================\n",
      "\n",
      "Notes:\n",
      "[1] Standard Errors assume that the covariance matrix of the errors is correctly specified.\n"
     ]
    }
   ],
   "source": [
    "# separate target\n",
    "y = X.pop('asset')\n",
    "\n",
    "# add constant\n",
    "X = sm.add_constant(X)\n",
    "\n",
    "# define and fit the regression model\n",
    "capm_model = sm.OLS(y, X).fit()\n",
    "\n",
    "# print reuslts\n",
    "print(capm_model.summary())"
   ]
  },
  {
   "cell_type": "code",
   "execution_count": 14,
   "metadata": {},
   "outputs": [
    {
     "name": "stdout",
     "output_type": "stream",
     "text": [
      "                            OLS Regression Results                            \n",
      "==============================================================================\n",
      "Dep. Variable:                  asset   R-squared:                       0.388\n",
      "Model:                            OLS   Adj. R-squared:                  0.377\n",
      "Method:                 Least Squares   F-statistic:                     36.15\n",
      "Date:                Wed, 19 Jul 2023   Prob (F-statistic):           1.37e-07\n",
      "Time:                        01:15:13   Log-Likelihood:                 79.803\n",
      "No. Observations:                  59   AIC:                            -155.6\n",
      "Df Residuals:                      57   BIC:                            -151.5\n",
      "Df Model:                           1                                         \n",
      "Covariance Type:            nonrobust                                         \n",
      "==============================================================================\n",
      "                 coef    std err          t      P>|t|      [0.025      0.975]\n",
      "------------------------------------------------------------------------------\n",
      "Intercept      0.0188      0.009      2.182      0.033       0.002       0.036\n",
      "market         1.1537      0.192      6.013      0.000       0.769       1.538\n",
      "==============================================================================\n",
      "Omnibus:                        1.962   Durbin-Watson:                   1.856\n",
      "Prob(Omnibus):                  0.375   Jarque-Bera (JB):                1.590\n",
      "Skew:                           0.402   Prob(JB):                        0.451\n",
      "Kurtosis:                       2.986   Cond. No.                         23.2\n",
      "==============================================================================\n",
      "\n",
      "Notes:\n",
      "[1] Standard Errors assume that the covariance matrix of the errors is correctly specified.\n"
     ]
    }
   ],
   "source": [
    "# Or, using the formula notation\n",
    "\n",
    "import statsmodels.formula.api as smf\n",
    "\n",
    "# return step 4 to have a DF with columns : 'asset' and 'market'\n",
    "X = df['Adj Close'].rename(columns={RISKY_ASSET: 'asset', MARKET_BENCHMARK: 'market'}).resample('M').last().pct_change().dropna()\n",
    "\n",
    "# define and fit the regression model\n",
    "capm_model = smf.ols(formula='asset ~ market', data=X).fit()\n",
    "\n",
    "# print results\n",
    "print(capm_model.summary())"
   ]
  },
  {
   "attachments": {},
   "cell_type": "markdown",
   "metadata": {},
   "source": [
    "### Using the 13-Week T-bill"
   ]
  },
  {
   "cell_type": "code",
   "execution_count": 17,
   "metadata": {},
   "outputs": [
    {
     "data": {
      "image/png": "[encoded data removed]",
      "text/plain": [
       "<Figure size 640x480 with 1 Axes>"
      ]
     },
     "metadata": {},
     "output_type": "display_data"
    }
   ],
   "source": [
    "# period length in days\n",
    "N_DAYS = 90    # 13 weeks = 3 months\n",
    "\n",
    "# download data from Yahoo Finance\n",
    "df_rf = yf.download(\"^IRX\",\n",
    "                    start=START_DATE,\n",
    "                    end=END_DATE,\n",
    "                    progress=False)\n",
    "\n",
    "# resample to monthly frequency by taking the last value of each month\n",
    "rf = df_rf.resample('M').last().Close / 100\n",
    "\n",
    "# calculate the corresponding daily risk-free rate\n",
    "rf = (1 / (1 - rf * N_DAYS / 360)) ** (1 / N_DAYS)\n",
    "\n",
    "# conver to monthly and substract 1\n",
    "rt = (rf ** 30) - 1\n",
    "\n",
    "# plot the risk-free rate\n",
    "rf.plot(title='Risk-free rate (13 Week Treasury Bill)')\n",
    "\n",
    "sns.despine()\n",
    "plt.tight_layout()\n"
   ]
  },
  {
   "attachments": {},
   "cell_type": "markdown",
   "metadata": {},
   "source": [
    "### Using the 3-month T-bill from the FRED database"
   ]
  },
  {
   "cell_type": "code",
   "execution_count": 20,
   "metadata": {},
   "outputs": [
    {
     "data": {
      "image/png": "[encoded data removed]",
      "text/plain": [
       "<Figure size 640x480 with 1 Axes>"
      ]
     },
     "metadata": {},
     "output_type": "display_data"
    }
   ],
   "source": [
    "import pandas_datareader.data as web\n",
    "\n",
    "# download the data\n",
    "rf = web.DataReader(\n",
    "    \"TB3MS\", \"fred\", start=START_DATE, end=END_DATE\n",
    ")\n",
    "\n",
    "# convert to monthly\n",
    "rf = (1 + (rf / 100)) ** (1 / 12) - 1\n",
    "\n",
    "# plot the risk-free rate\n",
    "rf.plot(title='Risk-free rate (3-Month Treasury Bill)')\n",
    "\n",
    "sns.despine()\n",
    "plt.tight_layout()"
   ]
  },
  {
   "attachments": {},
   "cell_type": "markdown",
   "metadata": {},
   "source": [
    "# Estimating the Fama-French three-factor model"
   ]
  },
  {
   "attachments": {},
   "cell_type": "markdown",
   "metadata": {},
   "source": [
    "## How to do it"
   ]
  },
  {
   "attachments": {},
   "cell_type": "markdown",
   "metadata": {},
   "source": [
    "### 1. Import the libraries"
   ]
  },
  {
   "cell_type": "code",
   "execution_count": 21,
   "metadata": {},
   "outputs": [],
   "source": [
    "import pandas as pd\n",
    "import yfinance as yf\n",
    "import statsmodels.formula.api as smf\n",
    "import pandas_datareader.data as web"
   ]
  },
  {
   "attachments": {},
   "cell_type": "markdown",
   "metadata": {},
   "source": [
    "### 2. Define parameters"
   ]
  },
  {
   "cell_type": "code",
   "execution_count": 22,
   "metadata": {},
   "outputs": [],
   "source": [
    "RISKY_ASSET = 'AAPL'\n",
    "START_DATE = '2016-01-01'\n",
    "END_DATE = '2020-12-31'"
   ]
  },
  {
   "attachments": {},
   "cell_type": "markdown",
   "metadata": {},
   "source": [
    "### 3. Download the dataset containing the risk factors"
   ]
  },
  {
   "cell_type": "code",
   "execution_count": 23,
   "metadata": {},
   "outputs": [],
   "source": [
    "ff_dict = web.DataReader('F-F_Research_Data_Factors', 'famafrench', start=START_DATE, end=END_DATE)"
   ]
  },
  {
   "cell_type": "code",
   "execution_count": 24,
   "metadata": {},
   "outputs": [
    {
     "data": {
      "text/plain": [
       "dict_keys([0, 1, 'DESCR'])"
      ]
     },
     "execution_count": 24,
     "metadata": {},
     "output_type": "execute_result"
    }
   ],
   "source": [
    "ff_dict.keys()"
   ]
  },
  {
   "cell_type": "code",
   "execution_count": 25,
   "metadata": {},
   "outputs": [
    {
     "name": "stdout",
     "output_type": "stream",
     "text": [
      "F-F Research Data Factors\n",
      "-------------------------\n",
      "\n",
      "This file was created by CMPT_ME_BEME_RETS using the 202305 CRSP database. The 1-month TBill return is from Ibbotson and Associates, Inc. Copyright 2023 Kenneth R. French\n",
      "\n",
      "  0 : (60 rows x 4 cols)\n",
      "  1 : Annual Factors: January-December (5 rows x 4 cols)\n"
     ]
    }
   ],
   "source": [
    "print(ff_dict['DESCR'])"
   ]
  },
  {
   "attachments": {},
   "cell_type": "markdown",
   "metadata": {},
   "source": [
    "### 4. Select the appropriate dataset and divide the values by 100"
   ]
  },
  {
   "cell_type": "code",
   "execution_count": 26,
   "metadata": {},
   "outputs": [
    {
     "data": {
      "text/html": [
       "<div>\n",
       "<style scoped>\n",
       "    .dataframe tbody tr th:only-of-type {\n",
       "        vertical-align: middle;\n",
       "    }\n",
       "\n",
       "    .dataframe tbody tr th {\n",
       "        vertical-align: top;\n",
       "    }\n",
       "\n",
       "    .dataframe thead th {\n",
       "        text-align: right;\n",
       "    }\n",
       "</style>\n",
       "<table border=\"1\" class=\"dataframe\">\n",
       "  <thead>\n",
       "    <tr style=\"text-align: right;\">\n",
       "      <th></th>\n",
       "      <th>MKT</th>\n",
       "      <th>SMB</th>\n",
       "      <th>HML</th>\n",
       "      <th>RF</th>\n",
       "    </tr>\n",
       "    <tr>\n",
       "      <th>Date</th>\n",
       "      <th></th>\n",
       "      <th></th>\n",
       "      <th></th>\n",
       "      <th></th>\n",
       "    </tr>\n",
       "  </thead>\n",
       "  <tbody>\n",
       "    <tr>\n",
       "      <th>2016-01</th>\n",
       "      <td>-0.0577</td>\n",
       "      <td>-0.0343</td>\n",
       "      <td>0.0209</td>\n",
       "      <td>0.0001</td>\n",
       "    </tr>\n",
       "    <tr>\n",
       "      <th>2016-02</th>\n",
       "      <td>-0.0007</td>\n",
       "      <td>0.0071</td>\n",
       "      <td>-0.0057</td>\n",
       "      <td>0.0002</td>\n",
       "    </tr>\n",
       "    <tr>\n",
       "      <th>2016-03</th>\n",
       "      <td>0.0696</td>\n",
       "      <td>0.0082</td>\n",
       "      <td>0.0119</td>\n",
       "      <td>0.0002</td>\n",
       "    </tr>\n",
       "    <tr>\n",
       "      <th>2016-04</th>\n",
       "      <td>0.0091</td>\n",
       "      <td>0.0074</td>\n",
       "      <td>0.0328</td>\n",
       "      <td>0.0001</td>\n",
       "    </tr>\n",
       "    <tr>\n",
       "      <th>2016-05</th>\n",
       "      <td>0.0178</td>\n",
       "      <td>-0.0018</td>\n",
       "      <td>-0.0166</td>\n",
       "      <td>0.0001</td>\n",
       "    </tr>\n",
       "  </tbody>\n",
       "</table>\n",
       "</div>"
      ],
      "text/plain": [
       "            MKT     SMB     HML      RF\n",
       "Date                                   \n",
       "2016-01 -0.0577 -0.0343  0.0209  0.0001\n",
       "2016-02 -0.0007  0.0071 -0.0057  0.0002\n",
       "2016-03  0.0696  0.0082  0.0119  0.0002\n",
       "2016-04  0.0091  0.0074  0.0328  0.0001\n",
       "2016-05  0.0178 -0.0018 -0.0166  0.0001"
      ]
     },
     "execution_count": 26,
     "metadata": {},
     "output_type": "execute_result"
    }
   ],
   "source": [
    "factors_3_df = ff_dict[0].rename(columns={'Mkt-RF': 'MKT'}).div(100)\n",
    "factors_3_df.head()"
   ]
  },
  {
   "attachments": {},
   "cell_type": "markdown",
   "metadata": {},
   "source": [
    "### 5. Download the prices the risky asset"
   ]
  },
  {
   "cell_type": "code",
   "execution_count": 27,
   "metadata": {},
   "outputs": [],
   "source": [
    "asset_df = yf.download(RISKY_ASSET, start=START_DATE, end=END_DATE, progress=False)"
   ]
  },
  {
   "attachments": {},
   "cell_type": "markdown",
   "metadata": {},
   "source": [
    "### 6. Calculate the monthly returns on the risky asset"
   ]
  },
  {
   "cell_type": "code",
   "execution_count": 29,
   "metadata": {},
   "outputs": [
    {
     "data": {
      "text/plain": [
       "Date\n",
       "2016-02   -0.001287\n",
       "2016-03    0.127211\n",
       "2016-04   -0.139921\n",
       "2016-05    0.071773\n",
       "2016-06   -0.042660\n",
       "2016-07    0.090063\n",
       "2016-08    0.023652\n",
       "2016-09    0.065504\n",
       "2016-10    0.004334\n",
       "2016-11   -0.021601\n",
       "2016-12    0.047955\n",
       "2017-01    0.047746\n",
       "2017-02    0.133778\n",
       "2017-03    0.048690\n",
       "2017-04   -0.000070\n",
       "2017-05    0.067807\n",
       "2017-06   -0.057214\n",
       "2017-07    0.032704\n",
       "2017-08    0.106999\n",
       "2017-09   -0.060244\n",
       "2017-10    0.096808\n",
       "2017-11    0.020278\n",
       "2017-12   -0.015246\n",
       "2018-01   -0.010637\n",
       "2018-02    0.068185\n",
       "2018-03   -0.058051\n",
       "2018-04   -0.015020\n",
       "2018-05    0.135124\n",
       "2018-06   -0.009418\n",
       "2018-07    0.027983\n",
       "2018-08    0.200422\n",
       "2018-09   -0.008303\n",
       "2018-10   -0.030478\n",
       "2018-11   -0.181198\n",
       "2018-12   -0.116698\n",
       "2019-01    0.055154\n",
       "2019-02    0.044777\n",
       "2019-03    0.097026\n",
       "2019-04    0.056436\n",
       "2019-05   -0.124213\n",
       "2019-06    0.130519\n",
       "2019-07    0.076395\n",
       "2019-08   -0.016461\n",
       "2019-09    0.072961\n",
       "2019-10    0.110685\n",
       "2019-11    0.077554\n",
       "2019-12    0.098784\n",
       "2020-01    0.054010\n",
       "2020-02   -0.114701\n",
       "2020-03   -0.069762\n",
       "2020-04    0.155374\n",
       "2020-05    0.085094\n",
       "2020-06    0.147386\n",
       "2020-07    0.165131\n",
       "2020-08    0.216569\n",
       "2020-09   -0.102526\n",
       "2020-10   -0.060012\n",
       "2020-11    0.095493\n",
       "2020-12    0.123226\n",
       "Freq: M, Name: rtn, dtype: float64"
      ]
     },
     "execution_count": 29,
     "metadata": {},
     "output_type": "execute_result"
    }
   ],
   "source": [
    "y = asset_df['Adj Close'].resample('M').last().pct_change().dropna()\n",
    "y.index = y.index.to_period('m')\n",
    "y.name = 'rtn'\n",
    "y"
   ]
  },
  {
   "attachments": {},
   "cell_type": "markdown",
   "metadata": {},
   "source": [
    "### 7. Merge the datasets and calculate the excess returns"
   ]
  },
  {
   "cell_type": "code",
   "execution_count": 30,
   "metadata": {},
   "outputs": [
    {
     "data": {
      "text/html": [
       "<div>\n",
       "<style scoped>\n",
       "    .dataframe tbody tr th:only-of-type {\n",
       "        vertical-align: middle;\n",
       "    }\n",
       "\n",
       "    .dataframe tbody tr th {\n",
       "        vertical-align: top;\n",
       "    }\n",
       "\n",
       "    .dataframe thead th {\n",
       "        text-align: right;\n",
       "    }\n",
       "</style>\n",
       "<table border=\"1\" class=\"dataframe\">\n",
       "  <thead>\n",
       "    <tr style=\"text-align: right;\">\n",
       "      <th></th>\n",
       "      <th>MKT</th>\n",
       "      <th>SMB</th>\n",
       "      <th>HML</th>\n",
       "      <th>RF</th>\n",
       "      <th>rtn</th>\n",
       "      <th>ecxess_rtn</th>\n",
       "    </tr>\n",
       "    <tr>\n",
       "      <th>Date</th>\n",
       "      <th></th>\n",
       "      <th></th>\n",
       "      <th></th>\n",
       "      <th></th>\n",
       "      <th></th>\n",
       "      <th></th>\n",
       "    </tr>\n",
       "  </thead>\n",
       "  <tbody>\n",
       "    <tr>\n",
       "      <th>2016-01</th>\n",
       "      <td>-0.0577</td>\n",
       "      <td>-0.0343</td>\n",
       "      <td>0.0209</td>\n",
       "      <td>0.0001</td>\n",
       "      <td>NaN</td>\n",
       "      <td>NaN</td>\n",
       "    </tr>\n",
       "    <tr>\n",
       "      <th>2016-02</th>\n",
       "      <td>-0.0007</td>\n",
       "      <td>0.0071</td>\n",
       "      <td>-0.0057</td>\n",
       "      <td>0.0002</td>\n",
       "      <td>-0.001287</td>\n",
       "      <td>-0.001487</td>\n",
       "    </tr>\n",
       "    <tr>\n",
       "      <th>2016-03</th>\n",
       "      <td>0.0696</td>\n",
       "      <td>0.0082</td>\n",
       "      <td>0.0119</td>\n",
       "      <td>0.0002</td>\n",
       "      <td>0.127211</td>\n",
       "      <td>0.127011</td>\n",
       "    </tr>\n",
       "    <tr>\n",
       "      <th>2016-04</th>\n",
       "      <td>0.0091</td>\n",
       "      <td>0.0074</td>\n",
       "      <td>0.0328</td>\n",
       "      <td>0.0001</td>\n",
       "      <td>-0.139921</td>\n",
       "      <td>-0.140021</td>\n",
       "    </tr>\n",
       "    <tr>\n",
       "      <th>2016-05</th>\n",
       "      <td>0.0178</td>\n",
       "      <td>-0.0018</td>\n",
       "      <td>-0.0166</td>\n",
       "      <td>0.0001</td>\n",
       "      <td>0.071773</td>\n",
       "      <td>0.071673</td>\n",
       "    </tr>\n",
       "  </tbody>\n",
       "</table>\n",
       "</div>"
      ],
      "text/plain": [
       "            MKT     SMB     HML      RF       rtn  ecxess_rtn\n",
       "Date                                                         \n",
       "2016-01 -0.0577 -0.0343  0.0209  0.0001       NaN         NaN\n",
       "2016-02 -0.0007  0.0071 -0.0057  0.0002 -0.001287   -0.001487\n",
       "2016-03  0.0696  0.0082  0.0119  0.0002  0.127211    0.127011\n",
       "2016-04  0.0091  0.0074  0.0328  0.0001 -0.139921   -0.140021\n",
       "2016-05  0.0178 -0.0018 -0.0166  0.0001  0.071773    0.071673"
      ]
     },
     "execution_count": 30,
     "metadata": {},
     "output_type": "execute_result"
    }
   ],
   "source": [
    "factors_3_df = factors_3_df.join(y)\n",
    "factors_3_df['ecxess_rtn'] = (\n",
    "    factors_3_df['rtn'] - factors_3_df['RF']\n",
    ")\n",
    "factors_3_df.head()"
   ]
  },
  {
   "attachments": {},
   "cell_type": "markdown",
   "metadata": {},
   "source": [
    "### 8. Estimate the three-factor model"
   ]
  },
  {
   "cell_type": "code",
   "execution_count": 31,
   "metadata": {},
   "outputs": [
    {
     "name": "stdout",
     "output_type": "stream",
     "text": [
      "                            OLS Regression Results                            \n",
      "==============================================================================\n",
      "Dep. Variable:             ecxess_rtn   R-squared:                       0.493\n",
      "Model:                            OLS   Adj. R-squared:                  0.465\n",
      "Method:                 Least Squares   F-statistic:                     17.83\n",
      "Date:                Wed, 19 Jul 2023   Prob (F-statistic):           3.31e-08\n",
      "Time:                        22:46:39   Log-Likelihood:                 80.949\n",
      "No. Observations:                  59   AIC:                            -153.9\n",
      "Df Residuals:                      55   BIC:                            -145.6\n",
      "Df Model:                           3                                         \n",
      "Covariance Type:            nonrobust                                         \n",
      "==============================================================================\n",
      "                 coef    std err          t      P>|t|      [0.025      0.975]\n",
      "------------------------------------------------------------------------------\n",
      "Intercept      0.0085      0.009      0.933      0.355      -0.010       0.027\n",
      "MKT            1.4273      0.202      7.081      0.000       1.023       1.831\n",
      "SMB           -0.4681      0.364     -1.286      0.204      -1.198       0.261\n",
      "HML           -0.7245      0.267     -2.711      0.009      -1.260      -0.189\n",
      "==============================================================================\n",
      "Omnibus:                        8.353   Durbin-Watson:                   2.457\n",
      "Prob(Omnibus):                  0.015   Jarque-Bera (JB):                8.410\n",
      "Skew:                          -0.652   Prob(JB):                       0.0149\n",
      "Kurtosis:                       4.311   Cond. No.                         45.8\n",
      "==============================================================================\n",
      "\n",
      "Notes:\n",
      "[1] Standard Errors assume that the covariance matrix of the errors is correctly specified.\n"
     ]
    }
   ],
   "source": [
    "ff_model = smf.ols(formula='ecxess_rtn ~ MKT + SMB + HML', data=factors_3_df).fit()\n",
    "print(ff_model.summary())"
   ]
  },
  {
   "attachments": {},
   "cell_type": "markdown",
   "metadata": {},
   "source": [
    "## There's more"
   ]
  },
  {
   "cell_type": "code",
   "execution_count": 32,
   "metadata": {},
   "outputs": [
    {
     "data": {
      "text/plain": [
       "['F-F_Research_Data_Factors',\n",
       " 'F-F_Research_Data_Factors_weekly',\n",
       " 'F-F_Research_Data_Factors_daily',\n",
       " 'F-F_Research_Data_5_Factors_2x3',\n",
       " 'F-F_Research_Data_5_Factors_2x3_daily']"
      ]
     },
     "execution_count": 32,
     "metadata": {},
     "output_type": "execute_result"
    }
   ],
   "source": [
    "from pandas_datareader.famafrench import get_available_datasets\n",
    "get_available_datasets()[:5]"
   ]
  },
  {
   "attachments": {},
   "cell_type": "markdown",
   "metadata": {},
   "source": [
    "# Estimating the folling three-factor model on a porfolo of asset"
   ]
  },
  {
   "attachments": {},
   "cell_type": "markdown",
   "metadata": {},
   "source": [
    "## How to do it"
   ]
  },
  {
   "attachments": {},
   "cell_type": "markdown",
   "metadata": {},
   "source": [
    "### 1. Import the libraries"
   ]
  },
  {
   "cell_type": "code",
   "execution_count": 33,
   "metadata": {},
   "outputs": [],
   "source": [
    "import pandas as pd\n",
    "import numpy as np\n",
    "import yfinance as yf\n",
    "import statsmodels.formula.api as smf\n",
    "import pandas_datareader.data as web"
   ]
  },
  {
   "attachments": {},
   "cell_type": "markdown",
   "metadata": {},
   "source": [
    "### 2. Define the parameters"
   ]
  },
  {
   "cell_type": "code",
   "execution_count": 36,
   "metadata": {},
   "outputs": [],
   "source": [
    "ASSETS = ['AMZN', 'GOOG', 'AAPL', 'MSFT']\n",
    "WEIGHTS = [0.25, 0.25, 0.25, 0.25]\n",
    "START_DATE = '2010-01-01'\n",
    "END_DATE = '2020-12-31'"
   ]
  },
  {
   "attachments": {},
   "cell_type": "markdown",
   "metadata": {},
   "source": [
    "### 3. Download the factor related data"
   ]
  },
  {
   "cell_type": "code",
   "execution_count": 38,
   "metadata": {},
   "outputs": [],
   "source": [
    "factors_3_df = web.DataReader(\n",
    "    'F-F_Research_Data_Factors', 'famafrench', start=START_DATE, end=END_DATE\n",
    ")[0]\n",
    "factors_3_df = factors_3_df.div(100)"
   ]
  },
  {
   "attachments": {},
   "cell_type": "markdown",
   "metadata": {},
   "source": [
    "### 4. Download the prices of risky assets from Yahoo Finance"
   ]
  },
  {
   "cell_type": "code",
   "execution_count": 39,
   "metadata": {},
   "outputs": [
    {
     "name": "stdout",
     "output_type": "stream",
     "text": [
      "Downloaded 2768 rows of data.\n"
     ]
    }
   ],
   "source": [
    "asset_df = yf.download(ASSETS, start=START_DATE, end=END_DATE, progress=False)\n",
    "\n",
    "print(f\"Downloaded {asset_df.shape[0]} rows of data.\")"
   ]
  },
  {
   "attachments": {},
   "cell_type": "markdown",
   "metadata": {},
   "source": [
    "### 5. Calculate the monthly returns on the risky assets"
   ]
  },
  {
   "cell_type": "code",
   "execution_count": 40,
   "metadata": {},
   "outputs": [],
   "source": [
    "asset_df = asset_df['Adj Close'].resample('M').last().pct_change().dropna()\n",
    "\n",
    "asset_df.index = asset_df.index.to_period('m')"
   ]
  },
  {
   "attachments": {},
   "cell_type": "markdown",
   "metadata": {},
   "source": [
    "### 6. Calculate the portfolio returns"
   ]
  },
  {
   "cell_type": "code",
   "execution_count": 41,
   "metadata": {},
   "outputs": [],
   "source": [
    "asset_df['portfolio_returns'] = np.matmul(\n",
    "    asset_df[ASSETS].values, WEIGHTS\n",
    ")"
   ]
  },
  {
   "cell_type": "code",
   "execution_count": 43,
   "metadata": {},
   "outputs": [
    {
     "data": {
      "text/html": [
       "<div>\n",
       "<style scoped>\n",
       "    .dataframe tbody tr th:only-of-type {\n",
       "        vertical-align: middle;\n",
       "    }\n",
       "\n",
       "    .dataframe tbody tr th {\n",
       "        vertical-align: top;\n",
       "    }\n",
       "\n",
       "    .dataframe thead th {\n",
       "        text-align: right;\n",
       "    }\n",
       "</style>\n",
       "<table border=\"1\" class=\"dataframe\">\n",
       "  <thead>\n",
       "    <tr style=\"text-align: right;\">\n",
       "      <th></th>\n",
       "      <th>AAPL</th>\n",
       "      <th>AMZN</th>\n",
       "      <th>GOOG</th>\n",
       "      <th>MSFT</th>\n",
       "      <th>portfolio_returns</th>\n",
       "    </tr>\n",
       "    <tr>\n",
       "      <th>Date</th>\n",
       "      <th></th>\n",
       "      <th></th>\n",
       "      <th></th>\n",
       "      <th></th>\n",
       "      <th></th>\n",
       "    </tr>\n",
       "  </thead>\n",
       "  <tbody>\n",
       "    <tr>\n",
       "      <th>2010-02</th>\n",
       "      <td>0.065396</td>\n",
       "      <td>-0.055897</td>\n",
       "      <td>-0.005925</td>\n",
       "      <td>0.022146</td>\n",
       "      <td>0.006430</td>\n",
       "    </tr>\n",
       "    <tr>\n",
       "      <th>2010-03</th>\n",
       "      <td>0.148470</td>\n",
       "      <td>0.146706</td>\n",
       "      <td>0.076538</td>\n",
       "      <td>0.021626</td>\n",
       "      <td>0.098335</td>\n",
       "    </tr>\n",
       "    <tr>\n",
       "      <th>2010-04</th>\n",
       "      <td>0.111021</td>\n",
       "      <td>0.009796</td>\n",
       "      <td>-0.073036</td>\n",
       "      <td>0.042677</td>\n",
       "      <td>0.022615</td>\n",
       "    </tr>\n",
       "    <tr>\n",
       "      <th>2010-05</th>\n",
       "      <td>-0.016125</td>\n",
       "      <td>-0.084902</td>\n",
       "      <td>-0.076222</td>\n",
       "      <td>-0.151395</td>\n",
       "      <td>-0.082161</td>\n",
       "    </tr>\n",
       "    <tr>\n",
       "      <th>2010-06</th>\n",
       "      <td>-0.020827</td>\n",
       "      <td>-0.129125</td>\n",
       "      <td>-0.083768</td>\n",
       "      <td>-0.108139</td>\n",
       "      <td>-0.085465</td>\n",
       "    </tr>\n",
       "  </tbody>\n",
       "</table>\n",
       "</div>"
      ],
      "text/plain": [
       "             AAPL      AMZN      GOOG      MSFT  portfolio_returns\n",
       "Date                                                              \n",
       "2010-02  0.065396 -0.055897 -0.005925  0.022146           0.006430\n",
       "2010-03  0.148470  0.146706  0.076538  0.021626           0.098335\n",
       "2010-04  0.111021  0.009796 -0.073036  0.042677           0.022615\n",
       "2010-05 -0.016125 -0.084902 -0.076222 -0.151395          -0.082161\n",
       "2010-06 -0.020827 -0.129125 -0.083768 -0.108139          -0.085465"
      ]
     },
     "execution_count": 43,
     "metadata": {},
     "output_type": "execute_result"
    }
   ],
   "source": [
    "asset_df.head()"
   ]
  },
  {
   "cell_type": "code",
   "execution_count": 44,
   "metadata": {},
   "outputs": [
    {
     "data": {
      "text/plain": [
       "<Axes: xlabel='Date'>"
      ]
     },
     "execution_count": 44,
     "metadata": {},
     "output_type": "execute_result"
    },
    {
     "data": {
      "image/png": "[encoded data removed]",
      "text/plain": [
       "<Figure size 640x480 with 1 Axes>"
      ]
     },
     "metadata": {},
     "output_type": "display_data"
    }
   ],
   "source": [
    "asset_df.plot()"
   ]
  },
  {
   "attachments": {},
   "cell_type": "markdown",
   "metadata": {},
   "source": [
    "### 7. Merge the datasets"
   ]
  },
  {
   "cell_type": "code",
   "execution_count": 42,
   "metadata": {},
   "outputs": [],
   "source": [
    "factors_3_df = asset_df.join(factors_3_df).drop(ASSETS, axis=1)\n",
    "factors_3_df.columns = ['portf_rtn', 'mkt', 'smb', 'hml', 'rf']\n",
    "factors_3_df['portf_ex_rtn'] = (\n",
    "    factors_3_df['portf_rtn'] - factors_3_df['rf']\n",
    ")"
   ]
  },
  {
   "attachments": {},
   "cell_type": "markdown",
   "metadata": {},
   "source": [
    "### 8. Define a function for the rolling $n$-factor model"
   ]
  },
  {
   "cell_type": "code",
   "execution_count": 46,
   "metadata": {},
   "outputs": [],
   "source": [
    "def rolloing_factor_model(input_data, formula, window_size):\n",
    "     \n",
    "    \"\"\"\n",
    "    Functions for estimating the Fama-French factor (n-factor) model using a rolling window fixed size.\n",
    "\n",
    "    Parameters\n",
    "    ------------\n",
    "    input_data : pd.DataFrame\n",
    "        A DataFrame containing the factors and asset/portfolio returns.\n",
    "    formula : str\n",
    "        'statsmodels' compatible foramula representing the OLS regression\n",
    "    window_size : int\n",
    "        Rolling window length\n",
    "    \n",
    "    Returns\n",
    "    -----------\n",
    "    coeffs_df : pd.DataFrame\n",
    "        DataFrame containing the intercept and the three factors for each iteration\n",
    "\n",
    "    \"\"\"\n",
    "\n",
    "    coeffs = []\n",
    "\n",
    "    for stat_ind in range(len(input_data) - window_size + 1):\n",
    "        end_ind = stat_ind + window_size\n",
    "\n",
    "        # define and fit the regresion model\n",
    "        ff_model = smf.ols(\n",
    "            formula=formula,\n",
    "            data=input_data[stat_ind:end_ind]\n",
    "        ).fit()\n",
    "\n",
    "        # store coefficients\n",
    "        coeffs.append(ff_model.params)\n",
    "    \n",
    "    coeffs_df = pd.DataFrame(\n",
    "        coeffs,\n",
    "        index=input_data.index[window_size - 1:]\n",
    "    )\n",
    "\n",
    "    return coeffs_df"
   ]
  },
  {
   "attachments": {},
   "cell_type": "markdown",
   "metadata": {},
   "source": [
    "### 9. Estimate the rolling three-factor model and plot the results"
   ]
  },
  {
   "cell_type": "code",
   "execution_count": 51,
   "metadata": {},
   "outputs": [
    {
     "data": {
      "image/png": "[encoded data removed]",
      "text/plain": [
       "<Figure size 640x480 with 1 Axes>"
      ]
     },
     "metadata": {},
     "output_type": "display_data"
    }
   ],
   "source": [
    "MODEL_FORMULA = 'portf_ex_rtn ~ mkt + smb + hml'\n",
    "results_df = rolloing_factor_model(\n",
    "    factors_3_df,\n",
    "    MODEL_FORMULA,\n",
    "    window_size=60\n",
    ")\n",
    "(\n",
    "    results_df\n",
    "    .plot(title=\"Rolling Fama-French Three Factor Model\",\n",
    "          style=['-', '--', '-.', ':'])\n",
    "    .legend(loc='center left', bbox_to_anchor=(1, 0.5))\n",
    ")\n",
    "\n",
    "sns.despine()\n",
    "plt.tight_layout()"
   ]
  },
  {
   "attachments": {},
   "cell_type": "markdown",
   "metadata": {},
   "source": [
    "# Estimating the four- and five-factor models"
   ]
  },
  {
   "attachments": {},
   "cell_type": "markdown",
   "metadata": {},
   "source": [
    "## How to do it"
   ]
  },
  {
   "attachments": {},
   "cell_type": "markdown",
   "metadata": {},
   "source": [
    "### 1. Import the libraries"
   ]
  },
  {
   "cell_type": "code",
   "execution_count": 52,
   "metadata": {},
   "outputs": [],
   "source": [
    "import pandas as pd\n",
    "import yfinance as yf\n",
    "import statsmodels.formula.api as smf\n",
    "import pandas_datareader.data as web"
   ]
  },
  {
   "attachments": {},
   "cell_type": "markdown",
   "metadata": {},
   "source": [
    "### 2. Specify the risky asset and the time horizon"
   ]
  },
  {
   "cell_type": "code",
   "execution_count": 53,
   "metadata": {},
   "outputs": [],
   "source": [
    "RISKY_ASSET = 'AMZN'\n",
    "START_DATE = '2016-01-01'\n",
    "END_DATE = '2020-12-31'"
   ]
  },
  {
   "attachments": {},
   "cell_type": "markdown",
   "metadata": {},
   "source": [
    "### 3. Download the risk factors from Prof. French’s website"
   ]
  },
  {
   "cell_type": "code",
   "execution_count": 54,
   "metadata": {},
   "outputs": [],
   "source": [
    "# three factors\n",
    "factors_3_df = web.DataReader(\n",
    "    'F-F_Research_Data_Factors', \n",
    "    'famafrench', start=START_DATE, \n",
    "    end=END_DATE)[0]\n",
    "\n",
    "# momentum factor\n",
    "momentum_df = web.DataReader(\n",
    "    'F-F_Momentum_Factor',\n",
    "    'famafrench', \n",
    "    start=START_DATE,\n",
    "    end=END_DATE)[0]\n",
    "\n",
    "# five fators\n",
    "factors_5_df = web.DataReader(\n",
    "    'F-F_Research_Data_5_Factors_2x3',\n",
    "    'famafrench',\n",
    "    start=START_DATE,\n",
    "    end=END_DATE)[0]"
   ]
  },
  {
   "attachments": {},
   "cell_type": "markdown",
   "metadata": {},
   "source": [
    "### 4. Download the data of the risky asset from Yahoo Finance"
   ]
  },
  {
   "cell_type": "code",
   "execution_count": 57,
   "metadata": {},
   "outputs": [
    {
     "name": "stdout",
     "output_type": "stream",
     "text": [
      "Download 1258 rows of data.\n"
     ]
    }
   ],
   "source": [
    "asset_df = yf.download(RISKY_ASSET, start=START_DATE, end=END_DATE, progress=False)\n",
    "print(f'Download {asset_df.shape[0]} rows of data.')"
   ]
  },
  {
   "attachments": {},
   "cell_type": "markdown",
   "metadata": {},
   "source": [
    "### 5. Calculate monthly returns"
   ]
  },
  {
   "cell_type": "code",
   "execution_count": 58,
   "metadata": {},
   "outputs": [],
   "source": [
    "y = asset_df['Adj Close'].resample('M').last().pct_change().dropna()\n",
    "y.index = y.index.to_period('m')\n",
    "y.name = 'rtn'"
   ]
  },
  {
   "attachments": {},
   "cell_type": "markdown",
   "metadata": {},
   "source": [
    "### 6. Merge the datasets for the four-factor models"
   ]
  },
  {
   "cell_type": "code",
   "execution_count": 59,
   "metadata": {},
   "outputs": [
    {
     "data": {
      "text/html": [
       "<div>\n",
       "<style scoped>\n",
       "    .dataframe tbody tr th:only-of-type {\n",
       "        vertical-align: middle;\n",
       "    }\n",
       "\n",
       "    .dataframe tbody tr th {\n",
       "        vertical-align: top;\n",
       "    }\n",
       "\n",
       "    .dataframe thead th {\n",
       "        text-align: right;\n",
       "    }\n",
       "</style>\n",
       "<table border=\"1\" class=\"dataframe\">\n",
       "  <thead>\n",
       "    <tr style=\"text-align: right;\">\n",
       "      <th></th>\n",
       "      <th>mkt</th>\n",
       "      <th>smb</th>\n",
       "      <th>hml</th>\n",
       "      <th>rf</th>\n",
       "      <th>mom</th>\n",
       "      <th>rtn</th>\n",
       "      <th>excess_rtn</th>\n",
       "    </tr>\n",
       "    <tr>\n",
       "      <th>Date</th>\n",
       "      <th></th>\n",
       "      <th></th>\n",
       "      <th></th>\n",
       "      <th></th>\n",
       "      <th></th>\n",
       "      <th></th>\n",
       "      <th></th>\n",
       "    </tr>\n",
       "  </thead>\n",
       "  <tbody>\n",
       "    <tr>\n",
       "      <th>2016-01</th>\n",
       "      <td>-0.0577</td>\n",
       "      <td>-0.0343</td>\n",
       "      <td>0.0209</td>\n",
       "      <td>0.0001</td>\n",
       "      <td>0.0144</td>\n",
       "      <td>NaN</td>\n",
       "      <td>NaN</td>\n",
       "    </tr>\n",
       "    <tr>\n",
       "      <th>2016-02</th>\n",
       "      <td>-0.0007</td>\n",
       "      <td>0.0071</td>\n",
       "      <td>-0.0057</td>\n",
       "      <td>0.0002</td>\n",
       "      <td>-0.0438</td>\n",
       "      <td>-0.058739</td>\n",
       "      <td>-0.058939</td>\n",
       "    </tr>\n",
       "    <tr>\n",
       "      <th>2016-03</th>\n",
       "      <td>0.0696</td>\n",
       "      <td>0.0082</td>\n",
       "      <td>0.0119</td>\n",
       "      <td>0.0002</td>\n",
       "      <td>-0.0501</td>\n",
       "      <td>0.074423</td>\n",
       "      <td>0.074223</td>\n",
       "    </tr>\n",
       "    <tr>\n",
       "      <th>2016-04</th>\n",
       "      <td>0.0091</td>\n",
       "      <td>0.0074</td>\n",
       "      <td>0.0328</td>\n",
       "      <td>0.0001</td>\n",
       "      <td>-0.0602</td>\n",
       "      <td>0.111094</td>\n",
       "      <td>0.110994</td>\n",
       "    </tr>\n",
       "    <tr>\n",
       "      <th>2016-05</th>\n",
       "      <td>0.0178</td>\n",
       "      <td>-0.0018</td>\n",
       "      <td>-0.0166</td>\n",
       "      <td>0.0001</td>\n",
       "      <td>0.0142</td>\n",
       "      <td>0.095817</td>\n",
       "      <td>0.095717</td>\n",
       "    </tr>\n",
       "  </tbody>\n",
       "</table>\n",
       "</div>"
      ],
      "text/plain": [
       "            mkt     smb     hml      rf     mom       rtn  excess_rtn\n",
       "Date                                                                 \n",
       "2016-01 -0.0577 -0.0343  0.0209  0.0001  0.0144       NaN         NaN\n",
       "2016-02 -0.0007  0.0071 -0.0057  0.0002 -0.0438 -0.058739   -0.058939\n",
       "2016-03  0.0696  0.0082  0.0119  0.0002 -0.0501  0.074423    0.074223\n",
       "2016-04  0.0091  0.0074  0.0328  0.0001 -0.0602  0.111094    0.110994\n",
       "2016-05  0.0178 -0.0018 -0.0166  0.0001  0.0142  0.095817    0.095717"
      ]
     },
     "execution_count": 59,
     "metadata": {},
     "output_type": "execute_result"
    }
   ],
   "source": [
    "# jouin all datasets on the index\n",
    "factors_4_df = factors_3_df.join(momentum_df).join(y)\n",
    "\n",
    "# rename columns\n",
    "factors_4_df.columns = ['mkt', 'smb', 'hml', 'rf', 'mom', 'rtn']\n",
    "\n",
    "# divide everything (except returns) by 100\n",
    "factors_4_df.loc[:, factors_4_df.columns != 'rtn'] /= 100\n",
    "\n",
    "# calculate excess returns\n",
    "factors_4_df['excess_rtn'] = (\n",
    "    factors_4_df['rtn'] - factors_4_df['rf']\n",
    ")\n",
    "\n",
    "factors_4_df.head()"
   ]
  },
  {
   "attachments": {},
   "cell_type": "markdown",
   "metadata": {},
   "source": [
    "### 7. Merge the datasets for the five-factor models"
   ]
  },
  {
   "cell_type": "code",
   "execution_count": 60,
   "metadata": {},
   "outputs": [
    {
     "data": {
      "text/html": [
       "<div>\n",
       "<style scoped>\n",
       "    .dataframe tbody tr th:only-of-type {\n",
       "        vertical-align: middle;\n",
       "    }\n",
       "\n",
       "    .dataframe tbody tr th {\n",
       "        vertical-align: top;\n",
       "    }\n",
       "\n",
       "    .dataframe thead th {\n",
       "        text-align: right;\n",
       "    }\n",
       "</style>\n",
       "<table border=\"1\" class=\"dataframe\">\n",
       "  <thead>\n",
       "    <tr style=\"text-align: right;\">\n",
       "      <th></th>\n",
       "      <th>mkt</th>\n",
       "      <th>smb</th>\n",
       "      <th>hml</th>\n",
       "      <th>rmw</th>\n",
       "      <th>cma</th>\n",
       "      <th>rf</th>\n",
       "      <th>rtn</th>\n",
       "      <th>excess_rtn</th>\n",
       "    </tr>\n",
       "    <tr>\n",
       "      <th>Date</th>\n",
       "      <th></th>\n",
       "      <th></th>\n",
       "      <th></th>\n",
       "      <th></th>\n",
       "      <th></th>\n",
       "      <th></th>\n",
       "      <th></th>\n",
       "      <th></th>\n",
       "    </tr>\n",
       "  </thead>\n",
       "  <tbody>\n",
       "    <tr>\n",
       "      <th>2016-01</th>\n",
       "      <td>-0.0577</td>\n",
       "      <td>-0.0348</td>\n",
       "      <td>0.0209</td>\n",
       "      <td>0.0280</td>\n",
       "      <td>0.0307</td>\n",
       "      <td>0.0001</td>\n",
       "      <td>NaN</td>\n",
       "      <td>NaN</td>\n",
       "    </tr>\n",
       "    <tr>\n",
       "      <th>2016-02</th>\n",
       "      <td>-0.0007</td>\n",
       "      <td>0.0085</td>\n",
       "      <td>-0.0057</td>\n",
       "      <td>0.0328</td>\n",
       "      <td>0.0199</td>\n",
       "      <td>0.0002</td>\n",
       "      <td>-0.058739</td>\n",
       "      <td>-0.058939</td>\n",
       "    </tr>\n",
       "    <tr>\n",
       "      <th>2016-03</th>\n",
       "      <td>0.0696</td>\n",
       "      <td>0.0108</td>\n",
       "      <td>0.0119</td>\n",
       "      <td>0.0076</td>\n",
       "      <td>-0.0004</td>\n",
       "      <td>0.0002</td>\n",
       "      <td>0.074423</td>\n",
       "      <td>0.074223</td>\n",
       "    </tr>\n",
       "    <tr>\n",
       "      <th>2016-04</th>\n",
       "      <td>0.0091</td>\n",
       "      <td>0.0122</td>\n",
       "      <td>0.0328</td>\n",
       "      <td>-0.0292</td>\n",
       "      <td>0.0186</td>\n",
       "      <td>0.0001</td>\n",
       "      <td>0.111094</td>\n",
       "      <td>0.110994</td>\n",
       "    </tr>\n",
       "    <tr>\n",
       "      <th>2016-05</th>\n",
       "      <td>0.0178</td>\n",
       "      <td>-0.0062</td>\n",
       "      <td>-0.0166</td>\n",
       "      <td>-0.0107</td>\n",
       "      <td>-0.0249</td>\n",
       "      <td>0.0001</td>\n",
       "      <td>0.095817</td>\n",
       "      <td>0.095717</td>\n",
       "    </tr>\n",
       "  </tbody>\n",
       "</table>\n",
       "</div>"
      ],
      "text/plain": [
       "            mkt     smb     hml     rmw     cma      rf       rtn  excess_rtn\n",
       "Date                                                                         \n",
       "2016-01 -0.0577 -0.0348  0.0209  0.0280  0.0307  0.0001       NaN         NaN\n",
       "2016-02 -0.0007  0.0085 -0.0057  0.0328  0.0199  0.0002 -0.058739   -0.058939\n",
       "2016-03  0.0696  0.0108  0.0119  0.0076 -0.0004  0.0002  0.074423    0.074223\n",
       "2016-04  0.0091  0.0122  0.0328 -0.0292  0.0186  0.0001  0.111094    0.110994\n",
       "2016-05  0.0178 -0.0062 -0.0166 -0.0107 -0.0249  0.0001  0.095817    0.095717"
      ]
     },
     "execution_count": 60,
     "metadata": {},
     "output_type": "execute_result"
    }
   ],
   "source": [
    "# join all datasets on the index\n",
    "factors_5_df = factors_5_df.join(y)\n",
    "\n",
    "# rename columns\n",
    "factors_5_df.columns = ['mkt', 'smb', 'hml', 'rmw', 'cma', 'rf', 'rtn']\n",
    "\n",
    "# divide everything (except returns) by 100\n",
    "factors_5_df.loc[:, factors_5_df.columns != 'rtn'] /= 100\n",
    "\n",
    "# calculate excess returns\n",
    "factors_5_df['excess_rtn'] = (\n",
    "    factors_5_df['rtn'] - factors_5_df['rf']\n",
    ")\n",
    "\n",
    "factors_5_df.head()"
   ]
  },
  {
   "attachments": {},
   "cell_type": "markdown",
   "metadata": {},
   "source": [
    "### 8. Estimate the four-factor model"
   ]
  },
  {
   "cell_type": "code",
   "execution_count": 62,
   "metadata": {},
   "outputs": [
    {
     "name": "stdout",
     "output_type": "stream",
     "text": [
      "                            OLS Regression Results                            \n",
      "==============================================================================\n",
      "Dep. Variable:             excess_rtn   R-squared:                       0.543\n",
      "Model:                            OLS   Adj. R-squared:                  0.509\n",
      "Method:                 Least Squares   F-statistic:                     16.03\n",
      "Date:                Sat, 22 Jul 2023   Prob (F-statistic):           1.04e-08\n",
      "Time:                        15:09:45   Log-Likelihood:                 88.316\n",
      "No. Observations:                  59   AIC:                            -166.6\n",
      "Df Residuals:                      54   BIC:                            -156.2\n",
      "Df Model:                           4                                         \n",
      "Covariance Type:            nonrobust                                         \n",
      "==============================================================================\n",
      "                 coef    std err          t      P>|t|      [0.025      0.975]\n",
      "------------------------------------------------------------------------------\n",
      "Intercept      0.0073      0.008      0.896      0.374      -0.009       0.024\n",
      "mkt            1.4152      0.189      7.485      0.000       1.036       1.794\n",
      "smb           -0.4740      0.342     -1.385      0.172      -1.160       0.212\n",
      "hml           -0.7452      0.277     -2.692      0.009      -1.300      -0.190\n",
      "mom            0.2306      0.269      0.857      0.395      -0.309       0.770\n",
      "==============================================================================\n",
      "Omnibus:                        0.345   Durbin-Watson:                   2.071\n",
      "Prob(Omnibus):                  0.842   Jarque-Bera (JB):                0.250\n",
      "Skew:                           0.154   Prob(JB):                        0.882\n",
      "Kurtosis:                       2.920   Cond. No.                         50.5\n",
      "==============================================================================\n",
      "\n",
      "Notes:\n",
      "[1] Standard Errors assume that the covariance matrix of the errors is correctly specified.\n"
     ]
    }
   ],
   "source": [
    "four_factor_model = smf.ols(\n",
    "    formula='excess_rtn ~ mkt + smb + hml + mom',\n",
    "    data=factors_4_df\n",
    ").fit()\n",
    "\n",
    "print(four_factor_model.summary())"
   ]
  },
  {
   "attachments": {},
   "cell_type": "markdown",
   "metadata": {},
   "source": [
    "### 9. Estimate the five-factor model"
   ]
  },
  {
   "cell_type": "code",
   "execution_count": 63,
   "metadata": {},
   "outputs": [
    {
     "name": "stdout",
     "output_type": "stream",
     "text": [
      "                            OLS Regression Results                            \n",
      "==============================================================================\n",
      "Dep. Variable:             excess_rtn   R-squared:                       0.585\n",
      "Model:                            OLS   Adj. R-squared:                  0.546\n",
      "Method:                 Least Squares   F-statistic:                     14.97\n",
      "Date:                Sat, 22 Jul 2023   Prob (F-statistic):           3.77e-09\n",
      "Time:                        15:12:09   Log-Likelihood:                 91.193\n",
      "No. Observations:                  59   AIC:                            -170.4\n",
      "Df Residuals:                      53   BIC:                            -157.9\n",
      "Df Model:                           5                                         \n",
      "Covariance Type:            nonrobust                                         \n",
      "==============================================================================\n",
      "                 coef    std err          t      P>|t|      [0.025      0.975]\n",
      "------------------------------------------------------------------------------\n",
      "Intercept      0.0067      0.008      0.856      0.396      -0.009       0.022\n",
      "mkt            1.4935      0.197      7.598      0.000       1.099       1.888\n",
      "smb           -0.9416      0.339     -2.779      0.008      -1.621      -0.262\n",
      "hml           -0.5360      0.284     -1.885      0.065      -1.106       0.034\n",
      "rmw           -1.0858      0.532     -2.041      0.046      -2.153      -0.019\n",
      "cma           -0.4880      0.517     -0.944      0.349      -1.525       0.549\n",
      "==============================================================================\n",
      "Omnibus:                        0.071   Durbin-Watson:                   2.080\n",
      "Prob(Omnibus):                  0.965   Jarque-Bera (JB):                0.200\n",
      "Skew:                          -0.074   Prob(JB):                        0.905\n",
      "Kurtosis:                       2.756   Cond. No.                         80.1\n",
      "==============================================================================\n",
      "\n",
      "Notes:\n",
      "[1] Standard Errors assume that the covariance matrix of the errors is correctly specified.\n"
     ]
    }
   ],
   "source": [
    "five_factor_model = smf.ols(\n",
    "    formula='excess_rtn ~ mkt + smb + hml + rmw + cma',\n",
    "    data=factors_5_df\n",
    ").fit()\n",
    "print(five_factor_model.summary())"
   ]
  },
  {
   "attachments": {},
   "cell_type": "markdown",
   "metadata": {},
   "source": [
    "# Estimating cross-sectional factor models using using the Fama MacBeth regression"
   ]
  },
  {
   "attachments": {},
   "cell_type": "markdown",
   "metadata": {},
   "source": [
    "## How to do it"
   ]
  },
  {
   "attachments": {},
   "cell_type": "markdown",
   "metadata": {},
   "source": [
    "### 1. Import the libraries"
   ]
  },
  {
   "cell_type": "code",
   "execution_count": 64,
   "metadata": {},
   "outputs": [],
   "source": [
    "import pandas as pd\n",
    "import pandas_datareader.data as web\n",
    "from linearmodels.asset_pricing import LinearFactorModel"
   ]
  },
  {
   "attachments": {},
   "cell_type": "markdown",
   "metadata": {},
   "source": [
    "### 2. Specify the time horizon"
   ]
  },
  {
   "cell_type": "code",
   "execution_count": 65,
   "metadata": {},
   "outputs": [],
   "source": [
    "START_DATE = '2010'\n",
    "END_DATE = '2020-12'"
   ]
  },
  {
   "attachments": {},
   "cell_type": "markdown",
   "metadata": {},
   "source": [
    "### 3. Download and adjust the risk factors from Prof. French’s website"
   ]
  },
  {
   "cell_type": "code",
   "execution_count": 66,
   "metadata": {},
   "outputs": [],
   "source": [
    "factor_5_df = (\n",
    "    web.DataReader('F-F_Research_Data_5_Factors_2x3', 'famafrench', start=START_DATE, end=END_DATE)[0]\n",
    "    .div(100)\n",
    ")"
   ]
  },
  {
   "cell_type": "code",
   "execution_count": 68,
   "metadata": {},
   "outputs": [
    {
     "data": {
      "text/html": [
       "<div>\n",
       "<style scoped>\n",
       "    .dataframe tbody tr th:only-of-type {\n",
       "        vertical-align: middle;\n",
       "    }\n",
       "\n",
       "    .dataframe tbody tr th {\n",
       "        vertical-align: top;\n",
       "    }\n",
       "\n",
       "    .dataframe thead th {\n",
       "        text-align: right;\n",
       "    }\n",
       "</style>\n",
       "<table border=\"1\" class=\"dataframe\">\n",
       "  <thead>\n",
       "    <tr style=\"text-align: right;\">\n",
       "      <th></th>\n",
       "      <th>Mkt-RF</th>\n",
       "      <th>SMB</th>\n",
       "      <th>HML</th>\n",
       "      <th>RMW</th>\n",
       "      <th>CMA</th>\n",
       "      <th>RF</th>\n",
       "    </tr>\n",
       "    <tr>\n",
       "      <th>Date</th>\n",
       "      <th></th>\n",
       "      <th></th>\n",
       "      <th></th>\n",
       "      <th></th>\n",
       "      <th></th>\n",
       "      <th></th>\n",
       "    </tr>\n",
       "  </thead>\n",
       "  <tbody>\n",
       "    <tr>\n",
       "      <th>2010-01</th>\n",
       "      <td>-0.0336</td>\n",
       "      <td>0.0034</td>\n",
       "      <td>0.0043</td>\n",
       "      <td>-0.0127</td>\n",
       "      <td>0.0046</td>\n",
       "      <td>0.0000</td>\n",
       "    </tr>\n",
       "    <tr>\n",
       "      <th>2010-02</th>\n",
       "      <td>0.0340</td>\n",
       "      <td>0.0151</td>\n",
       "      <td>0.0323</td>\n",
       "      <td>-0.0027</td>\n",
       "      <td>0.0143</td>\n",
       "      <td>0.0000</td>\n",
       "    </tr>\n",
       "    <tr>\n",
       "      <th>2010-03</th>\n",
       "      <td>0.0631</td>\n",
       "      <td>0.0185</td>\n",
       "      <td>0.0221</td>\n",
       "      <td>-0.0065</td>\n",
       "      <td>0.0169</td>\n",
       "      <td>0.0001</td>\n",
       "    </tr>\n",
       "    <tr>\n",
       "      <th>2010-04</th>\n",
       "      <td>0.0200</td>\n",
       "      <td>0.0498</td>\n",
       "      <td>0.0289</td>\n",
       "      <td>0.0069</td>\n",
       "      <td>0.0172</td>\n",
       "      <td>0.0001</td>\n",
       "    </tr>\n",
       "    <tr>\n",
       "      <th>2010-05</th>\n",
       "      <td>-0.0789</td>\n",
       "      <td>0.0004</td>\n",
       "      <td>-0.0244</td>\n",
       "      <td>0.0130</td>\n",
       "      <td>-0.0022</td>\n",
       "      <td>0.0001</td>\n",
       "    </tr>\n",
       "  </tbody>\n",
       "</table>\n",
       "</div>"
      ],
      "text/plain": [
       "         Mkt-RF     SMB     HML     RMW     CMA      RF\n",
       "Date                                                   \n",
       "2010-01 -0.0336  0.0034  0.0043 -0.0127  0.0046  0.0000\n",
       "2010-02  0.0340  0.0151  0.0323 -0.0027  0.0143  0.0000\n",
       "2010-03  0.0631  0.0185  0.0221 -0.0065  0.0169  0.0001\n",
       "2010-04  0.0200  0.0498  0.0289  0.0069  0.0172  0.0001\n",
       "2010-05 -0.0789  0.0004 -0.0244  0.0130 -0.0022  0.0001"
      ]
     },
     "execution_count": 68,
     "metadata": {},
     "output_type": "execute_result"
    }
   ],
   "source": [
    "factor_5_df.head()"
   ]
  },
  {
   "attachments": {},
   "cell_type": "markdown",
   "metadata": {},
   "source": [
    "### 4. Download and adjust the returns of 12 industry Portfolios from Prof. French's website"
   ]
  },
  {
   "cell_type": "code",
   "execution_count": 69,
   "metadata": {},
   "outputs": [],
   "source": [
    "portfolio_df = (\n",
    "    web.DataReader(\n",
    "        '12_Industry_Portfolios', \n",
    "        'famafrench',\n",
    "        start=START_DATE,\n",
    "        end=END_DATE)[0]\n",
    "    .div(100)\n",
    "    .sub(factor_5_df['RF'], axis=0)\n",
    ")\n"
   ]
  },
  {
   "cell_type": "code",
   "execution_count": 70,
   "metadata": {},
   "outputs": [
    {
     "data": {
      "text/html": [
       "<div>\n",
       "<style scoped>\n",
       "    .dataframe tbody tr th:only-of-type {\n",
       "        vertical-align: middle;\n",
       "    }\n",
       "\n",
       "    .dataframe tbody tr th {\n",
       "        vertical-align: top;\n",
       "    }\n",
       "\n",
       "    .dataframe thead th {\n",
       "        text-align: right;\n",
       "    }\n",
       "</style>\n",
       "<table border=\"1\" class=\"dataframe\">\n",
       "  <thead>\n",
       "    <tr style=\"text-align: right;\">\n",
       "      <th></th>\n",
       "      <th>NoDur</th>\n",
       "      <th>Durbl</th>\n",
       "      <th>Manuf</th>\n",
       "      <th>Enrgy</th>\n",
       "      <th>Chems</th>\n",
       "      <th>BusEq</th>\n",
       "      <th>Telcm</th>\n",
       "      <th>Utils</th>\n",
       "      <th>Shops</th>\n",
       "      <th>Hlth</th>\n",
       "      <th>Money</th>\n",
       "      <th>Other</th>\n",
       "    </tr>\n",
       "    <tr>\n",
       "      <th>Date</th>\n",
       "      <th></th>\n",
       "      <th></th>\n",
       "      <th></th>\n",
       "      <th></th>\n",
       "      <th></th>\n",
       "      <th></th>\n",
       "      <th></th>\n",
       "      <th></th>\n",
       "      <th></th>\n",
       "      <th></th>\n",
       "      <th></th>\n",
       "      <th></th>\n",
       "    </tr>\n",
       "  </thead>\n",
       "  <tbody>\n",
       "    <tr>\n",
       "      <th>2010-01</th>\n",
       "      <td>-0.0233</td>\n",
       "      <td>-0.0094</td>\n",
       "      <td>-0.0436</td>\n",
       "      <td>-0.0489</td>\n",
       "      <td>-0.0109</td>\n",
       "      <td>-0.0793</td>\n",
       "      <td>-0.0670</td>\n",
       "      <td>-0.0449</td>\n",
       "      <td>-0.0185</td>\n",
       "      <td>-0.0001</td>\n",
       "      <td>-0.0107</td>\n",
       "      <td>-0.0256</td>\n",
       "    </tr>\n",
       "    <tr>\n",
       "      <th>2010-02</th>\n",
       "      <td>0.0272</td>\n",
       "      <td>0.0738</td>\n",
       "      <td>0.0583</td>\n",
       "      <td>0.0256</td>\n",
       "      <td>0.0413</td>\n",
       "      <td>0.0481</td>\n",
       "      <td>0.0285</td>\n",
       "      <td>-0.0041</td>\n",
       "      <td>0.0429</td>\n",
       "      <td>0.0038</td>\n",
       "      <td>0.0270</td>\n",
       "      <td>0.0465</td>\n",
       "    </tr>\n",
       "    <tr>\n",
       "      <th>2010-03</th>\n",
       "      <td>0.0597</td>\n",
       "      <td>0.0948</td>\n",
       "      <td>0.0779</td>\n",
       "      <td>0.0323</td>\n",
       "      <td>0.0410</td>\n",
       "      <td>0.0666</td>\n",
       "      <td>0.0759</td>\n",
       "      <td>0.0312</td>\n",
       "      <td>0.0623</td>\n",
       "      <td>0.0360</td>\n",
       "      <td>0.0816</td>\n",
       "      <td>0.0886</td>\n",
       "    </tr>\n",
       "    <tr>\n",
       "      <th>2010-04</th>\n",
       "      <td>-0.0094</td>\n",
       "      <td>0.0748</td>\n",
       "      <td>0.0422</td>\n",
       "      <td>0.0404</td>\n",
       "      <td>0.0127</td>\n",
       "      <td>0.0220</td>\n",
       "      <td>0.0358</td>\n",
       "      <td>0.0284</td>\n",
       "      <td>0.0255</td>\n",
       "      <td>-0.0223</td>\n",
       "      <td>0.0092</td>\n",
       "      <td>0.0430</td>\n",
       "    </tr>\n",
       "    <tr>\n",
       "      <th>2010-05</th>\n",
       "      <td>-0.0569</td>\n",
       "      <td>-0.0900</td>\n",
       "      <td>-0.0920</td>\n",
       "      <td>-0.1023</td>\n",
       "      <td>-0.0677</td>\n",
       "      <td>-0.0769</td>\n",
       "      <td>-0.0582</td>\n",
       "      <td>-0.0630</td>\n",
       "      <td>-0.0535</td>\n",
       "      <td>-0.0802</td>\n",
       "      <td>-0.0922</td>\n",
       "      <td>-0.0822</td>\n",
       "    </tr>\n",
       "  </tbody>\n",
       "</table>\n",
       "</div>"
      ],
      "text/plain": [
       "          NoDur   Durbl   Manuf   Enrgy   Chems   BusEq   Telcm   Utils  \\\n",
       "Date                                                                      \n",
       "2010-01 -0.0233 -0.0094 -0.0436 -0.0489 -0.0109 -0.0793 -0.0670 -0.0449   \n",
       "2010-02  0.0272  0.0738  0.0583  0.0256  0.0413  0.0481  0.0285 -0.0041   \n",
       "2010-03  0.0597  0.0948  0.0779  0.0323  0.0410  0.0666  0.0759  0.0312   \n",
       "2010-04 -0.0094  0.0748  0.0422  0.0404  0.0127  0.0220  0.0358  0.0284   \n",
       "2010-05 -0.0569 -0.0900 -0.0920 -0.1023 -0.0677 -0.0769 -0.0582 -0.0630   \n",
       "\n",
       "          Shops   Hlth    Money   Other  \n",
       "Date                                     \n",
       "2010-01 -0.0185 -0.0001 -0.0107 -0.0256  \n",
       "2010-02  0.0429  0.0038  0.0270  0.0465  \n",
       "2010-03  0.0623  0.0360  0.0816  0.0886  \n",
       "2010-04  0.0255 -0.0223  0.0092  0.0430  \n",
       "2010-05 -0.0535 -0.0802 -0.0922 -0.0822  "
      ]
     },
     "execution_count": 70,
     "metadata": {},
     "output_type": "execute_result"
    }
   ],
   "source": [
    "portfolio_df.head()"
   ]
  },
  {
   "attachments": {},
   "cell_type": "markdown",
   "metadata": {},
   "source": [
    "### 5. Drop the risk-free rate from the factor dataset"
   ]
  },
  {
   "cell_type": "code",
   "execution_count": 71,
   "metadata": {},
   "outputs": [],
   "source": [
    "factor_5_df = factor_5_df.drop('RF', axis=1)"
   ]
  },
  {
   "attachments": {},
   "cell_type": "markdown",
   "metadata": {},
   "source": [
    "### 6. Estimate the Fama-MacBeth regression and print the summary"
   ]
  },
  {
   "cell_type": "code",
   "execution_count": 72,
   "metadata": {},
   "outputs": [
    {
     "name": "stdout",
     "output_type": "stream",
     "text": [
      "                      LinearFactorModel Estimation Summary                      \n",
      "================================================================================\n",
      "No. Test Portfolios:                 12   R-squared:                      0.7907\n",
      "No. Factors:                          5   J-statistic:                    9.8773\n",
      "No. Observations:                   132   P-value                         0.1956\n",
      "Date:                  Sat, Jul 22 2023   Distribution:                  chi2(7)\n",
      "Time:                          16:33:39                                         \n",
      "Cov. Estimator:                  robust                                         \n",
      "                                                                                \n",
      "                            Risk Premia Estimates                             \n",
      "==============================================================================\n",
      "            Parameter  Std. Err.     T-stat    P-value    Lower CI    Upper CI\n",
      "------------------------------------------------------------------------------\n",
      "Mkt-RF         0.0123     0.0038     3.2644     0.0011      0.0049      0.0198\n",
      "SMB           -0.0064     0.0052    -1.2174     0.2234     -0.0166      0.0039\n",
      "HML           -0.0089     0.0032    -2.7636     0.0057     -0.0152     -0.0026\n",
      "RMW           -0.0010     0.0046    -0.2276     0.8200     -0.0100      0.0079\n",
      "CMA           -0.0023     0.0039    -0.5932     0.5530     -0.0100      0.0053\n",
      "==============================================================================\n",
      "\n",
      "Covariance estimator:\n",
      "HeteroskedasticCovariance\n",
      "See full_summary for complete results\n"
     ]
    }
   ],
   "source": [
    "five_factor_model = LinearFactorModel(\n",
    "    portfolios=portfolio_df,\n",
    "    factors=factor_5_df\n",
    ")\n",
    "result = five_factor_model.fit()\n",
    "print(result)"
   ]
  },
  {
   "cell_type": "code",
   "execution_count": 73,
   "metadata": {},
   "outputs": [
    {
     "name": "stdout",
     "output_type": "stream",
     "text": [
      "                      LinearFactorModel Estimation Summary                      \n",
      "================================================================================\n",
      "No. Test Portfolios:                 12   R-squared:                      0.7907\n",
      "No. Factors:                          5   J-statistic:                    9.8773\n",
      "No. Observations:                   132   P-value                         0.1956\n",
      "Date:                  Sat, Jul 22 2023   Distribution:                  chi2(7)\n",
      "Time:                          16:33:39                                         \n",
      "Cov. Estimator:                  robust                                         \n",
      "                                                                                \n",
      "                            Risk Premia Estimates                             \n",
      "==============================================================================\n",
      "            Parameter  Std. Err.     T-stat    P-value    Lower CI    Upper CI\n",
      "------------------------------------------------------------------------------\n",
      "Mkt-RF         0.0123     0.0038     3.2644     0.0011      0.0049      0.0198\n",
      "SMB           -0.0064     0.0052    -1.2174     0.2234     -0.0166      0.0039\n",
      "HML           -0.0089     0.0032    -2.7636     0.0057     -0.0152     -0.0026\n",
      "RMW           -0.0010     0.0046    -0.2276     0.8200     -0.0100      0.0079\n",
      "CMA           -0.0023     0.0039    -0.5932     0.5530     -0.0100      0.0053\n",
      "\n",
      "\n",
      "                              NoDur Coefficients                              \n",
      "==============================================================================\n",
      "            Parameter  Std. Err.     T-stat    P-value    Lower CI    Upper CI\n",
      "------------------------------------------------------------------------------\n",
      "alpha         -0.0008     0.0015    -0.5551     0.5788     -0.0038      0.0021\n",
      "Mkt-RF         0.7853     0.0456     17.215     0.0000      0.6959      0.8747\n",
      "SMB           -0.2150     0.0946    -2.2731     0.0230     -0.4005     -0.0296\n",
      "HML           -0.0838     0.1021    -0.8214     0.4114     -0.2839      0.1162\n",
      "RMW            0.4656     0.1214     3.8355     0.0001      0.2277      0.7036\n",
      "CMA            0.3377     0.1495     2.2587     0.0239      0.0447      0.6307\n",
      "\n",
      "\n",
      "                              Durbl Coefficients                              \n",
      "==============================================================================\n",
      "alpha          0.0020     0.0021     0.9728     0.3306     -0.0021      0.0061\n",
      "Mkt-RF         1.5497     0.1482     10.457     0.0000      1.2592      1.8402\n",
      "SMB            0.5804     0.1799     3.2258     0.0013      0.2278      0.9331\n",
      "HML           -0.1784     0.1740    -1.0253     0.3052     -0.5195      0.1627\n",
      "RMW            0.2907     0.4759     0.6109     0.5413     -0.6420      1.2234\n",
      "CMA            0.3302     0.2680     1.2323     0.2179     -0.1950      0.8554\n",
      "\n",
      "\n",
      "                              Manuf Coefficients                              \n",
      "==============================================================================\n",
      "alpha          0.0014     0.0016     0.8580     0.3909     -0.0018      0.0046\n",
      "Mkt-RF         1.0945     0.0481     22.754     0.0000      1.0002      1.1888\n",
      "SMB            0.2916     0.0625     4.6682     0.0000      0.1692      0.4140\n",
      "HML            0.1485     0.0596     2.4907     0.0127      0.0316      0.2653\n",
      "RMW            0.0873     0.1184     0.7372     0.4610     -0.1448      0.3194\n",
      "CMA           -0.0180     0.1191    -0.1510     0.8800     -0.2514      0.2155\n",
      "\n",
      "\n",
      "                              Enrgy Coefficients                              \n",
      "==============================================================================\n",
      "alpha         -0.0037     0.0021    -1.7605     0.0783     -0.0077      0.0004\n",
      "Mkt-RF         1.2464     0.1279     9.7476     0.0000      0.9958      1.4970\n",
      "SMB            0.4931     0.1802     2.7361     0.0062      0.1399      0.8463\n",
      "HML            0.6333     0.1681     3.7674     0.0002      0.3038      0.9628\n",
      "RMW            0.2546     0.3050     0.8348     0.4038     -0.3431      0.8524\n",
      "CMA            0.3978     0.2676     1.4868     0.1371     -0.1266      0.9223\n",
      "\n",
      "\n",
      "                              Chems Coefficients                              \n",
      "==============================================================================\n",
      "alpha         -0.0012     0.0015    -0.8189     0.4129     -0.0041      0.0017\n",
      "Mkt-RF         0.8846     0.0465     19.027     0.0000      0.7935      0.9757\n",
      "SMB           -0.0891     0.0855    -1.0421     0.2974     -0.2566      0.0785\n",
      "HML           -0.0166     0.0564    -0.2949     0.7681     -0.1272      0.0939\n",
      "RMW            0.1746     0.0915     1.9079     0.0564     -0.0048      0.3540\n",
      "CMA            0.2047     0.1051     1.9474     0.0515     -0.0013      0.4107\n",
      "\n",
      "\n",
      "                              BusEq Coefficients                              \n",
      "==============================================================================\n",
      "alpha         -0.0022     0.0015    -1.4371     0.1507     -0.0051      0.0008\n",
      "Mkt-RF         1.1181     0.0336     33.291     0.0000      1.0523      1.1840\n",
      "SMB           -0.1800     0.0639    -2.8180     0.0048     -0.3052     -0.0548\n",
      "HML           -0.1476     0.0716    -2.0627     0.0391     -0.2879     -0.0074\n",
      "RMW           -0.0230     0.0972    -0.2362     0.8132     -0.2136      0.1676\n",
      "CMA           -0.5530     0.1091    -5.0701     0.0000     -0.7668     -0.3392\n",
      "\n",
      "\n",
      "                              Telcm Coefficients                              \n",
      "==============================================================================\n",
      "alpha          0.0009     0.0020     0.4482     0.6540     -0.0030      0.0048\n",
      "Mkt-RF         0.8947     0.0484     18.504     0.0000      0.8000      0.9895\n",
      "SMB           -0.0968     0.0912    -1.0613     0.2886     -0.2756      0.0820\n",
      "HML           -0.0832     0.1256    -0.6627     0.5075     -0.3294      0.1629\n",
      "RMW            0.2364     0.1193     1.9816     0.0475      0.0026      0.4703\n",
      "CMA            0.6798     0.2048     3.3200     0.0009      0.2785      1.0812\n",
      "\n",
      "\n",
      "                              Utils Coefficients                              \n",
      "==============================================================================\n",
      "alpha          0.0029     0.0025     1.1874     0.2351     -0.0019      0.0077\n",
      "Mkt-RF         0.4574     0.0769     5.9466     0.0000      0.3066      0.6081\n",
      "SMB           -0.1298     0.1413    -0.9187     0.3582     -0.4067      0.1471\n",
      "HML            0.0826     0.1834     0.4500     0.6527     -0.2770      0.4421\n",
      "RMW            0.3202     0.2105     1.5208     0.1283     -0.0925      0.7328\n",
      "CMA            0.1822     0.2720     0.6701     0.5028     -0.3508      0.7152\n",
      "\n",
      "\n",
      "                              Shops Coefficients                              \n",
      "==============================================================================\n",
      "alpha          0.0008     0.0019     0.4279     0.6687     -0.0029      0.0044\n",
      "Mkt-RF         0.9473     0.0457     20.712     0.0000      0.8576      1.0369\n",
      "SMB            0.0578     0.0775     0.7452     0.4561     -0.0942      0.2098\n",
      "HML           -0.3355     0.0619    -5.4200     0.0000     -0.4569     -0.2142\n",
      "RMW            0.4503     0.1091     4.1290     0.0000      0.2365      0.6640\n",
      "CMA            0.2924     0.1082     2.7028     0.0069      0.0804      0.5045\n",
      "\n",
      "\n",
      "                              Hlth  Coefficients                              \n",
      "==============================================================================\n",
      "alpha         -0.0016     0.0021    -0.7703     0.4411     -0.0057      0.0025\n",
      "Mkt-RF         0.8175     0.0503     16.258     0.0000      0.7189      0.9160\n",
      "SMB            0.0168     0.0953     0.1759     0.8604     -0.1700      0.2036\n",
      "HML           -0.4479     0.0941    -4.7602     0.0000     -0.6323     -0.2635\n",
      "RMW           -0.3412     0.1391    -2.4533     0.0142     -0.6138     -0.0686\n",
      "CMA            0.2744     0.1606     1.7086     0.0875     -0.0404      0.5891\n",
      "\n",
      "\n",
      "                              Money Coefficients                              \n",
      "==============================================================================\n",
      "alpha          0.0023     0.0017     1.3993     0.1617     -0.0009      0.0056\n",
      "Mkt-RF         1.0393     0.0334     31.121     0.0000      0.9739      1.1048\n",
      "SMB           -0.0041     0.0702    -0.0584     0.9535     -0.1417      0.1335\n",
      "HML            0.6247     0.0663     9.4245     0.0000      0.4948      0.7546\n",
      "RMW           -0.5535     0.0815    -6.7933     0.0000     -0.7132     -0.3938\n",
      "CMA           -0.3424     0.1085    -3.1571     0.0016     -0.5550     -0.1298\n",
      "\n",
      "\n",
      "                              Other Coefficients                              \n",
      "==============================================================================\n",
      "alpha        1.72e-05     0.0014     0.0126     0.9900     -0.0027      0.0027\n",
      "Mkt-RF         1.0361     0.0409     25.328     0.0000      0.9560      1.1163\n",
      "SMB            0.0818     0.0549     1.4884     0.1366     -0.0259      0.1895\n",
      "HML            0.0974     0.0596     1.6346     0.1021     -0.0194      0.2141\n",
      "RMW            0.1105     0.1053     1.0497     0.2939     -0.0958      0.3168\n",
      "CMA            0.2235     0.0952     2.3466     0.0189      0.0368      0.4101\n",
      "==============================================================================\n",
      "\n",
      "Covariance estimator:\n",
      "HeteroskedasticCovariance\n",
      "See full_summary for complete results\n"
     ]
    }
   ],
   "source": [
    "print(result.full_summary)"
   ]
  },
  {
   "attachments": {},
   "cell_type": "markdown",
   "metadata": {},
   "source": [
    "## There's more"
   ]
  },
  {
   "attachments": {},
   "cell_type": "markdown",
   "metadata": {},
   "source": [
    "### 1. Import the libraries"
   ]
  },
  {
   "cell_type": "code",
   "execution_count": 74,
   "metadata": {},
   "outputs": [],
   "source": [
    "from statsmodels.api import OLS, add_constant"
   ]
  },
  {
   "attachments": {},
   "cell_type": "markdown",
   "metadata": {},
   "source": [
    "### 2. First step - estimate the factor loadings"
   ]
  },
  {
   "cell_type": "code",
   "execution_count": 75,
   "metadata": {},
   "outputs": [],
   "source": [
    "factor_loadings = []\n",
    "for portfolio in portfolio_df:\n",
    "    reg_1 = OLS(\n",
    "        endog=portfolio_df.loc[:, portfolio],\n",
    "        exog=add_constant(factor_5_df)\n",
    "    ).fit()\n",
    "    factor_loadings.append(reg_1.params.drop('const'))"
   ]
  },
  {
   "attachments": {},
   "cell_type": "markdown",
   "metadata": {},
   "source": [
    "### 3. Store the factor loadings in a DataFrame"
   ]
  },
  {
   "cell_type": "code",
   "execution_count": 76,
   "metadata": {},
   "outputs": [
    {
     "data": {
      "text/html": [
       "<div>\n",
       "<style scoped>\n",
       "    .dataframe tbody tr th:only-of-type {\n",
       "        vertical-align: middle;\n",
       "    }\n",
       "\n",
       "    .dataframe tbody tr th {\n",
       "        vertical-align: top;\n",
       "    }\n",
       "\n",
       "    .dataframe thead th {\n",
       "        text-align: right;\n",
       "    }\n",
       "</style>\n",
       "<table border=\"1\" class=\"dataframe\">\n",
       "  <thead>\n",
       "    <tr style=\"text-align: right;\">\n",
       "      <th></th>\n",
       "      <th>Mkt-RF</th>\n",
       "      <th>SMB</th>\n",
       "      <th>HML</th>\n",
       "      <th>RMW</th>\n",
       "      <th>CMA</th>\n",
       "    </tr>\n",
       "  </thead>\n",
       "  <tbody>\n",
       "    <tr>\n",
       "      <th>NoDur</th>\n",
       "      <td>0.785261</td>\n",
       "      <td>-0.215050</td>\n",
       "      <td>-0.083834</td>\n",
       "      <td>0.465619</td>\n",
       "      <td>0.337675</td>\n",
       "    </tr>\n",
       "    <tr>\n",
       "      <th>Durbl</th>\n",
       "      <td>1.549702</td>\n",
       "      <td>0.580415</td>\n",
       "      <td>-0.178435</td>\n",
       "      <td>0.290703</td>\n",
       "      <td>0.330191</td>\n",
       "    </tr>\n",
       "    <tr>\n",
       "      <th>Manuf</th>\n",
       "      <td>1.094488</td>\n",
       "      <td>0.291587</td>\n",
       "      <td>0.148479</td>\n",
       "      <td>0.087308</td>\n",
       "      <td>-0.017980</td>\n",
       "    </tr>\n",
       "    <tr>\n",
       "      <th>Enrgy</th>\n",
       "      <td>1.246375</td>\n",
       "      <td>0.493089</td>\n",
       "      <td>0.633344</td>\n",
       "      <td>0.254618</td>\n",
       "      <td>0.397847</td>\n",
       "    </tr>\n",
       "    <tr>\n",
       "      <th>Chems</th>\n",
       "      <td>0.884598</td>\n",
       "      <td>-0.089070</td>\n",
       "      <td>-0.016630</td>\n",
       "      <td>0.174612</td>\n",
       "      <td>0.204666</td>\n",
       "    </tr>\n",
       "  </tbody>\n",
       "</table>\n",
       "</div>"
      ],
      "text/plain": [
       "         Mkt-RF       SMB       HML       RMW       CMA\n",
       "NoDur  0.785261 -0.215050 -0.083834  0.465619  0.337675\n",
       "Durbl  1.549702  0.580415 -0.178435  0.290703  0.330191\n",
       "Manuf  1.094488  0.291587  0.148479  0.087308 -0.017980\n",
       "Enrgy  1.246375  0.493089  0.633344  0.254618  0.397847\n",
       "Chems  0.884598 -0.089070 -0.016630  0.174612  0.204666"
      ]
     },
     "execution_count": 76,
     "metadata": {},
     "output_type": "execute_result"
    }
   ],
   "source": [
    "factor_load_df = pd.DataFrame(\n",
    "    factor_loadings,\n",
    "    columns=factor_5_df.columns,\n",
    "    index=portfolio_df.columns\n",
    ")\n",
    "factor_load_df.head()"
   ]
  },
  {
   "attachments": {},
   "cell_type": "markdown",
   "metadata": {},
   "source": [
    "### 4. Second step - estimate the risk premia"
   ]
  },
  {
   "cell_type": "code",
   "execution_count": 77,
   "metadata": {},
   "outputs": [],
   "source": [
    "risk_premia = []\n",
    "for period in portfolio_df.index:\n",
    "    reg_2 = OLS(\n",
    "        endog=portfolio_df.loc[period, factor_load_df.index], \n",
    "        exog=factor_load_df\n",
    "    ).fit()\n",
    "    risk_premia.append(reg_2.params)"
   ]
  },
  {
   "attachments": {},
   "cell_type": "markdown",
   "metadata": {},
   "source": [
    "### 5. Store the risk premia in a DataFrame "
   ]
  },
  {
   "cell_type": "code",
   "execution_count": 83,
   "metadata": {},
   "outputs": [
    {
     "data": {
      "text/html": [
       "<div>\n",
       "<style scoped>\n",
       "    .dataframe tbody tr th:only-of-type {\n",
       "        vertical-align: middle;\n",
       "    }\n",
       "\n",
       "    .dataframe tbody tr th {\n",
       "        vertical-align: top;\n",
       "    }\n",
       "\n",
       "    .dataframe thead th {\n",
       "        text-align: right;\n",
       "    }\n",
       "</style>\n",
       "<table border=\"1\" class=\"dataframe\">\n",
       "  <thead>\n",
       "    <tr style=\"text-align: right;\">\n",
       "      <th></th>\n",
       "      <th>Mkt-RF</th>\n",
       "      <th>SMB</th>\n",
       "      <th>HML</th>\n",
       "      <th>RMW</th>\n",
       "      <th>CMA</th>\n",
       "    </tr>\n",
       "    <tr>\n",
       "      <th>Date</th>\n",
       "      <th></th>\n",
       "      <th></th>\n",
       "      <th></th>\n",
       "      <th></th>\n",
       "      <th></th>\n",
       "    </tr>\n",
       "  </thead>\n",
       "  <tbody>\n",
       "    <tr>\n",
       "      <th>2010-01</th>\n",
       "      <td>-0.032718</td>\n",
       "      <td>0.051430</td>\n",
       "      <td>-0.023410</td>\n",
       "      <td>-0.039959</td>\n",
       "      <td>0.015858</td>\n",
       "    </tr>\n",
       "    <tr>\n",
       "      <th>2010-02</th>\n",
       "      <td>0.036721</td>\n",
       "      <td>0.021244</td>\n",
       "      <td>-0.015056</td>\n",
       "      <td>0.026525</td>\n",
       "      <td>-0.028951</td>\n",
       "    </tr>\n",
       "    <tr>\n",
       "      <th>2010-03</th>\n",
       "      <td>0.066002</td>\n",
       "      <td>-0.032164</td>\n",
       "      <td>-0.003095</td>\n",
       "      <td>-0.002901</td>\n",
       "      <td>0.000156</td>\n",
       "    </tr>\n",
       "    <tr>\n",
       "      <th>2010-04</th>\n",
       "      <td>0.019555</td>\n",
       "      <td>0.048464</td>\n",
       "      <td>0.009068</td>\n",
       "      <td>0.039828</td>\n",
       "      <td>-0.013978</td>\n",
       "    </tr>\n",
       "    <tr>\n",
       "      <th>2010-05</th>\n",
       "      <td>-0.076896</td>\n",
       "      <td>0.024534</td>\n",
       "      <td>-0.021948</td>\n",
       "      <td>0.020309</td>\n",
       "      <td>-0.013363</td>\n",
       "    </tr>\n",
       "  </tbody>\n",
       "</table>\n",
       "</div>"
      ],
      "text/plain": [
       "           Mkt-RF       SMB       HML       RMW       CMA\n",
       "Date                                                     \n",
       "2010-01 -0.032718  0.051430 -0.023410 -0.039959  0.015858\n",
       "2010-02  0.036721  0.021244 -0.015056  0.026525 -0.028951\n",
       "2010-03  0.066002 -0.032164 -0.003095 -0.002901  0.000156\n",
       "2010-04  0.019555  0.048464  0.009068  0.039828 -0.013978\n",
       "2010-05 -0.076896  0.024534 -0.021948  0.020309 -0.013363"
      ]
     },
     "execution_count": 83,
     "metadata": {},
     "output_type": "execute_result"
    }
   ],
   "source": [
    "risk_premia = pd.DataFrame(\n",
    "    risk_premia,\n",
    "    index=portfolio_df.index,\n",
    "    columns=factor_load_df.columns.to_list()\n",
    ")\n",
    "risk_premia.head()"
   ]
  },
  {
   "attachments": {},
   "cell_type": "markdown",
   "metadata": {},
   "source": [
    "### 6. Calculate the average risk premia"
   ]
  },
  {
   "cell_type": "code",
   "execution_count": 84,
   "metadata": {},
   "outputs": [
    {
     "data": {
      "text/plain": [
       "Mkt-RF    0.012344\n",
       "SMB      -0.006353\n",
       "HML      -0.008900\n",
       "RMW      -0.001041\n",
       "CMA      -0.002317\n",
       "dtype: float64"
      ]
     },
     "execution_count": 84,
     "metadata": {},
     "output_type": "execute_result"
    }
   ],
   "source": [
    "risk_premia.mean()"
   ]
  }
 ],
 "metadata": {
  "kernelspec": {
   "display_name": "finance",
   "language": "python",
   "name": "python3"
  },
  "language_info": {
   "codemirror_mode": {
    "name": "ipython",
    "version": 3
   },
   "file_extension": ".py",
   "mimetype": "text/x-python",
   "name": "python",
   "nbconvert_exporter": "python",
   "pygments_lexer": "ipython3",
   "version": "3.11.4"
  },
  "orig_nbformat": 4
 },
 "nbformat": 4,
 "nbformat_minor": 2
}
